{
  "nbformat": 4,
  "nbformat_minor": 0,
  "metadata": {
    "colab": {
      "provenance": [],
      "authorship_tag": "ABX9TyOgIPzM5zuNqmX0erKwaf5z",
      "include_colab_link": true
    },
    "kernelspec": {
      "name": "ir",
      "display_name": "R"
    },
    "language_info": {
      "name": "R"
    }
  },
  "cells": [
    {
      "cell_type": "markdown",
      "metadata": {
        "id": "view-in-github",
        "colab_type": "text"
      },
      "source": [
        "<a href=\"https://colab.research.google.com/github/yardsale8/probability_simulations_in_R/blob/main/2_6_plotting_estimated_distributions.ipynb\" target=\"_parent\"><img src=\"https://colab.research.google.com/assets/colab-badge.svg\" alt=\"Open In Colab\"/></a>"
      ]
    },
    {
      "cell_type": "code",
      "execution_count": null,
      "metadata": {
        "colab": {
          "base_uri": "https://localhost:8080/"
        },
        "id": "IpARyWPSi3ft",
        "outputId": "e8efcb19-2f70-4433-ca01-71c564655694"
      },
      "outputs": [
        {
          "output_type": "stream",
          "name": "stderr",
          "text": [
            "Downloading GitHub repo yardsale8/purrrfect@HEAD\n",
            "\n"
          ]
        },
        {
          "output_type": "stream",
          "name": "stdout",
          "text": [
            "\n",
            "\u001b[36m──\u001b[39m \u001b[36mR CMD build\u001b[39m \u001b[36m─────────────────────────────────────────────────────────────────\u001b[39m\n",
            "* checking for file ‘/tmp/Rtmpo7M3IH/remotes3246447a0227/yardsale8-purrrfect-d91fae7/DESCRIPTION’ ... OK\n",
            "* preparing ‘purrrfect’:\n",
            "* checking DESCRIPTION meta-information ... OK\n",
            "* checking for LF line-endings in source and make files and shell scripts\n",
            "* checking for empty or unneeded directories\n",
            "* building ‘purrrfect_1.0.1.tar.gz’\n",
            "\n"
          ]
        },
        {
          "output_type": "stream",
          "name": "stderr",
          "text": [
            "Installing package into ‘/usr/local/lib/R/site-library’\n",
            "(as ‘lib’ is unspecified)\n",
            "\n"
          ]
        }
      ],
      "source": [
        "library(tidyverse)\n",
        "library(devtools)\n",
        "install_github('yardsale8/purrrfect', force = TRUE)\n",
        "library(purrrfect)"
      ]
    },
    {
      "cell_type": "markdown",
      "source": [
        "# Introduction to Parametric Simulations\n",
        "\n",
        "This chapter we have been studying various discrete parametric distributions.  Sometimes we wish to explore the properties of such a distribution over a set of parameters, and in this case, we can use the `tidyverse` and `purrr` toolset to capture the results.\n",
        "\n",
        "## Outline\n",
        "\n",
        "1. Setting up the parameter space using `tribble`.\n",
        "2. Unnesting the parameters and adding trials.\n",
        "3. Mapping over the parameters using `pmap`\n",
        "4. Composing operations to save memory on large simulations.\n",
        "5. Parametric sampling."
      ],
      "metadata": {
        "id": "bERp6iQHjQhK"
      }
    },
    {
      "cell_type": "markdown",
      "source": [
        "## First Motivating Problem - One Variable Parameter\n",
        "\n",
        "<font color=\"aqua\">**Our Task.**.   </font> Suppose we wish to explore the effects of the sample size on the mean and variance of a binomial random variable when $p=0.5$.  \n",
        "\n",
        "<font color=\"aqua\">**The Problem.** </font> Our current approach would require a separate simulation/pipe for each sample size.\n",
        "\n",
        "<font color=\"aqua\">**The Solution.**</font> Store the sample sizes in our experimental notebook and use them as mapping inputs."
      ],
      "metadata": {
        "id": "2b8691h5kWnF"
      }
    },
    {
      "cell_type": "markdown",
      "source": [
        "### Three Approachs\n",
        "\n",
        "1. Store the trials in a list column, then `map` transformations/aggregations.\n",
        "2. Compose all actions from **2.** into a single `map`\n",
        "3. Stack the trials into a long table, transform, and then group and aggregate. <font size=\"1\">(covered in an upcoming notebook on plotting simulation results)</font>."
      ],
      "metadata": {
        "id": "j78v_XCDdOCA"
      }
    },
    {
      "cell_type": "markdown",
      "source": [
        "## Performing a Parametric Simulation using a List Column\n",
        "\n",
        "In this variation of the simulation, we will\n",
        "1. Store all the trials for each parameter (or combination of parameters) in a single row.\n",
        "2. Use `map` or `pmap` to process those trials."
      ],
      "metadata": {
        "id": "cSmsQGJU2gzg"
      }
    },
    {
      "cell_type": "markdown",
      "source": [
        "### Defining the parameter space using a `tribble`\n",
        "\n",
        "1. Define all the names on the first row preceeded by `~`\n",
        "2. Define the respective collections on the second row, respectively."
      ],
      "metadata": {
        "id": "LcZiv_6-JZYa"
      }
    },
    {
      "cell_type": "code",
      "source": [
        "tribble(~n,\n",
        "        c(5,10,15))"
      ],
      "metadata": {
        "colab": {
          "base_uri": "https://localhost:8080/",
          "height": 143
        },
        "id": "1zl2zbcUJdyJ",
        "outputId": "19d0477f-004f-4780-f82e-a8b4f10db6db"
      },
      "execution_count": null,
      "outputs": [
        {
          "output_type": "display_data",
          "data": {
            "text/html": [
              "<table class=\"dataframe\">\n",
              "<caption>A tibble: 1 × 1</caption>\n",
              "<thead>\n",
              "\t<tr><th scope=col>n</th></tr>\n",
              "\t<tr><th scope=col>&lt;list&gt;</th></tr>\n",
              "</thead>\n",
              "<tbody>\n",
              "\t<tr><td>5, 10, 15</td></tr>\n",
              "</tbody>\n",
              "</table>\n"
            ],
            "text/markdown": "\nA tibble: 1 × 1\n\n| n &lt;list&gt; |\n|---|\n| 5, 10, 15 |\n\n",
            "text/latex": "A tibble: 1 × 1\n\\begin{tabular}{l}\n n\\\\\n <list>\\\\\n\\hline\n\t 5, 10, 15\\\\\n\\end{tabular}\n",
            "text/plain": [
              "  n        \n",
              "1 5, 10, 15"
            ]
          },
          "metadata": {}
        }
      ]
    },
    {
      "cell_type": "markdown",
      "source": [
        "### The \"shape\" of a parametric simulation using a list column.\n",
        "\n",
        "1. Set up the parameter space using a `tribble`.\n",
        "2. Unnest the parameter(s) of interest.\n",
        "3. Use `map` or `pmap` to generate a list column of trials.\n",
        "4. Use `map` or `pmap` to transform/summarize.\n",
        "5. Drop the outcome column."
      ],
      "metadata": {
        "id": "Rfm2oGDueBMC"
      }
    },
    {
      "cell_type": "code",
      "source": [
        "# Unnested parameters\n",
        "(tribble(~n,\n",
        "         c(5,10,15))\n",
        " %>% unnest_longer(n)\n",
        " )"
      ],
      "metadata": {
        "colab": {
          "base_uri": "https://localhost:8080/",
          "height": 204
        },
        "id": "PggSN76_enXC",
        "outputId": "a3e54784-218a-4791-d5a4-f29ac96d36cc"
      },
      "execution_count": null,
      "outputs": [
        {
          "output_type": "display_data",
          "data": {
            "text/html": [
              "<table class=\"dataframe\">\n",
              "<caption>A tibble: 3 × 1</caption>\n",
              "<thead>\n",
              "\t<tr><th scope=col>n</th></tr>\n",
              "\t<tr><th scope=col>&lt;dbl&gt;</th></tr>\n",
              "</thead>\n",
              "<tbody>\n",
              "\t<tr><td> 5</td></tr>\n",
              "\t<tr><td>10</td></tr>\n",
              "\t<tr><td>15</td></tr>\n",
              "</tbody>\n",
              "</table>\n"
            ],
            "text/markdown": "\nA tibble: 3 × 1\n\n| n &lt;dbl&gt; |\n|---|\n|  5 |\n| 10 |\n| 15 |\n\n",
            "text/latex": "A tibble: 3 × 1\n\\begin{tabular}{l}\n n\\\\\n <dbl>\\\\\n\\hline\n\t  5\\\\\n\t 10\\\\\n\t 15\\\\\n\\end{tabular}\n",
            "text/plain": [
              "  n \n",
              "1  5\n",
              "2 10\n",
              "3 15"
            ]
          },
          "metadata": {}
        }
      ]
    },
    {
      "cell_type": "code",
      "source": [
        "# Use map to generate trials\n",
        "p <- 0.5\n",
        "num.trials <- 10\n",
        "(tribble(~n,\n",
        "         c(5,10,15))\n",
        " %>% unnest_longer(n)\n",
        " %>% mutate(.outcome = map(n, \\(n) rbinom(num.trials, n, p)),\n",
        "           )\n",
        " )"
      ],
      "metadata": {
        "colab": {
          "base_uri": "https://localhost:8080/",
          "height": 187
        },
        "id": "Ip6IeJT_o__h",
        "outputId": "5eb8baef-1375-42d7-9259-3884916a3d48"
      },
      "execution_count": null,
      "outputs": [
        {
          "output_type": "display_data",
          "data": {
            "text/html": [
              "<table class=\"dataframe\">\n",
              "<caption>A tibble: 3 × 2</caption>\n",
              "<thead>\n",
              "\t<tr><th scope=col>n</th><th scope=col>.outcome</th></tr>\n",
              "\t<tr><th scope=col>&lt;dbl&gt;</th><th scope=col>&lt;list&gt;</th></tr>\n",
              "</thead>\n",
              "<tbody>\n",
              "\t<tr><td> 5</td><td>3, 2, 3, 2, 2, 3, 2, 2, 3, 3</td></tr>\n",
              "\t<tr><td>10</td><td>6, 4, 5, 4, 2, 6, 5, 7, 5, 5</td></tr>\n",
              "\t<tr><td>15</td><td>4, 7, 8, 9, 7, 10, 8, 9, 6, 4</td></tr>\n",
              "</tbody>\n",
              "</table>\n"
            ],
            "text/markdown": "\nA tibble: 3 × 2\n\n| n &lt;dbl&gt; | .outcome &lt;list&gt; |\n|---|---|\n|  5 | 3, 2, 3, 2, 2, 3, 2, 2, 3, 3 |\n| 10 | 6, 4, 5, 4, 2, 6, 5, 7, 5, 5 |\n| 15 | 4, 7, 8, 9, 7, 10, 8, 9, 6, 4 |\n\n",
            "text/latex": "A tibble: 3 × 2\n\\begin{tabular}{ll}\n n & .outcome\\\\\n <dbl> & <list>\\\\\n\\hline\n\t  5 & 3, 2, 3, 2, 2, 3, 2, 2, 3, 3\\\\\n\t 10 & 6, 4, 5, 4, 2, 6, 5, 7, 5, 5\\\\\n\t 15 & 4, 7, 8, 9, 7, 10, 8, 9, 6, 4\\\\\n\\end{tabular}\n",
            "text/plain": [
              "  n  .outcome                     \n",
              "1  5 3, 2, 3, 2, 2, 3, 2, 2, 3, 3 \n",
              "2 10 6, 4, 5, 4, 2, 6, 5, 7, 5, 5 \n",
              "3 15 4, 7, 8, 9, 7, 10, 8, 9, 6, 4"
            ]
          },
          "metadata": {}
        }
      ]
    },
    {
      "cell_type": "code",
      "source": [
        "# Transform/summarize\n",
        "p <- 0.5\n",
        "num.trials <- 10\n",
        "(tribble(~n,\n",
        "         c(5,10,15))\n",
        " %>% unnest_longer(n)\n",
        " %>% mutate(.outcome = map(n, \\(n) rbinom(num.trials, n, p)),\n",
        "            approx.mu = map_dbl(.outcome, mean),\n",
        "            exact.mu = n*p\n",
        "           )\n",
        " )"
      ],
      "metadata": {
        "colab": {
          "base_uri": "https://localhost:8080/",
          "height": 187
        },
        "id": "2X2WuhGaX8d7",
        "outputId": "4c96296b-8668-4f76-d656-a6e87f7fdaa1"
      },
      "execution_count": null,
      "outputs": [
        {
          "output_type": "display_data",
          "data": {
            "text/html": [
              "<table class=\"dataframe\">\n",
              "<caption>A tibble: 3 × 4</caption>\n",
              "<thead>\n",
              "\t<tr><th scope=col>n</th><th scope=col>.outcome</th><th scope=col>approx.mu</th><th scope=col>exact.mu</th></tr>\n",
              "\t<tr><th scope=col>&lt;dbl&gt;</th><th scope=col>&lt;list&gt;</th><th scope=col>&lt;dbl&gt;</th><th scope=col>&lt;dbl&gt;</th></tr>\n",
              "</thead>\n",
              "<tbody>\n",
              "\t<tr><td> 5</td><td>1, 4, 3, 1, 4, 4, 2, 2, 2, 1</td><td>2.4</td><td>2.5</td></tr>\n",
              "\t<tr><td>10</td><td>4, 7, 4, 5, 6, 5, 5, 2, 5, 4</td><td>4.7</td><td>5.0</td></tr>\n",
              "\t<tr><td>15</td><td>3, 6, 7, 6, 5, 6, 7, 6, 5, 12</td><td>6.3</td><td>7.5</td></tr>\n",
              "</tbody>\n",
              "</table>\n"
            ],
            "text/markdown": "\nA tibble: 3 × 4\n\n| n &lt;dbl&gt; | .outcome &lt;list&gt; | approx.mu &lt;dbl&gt; | exact.mu &lt;dbl&gt; |\n|---|---|---|---|\n|  5 | 1, 4, 3, 1, 4, 4, 2, 2, 2, 1 | 2.4 | 2.5 |\n| 10 | 4, 7, 4, 5, 6, 5, 5, 2, 5, 4 | 4.7 | 5.0 |\n| 15 | 3, 6, 7, 6, 5, 6, 7, 6, 5, 12 | 6.3 | 7.5 |\n\n",
            "text/latex": "A tibble: 3 × 4\n\\begin{tabular}{llll}\n n & .outcome & approx.mu & exact.mu\\\\\n <dbl> & <list> & <dbl> & <dbl>\\\\\n\\hline\n\t  5 & 1, 4, 3, 1, 4, 4, 2, 2, 2, 1 & 2.4 & 2.5\\\\\n\t 10 & 4, 7, 4, 5, 6, 5, 5, 2, 5, 4 & 4.7 & 5.0\\\\\n\t 15 & 3, 6, 7, 6, 5, 6, 7, 6, 5, 12 & 6.3 & 7.5\\\\\n\\end{tabular}\n",
            "text/plain": [
              "  n  .outcome                      approx.mu exact.mu\n",
              "1  5 1, 4, 3, 1, 4, 4, 2, 2, 2, 1  2.4       2.5     \n",
              "2 10 4, 7, 4, 5, 6, 5, 5, 2, 5, 4  4.7       5.0     \n",
              "3 15 3, 6, 7, 6, 5, 6, 7, 6, 5, 12 6.3       7.5     "
            ]
          },
          "metadata": {}
        }
      ]
    },
    {
      "cell_type": "code",
      "source": [
        "# Drop outcomes\n",
        "p <- 0.5\n",
        "num.trials <- 10\n",
        "(tribble(~n,\n",
        "         c(5,10,15))\n",
        " %>% unnest_longer(n)\n",
        " %>% mutate(.outcome = map(n, \\(n) rbinom(num.trials, n, 0.5)),\n",
        "            approx.mu = map_dbl(.outcome, mean),\n",
        "            exact.mu = n*p\n",
        "           )\n",
        " %>% select(-.outcome)\n",
        " )"
      ],
      "metadata": {
        "colab": {
          "base_uri": "https://localhost:8080/",
          "height": 187
        },
        "id": "eK5mSqPFe63G",
        "outputId": "b7b54397-ab23-446c-d008-552862539066"
      },
      "execution_count": null,
      "outputs": [
        {
          "output_type": "display_data",
          "data": {
            "text/html": [
              "<table class=\"dataframe\">\n",
              "<caption>A tibble: 3 × 3</caption>\n",
              "<thead>\n",
              "\t<tr><th scope=col>n</th><th scope=col>approx.mu</th><th scope=col>exact.mu</th></tr>\n",
              "\t<tr><th scope=col>&lt;dbl&gt;</th><th scope=col>&lt;dbl&gt;</th><th scope=col>&lt;dbl&gt;</th></tr>\n",
              "</thead>\n",
              "<tbody>\n",
              "\t<tr><td> 5</td><td>2.5</td><td>2.5</td></tr>\n",
              "\t<tr><td>10</td><td>5.4</td><td>5.0</td></tr>\n",
              "\t<tr><td>15</td><td>7.1</td><td>7.5</td></tr>\n",
              "</tbody>\n",
              "</table>\n"
            ],
            "text/markdown": "\nA tibble: 3 × 3\n\n| n &lt;dbl&gt; | approx.mu &lt;dbl&gt; | exact.mu &lt;dbl&gt; |\n|---|---|---|\n|  5 | 2.5 | 2.5 |\n| 10 | 5.4 | 5.0 |\n| 15 | 7.1 | 7.5 |\n\n",
            "text/latex": "A tibble: 3 × 3\n\\begin{tabular}{lll}\n n & approx.mu & exact.mu\\\\\n <dbl> & <dbl> & <dbl>\\\\\n\\hline\n\t  5 & 2.5 & 2.5\\\\\n\t 10 & 5.4 & 5.0\\\\\n\t 15 & 7.1 & 7.5\\\\\n\\end{tabular}\n",
            "text/plain": [
              "  n  approx.mu exact.mu\n",
              "1  5 2.5       2.5     \n",
              "2 10 5.4       5.0     \n",
              "3 15 7.1       7.5     "
            ]
          },
          "metadata": {}
        }
      ]
    },
    {
      "cell_type": "code",
      "source": [
        "# Good estimate by bumping the num.trials\n",
        "p <- 0.5\n",
        "num.trials <- 100000\n",
        "(tribble(~n,\n",
        "         c(5,10,15))\n",
        " %>% unnest_longer(n)\n",
        " %>% mutate(.outcome = map(n, \\(n) rbinom(num.trials, n, 0.5)),\n",
        "            approx.mu = map_dbl(.outcome, mean),\n",
        "            exact.mu = n*p\n",
        "           )\n",
        " %>% select(-.outcome)\n",
        " )"
      ],
      "metadata": {
        "colab": {
          "base_uri": "https://localhost:8080/",
          "height": 187
        },
        "id": "L4pfXFp83AXA",
        "outputId": "ee023e33-fabb-4392-dfd7-4fb14493098e"
      },
      "execution_count": null,
      "outputs": [
        {
          "output_type": "display_data",
          "data": {
            "text/html": [
              "<table class=\"dataframe\">\n",
              "<caption>A tibble: 3 × 3</caption>\n",
              "<thead>\n",
              "\t<tr><th scope=col>n</th><th scope=col>approx.mu</th><th scope=col>exact.mu</th></tr>\n",
              "\t<tr><th scope=col>&lt;dbl&gt;</th><th scope=col>&lt;dbl&gt;</th><th scope=col>&lt;dbl&gt;</th></tr>\n",
              "</thead>\n",
              "<tbody>\n",
              "\t<tr><td> 5</td><td>2.50560</td><td>2.5</td></tr>\n",
              "\t<tr><td>10</td><td>5.01159</td><td>5.0</td></tr>\n",
              "\t<tr><td>15</td><td>7.49294</td><td>7.5</td></tr>\n",
              "</tbody>\n",
              "</table>\n"
            ],
            "text/markdown": "\nA tibble: 3 × 3\n\n| n &lt;dbl&gt; | approx.mu &lt;dbl&gt; | exact.mu &lt;dbl&gt; |\n|---|---|---|\n|  5 | 2.50560 | 2.5 |\n| 10 | 5.01159 | 5.0 |\n| 15 | 7.49294 | 7.5 |\n\n",
            "text/latex": "A tibble: 3 × 3\n\\begin{tabular}{lll}\n n & approx.mu & exact.mu\\\\\n <dbl> & <dbl> & <dbl>\\\\\n\\hline\n\t  5 & 2.50560 & 2.5\\\\\n\t 10 & 5.01159 & 5.0\\\\\n\t 15 & 7.49294 & 7.5\\\\\n\\end{tabular}\n",
            "text/plain": [
              "  n  approx.mu exact.mu\n",
              "1  5 2.50560   2.5     \n",
              "2 10 5.01159   5.0     \n",
              "3 15 7.49294   7.5     "
            ]
          },
          "metadata": {}
        }
      ]
    },
    {
      "cell_type": "markdown",
      "source": [
        "### The Advantage to using a list column of outcomes\n",
        "\n",
        "The advantage of storing the trials in a list column is\n",
        "1. All the information is self-contained and apparent, and\n",
        "2. Makes it easier to verify your code and debug."
      ],
      "metadata": {
        "id": "7l369rPIzyEg"
      }
    },
    {
      "cell_type": "code",
      "source": [
        "# Transform/summarize\n",
        "p <- 0.5\n",
        "num.trials <- 10\n",
        "(tribble(~n,\n",
        "         c(5,10,15))\n",
        " %>% unnest_longer(n)\n",
        " %>% mutate(.outcome = map(n, \\(n) rbinom(num.trials, n, 0.5)), # Easy to\n",
        "            approx.mu = map_dbl(.outcome, mean),                # verify\n",
        "            exact.mu = n*p                                      # correctness\n",
        "           )\n",
        " )"
      ],
      "metadata": {
        "colab": {
          "base_uri": "https://localhost:8080/",
          "height": 187
        },
        "id": "vMmwFq8XKI_6",
        "outputId": "024ed3d4-8b5f-4233-ebb8-0e7335e33077"
      },
      "execution_count": null,
      "outputs": [
        {
          "output_type": "display_data",
          "data": {
            "text/html": [
              "<table class=\"dataframe\">\n",
              "<caption>A tibble: 3 × 4</caption>\n",
              "<thead>\n",
              "\t<tr><th scope=col>n</th><th scope=col>.outcome</th><th scope=col>approx.mu</th><th scope=col>exact.mu</th></tr>\n",
              "\t<tr><th scope=col>&lt;dbl&gt;</th><th scope=col>&lt;list&gt;</th><th scope=col>&lt;dbl&gt;</th><th scope=col>&lt;dbl&gt;</th></tr>\n",
              "</thead>\n",
              "<tbody>\n",
              "\t<tr><td> 5</td><td>2, 2, 5, 2, 4, 2, 3, 1, 3, 4</td><td>2.8</td><td>2.5</td></tr>\n",
              "\t<tr><td>10</td><td>8, 3, 4, 1, 5, 5, 4, 5, 6, 5</td><td>4.6</td><td>5.0</td></tr>\n",
              "\t<tr><td>15</td><td>9, 10, 6, 8, 7, 7, 7, 8, 11, 5</td><td>7.8</td><td>7.5</td></tr>\n",
              "</tbody>\n",
              "</table>\n"
            ],
            "text/markdown": "\nA tibble: 3 × 4\n\n| n &lt;dbl&gt; | .outcome &lt;list&gt; | approx.mu &lt;dbl&gt; | exact.mu &lt;dbl&gt; |\n|---|---|---|---|\n|  5 | 2, 2, 5, 2, 4, 2, 3, 1, 3, 4 | 2.8 | 2.5 |\n| 10 | 8, 3, 4, 1, 5, 5, 4, 5, 6, 5 | 4.6 | 5.0 |\n| 15 | 9, 10, 6, 8, 7, 7, 7, 8, 11, 5 | 7.8 | 7.5 |\n\n",
            "text/latex": "A tibble: 3 × 4\n\\begin{tabular}{llll}\n n & .outcome & approx.mu & exact.mu\\\\\n <dbl> & <list> & <dbl> & <dbl>\\\\\n\\hline\n\t  5 & 2, 2, 5, 2, 4, 2, 3, 1, 3, 4 & 2.8 & 2.5\\\\\n\t 10 & 8, 3, 4, 1, 5, 5, 4, 5, 6, 5 & 4.6 & 5.0\\\\\n\t 15 & 9, 10, 6, 8, 7, 7, 7, 8, 11, 5 & 7.8 & 7.5\\\\\n\\end{tabular}\n",
            "text/plain": [
              "  n  .outcome                       approx.mu exact.mu\n",
              "1  5 2, 2, 5, 2, 4, 2, 3, 1, 3, 4   2.8       2.5     \n",
              "2 10 8, 3, 4, 1, 5, 5, 4, 5, 6, 5   4.6       5.0     \n",
              "3 15 9, 10, 6, 8, 7, 7, 7, 8, 11, 5 7.8       7.5     "
            ]
          },
          "metadata": {}
        }
      ]
    },
    {
      "cell_type": "markdown",
      "source": [
        "### Two Problems with using a list column of outcomes\n",
        "\n",
        "Two problems with storing outcomes in a list column are\n",
        "\n",
        "#### 1. Displaying more than a few trials is a mess"
      ],
      "metadata": {
        "id": "pdhY8L_LfDDF"
      }
    },
    {
      "cell_type": "code",
      "source": [
        "# Slightly Better estimates\n",
        "num.trials <- 100\n",
        "(tribble(~n,\n",
        "         c(5,10,15))\n",
        " %>% unnest_longer(n)\n",
        " %>% mutate(.outcome = map(n, \\(n) rbinom(num.trials, n, 0.5)), # Yuck! So long!\n",
        "            approx.mu = map_dbl(.outcome, mean),\n",
        "            exact.mu = n*p\n",
        "           )\n",
        " )"
      ],
      "metadata": {
        "id": "1eH3GQ8To0CO",
        "colab": {
          "base_uri": "https://localhost:8080/",
          "height": 237
        },
        "outputId": "844664bd-7fc3-4344-aff3-677cbe063366"
      },
      "execution_count": null,
      "outputs": [
        {
          "output_type": "display_data",
          "data": {
            "text/html": [
              "<table class=\"dataframe\">\n",
              "<caption>A tibble: 3 × 4</caption>\n",
              "<thead>\n",
              "\t<tr><th scope=col>n</th><th scope=col>.outcome</th><th scope=col>approx.mu</th><th scope=col>exact.mu</th></tr>\n",
              "\t<tr><th scope=col>&lt;dbl&gt;</th><th scope=col>&lt;list&gt;</th><th scope=col>&lt;dbl&gt;</th><th scope=col>&lt;dbl&gt;</th></tr>\n",
              "</thead>\n",
              "<tbody>\n",
              "\t<tr><td> 5</td><td>2, 4, 2, 2, 3, 2, 3, 2, 2, 2, 3, 2, 3, 3, 4, 3, 3, 3, 0, 3, 3, 2, 2, 4, 2, 3, 3, 3, 3, 3, 3, 1, 4, 3, 1, 0, 2, 3, 4, 1, 3, 2, 2, 3, 2, 1, 1, 4, 2, 2, 2, 1, 3, 1, 2, 2, 3, 3, 3, 1, 4, 2, 3, 2, 4, 2, 2, 2, 3, 3, 3, 3, 2, 4, 3, 0, 3, 3, 3, 3, 2, 1, 1, 2, 2, 2, 4, 4, 4, 1, 5, 3, 2, 4, 1, 1, 2, 1, 3, 3</td><td>2.46</td><td>2.5</td></tr>\n",
              "\t<tr><td>10</td><td>5, 2, 6, 6, 6, 6, 4, 3, 4, 7, 6, 5, 5, 5, 7, 2, 7, 5, 6, 7, 7, 6, 5, 4, 7, 7, 4, 6, 6, 4, 4, 8, 4, 5, 5, 5, 1, 6, 5, 2, 2, 3, 3, 6, 4, 7, 5, 4, 5, 3, 4, 4, 6, 5, 4, 4, 7, 3, 4, 2, 5, 6, 5, 6, 5, 3, 5, 6, 6, 7, 6, 5, 6, 8, 4, 6, 4, 4, 5, 5, 5, 4, 7, 5, 8, 4, 5, 6, 7, 6, 5, 7, 4, 5, 8, 5, 6, 7, 3, 6</td><td>5.10</td><td>5.0</td></tr>\n",
              "\t<tr><td>15</td><td>7, 9, 7, 8, 8, 6, 9, 4, 10, 6, 8, 5, 5, 8, 5, 6, 7, 9, 8, 7, 9, 8, 5, 9, 7, 9, 7, 8, 8, 8, 7, 9, 6, 6, 9, 10, 4, 5, 7, 7, 7, 4, 8, 8, 9, 5, 5, 4, 7, 11, 9, 6, 9, 4, 9, 10, 5, 7, 9, 7, 5, 5, 7, 9, 7, 6, 11, 10, 11, 8, 4, 8, 7, 6, 5, 4, 11, 5, 7, 5, 9, 5, 7, 8, 7, 7, 7, 7, 8, 9, 6, 5, 9, 6, 8, 6, 9, 10, 9, 7</td><td>7.23</td><td>7.5</td></tr>\n",
              "</tbody>\n",
              "</table>\n"
            ],
            "text/markdown": "\nA tibble: 3 × 4\n\n| n &lt;dbl&gt; | .outcome &lt;list&gt; | approx.mu &lt;dbl&gt; | exact.mu &lt;dbl&gt; |\n|---|---|---|---|\n|  5 | 2, 4, 2, 2, 3, 2, 3, 2, 2, 2, 3, 2, 3, 3, 4, 3, 3, 3, 0, 3, 3, 2, 2, 4, 2, 3, 3, 3, 3, 3, 3, 1, 4, 3, 1, 0, 2, 3, 4, 1, 3, 2, 2, 3, 2, 1, 1, 4, 2, 2, 2, 1, 3, 1, 2, 2, 3, 3, 3, 1, 4, 2, 3, 2, 4, 2, 2, 2, 3, 3, 3, 3, 2, 4, 3, 0, 3, 3, 3, 3, 2, 1, 1, 2, 2, 2, 4, 4, 4, 1, 5, 3, 2, 4, 1, 1, 2, 1, 3, 3 | 2.46 | 2.5 |\n| 10 | 5, 2, 6, 6, 6, 6, 4, 3, 4, 7, 6, 5, 5, 5, 7, 2, 7, 5, 6, 7, 7, 6, 5, 4, 7, 7, 4, 6, 6, 4, 4, 8, 4, 5, 5, 5, 1, 6, 5, 2, 2, 3, 3, 6, 4, 7, 5, 4, 5, 3, 4, 4, 6, 5, 4, 4, 7, 3, 4, 2, 5, 6, 5, 6, 5, 3, 5, 6, 6, 7, 6, 5, 6, 8, 4, 6, 4, 4, 5, 5, 5, 4, 7, 5, 8, 4, 5, 6, 7, 6, 5, 7, 4, 5, 8, 5, 6, 7, 3, 6 | 5.10 | 5.0 |\n| 15 | 7, 9, 7, 8, 8, 6, 9, 4, 10, 6, 8, 5, 5, 8, 5, 6, 7, 9, 8, 7, 9, 8, 5, 9, 7, 9, 7, 8, 8, 8, 7, 9, 6, 6, 9, 10, 4, 5, 7, 7, 7, 4, 8, 8, 9, 5, 5, 4, 7, 11, 9, 6, 9, 4, 9, 10, 5, 7, 9, 7, 5, 5, 7, 9, 7, 6, 11, 10, 11, 8, 4, 8, 7, 6, 5, 4, 11, 5, 7, 5, 9, 5, 7, 8, 7, 7, 7, 7, 8, 9, 6, 5, 9, 6, 8, 6, 9, 10, 9, 7 | 7.23 | 7.5 |\n\n",
            "text/latex": "A tibble: 3 × 4\n\\begin{tabular}{llll}\n n & .outcome & approx.mu & exact.mu\\\\\n <dbl> & <list> & <dbl> & <dbl>\\\\\n\\hline\n\t  5 & 2, 4, 2, 2, 3, 2, 3, 2, 2, 2, 3, 2, 3, 3, 4, 3, 3, 3, 0, 3, 3, 2, 2, 4, 2, 3, 3, 3, 3, 3, 3, 1, 4, 3, 1, 0, 2, 3, 4, 1, 3, 2, 2, 3, 2, 1, 1, 4, 2, 2, 2, 1, 3, 1, 2, 2, 3, 3, 3, 1, 4, 2, 3, 2, 4, 2, 2, 2, 3, 3, 3, 3, 2, 4, 3, 0, 3, 3, 3, 3, 2, 1, 1, 2, 2, 2, 4, 4, 4, 1, 5, 3, 2, 4, 1, 1, 2, 1, 3, 3 & 2.46 & 2.5\\\\\n\t 10 & 5, 2, 6, 6, 6, 6, 4, 3, 4, 7, 6, 5, 5, 5, 7, 2, 7, 5, 6, 7, 7, 6, 5, 4, 7, 7, 4, 6, 6, 4, 4, 8, 4, 5, 5, 5, 1, 6, 5, 2, 2, 3, 3, 6, 4, 7, 5, 4, 5, 3, 4, 4, 6, 5, 4, 4, 7, 3, 4, 2, 5, 6, 5, 6, 5, 3, 5, 6, 6, 7, 6, 5, 6, 8, 4, 6, 4, 4, 5, 5, 5, 4, 7, 5, 8, 4, 5, 6, 7, 6, 5, 7, 4, 5, 8, 5, 6, 7, 3, 6 & 5.10 & 5.0\\\\\n\t 15 & 7, 9, 7, 8, 8, 6, 9, 4, 10, 6, 8, 5, 5, 8, 5, 6, 7, 9, 8, 7, 9, 8, 5, 9, 7, 9, 7, 8, 8, 8, 7, 9, 6, 6, 9, 10, 4, 5, 7, 7, 7, 4, 8, 8, 9, 5, 5, 4, 7, 11, 9, 6, 9, 4, 9, 10, 5, 7, 9, 7, 5, 5, 7, 9, 7, 6, 11, 10, 11, 8, 4, 8, 7, 6, 5, 4, 11, 5, 7, 5, 9, 5, 7, 8, 7, 7, 7, 7, 8, 9, 6, 5, 9, 6, 8, 6, 9, 10, 9, 7 & 7.23 & 7.5\\\\\n\\end{tabular}\n",
            "text/plain": [
              "  n \n",
              "1  5\n",
              "2 10\n",
              "3 15\n",
              "  .outcome                                                                                                                                                                                                                                                                                                           \n",
              "1 2, 4, 2, 2, 3, 2, 3, 2, 2, 2, 3, 2, 3, 3, 4, 3, 3, 3, 0, 3, 3, 2, 2, 4, 2, 3, 3, 3, 3, 3, 3, 1, 4, 3, 1, 0, 2, 3, 4, 1, 3, 2, 2, 3, 2, 1, 1, 4, 2, 2, 2, 1, 3, 1, 2, 2, 3, 3, 3, 1, 4, 2, 3, 2, 4, 2, 2, 2, 3, 3, 3, 3, 2, 4, 3, 0, 3, 3, 3, 3, 2, 1, 1, 2, 2, 2, 4, 4, 4, 1, 5, 3, 2, 4, 1, 1, 2, 1, 3, 3         \n",
              "2 5, 2, 6, 6, 6, 6, 4, 3, 4, 7, 6, 5, 5, 5, 7, 2, 7, 5, 6, 7, 7, 6, 5, 4, 7, 7, 4, 6, 6, 4, 4, 8, 4, 5, 5, 5, 1, 6, 5, 2, 2, 3, 3, 6, 4, 7, 5, 4, 5, 3, 4, 4, 6, 5, 4, 4, 7, 3, 4, 2, 5, 6, 5, 6, 5, 3, 5, 6, 6, 7, 6, 5, 6, 8, 4, 6, 4, 4, 5, 5, 5, 4, 7, 5, 8, 4, 5, 6, 7, 6, 5, 7, 4, 5, 8, 5, 6, 7, 3, 6         \n",
              "3 7, 9, 7, 8, 8, 6, 9, 4, 10, 6, 8, 5, 5, 8, 5, 6, 7, 9, 8, 7, 9, 8, 5, 9, 7, 9, 7, 8, 8, 8, 7, 9, 6, 6, 9, 10, 4, 5, 7, 7, 7, 4, 8, 8, 9, 5, 5, 4, 7, 11, 9, 6, 9, 4, 9, 10, 5, 7, 9, 7, 5, 5, 7, 9, 7, 6, 11, 10, 11, 8, 4, 8, 7, 6, 5, 4, 11, 5, 7, 5, 9, 5, 7, 8, 7, 7, 7, 7, 8, 9, 6, 5, 9, 6, 8, 6, 9, 10, 9, 7\n",
              "  approx.mu exact.mu\n",
              "1 2.46      2.5     \n",
              "2 5.10      5.0     \n",
              "3 7.23      7.5     "
            ]
          },
          "metadata": {}
        }
      ]
    },
    {
      "cell_type": "markdown",
      "source": [
        "#### 2. We are storing a *lot* of data during most intermediate steps."
      ],
      "metadata": {
        "id": "qaojFMGCfahw"
      }
    },
    {
      "cell_type": "code",
      "source": [
        "# Drop outcomes\n",
        "num.trials <- 100000 # Start adding zeros and see what happens\n",
        "(tribble(~n,\n",
        "         c(5,10,15))\n",
        " %>% unnest_longer(n)\n",
        " %>% mutate(.outcome = map(n, \\(n) rbinom(num.trials, n, 0.5)), # <== Lots of data/memory used\n",
        "            approx.mu = map_dbl(.outcome, mean),\n",
        "            exact.mu = n*p\n",
        "           )\n",
        " %>% select(-.outcome)\n",
        " )"
      ],
      "metadata": {
        "colab": {
          "base_uri": "https://localhost:8080/",
          "height": 187
        },
        "id": "xqF_BxSGfib-",
        "outputId": "dbcbce68-932a-41a1-bf83-a6c1fbc34408"
      },
      "execution_count": null,
      "outputs": [
        {
          "output_type": "display_data",
          "data": {
            "text/html": [
              "<table class=\"dataframe\">\n",
              "<caption>A tibble: 3 × 3</caption>\n",
              "<thead>\n",
              "\t<tr><th scope=col>n</th><th scope=col>approx.mu</th><th scope=col>exact.mu</th></tr>\n",
              "\t<tr><th scope=col>&lt;dbl&gt;</th><th scope=col>&lt;dbl&gt;</th><th scope=col>&lt;dbl&gt;</th></tr>\n",
              "</thead>\n",
              "<tbody>\n",
              "\t<tr><td> 5</td><td>2.50311</td><td>2.5</td></tr>\n",
              "\t<tr><td>10</td><td>4.99170</td><td>5.0</td></tr>\n",
              "\t<tr><td>15</td><td>7.49737</td><td>7.5</td></tr>\n",
              "</tbody>\n",
              "</table>\n"
            ],
            "text/markdown": "\nA tibble: 3 × 3\n\n| n &lt;dbl&gt; | approx.mu &lt;dbl&gt; | exact.mu &lt;dbl&gt; |\n|---|---|---|\n|  5 | 2.50311 | 2.5 |\n| 10 | 4.99170 | 5.0 |\n| 15 | 7.49737 | 7.5 |\n\n",
            "text/latex": "A tibble: 3 × 3\n\\begin{tabular}{lll}\n n & approx.mu & exact.mu\\\\\n <dbl> & <dbl> & <dbl>\\\\\n\\hline\n\t  5 & 2.50311 & 2.5\\\\\n\t 10 & 4.99170 & 5.0\\\\\n\t 15 & 7.49737 & 7.5\\\\\n\\end{tabular}\n",
            "text/plain": [
              "  n  approx.mu exact.mu\n",
              "1  5 2.50311   2.5     \n",
              "2 10 4.99170   5.0     \n",
              "3 15 7.49737   7.5     "
            ]
          },
          "metadata": {}
        }
      ]
    },
    {
      "cell_type": "markdown",
      "source": [
        "### The Solution\n",
        "\n",
        "The solution is to\n",
        "\n",
        "1. Prototype the code using a separate list column of outcomes,\n",
        "2. Verify the correctness of your code, then\n",
        "2. Compose the steps into a single function"
      ],
      "metadata": {
        "id": "PPp2luczfwFs"
      }
    },
    {
      "cell_type": "markdown",
      "source": [
        "## The \"shape\" of a composed parametric simulation\n",
        "\n",
        "1. Set up the parameter space using a `tribble`.\n",
        "2. Unnest the parameter(s) of interest.\n",
        "3. Use one `map` or `pmap` to perform the entire process, usually by piping each intermediate result into the next function."
      ],
      "metadata": {
        "id": "8xITik_m1KY_"
      }
    },
    {
      "cell_type": "code",
      "source": [
        "# First prototype WITH the outcome column\n",
        "p <- 0.5\n",
        "num.trials <- 10\n",
        "(tribble(~n,\n",
        "         c(5,10,15))\n",
        " %>% unnest_longer(n)\n",
        " %>% mutate(.outcome = map(n, \\(n) rbinom(num.trials, n, 0.5)), # Easy to\n",
        "            approx.mu = map_dbl(.outcome, mean),                # verify\n",
        "            exact.mu = n*p                                      # correctness\n",
        "           )\n",
        " )"
      ],
      "metadata": {
        "colab": {
          "base_uri": "https://localhost:8080/",
          "height": 187
        },
        "id": "yC7TOR5yKeWH",
        "outputId": "95511634-23de-446d-e154-9eb30fbc6514"
      },
      "execution_count": null,
      "outputs": [
        {
          "output_type": "display_data",
          "data": {
            "text/html": [
              "<table class=\"dataframe\">\n",
              "<caption>A tibble: 3 × 4</caption>\n",
              "<thead>\n",
              "\t<tr><th scope=col>n</th><th scope=col>.outcome</th><th scope=col>approx.mu</th><th scope=col>exact.mu</th></tr>\n",
              "\t<tr><th scope=col>&lt;dbl&gt;</th><th scope=col>&lt;list&gt;</th><th scope=col>&lt;dbl&gt;</th><th scope=col>&lt;dbl&gt;</th></tr>\n",
              "</thead>\n",
              "<tbody>\n",
              "\t<tr><td> 5</td><td>2, 1, 3, 2, 2, 2, 3, 3, 3, 3</td><td>2.4</td><td>2.5</td></tr>\n",
              "\t<tr><td>10</td><td>6, 6, 7, 5, 4, 8, 3, 6, 5, 7</td><td>5.7</td><td>5.0</td></tr>\n",
              "\t<tr><td>15</td><td>8, 9, 7, 9, 6, 10, 9, 7, 8, 6</td><td>7.9</td><td>7.5</td></tr>\n",
              "</tbody>\n",
              "</table>\n"
            ],
            "text/markdown": "\nA tibble: 3 × 4\n\n| n &lt;dbl&gt; | .outcome &lt;list&gt; | approx.mu &lt;dbl&gt; | exact.mu &lt;dbl&gt; |\n|---|---|---|---|\n|  5 | 2, 1, 3, 2, 2, 2, 3, 3, 3, 3 | 2.4 | 2.5 |\n| 10 | 6, 6, 7, 5, 4, 8, 3, 6, 5, 7 | 5.7 | 5.0 |\n| 15 | 8, 9, 7, 9, 6, 10, 9, 7, 8, 6 | 7.9 | 7.5 |\n\n",
            "text/latex": "A tibble: 3 × 4\n\\begin{tabular}{llll}\n n & .outcome & approx.mu & exact.mu\\\\\n <dbl> & <list> & <dbl> & <dbl>\\\\\n\\hline\n\t  5 & 2, 1, 3, 2, 2, 2, 3, 3, 3, 3 & 2.4 & 2.5\\\\\n\t 10 & 6, 6, 7, 5, 4, 8, 3, 6, 5, 7 & 5.7 & 5.0\\\\\n\t 15 & 8, 9, 7, 9, 6, 10, 9, 7, 8, 6 & 7.9 & 7.5\\\\\n\\end{tabular}\n",
            "text/plain": [
              "  n  .outcome                      approx.mu exact.mu\n",
              "1  5 2, 1, 3, 2, 2, 2, 3, 3, 3, 3  2.4       2.5     \n",
              "2 10 6, 6, 7, 5, 4, 8, 3, 6, 5, 7  5.7       5.0     \n",
              "3 15 8, 9, 7, 9, 6, 10, 9, 7, 8, 6 7.9       7.5     "
            ]
          },
          "metadata": {}
        }
      ]
    },
    {
      "cell_type": "code",
      "source": [
        "# Second ... Compose!\n",
        "num.trials <- 100\n",
        "(tribble(~n,\n",
        "         c(5,10,15))\n",
        " %>% unnest_longer(n)\n",
        " %>% mutate(approx.mu = map_dbl(n, \\(n) (rbinom(num.trials, n, 0.5)\n",
        "                                        %>% mean)),\n",
        "            exact.mu = n*p\n",
        "           )\n",
        ")"
      ],
      "metadata": {
        "colab": {
          "base_uri": "https://localhost:8080/",
          "height": 187
        },
        "id": "qheMv78q9Qmc",
        "outputId": "bb58331a-582c-4216-a83a-bbd59981348c"
      },
      "execution_count": null,
      "outputs": [
        {
          "output_type": "display_data",
          "data": {
            "text/html": [
              "<table class=\"dataframe\">\n",
              "<caption>A tibble: 3 × 3</caption>\n",
              "<thead>\n",
              "\t<tr><th scope=col>n</th><th scope=col>approx.mu</th><th scope=col>exact.mu</th></tr>\n",
              "\t<tr><th scope=col>&lt;dbl&gt;</th><th scope=col>&lt;dbl&gt;</th><th scope=col>&lt;dbl&gt;</th></tr>\n",
              "</thead>\n",
              "<tbody>\n",
              "\t<tr><td> 5</td><td>2.67</td><td>2.5</td></tr>\n",
              "\t<tr><td>10</td><td>4.95</td><td>5.0</td></tr>\n",
              "\t<tr><td>15</td><td>7.62</td><td>7.5</td></tr>\n",
              "</tbody>\n",
              "</table>\n"
            ],
            "text/markdown": "\nA tibble: 3 × 3\n\n| n &lt;dbl&gt; | approx.mu &lt;dbl&gt; | exact.mu &lt;dbl&gt; |\n|---|---|---|\n|  5 | 2.67 | 2.5 |\n| 10 | 4.95 | 5.0 |\n| 15 | 7.62 | 7.5 |\n\n",
            "text/latex": "A tibble: 3 × 3\n\\begin{tabular}{lll}\n n & approx.mu & exact.mu\\\\\n <dbl> & <dbl> & <dbl>\\\\\n\\hline\n\t  5 & 2.67 & 2.5\\\\\n\t 10 & 4.95 & 5.0\\\\\n\t 15 & 7.62 & 7.5\\\\\n\\end{tabular}\n",
            "text/plain": [
              "  n  approx.mu exact.mu\n",
              "1  5 2.67      2.5     \n",
              "2 10 4.95      5.0     \n",
              "3 15 7.62      7.5     "
            ]
          },
          "metadata": {}
        }
      ]
    },
    {
      "cell_type": "markdown",
      "source": [
        "### When can you compose?\n",
        "\n",
        "When each step is saved, then immediately used on the next step."
      ],
      "metadata": {
        "id": "LE_CRi0u0Oqk"
      }
    },
    {
      "cell_type": "markdown",
      "source": [
        "#### Tracking the data\n",
        "\n",
        "Here the raw trials are saved as `.outcome`, which is then used as input on the next mutate."
      ],
      "metadata": {
        "id": "kqqlhKR9wEZC"
      }
    },
    {
      "cell_type": "code",
      "source": [
        "num.trials <- 10\n",
        "(tribble(~n,\n",
        "         c(5,10,15))\n",
        " %>% unnest_longer(n) # ────────┐\n",
        " %>% mutate(.outcome = map(n, \\(n) rbinom(num.trials, n, 0.5)),\n",
        "            # │  └─────────────────────┘\n",
        "            # └────────────────────┐\n",
        "            approx.mu = map_dbl(.outcome, mean),\n",
        "            #   │                  └──────┘ │\n",
        "            #   └───────────────────────────┘\n",
        "            exact.mu = n*p\n",
        "           )\n",
        " %>% select(-.outcome)\n",
        " )"
      ],
      "metadata": {
        "id": "cmlHoKpKwCwr",
        "colab": {
          "base_uri": "https://localhost:8080/",
          "height": 187
        },
        "outputId": "a20ca9bb-6d08-407f-928b-f2c01c448346"
      },
      "execution_count": null,
      "outputs": [
        {
          "output_type": "display_data",
          "data": {
            "text/html": [
              "<table class=\"dataframe\">\n",
              "<caption>A tibble: 3 × 3</caption>\n",
              "<thead>\n",
              "\t<tr><th scope=col>n</th><th scope=col>approx.mu</th><th scope=col>exact.mu</th></tr>\n",
              "\t<tr><th scope=col>&lt;dbl&gt;</th><th scope=col>&lt;dbl&gt;</th><th scope=col>&lt;dbl&gt;</th></tr>\n",
              "</thead>\n",
              "<tbody>\n",
              "\t<tr><td> 5</td><td>2.2</td><td>2.5</td></tr>\n",
              "\t<tr><td>10</td><td>5.9</td><td>5.0</td></tr>\n",
              "\t<tr><td>15</td><td>7.5</td><td>7.5</td></tr>\n",
              "</tbody>\n",
              "</table>\n"
            ],
            "text/markdown": "\nA tibble: 3 × 3\n\n| n &lt;dbl&gt; | approx.mu &lt;dbl&gt; | exact.mu &lt;dbl&gt; |\n|---|---|---|\n|  5 | 2.2 | 2.5 |\n| 10 | 5.9 | 5.0 |\n| 15 | 7.5 | 7.5 |\n\n",
            "text/latex": "A tibble: 3 × 3\n\\begin{tabular}{lll}\n n & approx.mu & exact.mu\\\\\n <dbl> & <dbl> & <dbl>\\\\\n\\hline\n\t  5 & 2.2 & 2.5\\\\\n\t 10 & 5.9 & 5.0\\\\\n\t 15 & 7.5 & 7.5\\\\\n\\end{tabular}\n",
            "text/plain": [
              "  n  approx.mu exact.mu\n",
              "1  5 2.2       2.5     \n",
              "2 10 5.9       5.0     \n",
              "3 15 7.5       7.5     "
            ]
          },
          "metadata": {}
        }
      ]
    },
    {
      "cell_type": "markdown",
      "source": [
        "#### Tracking the data\n",
        "\n",
        "Instead of saving the intermediate result (i.e., the raw output) we can simply pipe it into the next action."
      ],
      "metadata": {
        "id": "iAdqkzSgyVl0"
      }
    },
    {
      "cell_type": "code",
      "source": [
        "# Compose!\n",
        "num.trials <- 100\n",
        "(tribble(~n,\n",
        "         c(5,10,15))\n",
        " %>% unnest_longer(n) # ─────────────┐\n",
        " %>% mutate(approx.mu = map_dbl(n, \\(n) (rbinom(num.trials, n, 0.5)\n",
        "          #   │                              │\n",
        "                                        %>% mean)),\n",
        "          #   └──────────────────────────────┘\n",
        "            exact.mu = n*p)\n",
        "           )\n"
      ],
      "metadata": {
        "id": "bTl3-uzF9vpc",
        "colab": {
          "base_uri": "https://localhost:8080/",
          "height": 187
        },
        "outputId": "be395648-7b21-4857-be49-974bd21513d4"
      },
      "execution_count": null,
      "outputs": [
        {
          "output_type": "display_data",
          "data": {
            "text/html": [
              "<table class=\"dataframe\">\n",
              "<caption>A tibble: 3 × 3</caption>\n",
              "<thead>\n",
              "\t<tr><th scope=col>n</th><th scope=col>approx.mu</th><th scope=col>exact.mu</th></tr>\n",
              "\t<tr><th scope=col>&lt;dbl&gt;</th><th scope=col>&lt;dbl&gt;</th><th scope=col>&lt;dbl&gt;</th></tr>\n",
              "</thead>\n",
              "<tbody>\n",
              "\t<tr><td> 5</td><td>2.34</td><td>2.5</td></tr>\n",
              "\t<tr><td>10</td><td>5.15</td><td>5.0</td></tr>\n",
              "\t<tr><td>15</td><td>7.74</td><td>7.5</td></tr>\n",
              "</tbody>\n",
              "</table>\n"
            ],
            "text/markdown": "\nA tibble: 3 × 3\n\n| n &lt;dbl&gt; | approx.mu &lt;dbl&gt; | exact.mu &lt;dbl&gt; |\n|---|---|---|\n|  5 | 2.34 | 2.5 |\n| 10 | 5.15 | 5.0 |\n| 15 | 7.74 | 7.5 |\n\n",
            "text/latex": "A tibble: 3 × 3\n\\begin{tabular}{lll}\n n & approx.mu & exact.mu\\\\\n <dbl> & <dbl> & <dbl>\\\\\n\\hline\n\t  5 & 2.34 & 2.5\\\\\n\t 10 & 5.15 & 5.0\\\\\n\t 15 & 7.74 & 7.5\\\\\n\\end{tabular}\n",
            "text/plain": [
              "  n  approx.mu exact.mu\n",
              "1  5 2.34      2.5     \n",
              "2 10 5.15      5.0     \n",
              "3 15 7.74      7.5     "
            ]
          },
          "metadata": {}
        }
      ]
    },
    {
      "cell_type": "markdown",
      "source": [
        "### <font color=\"red\"> Exercise 2.5.1 </font>\n",
        "\n",
        "Suppose that we want to compare the cut off for the top 5% of a binomial data with $n = 100$ and $p\\in\\{0.25, 0.5, 0.75\\}\n",
        "\n",
        "**Tasks.**\n",
        "1. Prototype the process by storing the raw outcomes in a list column, then processing with additional `map`s,\n",
        "2. Verify the correctness of your code, and\n",
        "2. Compose all the intermediate steps to eliminate the need to store the raw outcomes."
      ],
      "metadata": {
        "id": "t1oDP7Cp3pQP"
      }
    },
    {
      "cell_type": "code",
      "source": [
        "# Your code here."
      ],
      "metadata": {
        "id": "mhvK2pjV4Xv1"
      },
      "execution_count": null,
      "outputs": []
    },
    {
      "cell_type": "markdown",
      "source": [
        "## Parametric Simulations with more than one parameter\n",
        "\n",
        "A similar process can be used to simulate a scenario where two or more parameters vary across the experiment.  Depending on the scenario, we will\n",
        "1. **Two parameters.** Use either `map2` or `pmap` to generate the raw outcomes.\n",
        "2. **Three+ parameters.** Use `pmap` to generate the raw outcomes."
      ],
      "metadata": {
        "id": "C8n3DxWs4buy"
      }
    },
    {
      "cell_type": "markdown",
      "source": [
        "### Example 2 - Investigate the mean part 2\n",
        "\n",
        "Now suppose we want to investigate the mean of the binomial distribution for all combinations of $n\\in\\{5,10,15\\}$ and $p\\in\\{0.25, 0.5, 0.74\\}$.  "
      ],
      "metadata": {
        "id": "vj0l0oZE5EZ1"
      }
    },
    {
      "cell_type": "markdown",
      "source": [
        "#### Step 1.  Define the parameter space"
      ],
      "metadata": {
        "id": "E3Nvf1D8LWxA"
      }
    },
    {
      "cell_type": "code",
      "source": [
        "# Define the parameter space\n",
        "tribble(~n,         ~p,\n",
        "        c(5,10,15), c(0.25, 0.5, 0.75))"
      ],
      "metadata": {
        "colab": {
          "base_uri": "https://localhost:8080/",
          "height": 126
        },
        "id": "EstQSykN5dSg",
        "outputId": "30b2b4a2-5bd0-43bb-a683-f3718442d0d1"
      },
      "execution_count": null,
      "outputs": [
        {
          "output_type": "display_data",
          "data": {
            "text/html": [
              "<table class=\"dataframe\">\n",
              "<caption>A tibble: 1 × 2</caption>\n",
              "<thead>\n",
              "\t<tr><th scope=col>n</th><th scope=col>p</th></tr>\n",
              "\t<tr><th scope=col>&lt;list&gt;</th><th scope=col>&lt;list&gt;</th></tr>\n",
              "</thead>\n",
              "<tbody>\n",
              "\t<tr><td>5, 10, 15</td><td>0.25, 0.50, 0.75</td></tr>\n",
              "</tbody>\n",
              "</table>\n"
            ],
            "text/markdown": "\nA tibble: 1 × 2\n\n| n &lt;list&gt; | p &lt;list&gt; |\n|---|---|\n| 5, 10, 15 | 0.25, 0.50, 0.75 |\n\n",
            "text/latex": "A tibble: 1 × 2\n\\begin{tabular}{ll}\n n & p\\\\\n <list> & <list>\\\\\n\\hline\n\t 5, 10, 15 & 0.25, 0.50, 0.75\\\\\n\\end{tabular}\n",
            "text/plain": [
              "  n         p               \n",
              "1 5, 10, 15 0.25, 0.50, 0.75"
            ]
          },
          "metadata": {}
        }
      ]
    },
    {
      "cell_type": "markdown",
      "source": [
        "#### Step 2. Unnest both parameters"
      ],
      "metadata": {
        "id": "ETvIwxSYLaw4"
      }
    },
    {
      "cell_type": "code",
      "source": [
        "# Unnest both parameters\n",
        "(tribble(~n,         ~p,\n",
        "         c(5,10,15), c(0.25, 0.5, 0.75))\n",
        " %>% unnest_longer(n)\n",
        " %>% unnest_longer(p)\n",
        " )"
      ],
      "metadata": {
        "colab": {
          "base_uri": "https://localhost:8080/",
          "height": 371
        },
        "id": "sxWACNtD4bdS",
        "outputId": "ae9500bc-53a8-4624-d673-478750bbedd4"
      },
      "execution_count": null,
      "outputs": [
        {
          "output_type": "display_data",
          "data": {
            "text/html": [
              "<table class=\"dataframe\">\n",
              "<caption>A tibble: 9 × 2</caption>\n",
              "<thead>\n",
              "\t<tr><th scope=col>n</th><th scope=col>p</th></tr>\n",
              "\t<tr><th scope=col>&lt;dbl&gt;</th><th scope=col>&lt;dbl&gt;</th></tr>\n",
              "</thead>\n",
              "<tbody>\n",
              "\t<tr><td> 5</td><td>0.25</td></tr>\n",
              "\t<tr><td> 5</td><td>0.50</td></tr>\n",
              "\t<tr><td> 5</td><td>0.75</td></tr>\n",
              "\t<tr><td>10</td><td>0.25</td></tr>\n",
              "\t<tr><td>10</td><td>0.50</td></tr>\n",
              "\t<tr><td>10</td><td>0.75</td></tr>\n",
              "\t<tr><td>15</td><td>0.25</td></tr>\n",
              "\t<tr><td>15</td><td>0.50</td></tr>\n",
              "\t<tr><td>15</td><td>0.75</td></tr>\n",
              "</tbody>\n",
              "</table>\n"
            ],
            "text/markdown": "\nA tibble: 9 × 2\n\n| n &lt;dbl&gt; | p &lt;dbl&gt; |\n|---|---|\n|  5 | 0.25 |\n|  5 | 0.50 |\n|  5 | 0.75 |\n| 10 | 0.25 |\n| 10 | 0.50 |\n| 10 | 0.75 |\n| 15 | 0.25 |\n| 15 | 0.50 |\n| 15 | 0.75 |\n\n",
            "text/latex": "A tibble: 9 × 2\n\\begin{tabular}{ll}\n n & p\\\\\n <dbl> & <dbl>\\\\\n\\hline\n\t  5 & 0.25\\\\\n\t  5 & 0.50\\\\\n\t  5 & 0.75\\\\\n\t 10 & 0.25\\\\\n\t 10 & 0.50\\\\\n\t 10 & 0.75\\\\\n\t 15 & 0.25\\\\\n\t 15 & 0.50\\\\\n\t 15 & 0.75\\\\\n\\end{tabular}\n",
            "text/plain": [
              "  n  p   \n",
              "1  5 0.25\n",
              "2  5 0.50\n",
              "3  5 0.75\n",
              "4 10 0.25\n",
              "5 10 0.50\n",
              "6 10 0.75\n",
              "7 15 0.25\n",
              "8 15 0.50\n",
              "9 15 0.75"
            ]
          },
          "metadata": {}
        }
      ]
    },
    {
      "cell_type": "markdown",
      "source": [
        "#### Step 3.  Generate outcomes with `map2`"
      ],
      "metadata": {
        "id": "c5slUEwQLe1W"
      }
    },
    {
      "cell_type": "code",
      "source": [
        "# Version 1 - Use map2 to generate the data\n",
        "num.trials <- 10\n",
        "(tribble(~n,         ~p,\n",
        "         c(5,10,15), c(0.25, 0.5, 0.75))\n",
        " %>% unnest_longer(n)\n",
        " %>% unnest_longer(p)\n",
        " %>% mutate(.outcome = map2(n, p, \\(n, p) rbinom(num.trials, n, p)))\n",
        " )"
      ],
      "metadata": {
        "colab": {
          "base_uri": "https://localhost:8080/",
          "height": 371
        },
        "id": "LkwJMv_66CHs",
        "outputId": "b72f7d70-a726-41ef-e81c-686795be8bd8"
      },
      "execution_count": null,
      "outputs": [
        {
          "output_type": "display_data",
          "data": {
            "text/html": [
              "<table class=\"dataframe\">\n",
              "<caption>A tibble: 9 × 3</caption>\n",
              "<thead>\n",
              "\t<tr><th scope=col>n</th><th scope=col>p</th><th scope=col>.outcome</th></tr>\n",
              "\t<tr><th scope=col>&lt;dbl&gt;</th><th scope=col>&lt;dbl&gt;</th><th scope=col>&lt;list&gt;</th></tr>\n",
              "</thead>\n",
              "<tbody>\n",
              "\t<tr><td> 5</td><td>0.25</td><td>1, 4, 0, 1, 1, 0, 0, 1, 2, 0</td></tr>\n",
              "\t<tr><td> 5</td><td>0.50</td><td>2, 4, 2, 1, 3, 1, 4, 3, 1, 5</td></tr>\n",
              "\t<tr><td> 5</td><td>0.75</td><td>5, 2, 5, 1, 3, 3, 5, 2, 3, 3</td></tr>\n",
              "\t<tr><td>10</td><td>0.25</td><td>1, 4, 2, 6, 4, 4, 4, 2, 2, 1</td></tr>\n",
              "\t<tr><td>10</td><td>0.50</td><td>7, 5, 2, 5, 3, 3, 3, 4, 4, 6</td></tr>\n",
              "\t<tr><td>10</td><td>0.75</td><td>8, 9, 10, 8, 8, 7, 6, 9, 7, 8</td></tr>\n",
              "\t<tr><td>15</td><td>0.25</td><td>3, 5, 3, 4, 4, 3, 4, 7, 3, 4</td></tr>\n",
              "\t<tr><td>15</td><td>0.50</td><td>7, 9, 6, 8, 9, 6, 6, 6, 5, 8</td></tr>\n",
              "\t<tr><td>15</td><td>0.75</td><td>11, 12, 9, 11, 13, 11, 10, 8, 11, 14</td></tr>\n",
              "</tbody>\n",
              "</table>\n"
            ],
            "text/markdown": "\nA tibble: 9 × 3\n\n| n &lt;dbl&gt; | p &lt;dbl&gt; | .outcome &lt;list&gt; |\n|---|---|---|\n|  5 | 0.25 | 1, 4, 0, 1, 1, 0, 0, 1, 2, 0 |\n|  5 | 0.50 | 2, 4, 2, 1, 3, 1, 4, 3, 1, 5 |\n|  5 | 0.75 | 5, 2, 5, 1, 3, 3, 5, 2, 3, 3 |\n| 10 | 0.25 | 1, 4, 2, 6, 4, 4, 4, 2, 2, 1 |\n| 10 | 0.50 | 7, 5, 2, 5, 3, 3, 3, 4, 4, 6 |\n| 10 | 0.75 | 8, 9, 10, 8, 8, 7, 6, 9, 7, 8 |\n| 15 | 0.25 | 3, 5, 3, 4, 4, 3, 4, 7, 3, 4 |\n| 15 | 0.50 | 7, 9, 6, 8, 9, 6, 6, 6, 5, 8 |\n| 15 | 0.75 | 11, 12, 9, 11, 13, 11, 10, 8, 11, 14 |\n\n",
            "text/latex": "A tibble: 9 × 3\n\\begin{tabular}{lll}\n n & p & .outcome\\\\\n <dbl> & <dbl> & <list>\\\\\n\\hline\n\t  5 & 0.25 & 1, 4, 0, 1, 1, 0, 0, 1, 2, 0\\\\\n\t  5 & 0.50 & 2, 4, 2, 1, 3, 1, 4, 3, 1, 5\\\\\n\t  5 & 0.75 & 5, 2, 5, 1, 3, 3, 5, 2, 3, 3\\\\\n\t 10 & 0.25 & 1, 4, 2, 6, 4, 4, 4, 2, 2, 1\\\\\n\t 10 & 0.50 & 7, 5, 2, 5, 3, 3, 3, 4, 4, 6\\\\\n\t 10 & 0.75 & 8, 9, 10, 8, 8, 7, 6, 9, 7, 8\\\\\n\t 15 & 0.25 & 3, 5, 3, 4, 4, 3, 4, 7, 3, 4\\\\\n\t 15 & 0.50 & 7, 9, 6, 8, 9, 6, 6, 6, 5, 8\\\\\n\t 15 & 0.75 & 11, 12, 9, 11, 13, 11, 10, 8, 11, 14\\\\\n\\end{tabular}\n",
            "text/plain": [
              "  n  p    .outcome                            \n",
              "1  5 0.25 1, 4, 0, 1, 1, 0, 0, 1, 2, 0        \n",
              "2  5 0.50 2, 4, 2, 1, 3, 1, 4, 3, 1, 5        \n",
              "3  5 0.75 5, 2, 5, 1, 3, 3, 5, 2, 3, 3        \n",
              "4 10 0.25 1, 4, 2, 6, 4, 4, 4, 2, 2, 1        \n",
              "5 10 0.50 7, 5, 2, 5, 3, 3, 3, 4, 4, 6        \n",
              "6 10 0.75 8, 9, 10, 8, 8, 7, 6, 9, 7, 8       \n",
              "7 15 0.25 3, 5, 3, 4, 4, 3, 4, 7, 3, 4        \n",
              "8 15 0.50 7, 9, 6, 8, 9, 6, 6, 6, 5, 8        \n",
              "9 15 0.75 11, 12, 9, 11, 13, 11, 10, 8, 11, 14"
            ]
          },
          "metadata": {}
        }
      ]
    },
    {
      "cell_type": "markdown",
      "source": [
        "#### Step 3. Generate outcomes with `pmap`."
      ],
      "metadata": {
        "id": "j5WpMAu0LoSv"
      }
    },
    {
      "cell_type": "code",
      "source": [
        "# Version 2 - Use pmap to generate the data\n",
        "num.trials <- 10\n",
        "(tribble(~n,         ~p,\n",
        "         c(5,10,15), c(0.25, 0.5, 0.75))\n",
        " %>% unnest_longer(n)\n",
        " %>% unnest_longer(p)\n",
        " %>% mutate(.outcome = pmap(list(size = n, prob = p), rbinom, n = num.trials))\n",
        " )"
      ],
      "metadata": {
        "colab": {
          "base_uri": "https://localhost:8080/",
          "height": 371
        },
        "id": "ifLSSqw36maQ",
        "outputId": "560516bd-ef37-4f1a-9d98-9ba100b7873c"
      },
      "execution_count": null,
      "outputs": [
        {
          "output_type": "display_data",
          "data": {
            "text/html": [
              "<table class=\"dataframe\">\n",
              "<caption>A tibble: 9 × 3</caption>\n",
              "<thead>\n",
              "\t<tr><th scope=col>n</th><th scope=col>p</th><th scope=col>.outcome</th></tr>\n",
              "\t<tr><th scope=col>&lt;dbl&gt;</th><th scope=col>&lt;dbl&gt;</th><th scope=col>&lt;list&gt;</th></tr>\n",
              "</thead>\n",
              "<tbody>\n",
              "\t<tr><td> 5</td><td>0.25</td><td>1, 3, 2, 1, 1, 1, 1, 1, 0, 0</td></tr>\n",
              "\t<tr><td> 5</td><td>0.50</td><td>2, 1, 4, 1, 4, 2, 3, 1, 3, 4</td></tr>\n",
              "\t<tr><td> 5</td><td>0.75</td><td>2, 5, 4, 3, 4, 4, 4, 4, 4, 4</td></tr>\n",
              "\t<tr><td>10</td><td>0.25</td><td>2, 1, 2, 3, 2, 2, 3, 2, 3, 2</td></tr>\n",
              "\t<tr><td>10</td><td>0.50</td><td>5, 4, 5, 5, 5, 7, 4, 3, 5, 4</td></tr>\n",
              "\t<tr><td>10</td><td>0.75</td><td>5, 7, 7, 7, 10, 8, 9, 8, 5, 8</td></tr>\n",
              "\t<tr><td>15</td><td>0.25</td><td>2, 5, 3, 4, 2, 5, 1, 2, 2, 3</td></tr>\n",
              "\t<tr><td>15</td><td>0.50</td><td>7, 9, 7, 6, 7, 7, 7, 8, 7, 7</td></tr>\n",
              "\t<tr><td>15</td><td>0.75</td><td>12, 10, 11, 11, 11, 13, 12, 13, 12, 12</td></tr>\n",
              "</tbody>\n",
              "</table>\n"
            ],
            "text/markdown": "\nA tibble: 9 × 3\n\n| n &lt;dbl&gt; | p &lt;dbl&gt; | .outcome &lt;list&gt; |\n|---|---|---|\n|  5 | 0.25 | 1, 3, 2, 1, 1, 1, 1, 1, 0, 0 |\n|  5 | 0.50 | 2, 1, 4, 1, 4, 2, 3, 1, 3, 4 |\n|  5 | 0.75 | 2, 5, 4, 3, 4, 4, 4, 4, 4, 4 |\n| 10 | 0.25 | 2, 1, 2, 3, 2, 2, 3, 2, 3, 2 |\n| 10 | 0.50 | 5, 4, 5, 5, 5, 7, 4, 3, 5, 4 |\n| 10 | 0.75 | 5, 7, 7, 7, 10, 8, 9, 8, 5, 8 |\n| 15 | 0.25 | 2, 5, 3, 4, 2, 5, 1, 2, 2, 3 |\n| 15 | 0.50 | 7, 9, 7, 6, 7, 7, 7, 8, 7, 7 |\n| 15 | 0.75 | 12, 10, 11, 11, 11, 13, 12, 13, 12, 12 |\n\n",
            "text/latex": "A tibble: 9 × 3\n\\begin{tabular}{lll}\n n & p & .outcome\\\\\n <dbl> & <dbl> & <list>\\\\\n\\hline\n\t  5 & 0.25 & 1, 3, 2, 1, 1, 1, 1, 1, 0, 0\\\\\n\t  5 & 0.50 & 2, 1, 4, 1, 4, 2, 3, 1, 3, 4\\\\\n\t  5 & 0.75 & 2, 5, 4, 3, 4, 4, 4, 4, 4, 4\\\\\n\t 10 & 0.25 & 2, 1, 2, 3, 2, 2, 3, 2, 3, 2\\\\\n\t 10 & 0.50 & 5, 4, 5, 5, 5, 7, 4, 3, 5, 4\\\\\n\t 10 & 0.75 & 5, 7, 7, 7, 10, 8, 9, 8, 5, 8\\\\\n\t 15 & 0.25 & 2, 5, 3, 4, 2, 5, 1, 2, 2, 3\\\\\n\t 15 & 0.50 & 7, 9, 7, 6, 7, 7, 7, 8, 7, 7\\\\\n\t 15 & 0.75 & 12, 10, 11, 11, 11, 13, 12, 13, 12, 12\\\\\n\\end{tabular}\n",
            "text/plain": [
              "  n  p    .outcome                              \n",
              "1  5 0.25 1, 3, 2, 1, 1, 1, 1, 1, 0, 0          \n",
              "2  5 0.50 2, 1, 4, 1, 4, 2, 3, 1, 3, 4          \n",
              "3  5 0.75 2, 5, 4, 3, 4, 4, 4, 4, 4, 4          \n",
              "4 10 0.25 2, 1, 2, 3, 2, 2, 3, 2, 3, 2          \n",
              "5 10 0.50 5, 4, 5, 5, 5, 7, 4, 3, 5, 4          \n",
              "6 10 0.75 5, 7, 7, 7, 10, 8, 9, 8, 5, 8         \n",
              "7 15 0.25 2, 5, 3, 4, 2, 5, 1, 2, 2, 3          \n",
              "8 15 0.50 7, 9, 7, 6, 7, 7, 7, 8, 7, 7          \n",
              "9 15 0.75 12, 10, 11, 11, 11, 13, 12, 13, 12, 12"
            ]
          },
          "metadata": {}
        }
      ]
    },
    {
      "cell_type": "markdown",
      "source": [
        "#### Step 4. Process and summarize."
      ],
      "metadata": {
        "id": "WY1s-7TMPjcN"
      }
    },
    {
      "cell_type": "code",
      "source": [
        "um.trials <- 10\n",
        "(tribble(~n,         ~p,\n",
        "         c(5,10,15), c(0.25, 0.5, 0.75))\n",
        " %>% unnest_longer(n)\n",
        " %>% unnest_longer(p)\n",
        " %>% mutate(.outcome = map2(n, p, \\(n, p) rbinom(num.trials, n, p)))\n",
        " %>% mutate(approx.mu = map_dbl(.outcome, mean),\n",
        "            exact.mu = n*p)\n",
        " )"
      ],
      "metadata": {
        "colab": {
          "base_uri": "https://localhost:8080/",
          "height": 371
        },
        "id": "qDaYIB44PodQ",
        "outputId": "8acb52bd-b3ad-4ca0-8c50-d417b163b1e9"
      },
      "execution_count": null,
      "outputs": [
        {
          "output_type": "display_data",
          "data": {
            "text/html": [
              "<table class=\"dataframe\">\n",
              "<caption>A tibble: 9 × 5</caption>\n",
              "<thead>\n",
              "\t<tr><th scope=col>n</th><th scope=col>p</th><th scope=col>.outcome</th><th scope=col>approx.mu</th><th scope=col>exact.mu</th></tr>\n",
              "\t<tr><th scope=col>&lt;dbl&gt;</th><th scope=col>&lt;dbl&gt;</th><th scope=col>&lt;list&gt;</th><th scope=col>&lt;dbl&gt;</th><th scope=col>&lt;dbl&gt;</th></tr>\n",
              "</thead>\n",
              "<tbody>\n",
              "\t<tr><td> 5</td><td>0.25</td><td>3, 2, 1, 0, 1, 1, 1, 1, 2, 2</td><td> 1.4</td><td> 1.25</td></tr>\n",
              "\t<tr><td> 5</td><td>0.50</td><td>3, 4, 3, 1, 2, 0, 2, 2, 2, 1</td><td> 2.0</td><td> 2.50</td></tr>\n",
              "\t<tr><td> 5</td><td>0.75</td><td>4, 2, 3, 4, 5, 4, 4, 5, 4, 5</td><td> 4.0</td><td> 3.75</td></tr>\n",
              "\t<tr><td>10</td><td>0.25</td><td>2, 2, 3, 1, 6, 3, 1, 3, 3, 4</td><td> 2.8</td><td> 2.50</td></tr>\n",
              "\t<tr><td>10</td><td>0.50</td><td>6, 6, 3, 6, 4, 2, 6, 7, 3, 8</td><td> 5.1</td><td> 5.00</td></tr>\n",
              "\t<tr><td>10</td><td>0.75</td><td>8, 5, 7, 7, 8, 8, 7, 6, 8, 8</td><td> 7.2</td><td> 7.50</td></tr>\n",
              "\t<tr><td>15</td><td>0.25</td><td>4, 6, 3, 4, 5, 6, 2, 3, 4, 2</td><td> 3.9</td><td> 3.75</td></tr>\n",
              "\t<tr><td>15</td><td>0.50</td><td>6, 3, 10, 8, 12, 6, 10, 7, 10, 4</td><td> 7.6</td><td> 7.50</td></tr>\n",
              "\t<tr><td>15</td><td>0.75</td><td>9, 12, 11, 8, 11, 9, 14, 11, 10, 13</td><td>10.8</td><td>11.25</td></tr>\n",
              "</tbody>\n",
              "</table>\n"
            ],
            "text/markdown": "\nA tibble: 9 × 5\n\n| n &lt;dbl&gt; | p &lt;dbl&gt; | .outcome &lt;list&gt; | approx.mu &lt;dbl&gt; | exact.mu &lt;dbl&gt; |\n|---|---|---|---|---|\n|  5 | 0.25 | 3, 2, 1, 0, 1, 1, 1, 1, 2, 2 |  1.4 |  1.25 |\n|  5 | 0.50 | 3, 4, 3, 1, 2, 0, 2, 2, 2, 1 |  2.0 |  2.50 |\n|  5 | 0.75 | 4, 2, 3, 4, 5, 4, 4, 5, 4, 5 |  4.0 |  3.75 |\n| 10 | 0.25 | 2, 2, 3, 1, 6, 3, 1, 3, 3, 4 |  2.8 |  2.50 |\n| 10 | 0.50 | 6, 6, 3, 6, 4, 2, 6, 7, 3, 8 |  5.1 |  5.00 |\n| 10 | 0.75 | 8, 5, 7, 7, 8, 8, 7, 6, 8, 8 |  7.2 |  7.50 |\n| 15 | 0.25 | 4, 6, 3, 4, 5, 6, 2, 3, 4, 2 |  3.9 |  3.75 |\n| 15 | 0.50 | 6, 3, 10, 8, 12, 6, 10, 7, 10, 4 |  7.6 |  7.50 |\n| 15 | 0.75 | 9, 12, 11, 8, 11, 9, 14, 11, 10, 13 | 10.8 | 11.25 |\n\n",
            "text/latex": "A tibble: 9 × 5\n\\begin{tabular}{lllll}\n n & p & .outcome & approx.mu & exact.mu\\\\\n <dbl> & <dbl> & <list> & <dbl> & <dbl>\\\\\n\\hline\n\t  5 & 0.25 & 3, 2, 1, 0, 1, 1, 1, 1, 2, 2 &  1.4 &  1.25\\\\\n\t  5 & 0.50 & 3, 4, 3, 1, 2, 0, 2, 2, 2, 1 &  2.0 &  2.50\\\\\n\t  5 & 0.75 & 4, 2, 3, 4, 5, 4, 4, 5, 4, 5 &  4.0 &  3.75\\\\\n\t 10 & 0.25 & 2, 2, 3, 1, 6, 3, 1, 3, 3, 4 &  2.8 &  2.50\\\\\n\t 10 & 0.50 & 6, 6, 3, 6, 4, 2, 6, 7, 3, 8 &  5.1 &  5.00\\\\\n\t 10 & 0.75 & 8, 5, 7, 7, 8, 8, 7, 6, 8, 8 &  7.2 &  7.50\\\\\n\t 15 & 0.25 & 4, 6, 3, 4, 5, 6, 2, 3, 4, 2 &  3.9 &  3.75\\\\\n\t 15 & 0.50 & 6, 3, 10, 8, 12, 6, 10, 7, 10, 4 &  7.6 &  7.50\\\\\n\t 15 & 0.75 & 9, 12, 11, 8, 11, 9, 14, 11, 10, 13 & 10.8 & 11.25\\\\\n\\end{tabular}\n",
            "text/plain": [
              "  n  p    .outcome                            approx.mu exact.mu\n",
              "1  5 0.25 3, 2, 1, 0, 1, 1, 1, 1, 2, 2         1.4       1.25   \n",
              "2  5 0.50 3, 4, 3, 1, 2, 0, 2, 2, 2, 1         2.0       2.50   \n",
              "3  5 0.75 4, 2, 3, 4, 5, 4, 4, 5, 4, 5         4.0       3.75   \n",
              "4 10 0.25 2, 2, 3, 1, 6, 3, 1, 3, 3, 4         2.8       2.50   \n",
              "5 10 0.50 6, 6, 3, 6, 4, 2, 6, 7, 3, 8         5.1       5.00   \n",
              "6 10 0.75 8, 5, 7, 7, 8, 8, 7, 6, 8, 8         7.2       7.50   \n",
              "7 15 0.25 4, 6, 3, 4, 5, 6, 2, 3, 4, 2         3.9       3.75   \n",
              "8 15 0.50 6, 3, 10, 8, 12, 6, 10, 7, 10, 4     7.6       7.50   \n",
              "9 15 0.75 9, 12, 11, 8, 11, 9, 14, 11, 10, 13 10.8      11.25   "
            ]
          },
          "metadata": {}
        }
      ]
    },
    {
      "cell_type": "markdown",
      "source": [
        "#### Step 5. Drop outcomes and bump the number of trials."
      ],
      "metadata": {
        "id": "GGgBlmuCP2gz"
      }
    },
    {
      "cell_type": "code",
      "source": [
        "num.trials <- 100000\n",
        "(tribble(~n,         ~p,\n",
        "         c(5,10,15), c(0.25, 0.5, 0.75))\n",
        " %>% unnest_longer(n)\n",
        " %>% unnest_longer(p)\n",
        " %>% mutate(.outcome = map2(n, p, \\(n, p) rbinom(num.trials, n, p)))\n",
        " %>% mutate(approx.mu = map_dbl(.outcome, mean),\n",
        "            exact.mu = n*p)\n",
        " %>% select(-.outcome)\n",
        " )"
      ],
      "metadata": {
        "colab": {
          "base_uri": "https://localhost:8080/",
          "height": 371
        },
        "id": "TSQniLmVP1SV",
        "outputId": "62993155-316d-4bdc-901f-0b1ea0c5ad81"
      },
      "execution_count": null,
      "outputs": [
        {
          "output_type": "display_data",
          "data": {
            "text/html": [
              "<table class=\"dataframe\">\n",
              "<caption>A tibble: 9 × 4</caption>\n",
              "<thead>\n",
              "\t<tr><th scope=col>n</th><th scope=col>p</th><th scope=col>approx.mu</th><th scope=col>exact.mu</th></tr>\n",
              "\t<tr><th scope=col>&lt;dbl&gt;</th><th scope=col>&lt;dbl&gt;</th><th scope=col>&lt;dbl&gt;</th><th scope=col>&lt;dbl&gt;</th></tr>\n",
              "</thead>\n",
              "<tbody>\n",
              "\t<tr><td> 5</td><td>0.25</td><td> 1.25111</td><td> 1.25</td></tr>\n",
              "\t<tr><td> 5</td><td>0.50</td><td> 2.50296</td><td> 2.50</td></tr>\n",
              "\t<tr><td> 5</td><td>0.75</td><td> 3.74988</td><td> 3.75</td></tr>\n",
              "\t<tr><td>10</td><td>0.25</td><td> 2.50033</td><td> 2.50</td></tr>\n",
              "\t<tr><td>10</td><td>0.50</td><td> 4.99747</td><td> 5.00</td></tr>\n",
              "\t<tr><td>10</td><td>0.75</td><td> 7.50632</td><td> 7.50</td></tr>\n",
              "\t<tr><td>15</td><td>0.25</td><td> 3.74829</td><td> 3.75</td></tr>\n",
              "\t<tr><td>15</td><td>0.50</td><td> 7.50677</td><td> 7.50</td></tr>\n",
              "\t<tr><td>15</td><td>0.75</td><td>11.25170</td><td>11.25</td></tr>\n",
              "</tbody>\n",
              "</table>\n"
            ],
            "text/markdown": "\nA tibble: 9 × 4\n\n| n &lt;dbl&gt; | p &lt;dbl&gt; | approx.mu &lt;dbl&gt; | exact.mu &lt;dbl&gt; |\n|---|---|---|---|\n|  5 | 0.25 |  1.25111 |  1.25 |\n|  5 | 0.50 |  2.50296 |  2.50 |\n|  5 | 0.75 |  3.74988 |  3.75 |\n| 10 | 0.25 |  2.50033 |  2.50 |\n| 10 | 0.50 |  4.99747 |  5.00 |\n| 10 | 0.75 |  7.50632 |  7.50 |\n| 15 | 0.25 |  3.74829 |  3.75 |\n| 15 | 0.50 |  7.50677 |  7.50 |\n| 15 | 0.75 | 11.25170 | 11.25 |\n\n",
            "text/latex": "A tibble: 9 × 4\n\\begin{tabular}{llll}\n n & p & approx.mu & exact.mu\\\\\n <dbl> & <dbl> & <dbl> & <dbl>\\\\\n\\hline\n\t  5 & 0.25 &  1.25111 &  1.25\\\\\n\t  5 & 0.50 &  2.50296 &  2.50\\\\\n\t  5 & 0.75 &  3.74988 &  3.75\\\\\n\t 10 & 0.25 &  2.50033 &  2.50\\\\\n\t 10 & 0.50 &  4.99747 &  5.00\\\\\n\t 10 & 0.75 &  7.50632 &  7.50\\\\\n\t 15 & 0.25 &  3.74829 &  3.75\\\\\n\t 15 & 0.50 &  7.50677 &  7.50\\\\\n\t 15 & 0.75 & 11.25170 & 11.25\\\\\n\\end{tabular}\n",
            "text/plain": [
              "  n  p    approx.mu exact.mu\n",
              "1  5 0.25  1.25111   1.25   \n",
              "2  5 0.50  2.50296   2.50   \n",
              "3  5 0.75  3.74988   3.75   \n",
              "4 10 0.25  2.50033   2.50   \n",
              "5 10 0.50  4.99747   5.00   \n",
              "6 10 0.75  7.50632   7.50   \n",
              "7 15 0.25  3.74829   3.75   \n",
              "8 15 0.50  7.50677   7.50   \n",
              "9 15 0.75 11.25170  11.25   "
            ]
          },
          "metadata": {}
        }
      ]
    },
    {
      "cell_type": "markdown",
      "source": [
        "Step 5. Compose into one map."
      ],
      "metadata": {
        "id": "J1FFFwgsQHre"
      }
    },
    {
      "cell_type": "code",
      "source": [
        "num.trials <- 100000\n",
        "(tribble(~n,         ~p,\n",
        "         c(5,10,15), c(0.25, 0.5, 0.75))\n",
        " %>% unnest_longer(n)\n",
        " %>% unnest_longer(p)\n",
        "#  %>% mutate(.outcome = map2(n, p, \\(n, p) rbinom(num.trials, n, p))\n",
        "#  %>% mutate(approx.mu = map_dbl(.outcome, mean),\n",
        "            # exact.mu = n*p)\n",
        " %>% mutate(approx.mu = (map2(n, p, \\(n, p) rbinom(num.trials, n, p))\n",
        "                        %>% map_dbl(mean)),\n",
        "            exact.mu = n*p)\n",
        "#  %>% select(-.outcome)\n",
        " )"
      ],
      "metadata": {
        "colab": {
          "base_uri": "https://localhost:8080/",
          "height": 371
        },
        "id": "Z7gExv1VQP35",
        "outputId": "366e2e0b-a3fd-4cd9-9b18-dd0d8c2f43ef"
      },
      "execution_count": null,
      "outputs": [
        {
          "output_type": "display_data",
          "data": {
            "text/html": [
              "<table class=\"dataframe\">\n",
              "<caption>A tibble: 9 × 4</caption>\n",
              "<thead>\n",
              "\t<tr><th scope=col>n</th><th scope=col>p</th><th scope=col>approx.mu</th><th scope=col>exact.mu</th></tr>\n",
              "\t<tr><th scope=col>&lt;dbl&gt;</th><th scope=col>&lt;dbl&gt;</th><th scope=col>&lt;dbl&gt;</th><th scope=col>&lt;dbl&gt;</th></tr>\n",
              "</thead>\n",
              "<tbody>\n",
              "\t<tr><td> 5</td><td>0.25</td><td> 1.24687</td><td> 1.25</td></tr>\n",
              "\t<tr><td> 5</td><td>0.50</td><td> 2.50387</td><td> 2.50</td></tr>\n",
              "\t<tr><td> 5</td><td>0.75</td><td> 3.75187</td><td> 3.75</td></tr>\n",
              "\t<tr><td>10</td><td>0.25</td><td> 2.50188</td><td> 2.50</td></tr>\n",
              "\t<tr><td>10</td><td>0.50</td><td> 4.99318</td><td> 5.00</td></tr>\n",
              "\t<tr><td>10</td><td>0.75</td><td> 7.49624</td><td> 7.50</td></tr>\n",
              "\t<tr><td>15</td><td>0.25</td><td> 3.75959</td><td> 3.75</td></tr>\n",
              "\t<tr><td>15</td><td>0.50</td><td> 7.49850</td><td> 7.50</td></tr>\n",
              "\t<tr><td>15</td><td>0.75</td><td>11.25313</td><td>11.25</td></tr>\n",
              "</tbody>\n",
              "</table>\n"
            ],
            "text/markdown": "\nA tibble: 9 × 4\n\n| n &lt;dbl&gt; | p &lt;dbl&gt; | approx.mu &lt;dbl&gt; | exact.mu &lt;dbl&gt; |\n|---|---|---|---|\n|  5 | 0.25 |  1.24687 |  1.25 |\n|  5 | 0.50 |  2.50387 |  2.50 |\n|  5 | 0.75 |  3.75187 |  3.75 |\n| 10 | 0.25 |  2.50188 |  2.50 |\n| 10 | 0.50 |  4.99318 |  5.00 |\n| 10 | 0.75 |  7.49624 |  7.50 |\n| 15 | 0.25 |  3.75959 |  3.75 |\n| 15 | 0.50 |  7.49850 |  7.50 |\n| 15 | 0.75 | 11.25313 | 11.25 |\n\n",
            "text/latex": "A tibble: 9 × 4\n\\begin{tabular}{llll}\n n & p & approx.mu & exact.mu\\\\\n <dbl> & <dbl> & <dbl> & <dbl>\\\\\n\\hline\n\t  5 & 0.25 &  1.24687 &  1.25\\\\\n\t  5 & 0.50 &  2.50387 &  2.50\\\\\n\t  5 & 0.75 &  3.75187 &  3.75\\\\\n\t 10 & 0.25 &  2.50188 &  2.50\\\\\n\t 10 & 0.50 &  4.99318 &  5.00\\\\\n\t 10 & 0.75 &  7.49624 &  7.50\\\\\n\t 15 & 0.25 &  3.75959 &  3.75\\\\\n\t 15 & 0.50 &  7.49850 &  7.50\\\\\n\t 15 & 0.75 & 11.25313 & 11.25\\\\\n\\end{tabular}\n",
            "text/plain": [
              "  n  p    approx.mu exact.mu\n",
              "1  5 0.25  1.24687   1.25   \n",
              "2  5 0.50  2.50387   2.50   \n",
              "3  5 0.75  3.75187   3.75   \n",
              "4 10 0.25  2.50188   2.50   \n",
              "5 10 0.50  4.99318   5.00   \n",
              "6 10 0.75  7.49624   7.50   \n",
              "7 15 0.25  3.75959   3.75   \n",
              "8 15 0.50  7.49850   7.50   \n",
              "9 15 0.75 11.25313  11.25   "
            ]
          },
          "metadata": {}
        }
      ]
    },
    {
      "cell_type": "markdown",
      "source": [
        "### <font color=\"red\"> Exercise 2.5.2 </font>\n",
        "\n",
        "Suppose that we want to compare the cut off for the top 5% of a binomial data with $n\\in c\\{25, 50, 100\\}$ and $p\\in\\{0.25, 0.5, 0.75\\}$\n",
        "\n",
        "**Tasks.**\n",
        "1. Prototype the process by storing the raw outcomes in a list column, then processing with additional `pmap`/`map2`s,\n",
        "2. Verify the correctness of your code, and\n",
        "2. Compose all the intermediate steps to eliminate the need to store the raw outcomes."
      ],
      "metadata": {
        "id": "KAz-gYreoEHD"
      }
    },
    {
      "cell_type": "code",
      "source": [
        "# Your code here"
      ],
      "metadata": {
        "id": "GSVGCCTqoU4e"
      },
      "execution_count": null,
      "outputs": []
    },
    {
      "cell_type": "markdown",
      "source": [
        "## Stacked and Plotting Parametric Simulations\n",
        "\n",
        "The final option, not covered above, is to stack the outcomes in a simple, atomic column.  This approach is used primarily when plotting the distributions for each parameter or combination of parameters and has the advantage to this approach is simplier mutates (rarely need to map), but at the cost of spreading the related trials across multiple rows--requiring an extra grouped aggregation at the end."
      ],
      "metadata": {
        "id": "rqckuk0X10p7"
      }
    },
    {
      "cell_type": "markdown",
      "source": [
        "### The \"shape\" of a stacked parametric simulation.\n",
        "\n",
        "1. Set up the parameter space using a `tribble`.\n",
        "2. Unnest the parameter(s) of interest.\n",
        "3. Add trials to convert the parameter space into an experimental notebook.\n",
        "4. Use `map` or `pmap` to generate outcomes using the parameter column(s) as input.\n",
        "5. Proceed as usual (estimate probabilities, expected values, etc.)."
      ],
      "metadata": {
        "id": "uLrC6YJ5lMlt"
      }
    },
    {
      "cell_type": "markdown",
      "source": [
        "### Setting up the parameter space\n",
        "\n",
        "The `tribble` functions can create the nested parameter space, with\n",
        "\n",
        "1. The names of the column, starting with `~`, on the first line, and\n",
        "2. Vectors or lists of parameters on the second line.\n",
        "\n",
        "Note that you need to line up the names and parameter vectors, respectively (first with first, second with second, etc.). The output is a `tibble` with one row, containing a list column for each parameter.\n",
        "\n"
      ],
      "metadata": {
        "id": "fOULm5F9mlt7"
      }
    },
    {
      "cell_type": "code",
      "source": [
        "tribble(~n,\n",
        "        seq(5,15,5))"
      ],
      "metadata": {
        "colab": {
          "base_uri": "https://localhost:8080/",
          "height": 143
        },
        "id": "d5N-sbHTlKcO",
        "outputId": "336316f1-d864-4fb6-b119-c6d9da3bd979"
      },
      "execution_count": null,
      "outputs": [
        {
          "output_type": "display_data",
          "data": {
            "text/html": [
              "<table class=\"dataframe\">\n",
              "<caption>A tibble: 1 × 1</caption>\n",
              "<thead>\n",
              "\t<tr><th scope=col>n</th></tr>\n",
              "\t<tr><th scope=col>&lt;list&gt;</th></tr>\n",
              "</thead>\n",
              "<tbody>\n",
              "\t<tr><td>5, 10, 15</td></tr>\n",
              "</tbody>\n",
              "</table>\n"
            ],
            "text/markdown": "\nA tibble: 1 × 1\n\n| n &lt;list&gt; |\n|---|\n| 5, 10, 15 |\n\n",
            "text/latex": "A tibble: 1 × 1\n\\begin{tabular}{l}\n n\\\\\n <list>\\\\\n\\hline\n\t 5, 10, 15\\\\\n\\end{tabular}\n",
            "text/plain": [
              "  n        \n",
              "1 5, 10, 15"
            ]
          },
          "metadata": {}
        }
      ]
    },
    {
      "cell_type": "markdown",
      "source": [
        "### Unnesting the parameters.\n",
        "\n",
        "Next, we need to spread the parameters over multiple rows, with one parameter per row.  This is accomplished using `unnest_longer`"
      ],
      "metadata": {
        "id": "nGhsNzTjnkJO"
      }
    },
    {
      "cell_type": "code",
      "source": [
        "(tribble(~n,\n",
        "        seq(5,15,5))\n",
        " %>% unnest_longer(n)\n",
        " )"
      ],
      "metadata": {
        "colab": {
          "base_uri": "https://localhost:8080/",
          "height": 204
        },
        "id": "ZLhCKZati-PS",
        "outputId": "10b724b4-89e7-4607-c5ca-6ef62c285382"
      },
      "execution_count": null,
      "outputs": [
        {
          "output_type": "display_data",
          "data": {
            "text/html": [
              "<table class=\"dataframe\">\n",
              "<caption>A tibble: 3 × 1</caption>\n",
              "<thead>\n",
              "\t<tr><th scope=col>n</th></tr>\n",
              "\t<tr><th scope=col>&lt;dbl&gt;</th></tr>\n",
              "</thead>\n",
              "<tbody>\n",
              "\t<tr><td> 5</td></tr>\n",
              "\t<tr><td>10</td></tr>\n",
              "\t<tr><td>15</td></tr>\n",
              "</tbody>\n",
              "</table>\n"
            ],
            "text/markdown": "\nA tibble: 3 × 1\n\n| n &lt;dbl&gt; |\n|---|\n|  5 |\n| 10 |\n| 15 |\n\n",
            "text/latex": "A tibble: 3 × 1\n\\begin{tabular}{l}\n n\\\\\n <dbl>\\\\\n\\hline\n\t  5\\\\\n\t 10\\\\\n\t 15\\\\\n\\end{tabular}\n",
            "text/plain": [
              "  n \n",
              "1  5\n",
              "2 10\n",
              "3 15"
            ]
          },
          "metadata": {}
        }
      ]
    },
    {
      "cell_type": "markdown",
      "source": [
        "### Adding trials\n",
        "\n",
        "Next, we need to replicate each parameter over a number of trials, which is accomplished using `add_trials`"
      ],
      "metadata": {
        "id": "ORuZ2SOLn3UN"
      }
    },
    {
      "cell_type": "code",
      "source": [
        "num.trials <- 5\n",
        "(tribble(~n,\n",
        "        seq(5,15,5))\n",
        " %>% unnest_longer(n)\n",
        " %>% add_trials(num.trials)\n",
        " )"
      ],
      "metadata": {
        "colab": {
          "base_uri": "https://localhost:8080/",
          "height": 553
        },
        "id": "O19N9DCboI2W",
        "outputId": "fd9f881f-6b45-43f5-a124-9651c3c8b62c"
      },
      "execution_count": null,
      "outputs": [
        {
          "output_type": "display_data",
          "data": {
            "text/html": [
              "<table class=\"dataframe\">\n",
              "<caption>A tibble: 15 × 2</caption>\n",
              "<thead>\n",
              "\t<tr><th scope=col>n</th><th scope=col>.trial</th></tr>\n",
              "\t<tr><th scope=col>&lt;dbl&gt;</th><th scope=col>&lt;dbl&gt;</th></tr>\n",
              "</thead>\n",
              "<tbody>\n",
              "\t<tr><td> 5</td><td>1</td></tr>\n",
              "\t<tr><td> 5</td><td>2</td></tr>\n",
              "\t<tr><td> 5</td><td>3</td></tr>\n",
              "\t<tr><td> 5</td><td>4</td></tr>\n",
              "\t<tr><td> 5</td><td>5</td></tr>\n",
              "\t<tr><td>10</td><td>1</td></tr>\n",
              "\t<tr><td>10</td><td>2</td></tr>\n",
              "\t<tr><td>10</td><td>3</td></tr>\n",
              "\t<tr><td>10</td><td>4</td></tr>\n",
              "\t<tr><td>10</td><td>5</td></tr>\n",
              "\t<tr><td>15</td><td>1</td></tr>\n",
              "\t<tr><td>15</td><td>2</td></tr>\n",
              "\t<tr><td>15</td><td>3</td></tr>\n",
              "\t<tr><td>15</td><td>4</td></tr>\n",
              "\t<tr><td>15</td><td>5</td></tr>\n",
              "</tbody>\n",
              "</table>\n"
            ],
            "text/markdown": "\nA tibble: 15 × 2\n\n| n &lt;dbl&gt; | .trial &lt;dbl&gt; |\n|---|---|\n|  5 | 1 |\n|  5 | 2 |\n|  5 | 3 |\n|  5 | 4 |\n|  5 | 5 |\n| 10 | 1 |\n| 10 | 2 |\n| 10 | 3 |\n| 10 | 4 |\n| 10 | 5 |\n| 15 | 1 |\n| 15 | 2 |\n| 15 | 3 |\n| 15 | 4 |\n| 15 | 5 |\n\n",
            "text/latex": "A tibble: 15 × 2\n\\begin{tabular}{ll}\n n & .trial\\\\\n <dbl> & <dbl>\\\\\n\\hline\n\t  5 & 1\\\\\n\t  5 & 2\\\\\n\t  5 & 3\\\\\n\t  5 & 4\\\\\n\t  5 & 5\\\\\n\t 10 & 1\\\\\n\t 10 & 2\\\\\n\t 10 & 3\\\\\n\t 10 & 4\\\\\n\t 10 & 5\\\\\n\t 15 & 1\\\\\n\t 15 & 2\\\\\n\t 15 & 3\\\\\n\t 15 & 4\\\\\n\t 15 & 5\\\\\n\\end{tabular}\n",
            "text/plain": [
              "   n  .trial\n",
              "1   5 1     \n",
              "2   5 2     \n",
              "3   5 3     \n",
              "4   5 4     \n",
              "5   5 5     \n",
              "6  10 1     \n",
              "7  10 2     \n",
              "8  10 3     \n",
              "9  10 4     \n",
              "10 10 5     \n",
              "11 15 1     \n",
              "12 15 2     \n",
              "13 15 3     \n",
              "14 15 4     \n",
              "15 15 5     "
            ]
          },
          "metadata": {}
        }
      ]
    },
    {
      "cell_type": "markdown",
      "source": [
        "#### Generating outcomes with `map`\n",
        "\n",
        "To use map, we need to\n",
        "\n",
        "1. Map onto the parameter column, and\n",
        "2. Write a function that takes this parameter as input.\n",
        "\n",
        "As alway, select the version of `map` that results in an atomic column type.  In this case, we will use `map_int`, as `rbinom` generates intergers."
      ],
      "metadata": {
        "id": "o3Tu7_GJo0jq"
      }
    },
    {
      "cell_type": "code",
      "source": [
        "num.trials <- 5\n",
        "p <- 0.5\n",
        "(tribble(~n,\n",
        "        seq(5,15,5))\n",
        " %>% unnest_longer(n)\n",
        " %>% add_trials(num.trials)\n",
        " %>% mutate(num.successes = map_int(n, \\(n) rbinom(1, n, p)))\n",
        " )"
      ],
      "metadata": {
        "colab": {
          "base_uri": "https://localhost:8080/",
          "height": 553
        },
        "id": "3eH-SH0u7Juv",
        "outputId": "489ece47-2eff-4a7d-dc71-d357fe33f398"
      },
      "execution_count": null,
      "outputs": [
        {
          "output_type": "display_data",
          "data": {
            "text/html": [
              "<table class=\"dataframe\">\n",
              "<caption>A tibble: 15 × 3</caption>\n",
              "<thead>\n",
              "\t<tr><th scope=col>n</th><th scope=col>.trial</th><th scope=col>num.successes</th></tr>\n",
              "\t<tr><th scope=col>&lt;dbl&gt;</th><th scope=col>&lt;dbl&gt;</th><th scope=col>&lt;int&gt;</th></tr>\n",
              "</thead>\n",
              "<tbody>\n",
              "\t<tr><td> 5</td><td>1</td><td> 3</td></tr>\n",
              "\t<tr><td> 5</td><td>2</td><td> 4</td></tr>\n",
              "\t<tr><td> 5</td><td>3</td><td> 1</td></tr>\n",
              "\t<tr><td> 5</td><td>4</td><td> 1</td></tr>\n",
              "\t<tr><td> 5</td><td>5</td><td> 5</td></tr>\n",
              "\t<tr><td>10</td><td>1</td><td> 2</td></tr>\n",
              "\t<tr><td>10</td><td>2</td><td> 6</td></tr>\n",
              "\t<tr><td>10</td><td>3</td><td> 5</td></tr>\n",
              "\t<tr><td>10</td><td>4</td><td> 5</td></tr>\n",
              "\t<tr><td>10</td><td>5</td><td> 3</td></tr>\n",
              "\t<tr><td>15</td><td>1</td><td> 7</td></tr>\n",
              "\t<tr><td>15</td><td>2</td><td>11</td></tr>\n",
              "\t<tr><td>15</td><td>3</td><td> 7</td></tr>\n",
              "\t<tr><td>15</td><td>4</td><td> 7</td></tr>\n",
              "\t<tr><td>15</td><td>5</td><td> 7</td></tr>\n",
              "</tbody>\n",
              "</table>\n"
            ],
            "text/markdown": "\nA tibble: 15 × 3\n\n| n &lt;dbl&gt; | .trial &lt;dbl&gt; | num.successes &lt;int&gt; |\n|---|---|---|\n|  5 | 1 |  3 |\n|  5 | 2 |  4 |\n|  5 | 3 |  1 |\n|  5 | 4 |  1 |\n|  5 | 5 |  5 |\n| 10 | 1 |  2 |\n| 10 | 2 |  6 |\n| 10 | 3 |  5 |\n| 10 | 4 |  5 |\n| 10 | 5 |  3 |\n| 15 | 1 |  7 |\n| 15 | 2 | 11 |\n| 15 | 3 |  7 |\n| 15 | 4 |  7 |\n| 15 | 5 |  7 |\n\n",
            "text/latex": "A tibble: 15 × 3\n\\begin{tabular}{lll}\n n & .trial & num.successes\\\\\n <dbl> & <dbl> & <int>\\\\\n\\hline\n\t  5 & 1 &  3\\\\\n\t  5 & 2 &  4\\\\\n\t  5 & 3 &  1\\\\\n\t  5 & 4 &  1\\\\\n\t  5 & 5 &  5\\\\\n\t 10 & 1 &  2\\\\\n\t 10 & 2 &  6\\\\\n\t 10 & 3 &  5\\\\\n\t 10 & 4 &  5\\\\\n\t 10 & 5 &  3\\\\\n\t 15 & 1 &  7\\\\\n\t 15 & 2 & 11\\\\\n\t 15 & 3 &  7\\\\\n\t 15 & 4 &  7\\\\\n\t 15 & 5 &  7\\\\\n\\end{tabular}\n",
            "text/plain": [
              "   n  .trial num.successes\n",
              "1   5 1       3           \n",
              "2   5 2       4           \n",
              "3   5 3       1           \n",
              "4   5 4       1           \n",
              "5   5 5       5           \n",
              "6  10 1       2           \n",
              "7  10 2       6           \n",
              "8  10 3       5           \n",
              "9  10 4       5           \n",
              "10 10 5       3           \n",
              "11 15 1       7           \n",
              "12 15 2      11           \n",
              "13 15 3       7           \n",
              "14 15 4       7           \n",
              "15 15 5       7           "
            ]
          },
          "metadata": {}
        }
      ]
    },
    {
      "cell_type": "markdown",
      "source": [
        "### Bump trials and plot with `ggplot`\n",
        "\n",
        "Finally, we can complete the task, which involves grouping and aggregating to get estimates of the long-run mean for each sample size."
      ],
      "metadata": {
        "id": "OD1_tP2e6YOs"
      }
    },
    {
      "cell_type": "code",
      "source": [
        "# Test on small number of trials\n",
        "num.trials <- 10000\n",
        "p <- 0.5\n",
        "(tribble(~n,\n",
        "        seq(5,15,5))\n",
        " %>% unnest_longer(n)\n",
        " %>% add_trials(num.trials)\n",
        " %>% mutate(num.successes = map_int(n, \\(n) rbinom(1, n, p)))\n",
        " %>% as.data.frame\n",
        " ) -> trials\n",
        "\n",
        "ggplot(trials) +\n",
        "   geom_histogram(aes(x = num.successes), bins = 100) +\n",
        "   facet_grid(rows = vars(n))"
      ],
      "metadata": {
        "colab": {
          "base_uri": "https://localhost:8080/",
          "height": 438
        },
        "id": "KIC9ukvOiKC4",
        "outputId": "003cb6fc-b9ef-4d89-dfc6-2249f5ae67e3"
      },
      "execution_count": null,
      "outputs": [
        {
          "output_type": "display_data",
          "data": {
            "text/plain": [
              "plot without title"
            ],
            "image/png": "[encoded data removed]"
          },
          "metadata": {
            "image/png": {
              "width": 420,
              "height": 420
            }
          }
        }
      ]
    },
    {
      "cell_type": "markdown",
      "source": [
        "### Example - Plotting a 2 parameter problem\n",
        "\n",
        "Now suppose we want to compare distributions when changing both $n$ and $p$."
      ],
      "metadata": {
        "id": "9hdbfpE5n6U_"
      }
    },
    {
      "cell_type": "code",
      "source": [
        "num.trials <- 10000\n",
        "(tribble(~n,         ~p,\n",
        "         c(5,10,15), c(0.25, 0.5, 0.75))\n",
        " %>% unnest_longer(n)\n",
        " %>% unnest_longer(p)\n",
        " %>% add_trials(num.trials)\n",
        " %>% mutate(num_successes = map2_int(n, p, \\(n, p) rbinom(1, n, p)))\n",
        " ) -> trials\n",
        "\n",
        "# Make plots wider (Colab only)\n",
        "options(repr.plot.width=15, repr.plot.height=8)\n",
        "\n",
        "ggplot(trials) +\n",
        "   geom_histogram(aes(x = num_successes), bins = 200) +\n",
        "   facet_grid(rows = vars(n), cols = vars(p))"
      ],
      "metadata": {
        "colab": {
          "base_uri": "https://localhost:8080/",
          "height": 498
        },
        "id": "xYAKzmIXoNsS",
        "outputId": "218f0862-bda4-4dff-8e5c-3ca4651e708f"
      },
      "execution_count": null,
      "outputs": [
        {
          "output_type": "display_data",
          "data": {
            "text/plain": [
              "plot without title"
            ],
            "image/png": "[encoded data removed]"
          },
          "metadata": {
            "image/png": {
              "width": 900,
              "height": 480
            }
          }
        }
      ]
    },
    {
      "cell_type": "code",
      "source": [],
      "metadata": {
        "colab": {
          "base_uri": "https://localhost:8080/",
          "height": 438
        },
        "id": "LbeUGvIwohAs",
        "outputId": "63411911-9c54-447d-ca1e-d8a0f6a617c5"
      },
      "execution_count": null,
      "outputs": [
        {
          "output_type": "display_data",
          "data": {
            "text/plain": [
              "plot without title"
            ],
            "image/png": "[encoded data removed]"
          },
          "metadata": {
            "image/png": {
              "width": 420,
              "height": 420
            }
          }
        }
      ]
    },
    {
      "cell_type": "code",
      "source": [],
      "metadata": {
        "id": "NU-1JAaWoics"
      },
      "execution_count": null,
      "outputs": []
    }
  ]
}