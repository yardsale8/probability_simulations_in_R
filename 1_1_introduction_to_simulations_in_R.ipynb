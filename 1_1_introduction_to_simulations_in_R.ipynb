{
  "nbformat": 4,
  "nbformat_minor": 0,
  "metadata": {
    "colab": {
      "provenance": [],
      "authorship_tag": "ABX9TyOLrwd+HW7c0u2pB3FldJFu",
      "include_colab_link": true
    },
    "kernelspec": {
      "name": "ir",
      "display_name": "R"
    },
    "language_info": {
      "name": "R"
    }
  },
  "cells": [
    {
      "cell_type": "markdown",
      "metadata": {
        "id": "view-in-github",
        "colab_type": "text"
      },
      "source": [
        "<a href=\"https://colab.research.google.com/github/yardsale8/probability_simulations_in_R/blob/main/1_1_introduction_to_simulations_in_R.ipynb\" target=\"_parent\"><img src=\"https://colab.research.google.com/assets/colab-badge.svg\" alt=\"Open In Colab\"/></a>"
      ]
    },
    {
      "cell_type": "code",
      "execution_count": 2,
      "metadata": {
        "id": "jnk2U1N9phm-"
      },
      "outputs": [],
      "source": [
        "library(dplyr)\n",
        "library(tidyr)\n",
        "library(purrr)\n",
        "library(devtools)"
      ]
    },
    {
      "cell_type": "code",
      "source": [
        "install_github('yardsale8/purrrfect', force = TRUE)"
      ],
      "metadata": {
        "colab": {
          "base_uri": "https://localhost:8080/"
        },
        "id": "nI-RQHOxpwD2",
        "outputId": "b99d6928-f1b4-44eb-ac36-cd96f7ade0a3"
      },
      "execution_count": 3,
      "outputs": [
        {
          "output_type": "stream",
          "name": "stderr",
          "text": [
            "Downloading GitHub repo yardsale8/purrrfect@HEAD\n",
            "\n"
          ]
        },
        {
          "output_type": "stream",
          "name": "stdout",
          "text": [
            "\n",
            "\u001b[36m──\u001b[39m \u001b[36mR CMD build\u001b[39m \u001b[36m─────────────────────────────────────────────────────────────────\u001b[39m\n",
            "* checking for file ‘/tmp/Rtmps4FqfD/remotes2ac6cc6dae1/yardsale8-purrrfect-d91fae7/DESCRIPTION’ ... OK\n",
            "* preparing ‘purrrfect’:\n",
            "* checking DESCRIPTION meta-information ... OK\n",
            "* checking for LF line-endings in source and make files and shell scripts\n",
            "* checking for empty or unneeded directories\n",
            "* building ‘purrrfect_1.0.1.tar.gz’\n",
            "\n"
          ]
        },
        {
          "output_type": "stream",
          "name": "stderr",
          "text": [
            "Installing package into ‘/usr/local/lib/R/site-library’\n",
            "(as ‘lib’ is unspecified)\n",
            "\n"
          ]
        }
      ]
    },
    {
      "cell_type": "code",
      "source": [
        "library(purrrfect)"
      ],
      "metadata": {
        "id": "PehCC78lp0bd",
        "colab": {
          "base_uri": "https://localhost:8080/"
        },
        "outputId": "4fd1c886-347a-47c5-9909-e557d327fb54"
      },
      "execution_count": 4,
      "outputs": [
        {
          "output_type": "stream",
          "name": "stderr",
          "text": [
            "\n",
            "Attaching package: ‘purrrfect’\n",
            "\n",
            "\n",
            "The following objects are masked from ‘package:base’:\n",
            "\n",
            "    replicate, tabulate\n",
            "\n",
            "\n"
          ]
        }
      ]
    },
    {
      "cell_type": "markdown",
      "source": [
        "# Introduction to Simulations in `R`\n",
        "\n",
        "**Outline**\n",
        "1. Simulating Bernoulli trials using sampling with replacement.<br>\n",
        "  a. Review of Bernoulli trials<br>\n",
        "  b. Using `replicate` and `sample` to simulate Bernoulli trials<br>\n",
        "2. Simulating the classic urn problem using sampling without replacement<br>\n",
        "  a. Review of the urn problem<br>\n",
        "  b. Using `replicate` and `sample` to draws from an urn<br>\n",
        "3. Basic techniques for estimating probabilities\n",
        "  a. Using `col_num_successes` to compute the number of successes.<br>\n",
        "  b. Solving location-based questions by splitting the outcomes<br>\n",
        "  c. Estimating/tabulating the estimated probabilities."
      ],
      "metadata": {
        "id": "bmiHPUQt9-hN"
      }
    },
    {
      "cell_type": "markdown",
      "source": [
        "## Review of Bernoulli Trials\n",
        "\n",
        "Bernoulli trials have\n",
        "* independent trials\n",
        "* binary outcomes: success and failure\n",
        "* Fixed $P(success)$\n",
        "\n",
        "\n",
        "\n"
      ],
      "metadata": {
        "id": "q-6zXLI__7HO"
      }
    },
    {
      "cell_type": "markdown",
      "source": [
        "Examples\n",
        "* Tossing a fair or biased coin\n",
        "* Rolling a fair or biased die"
      ],
      "metadata": {
        "id": "XdOyFWMbAa6Z"
      }
    },
    {
      "cell_type": "markdown",
      "source": [
        "## Simulating Bernoulli trials using `replicate` and `sample`\n",
        "\n",
        "The simpliest way to simulate a Bernoulli trial is be sampling.  To do this we\n",
        "\n",
        "1. Define a vector to use as a sample space,\n",
        "2. (Optional) Define a vector of probabilies when outcomes are not equally likely, and\n",
        "3. Write and test the expression for a single trial using `sample`.  Be sure to use `replace = TRUE`\n",
        "4. Use `replicate` on this expression to get a number of trials.<br>\n",
        "   a. Prototype your code with a small number of trials. <br>\n",
        "   b. Once your code is working/verified, switch to a large number of make estimates."
      ],
      "metadata": {
        "id": "r91YMoENAoL2"
      }
    },
    {
      "cell_type": "markdown",
      "source": [
        "### Example 1 - Toss a fair coin\n",
        "\n",
        "Suppose we want to toss a fair coin three times."
      ],
      "metadata": {
        "id": "mHhn0PikBeW8"
      }
    },
    {
      "cell_type": "code",
      "source": [
        "coin <- c('H', 'T')\n",
        "coin"
      ],
      "metadata": {
        "colab": {
          "base_uri": "https://localhost:8080/",
          "height": 54
        },
        "id": "r-GwIKYeBcsD",
        "outputId": "335474dc-414e-4723-9604-a98b364f3a20"
      },
      "execution_count": 5,
      "outputs": [
        {
          "output_type": "display_data",
          "data": {
            "text/html": [
              "<style>\n",
              ".list-inline {list-style: none; margin:0; padding: 0}\n",
              ".list-inline>li {display: inline-block}\n",
              ".list-inline>li:not(:last-child)::after {content: \"\\00b7\"; padding: 0 .5ex}\n",
              "</style>\n",
              "<ol class=list-inline><li>'H'</li><li>'T'</li></ol>\n"
            ],
            "text/markdown": "1. 'H'\n2. 'T'\n\n\n",
            "text/latex": "\\begin{enumerate*}\n\\item 'H'\n\\item 'T'\n\\end{enumerate*}\n",
            "text/plain": [
              "[1] \"H\" \"T\""
            ]
          },
          "metadata": {}
        }
      ]
    },
    {
      "cell_type": "code",
      "source": [
        "sample(coin, 3, replace = TRUE)"
      ],
      "metadata": {
        "colab": {
          "base_uri": "https://localhost:8080/",
          "height": 54
        },
        "id": "wIK4rrdCB7OG",
        "outputId": "0bbee492-115b-461f-cf66-412bc02ceeaf"
      },
      "execution_count": 6,
      "outputs": [
        {
          "output_type": "display_data",
          "data": {
            "text/html": [
              "<style>\n",
              ".list-inline {list-style: none; margin:0; padding: 0}\n",
              ".list-inline>li {display: inline-block}\n",
              ".list-inline>li:not(:last-child)::after {content: \"\\00b7\"; padding: 0 .5ex}\n",
              "</style>\n",
              "<ol class=list-inline><li>'H'</li><li>'H'</li><li>'T'</li></ol>\n"
            ],
            "text/markdown": "1. 'H'\n2. 'H'\n3. 'T'\n\n\n",
            "text/latex": "\\begin{enumerate*}\n\\item 'H'\n\\item 'H'\n\\item 'T'\n\\end{enumerate*}\n",
            "text/plain": [
              "[1] \"H\" \"H\" \"T\""
            ]
          },
          "metadata": {}
        }
      ]
    },
    {
      "cell_type": "code",
      "source": [
        "trials <- replicate(10, sample(coin, 3, replace = TRUE))\n",
        "trials"
      ],
      "metadata": {
        "colab": {
          "base_uri": "https://localhost:8080/",
          "height": 421
        },
        "id": "WU-9K_LgB66z",
        "outputId": "2acd4763-89da-4240-b729-b9afffca3993"
      },
      "execution_count": 7,
      "outputs": [
        {
          "output_type": "display_data",
          "data": {
            "text/html": [
              "<table class=\"dataframe\">\n",
              "<caption>A tibble: 10 × 2</caption>\n",
              "<thead>\n",
              "\t<tr><th scope=col>.trial</th><th scope=col>.outcome</th></tr>\n",
              "\t<tr><th scope=col>&lt;dbl&gt;</th><th scope=col>&lt;list&gt;</th></tr>\n",
              "</thead>\n",
              "<tbody>\n",
              "\t<tr><td> 1</td><td>H, H, H</td></tr>\n",
              "\t<tr><td> 2</td><td>T, T, H</td></tr>\n",
              "\t<tr><td> 3</td><td>T, T, T</td></tr>\n",
              "\t<tr><td> 4</td><td>H, T, H</td></tr>\n",
              "\t<tr><td> 5</td><td>T, H, T</td></tr>\n",
              "\t<tr><td> 6</td><td>H, T, H</td></tr>\n",
              "\t<tr><td> 7</td><td>H, T, H</td></tr>\n",
              "\t<tr><td> 8</td><td>T, T, T</td></tr>\n",
              "\t<tr><td> 9</td><td>H, T, H</td></tr>\n",
              "\t<tr><td>10</td><td>T, T, H</td></tr>\n",
              "</tbody>\n",
              "</table>\n"
            ],
            "text/markdown": "\nA tibble: 10 × 2\n\n| .trial &lt;dbl&gt; | .outcome &lt;list&gt; |\n|---|---|\n|  1 | H, H, H |\n|  2 | T, T, H |\n|  3 | T, T, T |\n|  4 | H, T, H |\n|  5 | T, H, T |\n|  6 | H, T, H |\n|  7 | H, T, H |\n|  8 | T, T, T |\n|  9 | H, T, H |\n| 10 | T, T, H |\n\n",
            "text/latex": "A tibble: 10 × 2\n\\begin{tabular}{ll}\n .trial & .outcome\\\\\n <dbl> & <list>\\\\\n\\hline\n\t  1 & H, H, H\\\\\n\t  2 & T, T, H\\\\\n\t  3 & T, T, T\\\\\n\t  4 & H, T, H\\\\\n\t  5 & T, H, T\\\\\n\t  6 & H, T, H\\\\\n\t  7 & H, T, H\\\\\n\t  8 & T, T, T\\\\\n\t  9 & H, T, H\\\\\n\t 10 & T, T, H\\\\\n\\end{tabular}\n",
            "text/plain": [
              "   .trial .outcome\n",
              "1   1     H, H, H \n",
              "2   2     T, T, H \n",
              "3   3     T, T, T \n",
              "4   4     H, T, H \n",
              "5   5     T, H, T \n",
              "6   6     H, T, H \n",
              "7   7     H, T, H \n",
              "8   8     T, T, T \n",
              "9   9     H, T, H \n",
              "10 10     T, T, H "
            ]
          },
          "metadata": {}
        }
      ]
    },
    {
      "cell_type": "markdown",
      "source": [
        "#### Task - Debug the following code and insure the resulting trials are displayed."
      ],
      "metadata": {
        "id": "8TOjxqloVC09"
      }
    },
    {
      "cell_type": "code",
      "source": [
        "N <- 10 # small to prototype\n",
        "trials <- replicate(N, sample(coin, 3))"
      ],
      "metadata": {
        "id": "F976TUUSBtW9"
      },
      "execution_count": null,
      "outputs": []
    },
    {
      "cell_type": "markdown",
      "source": [
        "\n",
        "### Example 2 - Toss a biased coin\n",
        "\n",
        "Suppose we have a coin that comes up heads 65% of the time and we simulate tossing this coin four times. To simulate this scenario, we would need to either\n",
        "1. Create a sample space with 65% heads and 35% tails, or\n",
        "2. Use a vector of probabilities.\n",
        "\n",
        "Let's look at both approaches."
      ],
      "metadata": {
        "id": "PCXbV6-8CVi-"
      }
    },
    {
      "cell_type": "markdown",
      "source": [
        "#### Approach 1 - Create a proportional sample space.\n",
        "\n",
        "Note that we can use the `rep` function to replicate the heads and tails."
      ],
      "metadata": {
        "id": "UCwDadphVxHm"
      }
    },
    {
      "cell_type": "code",
      "source": [
        "coin_prop <- c(rep('H', 65), rep('T', 35))\n",
        "coin_prop"
      ],
      "metadata": {
        "colab": {
          "base_uri": "https://localhost:8080/",
          "height": 87
        },
        "id": "dr6OktOTV9PW",
        "outputId": "5968fdf4-68f2-4e60-fa42-6156fc362a01"
      },
      "execution_count": 10,
      "outputs": [
        {
          "output_type": "display_data",
          "data": {
            "text/html": [
              "<style>\n",
              ".list-inline {list-style: none; margin:0; padding: 0}\n",
              ".list-inline>li {display: inline-block}\n",
              ".list-inline>li:not(:last-child)::after {content: \"\\00b7\"; padding: 0 .5ex}\n",
              "</style>\n",
              "<ol class=list-inline><li>'H'</li><li>'H'</li><li>'H'</li><li>'H'</li><li>'H'</li><li>'H'</li><li>'H'</li><li>'H'</li><li>'H'</li><li>'H'</li><li>'H'</li><li>'H'</li><li>'H'</li><li>'H'</li><li>'H'</li><li>'H'</li><li>'H'</li><li>'H'</li><li>'H'</li><li>'H'</li><li>'H'</li><li>'H'</li><li>'H'</li><li>'H'</li><li>'H'</li><li>'H'</li><li>'H'</li><li>'H'</li><li>'H'</li><li>'H'</li><li>'H'</li><li>'H'</li><li>'H'</li><li>'H'</li><li>'H'</li><li>'H'</li><li>'H'</li><li>'H'</li><li>'H'</li><li>'H'</li><li>'H'</li><li>'H'</li><li>'H'</li><li>'H'</li><li>'H'</li><li>'H'</li><li>'H'</li><li>'H'</li><li>'H'</li><li>'H'</li><li>'H'</li><li>'H'</li><li>'H'</li><li>'H'</li><li>'H'</li><li>'H'</li><li>'H'</li><li>'H'</li><li>'H'</li><li>'H'</li><li>'H'</li><li>'H'</li><li>'H'</li><li>'H'</li><li>'H'</li><li>'T'</li><li>'T'</li><li>'T'</li><li>'T'</li><li>'T'</li><li>'T'</li><li>'T'</li><li>'T'</li><li>'T'</li><li>'T'</li><li>'T'</li><li>'T'</li><li>'T'</li><li>'T'</li><li>'T'</li><li>'T'</li><li>'T'</li><li>'T'</li><li>'T'</li><li>'T'</li><li>'T'</li><li>'T'</li><li>'T'</li><li>'T'</li><li>'T'</li><li>'T'</li><li>'T'</li><li>'T'</li><li>'T'</li><li>'T'</li><li>'T'</li><li>'T'</li><li>'T'</li><li>'T'</li><li>'T'</li></ol>\n"
            ],
            "text/markdown": "1. 'H'\n2. 'H'\n3. 'H'\n4. 'H'\n5. 'H'\n6. 'H'\n7. 'H'\n8. 'H'\n9. 'H'\n10. 'H'\n11. 'H'\n12. 'H'\n13. 'H'\n14. 'H'\n15. 'H'\n16. 'H'\n17. 'H'\n18. 'H'\n19. 'H'\n20. 'H'\n21. 'H'\n22. 'H'\n23. 'H'\n24. 'H'\n25. 'H'\n26. 'H'\n27. 'H'\n28. 'H'\n29. 'H'\n30. 'H'\n31. 'H'\n32. 'H'\n33. 'H'\n34. 'H'\n35. 'H'\n36. 'H'\n37. 'H'\n38. 'H'\n39. 'H'\n40. 'H'\n41. 'H'\n42. 'H'\n43. 'H'\n44. 'H'\n45. 'H'\n46. 'H'\n47. 'H'\n48. 'H'\n49. 'H'\n50. 'H'\n51. 'H'\n52. 'H'\n53. 'H'\n54. 'H'\n55. 'H'\n56. 'H'\n57. 'H'\n58. 'H'\n59. 'H'\n60. 'H'\n61. 'H'\n62. 'H'\n63. 'H'\n64. 'H'\n65. 'H'\n66. 'T'\n67. 'T'\n68. 'T'\n69. 'T'\n70. 'T'\n71. 'T'\n72. 'T'\n73. 'T'\n74. 'T'\n75. 'T'\n76. 'T'\n77. 'T'\n78. 'T'\n79. 'T'\n80. 'T'\n81. 'T'\n82. 'T'\n83. 'T'\n84. 'T'\n85. 'T'\n86. 'T'\n87. 'T'\n88. 'T'\n89. 'T'\n90. 'T'\n91. 'T'\n92. 'T'\n93. 'T'\n94. 'T'\n95. 'T'\n96. 'T'\n97. 'T'\n98. 'T'\n99. 'T'\n100. 'T'\n\n\n",
            "text/latex": "\\begin{enumerate*}\n\\item 'H'\n\\item 'H'\n\\item 'H'\n\\item 'H'\n\\item 'H'\n\\item 'H'\n\\item 'H'\n\\item 'H'\n\\item 'H'\n\\item 'H'\n\\item 'H'\n\\item 'H'\n\\item 'H'\n\\item 'H'\n\\item 'H'\n\\item 'H'\n\\item 'H'\n\\item 'H'\n\\item 'H'\n\\item 'H'\n\\item 'H'\n\\item 'H'\n\\item 'H'\n\\item 'H'\n\\item 'H'\n\\item 'H'\n\\item 'H'\n\\item 'H'\n\\item 'H'\n\\item 'H'\n\\item 'H'\n\\item 'H'\n\\item 'H'\n\\item 'H'\n\\item 'H'\n\\item 'H'\n\\item 'H'\n\\item 'H'\n\\item 'H'\n\\item 'H'\n\\item 'H'\n\\item 'H'\n\\item 'H'\n\\item 'H'\n\\item 'H'\n\\item 'H'\n\\item 'H'\n\\item 'H'\n\\item 'H'\n\\item 'H'\n\\item 'H'\n\\item 'H'\n\\item 'H'\n\\item 'H'\n\\item 'H'\n\\item 'H'\n\\item 'H'\n\\item 'H'\n\\item 'H'\n\\item 'H'\n\\item 'H'\n\\item 'H'\n\\item 'H'\n\\item 'H'\n\\item 'H'\n\\item 'T'\n\\item 'T'\n\\item 'T'\n\\item 'T'\n\\item 'T'\n\\item 'T'\n\\item 'T'\n\\item 'T'\n\\item 'T'\n\\item 'T'\n\\item 'T'\n\\item 'T'\n\\item 'T'\n\\item 'T'\n\\item 'T'\n\\item 'T'\n\\item 'T'\n\\item 'T'\n\\item 'T'\n\\item 'T'\n\\item 'T'\n\\item 'T'\n\\item 'T'\n\\item 'T'\n\\item 'T'\n\\item 'T'\n\\item 'T'\n\\item 'T'\n\\item 'T'\n\\item 'T'\n\\item 'T'\n\\item 'T'\n\\item 'T'\n\\item 'T'\n\\item 'T'\n\\end{enumerate*}\n",
            "text/plain": [
              "  [1] \"H\" \"H\" \"H\" \"H\" \"H\" \"H\" \"H\" \"H\" \"H\" \"H\" \"H\" \"H\" \"H\" \"H\" \"H\" \"H\" \"H\" \"H\"\n",
              " [19] \"H\" \"H\" \"H\" \"H\" \"H\" \"H\" \"H\" \"H\" \"H\" \"H\" \"H\" \"H\" \"H\" \"H\" \"H\" \"H\" \"H\" \"H\"\n",
              " [37] \"H\" \"H\" \"H\" \"H\" \"H\" \"H\" \"H\" \"H\" \"H\" \"H\" \"H\" \"H\" \"H\" \"H\" \"H\" \"H\" \"H\" \"H\"\n",
              " [55] \"H\" \"H\" \"H\" \"H\" \"H\" \"H\" \"H\" \"H\" \"H\" \"H\" \"H\" \"T\" \"T\" \"T\" \"T\" \"T\" \"T\" \"T\"\n",
              " [73] \"T\" \"T\" \"T\" \"T\" \"T\" \"T\" \"T\" \"T\" \"T\" \"T\" \"T\" \"T\" \"T\" \"T\" \"T\" \"T\" \"T\" \"T\"\n",
              " [91] \"T\" \"T\" \"T\" \"T\" \"T\" \"T\" \"T\" \"T\" \"T\" \"T\""
            ]
          },
          "metadata": {}
        }
      ]
    },
    {
      "cell_type": "markdown",
      "source": [
        "We can use `tabulate` to verify the sample space has the correct proportions."
      ],
      "metadata": {
        "id": "kGGM1x8uWbF1"
      }
    },
    {
      "cell_type": "code",
      "source": [
        "data.frame(x = coin_prop) %>% tabulate(x)"
      ],
      "metadata": {
        "colab": {
          "base_uri": "https://localhost:8080/",
          "height": 163
        },
        "id": "1uL023JsWIig",
        "outputId": "7c333572-1ab8-4f0c-c122-1fbaff91895e"
      },
      "execution_count": 13,
      "outputs": [
        {
          "output_type": "display_data",
          "data": {
            "text/html": [
              "<table class=\"dataframe\">\n",
              "<caption>A data.frame: 1 × 2</caption>\n",
              "<thead>\n",
              "\t<tr><th scope=col>X = H</th><th scope=col>X = T</th></tr>\n",
              "\t<tr><th scope=col>&lt;dbl&gt;</th><th scope=col>&lt;dbl&gt;</th></tr>\n",
              "</thead>\n",
              "<tbody>\n",
              "\t<tr><td>0.65</td><td>0.35</td></tr>\n",
              "</tbody>\n",
              "</table>\n"
            ],
            "text/markdown": "\nA data.frame: 1 × 2\n\n| X = H &lt;dbl&gt; | X = T &lt;dbl&gt; |\n|---|---|\n| 0.65 | 0.35 |\n\n",
            "text/latex": "A data.frame: 1 × 2\n\\begin{tabular}{ll}\n X = H & X = T\\\\\n <dbl> & <dbl>\\\\\n\\hline\n\t 0.65 & 0.35\\\\\n\\end{tabular}\n",
            "text/plain": [
              "  X = H X = T\n",
              "1 0.65  0.35 "
            ]
          },
          "metadata": {}
        }
      ]
    },
    {
      "cell_type": "code",
      "source": [
        "sample(coin_prop, 4, replace=TRUE)"
      ],
      "metadata": {
        "colab": {
          "base_uri": "https://localhost:8080/",
          "height": 54
        },
        "id": "UipS7fCLWmww",
        "outputId": "cbdc2539-1716-47b5-d027-f9b07780b200"
      },
      "execution_count": 14,
      "outputs": [
        {
          "output_type": "display_data",
          "data": {
            "text/html": [
              "<style>\n",
              ".list-inline {list-style: none; margin:0; padding: 0}\n",
              ".list-inline>li {display: inline-block}\n",
              ".list-inline>li:not(:last-child)::after {content: \"\\00b7\"; padding: 0 .5ex}\n",
              "</style>\n",
              "<ol class=list-inline><li>'H'</li><li>'H'</li><li>'H'</li><li>'H'</li></ol>\n"
            ],
            "text/markdown": "1. 'H'\n2. 'H'\n3. 'H'\n4. 'H'\n\n\n",
            "text/latex": "\\begin{enumerate*}\n\\item 'H'\n\\item 'H'\n\\item 'H'\n\\item 'H'\n\\end{enumerate*}\n",
            "text/plain": [
              "[1] \"H\" \"H\" \"H\" \"H\""
            ]
          },
          "metadata": {}
        }
      ]
    },
    {
      "cell_type": "code",
      "source": [
        "replicate(10, sample(coin_prop, 4, replace=TRUE))"
      ],
      "metadata": {
        "colab": {
          "base_uri": "https://localhost:8080/",
          "height": 421
        },
        "id": "X7CYwUxTWsil",
        "outputId": "0d695c37-3a90-47e8-aa88-4978cbe55609"
      },
      "execution_count": 15,
      "outputs": [
        {
          "output_type": "display_data",
          "data": {
            "text/html": [
              "<table class=\"dataframe\">\n",
              "<caption>A tibble: 10 × 2</caption>\n",
              "<thead>\n",
              "\t<tr><th scope=col>.trial</th><th scope=col>.outcome</th></tr>\n",
              "\t<tr><th scope=col>&lt;dbl&gt;</th><th scope=col>&lt;list&gt;</th></tr>\n",
              "</thead>\n",
              "<tbody>\n",
              "\t<tr><td> 1</td><td>H, T, T, H</td></tr>\n",
              "\t<tr><td> 2</td><td>H, T, H, H</td></tr>\n",
              "\t<tr><td> 3</td><td>T, H, H, T</td></tr>\n",
              "\t<tr><td> 4</td><td>H, H, H, H</td></tr>\n",
              "\t<tr><td> 5</td><td>T, T, H, H</td></tr>\n",
              "\t<tr><td> 6</td><td>H, H, H, H</td></tr>\n",
              "\t<tr><td> 7</td><td>T, T, H, H</td></tr>\n",
              "\t<tr><td> 8</td><td>H, H, T, T</td></tr>\n",
              "\t<tr><td> 9</td><td>H, H, T, H</td></tr>\n",
              "\t<tr><td>10</td><td>H, H, H, T</td></tr>\n",
              "</tbody>\n",
              "</table>\n"
            ],
            "text/markdown": "\nA tibble: 10 × 2\n\n| .trial &lt;dbl&gt; | .outcome &lt;list&gt; |\n|---|---|\n|  1 | H, T, T, H |\n|  2 | H, T, H, H |\n|  3 | T, H, H, T |\n|  4 | H, H, H, H |\n|  5 | T, T, H, H |\n|  6 | H, H, H, H |\n|  7 | T, T, H, H |\n|  8 | H, H, T, T |\n|  9 | H, H, T, H |\n| 10 | H, H, H, T |\n\n",
            "text/latex": "A tibble: 10 × 2\n\\begin{tabular}{ll}\n .trial & .outcome\\\\\n <dbl> & <list>\\\\\n\\hline\n\t  1 & H, T, T, H\\\\\n\t  2 & H, T, H, H\\\\\n\t  3 & T, H, H, T\\\\\n\t  4 & H, H, H, H\\\\\n\t  5 & T, T, H, H\\\\\n\t  6 & H, H, H, H\\\\\n\t  7 & T, T, H, H\\\\\n\t  8 & H, H, T, T\\\\\n\t  9 & H, H, T, H\\\\\n\t 10 & H, H, H, T\\\\\n\\end{tabular}\n",
            "text/plain": [
              "   .trial .outcome  \n",
              "1   1     H, T, T, H\n",
              "2   2     H, T, H, H\n",
              "3   3     T, H, H, T\n",
              "4   4     H, H, H, H\n",
              "5   5     T, T, H, H\n",
              "6   6     H, H, H, H\n",
              "7   7     T, T, H, H\n",
              "8   8     H, H, T, T\n",
              "9   9     H, H, T, H\n",
              "10 10     H, H, H, T"
            ]
          },
          "metadata": {}
        }
      ]
    },
    {
      "cell_type": "markdown",
      "source": [
        "#### Approach 2 - Use a vector of probabilites.\n",
        "\n",
        "We start by defining the collect of unique outcomes."
      ],
      "metadata": {
        "id": "IBMpAAuIW4f5"
      }
    },
    {
      "cell_type": "code",
      "source": [
        "coin <- c('H', 'T')\n",
        "coin"
      ],
      "metadata": {
        "colab": {
          "base_uri": "https://localhost:8080/",
          "height": 54
        },
        "id": "POn0Nes9Cm3P",
        "outputId": "1abec7ea-c315-4fb4-ea69-ed3f9a178176"
      },
      "execution_count": 19,
      "outputs": [
        {
          "output_type": "display_data",
          "data": {
            "text/html": [
              "<style>\n",
              ".list-inline {list-style: none; margin:0; padding: 0}\n",
              ".list-inline>li {display: inline-block}\n",
              ".list-inline>li:not(:last-child)::after {content: \"\\00b7\"; padding: 0 .5ex}\n",
              "</style>\n",
              "<ol class=list-inline><li>'H'</li><li>'T'</li></ol>\n"
            ],
            "text/markdown": "1. 'H'\n2. 'T'\n\n\n",
            "text/latex": "\\begin{enumerate*}\n\\item 'H'\n\\item 'T'\n\\end{enumerate*}\n",
            "text/plain": [
              "[1] \"H\" \"T\""
            ]
          },
          "metadata": {}
        }
      ]
    },
    {
      "cell_type": "markdown",
      "source": [
        "Next, we define the respective probabilites."
      ],
      "metadata": {
        "id": "rNk0ukkOXIqz"
      }
    },
    {
      "cell_type": "code",
      "source": [
        "ps <- c(0.65, 0.35)\n",
        "ps"
      ],
      "metadata": {
        "colab": {
          "base_uri": "https://localhost:8080/",
          "height": 54
        },
        "id": "LZbd6IM4Crot",
        "outputId": "62d47f84-1af9-48b1-b6f3-c846db907f05"
      },
      "execution_count": 20,
      "outputs": [
        {
          "output_type": "display_data",
          "data": {
            "text/html": [
              "<style>\n",
              ".list-inline {list-style: none; margin:0; padding: 0}\n",
              ".list-inline>li {display: inline-block}\n",
              ".list-inline>li:not(:last-child)::after {content: \"\\00b7\"; padding: 0 .5ex}\n",
              "</style>\n",
              "<ol class=list-inline><li>0.65</li><li>0.35</li></ol>\n"
            ],
            "text/markdown": "1. 0.65\n2. 0.35\n\n\n",
            "text/latex": "\\begin{enumerate*}\n\\item 0.65\n\\item 0.35\n\\end{enumerate*}\n",
            "text/plain": [
              "[1] 0.65 0.35"
            ]
          },
          "metadata": {}
        }
      ]
    },
    {
      "cell_type": "markdown",
      "source": [
        "The probability vector is passed to the optional `prop` argument of `sample`."
      ],
      "metadata": {
        "id": "ITyP9PdlXOk_"
      }
    },
    {
      "cell_type": "code",
      "source": [
        "sample(coin, 4, replace = TRUE, prob = ps)"
      ],
      "metadata": {
        "colab": {
          "base_uri": "https://localhost:8080/",
          "height": 54
        },
        "id": "pGCAp0IyCz9s",
        "outputId": "72a2f113-f094-4f33-f9e8-2f5f71668be4"
      },
      "execution_count": 21,
      "outputs": [
        {
          "output_type": "display_data",
          "data": {
            "text/html": [
              "<style>\n",
              ".list-inline {list-style: none; margin:0; padding: 0}\n",
              ".list-inline>li {display: inline-block}\n",
              ".list-inline>li:not(:last-child)::after {content: \"\\00b7\"; padding: 0 .5ex}\n",
              "</style>\n",
              "<ol class=list-inline><li>'T'</li><li>'H'</li><li>'H'</li><li>'H'</li></ol>\n"
            ],
            "text/markdown": "1. 'T'\n2. 'H'\n3. 'H'\n4. 'H'\n\n\n",
            "text/latex": "\\begin{enumerate*}\n\\item 'T'\n\\item 'H'\n\\item 'H'\n\\item 'H'\n\\end{enumerate*}\n",
            "text/plain": [
              "[1] \"T\" \"H\" \"H\" \"H\""
            ]
          },
          "metadata": {}
        }
      ]
    },
    {
      "cell_type": "markdown",
      "source": [
        "Once we have an expression for one trial, we wrap this expression in `replicate`"
      ],
      "metadata": {
        "id": "6Nij4avbXaOc"
      }
    },
    {
      "cell_type": "code",
      "source": [
        "trials <- replicate(10, sample(coin, 4, replace = TRUE, prob = ps))\n",
        "trials"
      ],
      "metadata": {
        "colab": {
          "base_uri": "https://localhost:8080/",
          "height": 421
        },
        "id": "kZvPNrsHC_M1",
        "outputId": "0d94a769-cba0-432f-8ed3-748b54b260a0"
      },
      "execution_count": 22,
      "outputs": [
        {
          "output_type": "display_data",
          "data": {
            "text/html": [
              "<table class=\"dataframe\">\n",
              "<caption>A tibble: 10 × 2</caption>\n",
              "<thead>\n",
              "\t<tr><th scope=col>.trial</th><th scope=col>.outcome</th></tr>\n",
              "\t<tr><th scope=col>&lt;dbl&gt;</th><th scope=col>&lt;list&gt;</th></tr>\n",
              "</thead>\n",
              "<tbody>\n",
              "\t<tr><td> 1</td><td>H, H, H, T</td></tr>\n",
              "\t<tr><td> 2</td><td>H, H, H, H</td></tr>\n",
              "\t<tr><td> 3</td><td>T, H, H, H</td></tr>\n",
              "\t<tr><td> 4</td><td>T, H, T, H</td></tr>\n",
              "\t<tr><td> 5</td><td>H, H, T, H</td></tr>\n",
              "\t<tr><td> 6</td><td>H, H, H, H</td></tr>\n",
              "\t<tr><td> 7</td><td>T, H, H, H</td></tr>\n",
              "\t<tr><td> 8</td><td>T, T, H, T</td></tr>\n",
              "\t<tr><td> 9</td><td>T, T, H, H</td></tr>\n",
              "\t<tr><td>10</td><td>T, H, H, T</td></tr>\n",
              "</tbody>\n",
              "</table>\n"
            ],
            "text/markdown": "\nA tibble: 10 × 2\n\n| .trial &lt;dbl&gt; | .outcome &lt;list&gt; |\n|---|---|\n|  1 | H, H, H, T |\n|  2 | H, H, H, H |\n|  3 | T, H, H, H |\n|  4 | T, H, T, H |\n|  5 | H, H, T, H |\n|  6 | H, H, H, H |\n|  7 | T, H, H, H |\n|  8 | T, T, H, T |\n|  9 | T, T, H, H |\n| 10 | T, H, H, T |\n\n",
            "text/latex": "A tibble: 10 × 2\n\\begin{tabular}{ll}\n .trial & .outcome\\\\\n <dbl> & <list>\\\\\n\\hline\n\t  1 & H, H, H, T\\\\\n\t  2 & H, H, H, H\\\\\n\t  3 & T, H, H, H\\\\\n\t  4 & T, H, T, H\\\\\n\t  5 & H, H, T, H\\\\\n\t  6 & H, H, H, H\\\\\n\t  7 & T, H, H, H\\\\\n\t  8 & T, T, H, T\\\\\n\t  9 & T, T, H, H\\\\\n\t 10 & T, H, H, T\\\\\n\\end{tabular}\n",
            "text/plain": [
              "   .trial .outcome  \n",
              "1   1     H, H, H, T\n",
              "2   2     H, H, H, H\n",
              "3   3     T, H, H, H\n",
              "4   4     T, H, T, H\n",
              "5   5     H, H, T, H\n",
              "6   6     H, H, H, H\n",
              "7   7     T, H, H, H\n",
              "8   8     T, T, H, T\n",
              "9   9     T, T, H, H\n",
              "10 10     T, H, H, T"
            ]
          },
          "metadata": {}
        }
      ]
    },
    {
      "cell_type": "markdown",
      "source": [
        "## <font color='red'> Exercise 1 - Rolling a 6-sided die </font>\n",
        "\n",
        "Simulate rolling a fair 6-sided die."
      ],
      "metadata": {
        "id": "aaCh03cZDKCZ"
      }
    },
    {
      "cell_type": "code",
      "source": [
        "# Your code here"
      ],
      "metadata": {
        "id": "8MgAlEVxDYIz"
      },
      "execution_count": null,
      "outputs": []
    },
    {
      "cell_type": "markdown",
      "source": [],
      "metadata": {
        "id": "qaX1v5k-DbXr"
      }
    },
    {
      "cell_type": "markdown",
      "source": [
        "## Review - The classic urn problem.\n",
        "\n",
        "In the classic urn problem, we have\n",
        "1. An urn containing a finite number of chips of two colors\n",
        "2. A fixed number of chips drawn from this urn without replacement,"
      ],
      "metadata": {
        "id": "7x7N9JrCDu5w"
      }
    },
    {
      "cell_type": "markdown",
      "source": [
        "## Simulating the urn problem using `replicate` and `sample`\n",
        "\n",
        "The simpliest way to simulate chips drawn from an urn is also sampling.  To do this we\n",
        "\n",
        "1. Define a vector to use as a sample space.  We can use the `rep` function to get replicates for each color.\n",
        "2. Write and test the expression for a single trial using `sample`.  Make sure to use `replace = FALSE`\n",
        "3. Use `replicate` on this expression to get a number of trials.<br>\n",
        "   a. Prototype your code with a small number of trials. <br>\n",
        "   b. Once your code is working/verified, switch to a large number of make estimates."
      ],
      "metadata": {
        "id": "kw98071vEbh7"
      }
    },
    {
      "cell_type": "markdown",
      "source": [
        "### Example 3\n",
        "\n",
        "Suppose we have\n",
        "* an urn with five blue chips and three white chips and\n",
        "* we will be drawing two chips at random without replacement."
      ],
      "metadata": {
        "id": "bIwaKizMEQ_e"
      }
    },
    {
      "cell_type": "code",
      "source": [
        "urn <- c(rep('B', 5), rep('W', 3))\n",
        "urn"
      ],
      "metadata": {
        "colab": {
          "base_uri": "https://localhost:8080/",
          "height": 54
        },
        "id": "6MFTZgKRqQU-",
        "outputId": "0ddc278a-69a4-4ee4-fefd-d6ccd4bd51d8"
      },
      "execution_count": 23,
      "outputs": [
        {
          "output_type": "display_data",
          "data": {
            "text/html": [
              "<style>\n",
              ".list-inline {list-style: none; margin:0; padding: 0}\n",
              ".list-inline>li {display: inline-block}\n",
              ".list-inline>li:not(:last-child)::after {content: \"\\00b7\"; padding: 0 .5ex}\n",
              "</style>\n",
              "<ol class=list-inline><li>'B'</li><li>'B'</li><li>'B'</li><li>'B'</li><li>'B'</li><li>'W'</li><li>'W'</li><li>'W'</li></ol>\n"
            ],
            "text/markdown": "1. 'B'\n2. 'B'\n3. 'B'\n4. 'B'\n5. 'B'\n6. 'W'\n7. 'W'\n8. 'W'\n\n\n",
            "text/latex": "\\begin{enumerate*}\n\\item 'B'\n\\item 'B'\n\\item 'B'\n\\item 'B'\n\\item 'B'\n\\item 'W'\n\\item 'W'\n\\item 'W'\n\\end{enumerate*}\n",
            "text/plain": [
              "[1] \"B\" \"B\" \"B\" \"B\" \"B\" \"W\" \"W\" \"W\""
            ]
          },
          "metadata": {}
        }
      ]
    },
    {
      "cell_type": "code",
      "source": [
        "sample(urn, 2, replace = FALSE)"
      ],
      "metadata": {
        "colab": {
          "base_uri": "https://localhost:8080/",
          "height": 54
        },
        "id": "Y91wh5dFFMqK",
        "outputId": "1eecde0a-63c8-4050-96e4-23771ab01fa0"
      },
      "execution_count": 24,
      "outputs": [
        {
          "output_type": "display_data",
          "data": {
            "text/html": [
              "<style>\n",
              ".list-inline {list-style: none; margin:0; padding: 0}\n",
              ".list-inline>li {display: inline-block}\n",
              ".list-inline>li:not(:last-child)::after {content: \"\\00b7\"; padding: 0 .5ex}\n",
              "</style>\n",
              "<ol class=list-inline><li>'W'</li><li>'B'</li></ol>\n"
            ],
            "text/markdown": "1. 'W'\n2. 'B'\n\n\n",
            "text/latex": "\\begin{enumerate*}\n\\item 'W'\n\\item 'B'\n\\end{enumerate*}\n",
            "text/plain": [
              "[1] \"W\" \"B\""
            ]
          },
          "metadata": {}
        }
      ]
    },
    {
      "cell_type": "code",
      "source": [
        "trials <- replicate(10, sample(urn, 2, replace = FALSE))\n",
        "trials"
      ],
      "metadata": {
        "colab": {
          "base_uri": "https://localhost:8080/",
          "height": 421
        },
        "id": "29PvFYeEFbb_",
        "outputId": "3ac7657e-1bae-48ad-97a0-965885503a1e"
      },
      "execution_count": 25,
      "outputs": [
        {
          "output_type": "display_data",
          "data": {
            "text/html": [
              "<table class=\"dataframe\">\n",
              "<caption>A tibble: 10 × 2</caption>\n",
              "<thead>\n",
              "\t<tr><th scope=col>.trial</th><th scope=col>.outcome</th></tr>\n",
              "\t<tr><th scope=col>&lt;dbl&gt;</th><th scope=col>&lt;list&gt;</th></tr>\n",
              "</thead>\n",
              "<tbody>\n",
              "\t<tr><td> 1</td><td>B, B</td></tr>\n",
              "\t<tr><td> 2</td><td>W, B</td></tr>\n",
              "\t<tr><td> 3</td><td>B, W</td></tr>\n",
              "\t<tr><td> 4</td><td>W, W</td></tr>\n",
              "\t<tr><td> 5</td><td>B, W</td></tr>\n",
              "\t<tr><td> 6</td><td>W, B</td></tr>\n",
              "\t<tr><td> 7</td><td>W, B</td></tr>\n",
              "\t<tr><td> 8</td><td>B, B</td></tr>\n",
              "\t<tr><td> 9</td><td>B, B</td></tr>\n",
              "\t<tr><td>10</td><td>B, W</td></tr>\n",
              "</tbody>\n",
              "</table>\n"
            ],
            "text/markdown": "\nA tibble: 10 × 2\n\n| .trial &lt;dbl&gt; | .outcome &lt;list&gt; |\n|---|---|\n|  1 | B, B |\n|  2 | W, B |\n|  3 | B, W |\n|  4 | W, W |\n|  5 | B, W |\n|  6 | W, B |\n|  7 | W, B |\n|  8 | B, B |\n|  9 | B, B |\n| 10 | B, W |\n\n",
            "text/latex": "A tibble: 10 × 2\n\\begin{tabular}{ll}\n .trial & .outcome\\\\\n <dbl> & <list>\\\\\n\\hline\n\t  1 & B, B\\\\\n\t  2 & W, B\\\\\n\t  3 & B, W\\\\\n\t  4 & W, W\\\\\n\t  5 & B, W\\\\\n\t  6 & W, B\\\\\n\t  7 & W, B\\\\\n\t  8 & B, B\\\\\n\t  9 & B, B\\\\\n\t 10 & B, W\\\\\n\\end{tabular}\n",
            "text/plain": [
              "   .trial .outcome\n",
              "1   1     B, B    \n",
              "2   2     W, B    \n",
              "3   3     B, W    \n",
              "4   4     W, W    \n",
              "5   5     B, W    \n",
              "6   6     W, B    \n",
              "7   7     W, B    \n",
              "8   8     B, B    \n",
              "9   9     B, B    \n",
              "10 10     B, W    "
            ]
          },
          "metadata": {}
        }
      ]
    },
    {
      "cell_type": "markdown",
      "source": [
        "## Tricks for estimating probabilities\n",
        "\n",
        "Next, we need to manipulate the table of results, then estimate the proability for question(s) of interest.  We will look at the following tricks.\n",
        "1. Compute the number of success for both simple and compound events.\n",
        "2. Create a Boolean column and use `estimate_prob` to make an estimate.\n",
        "3. Split the outcomes and use `tabulate` to compute a marginal distribution.\n",
        "4. Split the outcomes to answer questions about the location of the"
      ],
      "metadata": {
        "id": "-edZXwUdZmsw"
      }
    },
    {
      "cell_type": "markdown",
      "source": [
        "### Guiding experiment\n",
        "\n",
        "Suppose we want to roll a 20-sided die three times.  First, let's write the code to simulate the trials."
      ],
      "metadata": {
        "id": "9fVf2rrBa2VH"
      }
    },
    {
      "cell_type": "code",
      "source": [
        "die <- 1:20\n",
        "die"
      ],
      "metadata": {
        "colab": {
          "base_uri": "https://localhost:8080/",
          "height": 54
        },
        "id": "RyFX1UnibK20",
        "outputId": "b61303ec-9147-45dc-d9d4-0b1f056763a3"
      },
      "execution_count": 26,
      "outputs": [
        {
          "output_type": "display_data",
          "data": {
            "text/html": [
              "<style>\n",
              ".list-inline {list-style: none; margin:0; padding: 0}\n",
              ".list-inline>li {display: inline-block}\n",
              ".list-inline>li:not(:last-child)::after {content: \"\\00b7\"; padding: 0 .5ex}\n",
              "</style>\n",
              "<ol class=list-inline><li>1</li><li>2</li><li>3</li><li>4</li><li>5</li><li>6</li><li>7</li><li>8</li><li>9</li><li>10</li><li>11</li><li>12</li><li>13</li><li>14</li><li>15</li><li>16</li><li>17</li><li>18</li><li>19</li><li>20</li></ol>\n"
            ],
            "text/markdown": "1. 1\n2. 2\n3. 3\n4. 4\n5. 5\n6. 6\n7. 7\n8. 8\n9. 9\n10. 10\n11. 11\n12. 12\n13. 13\n14. 14\n15. 15\n16. 16\n17. 17\n18. 18\n19. 19\n20. 20\n\n\n",
            "text/latex": "\\begin{enumerate*}\n\\item 1\n\\item 2\n\\item 3\n\\item 4\n\\item 5\n\\item 6\n\\item 7\n\\item 8\n\\item 9\n\\item 10\n\\item 11\n\\item 12\n\\item 13\n\\item 14\n\\item 15\n\\item 16\n\\item 17\n\\item 18\n\\item 19\n\\item 20\n\\end{enumerate*}\n",
            "text/plain": [
              " [1]  1  2  3  4  5  6  7  8  9 10 11 12 13 14 15 16 17 18 19 20"
            ]
          },
          "metadata": {}
        }
      ]
    },
    {
      "cell_type": "code",
      "source": [
        "sample(die, 3, replace = TRUE)"
      ],
      "metadata": {
        "colab": {
          "base_uri": "https://localhost:8080/",
          "height": 54
        },
        "id": "7dqNdnTAbV7A",
        "outputId": "febe6e75-65d7-4058-b736-623b13328c57"
      },
      "execution_count": 27,
      "outputs": [
        {
          "output_type": "display_data",
          "data": {
            "text/html": [
              "<style>\n",
              ".list-inline {list-style: none; margin:0; padding: 0}\n",
              ".list-inline>li {display: inline-block}\n",
              ".list-inline>li:not(:last-child)::after {content: \"\\00b7\"; padding: 0 .5ex}\n",
              "</style>\n",
              "<ol class=list-inline><li>19</li><li>15</li><li>1</li></ol>\n"
            ],
            "text/markdown": "1. 19\n2. 15\n3. 1\n\n\n",
            "text/latex": "\\begin{enumerate*}\n\\item 19\n\\item 15\n\\item 1\n\\end{enumerate*}\n",
            "text/plain": [
              "[1] 19 15  1"
            ]
          },
          "metadata": {}
        }
      ]
    },
    {
      "cell_type": "code",
      "source": [
        "replicate(10, sample(die, 3, replace = TRUE))"
      ],
      "metadata": {
        "colab": {
          "base_uri": "https://localhost:8080/",
          "height": 421
        },
        "id": "kIsDfR9gFUyu",
        "outputId": "e9b9a580-2eef-4466-b810-ca680f30cc05"
      },
      "execution_count": 28,
      "outputs": [
        {
          "output_type": "display_data",
          "data": {
            "text/html": [
              "<table class=\"dataframe\">\n",
              "<caption>A tibble: 10 × 2</caption>\n",
              "<thead>\n",
              "\t<tr><th scope=col>.trial</th><th scope=col>.outcome</th></tr>\n",
              "\t<tr><th scope=col>&lt;dbl&gt;</th><th scope=col>&lt;list&gt;</th></tr>\n",
              "</thead>\n",
              "<tbody>\n",
              "\t<tr><td> 1</td><td>15, 7, 15</td></tr>\n",
              "\t<tr><td> 2</td><td>2, 17, 13</td></tr>\n",
              "\t<tr><td> 3</td><td>20, 15, 8</td></tr>\n",
              "\t<tr><td> 4</td><td>3, 1, 11</td></tr>\n",
              "\t<tr><td> 5</td><td>19, 2, 1</td></tr>\n",
              "\t<tr><td> 6</td><td>12, 12, 3</td></tr>\n",
              "\t<tr><td> 7</td><td>8, 16, 1</td></tr>\n",
              "\t<tr><td> 8</td><td>3, 10, 3</td></tr>\n",
              "\t<tr><td> 9</td><td>15, 4, 7</td></tr>\n",
              "\t<tr><td>10</td><td>20, 5, 7</td></tr>\n",
              "</tbody>\n",
              "</table>\n"
            ],
            "text/markdown": "\nA tibble: 10 × 2\n\n| .trial &lt;dbl&gt; | .outcome &lt;list&gt; |\n|---|---|\n|  1 | 15, 7, 15 |\n|  2 | 2, 17, 13 |\n|  3 | 20, 15, 8 |\n|  4 | 3, 1, 11 |\n|  5 | 19, 2, 1 |\n|  6 | 12, 12, 3 |\n|  7 | 8, 16, 1 |\n|  8 | 3, 10, 3 |\n|  9 | 15, 4, 7 |\n| 10 | 20, 5, 7 |\n\n",
            "text/latex": "A tibble: 10 × 2\n\\begin{tabular}{ll}\n .trial & .outcome\\\\\n <dbl> & <list>\\\\\n\\hline\n\t  1 & 15, 7, 15\\\\\n\t  2 & 2, 17, 13\\\\\n\t  3 & 20, 15, 8\\\\\n\t  4 & 3, 1, 11\\\\\n\t  5 & 19, 2, 1\\\\\n\t  6 & 12, 12, 3\\\\\n\t  7 & 8, 16, 1\\\\\n\t  8 & 3, 10, 3\\\\\n\t  9 & 15, 4, 7\\\\\n\t 10 & 20, 5, 7\\\\\n\\end{tabular}\n",
            "text/plain": [
              "   .trial .outcome \n",
              "1   1     15, 7, 15\n",
              "2   2     2, 17, 13\n",
              "3   3     20, 15, 8\n",
              "4   4     3, 1, 11 \n",
              "5   5     19, 2, 1 \n",
              "6   6     12, 12, 3\n",
              "7   7     8, 16, 1 \n",
              "8   8     3, 10, 3 \n",
              "9   9     15, 4, 7 \n",
              "10 10     20, 5, 7 "
            ]
          },
          "metadata": {}
        }
      ]
    },
    {
      "cell_type": "markdown",
      "source": [
        "### Trick 1.  Compute the number of success for both simple and compound events.\n",
        "\n",
        "1. **Simple Event.** Pipe into `col_num_successes(.outcome, value)`\n",
        "2. **Compount Event.**<br>\n",
        "  a. Write/save a Bolean success function, and<br>\n",
        "  b. Pipe into `col_num_successes(.outcome, functions)`"
      ],
      "metadata": {
        "id": "7j36Nt6xbwjv"
      }
    },
    {
      "cell_type": "markdown",
      "source": [
        "#### Simple Event Example\n",
        "\n",
        "Suppose we consider any roll of 18 a success.  Estimate the distribution of the number of successes."
      ],
      "metadata": {
        "id": "0XWsvE-mcoZJ"
      }
    },
    {
      "cell_type": "markdown",
      "source": [
        "**Step 1 - Use `col_num_successes` to count the number of successes.**\n",
        "\n",
        "Since there is exactly on outcome in this event, we can simply pass this outcome to the function."
      ],
      "metadata": {
        "id": "ZPqHRdtLZEdk"
      }
    },
    {
      "cell_type": "code",
      "source": [
        "(replicate(10, sample(die, 3, replace = TRUE))\n",
        " %>% col_num_successes(.outcome, 18)\n",
        ")"
      ],
      "metadata": {
        "colab": {
          "base_uri": "https://localhost:8080/",
          "height": 436
        },
        "id": "Pk-4wq5_c0Gi",
        "outputId": "4238670a-915b-4ac4-f7a1-714b20348fb9"
      },
      "execution_count": null,
      "outputs": [
        {
          "output_type": "display_data",
          "data": {
            "text/html": [
              "<table class=\"dataframe\">\n",
              "<caption>A tibble: 10 × 3</caption>\n",
              "<thead>\n",
              "\t<tr><th scope=col>.trial</th><th scope=col>.outcome</th><th scope=col>.successes</th></tr>\n",
              "\t<tr><th scope=col>&lt;dbl&gt;</th><th scope=col>&lt;list&gt;</th><th scope=col>&lt;int&gt;</th></tr>\n",
              "</thead>\n",
              "<tbody>\n",
              "\t<tr><td> 1</td><td>3, 18, 2</td><td>1</td></tr>\n",
              "\t<tr><td> 2</td><td>9, 6, 16</td><td>0</td></tr>\n",
              "\t<tr><td> 3</td><td>13, 3, 12</td><td>0</td></tr>\n",
              "\t<tr><td> 4</td><td>3, 13, 14</td><td>0</td></tr>\n",
              "\t<tr><td> 5</td><td>18, 9, 12</td><td>1</td></tr>\n",
              "\t<tr><td> 6</td><td>12, 13, 17</td><td>0</td></tr>\n",
              "\t<tr><td> 7</td><td>14, 20, 7</td><td>0</td></tr>\n",
              "\t<tr><td> 8</td><td>6, 5, 7</td><td>0</td></tr>\n",
              "\t<tr><td> 9</td><td>11, 7, 2</td><td>0</td></tr>\n",
              "\t<tr><td>10</td><td>14, 6, 15</td><td>0</td></tr>\n",
              "</tbody>\n",
              "</table>\n"
            ],
            "text/markdown": "\nA tibble: 10 × 3\n\n| .trial &lt;dbl&gt; | .outcome &lt;list&gt; | .successes &lt;int&gt; |\n|---|---|---|\n|  1 | 3, 18, 2 | 1 |\n|  2 | 9, 6, 16 | 0 |\n|  3 | 13, 3, 12 | 0 |\n|  4 | 3, 13, 14 | 0 |\n|  5 | 18, 9, 12 | 1 |\n|  6 | 12, 13, 17 | 0 |\n|  7 | 14, 20, 7 | 0 |\n|  8 | 6, 5, 7 | 0 |\n|  9 | 11, 7, 2 | 0 |\n| 10 | 14, 6, 15 | 0 |\n\n",
            "text/latex": "A tibble: 10 × 3\n\\begin{tabular}{lll}\n .trial & .outcome & .successes\\\\\n <dbl> & <list> & <int>\\\\\n\\hline\n\t  1 & 3, 18, 2 & 1\\\\\n\t  2 & 9, 6, 16 & 0\\\\\n\t  3 & 13, 3, 12 & 0\\\\\n\t  4 & 3, 13, 14 & 0\\\\\n\t  5 & 18, 9, 12 & 1\\\\\n\t  6 & 12, 13, 17 & 0\\\\\n\t  7 & 14, 20, 7 & 0\\\\\n\t  8 & 6, 5, 7 & 0\\\\\n\t  9 & 11, 7, 2 & 0\\\\\n\t 10 & 14, 6, 15 & 0\\\\\n\\end{tabular}\n",
            "text/plain": [
              "   .trial .outcome   .successes\n",
              "1   1     3, 18, 2   1         \n",
              "2   2     9, 6, 16   0         \n",
              "3   3     13, 3, 12  0         \n",
              "4   4     3, 13, 14  0         \n",
              "5   5     18, 9, 12  1         \n",
              "6   6     12, 13, 17 0         \n",
              "7   7     14, 20, 7  0         \n",
              "8   8     6, 5, 7    0         \n",
              "9   9     11, 7, 2   0         \n",
              "10 10     14, 6, 15  0         "
            ]
          },
          "metadata": {}
        }
      ]
    },
    {
      "cell_type": "markdown",
      "source": [
        "**Step 2 - Tabulate the results.**\n",
        "\n",
        "We use the `tabulate` function to estimate the probabilites for all outcomes in a given columns.  Note that we want to prototype our code on a small number of trials, then increase the number of trials to get better estimates once we have established our code is working."
      ],
      "metadata": {
        "id": "VJzdCRB2eVe7"
      }
    },
    {
      "cell_type": "code",
      "source": [
        "# prototype with small N first\n",
        "N <- 100\n",
        "(replicate(N, sample(die, 3, replace = TRUE))\n",
        " %>% col_num_successes(.outcome, 18)\n",
        " %>% tabulate(.successes)\n",
        ")"
      ],
      "metadata": {
        "colab": {
          "base_uri": "https://localhost:8080/",
          "height": 146
        },
        "id": "CuAIfKMxeXlT",
        "outputId": "22b4399b-43a9-4da4-b7ea-4c32dce3de82"
      },
      "execution_count": 29,
      "outputs": [
        {
          "output_type": "display_data",
          "data": {
            "text/html": [
              "<table class=\"dataframe\">\n",
              "<caption>A tibble: 1 × 2</caption>\n",
              "<thead>\n",
              "\t<tr><th scope=col>X = 0</th><th scope=col>X = 1</th></tr>\n",
              "\t<tr><th scope=col>&lt;dbl&gt;</th><th scope=col>&lt;dbl&gt;</th></tr>\n",
              "</thead>\n",
              "<tbody>\n",
              "\t<tr><td>0.85</td><td>0.15</td></tr>\n",
              "</tbody>\n",
              "</table>\n"
            ],
            "text/markdown": "\nA tibble: 1 × 2\n\n| X = 0 &lt;dbl&gt; | X = 1 &lt;dbl&gt; |\n|---|---|\n| 0.85 | 0.15 |\n\n",
            "text/latex": "A tibble: 1 × 2\n\\begin{tabular}{ll}\n X = 0 & X = 1\\\\\n <dbl> & <dbl>\\\\\n\\hline\n\t 0.85 & 0.15\\\\\n\\end{tabular}\n",
            "text/plain": [
              "  X = 0 X = 1\n",
              "1 0.85  0.15 "
            ]
          },
          "metadata": {}
        }
      ]
    },
    {
      "cell_type": "code",
      "source": [
        "# Estimate with large N\n",
        "N <- 100000\n",
        "(replicate(N, sample(die, 3, replace = TRUE))\n",
        " %>% col_num_successes(.outcome, 18)\n",
        " %>% tabulate(.successes)\n",
        ")"
      ],
      "metadata": {
        "colab": {
          "base_uri": "https://localhost:8080/",
          "height": 146
        },
        "id": "3UV7NEfTef4C",
        "outputId": "f8c38165-a5ec-4e20-87d5-a3c9f14d9c22"
      },
      "execution_count": 30,
      "outputs": [
        {
          "output_type": "display_data",
          "data": {
            "text/html": [
              "<table class=\"dataframe\">\n",
              "<caption>A tibble: 1 × 4</caption>\n",
              "<thead>\n",
              "\t<tr><th scope=col>X = 0</th><th scope=col>X = 1</th><th scope=col>X = 2</th><th scope=col>X = 3</th></tr>\n",
              "\t<tr><th scope=col>&lt;dbl&gt;</th><th scope=col>&lt;dbl&gt;</th><th scope=col>&lt;dbl&gt;</th><th scope=col>&lt;dbl&gt;</th></tr>\n",
              "</thead>\n",
              "<tbody>\n",
              "\t<tr><td>0.85791</td><td>0.13518</td><td>0.00681</td><td>1e-04</td></tr>\n",
              "</tbody>\n",
              "</table>\n"
            ],
            "text/markdown": "\nA tibble: 1 × 4\n\n| X = 0 &lt;dbl&gt; | X = 1 &lt;dbl&gt; | X = 2 &lt;dbl&gt; | X = 3 &lt;dbl&gt; |\n|---|---|---|---|\n| 0.85791 | 0.13518 | 0.00681 | 1e-04 |\n\n",
            "text/latex": "A tibble: 1 × 4\n\\begin{tabular}{llll}\n X = 0 & X = 1 & X = 2 & X = 3\\\\\n <dbl> & <dbl> & <dbl> & <dbl>\\\\\n\\hline\n\t 0.85791 & 0.13518 & 0.00681 & 1e-04\\\\\n\\end{tabular}\n",
            "text/plain": [
              "  X = 0   X = 1   X = 2   X = 3\n",
              "1 0.85791 0.13518 0.00681 1e-04"
            ]
          },
          "metadata": {}
        }
      ]
    },
    {
      "cell_type": "markdown",
      "source": [
        "#### Compound Event Example\n",
        "\n",
        "**Task.** Estimate the chance of getting at least one roll that is 19 or more.\n",
        "\n",
        "Note that\n",
        "1. A success is any roll of 19 or more.\n",
        "2. We can compute the total number of success and then check if this number is at least one."
      ],
      "metadata": {
        "id": "ARyy7SNydBeQ"
      }
    },
    {
      "cell_type": "markdown",
      "source": [
        "**Step 1 - Define a Boolean helper functions.**\n",
        "\n",
        "Note that the set of successes has more than a single outcome, making it a compound event.  In this case, we need to define a *Boolean helper function* that return `TRUE` for anyone outcome that is a success and otherwise returns `FALSE`."
      ],
      "metadata": {
        "id": "3UUcDWQJa4TO"
      }
    },
    {
      "cell_type": "code",
      "source": [
        "# define the function\n",
        "at.least.19 <- \\(x) x >= 19\n",
        "\n",
        "# Test the function\n",
        "at.least.19(c(2, 18, 19, 20))"
      ],
      "metadata": {
        "colab": {
          "base_uri": "https://localhost:8080/",
          "height": 54
        },
        "id": "QZRbLi3Q9Fzw",
        "outputId": "32848e9e-59fc-49a6-c74d-81ca0f8479b7"
      },
      "execution_count": 32,
      "outputs": [
        {
          "output_type": "display_data",
          "data": {
            "text/html": [
              "<style>\n",
              ".list-inline {list-style: none; margin:0; padding: 0}\n",
              ".list-inline>li {display: inline-block}\n",
              ".list-inline>li:not(:last-child)::after {content: \"\\00b7\"; padding: 0 .5ex}\n",
              "</style>\n",
              "<ol class=list-inline><li>FALSE</li><li>FALSE</li><li>TRUE</li><li>TRUE</li></ol>\n"
            ],
            "text/markdown": "1. FALSE\n2. FALSE\n3. TRUE\n4. TRUE\n\n\n",
            "text/latex": "\\begin{enumerate*}\n\\item FALSE\n\\item FALSE\n\\item TRUE\n\\item TRUE\n\\end{enumerate*}\n",
            "text/plain": [
              "[1] FALSE FALSE  TRUE  TRUE"
            ]
          },
          "metadata": {}
        }
      ]
    },
    {
      "cell_type": "markdown",
      "source": [
        "**Step 2 - Compute the number of successes.**\n",
        "\n",
        "To compute the successes for a compound event, we pass the Boolean helper function to the `col_num_successes` function."
      ],
      "metadata": {
        "id": "pGIn6BC6bJFq"
      }
    },
    {
      "cell_type": "code",
      "source": [
        "(replicate(10, sample(die, 3, replace = TRUE))\n",
        " %>% col_num_successes(.outcome, at.least.19)\n",
        ")"
      ],
      "metadata": {
        "colab": {
          "base_uri": "https://localhost:8080/",
          "height": 421
        },
        "id": "0neUJ_IJ83Gl",
        "outputId": "0dbb49e4-e658-4bba-9524-51b6376ea491"
      },
      "execution_count": 33,
      "outputs": [
        {
          "output_type": "display_data",
          "data": {
            "text/html": [
              "<table class=\"dataframe\">\n",
              "<caption>A tibble: 10 × 3</caption>\n",
              "<thead>\n",
              "\t<tr><th scope=col>.trial</th><th scope=col>.outcome</th><th scope=col>.successes</th></tr>\n",
              "\t<tr><th scope=col>&lt;dbl&gt;</th><th scope=col>&lt;list&gt;</th><th scope=col>&lt;int&gt;</th></tr>\n",
              "</thead>\n",
              "<tbody>\n",
              "\t<tr><td> 1</td><td>16, 10, 7</td><td>0</td></tr>\n",
              "\t<tr><td> 2</td><td>11, 8, 16</td><td>0</td></tr>\n",
              "\t<tr><td> 3</td><td>15, 18, 4</td><td>0</td></tr>\n",
              "\t<tr><td> 4</td><td>10, 13, 17</td><td>0</td></tr>\n",
              "\t<tr><td> 5</td><td>2, 6, 20</td><td>1</td></tr>\n",
              "\t<tr><td> 6</td><td>11, 1, 18</td><td>0</td></tr>\n",
              "\t<tr><td> 7</td><td>20, 4, 18</td><td>1</td></tr>\n",
              "\t<tr><td> 8</td><td>20, 1, 2</td><td>1</td></tr>\n",
              "\t<tr><td> 9</td><td>6, 7, 12</td><td>0</td></tr>\n",
              "\t<tr><td>10</td><td>17, 4, 18</td><td>0</td></tr>\n",
              "</tbody>\n",
              "</table>\n"
            ],
            "text/markdown": "\nA tibble: 10 × 3\n\n| .trial &lt;dbl&gt; | .outcome &lt;list&gt; | .successes &lt;int&gt; |\n|---|---|---|\n|  1 | 16, 10, 7 | 0 |\n|  2 | 11, 8, 16 | 0 |\n|  3 | 15, 18, 4 | 0 |\n|  4 | 10, 13, 17 | 0 |\n|  5 | 2, 6, 20 | 1 |\n|  6 | 11, 1, 18 | 0 |\n|  7 | 20, 4, 18 | 1 |\n|  8 | 20, 1, 2 | 1 |\n|  9 | 6, 7, 12 | 0 |\n| 10 | 17, 4, 18 | 0 |\n\n",
            "text/latex": "A tibble: 10 × 3\n\\begin{tabular}{lll}\n .trial & .outcome & .successes\\\\\n <dbl> & <list> & <int>\\\\\n\\hline\n\t  1 & 16, 10, 7 & 0\\\\\n\t  2 & 11, 8, 16 & 0\\\\\n\t  3 & 15, 18, 4 & 0\\\\\n\t  4 & 10, 13, 17 & 0\\\\\n\t  5 & 2, 6, 20 & 1\\\\\n\t  6 & 11, 1, 18 & 0\\\\\n\t  7 & 20, 4, 18 & 1\\\\\n\t  8 & 20, 1, 2 & 1\\\\\n\t  9 & 6, 7, 12 & 0\\\\\n\t 10 & 17, 4, 18 & 0\\\\\n\\end{tabular}\n",
            "text/plain": [
              "   .trial .outcome   .successes\n",
              "1   1     16, 10, 7  0         \n",
              "2   2     11, 8, 16  0         \n",
              "3   3     15, 18, 4  0         \n",
              "4   4     10, 13, 17 0         \n",
              "5   5     2, 6, 20   1         \n",
              "6   6     11, 1, 18  0         \n",
              "7   7     20, 4, 18  1         \n",
              "8   8     20, 1, 2   1         \n",
              "9   9     6, 7, 12   0         \n",
              "10 10     17, 4, 18  0         "
            ]
          },
          "metadata": {}
        }
      ]
    },
    {
      "cell_type": "markdown",
      "source": [
        "**Step 3 - Determine whether there is at least one 19.**\n",
        "\n",
        "Since our goal is to determine whether or note there is at least one roll of 19 or more, we use `mutate` to create a new Boolean column containing the answer."
      ],
      "metadata": {
        "id": "zzdh7kq7bbjp"
      }
    },
    {
      "cell_type": "code",
      "source": [
        "(replicate(10, sample(die, 3, replace = TRUE))\n",
        " %>% col_num_successes(.outcome, at.least.19)\n",
        " %>% mutate(at.least.one.success = .successes >= 1)\n",
        ")"
      ],
      "metadata": {
        "colab": {
          "base_uri": "https://localhost:8080/",
          "height": 421
        },
        "id": "KXSTuxZQbwOP",
        "outputId": "da32fcf8-61d8-4430-f270-d422dfe050c8"
      },
      "execution_count": 34,
      "outputs": [
        {
          "output_type": "display_data",
          "data": {
            "text/html": [
              "<table class=\"dataframe\">\n",
              "<caption>A tibble: 10 × 4</caption>\n",
              "<thead>\n",
              "\t<tr><th scope=col>.trial</th><th scope=col>.outcome</th><th scope=col>.successes</th><th scope=col>at.least.one.success</th></tr>\n",
              "\t<tr><th scope=col>&lt;dbl&gt;</th><th scope=col>&lt;list&gt;</th><th scope=col>&lt;int&gt;</th><th scope=col>&lt;lgl&gt;</th></tr>\n",
              "</thead>\n",
              "<tbody>\n",
              "\t<tr><td> 1</td><td>6, 20, 19</td><td>2</td><td> TRUE</td></tr>\n",
              "\t<tr><td> 2</td><td>5, 14, 1</td><td>0</td><td>FALSE</td></tr>\n",
              "\t<tr><td> 3</td><td>20, 7, 15</td><td>1</td><td> TRUE</td></tr>\n",
              "\t<tr><td> 4</td><td>12, 1, 15</td><td>0</td><td>FALSE</td></tr>\n",
              "\t<tr><td> 5</td><td>14, 15, 19</td><td>1</td><td> TRUE</td></tr>\n",
              "\t<tr><td> 6</td><td>3, 19, 11</td><td>1</td><td> TRUE</td></tr>\n",
              "\t<tr><td> 7</td><td>11, 18, 2</td><td>0</td><td>FALSE</td></tr>\n",
              "\t<tr><td> 8</td><td>9, 18, 5</td><td>0</td><td>FALSE</td></tr>\n",
              "\t<tr><td> 9</td><td>20, 18, 13</td><td>1</td><td> TRUE</td></tr>\n",
              "\t<tr><td>10</td><td>15, 8, 13</td><td>0</td><td>FALSE</td></tr>\n",
              "</tbody>\n",
              "</table>\n"
            ],
            "text/markdown": "\nA tibble: 10 × 4\n\n| .trial &lt;dbl&gt; | .outcome &lt;list&gt; | .successes &lt;int&gt; | at.least.one.success &lt;lgl&gt; |\n|---|---|---|---|\n|  1 | 6, 20, 19 | 2 |  TRUE |\n|  2 | 5, 14, 1 | 0 | FALSE |\n|  3 | 20, 7, 15 | 1 |  TRUE |\n|  4 | 12, 1, 15 | 0 | FALSE |\n|  5 | 14, 15, 19 | 1 |  TRUE |\n|  6 | 3, 19, 11 | 1 |  TRUE |\n|  7 | 11, 18, 2 | 0 | FALSE |\n|  8 | 9, 18, 5 | 0 | FALSE |\n|  9 | 20, 18, 13 | 1 |  TRUE |\n| 10 | 15, 8, 13 | 0 | FALSE |\n\n",
            "text/latex": "A tibble: 10 × 4\n\\begin{tabular}{llll}\n .trial & .outcome & .successes & at.least.one.success\\\\\n <dbl> & <list> & <int> & <lgl>\\\\\n\\hline\n\t  1 & 6, 20, 19 & 2 &  TRUE\\\\\n\t  2 & 5, 14, 1 & 0 & FALSE\\\\\n\t  3 & 20, 7, 15 & 1 &  TRUE\\\\\n\t  4 & 12, 1, 15 & 0 & FALSE\\\\\n\t  5 & 14, 15, 19 & 1 &  TRUE\\\\\n\t  6 & 3, 19, 11 & 1 &  TRUE\\\\\n\t  7 & 11, 18, 2 & 0 & FALSE\\\\\n\t  8 & 9, 18, 5 & 0 & FALSE\\\\\n\t  9 & 20, 18, 13 & 1 &  TRUE\\\\\n\t 10 & 15, 8, 13 & 0 & FALSE\\\\\n\\end{tabular}\n",
            "text/plain": [
              "   .trial .outcome   .successes at.least.one.success\n",
              "1   1     6, 20, 19  2           TRUE               \n",
              "2   2     5, 14, 1   0          FALSE               \n",
              "3   3     20, 7, 15  1           TRUE               \n",
              "4   4     12, 1, 15  0          FALSE               \n",
              "5   5     14, 15, 19 1           TRUE               \n",
              "6   6     3, 19, 11  1           TRUE               \n",
              "7   7     11, 18, 2  0          FALSE               \n",
              "8   8     9, 18, 5   0          FALSE               \n",
              "9   9     20, 18, 13 1           TRUE               \n",
              "10 10     15, 8, 13  0          FALSE               "
            ]
          },
          "metadata": {}
        }
      ]
    },
    {
      "cell_type": "markdown",
      "source": [
        "**Step 4 - Estimate probility of the Boolean column.**\n",
        "\n",
        "When computing probabilities for a Boolean column, we generally are only interesting the proportion of `TRUE` values.  We can make this estimate using the `estimate_prob` function on the column of interest."
      ],
      "metadata": {
        "id": "qQrSUWfXdpaI"
      }
    },
    {
      "cell_type": "code",
      "source": [
        "# prototype first\n",
        "N <- 100\n",
        "(replicate(N, sample(die, 3, replace = TRUE))\n",
        " %>% col_num_successes(.outcome, at.least.19)\n",
        " %>% mutate(at.least.one.success = .successes >= 1)\n",
        " %>% estimate_prob(at.least.one.success)\n",
        ")"
      ],
      "metadata": {
        "colab": {
          "base_uri": "https://localhost:8080/",
          "height": 146
        },
        "id": "kdRPHpgqdskj",
        "outputId": "7689b614-7f37-4fdd-cc63-f9e04aaf7408"
      },
      "execution_count": 35,
      "outputs": [
        {
          "output_type": "display_data",
          "data": {
            "text/html": [
              "<table class=\"dataframe\">\n",
              "<caption>A tibble: 1 × 1</caption>\n",
              "<thead>\n",
              "\t<tr><th scope=col>at.least.one.success</th></tr>\n",
              "\t<tr><th scope=col>&lt;dbl&gt;</th></tr>\n",
              "</thead>\n",
              "<tbody>\n",
              "\t<tr><td>0.25</td></tr>\n",
              "</tbody>\n",
              "</table>\n"
            ],
            "text/markdown": "\nA tibble: 1 × 1\n\n| at.least.one.success &lt;dbl&gt; |\n|---|\n| 0.25 |\n\n",
            "text/latex": "A tibble: 1 × 1\n\\begin{tabular}{l}\n at.least.one.success\\\\\n <dbl>\\\\\n\\hline\n\t 0.25\\\\\n\\end{tabular}\n",
            "text/plain": [
              "  at.least.one.success\n",
              "1 0.25                "
            ]
          },
          "metadata": {}
        }
      ]
    },
    {
      "cell_type": "code",
      "source": [
        "# estimate with MANY trials\n",
        "N <- 100000\n",
        "(replicate(N, sample(die, 3, replace = TRUE))\n",
        " %>% col_num_successes(.outcome, at.least.19)\n",
        " %>% mutate(at.least.one.success = .successes >= 1)\n",
        " %>% estimate_prob(at.least.one.success)\n",
        ")"
      ],
      "metadata": {
        "colab": {
          "base_uri": "https://localhost:8080/",
          "height": 146
        },
        "id": "Ru9hNhdoqOjv",
        "outputId": "ef059f34-66c3-4750-b324-20acc8b28cdf"
      },
      "execution_count": 36,
      "outputs": [
        {
          "output_type": "display_data",
          "data": {
            "text/html": [
              "<table class=\"dataframe\">\n",
              "<caption>A tibble: 1 × 1</caption>\n",
              "<thead>\n",
              "\t<tr><th scope=col>at.least.one.success</th></tr>\n",
              "\t<tr><th scope=col>&lt;dbl&gt;</th></tr>\n",
              "</thead>\n",
              "<tbody>\n",
              "\t<tr><td>0.26756</td></tr>\n",
              "</tbody>\n",
              "</table>\n"
            ],
            "text/markdown": "\nA tibble: 1 × 1\n\n| at.least.one.success &lt;dbl&gt; |\n|---|\n| 0.26756 |\n\n",
            "text/latex": "A tibble: 1 × 1\n\\begin{tabular}{l}\n at.least.one.success\\\\\n <dbl>\\\\\n\\hline\n\t 0.26756\\\\\n\\end{tabular}\n",
            "text/plain": [
              "  at.least.one.success\n",
              "1 0.26756             "
            ]
          },
          "metadata": {}
        }
      ]
    },
    {
      "cell_type": "markdown",
      "source": [
        "## <font color=\"red\"> Exercise 2 </font>\n",
        "\n",
        "Suppose that we have a batch of 100 products that contain 12 defective units.  We draw three products out at random and determine whether or not they are defective.\n",
        "\n",
        "**Questions.**\n",
        "1. What is the probability that exactly one product is defective?\n",
        "2. What is the probability that more than two products are defective?"
      ],
      "metadata": {
        "id": "7Z1dLURCe8Vp"
      }
    },
    {
      "cell_type": "code",
      "source": [
        "# Your code here"
      ],
      "metadata": {
        "id": "T8GVYcQbqZ-9"
      },
      "execution_count": null,
      "outputs": []
    },
    {
      "cell_type": "markdown",
      "source": [
        "### Trick 2.  Splitting the outcomes to answer questions about position.\n",
        "\n",
        "You can set the `.reshape = 'split'` option in `replicate` to split the outcomes into separate columns, which is useful when\n",
        "1. Answering questions related to order/position.\n",
        "2. Tabulating a single marginal distribution.\n",
        "\n",
        "To illustrate, we return to the earlier urn problem."
      ],
      "metadata": {
        "id": "aRQ7b3mvhAv3"
      }
    },
    {
      "cell_type": "code",
      "source": [
        "urn <- c(rep('B', 5), rep('W', 3))\n",
        "urn"
      ],
      "metadata": {
        "id": "yrMlN3zD7Wyi",
        "colab": {
          "base_uri": "https://localhost:8080/",
          "height": 54
        },
        "outputId": "2b31e9d9-dca6-45fb-eaa4-8e46550751a4"
      },
      "execution_count": 39,
      "outputs": [
        {
          "output_type": "display_data",
          "data": {
            "text/html": [
              "<style>\n",
              ".list-inline {list-style: none; margin:0; padding: 0}\n",
              ".list-inline>li {display: inline-block}\n",
              ".list-inline>li:not(:last-child)::after {content: \"\\00b7\"; padding: 0 .5ex}\n",
              "</style>\n",
              "<ol class=list-inline><li>'B'</li><li>'B'</li><li>'B'</li><li>'B'</li><li>'B'</li><li>'W'</li><li>'W'</li><li>'W'</li></ol>\n"
            ],
            "text/markdown": "1. 'B'\n2. 'B'\n3. 'B'\n4. 'B'\n5. 'B'\n6. 'W'\n7. 'W'\n8. 'W'\n\n\n",
            "text/latex": "\\begin{enumerate*}\n\\item 'B'\n\\item 'B'\n\\item 'B'\n\\item 'B'\n\\item 'B'\n\\item 'W'\n\\item 'W'\n\\item 'W'\n\\end{enumerate*}\n",
            "text/plain": [
              "[1] \"B\" \"B\" \"B\" \"B\" \"B\" \"W\" \"W\" \"W\""
            ]
          },
          "metadata": {}
        }
      ]
    },
    {
      "cell_type": "code",
      "source": [
        "\n",
        "replicate(10, sample(urn, 2, replace = FALSE))"
      ],
      "metadata": {
        "colab": {
          "base_uri": "https://localhost:8080/",
          "height": 421
        },
        "id": "6gBs7pyUclTU",
        "outputId": "099e7b09-4757-4eaa-a4d8-a8d75cd22173"
      },
      "execution_count": 40,
      "outputs": [
        {
          "output_type": "display_data",
          "data": {
            "text/html": [
              "<table class=\"dataframe\">\n",
              "<caption>A tibble: 10 × 2</caption>\n",
              "<thead>\n",
              "\t<tr><th scope=col>.trial</th><th scope=col>.outcome</th></tr>\n",
              "\t<tr><th scope=col>&lt;dbl&gt;</th><th scope=col>&lt;list&gt;</th></tr>\n",
              "</thead>\n",
              "<tbody>\n",
              "\t<tr><td> 1</td><td>B, B</td></tr>\n",
              "\t<tr><td> 2</td><td>B, B</td></tr>\n",
              "\t<tr><td> 3</td><td>B, W</td></tr>\n",
              "\t<tr><td> 4</td><td>W, W</td></tr>\n",
              "\t<tr><td> 5</td><td>B, W</td></tr>\n",
              "\t<tr><td> 6</td><td>W, B</td></tr>\n",
              "\t<tr><td> 7</td><td>B, B</td></tr>\n",
              "\t<tr><td> 8</td><td>B, W</td></tr>\n",
              "\t<tr><td> 9</td><td>B, W</td></tr>\n",
              "\t<tr><td>10</td><td>B, B</td></tr>\n",
              "</tbody>\n",
              "</table>\n"
            ],
            "text/markdown": "\nA tibble: 10 × 2\n\n| .trial &lt;dbl&gt; | .outcome &lt;list&gt; |\n|---|---|\n|  1 | B, B |\n|  2 | B, B |\n|  3 | B, W |\n|  4 | W, W |\n|  5 | B, W |\n|  6 | W, B |\n|  7 | B, B |\n|  8 | B, W |\n|  9 | B, W |\n| 10 | B, B |\n\n",
            "text/latex": "A tibble: 10 × 2\n\\begin{tabular}{ll}\n .trial & .outcome\\\\\n <dbl> & <list>\\\\\n\\hline\n\t  1 & B, B\\\\\n\t  2 & B, B\\\\\n\t  3 & B, W\\\\\n\t  4 & W, W\\\\\n\t  5 & B, W\\\\\n\t  6 & W, B\\\\\n\t  7 & B, B\\\\\n\t  8 & B, W\\\\\n\t  9 & B, W\\\\\n\t 10 & B, B\\\\\n\\end{tabular}\n",
            "text/plain": [
              "   .trial .outcome\n",
              "1   1     B, B    \n",
              "2   2     B, B    \n",
              "3   3     B, W    \n",
              "4   4     W, W    \n",
              "5   5     B, W    \n",
              "6   6     W, B    \n",
              "7   7     B, B    \n",
              "8   8     B, W    \n",
              "9   9     B, W    \n",
              "10 10     B, B    "
            ]
          },
          "metadata": {}
        }
      ]
    },
    {
      "cell_type": "markdown",
      "source": [
        "#### Splitting the outcomes\n",
        "\n",
        "Let's split the outcomes into separate columns using `.reshape = 'split'`.  Note the the result now contains two columns, one for each draw."
      ],
      "metadata": {
        "id": "wvARV1aOcnq3"
      }
    },
    {
      "cell_type": "code",
      "source": [
        "replicate(10, sample(urn, 2, replace = FALSE), .reshape = 'split')"
      ],
      "metadata": {
        "id": "ex4uQ4O6h5dc",
        "colab": {
          "base_uri": "https://localhost:8080/",
          "height": 421
        },
        "outputId": "e0c917da-20d0-4863-b838-491a8dfb5f21"
      },
      "execution_count": 41,
      "outputs": [
        {
          "output_type": "display_data",
          "data": {
            "text/html": [
              "<table class=\"dataframe\">\n",
              "<caption>A tibble: 10 × 3</caption>\n",
              "<thead>\n",
              "\t<tr><th scope=col>.trial</th><th scope=col>.outcome.1</th><th scope=col>.outcome.2</th></tr>\n",
              "\t<tr><th scope=col>&lt;dbl&gt;</th><th scope=col>&lt;chr&gt;</th><th scope=col>&lt;chr&gt;</th></tr>\n",
              "</thead>\n",
              "<tbody>\n",
              "\t<tr><td> 1</td><td>W</td><td>B</td></tr>\n",
              "\t<tr><td> 2</td><td>W</td><td>B</td></tr>\n",
              "\t<tr><td> 3</td><td>W</td><td>B</td></tr>\n",
              "\t<tr><td> 4</td><td>W</td><td>W</td></tr>\n",
              "\t<tr><td> 5</td><td>B</td><td>B</td></tr>\n",
              "\t<tr><td> 6</td><td>B</td><td>W</td></tr>\n",
              "\t<tr><td> 7</td><td>B</td><td>B</td></tr>\n",
              "\t<tr><td> 8</td><td>W</td><td>B</td></tr>\n",
              "\t<tr><td> 9</td><td>W</td><td>B</td></tr>\n",
              "\t<tr><td>10</td><td>B</td><td>W</td></tr>\n",
              "</tbody>\n",
              "</table>\n"
            ],
            "text/markdown": "\nA tibble: 10 × 3\n\n| .trial &lt;dbl&gt; | .outcome.1 &lt;chr&gt; | .outcome.2 &lt;chr&gt; |\n|---|---|---|\n|  1 | W | B |\n|  2 | W | B |\n|  3 | W | B |\n|  4 | W | W |\n|  5 | B | B |\n|  6 | B | W |\n|  7 | B | B |\n|  8 | W | B |\n|  9 | W | B |\n| 10 | B | W |\n\n",
            "text/latex": "A tibble: 10 × 3\n\\begin{tabular}{lll}\n .trial & .outcome.1 & .outcome.2\\\\\n <dbl> & <chr> & <chr>\\\\\n\\hline\n\t  1 & W & B\\\\\n\t  2 & W & B\\\\\n\t  3 & W & B\\\\\n\t  4 & W & W\\\\\n\t  5 & B & B\\\\\n\t  6 & B & W\\\\\n\t  7 & B & B\\\\\n\t  8 & W & B\\\\\n\t  9 & W & B\\\\\n\t 10 & B & W\\\\\n\\end{tabular}\n",
            "text/plain": [
              "   .trial .outcome.1 .outcome.2\n",
              "1   1     W          B         \n",
              "2   2     W          B         \n",
              "3   3     W          B         \n",
              "4   4     W          W         \n",
              "5   5     B          B         \n",
              "6   6     B          W         \n",
              "7   7     B          B         \n",
              "8   8     W          B         \n",
              "9   9     W          B         \n",
              "10 10     B          W         "
            ]
          },
          "metadata": {}
        }
      ]
    },
    {
      "cell_type": "markdown",
      "source": [
        "#### Task 1. Estimate the distribution of the second draw from the urn.\n",
        "\n",
        "Splitting the outcomes can be paired with `tabulate` to estimate the marginal distribution for any one draw."
      ],
      "metadata": {
        "id": "ML9qZjkMiFU0"
      }
    },
    {
      "cell_type": "code",
      "source": [
        "N <- 100\n",
        "(replicate(10, sample(urn, 2, replace = FALSE), .reshape = 'split')\n",
        "  %>% tabulate(.outcome.2)\n",
        ")"
      ],
      "metadata": {
        "id": "GXa0Y4vLiOJW",
        "colab": {
          "base_uri": "https://localhost:8080/",
          "height": 146
        },
        "outputId": "50a75a26-d31b-4fde-bd37-afb7951ab864"
      },
      "execution_count": 42,
      "outputs": [
        {
          "output_type": "display_data",
          "data": {
            "text/html": [
              "<table class=\"dataframe\">\n",
              "<caption>A tibble: 1 × 2</caption>\n",
              "<thead>\n",
              "\t<tr><th scope=col>X = B</th><th scope=col>X = W</th></tr>\n",
              "\t<tr><th scope=col>&lt;dbl&gt;</th><th scope=col>&lt;dbl&gt;</th></tr>\n",
              "</thead>\n",
              "<tbody>\n",
              "\t<tr><td>0.8</td><td>0.2</td></tr>\n",
              "</tbody>\n",
              "</table>\n"
            ],
            "text/markdown": "\nA tibble: 1 × 2\n\n| X = B &lt;dbl&gt; | X = W &lt;dbl&gt; |\n|---|---|\n| 0.8 | 0.2 |\n\n",
            "text/latex": "A tibble: 1 × 2\n\\begin{tabular}{ll}\n X = B & X = W\\\\\n <dbl> & <dbl>\\\\\n\\hline\n\t 0.8 & 0.2\\\\\n\\end{tabular}\n",
            "text/plain": [
              "  X = B X = W\n",
              "1 0.8   0.2  "
            ]
          },
          "metadata": {}
        }
      ]
    },
    {
      "cell_type": "code",
      "source": [
        "N <- 10000\n",
        "(replicate(10, sample(urn, 2, replace = FALSE), .reshape = 'split')\n",
        " %>% tabulate(.outcome.2)\n",
        ")"
      ],
      "metadata": {
        "id": "aKrV0CcQibBw",
        "colab": {
          "base_uri": "https://localhost:8080/",
          "height": 146
        },
        "outputId": "08db7e42-cc81-4035-f2a3-708efeba3acb"
      },
      "execution_count": 43,
      "outputs": [
        {
          "output_type": "display_data",
          "data": {
            "text/html": [
              "<table class=\"dataframe\">\n",
              "<caption>A tibble: 1 × 2</caption>\n",
              "<thead>\n",
              "\t<tr><th scope=col>X = B</th><th scope=col>X = W</th></tr>\n",
              "\t<tr><th scope=col>&lt;dbl&gt;</th><th scope=col>&lt;dbl&gt;</th></tr>\n",
              "</thead>\n",
              "<tbody>\n",
              "\t<tr><td>0.8</td><td>0.2</td></tr>\n",
              "</tbody>\n",
              "</table>\n"
            ],
            "text/markdown": "\nA tibble: 1 × 2\n\n| X = B &lt;dbl&gt; | X = W &lt;dbl&gt; |\n|---|---|\n| 0.8 | 0.2 |\n\n",
            "text/latex": "A tibble: 1 × 2\n\\begin{tabular}{ll}\n X = B & X = W\\\\\n <dbl> & <dbl>\\\\\n\\hline\n\t 0.8 & 0.2\\\\\n\\end{tabular}\n",
            "text/plain": [
              "  X = B X = W\n",
              "1 0.8   0.2  "
            ]
          },
          "metadata": {}
        }
      ]
    },
    {
      "cell_type": "markdown",
      "source": [
        "#### Task 2. Estimate both the chance that the draws are the same color and the chance the second draw is white.\n",
        "Note that both questions are related the position/order of the draws, which suggests would should split the outcomes.  Since we are asked to answer two questions, we will\n",
        "1. Create a Boolean column for the event in each, and\n",
        "2. Use `estimate_all_prob` to estimate the probabilities for all Boolean columns.\n",
        "\n",
        "\n"
      ],
      "metadata": {
        "id": "JQPZhpqGiny7"
      }
    },
    {
      "cell_type": "markdown",
      "source": [
        "**Step 1 - Use `mutate` to create a Boolean column for each event.**"
      ],
      "metadata": {
        "id": "Kzd6X8JJdyG3"
      }
    },
    {
      "cell_type": "code",
      "source": [
        "N <- 100\n",
        "(replicate(10, sample(urn, 2, replace = FALSE), .reshape = 'split')\n",
        "  %>% mutate(same.color = .outcome.1 == .outcome.2,\n",
        "             second.blue = .outcome.2 == 'B',\n",
        "            )\n",
        ")"
      ],
      "metadata": {
        "colab": {
          "base_uri": "https://localhost:8080/",
          "height": 421
        },
        "id": "ohfL54ZEdq9f",
        "outputId": "32a9ef8a-d239-49e4-ad25-3cf69396ee85"
      },
      "execution_count": 47,
      "outputs": [
        {
          "output_type": "display_data",
          "data": {
            "text/html": [
              "<table class=\"dataframe\">\n",
              "<caption>A tibble: 10 × 5</caption>\n",
              "<thead>\n",
              "\t<tr><th scope=col>.trial</th><th scope=col>.outcome.1</th><th scope=col>.outcome.2</th><th scope=col>same.color</th><th scope=col>second.blue</th></tr>\n",
              "\t<tr><th scope=col>&lt;dbl&gt;</th><th scope=col>&lt;chr&gt;</th><th scope=col>&lt;chr&gt;</th><th scope=col>&lt;lgl&gt;</th><th scope=col>&lt;lgl&gt;</th></tr>\n",
              "</thead>\n",
              "<tbody>\n",
              "\t<tr><td> 1</td><td>B</td><td>B</td><td> TRUE</td><td> TRUE</td></tr>\n",
              "\t<tr><td> 2</td><td>W</td><td>B</td><td>FALSE</td><td> TRUE</td></tr>\n",
              "\t<tr><td> 3</td><td>B</td><td>B</td><td> TRUE</td><td> TRUE</td></tr>\n",
              "\t<tr><td> 4</td><td>B</td><td>W</td><td>FALSE</td><td>FALSE</td></tr>\n",
              "\t<tr><td> 5</td><td>B</td><td>B</td><td> TRUE</td><td> TRUE</td></tr>\n",
              "\t<tr><td> 6</td><td>B</td><td>B</td><td> TRUE</td><td> TRUE</td></tr>\n",
              "\t<tr><td> 7</td><td>W</td><td>B</td><td>FALSE</td><td> TRUE</td></tr>\n",
              "\t<tr><td> 8</td><td>W</td><td>W</td><td> TRUE</td><td>FALSE</td></tr>\n",
              "\t<tr><td> 9</td><td>W</td><td>B</td><td>FALSE</td><td> TRUE</td></tr>\n",
              "\t<tr><td>10</td><td>W</td><td>B</td><td>FALSE</td><td> TRUE</td></tr>\n",
              "</tbody>\n",
              "</table>\n"
            ],
            "text/markdown": "\nA tibble: 10 × 5\n\n| .trial &lt;dbl&gt; | .outcome.1 &lt;chr&gt; | .outcome.2 &lt;chr&gt; | same.color &lt;lgl&gt; | second.blue &lt;lgl&gt; |\n|---|---|---|---|---|\n|  1 | B | B |  TRUE |  TRUE |\n|  2 | W | B | FALSE |  TRUE |\n|  3 | B | B |  TRUE |  TRUE |\n|  4 | B | W | FALSE | FALSE |\n|  5 | B | B |  TRUE |  TRUE |\n|  6 | B | B |  TRUE |  TRUE |\n|  7 | W | B | FALSE |  TRUE |\n|  8 | W | W |  TRUE | FALSE |\n|  9 | W | B | FALSE |  TRUE |\n| 10 | W | B | FALSE |  TRUE |\n\n",
            "text/latex": "A tibble: 10 × 5\n\\begin{tabular}{lllll}\n .trial & .outcome.1 & .outcome.2 & same.color & second.blue\\\\\n <dbl> & <chr> & <chr> & <lgl> & <lgl>\\\\\n\\hline\n\t  1 & B & B &  TRUE &  TRUE\\\\\n\t  2 & W & B & FALSE &  TRUE\\\\\n\t  3 & B & B &  TRUE &  TRUE\\\\\n\t  4 & B & W & FALSE & FALSE\\\\\n\t  5 & B & B &  TRUE &  TRUE\\\\\n\t  6 & B & B &  TRUE &  TRUE\\\\\n\t  7 & W & B & FALSE &  TRUE\\\\\n\t  8 & W & W &  TRUE & FALSE\\\\\n\t  9 & W & B & FALSE &  TRUE\\\\\n\t 10 & W & B & FALSE &  TRUE\\\\\n\\end{tabular}\n",
            "text/plain": [
              "   .trial .outcome.1 .outcome.2 same.color second.blue\n",
              "1   1     B          B           TRUE       TRUE      \n",
              "2   2     W          B          FALSE       TRUE      \n",
              "3   3     B          B           TRUE       TRUE      \n",
              "4   4     B          W          FALSE      FALSE      \n",
              "5   5     B          B           TRUE       TRUE      \n",
              "6   6     B          B           TRUE       TRUE      \n",
              "7   7     W          B          FALSE       TRUE      \n",
              "8   8     W          W           TRUE      FALSE      \n",
              "9   9     W          B          FALSE       TRUE      \n",
              "10 10     W          B          FALSE       TRUE      "
            ]
          },
          "metadata": {}
        }
      ]
    },
    {
      "cell_type": "markdown",
      "source": [
        "**Step 2 - Use `estimate_all_prob`**"
      ],
      "metadata": {
        "id": "QWxytmltd5nD"
      }
    },
    {
      "cell_type": "code",
      "source": [
        "N <- 100\n",
        "(replicate(N, sample(urn, 2, replace = FALSE), .reshape = 'split')\n",
        "  %>% mutate(same.color = .outcome.1 == .outcome.2,\n",
        "             second.blue = .outcome.2 == 'B',\n",
        "            )\n",
        "  %>% estimate_all_prob\n",
        ")"
      ],
      "metadata": {
        "id": "FVYYgIsqitnO",
        "colab": {
          "base_uri": "https://localhost:8080/",
          "height": 146
        },
        "outputId": "370121e2-aecf-4cdf-b7f9-bfcc08e6bb32"
      },
      "execution_count": 55,
      "outputs": [
        {
          "output_type": "display_data",
          "data": {
            "text/html": [
              "<table class=\"dataframe\">\n",
              "<caption>A tibble: 1 × 2</caption>\n",
              "<thead>\n",
              "\t<tr><th scope=col>same.color</th><th scope=col>second.blue</th></tr>\n",
              "\t<tr><th scope=col>&lt;dbl&gt;</th><th scope=col>&lt;dbl&gt;</th></tr>\n",
              "</thead>\n",
              "<tbody>\n",
              "\t<tr><td>0.51</td><td>0.64</td></tr>\n",
              "</tbody>\n",
              "</table>\n"
            ],
            "text/markdown": "\nA tibble: 1 × 2\n\n| same.color &lt;dbl&gt; | second.blue &lt;dbl&gt; |\n|---|---|\n| 0.51 | 0.64 |\n\n",
            "text/latex": "A tibble: 1 × 2\n\\begin{tabular}{ll}\n same.color & second.blue\\\\\n <dbl> & <dbl>\\\\\n\\hline\n\t 0.51 & 0.64\\\\\n\\end{tabular}\n",
            "text/plain": [
              "  same.color second.blue\n",
              "1 0.51       0.64       "
            ]
          },
          "metadata": {}
        }
      ]
    },
    {
      "cell_type": "code",
      "source": [
        "N <- 100000\n",
        "(replicate(N, sample(urn, 2, replace = FALSE), .reshape = 'split')\n",
        "  %>% mutate(same.color = .outcome.1 == .outcome.2,\n",
        "             second.blue = .outcome.2 == 'B',\n",
        "            )\n",
        "  %>% estimate_all_prob\n",
        ")"
      ],
      "metadata": {
        "id": "jwlqRCoai0Lt",
        "colab": {
          "base_uri": "https://localhost:8080/",
          "height": 146
        },
        "outputId": "fd78d5c9-0ff2-410f-d630-c52b379faa2f"
      },
      "execution_count": 54,
      "outputs": [
        {
          "output_type": "display_data",
          "data": {
            "text/html": [
              "<table class=\"dataframe\">\n",
              "<caption>A tibble: 1 × 2</caption>\n",
              "<thead>\n",
              "\t<tr><th scope=col>same.color</th><th scope=col>second.blue</th></tr>\n",
              "\t<tr><th scope=col>&lt;dbl&gt;</th><th scope=col>&lt;dbl&gt;</th></tr>\n",
              "</thead>\n",
              "<tbody>\n",
              "\t<tr><td>0.46472</td><td>0.62327</td></tr>\n",
              "</tbody>\n",
              "</table>\n"
            ],
            "text/markdown": "\nA tibble: 1 × 2\n\n| same.color &lt;dbl&gt; | second.blue &lt;dbl&gt; |\n|---|---|\n| 0.46472 | 0.62327 |\n\n",
            "text/latex": "A tibble: 1 × 2\n\\begin{tabular}{ll}\n same.color & second.blue\\\\\n <dbl> & <dbl>\\\\\n\\hline\n\t 0.46472 & 0.62327\\\\\n\\end{tabular}\n",
            "text/plain": [
              "  same.color second.blue\n",
              "1 0.46472    0.62327    "
            ]
          },
          "metadata": {}
        }
      ]
    },
    {
      "cell_type": "markdown",
      "source": [
        "### Trick 3. Stacking outcomes to tabulate all the marginal distributions together.\n",
        "\n",
        "The other option of reshaping the trials is to stack the outcomes using `.reshape = 'stack'`.  To see this in action, let's stack the results of drawing four chips from our previous urn."
      ],
      "metadata": {
        "id": "0rC4nVhXf6wd"
      }
    },
    {
      "cell_type": "code",
      "source": [
        "urn"
      ],
      "metadata": {
        "colab": {
          "base_uri": "https://localhost:8080/",
          "height": 54
        },
        "id": "e-mY5RuUgk2E",
        "outputId": "cc1ecfe8-9733-4b1f-a90c-93cc22e5be2e"
      },
      "execution_count": 56,
      "outputs": [
        {
          "output_type": "display_data",
          "data": {
            "text/html": [
              "<style>\n",
              ".list-inline {list-style: none; margin:0; padding: 0}\n",
              ".list-inline>li {display: inline-block}\n",
              ".list-inline>li:not(:last-child)::after {content: \"\\00b7\"; padding: 0 .5ex}\n",
              "</style>\n",
              "<ol class=list-inline><li>'B'</li><li>'B'</li><li>'B'</li><li>'B'</li><li>'B'</li><li>'W'</li><li>'W'</li><li>'W'</li></ol>\n"
            ],
            "text/markdown": "1. 'B'\n2. 'B'\n3. 'B'\n4. 'B'\n5. 'B'\n6. 'W'\n7. 'W'\n8. 'W'\n\n\n",
            "text/latex": "\\begin{enumerate*}\n\\item 'B'\n\\item 'B'\n\\item 'B'\n\\item 'B'\n\\item 'B'\n\\item 'W'\n\\item 'W'\n\\item 'W'\n\\end{enumerate*}\n",
            "text/plain": [
              "[1] \"B\" \"B\" \"B\" \"B\" \"B\" \"W\" \"W\" \"W\""
            ]
          },
          "metadata": {}
        }
      ]
    },
    {
      "cell_type": "code",
      "source": [
        "sample(urn, 4, replace = FALSE)"
      ],
      "metadata": {
        "colab": {
          "base_uri": "https://localhost:8080/",
          "height": 54
        },
        "id": "zKcIuntmgler",
        "outputId": "84f90b32-4835-4393-f9e6-b2593bac3e12"
      },
      "execution_count": 57,
      "outputs": [
        {
          "output_type": "display_data",
          "data": {
            "text/html": [
              "<style>\n",
              ".list-inline {list-style: none; margin:0; padding: 0}\n",
              ".list-inline>li {display: inline-block}\n",
              ".list-inline>li:not(:last-child)::after {content: \"\\00b7\"; padding: 0 .5ex}\n",
              "</style>\n",
              "<ol class=list-inline><li>'W'</li><li>'B'</li><li>'B'</li><li>'B'</li></ol>\n"
            ],
            "text/markdown": "1. 'W'\n2. 'B'\n3. 'B'\n4. 'B'\n\n\n",
            "text/latex": "\\begin{enumerate*}\n\\item 'W'\n\\item 'B'\n\\item 'B'\n\\item 'B'\n\\end{enumerate*}\n",
            "text/plain": [
              "[1] \"W\" \"B\" \"B\" \"B\""
            ]
          },
          "metadata": {}
        }
      ]
    },
    {
      "cell_type": "code",
      "source": [
        "replicate(5, sample(urn, 4, replace = FALSE))"
      ],
      "metadata": {
        "colab": {
          "base_uri": "https://localhost:8080/",
          "height": 268
        },
        "id": "b1tM1F3lgpCm",
        "outputId": "fb600ed1-9cbd-49c3-d268-aca5df9b5c40"
      },
      "execution_count": 61,
      "outputs": [
        {
          "output_type": "display_data",
          "data": {
            "text/html": [
              "<table class=\"dataframe\">\n",
              "<caption>A tibble: 5 × 2</caption>\n",
              "<thead>\n",
              "\t<tr><th scope=col>.trial</th><th scope=col>.outcome</th></tr>\n",
              "\t<tr><th scope=col>&lt;dbl&gt;</th><th scope=col>&lt;list&gt;</th></tr>\n",
              "</thead>\n",
              "<tbody>\n",
              "\t<tr><td>1</td><td>W, B, W, B</td></tr>\n",
              "\t<tr><td>2</td><td>B, B, W, B</td></tr>\n",
              "\t<tr><td>3</td><td>B, B, W, B</td></tr>\n",
              "\t<tr><td>4</td><td>W, B, B, B</td></tr>\n",
              "\t<tr><td>5</td><td>W, W, B, B</td></tr>\n",
              "</tbody>\n",
              "</table>\n"
            ],
            "text/markdown": "\nA tibble: 5 × 2\n\n| .trial &lt;dbl&gt; | .outcome &lt;list&gt; |\n|---|---|\n| 1 | W, B, W, B |\n| 2 | B, B, W, B |\n| 3 | B, B, W, B |\n| 4 | W, B, B, B |\n| 5 | W, W, B, B |\n\n",
            "text/latex": "A tibble: 5 × 2\n\\begin{tabular}{ll}\n .trial & .outcome\\\\\n <dbl> & <list>\\\\\n\\hline\n\t 1 & W, B, W, B\\\\\n\t 2 & B, B, W, B\\\\\n\t 3 & B, B, W, B\\\\\n\t 4 & W, B, B, B\\\\\n\t 5 & W, W, B, B\\\\\n\\end{tabular}\n",
            "text/plain": [
              "  .trial .outcome  \n",
              "1 1      W, B, W, B\n",
              "2 2      B, B, W, B\n",
              "3 3      B, B, W, B\n",
              "4 4      W, B, B, B\n",
              "5 5      W, W, B, B"
            ]
          },
          "metadata": {}
        }
      ]
    },
    {
      "cell_type": "markdown",
      "source": [
        "We can stack the outcomes using `.reshape = 'stack'`.  This action introduces a new column--titled `.replication` by default--that contains the order of the draws for each trial."
      ],
      "metadata": {
        "id": "k9yI6pIAguck"
      }
    },
    {
      "cell_type": "code",
      "source": [
        "replicate(5, sample(urn, 4, replace = FALSE), .reshape = 'stack')"
      ],
      "metadata": {
        "colab": {
          "base_uri": "https://localhost:8080/",
          "height": 726
        },
        "id": "M7KKCwdmgtEv",
        "outputId": "db760893-a248-4eef-a249-18546dc8d7ac"
      },
      "execution_count": 62,
      "outputs": [
        {
          "output_type": "display_data",
          "data": {
            "text/html": [
              "<table class=\"dataframe\">\n",
              "<caption>A tibble: 20 × 3</caption>\n",
              "<thead>\n",
              "\t<tr><th scope=col>.trial</th><th scope=col>.replication</th><th scope=col>.outcome</th></tr>\n",
              "\t<tr><th scope=col>&lt;dbl&gt;</th><th scope=col>&lt;int&gt;</th><th scope=col>&lt;chr&gt;</th></tr>\n",
              "</thead>\n",
              "<tbody>\n",
              "\t<tr><td>1</td><td>1</td><td>W</td></tr>\n",
              "\t<tr><td>1</td><td>2</td><td>B</td></tr>\n",
              "\t<tr><td>1</td><td>3</td><td>W</td></tr>\n",
              "\t<tr><td>1</td><td>4</td><td>B</td></tr>\n",
              "\t<tr><td>2</td><td>1</td><td>B</td></tr>\n",
              "\t<tr><td>2</td><td>2</td><td>W</td></tr>\n",
              "\t<tr><td>2</td><td>3</td><td>B</td></tr>\n",
              "\t<tr><td>2</td><td>4</td><td>B</td></tr>\n",
              "\t<tr><td>3</td><td>1</td><td>B</td></tr>\n",
              "\t<tr><td>3</td><td>2</td><td>B</td></tr>\n",
              "\t<tr><td>3</td><td>3</td><td>W</td></tr>\n",
              "\t<tr><td>3</td><td>4</td><td>B</td></tr>\n",
              "\t<tr><td>4</td><td>1</td><td>W</td></tr>\n",
              "\t<tr><td>4</td><td>2</td><td>B</td></tr>\n",
              "\t<tr><td>4</td><td>3</td><td>B</td></tr>\n",
              "\t<tr><td>4</td><td>4</td><td>B</td></tr>\n",
              "\t<tr><td>5</td><td>1</td><td>W</td></tr>\n",
              "\t<tr><td>5</td><td>2</td><td>B</td></tr>\n",
              "\t<tr><td>5</td><td>3</td><td>B</td></tr>\n",
              "\t<tr><td>5</td><td>4</td><td>W</td></tr>\n",
              "</tbody>\n",
              "</table>\n"
            ],
            "text/markdown": "\nA tibble: 20 × 3\n\n| .trial &lt;dbl&gt; | .replication &lt;int&gt; | .outcome &lt;chr&gt; |\n|---|---|---|\n| 1 | 1 | W |\n| 1 | 2 | B |\n| 1 | 3 | W |\n| 1 | 4 | B |\n| 2 | 1 | B |\n| 2 | 2 | W |\n| 2 | 3 | B |\n| 2 | 4 | B |\n| 3 | 1 | B |\n| 3 | 2 | B |\n| 3 | 3 | W |\n| 3 | 4 | B |\n| 4 | 1 | W |\n| 4 | 2 | B |\n| 4 | 3 | B |\n| 4 | 4 | B |\n| 5 | 1 | W |\n| 5 | 2 | B |\n| 5 | 3 | B |\n| 5 | 4 | W |\n\n",
            "text/latex": "A tibble: 20 × 3\n\\begin{tabular}{lll}\n .trial & .replication & .outcome\\\\\n <dbl> & <int> & <chr>\\\\\n\\hline\n\t 1 & 1 & W\\\\\n\t 1 & 2 & B\\\\\n\t 1 & 3 & W\\\\\n\t 1 & 4 & B\\\\\n\t 2 & 1 & B\\\\\n\t 2 & 2 & W\\\\\n\t 2 & 3 & B\\\\\n\t 2 & 4 & B\\\\\n\t 3 & 1 & B\\\\\n\t 3 & 2 & B\\\\\n\t 3 & 3 & W\\\\\n\t 3 & 4 & B\\\\\n\t 4 & 1 & W\\\\\n\t 4 & 2 & B\\\\\n\t 4 & 3 & B\\\\\n\t 4 & 4 & B\\\\\n\t 5 & 1 & W\\\\\n\t 5 & 2 & B\\\\\n\t 5 & 3 & B\\\\\n\t 5 & 4 & W\\\\\n\\end{tabular}\n",
            "text/plain": [
              "   .trial .replication .outcome\n",
              "1  1      1            W       \n",
              "2  1      2            B       \n",
              "3  1      3            W       \n",
              "4  1      4            B       \n",
              "5  2      1            B       \n",
              "6  2      2            W       \n",
              "7  2      3            B       \n",
              "8  2      4            B       \n",
              "9  3      1            B       \n",
              "10 3      2            B       \n",
              "11 3      3            W       \n",
              "12 3      4            B       \n",
              "13 4      1            W       \n",
              "14 4      2            B       \n",
              "15 4      3            B       \n",
              "16 4      4            B       \n",
              "17 5      1            W       \n",
              "18 5      2            B       \n",
              "19 5      3            B       \n",
              "20 5      4            W       "
            ]
          },
          "metadata": {}
        }
      ]
    },
    {
      "cell_type": "markdown",
      "source": [
        "#### Task - Estimate the marginal distributions for drawing four chips from our urn.\n",
        "\n",
        "To estimate the distribution for all the draws simultaneously, we will\n",
        "1. Stack the outcomes,\n",
        "2. `group_by` the replications, and\n",
        "3. `tabulate` the outcomes.\n",
        "\n",
        "The result is a two-way table of marginal probabilities."
      ],
      "metadata": {
        "id": "puyCm-_HhZ7x"
      }
    },
    {
      "cell_type": "code",
      "source": [
        "# prototype\n",
        "N <- 100\n",
        "(replicate(N, sample(urn, 4, replace = FALSE), .reshape = 'stack')\n",
        " %>% group_by(.replication)\n",
        " %>% tabulate(.outcome)\n",
        ")"
      ],
      "metadata": {
        "colab": {
          "base_uri": "https://localhost:8080/",
          "height": 254
        },
        "id": "yHIy3b9BiFZy",
        "outputId": "dd29bea1-31c7-4cdd-a6a0-020d120fb5ee"
      },
      "execution_count": 67,
      "outputs": [
        {
          "output_type": "stream",
          "name": "stderr",
          "text": [
            "\u001b[1m\u001b[22mAdding missing grouping variables: `.replication`\n"
          ]
        },
        {
          "output_type": "display_data",
          "data": {
            "text/html": [
              "<table class=\"dataframe\">\n",
              "<caption>A tibble: 4 × 3</caption>\n",
              "<thead>\n",
              "\t<tr><th scope=col>.replication</th><th scope=col>X = B</th><th scope=col>X = W</th></tr>\n",
              "\t<tr><th scope=col>&lt;int&gt;</th><th scope=col>&lt;dbl&gt;</th><th scope=col>&lt;dbl&gt;</th></tr>\n",
              "</thead>\n",
              "<tbody>\n",
              "\t<tr><td>1</td><td>0.66</td><td>0.34</td></tr>\n",
              "\t<tr><td>2</td><td>0.61</td><td>0.39</td></tr>\n",
              "\t<tr><td>3</td><td>0.66</td><td>0.34</td></tr>\n",
              "\t<tr><td>4</td><td>0.61</td><td>0.39</td></tr>\n",
              "</tbody>\n",
              "</table>\n"
            ],
            "text/markdown": "\nA tibble: 4 × 3\n\n| .replication &lt;int&gt; | X = B &lt;dbl&gt; | X = W &lt;dbl&gt; |\n|---|---|---|\n| 1 | 0.66 | 0.34 |\n| 2 | 0.61 | 0.39 |\n| 3 | 0.66 | 0.34 |\n| 4 | 0.61 | 0.39 |\n\n",
            "text/latex": "A tibble: 4 × 3\n\\begin{tabular}{lll}\n .replication & X = B & X = W\\\\\n <int> & <dbl> & <dbl>\\\\\n\\hline\n\t 1 & 0.66 & 0.34\\\\\n\t 2 & 0.61 & 0.39\\\\\n\t 3 & 0.66 & 0.34\\\\\n\t 4 & 0.61 & 0.39\\\\\n\\end{tabular}\n",
            "text/plain": [
              "  .replication X = B X = W\n",
              "1 1            0.66  0.34 \n",
              "2 2            0.61  0.39 \n",
              "3 3            0.66  0.34 \n",
              "4 4            0.61  0.39 "
            ]
          },
          "metadata": {}
        }
      ]
    },
    {
      "cell_type": "code",
      "source": [
        "# Get good estimates\n",
        "N <- 100000\n",
        "(replicate(N, sample(urn, 4, replace = FALSE), .reshape = 'stack')\n",
        " %>% group_by(.replication)\n",
        " %>% tabulate(.outcome)\n",
        ")"
      ],
      "metadata": {
        "colab": {
          "base_uri": "https://localhost:8080/",
          "height": 254
        },
        "id": "wx-W7Uq3iVXD",
        "outputId": "a6813656-3feb-451b-b5d4-58a49fdad190"
      },
      "execution_count": 72,
      "outputs": [
        {
          "output_type": "stream",
          "name": "stderr",
          "text": [
            "\u001b[1m\u001b[22mAdding missing grouping variables: `.replication`\n"
          ]
        },
        {
          "output_type": "display_data",
          "data": {
            "text/html": [
              "<table class=\"dataframe\">\n",
              "<caption>A tibble: 4 × 3</caption>\n",
              "<thead>\n",
              "\t<tr><th scope=col>.replication</th><th scope=col>X = B</th><th scope=col>X = W</th></tr>\n",
              "\t<tr><th scope=col>&lt;int&gt;</th><th scope=col>&lt;dbl&gt;</th><th scope=col>&lt;dbl&gt;</th></tr>\n",
              "</thead>\n",
              "<tbody>\n",
              "\t<tr><td>1</td><td>0.62830</td><td>0.37170</td></tr>\n",
              "\t<tr><td>2</td><td>0.62311</td><td>0.37689</td></tr>\n",
              "\t<tr><td>3</td><td>0.62436</td><td>0.37564</td></tr>\n",
              "\t<tr><td>4</td><td>0.62224</td><td>0.37776</td></tr>\n",
              "</tbody>\n",
              "</table>\n"
            ],
            "text/markdown": "\nA tibble: 4 × 3\n\n| .replication &lt;int&gt; | X = B &lt;dbl&gt; | X = W &lt;dbl&gt; |\n|---|---|---|\n| 1 | 0.62830 | 0.37170 |\n| 2 | 0.62311 | 0.37689 |\n| 3 | 0.62436 | 0.37564 |\n| 4 | 0.62224 | 0.37776 |\n\n",
            "text/latex": "A tibble: 4 × 3\n\\begin{tabular}{lll}\n .replication & X = B & X = W\\\\\n <int> & <dbl> & <dbl>\\\\\n\\hline\n\t 1 & 0.62830 & 0.37170\\\\\n\t 2 & 0.62311 & 0.37689\\\\\n\t 3 & 0.62436 & 0.37564\\\\\n\t 4 & 0.62224 & 0.37776\\\\\n\\end{tabular}\n",
            "text/plain": [
              "  .replication X = B   X = W  \n",
              "1 1            0.62830 0.37170\n",
              "2 2            0.62311 0.37689\n",
              "3 3            0.62436 0.37564\n",
              "4 4            0.62224 0.37776"
            ]
          },
          "metadata": {}
        }
      ]
    }
  ]
}