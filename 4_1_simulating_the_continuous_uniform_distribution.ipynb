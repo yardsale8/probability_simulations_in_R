{
  "nbformat": 4,
  "nbformat_minor": 0,
  "metadata": {
    "colab": {
      "provenance": [],
      "authorship_tag": "ABX9TyMr77k+S0/cr9Leu3NRbQRF",
      "include_colab_link": true
    },
    "kernelspec": {
      "name": "ir",
      "display_name": "R"
    },
    "language_info": {
      "name": "R"
    }
  },
  "cells": [
    {
      "cell_type": "markdown",
      "metadata": {
        "id": "view-in-github",
        "colab_type": "text"
      },
      "source": [
        "<a href=\"https://colab.research.google.com/github/yardsale8/probability_simulations_in_R/blob/main/4_1_simulating_the_continuous_uniform_distribution.ipynb\" target=\"_parent\"><img src=\"https://colab.research.google.com/assets/colab-badge.svg\" alt=\"Open In Colab\"/></a>"
      ]
    },
    {
      "cell_type": "code",
      "source": [
        "library(dplyr)\n",
        "library(tidyr)\n",
        "library(purrr)\n",
        "library(devtools)\n",
        "install_github('yardsale8/purrrfect', force = TRUE)\n",
        "library(purrrfect)"
      ],
      "metadata": {
        "id": "iRu0cs3yqK8Y",
        "colab": {
          "base_uri": "https://localhost:8080/"
        },
        "outputId": "f21ff2d8-bba2-4ffd-d0f7-f2b937c205c9"
      },
      "execution_count": 2,
      "outputs": [
        {
          "output_type": "stream",
          "name": "stderr",
          "text": [
            "\n",
            "Attaching package: ‘dplyr’\n",
            "\n",
            "\n",
            "The following objects are masked from ‘package:stats’:\n",
            "\n",
            "    filter, lag\n",
            "\n",
            "\n",
            "The following objects are masked from ‘package:base’:\n",
            "\n",
            "    intersect, setdiff, setequal, union\n",
            "\n",
            "\n",
            "Loading required package: usethis\n",
            "\n",
            "Downloading GitHub repo yardsale8/purrrfect@HEAD\n",
            "\n"
          ]
        },
        {
          "output_type": "stream",
          "name": "stdout",
          "text": [
            "dplyr (1.1.2 -> 1.1.3) [CRAN]\n"
          ]
        },
        {
          "output_type": "stream",
          "name": "stderr",
          "text": [
            "Installing 1 packages: dplyr\n",
            "\n",
            "Installing package into ‘/usr/local/lib/R/site-library’\n",
            "(as ‘lib’ is unspecified)\n",
            "\n"
          ]
        },
        {
          "output_type": "stream",
          "name": "stdout",
          "text": [
            "\u001b[36m──\u001b[39m \u001b[36mR CMD build\u001b[39m \u001b[36m─────────────────────────────────────────────────────────────────\u001b[39m\n",
            "* checking for file ‘/tmp/RtmpDRdkIQ/remotes9a101e6711/yardsale8-purrrfect-d91fae7/DESCRIPTION’ ... OK\n",
            "* preparing ‘purrrfect’:\n",
            "* checking DESCRIPTION meta-information ... OK\n",
            "* checking for LF line-endings in source and make files and shell scripts\n",
            "* checking for empty or unneeded directories\n",
            "* building ‘purrrfect_1.0.1.tar.gz’\n",
            "\n"
          ]
        },
        {
          "output_type": "stream",
          "name": "stderr",
          "text": [
            "Installing package into ‘/usr/local/lib/R/site-library’\n",
            "(as ‘lib’ is unspecified)\n",
            "\n",
            "\n",
            "Attaching package: ‘purrrfect’\n",
            "\n",
            "\n",
            "The following objects are masked from ‘package:base’:\n",
            "\n",
            "    replicate, tabulate\n",
            "\n",
            "\n"
          ]
        }
      ]
    },
    {
      "cell_type": "markdown",
      "source": [
        "# Simulating the Uniform Distribution\n",
        "\n",
        "There are two main ways to simulate a continuous uniform random variable.\n",
        "\n",
        "1. Convert standard random uniform data (e.g., from a algorithm for pseudo-random numbers), which range from 0 to 1, into the desired range.  This technique will be covered in Chapter 5.\n",
        "2. Simulating the number of successes directly using `runif`, which we cover here.\n",
        "\n",
        "Finally, we will illustrate how to use simulations to estimate the expected value."
      ],
      "metadata": {
        "id": "h3G2-mjtmcG-"
      }
    },
    {
      "cell_type": "markdown",
      "source": [
        "### Review - Uniform Random Numbers\n",
        "\n",
        "A continuous random variable $X$ has the [continuous uniform distribution](https://en.wikipedia.org/wiki/Continuous_uniform_distribution), denotes $Uniform(a, b)$,if\n",
        "\n",
        "1. All feasible values of $X = x$ are $a < x < b$, and\n",
        "2. The probability of getting a number $c < x < d$ is proportional to the width of the interval, provided $a \\le c < d \\le b$.\n"
      ],
      "metadata": {
        "id": "YEX80xOym42U"
      }
    },
    {
      "cell_type": "markdown",
      "source": [
        "## Strategies for simulating the binomial distribution\n",
        "\n",
        "1. Convert standard uniform random numbers in to the desired range (see chapter 5).\n",
        "2. Simulate the number of successes directly using `runif`."
      ],
      "metadata": {
        "id": "MNVkUvCXn5qR"
      }
    },
    {
      "cell_type": "markdown",
      "source": [
        "### Example - Waiting for the Bus\n",
        "\n",
        "To commute a work, a professor must first get on a bus near her house.  Suppose the waiting time (in minutes) at the stop follows a $UNIFORM(0,5)$ distribution.  \n",
        "\n",
        "1. What is the probability that she has to wait at most 3 minutes?\n",
        "2. What is the probability that she has to wait at more than 2 minutes?\n",
        "3. What is the probability that she has to wait at between 2 and 3 minutes?\n",
        "4. What is the cut-off for the largest 20% of wait times?\n",
        "5. What is the mean and variance of the wait times?"
      ],
      "metadata": {
        "id": "8FctsvUzodWG"
      }
    },
    {
      "cell_type": "markdown",
      "source": [
        "#### Setting up the simulations\n",
        "\n",
        "We need to simulate a uniform distribution that ranges from 0 ot 5, which will be accomplished using the `runif` (think Random UNIF, not RUN IF).  Note that this will return floating point numbers, so we will use `replicate_dbl`."
      ],
      "metadata": {
        "id": "1n70o_i8pcNX"
      }
    },
    {
      "cell_type": "code",
      "source": [
        "?runif"
      ],
      "metadata": {
        "id": "MnmJOV6JMJqf"
      },
      "execution_count": 1,
      "outputs": []
    },
    {
      "cell_type": "code",
      "source": [
        "replicate_dbl(10, runif(1, 0, 5))"
      ],
      "metadata": {
        "id": "Zu4UAs-_pucJ",
        "outputId": "05d48b05-8f76-478d-f2fd-9a4d567f1ee7",
        "colab": {
          "base_uri": "https://localhost:8080/",
          "height": 435
        }
      },
      "execution_count": 4,
      "outputs": [
        {
          "output_type": "display_data",
          "data": {
            "text/html": [
              "<table class=\"dataframe\">\n",
              "<caption>A tibble: 10 × 2</caption>\n",
              "<thead>\n",
              "\t<tr><th scope=col>.trial</th><th scope=col>.outcome</th></tr>\n",
              "\t<tr><th scope=col>&lt;dbl&gt;</th><th scope=col>&lt;dbl&gt;</th></tr>\n",
              "</thead>\n",
              "<tbody>\n",
              "\t<tr><td> 1</td><td>4.0307461</td></tr>\n",
              "\t<tr><td> 2</td><td>0.2196763</td></tr>\n",
              "\t<tr><td> 3</td><td>1.3868595</td></tr>\n",
              "\t<tr><td> 4</td><td>1.9456184</td></tr>\n",
              "\t<tr><td> 5</td><td>4.4782355</td></tr>\n",
              "\t<tr><td> 6</td><td>2.9401042</td></tr>\n",
              "\t<tr><td> 7</td><td>2.4159100</td></tr>\n",
              "\t<tr><td> 8</td><td>3.3325786</td></tr>\n",
              "\t<tr><td> 9</td><td>0.4281534</td></tr>\n",
              "\t<tr><td>10</td><td>1.8185569</td></tr>\n",
              "</tbody>\n",
              "</table>\n"
            ],
            "text/markdown": "\nA tibble: 10 × 2\n\n| .trial &lt;dbl&gt; | .outcome &lt;dbl&gt; |\n|---|---|\n|  1 | 4.0307461 |\n|  2 | 0.2196763 |\n|  3 | 1.3868595 |\n|  4 | 1.9456184 |\n|  5 | 4.4782355 |\n|  6 | 2.9401042 |\n|  7 | 2.4159100 |\n|  8 | 3.3325786 |\n|  9 | 0.4281534 |\n| 10 | 1.8185569 |\n\n",
            "text/latex": "A tibble: 10 × 2\n\\begin{tabular}{ll}\n .trial & .outcome\\\\\n <dbl> & <dbl>\\\\\n\\hline\n\t  1 & 4.0307461\\\\\n\t  2 & 0.2196763\\\\\n\t  3 & 1.3868595\\\\\n\t  4 & 1.9456184\\\\\n\t  5 & 4.4782355\\\\\n\t  6 & 2.9401042\\\\\n\t  7 & 2.4159100\\\\\n\t  8 & 3.3325786\\\\\n\t  9 & 0.4281534\\\\\n\t 10 & 1.8185569\\\\\n\\end{tabular}\n",
            "text/plain": [
              "   .trial .outcome \n",
              "1   1     4.0307461\n",
              "2   2     0.2196763\n",
              "3   3     1.3868595\n",
              "4   4     1.9456184\n",
              "5   5     4.4782355\n",
              "6   6     2.9401042\n",
              "7   7     2.4159100\n",
              "8   8     3.3325786\n",
              "9   9     0.4281534\n",
              "10 10     1.8185569"
            ]
          },
          "metadata": {}
        }
      ]
    },
    {
      "cell_type": "markdown",
      "source": [
        "#### Problems 1-3\n",
        "\n",
        "1. What is the probability that she has to wait at most 3 minutes?\n",
        "2. What is the probability that she has to wait more than 2 minutes?\n",
        "3. What is the probability that she has to wait at between 2 and 3 minutes?"
      ],
      "metadata": {
        "id": "PQoy6iFSjPFV"
      }
    },
    {
      "cell_type": "code",
      "source": [
        "a <- 0\n",
        "b <- 5\n",
        "num.trials <- 100000\n",
        "(replicate_dbl(num.trials, runif(1, a, b))\n",
        " %>% mutate(at.most.three = .outcome <= 3,\n",
        "            more.than.two = .outcome > 2,\n",
        "            between.two.and.three = (.outcome > 2) & (.outcome < 3))\n",
        " %>% estimate_all_prob\n",
        " %>% mutate(exact.at.most.three = punif(3, a, b),\n",
        "            exact.more.than.two = 1 - punif(2, a, b),\n",
        "            exact.between.two.and.three = punif(3, a, b) - punif(2, a, b))\n",
        " %>% relocate(exact.at.most.three, .after = at.most.three)\n",
        " %>% relocate(exact.more.than.two, .after = more.than.two)\n",
        "\n",
        " )"
      ],
      "metadata": {
        "colab": {
          "base_uri": "https://localhost:8080/",
          "height": 151
        },
        "id": "8-MWzoX1mbQc",
        "outputId": "a29fc58f-f9a6-40ec-f167-1ef38c7f2d39"
      },
      "execution_count": 10,
      "outputs": [
        {
          "output_type": "display_data",
          "data": {
            "text/html": [
              "<table class=\"dataframe\">\n",
              "<caption>A tibble: 1 × 6</caption>\n",
              "<thead>\n",
              "\t<tr><th scope=col>at.most.three</th><th scope=col>exact.at.most.three</th><th scope=col>more.than.two</th><th scope=col>exact.more.than.two</th><th scope=col>between.two.and.three</th><th scope=col>exact.between.two.and.three</th></tr>\n",
              "\t<tr><th scope=col>&lt;dbl&gt;</th><th scope=col>&lt;dbl&gt;</th><th scope=col>&lt;dbl&gt;</th><th scope=col>&lt;dbl&gt;</th><th scope=col>&lt;dbl&gt;</th><th scope=col>&lt;dbl&gt;</th></tr>\n",
              "</thead>\n",
              "<tbody>\n",
              "\t<tr><td>0.6017</td><td>0.6</td><td>0.59868</td><td>0.6</td><td>0.20038</td><td>0.2</td></tr>\n",
              "</tbody>\n",
              "</table>\n"
            ],
            "text/markdown": "\nA tibble: 1 × 6\n\n| at.most.three &lt;dbl&gt; | exact.at.most.three &lt;dbl&gt; | more.than.two &lt;dbl&gt; | exact.more.than.two &lt;dbl&gt; | between.two.and.three &lt;dbl&gt; | exact.between.two.and.three &lt;dbl&gt; |\n|---|---|---|---|---|---|\n| 0.6017 | 0.6 | 0.59868 | 0.6 | 0.20038 | 0.2 |\n\n",
            "text/latex": "A tibble: 1 × 6\n\\begin{tabular}{llllll}\n at.most.three & exact.at.most.three & more.than.two & exact.more.than.two & between.two.and.three & exact.between.two.and.three\\\\\n <dbl> & <dbl> & <dbl> & <dbl> & <dbl> & <dbl>\\\\\n\\hline\n\t 0.6017 & 0.6 & 0.59868 & 0.6 & 0.20038 & 0.2\\\\\n\\end{tabular}\n",
            "text/plain": [
              "  at.most.three exact.at.most.three more.than.two exact.more.than.two\n",
              "1 0.6017        0.6                 0.59868       0.6                \n",
              "  between.two.and.three exact.between.two.and.three\n",
              "1 0.20038               0.2                        "
            ]
          },
          "metadata": {}
        }
      ]
    },
    {
      "cell_type": "markdown",
      "source": [
        "#### 4. What is the cut-off for the largest 20% of wait times?"
      ],
      "metadata": {
        "id": "Hash1kXErgbz"
      }
    },
    {
      "cell_type": "code",
      "source": [
        "a <- 0\n",
        "b <- 5\n",
        "left.tail <- 1 - 0.20\n",
        "num.trials <- 100000\n",
        "(replicate_dbl(num.trials, runif(1, a, b))\n",
        " %>% summarise(top.20.percent = quantile(.outcome, left.tail)) # no adjustment for continuous\n",
        " %>% mutate(exact.top.20.percent = qunif(left.tail, a, b))\n",
        " )"
      ],
      "metadata": {
        "id": "PO7i7lvgN_2-",
        "outputId": "cc048a15-2130-4f10-8517-871192882d45",
        "colab": {
          "base_uri": "https://localhost:8080/",
          "height": 151
        }
      },
      "execution_count": 13,
      "outputs": [
        {
          "output_type": "display_data",
          "data": {
            "text/html": [
              "<table class=\"dataframe\">\n",
              "<caption>A tibble: 1 × 2</caption>\n",
              "<thead>\n",
              "\t<tr><th scope=col>top.20.percent</th><th scope=col>exact.top.20.percent</th></tr>\n",
              "\t<tr><th scope=col>&lt;dbl&gt;</th><th scope=col>&lt;dbl&gt;</th></tr>\n",
              "</thead>\n",
              "<tbody>\n",
              "\t<tr><td>4.007949</td><td>4</td></tr>\n",
              "</tbody>\n",
              "</table>\n"
            ],
            "text/markdown": "\nA tibble: 1 × 2\n\n| top.20.percent &lt;dbl&gt; | exact.top.20.percent &lt;dbl&gt; |\n|---|---|\n| 4.007949 | 4 |\n\n",
            "text/latex": "A tibble: 1 × 2\n\\begin{tabular}{ll}\n top.20.percent & exact.top.20.percent\\\\\n <dbl> & <dbl>\\\\\n\\hline\n\t 4.007949 & 4\\\\\n\\end{tabular}\n",
            "text/plain": [
              "  top.20.percent exact.top.20.percent\n",
              "1 4.007949       4                   "
            ]
          },
          "metadata": {}
        }
      ]
    },
    {
      "cell_type": "markdown",
      "source": [
        "#### d. Estimate the mean and variance."
      ],
      "metadata": {
        "id": "qAzIwsaTOULd"
      }
    },
    {
      "cell_type": "code",
      "source": [
        "a <- 0\n",
        "b <- 5\n",
        "num.trials <- 100000\n",
        "(replicate_dbl(num.trials, runif(1, a, b))\n",
        " %>% summarise(mu = mean(.outcome),\n",
        "               sigma.sqr = var(.outcome),\n",
        "               sigma = sqrt(sigma.sqr))\n",
        " %>% mutate(exact.mu = (a + b)/2,\n",
        "            exact.var = (b - a)^2/12,\n",
        "            exact.sd = sqrt(exact.var))\n",
        " %>% relocate(exact.mu, .after = mu)\n",
        " %>% relocate(exact.var, .after = sigma.sqr)\n",
        " )"
      ],
      "metadata": {
        "colab": {
          "base_uri": "https://localhost:8080/",
          "height": 151
        },
        "id": "p3oKX5a1rG7A",
        "outputId": "95cda9ef-826f-4106-a567-c0e1b55c02e7"
      },
      "execution_count": 16,
      "outputs": [
        {
          "output_type": "display_data",
          "data": {
            "text/html": [
              "<table class=\"dataframe\">\n",
              "<caption>A tibble: 1 × 6</caption>\n",
              "<thead>\n",
              "\t<tr><th scope=col>mu</th><th scope=col>exact.mu</th><th scope=col>sigma.sqr</th><th scope=col>exact.var</th><th scope=col>sigma</th><th scope=col>exact.sd</th></tr>\n",
              "\t<tr><th scope=col>&lt;dbl&gt;</th><th scope=col>&lt;dbl&gt;</th><th scope=col>&lt;dbl&gt;</th><th scope=col>&lt;dbl&gt;</th><th scope=col>&lt;dbl&gt;</th><th scope=col>&lt;dbl&gt;</th></tr>\n",
              "</thead>\n",
              "<tbody>\n",
              "\t<tr><td>2.502847</td><td>2.5</td><td>2.075955</td><td>2.083333</td><td>1.440817</td><td>1.443376</td></tr>\n",
              "</tbody>\n",
              "</table>\n"
            ],
            "text/markdown": "\nA tibble: 1 × 6\n\n| mu &lt;dbl&gt; | exact.mu &lt;dbl&gt; | sigma.sqr &lt;dbl&gt; | exact.var &lt;dbl&gt; | sigma &lt;dbl&gt; | exact.sd &lt;dbl&gt; |\n|---|---|---|---|---|---|\n| 2.502847 | 2.5 | 2.075955 | 2.083333 | 1.440817 | 1.443376 |\n\n",
            "text/latex": "A tibble: 1 × 6\n\\begin{tabular}{llllll}\n mu & exact.mu & sigma.sqr & exact.var & sigma & exact.sd\\\\\n <dbl> & <dbl> & <dbl> & <dbl> & <dbl> & <dbl>\\\\\n\\hline\n\t 2.502847 & 2.5 & 2.075955 & 2.083333 & 1.440817 & 1.443376\\\\\n\\end{tabular}\n",
            "text/plain": [
              "  mu       exact.mu sigma.sqr exact.var sigma    exact.sd\n",
              "1 2.502847 2.5      2.075955  2.083333  1.440817 1.443376"
            ]
          },
          "metadata": {}
        }
      ]
    },
    {
      "cell_type": "markdown",
      "source": [
        "### <font color=\"red\"> Exercise 4.1.1 - Earthquake when? </font>\n",
        "\n",
        "Given that you know that 1 earthquake occurred within a 7-day week, the distribution of the time (in days) before the earthquake occurs is uniform(0, 7).  Answer each of the following questions.\n",
        "\n",
        "1. What is the probability the earthquake happens before the end of the first day?\n",
        "2. What is the probability the earthquake happens after the start of the 5th day of the week?\n",
        "3. What is the median waiting time?\n",
        "4. What is the mean and SD of the waiting times?\n"
      ],
      "metadata": {
        "id": "HhYX8bVhPZHD"
      }
    },
    {
      "cell_type": "code",
      "source": [
        "# Your code there"
      ],
      "metadata": {
        "id": "PJkwDLDD_naB"
      },
      "execution_count": null,
      "outputs": []
    }
  ]
}