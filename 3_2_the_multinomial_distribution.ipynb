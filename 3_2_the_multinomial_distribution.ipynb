{
  "nbformat": 4,
  "nbformat_minor": 0,
  "metadata": {
    "colab": {
      "provenance": [],
      "authorship_tag": "ABX9TyPqvteZHtWdIJw+4qKBa3De",
      "include_colab_link": true
    },
    "kernelspec": {
      "name": "ir",
      "display_name": "R"
    },
    "language_info": {
      "name": "R"
    }
  },
  "cells": [
    {
      "cell_type": "markdown",
      "metadata": {
        "id": "view-in-github",
        "colab_type": "text"
      },
      "source": [
        "<a href=\"https://colab.research.google.com/github/yardsale8/probability_simulations_in_R/blob/main/3_2_the_multinomial_distribution.ipynb\" target=\"_parent\"><img src=\"https://colab.research.google.com/assets/colab-badge.svg\" alt=\"Open In Colab\"/></a>"
      ]
    },
    {
      "cell_type": "code",
      "execution_count": null,
      "metadata": {
        "id": "t5tlYcZt18yl"
      },
      "outputs": [],
      "source": [
        "library(tidyverse)\n",
        "library(devtools)\n",
        "install_github('yardsale8/purrrfect', force = TRUE)\n",
        "library(purrrfect)"
      ]
    },
    {
      "cell_type": "markdown",
      "source": [
        "# The Multinomial Distribution\n",
        "\n",
        "In this notebook, we will look at simulations related to the multinomial distribution, specifically using sampling to generate raw outcomes and helper functions to count the occurances of each category."
      ],
      "metadata": {
        "id": "ewUulT4PMA3N"
      }
    },
    {
      "cell_type": "markdown",
      "source": [
        "## Review - The Set-Up\n",
        "\n",
        "Here is the motivating scenario for the multinomial distribution.  As you might have guessed by the name, the scenario is similar to that resulting in the binomial distribution, except we are dealing with more than 2 categories.\n",
        "\n",
        "* **Categories.** A single observation consists of one of $k$ categories, denoted as $c_i$ for $i=1,..,k$.\n",
        "* **Fixed proabilities.** The probability of seeing category $c_i$ on a single observation is fixed at $p_i$ for $i=1,..,k$.\n",
        "* **Fixed sample size.** Each experiment involves taking a sample of $n$ observations.\n",
        "* **Independence.** The outcomes in the sample must be independent.\n",
        "\n"
      ],
      "metadata": {
        "id": "VgXac7A4MYd7"
      }
    },
    {
      "cell_type": "markdown",
      "source": [
        "## The Multinomial Distribution\n",
        "\n",
        "If that we generate raw outcomes as discussed above, the number of times that each category occurs is related to the [multinomial distribution](https://en.wikipedia.org/wiki/Multinomial_distribution). Any respectable mathematical statistics textbook will contain a proof of the following result.\n",
        "\n",
        "**Theorem.** If the random variables $Y_i$ represent the counts of each category, that is $Y_i$ is the number of times that $c_i$ is observed in the sample for $i=1,..,k$, then $(Y_1, ..., Y_k)\\sim multinomial(n, p_1, ..., p_k)$"
      ],
      "metadata": {
        "id": "voefqGI6OYo-"
      }
    },
    {
      "cell_type": "markdown",
      "source": [
        "## Simulating Multinomial Random Variates via Sampling with Replacement\n",
        "\n",
        "One way to simulate the multinomial distribution is by\n",
        "\n",
        "1. Generating vectors of $n$ raw observations using `sample` with `replace=TRUE` and the correct `prob`, and then\n",
        "2. Creating count columns for each unique category."
      ],
      "metadata": {
        "id": "mfirFqxUPlRB"
      }
    },
    {
      "cell_type": "markdown",
      "source": [
        "### Example - Sampling Grades\n",
        "\n",
        "Over the course of 20 years, the grade distribution in Introduction to Physics at Lake Woebegone College is as follows\n",
        "\n",
        "Grade     |  Probability\n",
        "----------|-------------\n",
        "A         | 0.23  \n",
        "B         | 0.26  \n",
        "C         | 0.21  \n",
        "D         | 0.18  \n",
        "F         | 0.12  \n",
        "\n",
        "We take a sample of 5 former students (with replacement) and record the number of students at each grade level.\n",
        "\n",
        "**Questions.**\n",
        "1. What is the probability of exactly three As and two Bs?\n",
        "2. Given a sample had at least one A, what is the probability of at least one B?\n",
        "3. What is the mean and variance in the number of Cs?\n",
        "4. What is the covariance between the number of As and number of Bs?"
      ],
      "metadata": {
        "id": "dIGaZ1qsQGgX"
      }
    },
    {
      "cell_type": "markdown",
      "source": [
        "#### Step 1 - Set up the simulation, including a Boolean column for each probability question."
      ],
      "metadata": {
        "id": "48jiwuHeSfRs"
      }
    },
    {
      "cell_type": "code",
      "source": [
        "grades <- c('A', 'B', 'C', 'D', 'F')\n",
        "probs <- c(0.23, 0.26, 0.21, 0.18, 0.12)\n",
        "n <- 5\n",
        "N <- 100000\n",
        "(replicate(N, sample(grades, n, prob = probs, replace = TRUE), .as = raw.grades)\n",
        " %>% mutate(num_A = num_successes_int(raw.grades, 'A'),\n",
        "            num_B = num_successes_int(raw.grades, 'B'),\n",
        "            num_C = num_successes_int(raw.grades, 'C'),\n",
        "            num_D = num_successes_int(raw.grades, 'D'),\n",
        "            num_F = num_successes_int(raw.grades, 'F'),\n",
        "           )\n",
        ") -> five_students\n",
        "\n",
        "five_students %>% head"
      ],
      "metadata": {
        "colab": {
          "base_uri": "https://localhost:8080/",
          "height": 283
        },
        "id": "jNKmQrTy19rf",
        "outputId": "eb69c591-f190-4c82-c7e7-d82519806f38"
      },
      "execution_count": 58,
      "outputs": [
        {
          "output_type": "display_data",
          "data": {
            "text/html": [
              "<table class=\"dataframe\">\n",
              "<caption>A tibble: 6 × 7</caption>\n",
              "<thead>\n",
              "\t<tr><th scope=col>.trial</th><th scope=col>raw.grades</th><th scope=col>num_A</th><th scope=col>num_B</th><th scope=col>num_C</th><th scope=col>num_D</th><th scope=col>num_F</th></tr>\n",
              "\t<tr><th scope=col>&lt;dbl&gt;</th><th scope=col>&lt;list&gt;</th><th scope=col>&lt;int&gt;</th><th scope=col>&lt;int&gt;</th><th scope=col>&lt;int&gt;</th><th scope=col>&lt;int&gt;</th><th scope=col>&lt;int&gt;</th></tr>\n",
              "</thead>\n",
              "<tbody>\n",
              "\t<tr><td>1</td><td>A, A, A, A, B</td><td>4</td><td>1</td><td>0</td><td>0</td><td>0</td></tr>\n",
              "\t<tr><td>2</td><td>A, C, A, A, D</td><td>3</td><td>0</td><td>1</td><td>1</td><td>0</td></tr>\n",
              "\t<tr><td>3</td><td>B, F, B, D, A</td><td>1</td><td>2</td><td>0</td><td>1</td><td>1</td></tr>\n",
              "\t<tr><td>4</td><td>D, B, B, C, C</td><td>0</td><td>2</td><td>2</td><td>1</td><td>0</td></tr>\n",
              "\t<tr><td>5</td><td>B, C, C, C, A</td><td>1</td><td>1</td><td>3</td><td>0</td><td>0</td></tr>\n",
              "\t<tr><td>6</td><td>A, D, F, F, A</td><td>2</td><td>0</td><td>0</td><td>1</td><td>2</td></tr>\n",
              "</tbody>\n",
              "</table>\n"
            ],
            "text/markdown": "\nA tibble: 6 × 7\n\n| .trial &lt;dbl&gt; | raw.grades &lt;list&gt; | num_A &lt;int&gt; | num_B &lt;int&gt; | num_C &lt;int&gt; | num_D &lt;int&gt; | num_F &lt;int&gt; |\n|---|---|---|---|---|---|---|\n| 1 | A, A, A, A, B | 4 | 1 | 0 | 0 | 0 |\n| 2 | A, C, A, A, D | 3 | 0 | 1 | 1 | 0 |\n| 3 | B, F, B, D, A | 1 | 2 | 0 | 1 | 1 |\n| 4 | D, B, B, C, C | 0 | 2 | 2 | 1 | 0 |\n| 5 | B, C, C, C, A | 1 | 1 | 3 | 0 | 0 |\n| 6 | A, D, F, F, A | 2 | 0 | 0 | 1 | 2 |\n\n",
            "text/latex": "A tibble: 6 × 7\n\\begin{tabular}{lllllll}\n .trial & raw.grades & num\\_A & num\\_B & num\\_C & num\\_D & num\\_F\\\\\n <dbl> & <list> & <int> & <int> & <int> & <int> & <int>\\\\\n\\hline\n\t 1 & A, A, A, A, B & 4 & 1 & 0 & 0 & 0\\\\\n\t 2 & A, C, A, A, D & 3 & 0 & 1 & 1 & 0\\\\\n\t 3 & B, F, B, D, A & 1 & 2 & 0 & 1 & 1\\\\\n\t 4 & D, B, B, C, C & 0 & 2 & 2 & 1 & 0\\\\\n\t 5 & B, C, C, C, A & 1 & 1 & 3 & 0 & 0\\\\\n\t 6 & A, D, F, F, A & 2 & 0 & 0 & 1 & 2\\\\\n\\end{tabular}\n",
            "text/plain": [
              "  .trial raw.grades    num_A num_B num_C num_D num_F\n",
              "1 1      A, A, A, A, B 4     1     0     0     0    \n",
              "2 2      A, C, A, A, D 3     0     1     1     0    \n",
              "3 3      B, F, B, D, A 1     2     0     1     1    \n",
              "4 4      D, B, B, C, C 0     2     2     1     0    \n",
              "5 5      B, C, C, C, A 1     1     3     0     0    \n",
              "6 6      A, D, F, F, A 2     0     0     1     2    "
            ]
          },
          "metadata": {}
        }
      ]
    },
    {
      "cell_type": "markdown",
      "source": [
        "#### 1. Probability of three As and two Bs."
      ],
      "metadata": {
        "id": "3yEYG8n2SnEI"
      }
    },
    {
      "cell_type": "code",
      "source": [
        "(five_students\n",
        " %>% mutate(three_As_and_two_Bs = (num_A == 3) & (num_B == 2))\n",
        " %>% estimate_prob(three_As_and_two_Bs)\n",
        ")"
      ],
      "metadata": {
        "colab": {
          "base_uri": "https://localhost:8080/",
          "height": 128
        },
        "id": "TuQRQQmk2jVE",
        "outputId": "11292a4c-24e7-4013-81e7-cfe08850b3bb"
      },
      "execution_count": 59,
      "outputs": [
        {
          "output_type": "display_data",
          "data": {
            "text/html": [
              "<table class=\"dataframe\">\n",
              "<caption>A tibble: 1 × 1</caption>\n",
              "<thead>\n",
              "\t<tr><th scope=col>three_As_and_two_Bs</th></tr>\n",
              "\t<tr><th scope=col>&lt;dbl&gt;</th></tr>\n",
              "</thead>\n",
              "<tbody>\n",
              "\t<tr><td>0.00846</td></tr>\n",
              "</tbody>\n",
              "</table>\n"
            ],
            "text/markdown": "\nA tibble: 1 × 1\n\n| three_As_and_two_Bs &lt;dbl&gt; |\n|---|\n| 0.00846 |\n\n",
            "text/latex": "A tibble: 1 × 1\n\\begin{tabular}{l}\n three\\_As\\_and\\_two\\_Bs\\\\\n <dbl>\\\\\n\\hline\n\t 0.00846\\\\\n\\end{tabular}\n",
            "text/plain": [
              "  three_As_and_two_Bs\n",
              "1 0.00846            "
            ]
          },
          "metadata": {}
        }
      ]
    },
    {
      "cell_type": "markdown",
      "source": [
        "#### 2. Given a sample had at least one A, what is the probability of at least one B?"
      ],
      "metadata": {
        "id": "_qJSjcCeTax7"
      }
    },
    {
      "cell_type": "code",
      "source": [
        "# Approach 1 - Group on given\n",
        "(five_students\n",
        " %>% mutate(at_least_one_A = num_A >=1,\n",
        "            at_least_one_B = num_B >= 1,\n",
        "            )\n",
        " %>% group_by(at_least_one_A)\n",
        " %>% estimate_prob(at_least_one_B)\n",
        ")"
      ],
      "metadata": {
        "colab": {
          "base_uri": "https://localhost:8080/",
          "height": 159
        },
        "id": "jDYE3_swTgvg",
        "outputId": "85506472-1c07-486d-f587-1c05b5b8e4d3"
      },
      "execution_count": 63,
      "outputs": [
        {
          "output_type": "display_data",
          "data": {
            "text/html": [
              "<table class=\"dataframe\">\n",
              "<caption>A tibble: 2 × 2</caption>\n",
              "<thead>\n",
              "\t<tr><th scope=col>at_least_one_A</th><th scope=col>at_least_one_B</th></tr>\n",
              "\t<tr><th scope=col>&lt;lgl&gt;</th><th scope=col>&lt;dbl&gt;</th></tr>\n",
              "</thead>\n",
              "<tbody>\n",
              "\t<tr><td>FALSE</td><td>0.8731476</td></tr>\n",
              "\t<tr><td> TRUE</td><td>0.7432884</td></tr>\n",
              "</tbody>\n",
              "</table>\n"
            ],
            "text/markdown": "\nA tibble: 2 × 2\n\n| at_least_one_A &lt;lgl&gt; | at_least_one_B &lt;dbl&gt; |\n|---|---|\n| FALSE | 0.8731476 |\n|  TRUE | 0.7432884 |\n\n",
            "text/latex": "A tibble: 2 × 2\n\\begin{tabular}{ll}\n at\\_least\\_one\\_A & at\\_least\\_one\\_B\\\\\n <lgl> & <dbl>\\\\\n\\hline\n\t FALSE & 0.8731476\\\\\n\t  TRUE & 0.7432884\\\\\n\\end{tabular}\n",
            "text/plain": [
              "  at_least_one_A at_least_one_B\n",
              "1 FALSE          0.8731476     \n",
              "2  TRUE          0.7432884     "
            ]
          },
          "metadata": {}
        }
      ]
    },
    {
      "cell_type": "code",
      "source": [
        "# Approach 2 - Filter on given case\n",
        "(five_students\n",
        " %>% mutate(at_least_one_A = num_A >=1,\n",
        "            at_least_one_B = num_B >= 1,\n",
        "            )\n",
        " %>% filter(at_least_one_A)\n",
        " %>% estimate_prob(at_least_one_B)\n",
        ")"
      ],
      "metadata": {
        "colab": {
          "base_uri": "https://localhost:8080/",
          "height": 128
        },
        "id": "-p-Wvd0n9OED",
        "outputId": "29965623-c189-45e6-99b0-7f6eeda1eacf"
      },
      "execution_count": 64,
      "outputs": [
        {
          "output_type": "display_data",
          "data": {
            "text/html": [
              "<table class=\"dataframe\">\n",
              "<caption>A tibble: 1 × 1</caption>\n",
              "<thead>\n",
              "\t<tr><th scope=col>at_least_one_B</th></tr>\n",
              "\t<tr><th scope=col>&lt;dbl&gt;</th></tr>\n",
              "</thead>\n",
              "<tbody>\n",
              "\t<tr><td>0.7432884</td></tr>\n",
              "</tbody>\n",
              "</table>\n"
            ],
            "text/markdown": "\nA tibble: 1 × 1\n\n| at_least_one_B &lt;dbl&gt; |\n|---|\n| 0.7432884 |\n\n",
            "text/latex": "A tibble: 1 × 1\n\\begin{tabular}{l}\n at\\_least\\_one\\_B\\\\\n <dbl>\\\\\n\\hline\n\t 0.7432884\\\\\n\\end{tabular}\n",
            "text/plain": [
              "  at_least_one_B\n",
              "1 0.7432884     "
            ]
          },
          "metadata": {}
        }
      ]
    },
    {
      "cell_type": "markdown",
      "source": [
        "#### 3. Estimate the mean and variance of the number of As."
      ],
      "metadata": {
        "id": "ht9MWfmYSvDX"
      }
    },
    {
      "cell_type": "code",
      "source": [
        "p_A <- probs[1]\n",
        "\n",
        "(five_students\n",
        " %>% summarise(est_mu_A = mean(num_A),\n",
        "               est_var_A = var(num_A),\n",
        "              )\n",
        " %>% mutate(exact_mu_A = n*p_A,\n",
        "            exact_var_A = n*p_A*(1-p_A)\n",
        "           )\n",
        " %>% relocate(exact_mu_A, .after = est_mu_A)\n",
        ")"
      ],
      "metadata": {
        "colab": {
          "base_uri": "https://localhost:8080/",
          "height": 128
        },
        "id": "OPhrgSU6Sy2O",
        "outputId": "7196a920-bbd6-4ff0-fee7-d936ede50ce0"
      },
      "execution_count": 65,
      "outputs": [
        {
          "output_type": "display_data",
          "data": {
            "text/html": [
              "<table class=\"dataframe\">\n",
              "<caption>A tibble: 1 × 4</caption>\n",
              "<thead>\n",
              "\t<tr><th scope=col>est_mu_A</th><th scope=col>exact_mu_A</th><th scope=col>est_var_A</th><th scope=col>exact_var_A</th></tr>\n",
              "\t<tr><th scope=col>&lt;dbl&gt;</th><th scope=col>&lt;dbl&gt;</th><th scope=col>&lt;dbl&gt;</th><th scope=col>&lt;dbl&gt;</th></tr>\n",
              "</thead>\n",
              "<tbody>\n",
              "\t<tr><td>1.15366</td><td>1.15</td><td>0.8901775</td><td>0.8855</td></tr>\n",
              "</tbody>\n",
              "</table>\n"
            ],
            "text/markdown": "\nA tibble: 1 × 4\n\n| est_mu_A &lt;dbl&gt; | exact_mu_A &lt;dbl&gt; | est_var_A &lt;dbl&gt; | exact_var_A &lt;dbl&gt; |\n|---|---|---|---|\n| 1.15366 | 1.15 | 0.8901775 | 0.8855 |\n\n",
            "text/latex": "A tibble: 1 × 4\n\\begin{tabular}{llll}\n est\\_mu\\_A & exact\\_mu\\_A & est\\_var\\_A & exact\\_var\\_A\\\\\n <dbl> & <dbl> & <dbl> & <dbl>\\\\\n\\hline\n\t 1.15366 & 1.15 & 0.8901775 & 0.8855\\\\\n\\end{tabular}\n",
            "text/plain": [
              "  est_mu_A exact_mu_A est_var_A exact_var_A\n",
              "1 1.15366  1.15       0.8901775 0.8855     "
            ]
          },
          "metadata": {}
        }
      ]
    },
    {
      "cell_type": "markdown",
      "source": [
        "#### 4. Estimate the $Cov(Y_A, Y_B)$."
      ],
      "metadata": {
        "id": "taEi_tp_UstC"
      }
    },
    {
      "cell_type": "code",
      "source": [
        "p_A <- probs[1]\n",
        "p_B <- probs[2]\n",
        "\n",
        "(five_students\n",
        " %>% summarise(est_cov_A_B = cov(num_A, num_B))\n",
        " %>% mutate(exact_cov_A_B = -1*n*p_A*p_B)\n",
        ")"
      ],
      "metadata": {
        "colab": {
          "base_uri": "https://localhost:8080/",
          "height": 128
        },
        "id": "XX-VTLQbStwq",
        "outputId": "4ee0e4e4-a929-4345-fdb2-562f1939d497"
      },
      "execution_count": 66,
      "outputs": [
        {
          "output_type": "display_data",
          "data": {
            "text/html": [
              "<table class=\"dataframe\">\n",
              "<caption>A tibble: 1 × 2</caption>\n",
              "<thead>\n",
              "\t<tr><th scope=col>est_cov_A_B</th><th scope=col>exact_cov_A_B</th></tr>\n",
              "\t<tr><th scope=col>&lt;dbl&gt;</th><th scope=col>&lt;dbl&gt;</th></tr>\n",
              "</thead>\n",
              "<tbody>\n",
              "\t<tr><td>-0.3012796</td><td>-0.299</td></tr>\n",
              "</tbody>\n",
              "</table>\n"
            ],
            "text/markdown": "\nA tibble: 1 × 2\n\n| est_cov_A_B &lt;dbl&gt; | exact_cov_A_B &lt;dbl&gt; |\n|---|---|\n| -0.3012796 | -0.299 |\n\n",
            "text/latex": "A tibble: 1 × 2\n\\begin{tabular}{ll}\n est\\_cov\\_A\\_B & exact\\_cov\\_A\\_B\\\\\n <dbl> & <dbl>\\\\\n\\hline\n\t -0.3012796 & -0.299\\\\\n\\end{tabular}\n",
            "text/plain": [
              "  est_cov_A_B exact_cov_A_B\n",
              "1 -0.3012796  -0.299       "
            ]
          },
          "metadata": {}
        }
      ]
    },
    {
      "cell_type": "markdown",
      "source": [
        "### Cleaning up the code\n",
        "\n",
        "You might have noticed that the code for counting each of the categories is very repetative.  We can clean up this code using the `multicounts(.data, .col, .labels)` helper function from the `purrrfect` library, which will create count columns for all entries in `.labels`."
      ],
      "metadata": {
        "id": "8xoEYA0RVq1O"
      }
    },
    {
      "cell_type": "markdown",
      "source": [
        "#### Cleaned up simulation from example 1\n",
        "\n",
        "Notice that replacing the large `mutate` (lefts as a comment for clarity) with `multcounts` leads to short and cleaner code."
      ],
      "metadata": {
        "id": "fVh_QAMuWJIw"
      }
    },
    {
      "cell_type": "code",
      "source": [
        "grades <- c('A', 'B', 'C', 'D', 'F')\n",
        "probs <- c(0.23, 0.26, 0.21, 0.18, 0.12)\n",
        "n <- 5\n",
        "N <- 100000\n",
        "(replicate(N, sample(grades, n, prob = probs, replace = TRUE), .as = raw.grades)\n",
        "#  %>% mutate(num_A = num_successes_int(raw.grades, 'A'),\n",
        "#             num_B = num_successes_int(raw.grades, 'B'),\n",
        "#             num_C = num_successes_int(raw.grades, 'C'),\n",
        "#             num_D = num_successes_int(raw.grades, 'D'),\n",
        "#             num_F = num_successes_int(raw.grades, 'F'),\n",
        "#            )\n",
        " %>% multicounts(raw.grades, grades) # Computes all count columns\n",
        " %>% mutate(three_As_and_two_Bs = (num_A == 3) & (num_B == 2),\n",
        "            at_least_one_A = num_A >=1,\n",
        "            at_least_one_B = num_B >= 1,\n",
        "            )\n",
        ") -> five_students\n",
        "\n",
        "five_students %>% head"
      ],
      "metadata": {
        "colab": {
          "base_uri": "https://localhost:8080/",
          "height": 283
        },
        "id": "Jf6fP8byWFUp",
        "outputId": "a39d09d8-6cbf-4423-80b0-3dcd68907265"
      },
      "execution_count": 15,
      "outputs": [
        {
          "output_type": "display_data",
          "data": {
            "text/html": [
              "<table class=\"dataframe\">\n",
              "<caption>A tibble: 6 × 10</caption>\n",
              "<thead>\n",
              "\t<tr><th scope=col>.trial</th><th scope=col>raw.grades</th><th scope=col>num_A</th><th scope=col>num_B</th><th scope=col>num_C</th><th scope=col>num_D</th><th scope=col>num_F</th><th scope=col>three_As_and_two_Bs</th><th scope=col>at_least_one_A</th><th scope=col>at_least_one_B</th></tr>\n",
              "\t<tr><th scope=col>&lt;dbl&gt;</th><th scope=col>&lt;list&gt;</th><th scope=col>&lt;int&gt;</th><th scope=col>&lt;int&gt;</th><th scope=col>&lt;int&gt;</th><th scope=col>&lt;int&gt;</th><th scope=col>&lt;int&gt;</th><th scope=col>&lt;lgl&gt;</th><th scope=col>&lt;lgl&gt;</th><th scope=col>&lt;lgl&gt;</th></tr>\n",
              "</thead>\n",
              "<tbody>\n",
              "\t<tr><td>1</td><td>A, D, C, A, B</td><td>2</td><td>1</td><td>1</td><td>1</td><td>0</td><td>FALSE</td><td> TRUE</td><td> TRUE</td></tr>\n",
              "\t<tr><td>2</td><td>B, C, F, C, B</td><td>0</td><td>2</td><td>2</td><td>0</td><td>1</td><td>FALSE</td><td>FALSE</td><td> TRUE</td></tr>\n",
              "\t<tr><td>3</td><td>C, D, B, C, A</td><td>1</td><td>1</td><td>2</td><td>1</td><td>0</td><td>FALSE</td><td> TRUE</td><td> TRUE</td></tr>\n",
              "\t<tr><td>4</td><td>A, C, B, B, F</td><td>1</td><td>2</td><td>1</td><td>0</td><td>1</td><td>FALSE</td><td> TRUE</td><td> TRUE</td></tr>\n",
              "\t<tr><td>5</td><td>C, C, C, C, A</td><td>1</td><td>0</td><td>4</td><td>0</td><td>0</td><td>FALSE</td><td> TRUE</td><td>FALSE</td></tr>\n",
              "\t<tr><td>6</td><td>A, B, C, A, B</td><td>2</td><td>2</td><td>1</td><td>0</td><td>0</td><td>FALSE</td><td> TRUE</td><td> TRUE</td></tr>\n",
              "</tbody>\n",
              "</table>\n"
            ],
            "text/markdown": "\nA tibble: 6 × 10\n\n| .trial &lt;dbl&gt; | raw.grades &lt;list&gt; | num_A &lt;int&gt; | num_B &lt;int&gt; | num_C &lt;int&gt; | num_D &lt;int&gt; | num_F &lt;int&gt; | three_As_and_two_Bs &lt;lgl&gt; | at_least_one_A &lt;lgl&gt; | at_least_one_B &lt;lgl&gt; |\n|---|---|---|---|---|---|---|---|---|---|\n| 1 | A, D, C, A, B | 2 | 1 | 1 | 1 | 0 | FALSE |  TRUE |  TRUE |\n| 2 | B, C, F, C, B | 0 | 2 | 2 | 0 | 1 | FALSE | FALSE |  TRUE |\n| 3 | C, D, B, C, A | 1 | 1 | 2 | 1 | 0 | FALSE |  TRUE |  TRUE |\n| 4 | A, C, B, B, F | 1 | 2 | 1 | 0 | 1 | FALSE |  TRUE |  TRUE |\n| 5 | C, C, C, C, A | 1 | 0 | 4 | 0 | 0 | FALSE |  TRUE | FALSE |\n| 6 | A, B, C, A, B | 2 | 2 | 1 | 0 | 0 | FALSE |  TRUE |  TRUE |\n\n",
            "text/latex": "A tibble: 6 × 10\n\\begin{tabular}{llllllllll}\n .trial & raw.grades & num\\_A & num\\_B & num\\_C & num\\_D & num\\_F & three\\_As\\_and\\_two\\_Bs & at\\_least\\_one\\_A & at\\_least\\_one\\_B\\\\\n <dbl> & <list> & <int> & <int> & <int> & <int> & <int> & <lgl> & <lgl> & <lgl>\\\\\n\\hline\n\t 1 & A, D, C, A, B & 2 & 1 & 1 & 1 & 0 & FALSE &  TRUE &  TRUE\\\\\n\t 2 & B, C, F, C, B & 0 & 2 & 2 & 0 & 1 & FALSE & FALSE &  TRUE\\\\\n\t 3 & C, D, B, C, A & 1 & 1 & 2 & 1 & 0 & FALSE &  TRUE &  TRUE\\\\\n\t 4 & A, C, B, B, F & 1 & 2 & 1 & 0 & 1 & FALSE &  TRUE &  TRUE\\\\\n\t 5 & C, C, C, C, A & 1 & 0 & 4 & 0 & 0 & FALSE &  TRUE & FALSE\\\\\n\t 6 & A, B, C, A, B & 2 & 2 & 1 & 0 & 0 & FALSE &  TRUE &  TRUE\\\\\n\\end{tabular}\n",
            "text/plain": [
              "  .trial raw.grades    num_A num_B num_C num_D num_F three_As_and_two_Bs\n",
              "1 1      A, D, C, A, B 2     1     1     1     0     FALSE              \n",
              "2 2      B, C, F, C, B 0     2     2     0     1     FALSE              \n",
              "3 3      C, D, B, C, A 1     1     2     1     0     FALSE              \n",
              "4 4      A, C, B, B, F 1     2     1     0     1     FALSE              \n",
              "5 5      C, C, C, C, A 1     0     4     0     0     FALSE              \n",
              "6 6      A, B, C, A, B 2     2     1     0     0     FALSE              \n",
              "  at_least_one_A at_least_one_B\n",
              "1  TRUE           TRUE         \n",
              "2 FALSE           TRUE         \n",
              "3  TRUE           TRUE         \n",
              "4  TRUE           TRUE         \n",
              "5  TRUE          FALSE         \n",
              "6  TRUE           TRUE         "
            ]
          },
          "metadata": {}
        }
      ]
    },
    {
      "cell_type": "markdown",
      "source": [
        "To illustrate this point, let's delete the comment and inspect the resulting code."
      ],
      "metadata": {
        "id": "DkFozd6CX6vi"
      }
    },
    {
      "cell_type": "code",
      "source": [
        "grades <- c('A', 'B', 'C', 'D', 'F')\n",
        "probs <- c(0.23, 0.26, 0.21, 0.18, 0.12)\n",
        "n <- 5\n",
        "N <- 10000\n",
        "(replicate(N, sample(grades, n, prob = probs, replace = TRUE), .as = raw.grades)\n",
        " %>% multicounts(raw.grades, grades) # Makes all count columns simultaneously\n",
        " %>% mutate(three_As_and_two_Bs = (num_A == 3) & (num_B == 2))\n",
        ") -> five_students\n",
        "\n",
        "five_students %>% head(3)"
      ],
      "metadata": {
        "colab": {
          "base_uri": "https://localhost:8080/",
          "height": 190
        },
        "id": "C9J8R4BU7e3r",
        "outputId": "7dd6362c-cc7c-41a1-b8a1-5cee9aeef49f"
      },
      "execution_count": 23,
      "outputs": [
        {
          "output_type": "display_data",
          "data": {
            "text/html": [
              "<table class=\"dataframe\">\n",
              "<caption>A tibble: 3 × 8</caption>\n",
              "<thead>\n",
              "\t<tr><th scope=col>.trial</th><th scope=col>raw.grades</th><th scope=col>num_A</th><th scope=col>num_B</th><th scope=col>num_C</th><th scope=col>num_D</th><th scope=col>num_F</th><th scope=col>three_As_and_two_Bs</th></tr>\n",
              "\t<tr><th scope=col>&lt;dbl&gt;</th><th scope=col>&lt;list&gt;</th><th scope=col>&lt;int&gt;</th><th scope=col>&lt;int&gt;</th><th scope=col>&lt;int&gt;</th><th scope=col>&lt;int&gt;</th><th scope=col>&lt;int&gt;</th><th scope=col>&lt;lgl&gt;</th></tr>\n",
              "</thead>\n",
              "<tbody>\n",
              "\t<tr><td>1</td><td>C, A, B, A, A</td><td>3</td><td>1</td><td>1</td><td>0</td><td>0</td><td>FALSE</td></tr>\n",
              "\t<tr><td>2</td><td>C, B, A, A, A</td><td>3</td><td>1</td><td>1</td><td>0</td><td>0</td><td>FALSE</td></tr>\n",
              "\t<tr><td>3</td><td>C, D, D, A, A</td><td>2</td><td>0</td><td>1</td><td>2</td><td>0</td><td>FALSE</td></tr>\n",
              "</tbody>\n",
              "</table>\n"
            ],
            "text/markdown": "\nA tibble: 3 × 8\n\n| .trial &lt;dbl&gt; | raw.grades &lt;list&gt; | num_A &lt;int&gt; | num_B &lt;int&gt; | num_C &lt;int&gt; | num_D &lt;int&gt; | num_F &lt;int&gt; | three_As_and_two_Bs &lt;lgl&gt; |\n|---|---|---|---|---|---|---|---|\n| 1 | C, A, B, A, A | 3 | 1 | 1 | 0 | 0 | FALSE |\n| 2 | C, B, A, A, A | 3 | 1 | 1 | 0 | 0 | FALSE |\n| 3 | C, D, D, A, A | 2 | 0 | 1 | 2 | 0 | FALSE |\n\n",
            "text/latex": "A tibble: 3 × 8\n\\begin{tabular}{llllllll}\n .trial & raw.grades & num\\_A & num\\_B & num\\_C & num\\_D & num\\_F & three\\_As\\_and\\_two\\_Bs\\\\\n <dbl> & <list> & <int> & <int> & <int> & <int> & <int> & <lgl>\\\\\n\\hline\n\t 1 & C, A, B, A, A & 3 & 1 & 1 & 0 & 0 & FALSE\\\\\n\t 2 & C, B, A, A, A & 3 & 1 & 1 & 0 & 0 & FALSE\\\\\n\t 3 & C, D, D, A, A & 2 & 0 & 1 & 2 & 0 & FALSE\\\\\n\\end{tabular}\n",
            "text/plain": [
              "  .trial raw.grades    num_A num_B num_C num_D num_F three_As_and_two_Bs\n",
              "1 1      C, A, B, A, A 3     1     1     0     0     FALSE              \n",
              "2 2      C, B, A, A, A 3     1     1     0     0     FALSE              \n",
              "3 3      C, D, D, A, A 2     0     1     2     0     FALSE              "
            ]
          },
          "metadata": {}
        }
      ]
    },
    {
      "cell_type": "code",
      "source": [
        "five_students %>% estimate_all_prob"
      ],
      "metadata": {
        "colab": {
          "base_uri": "https://localhost:8080/",
          "height": 128
        },
        "id": "NtHd3XqM4iN4",
        "outputId": "40761472-1f14-4d7b-98b6-f278e43f7bad"
      },
      "execution_count": 24,
      "outputs": [
        {
          "output_type": "display_data",
          "data": {
            "text/html": [
              "<table class=\"dataframe\">\n",
              "<caption>A tibble: 1 × 1</caption>\n",
              "<thead>\n",
              "\t<tr><th scope=col>three_As_and_two_Bs</th></tr>\n",
              "\t<tr><th scope=col>&lt;dbl&gt;</th></tr>\n",
              "</thead>\n",
              "<tbody>\n",
              "\t<tr><td>0.0072</td></tr>\n",
              "</tbody>\n",
              "</table>\n"
            ],
            "text/markdown": "\nA tibble: 1 × 1\n\n| three_As_and_two_Bs &lt;dbl&gt; |\n|---|\n| 0.0072 |\n\n",
            "text/latex": "A tibble: 1 × 1\n\\begin{tabular}{l}\n three\\_As\\_and\\_two\\_Bs\\\\\n <dbl>\\\\\n\\hline\n\t 0.0072\\\\\n\\end{tabular}\n",
            "text/plain": [
              "  three_As_and_two_Bs\n",
              "1 0.0072             "
            ]
          },
          "metadata": {}
        }
      ]
    },
    {
      "cell_type": "markdown",
      "source": [
        "## Generating multinomial counts directly using `rmultinom`\n",
        "\n",
        "Alternatively, we can use the base R function `rmultinom` to generate the counts directly.  Unfortunately, `rmultinom` returns a matrix, which interacts poorly with the `purrrfect` tools."
      ],
      "metadata": {
        "id": "ixH1_cmTWjTi"
      }
    },
    {
      "cell_type": "code",
      "source": [
        "rmultinom(1, n, probs) %>% str"
      ],
      "metadata": {
        "colab": {
          "base_uri": "https://localhost:8080/"
        },
        "id": "JEp6StTh69eK",
        "outputId": "b5086929-a9b3-4db5-c6bf-ecf4da507991"
      },
      "execution_count": 48,
      "outputs": [
        {
          "output_type": "stream",
          "name": "stdout",
          "text": [
            " int [1:5, 1] 1 1 2 0 1\n"
          ]
        }
      ]
    },
    {
      "cell_type": "markdown",
      "source": [
        "Notice the extra 1?  This is an unneeded dimension (at least when generating one outcome).  We can fix this by passing the output through `as.integer`."
      ],
      "metadata": {
        "id": "EiI2i5zm7Wvf"
      }
    },
    {
      "cell_type": "code",
      "source": [
        "rmultinom(1, n, probs) %>% as.integer %>% str"
      ],
      "metadata": {
        "colab": {
          "base_uri": "https://localhost:8080/"
        },
        "id": "zKWuygeu6uPA",
        "outputId": "8adf6de7-04eb-4456-d090-e99a48ad4620"
      },
      "execution_count": 49,
      "outputs": [
        {
          "output_type": "stream",
          "name": "stdout",
          "text": [
            " int [1:5] 1 0 1 3 0\n"
          ]
        }
      ]
    },
    {
      "cell_type": "markdown",
      "source": [
        "Wrap this expression in `replicate` to generate many trials."
      ],
      "metadata": {
        "id": "fPsbqQC57mtt"
      }
    },
    {
      "cell_type": "code",
      "source": [
        "replicate(10, rmultinom(1, n, probs) %>% as.integer, .as = counts)"
      ],
      "metadata": {
        "colab": {
          "base_uri": "https://localhost:8080/",
          "height": 407
        },
        "id": "Q4Sdktw6W7Gu",
        "outputId": "7e38c87a-01e8-4f3e-dc8d-1a631bc882b2"
      },
      "execution_count": 52,
      "outputs": [
        {
          "output_type": "display_data",
          "data": {
            "text/html": [
              "<table class=\"dataframe\">\n",
              "<caption>A tibble: 10 × 2</caption>\n",
              "<thead>\n",
              "\t<tr><th scope=col>.trial</th><th scope=col>counts</th></tr>\n",
              "\t<tr><th scope=col>&lt;dbl&gt;</th><th scope=col>&lt;list&gt;</th></tr>\n",
              "</thead>\n",
              "<tbody>\n",
              "\t<tr><td> 1</td><td>1, 1, 1, 0, 2</td></tr>\n",
              "\t<tr><td> 2</td><td>0, 3, 1, 0, 1</td></tr>\n",
              "\t<tr><td> 3</td><td>2, 0, 0, 1, 2</td></tr>\n",
              "\t<tr><td> 4</td><td>2, 2, 0, 0, 1</td></tr>\n",
              "\t<tr><td> 5</td><td>1, 3, 0, 0, 1</td></tr>\n",
              "\t<tr><td> 6</td><td>0, 2, 1, 2, 0</td></tr>\n",
              "\t<tr><td> 7</td><td>0, 3, 1, 1, 0</td></tr>\n",
              "\t<tr><td> 8</td><td>0, 2, 3, 0, 0</td></tr>\n",
              "\t<tr><td> 9</td><td>2, 0, 2, 0, 1</td></tr>\n",
              "\t<tr><td>10</td><td>0, 1, 1, 2, 1</td></tr>\n",
              "</tbody>\n",
              "</table>\n"
            ],
            "text/markdown": "\nA tibble: 10 × 2\n\n| .trial &lt;dbl&gt; | counts &lt;list&gt; |\n|---|---|\n|  1 | 1, 1, 1, 0, 2 |\n|  2 | 0, 3, 1, 0, 1 |\n|  3 | 2, 0, 0, 1, 2 |\n|  4 | 2, 2, 0, 0, 1 |\n|  5 | 1, 3, 0, 0, 1 |\n|  6 | 0, 2, 1, 2, 0 |\n|  7 | 0, 3, 1, 1, 0 |\n|  8 | 0, 2, 3, 0, 0 |\n|  9 | 2, 0, 2, 0, 1 |\n| 10 | 0, 1, 1, 2, 1 |\n\n",
            "text/latex": "A tibble: 10 × 2\n\\begin{tabular}{ll}\n .trial & counts\\\\\n <dbl> & <list>\\\\\n\\hline\n\t  1 & 1, 1, 1, 0, 2\\\\\n\t  2 & 0, 3, 1, 0, 1\\\\\n\t  3 & 2, 0, 0, 1, 2\\\\\n\t  4 & 2, 2, 0, 0, 1\\\\\n\t  5 & 1, 3, 0, 0, 1\\\\\n\t  6 & 0, 2, 1, 2, 0\\\\\n\t  7 & 0, 3, 1, 1, 0\\\\\n\t  8 & 0, 2, 3, 0, 0\\\\\n\t  9 & 2, 0, 2, 0, 1\\\\\n\t 10 & 0, 1, 1, 2, 1\\\\\n\\end{tabular}\n",
            "text/plain": [
              "   .trial counts       \n",
              "1   1     1, 1, 1, 0, 2\n",
              "2   2     0, 3, 1, 0, 1\n",
              "3   3     2, 0, 0, 1, 2\n",
              "4   4     2, 2, 0, 0, 1\n",
              "5   5     1, 3, 0, 0, 1\n",
              "6   6     0, 2, 1, 2, 0\n",
              "7   7     0, 3, 1, 1, 0\n",
              "8   8     0, 2, 3, 0, 0\n",
              "9   9     2, 0, 2, 0, 1\n",
              "10 10     0, 1, 1, 2, 1"
            ]
          },
          "metadata": {}
        }
      ]
    },
    {
      "cell_type": "markdown",
      "source": [
        "In this case it is conveninent to use `.reshape = 'split'` to split the counts into separate columns."
      ],
      "metadata": {
        "id": "ZJx7d_gqXMkr"
      }
    },
    {
      "cell_type": "code",
      "source": [
        "replicate(10000, rmultinom(1, n, probs) %>% as.integer, .as = counts, .reshape = 'split') -> from_r_split\n",
        "\n",
        "from_r_split %>% head"
      ],
      "metadata": {
        "colab": {
          "base_uri": "https://localhost:8080/",
          "height": 283
        },
        "id": "yFLUh66wXTm0",
        "outputId": "9a4574c9-b0a1-4e25-b7b3-bd70cf36461d"
      },
      "execution_count": 54,
      "outputs": [
        {
          "output_type": "display_data",
          "data": {
            "text/html": [
              "<table class=\"dataframe\">\n",
              "<caption>A tibble: 6 × 6</caption>\n",
              "<thead>\n",
              "\t<tr><th scope=col>.trial</th><th scope=col>counts.1</th><th scope=col>counts.2</th><th scope=col>counts.3</th><th scope=col>counts.4</th><th scope=col>counts.5</th></tr>\n",
              "\t<tr><th scope=col>&lt;dbl&gt;</th><th scope=col>&lt;int&gt;</th><th scope=col>&lt;int&gt;</th><th scope=col>&lt;int&gt;</th><th scope=col>&lt;int&gt;</th><th scope=col>&lt;int&gt;</th></tr>\n",
              "</thead>\n",
              "<tbody>\n",
              "\t<tr><td>1</td><td>2</td><td>2</td><td>0</td><td>0</td><td>1</td></tr>\n",
              "\t<tr><td>2</td><td>0</td><td>1</td><td>1</td><td>1</td><td>2</td></tr>\n",
              "\t<tr><td>3</td><td>1</td><td>1</td><td>1</td><td>2</td><td>0</td></tr>\n",
              "\t<tr><td>4</td><td>1</td><td>0</td><td>3</td><td>0</td><td>1</td></tr>\n",
              "\t<tr><td>5</td><td>1</td><td>1</td><td>0</td><td>2</td><td>1</td></tr>\n",
              "\t<tr><td>6</td><td>2</td><td>1</td><td>2</td><td>0</td><td>0</td></tr>\n",
              "</tbody>\n",
              "</table>\n"
            ],
            "text/markdown": "\nA tibble: 6 × 6\n\n| .trial &lt;dbl&gt; | counts.1 &lt;int&gt; | counts.2 &lt;int&gt; | counts.3 &lt;int&gt; | counts.4 &lt;int&gt; | counts.5 &lt;int&gt; |\n|---|---|---|---|---|---|\n| 1 | 2 | 2 | 0 | 0 | 1 |\n| 2 | 0 | 1 | 1 | 1 | 2 |\n| 3 | 1 | 1 | 1 | 2 | 0 |\n| 4 | 1 | 0 | 3 | 0 | 1 |\n| 5 | 1 | 1 | 0 | 2 | 1 |\n| 6 | 2 | 1 | 2 | 0 | 0 |\n\n",
            "text/latex": "A tibble: 6 × 6\n\\begin{tabular}{llllll}\n .trial & counts.1 & counts.2 & counts.3 & counts.4 & counts.5\\\\\n <dbl> & <int> & <int> & <int> & <int> & <int>\\\\\n\\hline\n\t 1 & 2 & 2 & 0 & 0 & 1\\\\\n\t 2 & 0 & 1 & 1 & 1 & 2\\\\\n\t 3 & 1 & 1 & 1 & 2 & 0\\\\\n\t 4 & 1 & 0 & 3 & 0 & 1\\\\\n\t 5 & 1 & 1 & 0 & 2 & 1\\\\\n\t 6 & 2 & 1 & 2 & 0 & 0\\\\\n\\end{tabular}\n",
            "text/plain": [
              "  .trial counts.1 counts.2 counts.3 counts.4 counts.5\n",
              "1 1      2        2        0        0        1       \n",
              "2 2      0        1        1        1        2       \n",
              "3 3      1        1        1        2        0       \n",
              "4 4      1        0        3        0        1       \n",
              "5 5      1        1        0        2        1       \n",
              "6 6      2        1        2        0        0       "
            ]
          },
          "metadata": {}
        }
      ]
    },
    {
      "cell_type": "markdown",
      "source": [
        "From this point, we can solve problems using the regular approach"
      ],
      "metadata": {
        "id": "ANz9RRLq8LgH"
      }
    },
    {
      "cell_type": "code",
      "source": [
        "( from_r_split\n",
        " %>% mutate(three_As_and_two_Bs = (counts.1 == 3) & (counts.2 == 2))\n",
        " %>% estimate_all_prob\n",
        ")"
      ],
      "metadata": {
        "colab": {
          "base_uri": "https://localhost:8080/",
          "height": 128
        },
        "id": "QYJsa59F5h8G",
        "outputId": "1e1783f9-9474-4587-c23b-c706500704db"
      },
      "execution_count": 57,
      "outputs": [
        {
          "output_type": "display_data",
          "data": {
            "text/html": [
              "<table class=\"dataframe\">\n",
              "<caption>A tibble: 1 × 1</caption>\n",
              "<thead>\n",
              "\t<tr><th scope=col>three_As_and_two_Bs</th></tr>\n",
              "\t<tr><th scope=col>&lt;dbl&gt;</th></tr>\n",
              "</thead>\n",
              "<tbody>\n",
              "\t<tr><td>0.0087</td></tr>\n",
              "</tbody>\n",
              "</table>\n"
            ],
            "text/markdown": "\nA tibble: 1 × 1\n\n| three_As_and_two_Bs &lt;dbl&gt; |\n|---|\n| 0.0087 |\n\n",
            "text/latex": "A tibble: 1 × 1\n\\begin{tabular}{l}\n three\\_As\\_and\\_two\\_Bs\\\\\n <dbl>\\\\\n\\hline\n\t 0.0087\\\\\n\\end{tabular}\n",
            "text/plain": [
              "  three_As_and_two_Bs\n",
              "1 0.0087             "
            ]
          },
          "metadata": {}
        }
      ]
    }
  ]
}