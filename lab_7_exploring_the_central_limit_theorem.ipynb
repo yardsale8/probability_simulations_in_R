{
  "nbformat": 4,
  "nbformat_minor": 0,
  "metadata": {
    "colab": {
      "provenance": [],
      "authorship_tag": "ABX9TyMA24PHcMIXCUUy2r6MoAkV",
      "include_colab_link": true
    },
    "kernelspec": {
      "name": "ir",
      "display_name": "R"
    },
    "language_info": {
      "name": "R"
    }
  },
  "cells": [
    {
      "cell_type": "markdown",
      "metadata": {
        "id": "view-in-github",
        "colab_type": "text"
      },
      "source": [
        "<a href=\"https://colab.research.google.com/github/yardsale8/probability_simulations_in_R/blob/main/lab_7_exploring_the_central_limit_theorem.ipynb\" target=\"_parent\"><img src=\"https://colab.research.google.com/assets/colab-badge.svg\" alt=\"Open In Colab\"/></a>"
      ]
    },
    {
      "cell_type": "code",
      "execution_count": null,
      "metadata": {
        "id": "IpARyWPSi3ft",
        "colab": {
          "base_uri": "https://localhost:8080/"
        },
        "outputId": "876be145-1dda-4d2a-e2d6-ed342321febc"
      },
      "outputs": [
        {
          "output_type": "stream",
          "name": "stderr",
          "text": [
            "Downloading GitHub repo yardsale8/purrrfect@HEAD\n",
            "\n"
          ]
        },
        {
          "output_type": "stream",
          "name": "stdout",
          "text": [
            "\n",
            "\u001b[36m──\u001b[39m \u001b[36mR CMD build\u001b[39m \u001b[36m─────────────────────────────────────────────────────────────────\u001b[39m\n",
            "* checking for file ‘/tmp/RtmpdrkHAR/remotesf5cf11c90/yardsale8-purrrfect-31df86a/DESCRIPTION’ ... OK\n",
            "* preparing ‘purrrfect’:\n",
            "* checking DESCRIPTION meta-information ... OK\n",
            "* checking for LF line-endings in source and make files and shell scripts\n",
            "* checking for empty or unneeded directories\n",
            "* building ‘purrrfect_1.1.0.tar.gz’\n",
            "\n"
          ]
        },
        {
          "output_type": "stream",
          "name": "stderr",
          "text": [
            "Installing package into ‘/usr/local/lib/R/site-library’\n",
            "(as ‘lib’ is unspecified)\n",
            "\n"
          ]
        }
      ],
      "source": [
        "library(tidyverse)\n",
        "library(devtools)\n",
        "install_github('yardsale8/purrrfect', force = TRUE)\n",
        "library(purrrfect)"
      ]
    },
    {
      "cell_type": "markdown",
      "source": [
        "# Lab 2 - Investigating the Central Limit Theorem\n",
        "\n",
        "In this lab, we will investigate the central limit theorem using the plots introduced in the last notebook."
      ],
      "metadata": {
        "id": "mwH0fS1Y9Ur-"
      }
    },
    {
      "cell_type": "markdown",
      "source": [
        "## Part 1 - Plotting Practice for Parametric Problems\n",
        "\n",
        "Before we proceed, let's practice plotting the estimated distribution by completing the second and third exercise from the last notebook."
      ],
      "metadata": {
        "id": "45YQpEMSozz0"
      }
    },
    {
      "cell_type": "markdown",
      "source": [
        "### Review - Plotting the estimated distribution\n",
        "\n",
        "When visualizing the estimated distribution, we created the following plots.\n",
        "\n",
        "1. Either the estimated PMF (discrete problems) or estimated PDF with a density smoother (continuous problems),\n",
        "2. A plot overlaying the empirical and theoretical CDFs, and\n",
        "3. A p-p plot."
      ],
      "metadata": {
        "id": "LjVxXRNEpakO"
      }
    },
    {
      "cell_type": "markdown",
      "source": [
        "### <font color=\"red\"> Exercise 2.6.2 </font>\n",
        "\n",
        "Let $U$ be a random variable with $U\\sim uniform(0,1)$.  Let $E = \\frac{-\\ln{U}}{\\lambda}$ where $\\lambda > 0$.  [It can be shown](https://en.wikipedia.org/wiki/Exponential_distribution#Random_variate_generation) that $E\\sim exponential(\\lambda)$\n",
        "\n",
        "**Tasks.**\n",
        "\n",
        "1. Run a parametric simulation over a number of values for $\\lambda$ to verfiy the result.\n",
        "2. Construct all three types of plots are part of your solution."
      ],
      "metadata": {
        "id": "SLHeS5bBTMGd"
      }
    },
    {
      "cell_type": "code",
      "source": [
        "# Your code here"
      ],
      "metadata": {
        "id": "NZOtLDFrUWx4"
      },
      "execution_count": null,
      "outputs": []
    },
    {
      "cell_type": "markdown",
      "source": [
        "### <font color=\"red\"> Exercise 2.6.2 </font>\n",
        "\n",
        "Let's return to the previous exercise, where we let $U_1, ..., U_k$ be a iid  $uniform(0,1)$ random variables and  let $W_k = \\sum_{i=1}^k \\frac{-\\ln{U_i}}{\\lambda}$, where $E_i$ are iid with $E_i\\sim exponential(\\lambda)$.  [It can be shown](https://en.wikipedia.org/wiki/Gamma_distribution#Random_variate_generation) that $W_k\\sim gamma(\\alpha = k, \\beta = 1/\\lambda)$\n",
        "\n",
        "**Tasks.**\n",
        "\n",
        "1. Run a parametric simulation over a grid of values for $k$ and $\\lambda$ to verfiy the result.\n",
        "2. Construct all three types of plots are part of your solution."
      ],
      "metadata": {
        "id": "YTbSiU9wU96I"
      }
    },
    {
      "cell_type": "code",
      "source": [
        "# Your code here"
      ],
      "metadata": {
        "id": "qeHkDRfhVyAV"
      },
      "execution_count": null,
      "outputs": []
    },
    {
      "cell_type": "markdown",
      "source": [
        "## Part 2 - The Main Event\n",
        "\n",
        "### Review - The central limit theorem for means\n",
        "\n",
        "Let $X_1, ..., X_n$ be i.d.d. random variables from a distribution with $E(X_1)=\\mu$ and $SD(X_1)=\\sigma$.  Let $\\bar{X} = \\frac{1}{n}\\sum_{i=1}^n X_i$.  The **central limit theorem for the sample mean** states that the distribution of $\\bar{X}\\rightarrow norm\\left(\\mu, \\frac{\\sigma}{\\sqrt{n}}\\right)$ as $n\\rightarrow\\infty$.\n",
        "\n",
        "Note that this result has three parts.\n",
        "\n",
        "1. $E(\\bar{X}) = \\mu$,\n",
        "2. $SD(\\bar{X}) = \\frac{\\sigma}{\\sqrt{n}}$, and\n",
        "3. The distributions becomes closer and closed to the normal distribution.\n",
        "\n",
        "Also note that this results is very general and applies to all distributions (continuous or discrete) provide the mean and variance exist."
      ],
      "metadata": {
        "id": "g1YoNsjVp4pe"
      }
    },
    {
      "cell_type": "markdown",
      "source": [
        "### Guiding Example - Geometric Distribution.\n",
        "\n",
        "In this part, we will verify all three parts of the CLT using parametric simulations over the geometric distribution.  Specifically, we will perform an experiment using the geometric distribution over $p\\in\\{0.1, 0.2, ..., 0.9\\}$ and $n\\in\\{5, 10, 25, 50, 100\\}$.\n",
        "\n"
      ],
      "metadata": {
        "id": "dQi8e-LTr0yg"
      }
    },
    {
      "cell_type": "markdown",
      "source": [
        "### <font color=\"red\"> Problem 0 - Prototype simulating sample means</font>"
      ],
      "metadata": {
        "id": "YZHzNg90tkGh"
      }
    },
    {
      "cell_type": "code",
      "source": [
        "# Your code here"
      ],
      "metadata": {
        "id": "g439d72UuVC-"
      },
      "execution_count": null,
      "outputs": []
    },
    {
      "cell_type": "markdown",
      "source": [
        "### <font color=\"red\"> Problem 1 - Demonstrate that $E(\\bar{X}) = \\mu$</font>\n",
        "\n",
        "Here you will\n",
        "\n",
        "1. Compute the average of the sample means, grouped by the combination of parameters,\n",
        "2. Add a column of theoretical means using the formula for the geometric distribution on that combination of parameters, and\n",
        "3. Verify the values for very close."
      ],
      "metadata": {
        "id": "k95OvAkfrrN-"
      }
    },
    {
      "cell_type": "code",
      "source": [
        "# Your code here"
      ],
      "metadata": {
        "id": "BDs1NLoZrkhT"
      },
      "execution_count": null,
      "outputs": []
    },
    {
      "cell_type": "markdown",
      "source": [
        "### <font color=\"red\"> Problem 2 - Demonstrate that $SD(\\bar{X}) = \\mu$</font>\n",
        "Here you will\n",
        "\n",
        "1. Compute the SD of the sample means, grouped by the combination of parameters,\n",
        "2. Add a column of theoretical SD using the formula for the geometric distribution divided by the square root of $n$, and\n",
        "3. Verify the values for very close."
      ],
      "metadata": {
        "id": "L2jLgEwxuaHR"
      }
    },
    {
      "cell_type": "code",
      "source": [
        "# Your code here"
      ],
      "metadata": {
        "id": "4-fyqdgeuXgv"
      },
      "execution_count": null,
      "outputs": []
    },
    {
      "cell_type": "markdown",
      "source": [
        "### <font color=\"red\"> Problem 3 - Demonstrate the distribution approaches the normal distribution</font>\n",
        "\n",
        "Here you will use the three plots discussed above to illustrate that the distribution becomes more normal as the sample size increases."
      ],
      "metadata": {
        "id": "BpEofEU9vgRa"
      }
    },
    {
      "cell_type": "code",
      "source": [
        "# Your code here"
      ],
      "metadata": {
        "id": "r0WVTxCAvv2z"
      },
      "execution_count": null,
      "outputs": []
    },
    {
      "cell_type": "markdown",
      "source": [
        "## Part 3 - When the CLT Fails\n",
        "\n",
        "While the CLT is very general, it doesn't always work.  For example, data generated from [the Cauchy distribution](https://en.wikipedia.org/wiki/Cauchy_distribution).\n",
        "\n",
        "Conducting an series of experiments to demonstrate that the CLT fails for sample means from samples of data from the Cauchy distribution.  Note that `R` has a suite of functions for the Cauchy distribution (`rcauchy`, `dcauchy`, etc.).  For simplicity, conduct the experiments over the default values of the location and scale parameters."
      ],
      "metadata": {
        "id": "KSQIT-idwJC-"
      }
    },
    {
      "cell_type": "code",
      "source": [
        "# Your code here"
      ],
      "metadata": {
        "id": "PjjaVi_NxJw9"
      },
      "execution_count": null,
      "outputs": []
    }
  ]
}