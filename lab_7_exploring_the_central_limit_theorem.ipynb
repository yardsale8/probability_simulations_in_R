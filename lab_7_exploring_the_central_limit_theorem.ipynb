{
  "nbformat": 4,
  "nbformat_minor": 0,
  "metadata": {
    "colab": {
      "provenance": [],
      "authorship_tag": "ABX9TyNMEuxD5ZQLl2Khla15aVNo",
      "include_colab_link": true
    },
    "kernelspec": {
      "name": "ir",
      "display_name": "R"
    },
    "language_info": {
      "name": "R"
    }
  },
  "cells": [
    {
      "cell_type": "markdown",
      "metadata": {
        "id": "view-in-github",
        "colab_type": "text"
      },
      "source": [
        "<a href=\"https://colab.research.google.com/github/yardsale8/probability_simulations_in_R/blob/main/lab_7_exploring_the_central_limit_theorem.ipynb\" target=\"_parent\"><img src=\"https://colab.research.google.com/assets/colab-badge.svg\" alt=\"Open In Colab\"/></a>"
      ]
    },
    {
      "cell_type": "code",
      "execution_count": 1,
      "metadata": {
        "id": "IpARyWPSi3ft",
        "colab": {
          "base_uri": "https://localhost:8080/"
        },
        "outputId": "d65d532a-affd-485a-d732-f4a63dac36e4"
      },
      "outputs": [
        {
          "output_type": "stream",
          "name": "stderr",
          "text": [
            "── \u001b[1mAttaching core tidyverse packages\u001b[22m ──────────────────────── tidyverse 2.0.0 ──\n",
            "\u001b[32m✔\u001b[39m \u001b[34mdplyr    \u001b[39m 1.1.4     \u001b[32m✔\u001b[39m \u001b[34mreadr    \u001b[39m 2.1.4\n",
            "\u001b[32m✔\u001b[39m \u001b[34mforcats  \u001b[39m 1.0.0     \u001b[32m✔\u001b[39m \u001b[34mstringr  \u001b[39m 1.5.1\n",
            "\u001b[32m✔\u001b[39m \u001b[34mggplot2  \u001b[39m 3.4.4     \u001b[32m✔\u001b[39m \u001b[34mtibble   \u001b[39m 3.2.1\n",
            "\u001b[32m✔\u001b[39m \u001b[34mlubridate\u001b[39m 1.9.3     \u001b[32m✔\u001b[39m \u001b[34mtidyr    \u001b[39m 1.3.0\n",
            "\u001b[32m✔\u001b[39m \u001b[34mpurrr    \u001b[39m 1.0.2     \n",
            "── \u001b[1mConflicts\u001b[22m ────────────────────────────────────────── tidyverse_conflicts() ──\n",
            "\u001b[31m✖\u001b[39m \u001b[34mdplyr\u001b[39m::\u001b[32mfilter()\u001b[39m masks \u001b[34mstats\u001b[39m::filter()\n",
            "\u001b[31m✖\u001b[39m \u001b[34mdplyr\u001b[39m::\u001b[32mlag()\u001b[39m    masks \u001b[34mstats\u001b[39m::lag()\n",
            "\u001b[36mℹ\u001b[39m Use the conflicted package (\u001b[3m\u001b[34m<http://conflicted.r-lib.org/>\u001b[39m\u001b[23m) to force all conflicts to become errors\n",
            "Loading required package: usethis\n",
            "\n",
            "Downloading GitHub repo yardsale8/purrrfect@HEAD\n",
            "\n"
          ]
        },
        {
          "output_type": "stream",
          "name": "stdout",
          "text": [
            "rlang (1.1.2 -> 1.1.3) [CRAN]\n",
            "glue  (1.6.2 -> 1.7.0) [CRAN]\n",
            "withr (2.5.2 -> 3.0.0) [CRAN]\n",
            "tidyr (1.3.0 -> 1.3.1) [CRAN]\n"
          ]
        },
        {
          "output_type": "stream",
          "name": "stderr",
          "text": [
            "Installing 4 packages: rlang, glue, withr, tidyr\n",
            "\n",
            "Installing packages into ‘/usr/local/lib/R/site-library’\n",
            "(as ‘lib’ is unspecified)\n",
            "\n"
          ]
        },
        {
          "output_type": "stream",
          "name": "stdout",
          "text": [
            "\u001b[36m──\u001b[39m \u001b[36mR CMD build\u001b[39m \u001b[36m─────────────────────────────────────────────────────────────────\u001b[39m\n",
            "* checking for file ‘/tmp/Rtmp0Ag7vZ/remotesa256e245aa/yardsale8-purrrfect-da06695/DESCRIPTION’ ... OK\n",
            "* preparing ‘purrrfect’:\n",
            "* checking DESCRIPTION meta-information ... OK\n",
            "* checking for LF line-endings in source and make files and shell scripts\n",
            "* checking for empty or unneeded directories\n",
            "* building ‘purrrfect_1.3.0.tar.gz’\n",
            "\n"
          ]
        },
        {
          "output_type": "stream",
          "name": "stderr",
          "text": [
            "Installing package into ‘/usr/local/lib/R/site-library’\n",
            "(as ‘lib’ is unspecified)\n",
            "\n",
            "\n",
            "Attaching package: ‘purrrfect’\n",
            "\n",
            "\n",
            "The following objects are masked from ‘package:base’:\n",
            "\n",
            "    replicate, tabulate\n",
            "\n",
            "\n"
          ]
        }
      ],
      "source": [
        "library(tidyverse)\n",
        "library(devtools)\n",
        "install_github('yardsale8/purrrfect', force = TRUE)\n",
        "library(purrrfect)"
      ]
    },
    {
      "cell_type": "markdown",
      "source": [
        "# Lab 7 - Investigating the Central Limit Theorem\n",
        "\n",
        "In this lab, we will investigate the central limit theorem using the techniques introduced in the previous notebooks."
      ],
      "metadata": {
        "id": "mwH0fS1Y9Ur-"
      }
    },
    {
      "cell_type": "markdown",
      "source": [
        "## Part 1 - Practice for Parametric Simulations\n",
        "\n",
        "### <font color=\"red\"> Problem 1 </font> The sample mean and variance of normal data\n",
        "\n",
        "Let $X_1, ..., X_n$ be i.d.d. random variables from a distribution $N(\\mu, \\sigma^2)$ distribution.  Let $\\bar{X}$ and $S^2$ be the sample mean and variance of this sample.  In a previous lecture, we showed that\n",
        "\n",
        "Note that this result has three parts.\n",
        "\n",
        "1. $\\bar{X}\\sim $N(\\mu, sigma^2\\n)$,\n",
        "2. $(n-1)S^2\\\\sigma^2\\sim\\chi^2(n-1)$, and\n",
        "3. $\\bar{X}$ and $S^2$ are independent.\n",
        "\n",
        "Perform a parametric simulation to verify these results.\n"
      ],
      "metadata": {
        "id": "45YQpEMSozz0"
      }
    },
    {
      "cell_type": "code",
      "source": [
        "# Your code here (use multiple cells as needed)"
      ],
      "metadata": {
        "id": "GvGlXtAoEerF"
      },
      "execution_count": null,
      "outputs": []
    },
    {
      "cell_type": "markdown",
      "source": [
        "## Part 2 - The Main Event\n",
        "\n",
        "### Review - The central limit theorem for means\n",
        "\n",
        "Let $X_1, ..., X_n$ be i.d.d. random variables from a distribution with $E(X_1)=\\mu$ and $SD(X_1)=\\sigma$.  Let $\\bar{X} = \\frac{1}{n}\\sum_{i=1}^n X_i$.  The **central limit theorem for the sample mean** states that the distribution of $\\bar{X}\\rightarrow norm\\left(\\mu, \\frac{\\sigma}{\\sqrt{n}}\\right)$ as $n\\rightarrow\\infty$.\n",
        "\n",
        "Note that this result has three parts.\n",
        "\n",
        "1. $E(\\bar{X}) = \\mu$,\n",
        "2. $SD(\\bar{X}) = \\frac{\\sigma}{\\sqrt{n}}$, and\n",
        "3. The distributions becomes closer and closed to the normal distribution.\n",
        "\n",
        "Also note that this results is very general and applies to all distributions (continuous or discrete) provide the mean and variance exist."
      ],
      "metadata": {
        "id": "g1YoNsjVp4pe"
      }
    },
    {
      "cell_type": "markdown",
      "source": [
        "### Guiding Example - Geometric Distribution.\n",
        "\n",
        "In this part, we will verify all three parts of the CLT using parametric simulations over the geometric distribution.  Specifically, we will perform an experiment using the geometric distribution over $p\\in\\{0.1, 0.2, ..., 0.9\\}$ and $n\\in\\{5, 10, 25, 50, 100\\}$.\n",
        "\n"
      ],
      "metadata": {
        "id": "dQi8e-LTr0yg"
      }
    },
    {
      "cell_type": "code",
      "source": [],
      "metadata": {
        "id": "eb1M7bW4Evxa"
      },
      "execution_count": null,
      "outputs": []
    },
    {
      "cell_type": "markdown",
      "source": [
        "### <font color=\"red\"> Problem 2.1 - Prototype simulating sample means</font>"
      ],
      "metadata": {
        "id": "YZHzNg90tkGh"
      }
    },
    {
      "cell_type": "code",
      "source": [
        "# Your code here"
      ],
      "metadata": {
        "id": "g439d72UuVC-"
      },
      "execution_count": null,
      "outputs": []
    },
    {
      "cell_type": "markdown",
      "source": [
        "### <font color=\"red\"> Problem 2.2</font> - Demonstrate that $E(\\bar{X}) = \\mu$\n",
        "\n",
        "Here you will\n",
        "\n",
        "1. Compute the average of the sample means, grouped by the combination of parameters,\n",
        "2. Add a column of theoretical means using the formula for the geometric distribution on that combination of parameters, and\n",
        "3. Verify the values for very close."
      ],
      "metadata": {
        "id": "k95OvAkfrrN-"
      }
    },
    {
      "cell_type": "code",
      "source": [
        "# Your code here"
      ],
      "metadata": {
        "id": "BDs1NLoZrkhT"
      },
      "execution_count": null,
      "outputs": []
    },
    {
      "cell_type": "markdown",
      "source": [
        "### <font color=\"red\"> Problem 2.3</font> - Demonstrate that $SD(\\bar{X}) = \\mu$\n",
        "Here you will\n",
        "\n",
        "1. Compute the SD of the sample means, grouped by the combination of parameters,\n",
        "2. Add a column of theoretical SD using the formula for the geometric distribution divided by the square root of $n$, and\n",
        "3. Verify the values for very close."
      ],
      "metadata": {
        "id": "L2jLgEwxuaHR"
      }
    },
    {
      "cell_type": "code",
      "source": [
        "# Your code here"
      ],
      "metadata": {
        "id": "4-fyqdgeuXgv"
      },
      "execution_count": null,
      "outputs": []
    },
    {
      "cell_type": "markdown",
      "source": [
        "### <font color=\"red\"> Problem 2.4</font> - Demonstrate the distribution approaches the normal distribution\n",
        "\n",
        "Here you will use the three plots discussed above to illustrate that the distribution becomes more normal as the sample size increases."
      ],
      "metadata": {
        "id": "BpEofEU9vgRa"
      }
    },
    {
      "cell_type": "code",
      "source": [
        "# Your code here"
      ],
      "metadata": {
        "id": "r0WVTxCAvv2z"
      },
      "execution_count": null,
      "outputs": []
    },
    {
      "cell_type": "markdown",
      "source": [
        "### <font color=\"red\"> Problem 3</font> - Demonstrate the gamma distribution approaches the normal distribution\n",
        "\n",
        "Use a parametric simulation similar to the last problem to show that data from the gamma distribution adheres to the CLT regardless of the parameters."
      ],
      "metadata": {
        "id": "ExN1FcLsFFrK"
      }
    },
    {
      "cell_type": "code",
      "source": [
        "# Your code here (use multiple cells as needed"
      ],
      "metadata": {
        "id": "IoFynFCsFVPb"
      },
      "execution_count": 2,
      "outputs": []
    },
    {
      "cell_type": "markdown",
      "source": [
        "## Part 3 - When the CLT Fails\n",
        "\n",
        "### <font color=\"red\"> Problem 4</font> - Demonstrate the CLT doesn't always work.\n",
        "\n",
        "Here you will use the three plots discussed above to illustrate that the distribution becomes more normal as the sample size increases.\n",
        "\n",
        "While the CLT is very general, it doesn't always work.  For example, data generated from [the Cauchy distribution](https://en.wikipedia.org/wiki/Cauchy_distribution).\n",
        "\n",
        "Conducting an series of experiments to demonstrate that the CLT fails for sample means from samples of data from the Cauchy distribution.  Note that `R` has a suite of functions for the Cauchy distribution (`rcauchy`, `dcauchy`, etc.).  For simplicity, conduct the experiments over the default values of the location and scale parameters."
      ],
      "metadata": {
        "id": "KSQIT-idwJC-"
      }
    },
    {
      "cell_type": "code",
      "source": [
        "# Your code here"
      ],
      "metadata": {
        "id": "PjjaVi_NxJw9"
      },
      "execution_count": null,
      "outputs": []
    }
  ]
}