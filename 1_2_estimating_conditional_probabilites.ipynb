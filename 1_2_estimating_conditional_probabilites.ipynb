{
  "nbformat": 4,
  "nbformat_minor": 0,
  "metadata": {
    "colab": {
      "provenance": [],
      "authorship_tag": "ABX9TyNM6IY2B+AZZeJlp1bCBBsK",
      "include_colab_link": true
    },
    "kernelspec": {
      "name": "ir",
      "display_name": "R"
    },
    "language_info": {
      "name": "R"
    }
  },
  "cells": [
    {
      "cell_type": "markdown",
      "metadata": {
        "id": "view-in-github",
        "colab_type": "text"
      },
      "source": [
        "<a href=\"https://colab.research.google.com/github/yardsale8/probability_simulations_in_R/blob/main/1_2_estimating_conditional_probabilites.ipynb\" target=\"_parent\"><img src=\"https://colab.research.google.com/assets/colab-badge.svg\" alt=\"Open In Colab\"/></a>"
      ]
    },
    {
      "cell_type": "code",
      "execution_count": null,
      "metadata": {
        "id": "6fc4CJU5ggG2"
      },
      "outputs": [],
      "source": [
        "library(dplyr)\n",
        "library(tidyr)\n",
        "library(purrr)\n",
        "library(devtools)\n",
        "install_github('yardsale8/purrrfect', force = TRUE)\n",
        "library(purrrfect)"
      ]
    },
    {
      "cell_type": "markdown",
      "source": [
        "# Estimating conditional probabilites\n",
        "\n",
        "In this lecture, we will demonstrate how to\n",
        "1. How to construct and compute the conditional probability of one event based on another.\n",
        "2. Use split, group, and tabulate to compute the distribution of one variable conditioned on another."
      ],
      "metadata": {
        "id": "GDis9Ngpgs_G"
      }
    },
    {
      "cell_type": "code",
      "source": [
        "## Estimating conditional distributions of one variable given another.\n",
        "\n",
        "First, we will look at how `group_by` combined with `tabulate` can be used to calculate conditional distributions by solving the following example."
      ],
      "metadata": {
        "id": "X7rYWM0chyRy"
      },
      "execution_count": null,
      "outputs": []
    },
    {
      "cell_type": "markdown",
      "source": [
        "## <font color=\"red\"> Exercise 1.2.1 </font>\n",
        "Consider the experiment of rolling a 6-sided die twice.  Let $X$ represent the sum of the rolls and $Y$ represent the maximum of the two outcomes.  Estimate $P(X\\le 4 | Y = 4)$"
      ],
      "metadata": {
        "id": "BuXNrQZOukgx"
      }
    },
    {
      "cell_type": "code",
      "source": [
        "# Your code here"
      ],
      "metadata": {
        "id": "JWqiR2Cqvi-G"
      },
      "execution_count": 2,
      "outputs": []
    },
    {
      "cell_type": "markdown",
      "source": [
        "## Technique 1 - Estimating Conditional Proability for Events\n",
        "\n",
        "First, suppose that we have defined two events $A$ and $B$ and we want to estimate the probility of $P(A|B)$.  We can perform this task by\n",
        "1. Using some combination of split and `mutate` to compute a Boolean column for each event.\n",
        "2. Either `filter` or `group_by` the given event.\n",
        "3. Use `estimate_prob` on the conditional event of interest.\n",
        "\n",
        "Let's illustrate will a problem involving rolling a die."
      ],
      "metadata": {
        "id": "Lnsx4Tth0tjG"
      }
    },
    {
      "cell_type": "markdown",
      "source": [
        "### Example 1.  Rolling a 20-sided die.\n",
        "\n",
        "Suppose we roll a fair 20-sided die two three times and define\n",
        "* $A$ as the event that we roll at least one number 18 or larger, and\n",
        "* $B$ as the event that the average of the three rolls is larger than 10.\n",
        "\n",
        "**Task.** Estimate $P(B|A)$\n"
      ],
      "metadata": {
        "id": "iJ2GFVgZ1kQ7"
      }
    },
    {
      "cell_type": "markdown",
      "source": [
        "#### Step 1. Set up the simulation"
      ],
      "metadata": {
        "id": "5pYvfIlJ2VvT"
      }
    },
    {
      "cell_type": "code",
      "source": [
        "(die <- 1:20)"
      ],
      "metadata": {
        "colab": {
          "base_uri": "https://localhost:8080/",
          "height": 54
        },
        "id": "SqRwWuMM2Y2p",
        "outputId": "eca9d7ab-bbfb-43fc-9eea-00ac8dc33345"
      },
      "execution_count": 27,
      "outputs": [
        {
          "output_type": "display_data",
          "data": {
            "text/html": [
              "<style>\n",
              ".list-inline {list-style: none; margin:0; padding: 0}\n",
              ".list-inline>li {display: inline-block}\n",
              ".list-inline>li:not(:last-child)::after {content: \"\\00b7\"; padding: 0 .5ex}\n",
              "</style>\n",
              "<ol class=list-inline><li>1</li><li>2</li><li>3</li><li>4</li><li>5</li><li>6</li><li>7</li><li>8</li><li>9</li><li>10</li><li>11</li><li>12</li><li>13</li><li>14</li><li>15</li><li>16</li><li>17</li><li>18</li><li>19</li><li>20</li></ol>\n"
            ],
            "text/markdown": "1. 1\n2. 2\n3. 3\n4. 4\n5. 5\n6. 6\n7. 7\n8. 8\n9. 9\n10. 10\n11. 11\n12. 12\n13. 13\n14. 14\n15. 15\n16. 16\n17. 17\n18. 18\n19. 19\n20. 20\n\n\n",
            "text/latex": "\\begin{enumerate*}\n\\item 1\n\\item 2\n\\item 3\n\\item 4\n\\item 5\n\\item 6\n\\item 7\n\\item 8\n\\item 9\n\\item 10\n\\item 11\n\\item 12\n\\item 13\n\\item 14\n\\item 15\n\\item 16\n\\item 17\n\\item 18\n\\item 19\n\\item 20\n\\end{enumerate*}\n",
            "text/plain": [
              " [1]  1  2  3  4  5  6  7  8  9 10 11 12 13 14 15 16 17 18 19 20"
            ]
          },
          "metadata": {}
        }
      ]
    },
    {
      "cell_type": "code",
      "source": [
        "sample(die, 3 , replace = TRUE)"
      ],
      "metadata": {
        "colab": {
          "base_uri": "https://localhost:8080/",
          "height": 54
        },
        "id": "W8PvrhMc2URR",
        "outputId": "58ac4556-8585-44db-b59f-584c68ca0004"
      },
      "execution_count": 29,
      "outputs": [
        {
          "output_type": "display_data",
          "data": {
            "text/html": [
              "<style>\n",
              ".list-inline {list-style: none; margin:0; padding: 0}\n",
              ".list-inline>li {display: inline-block}\n",
              ".list-inline>li:not(:last-child)::after {content: \"\\00b7\"; padding: 0 .5ex}\n",
              "</style>\n",
              "<ol class=list-inline><li>12</li><li>2</li><li>12</li></ol>\n"
            ],
            "text/markdown": "1. 12\n2. 2\n3. 12\n\n\n",
            "text/latex": "\\begin{enumerate*}\n\\item 12\n\\item 2\n\\item 12\n\\end{enumerate*}\n",
            "text/plain": [
              "[1] 12  2 12"
            ]
          },
          "metadata": {}
        }
      ]
    },
    {
      "cell_type": "code",
      "source": [
        "replicate(10, sample(die, 3, replace = TRUE))"
      ],
      "metadata": {
        "colab": {
          "base_uri": "https://localhost:8080/",
          "height": 421
        },
        "id": "GlXnNcvQ2vdv",
        "outputId": "9566a3a7-b48b-4174-e929-e918f4a81bbd"
      },
      "execution_count": 30,
      "outputs": [
        {
          "output_type": "display_data",
          "data": {
            "text/html": [
              "<table class=\"dataframe\">\n",
              "<caption>A tibble: 10 × 2</caption>\n",
              "<thead>\n",
              "\t<tr><th scope=col>.trial</th><th scope=col>.outcome</th></tr>\n",
              "\t<tr><th scope=col>&lt;dbl&gt;</th><th scope=col>&lt;list&gt;</th></tr>\n",
              "</thead>\n",
              "<tbody>\n",
              "\t<tr><td> 1</td><td>18, 6, 14</td></tr>\n",
              "\t<tr><td> 2</td><td>3, 18, 3</td></tr>\n",
              "\t<tr><td> 3</td><td>5, 3, 18</td></tr>\n",
              "\t<tr><td> 4</td><td>8, 8, 20</td></tr>\n",
              "\t<tr><td> 5</td><td>14, 19, 14</td></tr>\n",
              "\t<tr><td> 6</td><td>10, 13, 1</td></tr>\n",
              "\t<tr><td> 7</td><td>2, 20, 3</td></tr>\n",
              "\t<tr><td> 8</td><td>18, 7, 20</td></tr>\n",
              "\t<tr><td> 9</td><td>12, 7, 6</td></tr>\n",
              "\t<tr><td>10</td><td>14, 4, 10</td></tr>\n",
              "</tbody>\n",
              "</table>\n"
            ],
            "text/markdown": "\nA tibble: 10 × 2\n\n| .trial &lt;dbl&gt; | .outcome &lt;list&gt; |\n|---|---|\n|  1 | 18, 6, 14 |\n|  2 | 3, 18, 3 |\n|  3 | 5, 3, 18 |\n|  4 | 8, 8, 20 |\n|  5 | 14, 19, 14 |\n|  6 | 10, 13, 1 |\n|  7 | 2, 20, 3 |\n|  8 | 18, 7, 20 |\n|  9 | 12, 7, 6 |\n| 10 | 14, 4, 10 |\n\n",
            "text/latex": "A tibble: 10 × 2\n\\begin{tabular}{ll}\n .trial & .outcome\\\\\n <dbl> & <list>\\\\\n\\hline\n\t  1 & 18, 6, 14\\\\\n\t  2 & 3, 18, 3\\\\\n\t  3 & 5, 3, 18\\\\\n\t  4 & 8, 8, 20\\\\\n\t  5 & 14, 19, 14\\\\\n\t  6 & 10, 13, 1\\\\\n\t  7 & 2, 20, 3\\\\\n\t  8 & 18, 7, 20\\\\\n\t  9 & 12, 7, 6\\\\\n\t 10 & 14, 4, 10\\\\\n\\end{tabular}\n",
            "text/plain": [
              "   .trial .outcome  \n",
              "1   1     18, 6, 14 \n",
              "2   2     3, 18, 3  \n",
              "3   3     5, 3, 18  \n",
              "4   4     8, 8, 20  \n",
              "5   5     14, 19, 14\n",
              "6   6     10, 13, 1 \n",
              "7   7     2, 20, 3  \n",
              "8   8     18, 7, 20 \n",
              "9   9     12, 7, 6  \n",
              "10 10     14, 4, 10 "
            ]
          },
          "metadata": {}
        }
      ]
    },
    {
      "cell_type": "markdown",
      "source": [
        "#### Step 2a.  Create a column for event $A$\n",
        "\n",
        "Note that this task is easier if we first count the number of rolls that are 18 or larger.  This is a compound event, so we will pass a helper funciton to `col_num_successes`.  Finally, we can use `mutate` to create the event column for $A$."
      ],
      "metadata": {
        "id": "veEkUu7n23Yv"
      }
    },
    {
      "cell_type": "code",
      "source": [
        "N <- 10\n",
        "(replicate(N, sample(die, 3, replace = TRUE))\n",
        " %>% col_num_successes(.outcome, \\(x) x >= 18)\n",
        " %>% mutate(A = .successes >= 1)\n",
        ")\n"
      ],
      "metadata": {
        "colab": {
          "base_uri": "https://localhost:8080/",
          "height": 421
        },
        "id": "IWBSfGaB3RJ-",
        "outputId": "d4e3a342-8374-4a6f-dcd0-89537471c0c8"
      },
      "execution_count": 33,
      "outputs": [
        {
          "output_type": "display_data",
          "data": {
            "text/html": [
              "<table class=\"dataframe\">\n",
              "<caption>A tibble: 10 × 4</caption>\n",
              "<thead>\n",
              "\t<tr><th scope=col>.trial</th><th scope=col>.outcome</th><th scope=col>.successes</th><th scope=col>A</th></tr>\n",
              "\t<tr><th scope=col>&lt;dbl&gt;</th><th scope=col>&lt;list&gt;</th><th scope=col>&lt;int&gt;</th><th scope=col>&lt;lgl&gt;</th></tr>\n",
              "</thead>\n",
              "<tbody>\n",
              "\t<tr><td> 1</td><td>19, 13, 14</td><td>1</td><td> TRUE</td></tr>\n",
              "\t<tr><td> 2</td><td>9, 20, 14</td><td>1</td><td> TRUE</td></tr>\n",
              "\t<tr><td> 3</td><td>1, 12, 2</td><td>0</td><td>FALSE</td></tr>\n",
              "\t<tr><td> 4</td><td>3, 20, 6</td><td>1</td><td> TRUE</td></tr>\n",
              "\t<tr><td> 5</td><td>8, 13, 18</td><td>1</td><td> TRUE</td></tr>\n",
              "\t<tr><td> 6</td><td>13, 14, 17</td><td>0</td><td>FALSE</td></tr>\n",
              "\t<tr><td> 7</td><td>12, 1, 4</td><td>0</td><td>FALSE</td></tr>\n",
              "\t<tr><td> 8</td><td>6, 4, 15</td><td>0</td><td>FALSE</td></tr>\n",
              "\t<tr><td> 9</td><td>5, 7, 12</td><td>0</td><td>FALSE</td></tr>\n",
              "\t<tr><td>10</td><td>13, 2, 3</td><td>0</td><td>FALSE</td></tr>\n",
              "</tbody>\n",
              "</table>\n"
            ],
            "text/markdown": "\nA tibble: 10 × 4\n\n| .trial &lt;dbl&gt; | .outcome &lt;list&gt; | .successes &lt;int&gt; | A &lt;lgl&gt; |\n|---|---|---|---|\n|  1 | 19, 13, 14 | 1 |  TRUE |\n|  2 | 9, 20, 14 | 1 |  TRUE |\n|  3 | 1, 12, 2 | 0 | FALSE |\n|  4 | 3, 20, 6 | 1 |  TRUE |\n|  5 | 8, 13, 18 | 1 |  TRUE |\n|  6 | 13, 14, 17 | 0 | FALSE |\n|  7 | 12, 1, 4 | 0 | FALSE |\n|  8 | 6, 4, 15 | 0 | FALSE |\n|  9 | 5, 7, 12 | 0 | FALSE |\n| 10 | 13, 2, 3 | 0 | FALSE |\n\n",
            "text/latex": "A tibble: 10 × 4\n\\begin{tabular}{llll}\n .trial & .outcome & .successes & A\\\\\n <dbl> & <list> & <int> & <lgl>\\\\\n\\hline\n\t  1 & 19, 13, 14 & 1 &  TRUE\\\\\n\t  2 & 9, 20, 14 & 1 &  TRUE\\\\\n\t  3 & 1, 12, 2 & 0 & FALSE\\\\\n\t  4 & 3, 20, 6 & 1 &  TRUE\\\\\n\t  5 & 8, 13, 18 & 1 &  TRUE\\\\\n\t  6 & 13, 14, 17 & 0 & FALSE\\\\\n\t  7 & 12, 1, 4 & 0 & FALSE\\\\\n\t  8 & 6, 4, 15 & 0 & FALSE\\\\\n\t  9 & 5, 7, 12 & 0 & FALSE\\\\\n\t 10 & 13, 2, 3 & 0 & FALSE\\\\\n\\end{tabular}\n",
            "text/plain": [
              "   .trial .outcome   .successes A    \n",
              "1   1     19, 13, 14 1           TRUE\n",
              "2   2     9, 20, 14  1           TRUE\n",
              "3   3     1, 12, 2   0          FALSE\n",
              "4   4     3, 20, 6   1           TRUE\n",
              "5   5     8, 13, 18  1           TRUE\n",
              "6   6     13, 14, 17 0          FALSE\n",
              "7   7     12, 1, 4   0          FALSE\n",
              "8   8     6, 4, 15   0          FALSE\n",
              "9   9     5, 7, 12   0          FALSE\n",
              "10 10     13, 2, 3   0          FALSE"
            ]
          },
          "metadata": {}
        }
      ]
    },
    {
      "cell_type": "markdown",
      "source": [
        "#### Step 2b.  Construct a Boolean column for event $B$\n",
        "\n",
        "Simlar to the last step, it is benificial to first compute the average, then construct the Boolean column.\n",
        "\n",
        "Normally, applying `mean` in `mutate` will compute the average of the whole column, but we want the average of each element.  This is accomplished by mapping the `mean` function onto each individual list, as follows.  Since we will be expecting floating point output, we will use `map_dbl` to specify the output type."
      ],
      "metadata": {
        "id": "-ch4MSvA4CrO"
      }
    },
    {
      "cell_type": "markdown",
      "source": [
        "\n",
        "N <- 10\n",
        "(replicate(N, sample(die, 3, replace = TRUE))\n",
        " %>% col_num_successes(.outcome, \\(x) x >= 18)\n",
        " %>% mutate(A = .successes >= 1)\n",
        ")"
      ],
      "metadata": {
        "id": "-TuvnUXR4BPD"
      }
    },
    {
      "cell_type": "code",
      "source": [
        "N <- 10\n",
        "(replicate(N, sample(die, 3, replace = TRUE))\n",
        " %>% col_num_successes(.outcome, \\(x) x >= 18)\n",
        " %>% mutate(A = .successes >= 1)\n",
        " %>% mutate(avg.roll = map_dbl(.outcome, \\(x) mean(x)))\n",
        ")"
      ],
      "metadata": {
        "colab": {
          "base_uri": "https://localhost:8080/",
          "height": 421
        },
        "id": "65lvlqbX76YT",
        "outputId": "8f18a5c5-a715-4b01-e54b-8c928ddb8494"
      },
      "execution_count": 37,
      "outputs": [
        {
          "output_type": "display_data",
          "data": {
            "text/html": [
              "<table class=\"dataframe\">\n",
              "<caption>A tibble: 10 × 5</caption>\n",
              "<thead>\n",
              "\t<tr><th scope=col>.trial</th><th scope=col>.outcome</th><th scope=col>.successes</th><th scope=col>A</th><th scope=col>avg.roll</th></tr>\n",
              "\t<tr><th scope=col>&lt;dbl&gt;</th><th scope=col>&lt;list&gt;</th><th scope=col>&lt;int&gt;</th><th scope=col>&lt;lgl&gt;</th><th scope=col>&lt;dbl&gt;</th></tr>\n",
              "</thead>\n",
              "<tbody>\n",
              "\t<tr><td> 1</td><td>4, 14, 13</td><td>0</td><td>FALSE</td><td>10.333333</td></tr>\n",
              "\t<tr><td> 2</td><td>13, 14, 7</td><td>0</td><td>FALSE</td><td>11.333333</td></tr>\n",
              "\t<tr><td> 3</td><td>2, 1, 7</td><td>0</td><td>FALSE</td><td> 3.333333</td></tr>\n",
              "\t<tr><td> 4</td><td>9, 18, 18</td><td>2</td><td> TRUE</td><td>15.000000</td></tr>\n",
              "\t<tr><td> 5</td><td>17, 12, 20</td><td>1</td><td> TRUE</td><td>16.333333</td></tr>\n",
              "\t<tr><td> 6</td><td>5, 20, 5</td><td>1</td><td> TRUE</td><td>10.000000</td></tr>\n",
              "\t<tr><td> 7</td><td>4, 1, 13</td><td>0</td><td>FALSE</td><td> 6.000000</td></tr>\n",
              "\t<tr><td> 8</td><td>3, 10, 3</td><td>0</td><td>FALSE</td><td> 5.333333</td></tr>\n",
              "\t<tr><td> 9</td><td>18, 1, 13</td><td>1</td><td> TRUE</td><td>10.666667</td></tr>\n",
              "\t<tr><td>10</td><td>7, 11, 10</td><td>0</td><td>FALSE</td><td> 9.333333</td></tr>\n",
              "</tbody>\n",
              "</table>\n"
            ],
            "text/markdown": "\nA tibble: 10 × 5\n\n| .trial &lt;dbl&gt; | .outcome &lt;list&gt; | .successes &lt;int&gt; | A &lt;lgl&gt; | avg.roll &lt;dbl&gt; |\n|---|---|---|---|---|\n|  1 | 4, 14, 13 | 0 | FALSE | 10.333333 |\n|  2 | 13, 14, 7 | 0 | FALSE | 11.333333 |\n|  3 | 2, 1, 7 | 0 | FALSE |  3.333333 |\n|  4 | 9, 18, 18 | 2 |  TRUE | 15.000000 |\n|  5 | 17, 12, 20 | 1 |  TRUE | 16.333333 |\n|  6 | 5, 20, 5 | 1 |  TRUE | 10.000000 |\n|  7 | 4, 1, 13 | 0 | FALSE |  6.000000 |\n|  8 | 3, 10, 3 | 0 | FALSE |  5.333333 |\n|  9 | 18, 1, 13 | 1 |  TRUE | 10.666667 |\n| 10 | 7, 11, 10 | 0 | FALSE |  9.333333 |\n\n",
            "text/latex": "A tibble: 10 × 5\n\\begin{tabular}{lllll}\n .trial & .outcome & .successes & A & avg.roll\\\\\n <dbl> & <list> & <int> & <lgl> & <dbl>\\\\\n\\hline\n\t  1 & 4, 14, 13 & 0 & FALSE & 10.333333\\\\\n\t  2 & 13, 14, 7 & 0 & FALSE & 11.333333\\\\\n\t  3 & 2, 1, 7 & 0 & FALSE &  3.333333\\\\\n\t  4 & 9, 18, 18 & 2 &  TRUE & 15.000000\\\\\n\t  5 & 17, 12, 20 & 1 &  TRUE & 16.333333\\\\\n\t  6 & 5, 20, 5 & 1 &  TRUE & 10.000000\\\\\n\t  7 & 4, 1, 13 & 0 & FALSE &  6.000000\\\\\n\t  8 & 3, 10, 3 & 0 & FALSE &  5.333333\\\\\n\t  9 & 18, 1, 13 & 1 &  TRUE & 10.666667\\\\\n\t 10 & 7, 11, 10 & 0 & FALSE &  9.333333\\\\\n\\end{tabular}\n",
            "text/plain": [
              "   .trial .outcome   .successes A     avg.roll \n",
              "1   1     4, 14, 13  0          FALSE 10.333333\n",
              "2   2     13, 14, 7  0          FALSE 11.333333\n",
              "3   3     2, 1, 7    0          FALSE  3.333333\n",
              "4   4     9, 18, 18  2           TRUE 15.000000\n",
              "5   5     17, 12, 20 1           TRUE 16.333333\n",
              "6   6     5, 20, 5   1           TRUE 10.000000\n",
              "7   7     4, 1, 13   0          FALSE  6.000000\n",
              "8   8     3, 10, 3   0          FALSE  5.333333\n",
              "9   9     18, 1, 13  1           TRUE 10.666667\n",
              "10 10     7, 11, 10  0          FALSE  9.333333"
            ]
          },
          "metadata": {}
        }
      ]
    },
    {
      "cell_type": "markdown",
      "source": [
        "Now we can compute the Boolean column for $B$, by asking when the average is bigger than 10."
      ],
      "metadata": {
        "id": "Cez2Fqtr9AVs"
      }
    },
    {
      "cell_type": "code",
      "source": [
        "N <- 10\n",
        "(replicate(N, sample(die, 3, replace = TRUE))\n",
        " %>% col_num_successes(.outcome, \\(x) x >= 18)\n",
        " %>% mutate(A = .successes >= 1)\n",
        " %>% mutate(avg.roll = map_dbl(.outcome, \\(x) mean(x)))\n",
        " %>% mutate(B = avg.roll > 10)\n",
        ")"
      ],
      "metadata": {
        "colab": {
          "base_uri": "https://localhost:8080/",
          "height": 421
        },
        "id": "PmRThRk59BMn",
        "outputId": "e6788c33-1665-4bac-a8fa-aa82bb522aac"
      },
      "execution_count": 38,
      "outputs": [
        {
          "output_type": "display_data",
          "data": {
            "text/html": [
              "<table class=\"dataframe\">\n",
              "<caption>A tibble: 10 × 6</caption>\n",
              "<thead>\n",
              "\t<tr><th scope=col>.trial</th><th scope=col>.outcome</th><th scope=col>.successes</th><th scope=col>A</th><th scope=col>avg.roll</th><th scope=col>B</th></tr>\n",
              "\t<tr><th scope=col>&lt;dbl&gt;</th><th scope=col>&lt;list&gt;</th><th scope=col>&lt;int&gt;</th><th scope=col>&lt;lgl&gt;</th><th scope=col>&lt;dbl&gt;</th><th scope=col>&lt;lgl&gt;</th></tr>\n",
              "</thead>\n",
              "<tbody>\n",
              "\t<tr><td> 1</td><td>15, 11, 14</td><td>0</td><td>FALSE</td><td>13.333333</td><td> TRUE</td></tr>\n",
              "\t<tr><td> 2</td><td>14, 14, 13</td><td>0</td><td>FALSE</td><td>13.666667</td><td> TRUE</td></tr>\n",
              "\t<tr><td> 3</td><td>3, 9, 17</td><td>0</td><td>FALSE</td><td> 9.666667</td><td>FALSE</td></tr>\n",
              "\t<tr><td> 4</td><td>2, 7, 2</td><td>0</td><td>FALSE</td><td> 3.666667</td><td>FALSE</td></tr>\n",
              "\t<tr><td> 5</td><td>9, 16, 19</td><td>1</td><td> TRUE</td><td>14.666667</td><td> TRUE</td></tr>\n",
              "\t<tr><td> 6</td><td>18, 9, 8</td><td>1</td><td> TRUE</td><td>11.666667</td><td> TRUE</td></tr>\n",
              "\t<tr><td> 7</td><td>3, 2, 15</td><td>0</td><td>FALSE</td><td> 6.666667</td><td>FALSE</td></tr>\n",
              "\t<tr><td> 8</td><td>20, 7, 20</td><td>2</td><td> TRUE</td><td>15.666667</td><td> TRUE</td></tr>\n",
              "\t<tr><td> 9</td><td>7, 14, 8</td><td>0</td><td>FALSE</td><td> 9.666667</td><td>FALSE</td></tr>\n",
              "\t<tr><td>10</td><td>3, 6, 3</td><td>0</td><td>FALSE</td><td> 4.000000</td><td>FALSE</td></tr>\n",
              "</tbody>\n",
              "</table>\n"
            ],
            "text/markdown": "\nA tibble: 10 × 6\n\n| .trial &lt;dbl&gt; | .outcome &lt;list&gt; | .successes &lt;int&gt; | A &lt;lgl&gt; | avg.roll &lt;dbl&gt; | B &lt;lgl&gt; |\n|---|---|---|---|---|---|\n|  1 | 15, 11, 14 | 0 | FALSE | 13.333333 |  TRUE |\n|  2 | 14, 14, 13 | 0 | FALSE | 13.666667 |  TRUE |\n|  3 | 3, 9, 17 | 0 | FALSE |  9.666667 | FALSE |\n|  4 | 2, 7, 2 | 0 | FALSE |  3.666667 | FALSE |\n|  5 | 9, 16, 19 | 1 |  TRUE | 14.666667 |  TRUE |\n|  6 | 18, 9, 8 | 1 |  TRUE | 11.666667 |  TRUE |\n|  7 | 3, 2, 15 | 0 | FALSE |  6.666667 | FALSE |\n|  8 | 20, 7, 20 | 2 |  TRUE | 15.666667 |  TRUE |\n|  9 | 7, 14, 8 | 0 | FALSE |  9.666667 | FALSE |\n| 10 | 3, 6, 3 | 0 | FALSE |  4.000000 | FALSE |\n\n",
            "text/latex": "A tibble: 10 × 6\n\\begin{tabular}{llllll}\n .trial & .outcome & .successes & A & avg.roll & B\\\\\n <dbl> & <list> & <int> & <lgl> & <dbl> & <lgl>\\\\\n\\hline\n\t  1 & 15, 11, 14 & 0 & FALSE & 13.333333 &  TRUE\\\\\n\t  2 & 14, 14, 13 & 0 & FALSE & 13.666667 &  TRUE\\\\\n\t  3 & 3, 9, 17 & 0 & FALSE &  9.666667 & FALSE\\\\\n\t  4 & 2, 7, 2 & 0 & FALSE &  3.666667 & FALSE\\\\\n\t  5 & 9, 16, 19 & 1 &  TRUE & 14.666667 &  TRUE\\\\\n\t  6 & 18, 9, 8 & 1 &  TRUE & 11.666667 &  TRUE\\\\\n\t  7 & 3, 2, 15 & 0 & FALSE &  6.666667 & FALSE\\\\\n\t  8 & 20, 7, 20 & 2 &  TRUE & 15.666667 &  TRUE\\\\\n\t  9 & 7, 14, 8 & 0 & FALSE &  9.666667 & FALSE\\\\\n\t 10 & 3, 6, 3 & 0 & FALSE &  4.000000 & FALSE\\\\\n\\end{tabular}\n",
            "text/plain": [
              "   .trial .outcome   .successes A     avg.roll  B    \n",
              "1   1     15, 11, 14 0          FALSE 13.333333  TRUE\n",
              "2   2     14, 14, 13 0          FALSE 13.666667  TRUE\n",
              "3   3     3, 9, 17   0          FALSE  9.666667 FALSE\n",
              "4   4     2, 7, 2    0          FALSE  3.666667 FALSE\n",
              "5   5     9, 16, 19  1           TRUE 14.666667  TRUE\n",
              "6   6     18, 9, 8   1           TRUE 11.666667  TRUE\n",
              "7   7     3, 2, 15   0          FALSE  6.666667 FALSE\n",
              "8   8     20, 7, 20  2           TRUE 15.666667  TRUE\n",
              "9   9     7, 14, 8   0          FALSE  9.666667 FALSE\n",
              "10 10     3, 6, 3    0          FALSE  4.000000 FALSE"
            ]
          },
          "metadata": {}
        }
      ]
    },
    {
      "cell_type": "markdown",
      "source": [
        "#### Step 3.  Either `filter` or `group_by` the given event, then estimate the conditional event using `estimate_prob`"
      ],
      "metadata": {
        "id": "VSBzoJEc9Qnn"
      }
    },
    {
      "cell_type": "code",
      "source": [
        "# Option 1 - Filter by given event\n",
        "N <- 10\n",
        "(replicate(N, sample(die, 3, replace = TRUE))\n",
        " %>% col_num_successes(.outcome, \\(x) x >= 18)\n",
        " %>% mutate(A = .successes >= 1)\n",
        " %>% mutate(avg.roll = map_dbl(.outcome, \\(x) mean(x)))\n",
        " %>% mutate(B = avg.roll > 10)\n",
        " %>% filter(A)\n",
        " %>% estimate_prob(B)\n",
        ")"
      ],
      "metadata": {
        "colab": {
          "base_uri": "https://localhost:8080/",
          "height": 163
        },
        "id": "2-bb_yXY9c3j",
        "outputId": "8d696cdf-e0ec-4184-84ae-7058e5e2ee85"
      },
      "execution_count": 39,
      "outputs": [
        {
          "output_type": "display_data",
          "data": {
            "text/html": [
              "<table class=\"dataframe\">\n",
              "<caption>A tibble: 1 × 1</caption>\n",
              "<thead>\n",
              "\t<tr><th scope=col>B</th></tr>\n",
              "\t<tr><th scope=col>&lt;dbl&gt;</th></tr>\n",
              "</thead>\n",
              "<tbody>\n",
              "\t<tr><td>0.75</td></tr>\n",
              "</tbody>\n",
              "</table>\n"
            ],
            "text/markdown": "\nA tibble: 1 × 1\n\n| B &lt;dbl&gt; |\n|---|\n| 0.75 |\n\n",
            "text/latex": "A tibble: 1 × 1\n\\begin{tabular}{l}\n B\\\\\n <dbl>\\\\\n\\hline\n\t 0.75\\\\\n\\end{tabular}\n",
            "text/plain": [
              "  B   \n",
              "1 0.75"
            ]
          },
          "metadata": {}
        }
      ]
    },
    {
      "cell_type": "code",
      "source": [
        "# Option 2 - Group by given event\n",
        "N <- 10\n",
        "(replicate(N, sample(die, 3, replace = TRUE))\n",
        " %>% col_num_successes(.outcome, \\(x) x >= 18)\n",
        " %>% mutate(A = .successes >= 1)\n",
        " %>% mutate(avg.roll = map_dbl(.outcome, \\(x) mean(x)))\n",
        " %>% mutate(B = avg.roll > 10)\n",
        " %>% group_by(A)\n",
        " %>% estimate_prob(B)\n",
        ")"
      ],
      "metadata": {
        "colab": {
          "base_uri": "https://localhost:8080/",
          "height": 177
        },
        "id": "4bXCV8Tf9lhU",
        "outputId": "7161059e-9eea-4407-e386-e7941eaeb96a"
      },
      "execution_count": 40,
      "outputs": [
        {
          "output_type": "display_data",
          "data": {
            "text/html": [
              "<table class=\"dataframe\">\n",
              "<caption>A tibble: 2 × 2</caption>\n",
              "<thead>\n",
              "\t<tr><th scope=col>A</th><th scope=col>B</th></tr>\n",
              "\t<tr><th scope=col>&lt;lgl&gt;</th><th scope=col>&lt;dbl&gt;</th></tr>\n",
              "</thead>\n",
              "<tbody>\n",
              "\t<tr><td>FALSE</td><td>0.4285714</td></tr>\n",
              "\t<tr><td> TRUE</td><td>0.6666667</td></tr>\n",
              "</tbody>\n",
              "</table>\n"
            ],
            "text/markdown": "\nA tibble: 2 × 2\n\n| A &lt;lgl&gt; | B &lt;dbl&gt; |\n|---|---|\n| FALSE | 0.4285714 |\n|  TRUE | 0.6666667 |\n\n",
            "text/latex": "A tibble: 2 × 2\n\\begin{tabular}{ll}\n A & B\\\\\n <lgl> & <dbl>\\\\\n\\hline\n\t FALSE & 0.4285714\\\\\n\t  TRUE & 0.6666667\\\\\n\\end{tabular}\n",
            "text/plain": [
              "  A     B        \n",
              "1 FALSE 0.4285714\n",
              "2  TRUE 0.6666667"
            ]
          },
          "metadata": {}
        }
      ]
    },
    {
      "cell_type": "markdown",
      "source": [
        "#### Step 4. Increase the number of trials to get a good estimate."
      ],
      "metadata": {
        "id": "Dq95yGoZ9yPs"
      }
    },
    {
      "cell_type": "code",
      "source": [
        "\n",
        "# Option 1 - Filter by given event\n",
        "N <- 10000\n",
        "(replicate(N, sample(die, 3, replace = TRUE))\n",
        " %>% col_num_successes(.outcome, \\(x) x >= 18)\n",
        " %>% mutate(A = .successes >= 1)\n",
        " %>% mutate(avg.roll = map_dbl(.outcome, \\(x) mean(x)))\n",
        " %>% mutate(B = avg.roll > 10)\n",
        " %>% filter(A)\n",
        " %>% estimate_prob(B)\n",
        ")"
      ],
      "metadata": {
        "colab": {
          "base_uri": "https://localhost:8080/",
          "height": 163
        },
        "id": "g3aQXD9793-F",
        "outputId": "a5e82a15-3df5-413f-cd75-78c2d9d08015"
      },
      "execution_count": 42,
      "outputs": [
        {
          "output_type": "display_data",
          "data": {
            "text/html": [
              "<table class=\"dataframe\">\n",
              "<caption>A tibble: 1 × 1</caption>\n",
              "<thead>\n",
              "\t<tr><th scope=col>B</th></tr>\n",
              "\t<tr><th scope=col>&lt;dbl&gt;</th></tr>\n",
              "</thead>\n",
              "<tbody>\n",
              "\t<tr><td>0.8433393</td></tr>\n",
              "</tbody>\n",
              "</table>\n"
            ],
            "text/markdown": "\nA tibble: 1 × 1\n\n| B &lt;dbl&gt; |\n|---|\n| 0.8433393 |\n\n",
            "text/latex": "A tibble: 1 × 1\n\\begin{tabular}{l}\n B\\\\\n <dbl>\\\\\n\\hline\n\t 0.8433393\\\\\n\\end{tabular}\n",
            "text/plain": [
              "  B        \n",
              "1 0.8433393"
            ]
          },
          "metadata": {}
        }
      ]
    },
    {
      "cell_type": "markdown",
      "source": [
        "### Technique 2. Group and tabulate to estimate the whole conditional distributions.\n",
        "\n",
        "Suppose that we want to estimate the conditional distribution of some random variable $X$ given another random variable $Y$.  This can be accomplished by\n",
        "\n",
        "1. Creating columns for $X$ and $Y$ using some combination of splitting outcomes and `mutate`.\n",
        "2. Grouping on the given variable $Y$ using `group_by(Y)`\n",
        "3. Using `tabulate(X)` to get a summary table of conditional distributions with one row/distribution per value of $Y$.\n",
        "\n",
        "We will illustrate with an urn problem.\n",
        "\n",
        "### Example 1 - Drawing clips from an urn\n",
        "\n",
        "Suppose we have an urn containing 5 blue and 2 white chips, and we draw three chips at random without replacment.\n",
        "\n",
        "**Task.** Estimate the distribution of the third draw given the color of the first draw."
      ],
      "metadata": {
        "id": "UXWsJ7K_iQLg"
      }
    },
    {
      "cell_type": "markdown",
      "source": [
        "#### Step 1. Set up the simulation for a small number of trials"
      ],
      "metadata": {
        "id": "2SYK4NRvjd49"
      }
    },
    {
      "cell_type": "code",
      "source": [
        "# Sample space\n",
        "urn <- c(rep('B', 5), rep('W', 2))\n",
        "urn"
      ],
      "metadata": {
        "colab": {
          "base_uri": "https://localhost:8080/",
          "height": 54
        },
        "id": "cVfPZ5-7izlJ",
        "outputId": "62d6c1b1-f822-4697-9c9e-2c10b91b1006"
      },
      "execution_count": 12,
      "outputs": [
        {
          "output_type": "display_data",
          "data": {
            "text/html": [
              "<style>\n",
              ".list-inline {list-style: none; margin:0; padding: 0}\n",
              ".list-inline>li {display: inline-block}\n",
              ".list-inline>li:not(:last-child)::after {content: \"\\00b7\"; padding: 0 .5ex}\n",
              "</style>\n",
              "<ol class=list-inline><li>'B'</li><li>'B'</li><li>'B'</li><li>'B'</li><li>'B'</li><li>'W'</li><li>'W'</li></ol>\n"
            ],
            "text/markdown": "1. 'B'\n2. 'B'\n3. 'B'\n4. 'B'\n5. 'B'\n6. 'W'\n7. 'W'\n\n\n",
            "text/latex": "\\begin{enumerate*}\n\\item 'B'\n\\item 'B'\n\\item 'B'\n\\item 'B'\n\\item 'B'\n\\item 'W'\n\\item 'W'\n\\end{enumerate*}\n",
            "text/plain": [
              "[1] \"B\" \"B\" \"B\" \"B\" \"B\" \"W\" \"W\""
            ]
          },
          "metadata": {}
        }
      ]
    },
    {
      "cell_type": "code",
      "source": [
        "# Generate one trial\n",
        "sample(urn, 3, replace = FALSE)"
      ],
      "metadata": {
        "colab": {
          "base_uri": "https://localhost:8080/",
          "height": 54
        },
        "id": "MEC2vPVGi5_r",
        "outputId": "ef1ac2dc-b13a-4b9b-e1c8-4b3a218a364a"
      },
      "execution_count": 13,
      "outputs": [
        {
          "output_type": "display_data",
          "data": {
            "text/html": [
              "<style>\n",
              ".list-inline {list-style: none; margin:0; padding: 0}\n",
              ".list-inline>li {display: inline-block}\n",
              ".list-inline>li:not(:last-child)::after {content: \"\\00b7\"; padding: 0 .5ex}\n",
              "</style>\n",
              "<ol class=list-inline><li>'B'</li><li>'B'</li><li>'W'</li></ol>\n"
            ],
            "text/markdown": "1. 'B'\n2. 'B'\n3. 'W'\n\n\n",
            "text/latex": "\\begin{enumerate*}\n\\item 'B'\n\\item 'B'\n\\item 'W'\n\\end{enumerate*}\n",
            "text/plain": [
              "[1] \"B\" \"B\" \"W\""
            ]
          },
          "metadata": {}
        }
      ]
    },
    {
      "cell_type": "code",
      "source": [
        "# Generate 10 trials and split\n",
        "replicate(10, sample(urn, 3, replace = FALSE), .reshape = 'split')"
      ],
      "metadata": {
        "colab": {
          "base_uri": "https://localhost:8080/",
          "height": 421
        },
        "id": "gZS1oeWfjCQD",
        "outputId": "4b62693d-7606-42be-dacc-b1b35fee1fd8"
      },
      "execution_count": 14,
      "outputs": [
        {
          "output_type": "display_data",
          "data": {
            "text/html": [
              "<table class=\"dataframe\">\n",
              "<caption>A tibble: 10 × 4</caption>\n",
              "<thead>\n",
              "\t<tr><th scope=col>.trial</th><th scope=col>.outcome.1</th><th scope=col>.outcome.2</th><th scope=col>.outcome.3</th></tr>\n",
              "\t<tr><th scope=col>&lt;dbl&gt;</th><th scope=col>&lt;chr&gt;</th><th scope=col>&lt;chr&gt;</th><th scope=col>&lt;chr&gt;</th></tr>\n",
              "</thead>\n",
              "<tbody>\n",
              "\t<tr><td> 1</td><td>W</td><td>B</td><td>B</td></tr>\n",
              "\t<tr><td> 2</td><td>B</td><td>B</td><td>W</td></tr>\n",
              "\t<tr><td> 3</td><td>B</td><td>B</td><td>W</td></tr>\n",
              "\t<tr><td> 4</td><td>B</td><td>B</td><td>B</td></tr>\n",
              "\t<tr><td> 5</td><td>B</td><td>B</td><td>W</td></tr>\n",
              "\t<tr><td> 6</td><td>B</td><td>B</td><td>B</td></tr>\n",
              "\t<tr><td> 7</td><td>B</td><td>B</td><td>W</td></tr>\n",
              "\t<tr><td> 8</td><td>B</td><td>B</td><td>B</td></tr>\n",
              "\t<tr><td> 9</td><td>B</td><td>W</td><td>B</td></tr>\n",
              "\t<tr><td>10</td><td>B</td><td>B</td><td>B</td></tr>\n",
              "</tbody>\n",
              "</table>\n"
            ],
            "text/markdown": "\nA tibble: 10 × 4\n\n| .trial &lt;dbl&gt; | .outcome.1 &lt;chr&gt; | .outcome.2 &lt;chr&gt; | .outcome.3 &lt;chr&gt; |\n|---|---|---|---|\n|  1 | W | B | B |\n|  2 | B | B | W |\n|  3 | B | B | W |\n|  4 | B | B | B |\n|  5 | B | B | W |\n|  6 | B | B | B |\n|  7 | B | B | W |\n|  8 | B | B | B |\n|  9 | B | W | B |\n| 10 | B | B | B |\n\n",
            "text/latex": "A tibble: 10 × 4\n\\begin{tabular}{llll}\n .trial & .outcome.1 & .outcome.2 & .outcome.3\\\\\n <dbl> & <chr> & <chr> & <chr>\\\\\n\\hline\n\t  1 & W & B & B\\\\\n\t  2 & B & B & W\\\\\n\t  3 & B & B & W\\\\\n\t  4 & B & B & B\\\\\n\t  5 & B & B & W\\\\\n\t  6 & B & B & B\\\\\n\t  7 & B & B & W\\\\\n\t  8 & B & B & B\\\\\n\t  9 & B & W & B\\\\\n\t 10 & B & B & B\\\\\n\\end{tabular}\n",
            "text/plain": [
              "   .trial .outcome.1 .outcome.2 .outcome.3\n",
              "1   1     W          B          B         \n",
              "2   2     B          B          W         \n",
              "3   3     B          B          W         \n",
              "4   4     B          B          B         \n",
              "5   5     B          B          W         \n",
              "6   6     B          B          B         \n",
              "7   7     B          B          W         \n",
              "8   8     B          B          B         \n",
              "9   9     B          W          B         \n",
              "10 10     B          B          B         "
            ]
          },
          "metadata": {}
        }
      ]
    },
    {
      "cell_type": "markdown",
      "source": [
        "Note that the task involves the order/location of the draws, which is why we split the outcomes."
      ],
      "metadata": {
        "id": "56x3KUwzjlCD"
      }
    },
    {
      "cell_type": "markdown",
      "source": [
        "#### Step 2. Use `group_by` and `tabulate` to estimate the conditional distribution.\n",
        "\n",
        "**Task.** Estimate the distribution of the third draw given the color of the first draw.\n",
        "\n",
        "Here we will `group_by` the first outcome/color (given) and `tabulate` the third outcome/color (conditional variable of interest)."
      ],
      "metadata": {
        "id": "0AQXNReGkLdW"
      }
    },
    {
      "cell_type": "code",
      "source": [
        "# prototype with a small N\n",
        "N <- 100\n",
        "(replicate(N, sample(urn, 3, replace = FALSE), .reshape = 'split')\n",
        " %>% group_by(.outcome.1)\n",
        " %>% tabulate(.outcome.3)\n",
        ")"
      ],
      "metadata": {
        "colab": {
          "base_uri": "https://localhost:8080/",
          "height": 193
        },
        "id": "3lGA_9PcjuPA",
        "outputId": "b89c3e05-9f7e-4da7-876e-c955c3c3aa0e"
      },
      "execution_count": 15,
      "outputs": [
        {
          "output_type": "stream",
          "name": "stderr",
          "text": [
            "\u001b[1m\u001b[22mAdding missing grouping variables: `.outcome.1`\n"
          ]
        },
        {
          "output_type": "display_data",
          "data": {
            "text/html": [
              "<table class=\"dataframe\">\n",
              "<caption>A tibble: 2 × 3</caption>\n",
              "<thead>\n",
              "\t<tr><th scope=col>.outcome.1</th><th scope=col>X = B</th><th scope=col>X = W</th></tr>\n",
              "\t<tr><th scope=col>&lt;chr&gt;</th><th scope=col>&lt;dbl&gt;</th><th scope=col>&lt;dbl&gt;</th></tr>\n",
              "</thead>\n",
              "<tbody>\n",
              "\t<tr><td>B</td><td>0.6478873</td><td>0.3521127</td></tr>\n",
              "\t<tr><td>W</td><td>0.8965517</td><td>0.1034483</td></tr>\n",
              "</tbody>\n",
              "</table>\n"
            ],
            "text/markdown": "\nA tibble: 2 × 3\n\n| .outcome.1 &lt;chr&gt; | X = B &lt;dbl&gt; | X = W &lt;dbl&gt; |\n|---|---|---|\n| B | 0.6478873 | 0.3521127 |\n| W | 0.8965517 | 0.1034483 |\n\n",
            "text/latex": "A tibble: 2 × 3\n\\begin{tabular}{lll}\n .outcome.1 & X = B & X = W\\\\\n <chr> & <dbl> & <dbl>\\\\\n\\hline\n\t B & 0.6478873 & 0.3521127\\\\\n\t W & 0.8965517 & 0.1034483\\\\\n\\end{tabular}\n",
            "text/plain": [
              "  .outcome.1 X = B     X = W    \n",
              "1 B          0.6478873 0.3521127\n",
              "2 W          0.8965517 0.1034483"
            ]
          },
          "metadata": {}
        }
      ]
    },
    {
      "cell_type": "code",
      "source": [
        "# Good estimates with a large N\n",
        "N <- 100000\n",
        "(replicate(N, sample(urn, 3, replace = FALSE), .reshape = 'split')\n",
        " %>% group_by(.outcome.1)\n",
        " %>% tabulate(.outcome.3)\n",
        ")\n"
      ],
      "metadata": {
        "colab": {
          "base_uri": "https://localhost:8080/",
          "height": 193
        },
        "id": "MFNjNqtMmvEf",
        "outputId": "1b75e04a-17ea-4746-e2ad-512c2f70e538"
      },
      "execution_count": 17,
      "outputs": [
        {
          "output_type": "stream",
          "name": "stderr",
          "text": [
            "\u001b[1m\u001b[22mAdding missing grouping variables: `.outcome.1`\n"
          ]
        },
        {
          "output_type": "display_data",
          "data": {
            "text/html": [
              "<table class=\"dataframe\">\n",
              "<caption>A tibble: 2 × 3</caption>\n",
              "<thead>\n",
              "\t<tr><th scope=col>.outcome.1</th><th scope=col>X = B</th><th scope=col>X = W</th></tr>\n",
              "\t<tr><th scope=col>&lt;chr&gt;</th><th scope=col>&lt;dbl&gt;</th><th scope=col>&lt;dbl&gt;</th></tr>\n",
              "</thead>\n",
              "<tbody>\n",
              "\t<tr><td>B</td><td>0.6659521</td><td>0.3340479</td></tr>\n",
              "\t<tr><td>W</td><td>0.8324136</td><td>0.1675864</td></tr>\n",
              "</tbody>\n",
              "</table>\n"
            ],
            "text/markdown": "\nA tibble: 2 × 3\n\n| .outcome.1 &lt;chr&gt; | X = B &lt;dbl&gt; | X = W &lt;dbl&gt; |\n|---|---|---|\n| B | 0.6659521 | 0.3340479 |\n| W | 0.8324136 | 0.1675864 |\n\n",
            "text/latex": "A tibble: 2 × 3\n\\begin{tabular}{lll}\n .outcome.1 & X = B & X = W\\\\\n <chr> & <dbl> & <dbl>\\\\\n\\hline\n\t B & 0.6659521 & 0.3340479\\\\\n\t W & 0.8324136 & 0.1675864\\\\\n\\end{tabular}\n",
            "text/plain": [
              "  .outcome.1 X = B     X = W    \n",
              "1 B          0.6659521 0.3340479\n",
              "2 W          0.8324136 0.1675864"
            ]
          },
          "metadata": {}
        }
      ]
    },
    {
      "cell_type": "markdown",
      "source": [
        "### Understanding the output\n",
        "\n",
        "Note that the given/grouped variable has one entry per row, and the conditional variable has one column per value.  This means that **each row represents the conditional distribution for the given value of that row.**\n",
        "\n",
        "Consider the following results.\n",
        "\n",
        "|.outcome.1 |\tX = B\t    | X = W|\n",
        "|-----------|-----------|------|\n",
        "|B\t        |0.6659521\t|0.3340479|\n",
        "|W\t        |0.8324136\t|0.1675864|\n",
        "\n",
        "We see that, for example, $P(X = B | Y = W)\\approx 0.1676$\n"
      ],
      "metadata": {
        "id": "GTUmyIaPrZnw"
      }
    },
    {
      "cell_type": "markdown",
      "source": [
        "\n",
        "## <font color=\"red\"> Exercise 1.2.2 </font>\n",
        "Consider the experiment of rolling a 6-sided die twice.  Let $X$ represent the sum of the rolls and $Y$ represent the maximum of the two outcomes.  Estimate the conditional distributions of $X$ for each given value of $Y$."
      ],
      "metadata": {
        "id": "93ju7XL_vVeA"
      }
    },
    {
      "cell_type": "code",
      "source": [
        "# Your code here"
      ],
      "metadata": {
        "id": "RncnJCqfvfap"
      },
      "execution_count": 1,
      "outputs": []
    },
    {
      "cell_type": "markdown",
      "source": [
        "## Aside - Debugging a pipe\n",
        "\n",
        "You probably noticed that I organize my pipes by\n",
        "1. wrapping the pipe in parentheses, and\n",
        "2. Putting the `%>%` operator at the start of each line.\n",
        "\n",
        "While this is not the standard style for pipes in `R`, I believe this approach makes them easier to debug.  \n",
        "\n",
        "### Two techniues for debugging a pipe\n",
        "\n",
        "I use two main approaches when debugging a pipe.\n",
        "1. Commenting out later steps to inspect previous results.\n",
        "2. Using `walk(str)` to take a peek at intermediate values.\n",
        "\n",
        "Let's illustrate on our previous pipe."
      ],
      "metadata": {
        "id": "I8E9jNuhnhqS"
      }
    },
    {
      "cell_type": "markdown",
      "source": [
        "#### Commenting out previous results.\n",
        "\n",
        "This approach involves commenting out all both the first step, then repeating the following steps until we have correct code.\n",
        "1. Inspect the current output and debug as needed\n",
        "2. Uncomment the next line and repeat.\n",
        "\n",
        "Note that most platforms allow you to use `COMMAND/CONTROL + /` to comment the current line or selection.\n",
        "\n",
        "Let's illustrate the process"
      ],
      "metadata": {
        "id": "25uLTpoGoOMt"
      }
    },
    {
      "cell_type": "markdown",
      "source": [
        "#### 1. Verify the first line\n",
        "\n",
        "Be sure to reduce the number of trials to make the output managable"
      ],
      "metadata": {
        "id": "lSP_R8ArpU8j"
      }
    },
    {
      "cell_type": "code",
      "source": [
        "N <- 5\n",
        "(replicate(N, sample(urn, 3, replace = FALSE), .reshape = 'split')\n",
        "#  %>% group_by(.outcome.1)\n",
        "#  %>% tabulate(.outcome.3)\n",
        ")\n"
      ],
      "metadata": {
        "colab": {
          "base_uri": "https://localhost:8080/",
          "height": 268
        },
        "id": "lfPSwpwRo-y_",
        "outputId": "66398d94-1751-42fa-d5aa-f5d8df8cfe25"
      },
      "execution_count": 21,
      "outputs": [
        {
          "output_type": "display_data",
          "data": {
            "text/html": [
              "<table class=\"dataframe\">\n",
              "<caption>A tibble: 5 × 4</caption>\n",
              "<thead>\n",
              "\t<tr><th scope=col>.trial</th><th scope=col>.outcome.1</th><th scope=col>.outcome.2</th><th scope=col>.outcome.3</th></tr>\n",
              "\t<tr><th scope=col>&lt;dbl&gt;</th><th scope=col>&lt;chr&gt;</th><th scope=col>&lt;chr&gt;</th><th scope=col>&lt;chr&gt;</th></tr>\n",
              "</thead>\n",
              "<tbody>\n",
              "\t<tr><td>1</td><td>B</td><td>B</td><td>B</td></tr>\n",
              "\t<tr><td>2</td><td>W</td><td>B</td><td>B</td></tr>\n",
              "\t<tr><td>3</td><td>B</td><td>B</td><td>W</td></tr>\n",
              "\t<tr><td>4</td><td>B</td><td>B</td><td>W</td></tr>\n",
              "\t<tr><td>5</td><td>B</td><td>B</td><td>W</td></tr>\n",
              "</tbody>\n",
              "</table>\n"
            ],
            "text/markdown": "\nA tibble: 5 × 4\n\n| .trial &lt;dbl&gt; | .outcome.1 &lt;chr&gt; | .outcome.2 &lt;chr&gt; | .outcome.3 &lt;chr&gt; |\n|---|---|---|---|\n| 1 | B | B | B |\n| 2 | W | B | B |\n| 3 | B | B | W |\n| 4 | B | B | W |\n| 5 | B | B | W |\n\n",
            "text/latex": "A tibble: 5 × 4\n\\begin{tabular}{llll}\n .trial & .outcome.1 & .outcome.2 & .outcome.3\\\\\n <dbl> & <chr> & <chr> & <chr>\\\\\n\\hline\n\t 1 & B & B & B\\\\\n\t 2 & W & B & B\\\\\n\t 3 & B & B & W\\\\\n\t 4 & B & B & W\\\\\n\t 5 & B & B & W\\\\\n\\end{tabular}\n",
            "text/plain": [
              "  .trial .outcome.1 .outcome.2 .outcome.3\n",
              "1 1      B          B          B         \n",
              "2 2      W          B          B         \n",
              "3 3      B          B          W         \n",
              "4 4      B          B          W         \n",
              "5 5      B          B          W         "
            ]
          },
          "metadata": {}
        }
      ]
    },
    {
      "cell_type": "markdown",
      "source": [
        "#### 2. Uncomment and verify the second line"
      ],
      "metadata": {
        "id": "3e7G7vJgpaWa"
      }
    },
    {
      "cell_type": "code",
      "source": [
        "N <- 5\n",
        "(replicate(N, sample(urn, 3, replace = FALSE), .reshape = 'split')\n",
        " %>% group_by(.outcome.1)\n",
        "#  %>% tabulate(.outcome.3)\n",
        ")"
      ],
      "metadata": {
        "colab": {
          "base_uri": "https://localhost:8080/",
          "height": 268
        },
        "id": "qJA83qLhpEVp",
        "outputId": "299f9430-4729-4420-ed5a-937e7dd63129"
      },
      "execution_count": 23,
      "outputs": [
        {
          "output_type": "display_data",
          "data": {
            "text/html": [
              "<table class=\"dataframe\">\n",
              "<caption>A grouped_df: 5 × 4</caption>\n",
              "<thead>\n",
              "\t<tr><th scope=col>.trial</th><th scope=col>.outcome.1</th><th scope=col>.outcome.2</th><th scope=col>.outcome.3</th></tr>\n",
              "\t<tr><th scope=col>&lt;dbl&gt;</th><th scope=col>&lt;chr&gt;</th><th scope=col>&lt;chr&gt;</th><th scope=col>&lt;chr&gt;</th></tr>\n",
              "</thead>\n",
              "<tbody>\n",
              "\t<tr><td>1</td><td>B</td><td>W</td><td>B</td></tr>\n",
              "\t<tr><td>2</td><td>B</td><td>B</td><td>B</td></tr>\n",
              "\t<tr><td>3</td><td>B</td><td>W</td><td>B</td></tr>\n",
              "\t<tr><td>4</td><td>B</td><td>B</td><td>B</td></tr>\n",
              "\t<tr><td>5</td><td>B</td><td>B</td><td>B</td></tr>\n",
              "</tbody>\n",
              "</table>\n"
            ],
            "text/markdown": "\nA grouped_df: 5 × 4\n\n| .trial &lt;dbl&gt; | .outcome.1 &lt;chr&gt; | .outcome.2 &lt;chr&gt; | .outcome.3 &lt;chr&gt; |\n|---|---|---|---|\n| 1 | B | W | B |\n| 2 | B | B | B |\n| 3 | B | W | B |\n| 4 | B | B | B |\n| 5 | B | B | B |\n\n",
            "text/latex": "A grouped\\_df: 5 × 4\n\\begin{tabular}{llll}\n .trial & .outcome.1 & .outcome.2 & .outcome.3\\\\\n <dbl> & <chr> & <chr> & <chr>\\\\\n\\hline\n\t 1 & B & W & B\\\\\n\t 2 & B & B & B\\\\\n\t 3 & B & W & B\\\\\n\t 4 & B & B & B\\\\\n\t 5 & B & B & B\\\\\n\\end{tabular}\n",
            "text/plain": [
              "  .trial .outcome.1 .outcome.2 .outcome.3\n",
              "1 1      B          W          B         \n",
              "2 2      B          B          B         \n",
              "3 3      B          W          B         \n",
              "4 4      B          B          B         \n",
              "5 5      B          B          B         "
            ]
          },
          "metadata": {}
        }
      ]
    },
    {
      "cell_type": "markdown",
      "source": [
        "#### 3. Uncomment verify the last line\n",
        "\n",
        "Once you are confident that your code is correct, you can move to a large number of trials."
      ],
      "metadata": {
        "id": "OaYO7PmFpmG-"
      }
    },
    {
      "cell_type": "code",
      "source": [
        "N <- 5\n",
        "(replicate(N, sample(urn, 3, replace = FALSE), .reshape = 'split')\n",
        " %>% group_by(.outcome.1)\n",
        " %>% tabulate(.outcome.3)\n",
        ")"
      ],
      "metadata": {
        "colab": {
          "base_uri": "https://localhost:8080/",
          "height": 193
        },
        "id": "SePRaPeNpOv5",
        "outputId": "66fc7288-1cd7-43f1-ce5e-4847d6fea062"
      },
      "execution_count": 24,
      "outputs": [
        {
          "output_type": "stream",
          "name": "stderr",
          "text": [
            "\u001b[1m\u001b[22mAdding missing grouping variables: `.outcome.1`\n"
          ]
        },
        {
          "output_type": "display_data",
          "data": {
            "text/html": [
              "<table class=\"dataframe\">\n",
              "<caption>A tibble: 2 × 3</caption>\n",
              "<thead>\n",
              "\t<tr><th scope=col>.outcome.1</th><th scope=col>X = B</th><th scope=col>X = W</th></tr>\n",
              "\t<tr><th scope=col>&lt;chr&gt;</th><th scope=col>&lt;dbl&gt;</th><th scope=col>&lt;dbl&gt;</th></tr>\n",
              "</thead>\n",
              "<tbody>\n",
              "\t<tr><td>B</td><td>0.5</td><td>0.5</td></tr>\n",
              "\t<tr><td>W</td><td>1.0</td><td>0.0</td></tr>\n",
              "</tbody>\n",
              "</table>\n"
            ],
            "text/markdown": "\nA tibble: 2 × 3\n\n| .outcome.1 &lt;chr&gt; | X = B &lt;dbl&gt; | X = W &lt;dbl&gt; |\n|---|---|---|\n| B | 0.5 | 0.5 |\n| W | 1.0 | 0.0 |\n\n",
            "text/latex": "A tibble: 2 × 3\n\\begin{tabular}{lll}\n .outcome.1 & X = B & X = W\\\\\n <chr> & <dbl> & <dbl>\\\\\n\\hline\n\t B & 0.5 & 0.5\\\\\n\t W & 1.0 & 0.0\\\\\n\\end{tabular}\n",
            "text/plain": [
              "  .outcome.1 X = B X = W\n",
              "1 B          0.5   0.5  \n",
              "2 W          1.0   0.0  "
            ]
          },
          "metadata": {}
        }
      ]
    },
    {
      "cell_type": "markdown",
      "source": [
        "### Technique 2 - Inspecting intermediate results using `walk(str)`\n",
        "\n",
        "Sometimes, especially when aggregating, it is nice to be able to peek at an intermediate result.  The easiest way to do this is by inserting a temporary `walk(str)` into out pipe.\n",
        "\n",
        "Let's run the last pipe again, but peek and the table before the group and tabulate steps"
      ],
      "metadata": {
        "id": "8ZLNwQ58p2OG"
      }
    },
    {
      "cell_type": "code",
      "source": [
        "\n",
        "(replicate(N, sample(urn, 3, replace = FALSE), .reshape = 'split')\n",
        " %>% walk(str)\n",
        " %>% group_by(.outcome.1)\n",
        " %>% tabulate(.outcome.3)\n",
        ")"
      ],
      "metadata": {
        "colab": {
          "base_uri": "https://localhost:8080/",
          "height": 260
        },
        "id": "bg-MhbqOqZvP",
        "outputId": "66f37b4b-e6a2-4d6a-a4f9-e57fcc15f0c1"
      },
      "execution_count": 25,
      "outputs": [
        {
          "output_type": "stream",
          "name": "stdout",
          "text": [
            " num [1:5] 1 2 3 4 5\n",
            " chr [1:5] \"W\" \"B\" \"B\" \"B\" \"B\"\n",
            " chr [1:5] \"B\" \"B\" \"B\" \"W\" \"B\"\n",
            " chr [1:5] \"B\" \"B\" \"W\" \"B\" \"W\"\n"
          ]
        },
        {
          "output_type": "stream",
          "name": "stderr",
          "text": [
            "\u001b[1m\u001b[22mAdding missing grouping variables: `.outcome.1`\n"
          ]
        },
        {
          "output_type": "display_data",
          "data": {
            "text/html": [
              "<table class=\"dataframe\">\n",
              "<caption>A tibble: 2 × 3</caption>\n",
              "<thead>\n",
              "\t<tr><th scope=col>.outcome.1</th><th scope=col>X = B</th><th scope=col>X = W</th></tr>\n",
              "\t<tr><th scope=col>&lt;chr&gt;</th><th scope=col>&lt;dbl&gt;</th><th scope=col>&lt;dbl&gt;</th></tr>\n",
              "</thead>\n",
              "<tbody>\n",
              "\t<tr><td>B</td><td>0.5</td><td>0.5</td></tr>\n",
              "\t<tr><td>W</td><td>1.0</td><td>0.0</td></tr>\n",
              "</tbody>\n",
              "</table>\n"
            ],
            "text/markdown": "\nA tibble: 2 × 3\n\n| .outcome.1 &lt;chr&gt; | X = B &lt;dbl&gt; | X = W &lt;dbl&gt; |\n|---|---|---|\n| B | 0.5 | 0.5 |\n| W | 1.0 | 0.0 |\n\n",
            "text/latex": "A tibble: 2 × 3\n\\begin{tabular}{lll}\n .outcome.1 & X = B & X = W\\\\\n <chr> & <dbl> & <dbl>\\\\\n\\hline\n\t B & 0.5 & 0.5\\\\\n\t W & 1.0 & 0.0\\\\\n\\end{tabular}\n",
            "text/plain": [
              "  .outcome.1 X = B X = W\n",
              "1 B          0.5   0.5  \n",
              "2 W          1.0   0.0  "
            ]
          },
          "metadata": {}
        }
      ]
    },
    {
      "cell_type": "markdown",
      "source": [
        "#### Understanding the output\n",
        "\n",
        "When using `walk(str)` the structure of the intermediate data gets printed first, then we see the result of the entire computations.  Note that `walk` does not change the data flowing through the pipeline, and instead passes on the result after performing some side effect, in this case printing the structure."
      ],
      "metadata": {
        "id": "nDWEbaCsqfXr"
      }
    },
    {
      "cell_type": "code",
      "source": [
        "## Aside - Debugging a pipe\n",
        "\n",
        "You probably noticed that I organize my pipes by\n",
        "1. wrapping the pipe in"
      ],
      "metadata": {
        "id": "H5hI8sa7my8I"
      },
      "execution_count": null,
      "outputs": []
    }
  ]
}