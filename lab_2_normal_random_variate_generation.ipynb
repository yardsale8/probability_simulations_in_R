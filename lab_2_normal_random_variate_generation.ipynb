{
  "nbformat": 4,
  "nbformat_minor": 0,
  "metadata": {
    "colab": {
      "provenance": [],
      "authorship_tag": "ABX9TyNh7e6RZLS+p4b4oNBQ9Tfw",
      "include_colab_link": true
    },
    "kernelspec": {
      "name": "ir",
      "display_name": "R"
    },
    "language_info": {
      "name": "R"
    }
  },
  "cells": [
    {
      "cell_type": "markdown",
      "metadata": {
        "id": "view-in-github",
        "colab_type": "text"
      },
      "source": [
        "<a href=\"https://colab.research.google.com/github/yardsale8/probability_simulations_in_R/blob/main/lab_2_normal_random_variate_generation.ipynb\" target=\"_parent\"><img src=\"https://colab.research.google.com/assets/colab-badge.svg\" alt=\"Open In Colab\"/></a>"
      ]
    },
    {
      "cell_type": "code",
      "execution_count": null,
      "metadata": {
        "id": "7CJJSFuuGnXN"
      },
      "outputs": [],
      "source": [
        "library(tidyverse)\n",
        "library(devtools)\n",
        "install_github('yardsale8/purrrfect', force = TRUE)\n",
        "library(purrrfect)"
      ]
    },
    {
      "cell_type": "markdown",
      "source": [
        "# Lab 2 - Normal Random Variate Generation\n",
        "\n",
        "In this lab, we will\n",
        "\n",
        "1. Explore methods for generating variates for normal distribution, and\n",
        "2. Practice plotting the estimated distributions."
      ],
      "metadata": {
        "id": "pCMXRuXaG9xx"
      }
    },
    {
      "cell_type": "markdown",
      "source": [
        "## Review - Previous Methods\n",
        "\n",
        "In a previous notebooks--specifically on plotting estimated distributions, but also earlier--we explored the following approaches for generating random variates.\n",
        "\n",
        "1. Binomial, geometric, and negative binomial data using sampling with replacement,\n",
        "2. Hypergeometric data by sampling without replacement,\n",
        "3. Generating exponential random variates by transforming $U\\sim uniform(0,1)$, and\n",
        "4. Generating gamma random variates by summing the transformed uniform variables.\n",
        "\n",
        "In this lab, we will explore [various approximate and exact methods for generating data from a normal distribution](https://en.wikipedia.org/wiki/Normal_distribution#Computational_methods)."
      ],
      "metadata": {
        "id": "2vggkVa2HQPC"
      }
    },
    {
      "cell_type": "markdown",
      "source": [
        "## The Inverse CDF Method.\n",
        "\n",
        "The first approach for generating normal data is [the probability integral transformation](https://en.wikipedia.org/wiki/Probability_integral_transform), aka the inverse CDF method.\n",
        "\n",
        "**The inverse CDF method.** If $U\\sim uniform(0,1)$ and $F$ is the CDF of some continuous distribution, then the transformation $X=F^{-1}(U)$ will generate data from the distribution associated with $F$."
      ],
      "metadata": {
        "id": "YkXEmm1oI0Wx"
      }
    },
    {
      "cell_type": "markdown",
      "source": [
        "### Problem 1 - Generating normal data using the inverse CDF method.\n",
        "\n",
        "Let $X\\sim norm(\\mu, \\sigma)$.  Recall that the `R` `qnorm` function represents the inverse CDF of the normal distribution, that is `qnorm(p, mu, sd)` returns the (unique) value of $x$ such that $F(x) = P(X \\le x) = p$.  \n",
        "\n",
        "First, we will practice this approach for a specific distribution.\n"
      ],
      "metadata": {
        "id": "g4o3zOGUJ3RX"
      }
    },
    {
      "cell_type": "markdown",
      "source": [
        "#### Part 1 - Simulating heights of women\n",
        "Let's use this method to approximate normal data. It has be shown that women in their 20s have heights (in inches) that are approximately $norm(67.5, 2.5)$.  Use the inverse CDF method to simulate data from this distribution by,\n",
        "\n",
        "1. Generating a column of $unif(0,1)$ random variates,\n",
        "2. Mapping the `qnorm` function with the appropriate mean and standard deviation onto this column.\n",
        "\n",
        "\n"
      ],
      "metadata": {
        "id": "lxy2MRCEKnHy"
      }
    },
    {
      "cell_type": "code",
      "source": [
        "# Your code here"
      ],
      "metadata": {
        "id": "bUkvGUdMcE8_"
      },
      "execution_count": 16,
      "outputs": []
    },
    {
      "cell_type": "markdown",
      "source": [
        "#### Part 2 - Estimate distributional parameters\n",
        "Estimate the mean and SD of the distribution and compare to the desired values."
      ],
      "metadata": {
        "id": "vrLYQJcbRLXh"
      }
    },
    {
      "cell_type": "code",
      "source": [
        "# Your code here"
      ],
      "metadata": {
        "id": "dDadVH-zRMIv"
      },
      "execution_count": 7,
      "outputs": []
    },
    {
      "cell_type": "markdown",
      "source": [
        "#### Part 3 - Plot the estimated distribution\n",
        "1. Plot the estimated density,\n",
        "2. Plot the empirical vs. theoretical CDFs, and\n",
        "3. Create a p-p plot."
      ],
      "metadata": {
        "id": "9Ge9utN8RPTe"
      }
    },
    {
      "cell_type": "code",
      "source": [
        "# Your code here"
      ],
      "metadata": {
        "id": "obcBq-oQRQEe"
      },
      "execution_count": 8,
      "outputs": []
    },
    {
      "cell_type": "markdown",
      "source": [
        "### Problem 2 - A 2-parameter simulation\n",
        "Repeat the approach in previous problem, but this time generate data over a grid of values for combinations of the mean and standard deviation.\n",
        "\n",
        "**Hint.** Your should be able to adapt your code from the last problem (one of the reasons for first solve a simple, specific problem first."
      ],
      "metadata": {
        "id": "-mBOQdUkL2pm"
      }
    },
    {
      "cell_type": "markdown",
      "source": [
        "#### Part 1 - Generate the data over the parameter space"
      ],
      "metadata": {
        "id": "XolgUfvPYsE6"
      }
    },
    {
      "cell_type": "code",
      "source": [
        "# Your code here"
      ],
      "metadata": {
        "id": "eeVXr6ZdKe3v"
      },
      "execution_count": null,
      "outputs": []
    },
    {
      "cell_type": "markdown",
      "source": [
        "#### Part 2 - Group by and estimate the distributional parameters"
      ],
      "metadata": {
        "id": "I-CsYHBsYzVz"
      }
    },
    {
      "cell_type": "code",
      "source": [
        "# Your code here"
      ],
      "metadata": {
        "id": "1x6KF50IY6YC"
      },
      "execution_count": 14,
      "outputs": []
    },
    {
      "cell_type": "markdown",
      "source": [
        "#### Part 3 - Plot a facet grid of estimated distributions."
      ],
      "metadata": {
        "id": "PfiOT7LCY8oU"
      }
    },
    {
      "cell_type": "code",
      "source": [
        "# Your code here"
      ],
      "metadata": {
        "id": "B9S2PnVeY8HT"
      },
      "execution_count": null,
      "outputs": []
    },
    {
      "cell_type": "markdown",
      "source": [
        "## The Irwin-Hall approach\n",
        "\n",
        "An easy and fast approximate method for generating standard normal data is using [the Irwin-Hall distribution](https://en.wikipedia.org/wiki/Irwin%E2%80%93Hall_distribution#Approximating_a_Normal_distribution), which is generated using uniform random variates."
      ],
      "metadata": {
        "id": "8GGDgsFXUC4Y"
      }
    },
    {
      "cell_type": "markdown",
      "source": [
        "### Problem 3 - Generating approximately standard normal data"
      ],
      "metadata": {
        "id": "UZtZYyjPXXtz"
      }
    },
    {
      "cell_type": "markdown",
      "source": [
        "#### Part 1 - Generate approximate normal data\n",
        "\n",
        "To generate data from the Irwin-Hall distribution,\n",
        "\n",
        "1. Generate vectors of 12 $uniform(0,1)$ random variables,\n",
        "2. Add the 12 values and subtract 6."
      ],
      "metadata": {
        "id": "6YqAFPNOUdva"
      }
    },
    {
      "cell_type": "code",
      "source": [
        "# Your code here"
      ],
      "metadata": {
        "id": "Ared_d30UdNy"
      },
      "execution_count": 11,
      "outputs": []
    },
    {
      "cell_type": "markdown",
      "source": [
        "#### Part 2 - Verify distributional parameters\n",
        "\n",
        "Estimate the mean and SD and compare to the expected values (0 and 1, respectively)."
      ],
      "metadata": {
        "id": "Gf7I4S-sU5x8"
      }
    },
    {
      "cell_type": "code",
      "source": [
        "# Your code here"
      ],
      "metadata": {
        "id": "YUFA6xApU5Uj"
      },
      "execution_count": 12,
      "outputs": []
    },
    {
      "cell_type": "markdown",
      "source": [
        "#### Part 3 - Plot the estimated distribution\n",
        "\n",
        "1. Plot the estimated density,\n",
        "2. Plot the empirical vs. theoretical CDFs, and\n",
        "3. Create a p-p plot."
      ],
      "metadata": {
        "id": "biMUyJbfVJ2k"
      }
    },
    {
      "cell_type": "code",
      "source": [
        "# Your code here"
      ],
      "metadata": {
        "id": "rA3lkPZFVJci"
      },
      "execution_count": 13,
      "outputs": []
    },
    {
      "cell_type": "markdown",
      "source": [
        "## The Box-Muller Method\n",
        "\n",
        "Suppose $U_1$ and $U_2$ are independent samples chosen from the uniform distribution on the unit interval $(0, 1)$. Let\n",
        "$$Z_0 = R \\cos(\\theta) = − 2\\ln{U_1}\\cos\\left( 2\\pi U_2\\right)$$\n",
        "and\n",
        "$$Z_1 = R \\sin(\\theta) = − 2\\ln{U_1}\\sin\\left( 2\\pi U_2\\right)$$\n",
        "\n",
        "Then $Z_0$ and $Z_1$ are independent random variables with a standard normal distribution."
      ],
      "metadata": {
        "id": "cLw1FSo8McH6"
      }
    },
    {
      "cell_type": "markdown",
      "source": [
        "### Problem 4 - A simulation using the Box-Muller method\n",
        "\n",
        "Perform a simulation to generate data using the Box-Muller method, then verify the properties of the resulting distribution."
      ],
      "metadata": {
        "id": "V7vkB98SRflL"
      }
    },
    {
      "cell_type": "markdown",
      "source": [
        "#### Part 1 - Generate the data\n",
        "\n",
        "1. Generate two columns of $unif(0,1)$ random variates,\n",
        "2. Perform the transformations described above to generate two columns of standard normal data.\n",
        "\n"
      ],
      "metadata": {
        "id": "0McNBLdSN8bK"
      }
    },
    {
      "cell_type": "code",
      "source": [
        "# Your code here"
      ],
      "metadata": {
        "id": "TeQVmj6FNyqj"
      },
      "execution_count": 9,
      "outputs": []
    },
    {
      "cell_type": "markdown",
      "source": [
        "#### Part 2 - Estimate distributional parameters. Summary statistics\n",
        "Estimate the following for the distributions for $Z_0$ and $Z_1$.\n",
        "\n",
        "1. Estimate the means and verify that $E(Z_0) = E(Z_1) \\approx 0$\n",
        "2. Estimate the SD and verify that $SD(Z_0) = SD(Z_1) \\approx 1$\n",
        "3. Estimate the correlation between $Z_0$ and $Z_1$ using the `cor` function to verify independence*.\n",
        "\n",
        "<font size=1> *usually correlation isn't enough to verify independance, but it suffices for the normal distribution.</font>\n"
      ],
      "metadata": {
        "id": "Q1MlvMwRQRqJ"
      }
    },
    {
      "cell_type": "code",
      "source": [
        "# Your code here"
      ],
      "metadata": {
        "id": "U8VG1QQnPgYQ"
      },
      "execution_count": 10,
      "outputs": []
    },
    {
      "cell_type": "markdown",
      "source": [
        "\n",
        "#### Part 3 - Plotting the distributions.\n",
        "\n",
        "1. First, create a scatter plot of the two variables and verify the independence*,\n",
        "2. To create faceted plots of both distributions, you need to stack the $Z_0$ and $Z_1$ columns using `gather(cols=c(z0, z1))` (where `z0` and `z1` are the names of the columns containing the two normal variates),\n",
        "3. Plot the estimated densities for each variable,\n",
        "4. Plot the empirical vs. theoretical CDFs of each variable, and\n",
        "5. Create a p-p plots for each variable.\n",
        "\n",
        "Note that your will want to facet/group-by the column containing the variable names.\n",
        "\n",
        "<font size=3> *use `geom_point` with an `aes` mapping each variable to `x` and `y`, respectively.   Independent standard normal random variates should result in a circular cloud of points centered at the origin.</font>"
      ],
      "metadata": {
        "id": "jZ7gE5oZQRYq"
      }
    },
    {
      "cell_type": "code",
      "source": [
        "# Your coder here"
      ],
      "metadata": {
        "id": "WXmujb_pPjK7"
      },
      "execution_count": 6,
      "outputs": []
    },
    {
      "cell_type": "markdown",
      "source": [
        "## Tranforming from Standard to Regular Normal Distributions.\n",
        "\n",
        "If $Z\\sim norm(0,1)$ and let $Y = \\mu + \\sigma Z$, then $Y\\sim norm(\\mu, \\sigma)$."
      ],
      "metadata": {
        "id": "TH8XNcY3ZWWH"
      }
    },
    {
      "cell_type": "markdown",
      "source": [
        "### Problem 5 - Generating regular normal data.\n",
        "\n",
        "Finally, we will perform a parametric simulation to verify the transformation.  "
      ],
      "metadata": {
        "id": "rsMhCDkiZucn"
      }
    },
    {
      "cell_type": "markdown",
      "source": [
        "#### Part 1 - Generate data over a parameter space.\n",
        "\n",
        "1. Create a parameter space over a grid of $\\mu$ and $\\sigma$ values,\n",
        "2. Generate a column of standard normal random variates,\n",
        "3. Perform the transformation by mapping the respective values of $\\mu$ and $\\sigma$ to create a $Y$ column.\n",
        "\n"
      ],
      "metadata": {
        "id": "sxNI78x6Z-61"
      }
    },
    {
      "cell_type": "code",
      "source": [],
      "metadata": {
        "id": "rZqIK1X4Z-dg"
      },
      "execution_count": null,
      "outputs": []
    },
    {
      "cell_type": "markdown",
      "source": [
        "#### Part 2 - Estimate distributional parameters.\n",
        "\n",
        "Group and summarize to estimate the mean and SD of each distribution, then compare to the desired values."
      ],
      "metadata": {
        "id": "DSldqrmAah2z"
      }
    },
    {
      "cell_type": "code",
      "source": [
        "# Your code here"
      ],
      "metadata": {
        "id": "lZrr__k1ZtxB"
      },
      "execution_count": null,
      "outputs": []
    },
    {
      "cell_type": "markdown",
      "source": [
        "#### Part 3 - Plot the estimated distribution\n",
        "\n",
        "Create a faceted grid of plots of the estimated distributions."
      ],
      "metadata": {
        "id": "d6QJrW2wa6it"
      }
    },
    {
      "cell_type": "code",
      "source": [
        "# Your code here"
      ],
      "metadata": {
        "id": "S7BV1vlcbIpq"
      },
      "execution_count": 15,
      "outputs": []
    }
  ]
}