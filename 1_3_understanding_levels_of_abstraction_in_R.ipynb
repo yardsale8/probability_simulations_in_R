{
  "nbformat": 4,
  "nbformat_minor": 0,
  "metadata": {
    "colab": {
      "provenance": [],
      "authorship_tag": "ABX9TyMbSA0COay1N2iEiXXIispJ",
      "include_colab_link": true
    },
    "kernelspec": {
      "name": "ir",
      "display_name": "R"
    },
    "language_info": {
      "name": "R"
    }
  },
  "cells": [
    {
      "cell_type": "markdown",
      "metadata": {
        "id": "view-in-github",
        "colab_type": "text"
      },
      "source": [
        "<a href=\"https://colab.research.google.com/github/yardsale8/probability_simulations_in_R/blob/main/1_3_understanding_levels_of_abstraction_in_R.ipynb\" target=\"_parent\"><img src=\"https://colab.research.google.com/assets/colab-badge.svg\" alt=\"Open In Colab\"/></a>"
      ]
    },
    {
      "cell_type": "code",
      "execution_count": 1,
      "metadata": {
        "colab": {
          "base_uri": "https://localhost:8080/"
        },
        "id": "uVA0zS42qk3P",
        "outputId": "98e5c129-4330-4656-baa6-be7196422a50"
      },
      "outputs": [
        {
          "output_type": "stream",
          "name": "stderr",
          "text": [
            "\n",
            "Attaching package: ‘dplyr’\n",
            "\n",
            "\n",
            "The following objects are masked from ‘package:stats’:\n",
            "\n",
            "    filter, lag\n",
            "\n",
            "\n",
            "The following objects are masked from ‘package:base’:\n",
            "\n",
            "    intersect, setdiff, setequal, union\n",
            "\n",
            "\n",
            "Loading required package: usethis\n",
            "\n",
            "Downloading GitHub repo yardsale8/purrrfect@HEAD\n",
            "\n"
          ]
        },
        {
          "output_type": "stream",
          "name": "stdout",
          "text": [
            "\n",
            "\u001b[36m──\u001b[39m \u001b[36mR CMD build\u001b[39m \u001b[36m─────────────────────────────────────────────────────────────────\u001b[39m\n",
            "* checking for file ‘/tmp/RtmpASLmoT/remotes27e39574508/yardsale8-purrrfect-d91fae7/DESCRIPTION’ ... OK\n",
            "* preparing ‘purrrfect’:\n",
            "* checking DESCRIPTION meta-information ... OK\n",
            "* checking for LF line-endings in source and make files and shell scripts\n",
            "* checking for empty or unneeded directories\n",
            "* building ‘purrrfect_1.0.1.tar.gz’\n",
            "\n"
          ]
        },
        {
          "output_type": "stream",
          "name": "stderr",
          "text": [
            "Installing package into ‘/usr/local/lib/R/site-library’\n",
            "(as ‘lib’ is unspecified)\n",
            "\n",
            "\n",
            "Attaching package: ‘purrrfect’\n",
            "\n",
            "\n",
            "The following objects are masked from ‘package:base’:\n",
            "\n",
            "    replicate, tabulate\n",
            "\n",
            "\n"
          ]
        }
      ],
      "source": [
        "library(dplyr)\n",
        "library(tidyr)\n",
        "library(purrr)\n",
        "library(devtools)\n",
        "install_github('yardsale8/purrrfect', force = TRUE)\n",
        "library(purrrfect)"
      ]
    },
    {
      "cell_type": "markdown",
      "source": [
        "# Creating Random Variables with `mutate` and `map`\n",
        "\n",
        "In previous notebooks, we performed simulations that resulted table such that\n",
        "1. There was row per simulated trial, and\n",
        "2. The outcomes of each trial were stored in a list column.\n",
        "\n",
        "In this notebook, we will explore techniques for turning a list outcome column into a random variable, that is a number."
      ],
      "metadata": {
        "id": "zOch5HYjqyD8"
      }
    },
    {
      "cell_type": "markdown",
      "source": [
        "## Levels of Abstraction\n",
        "\n",
        "Before we starting working with a list column of outcomes, it is important that we understand the concepts of nested data structures and levels of abstraction."
      ],
      "metadata": {
        "id": "-N5d3w1xv-Nk"
      }
    },
    {
      "cell_type": "markdown",
      "source": [
        "## Understanding Levels of Abstraction\n",
        "\n",
        "<img src=\"https://github.com/yardsale8/probability_simulations_in_R/blob/main/img/1_3_levels_of_abstraction.png?raw=true\" width=\"600\"/>\n",
        "\n",
        "A list column is an example of a nested data stucture, that is a data structure that contains another data structure.  In the case shown above, we have\n",
        "1. A dataframe containing\n",
        "2. A list `.outcome` column containing\n",
        "3. Integer vectors containing\n",
        "4. Raw integers.\n",
        "\n",
        "Each of these represents a level of abstraction."
      ],
      "metadata": {
        "id": "gi1xxE1cr5xC"
      }
    },
    {
      "cell_type": "markdown",
      "source": [
        "### Exploring the levels of abstraction using `str`\n",
        "\n",
        "The `str` functions\n",
        "- shows us the *structure* of an table, and\n",
        "- is useful in displaying the levels of abstraction."
      ],
      "metadata": {
        "id": "pkLdNouVv6Pc"
      }
    },
    {
      "cell_type": "code",
      "source": [
        "die <- 1:20\n",
        "(trials <- replicate(10, sample(die, 3, replace=TRUE)))"
      ],
      "metadata": {
        "colab": {
          "base_uri": "https://localhost:8080/",
          "height": 421
        },
        "id": "pgSp3nz5wv8O",
        "outputId": "a03aef20-99c5-462c-bb07-ae475049f50b"
      },
      "execution_count": 2,
      "outputs": [
        {
          "output_type": "display_data",
          "data": {
            "text/html": [
              "<table class=\"dataframe\">\n",
              "<caption>A tibble: 10 × 2</caption>\n",
              "<thead>\n",
              "\t<tr><th scope=col>.trial</th><th scope=col>.outcome</th></tr>\n",
              "\t<tr><th scope=col>&lt;dbl&gt;</th><th scope=col>&lt;list&gt;</th></tr>\n",
              "</thead>\n",
              "<tbody>\n",
              "\t<tr><td> 1</td><td>17, 3, 8</td></tr>\n",
              "\t<tr><td> 2</td><td>16, 8, 5</td></tr>\n",
              "\t<tr><td> 3</td><td>7, 5, 2</td></tr>\n",
              "\t<tr><td> 4</td><td>1, 9, 20</td></tr>\n",
              "\t<tr><td> 5</td><td>16, 3, 18</td></tr>\n",
              "\t<tr><td> 6</td><td>9, 7, 2</td></tr>\n",
              "\t<tr><td> 7</td><td>18, 4, 11</td></tr>\n",
              "\t<tr><td> 8</td><td>18, 10, 14</td></tr>\n",
              "\t<tr><td> 9</td><td>7, 11, 13</td></tr>\n",
              "\t<tr><td>10</td><td>3, 15, 18</td></tr>\n",
              "</tbody>\n",
              "</table>\n"
            ],
            "text/markdown": "\nA tibble: 10 × 2\n\n| .trial &lt;dbl&gt; | .outcome &lt;list&gt; |\n|---|---|\n|  1 | 17, 3, 8 |\n|  2 | 16, 8, 5 |\n|  3 | 7, 5, 2 |\n|  4 | 1, 9, 20 |\n|  5 | 16, 3, 18 |\n|  6 | 9, 7, 2 |\n|  7 | 18, 4, 11 |\n|  8 | 18, 10, 14 |\n|  9 | 7, 11, 13 |\n| 10 | 3, 15, 18 |\n\n",
            "text/latex": "A tibble: 10 × 2\n\\begin{tabular}{ll}\n .trial & .outcome\\\\\n <dbl> & <list>\\\\\n\\hline\n\t  1 & 17, 3, 8\\\\\n\t  2 & 16, 8, 5\\\\\n\t  3 & 7, 5, 2\\\\\n\t  4 & 1, 9, 20\\\\\n\t  5 & 16, 3, 18\\\\\n\t  6 & 9, 7, 2\\\\\n\t  7 & 18, 4, 11\\\\\n\t  8 & 18, 10, 14\\\\\n\t  9 & 7, 11, 13\\\\\n\t 10 & 3, 15, 18\\\\\n\\end{tabular}\n",
            "text/plain": [
              "   .trial .outcome  \n",
              "1   1     17, 3, 8  \n",
              "2   2     16, 8, 5  \n",
              "3   3     7, 5, 2   \n",
              "4   4     1, 9, 20  \n",
              "5   5     16, 3, 18 \n",
              "6   6     9, 7, 2   \n",
              "7   7     18, 4, 11 \n",
              "8   8     18, 10, 14\n",
              "9   9     7, 11, 13 \n",
              "10 10     3, 15, 18 "
            ]
          },
          "metadata": {}
        }
      ]
    },
    {
      "cell_type": "code",
      "source": [
        "trials %>% str"
      ],
      "metadata": {
        "colab": {
          "base_uri": "https://localhost:8080/"
        },
        "id": "2SZxezRHqoAy",
        "outputId": "637a158a-e391-47b5-c9d0-373dcd96c6db"
      },
      "execution_count": 3,
      "outputs": [
        {
          "output_type": "stream",
          "name": "stdout",
          "text": [
            "tibble [10 × 2] (S3: tbl_df/tbl/data.frame)\n",
            " $ .trial  : num [1:10] 1 2 3 4 5 6 7 8 9 10\n",
            " $ .outcome:List of 10\n",
            "  ..$ : int [1:3] 17 3 8\n",
            "  ..$ : int [1:3] 16 8 5\n",
            "  ..$ : int [1:3] 7 5 2\n",
            "  ..$ : int [1:3] 1 9 20\n",
            "  ..$ : int [1:3] 16 3 18\n",
            "  ..$ : int [1:3] 9 7 2\n",
            "  ..$ : int [1:3] 18 4 11\n",
            "  ..$ : int [1:3] 18 10 14\n",
            "  ..$ : int [1:3] 7 11 13\n",
            "  ..$ : int [1:3] 3 15 18\n"
          ]
        }
      ]
    },
    {
      "cell_type": "markdown",
      "source": [
        "### Reading the `str` output\n",
        "\n",
        "<img src=\"https://github.com/yardsale8/probability_simulations_in_R/blob/main/img/1_3_str_shows_levels.png?raw=true\" sidth=\"600\">"
      ],
      "metadata": {
        "id": "AxfzB8kcxPi_"
      }
    },
    {
      "cell_type": "markdown",
      "source": [
        "### Piercing levels of abstraction with `mutate` and `map`\n",
        "<img src=\"https://github.com/yardsale8/probability_simulations_in_R/blob/main/img/1_3_mutate_map_and_levels.png?raw=true\" width=\"600\">\n",
        "\n",
        "The functions `mutate` and `map` provide the tools needed to reach into a table and transform data at various levels.\n",
        "- `mutate(col1 = f(col1))` will apply the functions `f` to the whole `col1`\n",
        "- `mutate(col1 = map(col1, f)` will apply the functions `f` to each element of`col1`\n",
        "- `mutate(col1 = map(col1, f)` will apply the functions `f` to each element of`col1`\n",
        "- `mutate(col1 = map(col1, \\(x) map(x, f))` will apply the functions `f` to each element of each of the lists in `col1`\n"
      ],
      "metadata": {
        "id": "cSb7b7Q8xt1T"
      }
    },
    {
      "cell_type": "markdown",
      "source": [
        "### Saving Simple Outcomes\n",
        "An experiment with only one outcome per trial is said to have simple outcomes.  In this case, we should be able to store the outcomes in column that isn't a list column, but instead holds raw integers/double/characters/Booleans.  To do this, we will need to specify an alternative form of `replicate`"
      ],
      "metadata": {
        "id": "jJrlSvnrzIB4"
      }
    },
    {
      "cell_type": "markdown",
      "source": [
        "#### Example 1 - Flip a fair coin once\n",
        "\n",
        "Suppose we roll a fair coin and want to know the probility of a head.\n",
        "\n",
        "Note that if we use `replicate` we get a list column."
      ],
      "metadata": {
        "id": "fpxYu9GCzkR-"
      }
    },
    {
      "cell_type": "code",
      "source": [
        "coin <- c('H', 'T')\n",
        "(trials <- replicate(10, sample(coin, 1, replace = TRUE)))"
      ],
      "metadata": {
        "colab": {
          "base_uri": "https://localhost:8080/",
          "height": 421
        },
        "id": "NsA5esLI10CW",
        "outputId": "31cd69c5-77a0-4e73-af4e-0d6fb1c11fed"
      },
      "execution_count": 20,
      "outputs": [
        {
          "output_type": "display_data",
          "data": {
            "text/html": [
              "<table class=\"dataframe\">\n",
              "<caption>A tibble: 10 × 2</caption>\n",
              "<thead>\n",
              "\t<tr><th scope=col>.trial</th><th scope=col>.outcome</th></tr>\n",
              "\t<tr><th scope=col>&lt;dbl&gt;</th><th scope=col>&lt;list&gt;</th></tr>\n",
              "</thead>\n",
              "<tbody>\n",
              "\t<tr><td> 1</td><td>H</td></tr>\n",
              "\t<tr><td> 2</td><td>H</td></tr>\n",
              "\t<tr><td> 3</td><td>T</td></tr>\n",
              "\t<tr><td> 4</td><td>T</td></tr>\n",
              "\t<tr><td> 5</td><td>H</td></tr>\n",
              "\t<tr><td> 6</td><td>H</td></tr>\n",
              "\t<tr><td> 7</td><td>T</td></tr>\n",
              "\t<tr><td> 8</td><td>T</td></tr>\n",
              "\t<tr><td> 9</td><td>H</td></tr>\n",
              "\t<tr><td>10</td><td>H</td></tr>\n",
              "</tbody>\n",
              "</table>\n"
            ],
            "text/markdown": "\nA tibble: 10 × 2\n\n| .trial &lt;dbl&gt; | .outcome &lt;list&gt; |\n|---|---|\n|  1 | H |\n|  2 | H |\n|  3 | T |\n|  4 | T |\n|  5 | H |\n|  6 | H |\n|  7 | T |\n|  8 | T |\n|  9 | H |\n| 10 | H |\n\n",
            "text/latex": "A tibble: 10 × 2\n\\begin{tabular}{ll}\n .trial & .outcome\\\\\n <dbl> & <list>\\\\\n\\hline\n\t  1 & H\\\\\n\t  2 & H\\\\\n\t  3 & T\\\\\n\t  4 & T\\\\\n\t  5 & H\\\\\n\t  6 & H\\\\\n\t  7 & T\\\\\n\t  8 & T\\\\\n\t  9 & H\\\\\n\t 10 & H\\\\\n\\end{tabular}\n",
            "text/plain": [
              "   .trial .outcome\n",
              "1   1     H       \n",
              "2   2     H       \n",
              "3   3     T       \n",
              "4   4     T       \n",
              "5   5     H       \n",
              "6   6     H       \n",
              "7   7     T       \n",
              "8   8     T       \n",
              "9   9     H       \n",
              "10 10     H       "
            ]
          },
          "metadata": {}
        }
      ]
    },
    {
      "cell_type": "code",
      "source": [
        "trials %>% str"
      ],
      "metadata": {
        "colab": {
          "base_uri": "https://localhost:8080/"
        },
        "id": "5Xq8WXOLMN2L",
        "outputId": "1148ff09-3ac1-4776-c53f-58a14e0bbb32"
      },
      "execution_count": 21,
      "outputs": [
        {
          "output_type": "stream",
          "name": "stdout",
          "text": [
            "tibble [10 × 2] (S3: tbl_df/tbl/data.frame)\n",
            " $ .trial  : num [1:10] 1 2 3 4 5 6 7 8 9 10\n",
            " $ .outcome:List of 10\n",
            "  ..$ : chr \"H\"\n",
            "  ..$ : chr \"H\"\n",
            "  ..$ : chr \"T\"\n",
            "  ..$ : chr \"T\"\n",
            "  ..$ : chr \"H\"\n",
            "  ..$ : chr \"H\"\n",
            "  ..$ : chr \"T\"\n",
            "  ..$ : chr \"T\"\n",
            "  ..$ : chr \"H\"\n",
            "  ..$ : chr \"H\"\n"
          ]
        }
      ]
    },
    {
      "cell_type": "markdown",
      "source": [
        "Note that we have an extra, unneeded level of abstraction here.  A list of one character.  This could simple be the character!\n",
        "\n",
        "We can simplify the output by using `replicate_chr` to force the output column to be a column of characters."
      ],
      "metadata": {
        "id": "QL-KmCuH18S-"
      }
    },
    {
      "cell_type": "code",
      "source": [
        "(trials <- replicate_chr(10, sample(coin, 1, replace = TRUE)))"
      ],
      "metadata": {
        "colab": {
          "base_uri": "https://localhost:8080/",
          "height": 421
        },
        "id": "m--Z3rRT1oEa",
        "outputId": "80ae3c3a-8bc5-4bf1-989b-93638685c9bf"
      },
      "execution_count": 24,
      "outputs": [
        {
          "output_type": "display_data",
          "data": {
            "text/html": [
              "<table class=\"dataframe\">\n",
              "<caption>A tibble: 10 × 2</caption>\n",
              "<thead>\n",
              "\t<tr><th scope=col>.trial</th><th scope=col>.outcome</th></tr>\n",
              "\t<tr><th scope=col>&lt;dbl&gt;</th><th scope=col>&lt;chr&gt;</th></tr>\n",
              "</thead>\n",
              "<tbody>\n",
              "\t<tr><td> 1</td><td>T</td></tr>\n",
              "\t<tr><td> 2</td><td>T</td></tr>\n",
              "\t<tr><td> 3</td><td>H</td></tr>\n",
              "\t<tr><td> 4</td><td>H</td></tr>\n",
              "\t<tr><td> 5</td><td>T</td></tr>\n",
              "\t<tr><td> 6</td><td>H</td></tr>\n",
              "\t<tr><td> 7</td><td>H</td></tr>\n",
              "\t<tr><td> 8</td><td>T</td></tr>\n",
              "\t<tr><td> 9</td><td>T</td></tr>\n",
              "\t<tr><td>10</td><td>T</td></tr>\n",
              "</tbody>\n",
              "</table>\n"
            ],
            "text/markdown": "\nA tibble: 10 × 2\n\n| .trial &lt;dbl&gt; | .outcome &lt;chr&gt; |\n|---|---|\n|  1 | T |\n|  2 | T |\n|  3 | H |\n|  4 | H |\n|  5 | T |\n|  6 | H |\n|  7 | H |\n|  8 | T |\n|  9 | T |\n| 10 | T |\n\n",
            "text/latex": "A tibble: 10 × 2\n\\begin{tabular}{ll}\n .trial & .outcome\\\\\n <dbl> & <chr>\\\\\n\\hline\n\t  1 & T\\\\\n\t  2 & T\\\\\n\t  3 & H\\\\\n\t  4 & H\\\\\n\t  5 & T\\\\\n\t  6 & H\\\\\n\t  7 & H\\\\\n\t  8 & T\\\\\n\t  9 & T\\\\\n\t 10 & T\\\\\n\\end{tabular}\n",
            "text/plain": [
              "   .trial .outcome\n",
              "1   1     T       \n",
              "2   2     T       \n",
              "3   3     H       \n",
              "4   4     H       \n",
              "5   5     T       \n",
              "6   6     H       \n",
              "7   7     H       \n",
              "8   8     T       \n",
              "9   9     T       \n",
              "10 10     T       "
            ]
          },
          "metadata": {}
        }
      ]
    },
    {
      "cell_type": "markdown",
      "source": [
        "### <font color='red'> Exercise 1.3.1 - Simple Dice Rolls</font>\n",
        "\n",
        "Set up an experiment that involves rolling a fair 6-sided die once.  Be sure to\n",
        "1. Make the outcome column have the integer type, and\n",
        "2. Use `str` to verify the structure."
      ],
      "metadata": {
        "id": "_W3tPaGeM6lW"
      }
    },
    {
      "cell_type": "code",
      "source": [
        "# Your code here"
      ],
      "metadata": {
        "id": "fWZahImAN5z5"
      },
      "execution_count": 27,
      "outputs": []
    },
    {
      "cell_type": "markdown",
      "source": [
        "## Saving Compound Simulations\n",
        "\n",
        "Most of the experiments in the previous lectures were compound experiments, with multiple outcomes per trial.  As you have seen, we have been using `replicate` on `sample` with the resulting outcomes stored in a `list` column.  In the next exercise, you will use `str` to explore and describe the levels of abstraction for such an experiment."
      ],
      "metadata": {
        "id": "xk6vuCc8N-Q7"
      }
    },
    {
      "cell_type": "markdown",
      "source": [
        "### <font color='red'> Exercise 1.3.2 - Many Dice Rolls</font>\n",
        "\n",
        "Set up an experiment that involves rolling a fair 6-sided die four times.  Use `str` to explore the structure, the describe the levels of abstraction."
      ],
      "metadata": {
        "id": "0TGFYnCPOobw"
      }
    },
    {
      "cell_type": "code",
      "source": [
        "# Your code here"
      ],
      "metadata": {
        "colab": {
          "base_uri": "https://localhost:8080/"
        },
        "id": "nd5j7lM5Mjj7",
        "outputId": "f1b827ad-8eb9-4f1d-a886-1800e669632a"
      },
      "execution_count": 26,
      "outputs": [
        {
          "output_type": "stream",
          "name": "stdout",
          "text": [
            "tibble [10 × 2] (S3: tbl_df/tbl/data.frame)\n",
            " $ .trial  : num [1:10] 1 2 3 4 5 6 7 8 9 10\n",
            " $ .outcome: chr [1:10] \"T\" \"T\" \"H\" \"H\" ...\n"
          ]
        }
      ]
    },
    {
      "cell_type": "markdown",
      "source": [
        "<font color=\"orange\"> < Your description here></font>"
      ],
      "metadata": {
        "id": "IdocpEVnMoeH"
      }
    }
  ]
}