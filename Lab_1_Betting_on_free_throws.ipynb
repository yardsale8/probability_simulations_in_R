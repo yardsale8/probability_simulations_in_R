{
  "nbformat": 4,
  "nbformat_minor": 0,
  "metadata": {
    "colab": {
      "provenance": [],
      "authorship_tag": "ABX9TyMB5T00e2wdpjisTDnObcdR",
      "include_colab_link": true
    },
    "kernelspec": {
      "name": "ir",
      "display_name": "R"
    },
    "language_info": {
      "name": "R"
    }
  },
  "cells": [
    {
      "cell_type": "markdown",
      "metadata": {
        "id": "view-in-github",
        "colab_type": "text"
      },
      "source": [
        "<a href=\"https://colab.research.google.com/github/yardsale8/probability_simulations_in_R/blob/main/Lab_1_Betting_on_free_throws.ipynb\" target=\"_parent\"><img src=\"https://colab.research.google.com/assets/colab-badge.svg\" alt=\"Open In Colab\"/></a>"
      ]
    },
    {
      "cell_type": "code",
      "execution_count": null,
      "metadata": {
        "id": "5eG4Sg_mxo22"
      },
      "outputs": [],
      "source": [
        "library(dplyr)\n",
        "library(tidyr)\n",
        "library(purrr)\n",
        "library(devtools)\n",
        "install_github('yardsale8/purrrfect', force = TRUE)\n",
        "library(purrrfect)"
      ]
    },
    {
      "cell_type": "markdown",
      "source": [
        "# Lab 1 - Betting on Free Throws\n",
        "\n",
        "In this lab you will perform simulations to answer various questions about bets on free throw attempts."
      ],
      "metadata": {
        "id": "6cCBk-aRyNk1"
      }
    },
    {
      "cell_type": "markdown",
      "source": [
        "## The Game\n",
        "\n",
        "Suppose we are playing a game where\n",
        "\n",
        "- You shoot free throws until you have made a total of 10 shots.\n",
        "- The <b>ante</b> is \\$10.  \n",
        "- You win \\$2 per shot made, but lose \\$3 per missed shot."
      ],
      "metadata": {
        "id": "qBGbIvHOyquP"
      }
    },
    {
      "cell_type": "markdown",
      "source": [
        "## Problem 1\n",
        "\n",
        "**a.** What distribution is most related to playing one round of this game? Explain and include any assumptions needed to use this distribution."
      ],
      "metadata": {
        "id": "KpfDLLcr4vM_"
      }
    },
    {
      "cell_type": "markdown",
      "source": [
        "**b.** Stephen Curry, a star player for the Golden State Suns, made 91.5% of his free throws last season. LeBron James, on the other hand, made 73.5% of his free throws.  Use the distribution identified in the last step to compute (analytically) the expected number of failures, as well as the average net winnings, in a single round for each player.  **Hint.** Remember that $E(aX+b) = aE(X) + b$ for any random variable $X$."
      ],
      "metadata": {
        "id": "it8E9kx3_g0k"
      }
    },
    {
      "cell_type": "markdown",
      "source": [
        "**c.** Identify the maximum number of missed shots that still result in net positive winnings in one round.  Use `R` to compute the probability of net positive winnings in a single round."
      ],
      "metadata": {
        "id": "rQPG0eRvBQX3"
      }
    },
    {
      "cell_type": "markdown",
      "source": [
        "## Problem 2\n",
        "\n",
        "Conduct simulations to verify the findings in parts **b.** and **c.** of the last problem.  Do this by genetating raw outcomes using `sample_until`."
      ],
      "metadata": {
        "id": "1Zu0fZS223PC"
      }
    },
    {
      "cell_type": "markdown",
      "source": [
        "## Problem 3\n",
        "\n",
        "Now suppose that Steph and LeBron each play exactly 10 rounds."
      ],
      "metadata": {
        "id": "OoNDj7DP3uFn"
      }
    },
    {
      "cell_type": "markdown",
      "source": [
        "**a.** Determine Steph's and LeBron's average winnings in 10 rounds of the game.  **Hint.** $E(W_1 + W_2) = E(W_1) + E(W_2)$"
      ],
      "metadata": {
        "id": "472KTEtHAa0L"
      }
    },
    {
      "cell_type": "markdown",
      "source": [
        "**b.** Suppose that we want to know the probability that each wins a positive amount of money on at least 8 of the ten rounds.What distribution should we use for this question?  What are the parameters? Any assumptions?"
      ],
      "metadata": {
        "id": "ZhDp50xv4Qla"
      }
    },
    {
      "cell_type": "markdown",
      "source": [
        "#### b. Use the `R` function for the distribution identified in the last problem to compute the exact the answer to this probability question for each player.  **Hint.** Use the probabilities computed in the last problem."
      ],
      "metadata": {
        "id": "LP0HaYhV4a0L"
      }
    },
    {
      "cell_type": "markdown",
      "source": [
        "\n",
        "#### c. Now conduct simulations to verify the the answers in the last part.  Do this by\n",
        "\n",
        "1. Start by generating the number of missed shots in each of the 10 rounds using the appropriate `R` function.\n",
        "2. Convert each of the number of misses in to the net winnings for that round.\n",
        "3. Recode the net winnings into 1 for positive and 0 of negative.\n",
        "4. Aggregate to get the total number of positive rounds.\n",
        "5. Create a Boolean column and estimate the probability."
      ],
      "metadata": {
        "id": "ZdZE4Qz2PUOU"
      }
    }
  ]
}