{
  "nbformat": 4,
  "nbformat_minor": 0,
  "metadata": {
    "colab": {
      "provenance": [],
      "authorship_tag": "ABX9TyMiMp7Ffd/hMHj9mjUNuZks",
      "include_colab_link": true
    },
    "kernelspec": {
      "name": "ir",
      "display_name": "R"
    },
    "language_info": {
      "name": "R"
    }
  },
  "cells": [
    {
      "cell_type": "markdown",
      "metadata": {
        "id": "view-in-github",
        "colab_type": "text"
      },
      "source": [
        "<a href=\"https://colab.research.google.com/github/yardsale8/probability_simulations_in_R/blob/main/3_1_2_generating_independent_random_variates.ipynb\" target=\"_parent\"><img src=\"https://colab.research.google.com/assets/colab-badge.svg\" alt=\"Open In Colab\"/></a>"
      ]
    },
    {
      "cell_type": "code",
      "source": [
        "library(tidyverse)\n",
        "library(devtools)\n",
        "install_github('yardsale8/purrrfect', force = TRUE)\n",
        "library(purrrfect)"
      ],
      "metadata": {
        "colab": {
          "base_uri": "https://localhost:8080/"
        },
        "id": "uMJ4n8rNHmQJ",
        "outputId": "034f8e62-8647-4723-80c5-5356e23052dc"
      },
      "execution_count": 1,
      "outputs": [
        {
          "output_type": "stream",
          "name": "stderr",
          "text": [
            "── \u001b[1mAttaching core tidyverse packages\u001b[22m ──────────────────────── tidyverse 2.0.0 ──\n",
            "\u001b[32m✔\u001b[39m \u001b[34mdplyr    \u001b[39m 1.1.3     \u001b[32m✔\u001b[39m \u001b[34mreadr    \u001b[39m 2.1.4\n",
            "\u001b[32m✔\u001b[39m \u001b[34mforcats  \u001b[39m 1.0.0     \u001b[32m✔\u001b[39m \u001b[34mstringr  \u001b[39m 1.5.0\n",
            "\u001b[32m✔\u001b[39m \u001b[34mggplot2  \u001b[39m 3.4.3     \u001b[32m✔\u001b[39m \u001b[34mtibble   \u001b[39m 3.2.1\n",
            "\u001b[32m✔\u001b[39m \u001b[34mlubridate\u001b[39m 1.9.3     \u001b[32m✔\u001b[39m \u001b[34mtidyr    \u001b[39m 1.3.0\n",
            "\u001b[32m✔\u001b[39m \u001b[34mpurrr    \u001b[39m 1.0.2     \n",
            "── \u001b[1mConflicts\u001b[22m ────────────────────────────────────────── tidyverse_conflicts() ──\n",
            "\u001b[31m✖\u001b[39m \u001b[34mdplyr\u001b[39m::\u001b[32mfilter()\u001b[39m masks \u001b[34mstats\u001b[39m::filter()\n",
            "\u001b[31m✖\u001b[39m \u001b[34mdplyr\u001b[39m::\u001b[32mlag()\u001b[39m    masks \u001b[34mstats\u001b[39m::lag()\n",
            "\u001b[36mℹ\u001b[39m Use the conflicted package (\u001b[3m\u001b[34m<http://conflicted.r-lib.org/>\u001b[39m\u001b[23m) to force all conflicts to become errors\n",
            "Loading required package: usethis\n",
            "\n",
            "Downloading GitHub repo yardsale8/purrrfect@HEAD\n",
            "\n"
          ]
        },
        {
          "output_type": "stream",
          "name": "stdout",
          "text": [
            "\n",
            "\u001b[36m──\u001b[39m \u001b[36mR CMD build\u001b[39m \u001b[36m─────────────────────────────────────────────────────────────────\u001b[39m\n",
            "* checking for file ‘/tmp/RtmpHLaBo2/remotes58887c7384d1/yardsale8-purrrfect-b314b85/DESCRIPTION’ ... OK\n",
            "* preparing ‘purrrfect’:\n",
            "* checking DESCRIPTION meta-information ... OK\n",
            "* checking for LF line-endings in source and make files and shell scripts\n",
            "* checking for empty or unneeded directories\n",
            "* building ‘purrrfect_1.2.5.tar.gz’\n",
            "\n"
          ]
        },
        {
          "output_type": "stream",
          "name": "stderr",
          "text": [
            "Installing package into ‘/usr/local/lib/R/site-library’\n",
            "(as ‘lib’ is unspecified)\n",
            "\n",
            "\n",
            "Attaching package: ‘purrrfect’\n",
            "\n",
            "\n",
            "The following objects are masked from ‘package:base’:\n",
            "\n",
            "    replicate, tabulate\n",
            "\n",
            "\n"
          ]
        }
      ]
    },
    {
      "cell_type": "markdown",
      "source": [
        "# Generating Independent Random Variates\n",
        "\n",
        "In this notebook, we will demonstrate methods for simulating independent random variates, including\n",
        "\n",
        "1. Generating IID random variates using the base R functions, and\n",
        "2. Generating bivariate independent random variates using `replicate2`."
      ],
      "metadata": {
        "id": "aY_pxG9PImar"
      }
    },
    {
      "cell_type": "markdown",
      "source": [
        "## Generating IID Random Variates\n",
        "\n",
        "The easiest way to generate independent and identically distributed random variates is using the base R functions for the given parameter distribution.  For example, to generates 100 experiments, each with 10 IID random variables that are $norm(2,3)$, we would simply use\n",
        "\n",
        "```\n",
        "replicate(100, rnorm(10, 2, 3))\n",
        "```"
      ],
      "metadata": {
        "id": "aFpn_fIgJLiu"
      }
    },
    {
      "cell_type": "markdown",
      "source": [
        "### Example 1 - A IID sample from the Poisson distribution.\n",
        "\n",
        "Calls coming into a call center can be modelled as a Poisson point process with a mean rate of 10 calls per minute.  Let $X_i$ represent the number of calls received in the $i^{th}$ minutes, for $i=1,...,5$ and $Y = \\sum_{i=1}^{5} X_i$ the total calls in the last 5 minutes.\n",
        "\n",
        "**Questions.**\n",
        "\n",
        "1. Plot the estimated PMF of $Y$,\n",
        "2. Estimate the $P(Y > 45)$, and\n",
        "3. Esimate the mean and variance of $Y$."
      ],
      "metadata": {
        "id": "5OIhNe2RJbcD"
      }
    },
    {
      "cell_type": "markdown",
      "source": [
        "#### Step 1 - Generate 60 independent draws from $Poisson(10)$ and compute $Y$."
      ],
      "metadata": {
        "id": "-dRg6xeJKseh"
      }
    },
    {
      "cell_type": "code",
      "source": [
        "num_trials <- 10\n",
        "n <- 5\n",
        "el <- 10\n",
        "( replicate(num_trials, rpois(n, el),\n",
        "            .as = Xs)\n",
        "  %>% mutate(Y = map_int(Xs, sum))\n",
        ")"
      ],
      "metadata": {
        "colab": {
          "base_uri": "https://localhost:8080/",
          "height": 421
        },
        "id": "gUziTz7SJKTM",
        "outputId": "1dc65871-7eb7-4bf0-c4e4-a85beba1ea9a"
      },
      "execution_count": 2,
      "outputs": [
        {
          "output_type": "display_data",
          "data": {
            "text/html": [
              "<table class=\"dataframe\">\n",
              "<caption>A tibble: 10 × 3</caption>\n",
              "<thead>\n",
              "\t<tr><th scope=col>.trial</th><th scope=col>Xs</th><th scope=col>Y</th></tr>\n",
              "\t<tr><th scope=col>&lt;dbl&gt;</th><th scope=col>&lt;list&gt;</th><th scope=col>&lt;int&gt;</th></tr>\n",
              "</thead>\n",
              "<tbody>\n",
              "\t<tr><td> 1</td><td>8, 10, 11, 13, 7</td><td>49</td></tr>\n",
              "\t<tr><td> 2</td><td>8, 11, 12, 5, 12</td><td>48</td></tr>\n",
              "\t<tr><td> 3</td><td>10, 6, 14, 14, 10</td><td>54</td></tr>\n",
              "\t<tr><td> 4</td><td>11, 7, 15, 9, 11</td><td>53</td></tr>\n",
              "\t<tr><td> 5</td><td>12, 10, 13, 9, 4</td><td>48</td></tr>\n",
              "\t<tr><td> 6</td><td>7, 7, 12, 11, 6</td><td>43</td></tr>\n",
              "\t<tr><td> 7</td><td>8, 9, 10, 10, 9</td><td>46</td></tr>\n",
              "\t<tr><td> 8</td><td>8, 12, 9, 10, 13</td><td>52</td></tr>\n",
              "\t<tr><td> 9</td><td>8, 7, 8, 12, 13</td><td>48</td></tr>\n",
              "\t<tr><td>10</td><td>7, 6, 12, 8, 13</td><td>46</td></tr>\n",
              "</tbody>\n",
              "</table>\n"
            ],
            "text/markdown": "\nA tibble: 10 × 3\n\n| .trial &lt;dbl&gt; | Xs &lt;list&gt; | Y &lt;int&gt; |\n|---|---|---|\n|  1 | 8, 10, 11, 13, 7 | 49 |\n|  2 | 8, 11, 12, 5, 12 | 48 |\n|  3 | 10, 6, 14, 14, 10 | 54 |\n|  4 | 11, 7, 15, 9, 11 | 53 |\n|  5 | 12, 10, 13, 9, 4 | 48 |\n|  6 | 7, 7, 12, 11, 6 | 43 |\n|  7 | 8, 9, 10, 10, 9 | 46 |\n|  8 | 8, 12, 9, 10, 13 | 52 |\n|  9 | 8, 7, 8, 12, 13 | 48 |\n| 10 | 7, 6, 12, 8, 13 | 46 |\n\n",
            "text/latex": "A tibble: 10 × 3\n\\begin{tabular}{lll}\n .trial & Xs & Y\\\\\n <dbl> & <list> & <int>\\\\\n\\hline\n\t  1 & 8, 10, 11, 13, 7 & 49\\\\\n\t  2 & 8, 11, 12, 5, 12 & 48\\\\\n\t  3 & 10, 6, 14, 14, 10 & 54\\\\\n\t  4 & 11, 7, 15, 9, 11 & 53\\\\\n\t  5 & 12, 10, 13, 9, 4 & 48\\\\\n\t  6 & 7, 7, 12, 11, 6 & 43\\\\\n\t  7 & 8, 9, 10, 10, 9 & 46\\\\\n\t  8 & 8, 12, 9, 10, 13 & 52\\\\\n\t  9 & 8, 7, 8, 12, 13 & 48\\\\\n\t 10 & 7, 6, 12, 8, 13 & 46\\\\\n\\end{tabular}\n",
            "text/plain": [
              "   .trial Xs                Y \n",
              "1   1     8, 10, 11, 13, 7  49\n",
              "2   2     8, 11, 12, 5, 12  48\n",
              "3   3     10, 6, 14, 14, 10 54\n",
              "4   4     11, 7, 15, 9, 11  53\n",
              "5   5     12, 10, 13, 9, 4  48\n",
              "6   6     7, 7, 12, 11, 6   43\n",
              "7   7     8, 9, 10, 10, 9   46\n",
              "8   8     8, 12, 9, 10, 13  52\n",
              "9   9     8, 7, 8, 12, 13   48\n",
              "10 10     7, 6, 12, 8, 13   46"
            ]
          },
          "metadata": {}
        }
      ]
    },
    {
      "cell_type": "markdown",
      "source": [
        "#### Bump number of trials and save."
      ],
      "metadata": {
        "id": "g4asoaN9Lxxx"
      }
    },
    {
      "cell_type": "code",
      "source": [
        "num_trials <- 10000\n",
        "n <- 5\n",
        "el <- 10\n",
        "( replicate(num_trials, rpois(n, el),\n",
        "            .as = Xs)\n",
        "  %>% mutate(Y = map_int(Xs, sum))\n",
        ") -> five_minutes_of_calls\n",
        "\n",
        "five_minutes_of_calls %>% head"
      ],
      "metadata": {
        "colab": {
          "base_uri": "https://localhost:8080/",
          "height": 299
        },
        "id": "obSkO-ydLFPS",
        "outputId": "c14019e7-5bf8-4cc1-ee7c-59b907e46a7e"
      },
      "execution_count": 3,
      "outputs": [
        {
          "output_type": "display_data",
          "data": {
            "text/html": [
              "<table class=\"dataframe\">\n",
              "<caption>A tibble: 6 × 3</caption>\n",
              "<thead>\n",
              "\t<tr><th scope=col>.trial</th><th scope=col>Xs</th><th scope=col>Y</th></tr>\n",
              "\t<tr><th scope=col>&lt;dbl&gt;</th><th scope=col>&lt;list&gt;</th><th scope=col>&lt;int&gt;</th></tr>\n",
              "</thead>\n",
              "<tbody>\n",
              "\t<tr><td>1</td><td>9, 7, 15, 9, 8</td><td>48</td></tr>\n",
              "\t<tr><td>2</td><td>10, 16, 9, 12, 15</td><td>62</td></tr>\n",
              "\t<tr><td>3</td><td>7, 5, 7, 10, 14</td><td>43</td></tr>\n",
              "\t<tr><td>4</td><td>10, 7, 18, 12, 13</td><td>60</td></tr>\n",
              "\t<tr><td>5</td><td>9, 12, 12, 17, 8</td><td>58</td></tr>\n",
              "\t<tr><td>6</td><td>8, 11, 12, 17, 16</td><td>64</td></tr>\n",
              "</tbody>\n",
              "</table>\n"
            ],
            "text/markdown": "\nA tibble: 6 × 3\n\n| .trial &lt;dbl&gt; | Xs &lt;list&gt; | Y &lt;int&gt; |\n|---|---|---|\n| 1 | 9, 7, 15, 9, 8 | 48 |\n| 2 | 10, 16, 9, 12, 15 | 62 |\n| 3 | 7, 5, 7, 10, 14 | 43 |\n| 4 | 10, 7, 18, 12, 13 | 60 |\n| 5 | 9, 12, 12, 17, 8 | 58 |\n| 6 | 8, 11, 12, 17, 16 | 64 |\n\n",
            "text/latex": "A tibble: 6 × 3\n\\begin{tabular}{lll}\n .trial & Xs & Y\\\\\n <dbl> & <list> & <int>\\\\\n\\hline\n\t 1 & 9, 7, 15, 9, 8 & 48\\\\\n\t 2 & 10, 16, 9, 12, 15 & 62\\\\\n\t 3 & 7, 5, 7, 10, 14 & 43\\\\\n\t 4 & 10, 7, 18, 12, 13 & 60\\\\\n\t 5 & 9, 12, 12, 17, 8 & 58\\\\\n\t 6 & 8, 11, 12, 17, 16 & 64\\\\\n\\end{tabular}\n",
            "text/plain": [
              "  .trial Xs                Y \n",
              "1 1      9, 7, 15, 9, 8    48\n",
              "2 2      10, 16, 9, 12, 15 62\n",
              "3 3      7, 5, 7, 10, 14   43\n",
              "4 4      10, 7, 18, 12, 13 60\n",
              "5 5      9, 12, 12, 17, 8  58\n",
              "6 6      8, 11, 12, 17, 16 64"
            ]
          },
          "metadata": {}
        }
      ]
    },
    {
      "cell_type": "markdown",
      "source": [
        "#### Step 3 - Plot the estimated PMF of $Y$"
      ],
      "metadata": {
        "id": "2PQnq1yPMH0O"
      }
    },
    {
      "cell_type": "code",
      "source": [
        "bin_width = 0.2\n",
        "ggplot(data = five_minutes_of_calls,  aes(x = Y)) +\n",
        "  geom_histogram(aes(y = stat(density) * bin_width), binwidth = bin_width)"
      ],
      "metadata": {
        "colab": {
          "base_uri": "https://localhost:8080/",
          "height": 507
        },
        "id": "k1aF0sH-L90p",
        "outputId": "b4a5fcee-dcd8-4f4e-ae6d-1943c32c44df"
      },
      "execution_count": 4,
      "outputs": [
        {
          "output_type": "stream",
          "name": "stderr",
          "text": [
            "Warning message:\n",
            "“\u001b[1m\u001b[22m`stat(density)` was deprecated in ggplot2 3.4.0.\n",
            "\u001b[36mℹ\u001b[39m Please use `after_stat(density)` instead.”\n"
          ]
        },
        {
          "output_type": "display_data",
          "data": {
            "text/plain": [
              "plot without title"
            ],
            "image/png": "[encoded data removed]"
          },
          "metadata": {
            "image/png": {
              "width": 420,
              "height": 420
            }
          }
        }
      ]
    },
    {
      "cell_type": "markdown",
      "source": [
        "#### Step 4 - Estimate the probability"
      ],
      "metadata": {
        "id": "WCIfj5bjML_o"
      }
    },
    {
      "cell_type": "code",
      "source": [
        "(five_minutes_of_calls\n",
        " %>% mutate(greater_than_45 = Y > 45)\n",
        " %>% estimate_all_prob\n",
        " )"
      ],
      "metadata": {
        "colab": {
          "base_uri": "https://localhost:8080/",
          "height": 146
        },
        "id": "J6v-h4g-MQFD",
        "outputId": "02cb827d-dd19-4ea1-caf0-0023435ab843"
      },
      "execution_count": 5,
      "outputs": [
        {
          "output_type": "display_data",
          "data": {
            "text/html": [
              "<table class=\"dataframe\">\n",
              "<caption>A tibble: 1 × 1</caption>\n",
              "<thead>\n",
              "\t<tr><th scope=col>greater_than_45</th></tr>\n",
              "\t<tr><th scope=col>&lt;dbl&gt;</th></tr>\n",
              "</thead>\n",
              "<tbody>\n",
              "\t<tr><td>0.7392</td></tr>\n",
              "</tbody>\n",
              "</table>\n"
            ],
            "text/markdown": "\nA tibble: 1 × 1\n\n| greater_than_45 &lt;dbl&gt; |\n|---|\n| 0.7392 |\n\n",
            "text/latex": "A tibble: 1 × 1\n\\begin{tabular}{l}\n greater\\_than\\_45\\\\\n <dbl>\\\\\n\\hline\n\t 0.7392\\\\\n\\end{tabular}\n",
            "text/plain": [
              "  greater_than_45\n",
              "1 0.7392         "
            ]
          },
          "metadata": {}
        }
      ]
    },
    {
      "cell_type": "markdown",
      "source": [
        "#### Step 5 - Estimate the mean and variance"
      ],
      "metadata": {
        "id": "HvXsLLOuMRJU"
      }
    },
    {
      "cell_type": "code",
      "source": [
        "(five_minutes_of_calls\n",
        " %>% summarise(mu = mean(Y), var = var(Y))\n",
        ")"
      ],
      "metadata": {
        "colab": {
          "base_uri": "https://localhost:8080/",
          "height": 146
        },
        "id": "QjgvPr6UMQmi",
        "outputId": "2edc17ea-d289-4297-8942-354deda3d33c"
      },
      "execution_count": 6,
      "outputs": [
        {
          "output_type": "display_data",
          "data": {
            "text/html": [
              "<table class=\"dataframe\">\n",
              "<caption>A tibble: 1 × 2</caption>\n",
              "<thead>\n",
              "\t<tr><th scope=col>mu</th><th scope=col>var</th></tr>\n",
              "\t<tr><th scope=col>&lt;dbl&gt;</th><th scope=col>&lt;dbl&gt;</th></tr>\n",
              "</thead>\n",
              "<tbody>\n",
              "\t<tr><td>50.0475</td><td>49.95344</td></tr>\n",
              "</tbody>\n",
              "</table>\n"
            ],
            "text/markdown": "\nA tibble: 1 × 2\n\n| mu &lt;dbl&gt; | var &lt;dbl&gt; |\n|---|---|\n| 50.0475 | 49.95344 |\n\n",
            "text/latex": "A tibble: 1 × 2\n\\begin{tabular}{ll}\n mu & var\\\\\n <dbl> & <dbl>\\\\\n\\hline\n\t 50.0475 & 49.95344\\\\\n\\end{tabular}\n",
            "text/plain": [
              "  mu      var     \n",
              "1 50.0475 49.95344"
            ]
          },
          "metadata": {}
        }
      ]
    },
    {
      "cell_type": "markdown",
      "source": [
        "## Generating the bivariate distribution of two independent random variables\n",
        "\n",
        "Suppose that $X_1$ and $X_2$ are independent random variables from two different distributions.  We can simulate this scenario using the `replicate2` function, which is used to replicate two random expressions, one for each variable.  For example, we could use the following to generate 100 independent binomial and Poisson trials.\n",
        "\n",
        "```\n",
        "replicate2_int(100, rbinom(1, 10, 0.5), rpois(1, 10))\n",
        "```\n",
        "As with `replicate`, we assigned the output type of `int` to both variable.\n",
        "\n"
      ],
      "metadata": {
        "id": "eK7GBbtNNcqH"
      }
    },
    {
      "cell_type": "markdown",
      "source": [
        "### Example 2 - Waiting on calls.\n",
        "\n",
        "We return the the previous scenario, where calls coming into a call center can be modelled as a Poisson point process with a mean rate of 10 calls per minute. Let  $X_1$  represent the time until the 10th call, and let $X_2$ be the subsequent time until we get 20 more calls.  \n",
        "\n",
        "**Questions.**\n",
        "\n",
        "1. Find $P(2*X_1 <= X_2)$, and\n",
        "2. Show the $Y = \\frac{X_1}{X_1 + X_2}\\sim beta(10, 20)$ by comparing CDFs."
      ],
      "metadata": {
        "id": "nLG9nAzJQSIB"
      }
    },
    {
      "cell_type": "markdown",
      "source": [
        "#### Step 1 -- Generate $X_1$ and $X_2$"
      ],
      "metadata": {
        "id": "TLVgtO0KRh9q"
      }
    },
    {
      "cell_type": "code",
      "source": [
        "num_trials <- 10000\n",
        "a1 <- 10\n",
        "a2 <- 20\n",
        "el <- 10\n",
        "(replicate2_dbl(num_trials, rgamma(1, a1, el), rgamma(1, a2, el),\n",
        "                             .as1 = x1, .as2 = x2)\n",
        ") -> wait_times\n",
        "\n",
        "wait_times %>% head"
      ],
      "metadata": {
        "colab": {
          "base_uri": "https://localhost:8080/",
          "height": 299
        },
        "id": "qq9sALW7RlKk",
        "outputId": "ccdfdd34-7d7e-42fe-ac91-be353ddca5d1"
      },
      "execution_count": 7,
      "outputs": [
        {
          "output_type": "display_data",
          "data": {
            "text/html": [
              "<table class=\"dataframe\">\n",
              "<caption>A tibble: 6 × 3</caption>\n",
              "<thead>\n",
              "\t<tr><th scope=col>.trial</th><th scope=col>x1</th><th scope=col>x2</th></tr>\n",
              "\t<tr><th scope=col>&lt;dbl&gt;</th><th scope=col>&lt;dbl&gt;</th><th scope=col>&lt;dbl&gt;</th></tr>\n",
              "</thead>\n",
              "<tbody>\n",
              "\t<tr><td>1</td><td>1.1279962</td><td>1.757736</td></tr>\n",
              "\t<tr><td>2</td><td>0.9754141</td><td>2.650908</td></tr>\n",
              "\t<tr><td>3</td><td>1.1096852</td><td>2.236744</td></tr>\n",
              "\t<tr><td>4</td><td>1.0831112</td><td>1.901587</td></tr>\n",
              "\t<tr><td>5</td><td>0.4994296</td><td>1.413889</td></tr>\n",
              "\t<tr><td>6</td><td>0.9397242</td><td>2.521971</td></tr>\n",
              "</tbody>\n",
              "</table>\n"
            ],
            "text/markdown": "\nA tibble: 6 × 3\n\n| .trial &lt;dbl&gt; | x1 &lt;dbl&gt; | x2 &lt;dbl&gt; |\n|---|---|---|\n| 1 | 1.1279962 | 1.757736 |\n| 2 | 0.9754141 | 2.650908 |\n| 3 | 1.1096852 | 2.236744 |\n| 4 | 1.0831112 | 1.901587 |\n| 5 | 0.4994296 | 1.413889 |\n| 6 | 0.9397242 | 2.521971 |\n\n",
            "text/latex": "A tibble: 6 × 3\n\\begin{tabular}{lll}\n .trial & x1 & x2\\\\\n <dbl> & <dbl> & <dbl>\\\\\n\\hline\n\t 1 & 1.1279962 & 1.757736\\\\\n\t 2 & 0.9754141 & 2.650908\\\\\n\t 3 & 1.1096852 & 2.236744\\\\\n\t 4 & 1.0831112 & 1.901587\\\\\n\t 5 & 0.4994296 & 1.413889\\\\\n\t 6 & 0.9397242 & 2.521971\\\\\n\\end{tabular}\n",
            "text/plain": [
              "  .trial x1        x2      \n",
              "1 1      1.1279962 1.757736\n",
              "2 2      0.9754141 2.650908\n",
              "3 3      1.1096852 2.236744\n",
              "4 4      1.0831112 1.901587\n",
              "5 5      0.4994296 1.413889\n",
              "6 6      0.9397242 2.521971"
            ]
          },
          "metadata": {}
        }
      ]
    },
    {
      "cell_type": "markdown",
      "source": [
        "#### Step 2 -  Estimate $P(2*X_1 <= X_2)$"
      ],
      "metadata": {
        "id": "2-w7-78bSHle"
      }
    },
    {
      "cell_type": "code",
      "source": [
        "(wait_times\n",
        " %>% mutate(twice_x1_less_equal_x2 = 2*x1 <= x2)\n",
        " %>% estimate_all_prob\n",
        " )\n"
      ],
      "metadata": {
        "colab": {
          "base_uri": "https://localhost:8080/",
          "height": 146
        },
        "id": "pbVMaNHVMni7",
        "outputId": "9c128fc9-73dc-4f74-f82b-1ef28031bd90"
      },
      "execution_count": 8,
      "outputs": [
        {
          "output_type": "display_data",
          "data": {
            "text/html": [
              "<table class=\"dataframe\">\n",
              "<caption>A tibble: 1 × 1</caption>\n",
              "<thead>\n",
              "\t<tr><th scope=col>twice_x1_less_equal_x2</th></tr>\n",
              "\t<tr><th scope=col>&lt;dbl&gt;</th></tr>\n",
              "</thead>\n",
              "<tbody>\n",
              "\t<tr><td>0.5146</td></tr>\n",
              "</tbody>\n",
              "</table>\n"
            ],
            "text/markdown": "\nA tibble: 1 × 1\n\n| twice_x1_less_equal_x2 &lt;dbl&gt; |\n|---|\n| 0.5146 |\n\n",
            "text/latex": "A tibble: 1 × 1\n\\begin{tabular}{l}\n twice\\_x1\\_less\\_equal\\_x2\\\\\n <dbl>\\\\\n\\hline\n\t 0.5146\\\\\n\\end{tabular}\n",
            "text/plain": [
              "  twice_x1_less_equal_x2\n",
              "1 0.5146                "
            ]
          },
          "metadata": {}
        }
      ]
    },
    {
      "cell_type": "markdown",
      "source": [
        "#### Step 3 - Estimate the covariance and correlation.\n"
      ],
      "metadata": {
        "id": "doRc0R2_Tb8Z"
      }
    },
    {
      "cell_type": "code",
      "source": [
        "(wait_times\n",
        " %>% mutate(Y = x1/(x1 + x2))\n",
        " %>% mutate(eCDF = cume_dist(Y),\n",
        "            tCDF = map_dbl(Y, \\(y) pbeta(y, 10, 20)))\n",
        " ) -> ratio_of_wait_times\n",
        "\n",
        " ratio_of_wait_times %>% head"
      ],
      "metadata": {
        "colab": {
          "base_uri": "https://localhost:8080/",
          "height": 299
        },
        "id": "Tb9U_rYdSY0u",
        "outputId": "582a5f10-a9fe-490f-9a93-d2bc8c81bd82"
      },
      "execution_count": 9,
      "outputs": [
        {
          "output_type": "display_data",
          "data": {
            "text/html": [
              "<table class=\"dataframe\">\n",
              "<caption>A tibble: 6 × 6</caption>\n",
              "<thead>\n",
              "\t<tr><th scope=col>.trial</th><th scope=col>x1</th><th scope=col>x2</th><th scope=col>Y</th><th scope=col>eCDF</th><th scope=col>tCDF</th></tr>\n",
              "\t<tr><th scope=col>&lt;dbl&gt;</th><th scope=col>&lt;dbl&gt;</th><th scope=col>&lt;dbl&gt;</th><th scope=col>&lt;dbl&gt;</th><th scope=col>&lt;dbl&gt;</th><th scope=col>&lt;dbl&gt;</th></tr>\n",
              "</thead>\n",
              "<tbody>\n",
              "\t<tr><td>1</td><td>1.1279962</td><td>1.757736</td><td>0.3908873</td><td>0.7570</td><td>0.7549560</td></tr>\n",
              "\t<tr><td>2</td><td>0.9754141</td><td>2.650908</td><td>0.2689816</td><td>0.2318</td><td>0.2335446</td></tr>\n",
              "\t<tr><td>3</td><td>1.1096852</td><td>2.236744</td><td>0.3316028</td><td>0.5055</td><td>0.5092967</td></tr>\n",
              "\t<tr><td>4</td><td>1.0831112</td><td>1.901587</td><td>0.3628880</td><td>0.6453</td><td>0.6476749</td></tr>\n",
              "\t<tr><td>5</td><td>0.4994296</td><td>1.413889</td><td>0.2610279</td><td>0.2006</td><td>0.2039761</td></tr>\n",
              "\t<tr><td>6</td><td>0.9397242</td><td>2.521971</td><td>0.2714636</td><td>0.2418</td><td>0.2431512</td></tr>\n",
              "</tbody>\n",
              "</table>\n"
            ],
            "text/markdown": "\nA tibble: 6 × 6\n\n| .trial &lt;dbl&gt; | x1 &lt;dbl&gt; | x2 &lt;dbl&gt; | Y &lt;dbl&gt; | eCDF &lt;dbl&gt; | tCDF &lt;dbl&gt; |\n|---|---|---|---|---|---|\n| 1 | 1.1279962 | 1.757736 | 0.3908873 | 0.7570 | 0.7549560 |\n| 2 | 0.9754141 | 2.650908 | 0.2689816 | 0.2318 | 0.2335446 |\n| 3 | 1.1096852 | 2.236744 | 0.3316028 | 0.5055 | 0.5092967 |\n| 4 | 1.0831112 | 1.901587 | 0.3628880 | 0.6453 | 0.6476749 |\n| 5 | 0.4994296 | 1.413889 | 0.2610279 | 0.2006 | 0.2039761 |\n| 6 | 0.9397242 | 2.521971 | 0.2714636 | 0.2418 | 0.2431512 |\n\n",
            "text/latex": "A tibble: 6 × 6\n\\begin{tabular}{llllll}\n .trial & x1 & x2 & Y & eCDF & tCDF\\\\\n <dbl> & <dbl> & <dbl> & <dbl> & <dbl> & <dbl>\\\\\n\\hline\n\t 1 & 1.1279962 & 1.757736 & 0.3908873 & 0.7570 & 0.7549560\\\\\n\t 2 & 0.9754141 & 2.650908 & 0.2689816 & 0.2318 & 0.2335446\\\\\n\t 3 & 1.1096852 & 2.236744 & 0.3316028 & 0.5055 & 0.5092967\\\\\n\t 4 & 1.0831112 & 1.901587 & 0.3628880 & 0.6453 & 0.6476749\\\\\n\t 5 & 0.4994296 & 1.413889 & 0.2610279 & 0.2006 & 0.2039761\\\\\n\t 6 & 0.9397242 & 2.521971 & 0.2714636 & 0.2418 & 0.2431512\\\\\n\\end{tabular}\n",
            "text/plain": [
              "  .trial x1        x2       Y         eCDF   tCDF     \n",
              "1 1      1.1279962 1.757736 0.3908873 0.7570 0.7549560\n",
              "2 2      0.9754141 2.650908 0.2689816 0.2318 0.2335446\n",
              "3 3      1.1096852 2.236744 0.3316028 0.5055 0.5092967\n",
              "4 4      1.0831112 1.901587 0.3628880 0.6453 0.6476749\n",
              "5 5      0.4994296 1.413889 0.2610279 0.2006 0.2039761\n",
              "6 6      0.9397242 2.521971 0.2714636 0.2418 0.2431512"
            ]
          },
          "metadata": {}
        }
      ]
    },
    {
      "cell_type": "code",
      "source": [
        "ggplot(data = ratio_of_wait_times) +\n",
        "  geom_abline(aes(slope = 1, intercept = 0)) +\n",
        "  geom_point(aes(x = tCDF, y = eCDF))"
      ],
      "metadata": {
        "colab": {
          "base_uri": "https://localhost:8080/",
          "height": 458
        },
        "id": "ci_Y6PVRUM97",
        "outputId": "772c0cc4-75ed-4239-ca26-a85458929c2b"
      },
      "execution_count": 10,
      "outputs": [
        {
          "output_type": "display_data",
          "data": {
            "text/plain": [
              "plot without title"
            ],
            "image/png": "[encoded data removed]"
          },
          "metadata": {
            "image/png": {
              "width": 420,
              "height": 420
            }
          }
        }
      ]
    },
    {
      "cell_type": "markdown",
      "source": [
        "## Generating bivariate data using the marginal + conditional distributions.\n",
        "\n",
        "The most general approach to generating bivariate data is to\n",
        "\n",
        "1. Generate one random variable from its marginal distribution, then\n",
        "2. Generate the other from the conditional distribution using the value from $1.$"
      ],
      "metadata": {
        "id": "QQPViHWCX8d8"
      }
    },
    {
      "cell_type": "markdown",
      "source": [
        "### Example 3 - Random draws from an urn\n",
        "\n",
        "Suppose that we have an urn with 10 blue and 15 white chips.  Our experiment is to first roll a fair 6-sided die, then draw that many chips from the urn.  Let $X$ be the roll of the die and $Y$ be the number of blue chips drawn in the $X=x$ total chips on that draw.\n",
        "\n",
        "**Questions.**\n",
        "\n",
        "1. Estimate the probability of at least one blue chip, and\n",
        "2. Estimate the mean and variance of $Y$."
      ],
      "metadata": {
        "id": "iEwQcpBAYVV7"
      }
    },
    {
      "cell_type": "code",
      "source": [
        "num_trials <- 100000\n",
        "die <- 1:6\n",
        "urn <- c(rep(1, 10), rep(0, 15)) # Use 1/0 to easily compute the number of blue chips.\n",
        "(replicate_int(num_trials, sample(die, 1), .as = roll)\n",
        " %>% mutate(chips = map(roll, \\(r) sample(urn, r)),\n",
        "            y = map_int(chips, sum))\n",
        ") -> chips\n",
        "\n",
        "chips %>% head"
      ],
      "metadata": {
        "colab": {
          "base_uri": "https://localhost:8080/",
          "height": 299
        },
        "id": "D39RPNdDUW0k",
        "outputId": "4c4384e2-f007-4682-e5c8-b11738202c07"
      },
      "execution_count": 17,
      "outputs": [
        {
          "output_type": "display_data",
          "data": {
            "text/html": [
              "<table class=\"dataframe\">\n",
              "<caption>A tibble: 6 × 4</caption>\n",
              "<thead>\n",
              "\t<tr><th scope=col>.trial</th><th scope=col>roll</th><th scope=col>chips</th><th scope=col>y</th></tr>\n",
              "\t<tr><th scope=col>&lt;dbl&gt;</th><th scope=col>&lt;int&gt;</th><th scope=col>&lt;list&gt;</th><th scope=col>&lt;int&gt;</th></tr>\n",
              "</thead>\n",
              "<tbody>\n",
              "\t<tr><td>1</td><td>5</td><td>1, 1, 0, 1, 0</td><td>3</td></tr>\n",
              "\t<tr><td>2</td><td>3</td><td>0, 1, 1</td><td>2</td></tr>\n",
              "\t<tr><td>3</td><td>4</td><td>1, 0, 0, 1</td><td>2</td></tr>\n",
              "\t<tr><td>4</td><td>4</td><td>1, 0, 0, 1</td><td>2</td></tr>\n",
              "\t<tr><td>5</td><td>3</td><td>0, 0, 0</td><td>0</td></tr>\n",
              "\t<tr><td>6</td><td>4</td><td>1, 1, 0, 0</td><td>2</td></tr>\n",
              "</tbody>\n",
              "</table>\n"
            ],
            "text/markdown": "\nA tibble: 6 × 4\n\n| .trial &lt;dbl&gt; | roll &lt;int&gt; | chips &lt;list&gt; | y &lt;int&gt; |\n|---|---|---|---|\n| 1 | 5 | 1, 1, 0, 1, 0 | 3 |\n| 2 | 3 | 0, 1, 1 | 2 |\n| 3 | 4 | 1, 0, 0, 1 | 2 |\n| 4 | 4 | 1, 0, 0, 1 | 2 |\n| 5 | 3 | 0, 0, 0 | 0 |\n| 6 | 4 | 1, 1, 0, 0 | 2 |\n\n",
            "text/latex": "A tibble: 6 × 4\n\\begin{tabular}{llll}\n .trial & roll & chips & y\\\\\n <dbl> & <int> & <list> & <int>\\\\\n\\hline\n\t 1 & 5 & 1, 1, 0, 1, 0 & 3\\\\\n\t 2 & 3 & 0, 1, 1 & 2\\\\\n\t 3 & 4 & 1, 0, 0, 1 & 2\\\\\n\t 4 & 4 & 1, 0, 0, 1 & 2\\\\\n\t 5 & 3 & 0, 0, 0 & 0\\\\\n\t 6 & 4 & 1, 1, 0, 0 & 2\\\\\n\\end{tabular}\n",
            "text/plain": [
              "  .trial roll chips         y\n",
              "1 1      5    1, 1, 0, 1, 0 3\n",
              "2 2      3    0, 1, 1       2\n",
              "3 3      4    1, 0, 0, 1    2\n",
              "4 4      4    1, 0, 0, 1    2\n",
              "5 5      3    0, 0, 0       0\n",
              "6 6      4    1, 1, 0, 0    2"
            ]
          },
          "metadata": {}
        }
      ]
    },
    {
      "cell_type": "markdown",
      "source": [
        "#### Problem 1 - Probability of at least one blue"
      ],
      "metadata": {
        "id": "F1cAyHGjaULV"
      }
    },
    {
      "cell_type": "code",
      "source": [
        "(chips\n",
        " %>% mutate(at_least_one = y >= 1)\n",
        " %>% estimate_all_prob\n",
        ")"
      ],
      "metadata": {
        "colab": {
          "base_uri": "https://localhost:8080/",
          "height": 146
        },
        "id": "ajxMUuV0XVHN",
        "outputId": "b26aa865-b054-436d-982e-6b378833c15c"
      },
      "execution_count": 18,
      "outputs": [
        {
          "output_type": "display_data",
          "data": {
            "text/html": [
              "<table class=\"dataframe\">\n",
              "<caption>A tibble: 1 × 1</caption>\n",
              "<thead>\n",
              "\t<tr><th scope=col>at_least_one</th></tr>\n",
              "\t<tr><th scope=col>&lt;dbl&gt;</th></tr>\n",
              "</thead>\n",
              "<tbody>\n",
              "\t<tr><td>0.77814</td></tr>\n",
              "</tbody>\n",
              "</table>\n"
            ],
            "text/markdown": "\nA tibble: 1 × 1\n\n| at_least_one &lt;dbl&gt; |\n|---|\n| 0.77814 |\n\n",
            "text/latex": "A tibble: 1 × 1\n\\begin{tabular}{l}\n at\\_least\\_one\\\\\n <dbl>\\\\\n\\hline\n\t 0.77814\\\\\n\\end{tabular}\n",
            "text/plain": [
              "  at_least_one\n",
              "1 0.77814     "
            ]
          },
          "metadata": {}
        }
      ]
    },
    {
      "cell_type": "markdown",
      "source": [
        "#### Problem 2 - Estimate the mean and variance"
      ],
      "metadata": {
        "id": "PFKQygpiaj5_"
      }
    },
    {
      "cell_type": "code",
      "source": [
        "(chips\n",
        " %>% summarise(mu_y = mean(y),var_y = var(y))\n",
        ")"
      ],
      "metadata": {
        "colab": {
          "base_uri": "https://localhost:8080/",
          "height": 146
        },
        "id": "AqctgNbxaiyf",
        "outputId": "de9dec7e-81a4-40bf-d41f-5d864d9ccc05"
      },
      "execution_count": 19,
      "outputs": [
        {
          "output_type": "display_data",
          "data": {
            "text/html": [
              "<table class=\"dataframe\">\n",
              "<caption>A tibble: 1 × 2</caption>\n",
              "<thead>\n",
              "\t<tr><th scope=col>mu_y</th><th scope=col>var_y</th></tr>\n",
              "\t<tr><th scope=col>&lt;dbl&gt;</th><th scope=col>&lt;dbl&gt;</th></tr>\n",
              "</thead>\n",
              "<tbody>\n",
              "\t<tr><td>1.40471</td><td>1.187632</td></tr>\n",
              "</tbody>\n",
              "</table>\n"
            ],
            "text/markdown": "\nA tibble: 1 × 2\n\n| mu_y &lt;dbl&gt; | var_y &lt;dbl&gt; |\n|---|---|\n| 1.40471 | 1.187632 |\n\n",
            "text/latex": "A tibble: 1 × 2\n\\begin{tabular}{ll}\n mu\\_y & var\\_y\\\\\n <dbl> & <dbl>\\\\\n\\hline\n\t 1.40471 & 1.187632\\\\\n\\end{tabular}\n",
            "text/plain": [
              "  mu_y    var_y   \n",
              "1 1.40471 1.187632"
            ]
          },
          "metadata": {}
        }
      ]
    },
    {
      "cell_type": "markdown",
      "source": [
        "### Example 4 - Simulating flaws.\n",
        "\n",
        "Suppose that the rate of flaws will vary over batches of materials, while this rate remains relatively constant within a batch.  Let $R$ represent the rate of flaws in a randomly selected batch, with $R\\sim norm(10, 0.5)$, and let $X_1, ..., X_10$ represent the number of flaws in a batch of 10 items with a rate of $R = r$ flaws per item.  Assume that the $X$s are IID $pois(r)$.\n",
        "\n",
        "**Question.** Find the probability that the minimum number of flaws in a randomly selected batch is less than 5."
      ],
      "metadata": {
        "id": "XX977AcXcPTF"
      }
    },
    {
      "cell_type": "code",
      "source": [
        "num_trials <- 10000\n",
        "(replicate_dbl(num_trials, rnorm(1, 10, 0.5), .as = R)\n",
        " %>% mutate(Xs = map(R, \\(r) rpois(10, r)),\n",
        "            minX = map_int(Xs, min))\n",
        ") -> batches\n",
        "\n",
        "batches %>% head"
      ],
      "metadata": {
        "colab": {
          "base_uri": "https://localhost:8080/",
          "height": 299
        },
        "id": "XUVMx8oUdogA",
        "outputId": "69e3f87f-6551-4eb7-9cd5-36e6f5244003"
      },
      "execution_count": 24,
      "outputs": [
        {
          "output_type": "display_data",
          "data": {
            "text/html": [
              "<table class=\"dataframe\">\n",
              "<caption>A tibble: 6 × 4</caption>\n",
              "<thead>\n",
              "\t<tr><th scope=col>.trial</th><th scope=col>R</th><th scope=col>Xs</th><th scope=col>minX</th></tr>\n",
              "\t<tr><th scope=col>&lt;dbl&gt;</th><th scope=col>&lt;dbl&gt;</th><th scope=col>&lt;list&gt;</th><th scope=col>&lt;int&gt;</th></tr>\n",
              "</thead>\n",
              "<tbody>\n",
              "\t<tr><td>1</td><td> 9.571535</td><td>16, 9, 9, 12, 8, 12, 10, 14, 14, 8</td><td>8</td></tr>\n",
              "\t<tr><td>2</td><td>10.174325</td><td>11, 7, 16, 14, 10, 8, 8, 10, 8, 14</td><td>7</td></tr>\n",
              "\t<tr><td>3</td><td> 9.839420</td><td>14, 8, 14, 10, 14, 10, 13, 7, 14, 12</td><td>7</td></tr>\n",
              "\t<tr><td>4</td><td> 9.872171</td><td>9, 6, 6, 6, 8, 11, 8, 11, 10, 8</td><td>6</td></tr>\n",
              "\t<tr><td>5</td><td>10.118354</td><td>8, 7, 10, 8, 10, 9, 9, 7, 7, 10</td><td>7</td></tr>\n",
              "\t<tr><td>6</td><td>10.322107</td><td>13, 10, 8, 7, 12, 16, 14, 12, 10, 15</td><td>7</td></tr>\n",
              "</tbody>\n",
              "</table>\n"
            ],
            "text/markdown": "\nA tibble: 6 × 4\n\n| .trial &lt;dbl&gt; | R &lt;dbl&gt; | Xs &lt;list&gt; | minX &lt;int&gt; |\n|---|---|---|---|\n| 1 |  9.571535 | 16, 9, 9, 12, 8, 12, 10, 14, 14, 8 | 8 |\n| 2 | 10.174325 | 11, 7, 16, 14, 10, 8, 8, 10, 8, 14 | 7 |\n| 3 |  9.839420 | 14, 8, 14, 10, 14, 10, 13, 7, 14, 12 | 7 |\n| 4 |  9.872171 | 9, 6, 6, 6, 8, 11, 8, 11, 10, 8 | 6 |\n| 5 | 10.118354 | 8, 7, 10, 8, 10, 9, 9, 7, 7, 10 | 7 |\n| 6 | 10.322107 | 13, 10, 8, 7, 12, 16, 14, 12, 10, 15 | 7 |\n\n",
            "text/latex": "A tibble: 6 × 4\n\\begin{tabular}{llll}\n .trial & R & Xs & minX\\\\\n <dbl> & <dbl> & <list> & <int>\\\\\n\\hline\n\t 1 &  9.571535 & 16, 9, 9, 12, 8, 12, 10, 14, 14, 8 & 8\\\\\n\t 2 & 10.174325 & 11, 7, 16, 14, 10, 8, 8, 10, 8, 14 & 7\\\\\n\t 3 &  9.839420 & 14, 8, 14, 10, 14, 10, 13, 7, 14, 12 & 7\\\\\n\t 4 &  9.872171 & 9, 6, 6, 6, 8, 11, 8, 11, 10, 8 & 6\\\\\n\t 5 & 10.118354 & 8, 7, 10, 8, 10, 9, 9, 7, 7, 10 & 7\\\\\n\t 6 & 10.322107 & 13, 10, 8, 7, 12, 16, 14, 12, 10, 15 & 7\\\\\n\\end{tabular}\n",
            "text/plain": [
              "  .trial R         Xs                                   minX\n",
              "1 1       9.571535 16, 9, 9, 12, 8, 12, 10, 14, 14, 8   8   \n",
              "2 2      10.174325 11, 7, 16, 14, 10, 8, 8, 10, 8, 14   7   \n",
              "3 3       9.839420 14, 8, 14, 10, 14, 10, 13, 7, 14, 12 7   \n",
              "4 4       9.872171 9, 6, 6, 6, 8, 11, 8, 11, 10, 8      6   \n",
              "5 5      10.118354 8, 7, 10, 8, 10, 9, 9, 7, 7, 10      7   \n",
              "6 6      10.322107 13, 10, 8, 7, 12, 16, 14, 12, 10, 15 7   "
            ]
          },
          "metadata": {}
        }
      ]
    },
    {
      "cell_type": "code",
      "source": [
        "(batches\n",
        " %>% mutate(less_than_5 = minX < 5)\n",
        " %>% estimate_all_prob\n",
        ")\n",
        ""
      ],
      "metadata": {
        "colab": {
          "base_uri": "https://localhost:8080/",
          "height": 146
        },
        "id": "hLddYlCweCo7",
        "outputId": "dc9c51ea-aa19-4aba-bdc0-60b9dc1027b8"
      },
      "execution_count": 25,
      "outputs": [
        {
          "output_type": "display_data",
          "data": {
            "text/html": [
              "<table class=\"dataframe\">\n",
              "<caption>A tibble: 1 × 1</caption>\n",
              "<thead>\n",
              "\t<tr><th scope=col>less_than_5</th></tr>\n",
              "\t<tr><th scope=col>&lt;dbl&gt;</th></tr>\n",
              "</thead>\n",
              "<tbody>\n",
              "\t<tr><td>0.2633</td></tr>\n",
              "</tbody>\n",
              "</table>\n"
            ],
            "text/markdown": "\nA tibble: 1 × 1\n\n| less_than_5 &lt;dbl&gt; |\n|---|\n| 0.2633 |\n\n",
            "text/latex": "A tibble: 1 × 1\n\\begin{tabular}{l}\n less\\_than\\_5\\\\\n <dbl>\\\\\n\\hline\n\t 0.2633\\\\\n\\end{tabular}\n",
            "text/plain": [
              "  less_than_5\n",
              "1 0.2633     "
            ]
          },
          "metadata": {}
        }
      ]
    }
  ]
}