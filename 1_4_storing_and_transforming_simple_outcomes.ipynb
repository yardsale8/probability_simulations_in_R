{
  "nbformat": 4,
  "nbformat_minor": 0,
  "metadata": {
    "colab": {
      "provenance": [],
      "authorship_tag": "ABX9TyMV5t1exrtXt3YT9rWAaUzt",
      "include_colab_link": true
    },
    "kernelspec": {
      "name": "ir",
      "display_name": "R"
    },
    "language_info": {
      "name": "R"
    }
  },
  "cells": [
    {
      "cell_type": "markdown",
      "metadata": {
        "id": "view-in-github",
        "colab_type": "text"
      },
      "source": [
        "<a href=\"https://colab.research.google.com/github/yardsale8/probability_simulations_in_R/blob/main/1_4_storing_and_transforming_simple_outcomes.ipynb\" target=\"_parent\"><img src=\"https://colab.research.google.com/assets/colab-badge.svg\" alt=\"Open In Colab\"/></a>"
      ]
    },
    {
      "cell_type": "code",
      "execution_count": null,
      "metadata": {
        "colab": {
          "base_uri": "https://localhost:8080/"
        },
        "id": "uVA0zS42qk3P",
        "outputId": "86099d32-067e-4658-d693-3fe1a0991a50"
      },
      "outputs": [
        {
          "output_type": "stream",
          "name": "stderr",
          "text": [
            "\n",
            "Attaching package: ‘dplyr’\n",
            "\n",
            "\n",
            "The following objects are masked from ‘package:stats’:\n",
            "\n",
            "    filter, lag\n",
            "\n",
            "\n",
            "The following objects are masked from ‘package:base’:\n",
            "\n",
            "    intersect, setdiff, setequal, union\n",
            "\n",
            "\n",
            "Loading required package: usethis\n",
            "\n",
            "Downloading GitHub repo yardsale8/purrrfect@HEAD\n",
            "\n"
          ]
        },
        {
          "output_type": "stream",
          "name": "stdout",
          "text": [
            "\n",
            "\u001b[36m──\u001b[39m \u001b[36mR CMD build\u001b[39m \u001b[36m─────────────────────────────────────────────────────────────────\u001b[39m\n",
            "* checking for file ‘/tmp/Rtmpkvv9oB/remotes13e3859f7a3/yardsale8-purrrfect-d91fae7/DESCRIPTION’ ... OK\n",
            "* preparing ‘purrrfect’:\n",
            "* checking DESCRIPTION meta-information ... OK\n",
            "* checking for LF line-endings in source and make files and shell scripts\n",
            "* checking for empty or unneeded directories\n",
            "* building ‘purrrfect_1.0.1.tar.gz’\n",
            "\n"
          ]
        },
        {
          "output_type": "stream",
          "name": "stderr",
          "text": [
            "Installing package into ‘/usr/local/lib/R/site-library’\n",
            "(as ‘lib’ is unspecified)\n",
            "\n",
            "\n",
            "Attaching package: ‘purrrfect’\n",
            "\n",
            "\n",
            "The following objects are masked from ‘package:base’:\n",
            "\n",
            "    replicate, tabulate\n",
            "\n",
            "\n"
          ]
        }
      ],
      "source": [
        "library(dplyr)\n",
        "library(tidyr)\n",
        "library(purrr)\n",
        "library(devtools)\n",
        "install_github('yardsale8/purrrfect', force = TRUE)\n",
        "library(purrrfect)"
      ]
    },
    {
      "cell_type": "markdown",
      "source": [
        "## Saving Simple Outcomes\n",
        "An experiment with only one outcome per trial is said to have simple outcomes.  In this case, we should be able to store the outcomes in column that isn't a list column, but instead holds raw integers/double/characters/Booleans.  To do this, we will need to specify an alternative form of `replicate`"
      ],
      "metadata": {
        "id": "jJrlSvnrzIB4"
      }
    },
    {
      "cell_type": "markdown",
      "source": [
        "### Example 1 - Flip a fair coin once\n",
        "\n",
        "Suppose we roll a fair coin and want to know the probility of a head.\n",
        "\n"
      ],
      "metadata": {
        "id": "fpxYu9GCzkR-"
      }
    },
    {
      "cell_type": "markdown",
      "source": [
        "### Incorrect Approach - Using `replicate`\n",
        "\n",
        "Note that if we use `replicate` we get a list column."
      ],
      "metadata": {
        "id": "sA22L2b673tm"
      }
    },
    {
      "cell_type": "code",
      "source": [
        "coin <- c('H', 'T')\n",
        "(trials <- replicate(10, sample(coin, 1, replace = TRUE)))"
      ],
      "metadata": {
        "colab": {
          "base_uri": "https://localhost:8080/",
          "height": 400
        },
        "id": "NsA5esLI10CW",
        "outputId": "f5aa734a-f63e-4bd5-bd60-be0398ed7d10"
      },
      "execution_count": null,
      "outputs": [
        {
          "output_type": "display_data",
          "data": {
            "text/html": [
              "<table class=\"dataframe\">\n",
              "<caption>A tibble: 10 × 2</caption>\n",
              "<thead>\n",
              "\t<tr><th scope=col>.trial</th><th scope=col>.outcome</th></tr>\n",
              "\t<tr><th scope=col>&lt;dbl&gt;</th><th scope=col>&lt;list&gt;</th></tr>\n",
              "</thead>\n",
              "<tbody>\n",
              "\t<tr><td> 1</td><td>T</td></tr>\n",
              "\t<tr><td> 2</td><td>T</td></tr>\n",
              "\t<tr><td> 3</td><td>H</td></tr>\n",
              "\t<tr><td> 4</td><td>T</td></tr>\n",
              "\t<tr><td> 5</td><td>H</td></tr>\n",
              "\t<tr><td> 6</td><td>H</td></tr>\n",
              "\t<tr><td> 7</td><td>T</td></tr>\n",
              "\t<tr><td> 8</td><td>H</td></tr>\n",
              "\t<tr><td> 9</td><td>T</td></tr>\n",
              "\t<tr><td>10</td><td>H</td></tr>\n",
              "</tbody>\n",
              "</table>\n"
            ],
            "text/markdown": "\nA tibble: 10 × 2\n\n| .trial &lt;dbl&gt; | .outcome &lt;list&gt; |\n|---|---|\n|  1 | T |\n|  2 | T |\n|  3 | H |\n|  4 | T |\n|  5 | H |\n|  6 | H |\n|  7 | T |\n|  8 | H |\n|  9 | T |\n| 10 | H |\n\n",
            "text/latex": "A tibble: 10 × 2\n\\begin{tabular}{ll}\n .trial & .outcome\\\\\n <dbl> & <list>\\\\\n\\hline\n\t  1 & T\\\\\n\t  2 & T\\\\\n\t  3 & H\\\\\n\t  4 & T\\\\\n\t  5 & H\\\\\n\t  6 & H\\\\\n\t  7 & T\\\\\n\t  8 & H\\\\\n\t  9 & T\\\\\n\t 10 & H\\\\\n\\end{tabular}\n",
            "text/plain": [
              "   .trial .outcome\n",
              "1   1     T       \n",
              "2   2     T       \n",
              "3   3     H       \n",
              "4   4     T       \n",
              "5   5     H       \n",
              "6   6     H       \n",
              "7   7     T       \n",
              "8   8     H       \n",
              "9   9     T       \n",
              "10 10     H       "
            ]
          },
          "metadata": {}
        }
      ]
    },
    {
      "cell_type": "code",
      "source": [
        "trials %>% str"
      ],
      "metadata": {
        "colab": {
          "base_uri": "https://localhost:8080/"
        },
        "id": "5Xq8WXOLMN2L",
        "outputId": "2a05be61-4d32-41b2-d923-3e5e26615290"
      },
      "execution_count": null,
      "outputs": [
        {
          "output_type": "stream",
          "name": "stdout",
          "text": [
            "tibble [10 × 2] (S3: tbl_df/tbl/data.frame)\n",
            " $ .trial  : num [1:10] 1 2 3 4 5 6 7 8 9 10\n",
            " $ .outcome:List of 10\n",
            "  ..$ : chr \"T\"\n",
            "  ..$ : chr \"T\"\n",
            "  ..$ : chr \"H\"\n",
            "  ..$ : chr \"T\"\n",
            "  ..$ : chr \"H\"\n",
            "  ..$ : chr \"H\"\n",
            "  ..$ : chr \"T\"\n",
            "  ..$ : chr \"H\"\n",
            "  ..$ : chr \"T\"\n",
            "  ..$ : chr \"H\"\n"
          ]
        }
      ]
    },
    {
      "cell_type": "markdown",
      "source": [
        "\n",
        "<img src=\"https://github.com/yardsale8/probability_simulations_in_R/blob/main/img/1_3_simple_outcomes_incorrect.png?raw=true\" width=\"600\">\n",
        "\n",
        "In this case we have an extra, unneeded level of abstraction here.  A list of one character.  This could simple be the character!\n"
      ],
      "metadata": {
        "id": "QL-KmCuH18S-"
      }
    },
    {
      "cell_type": "markdown",
      "source": [
        "### Correct Approach - Use `replicate_chr` to specify the output column type\n",
        "We can simplify the output by using `replicate_chr` to force the output column to be a column of characters."
      ],
      "metadata": {
        "id": "pzY9sErEJZ5E"
      }
    },
    {
      "cell_type": "code",
      "source": [
        "(trials <- replicate_chr(10, sample(coin, 1, replace = TRUE)))"
      ],
      "metadata": {
        "colab": {
          "base_uri": "https://localhost:8080/",
          "height": 400
        },
        "id": "m--Z3rRT1oEa",
        "outputId": "bdf7d4b0-693a-4f9c-d4d0-6d46fa360bd2"
      },
      "execution_count": null,
      "outputs": [
        {
          "output_type": "display_data",
          "data": {
            "text/html": [
              "<table class=\"dataframe\">\n",
              "<caption>A tibble: 10 × 2</caption>\n",
              "<thead>\n",
              "\t<tr><th scope=col>.trial</th><th scope=col>.outcome</th></tr>\n",
              "\t<tr><th scope=col>&lt;dbl&gt;</th><th scope=col>&lt;chr&gt;</th></tr>\n",
              "</thead>\n",
              "<tbody>\n",
              "\t<tr><td> 1</td><td>T</td></tr>\n",
              "\t<tr><td> 2</td><td>H</td></tr>\n",
              "\t<tr><td> 3</td><td>H</td></tr>\n",
              "\t<tr><td> 4</td><td>T</td></tr>\n",
              "\t<tr><td> 5</td><td>T</td></tr>\n",
              "\t<tr><td> 6</td><td>T</td></tr>\n",
              "\t<tr><td> 7</td><td>H</td></tr>\n",
              "\t<tr><td> 8</td><td>H</td></tr>\n",
              "\t<tr><td> 9</td><td>H</td></tr>\n",
              "\t<tr><td>10</td><td>H</td></tr>\n",
              "</tbody>\n",
              "</table>\n"
            ],
            "text/markdown": "\nA tibble: 10 × 2\n\n| .trial &lt;dbl&gt; | .outcome &lt;chr&gt; |\n|---|---|\n|  1 | T |\n|  2 | H |\n|  3 | H |\n|  4 | T |\n|  5 | T |\n|  6 | T |\n|  7 | H |\n|  8 | H |\n|  9 | H |\n| 10 | H |\n\n",
            "text/latex": "A tibble: 10 × 2\n\\begin{tabular}{ll}\n .trial & .outcome\\\\\n <dbl> & <chr>\\\\\n\\hline\n\t  1 & T\\\\\n\t  2 & H\\\\\n\t  3 & H\\\\\n\t  4 & T\\\\\n\t  5 & T\\\\\n\t  6 & T\\\\\n\t  7 & H\\\\\n\t  8 & H\\\\\n\t  9 & H\\\\\n\t 10 & H\\\\\n\\end{tabular}\n",
            "text/plain": [
              "   .trial .outcome\n",
              "1   1     T       \n",
              "2   2     H       \n",
              "3   3     H       \n",
              "4   4     T       \n",
              "5   5     T       \n",
              "6   6     T       \n",
              "7   7     H       \n",
              "8   8     H       \n",
              "9   9     H       \n",
              "10 10     H       "
            ]
          },
          "metadata": {}
        }
      ]
    },
    {
      "cell_type": "code",
      "source": [
        "trials %>% str"
      ],
      "metadata": {
        "colab": {
          "base_uri": "https://localhost:8080/"
        },
        "id": "h-QbLv7QCFi5",
        "outputId": "dd49fe7c-4180-4d0b-f966-bfc81dd630e0"
      },
      "execution_count": null,
      "outputs": [
        {
          "output_type": "stream",
          "name": "stdout",
          "text": [
            "tibble [10 × 2] (S3: tbl_df/tbl/data.frame)\n",
            " $ .trial  : num [1:10] 1 2 3 4 5 6 7 8 9 10\n",
            " $ .outcome: chr [1:10] \"T\" \"H\" \"H\" \"T\" ...\n"
          ]
        }
      ]
    },
    {
      "cell_type": "markdown",
      "source": [
        "<img src=\"https://github.com/yardsale8/probability_simulations_in_R/blob/main/img/1_3_simple_outcomes_correct.png?raw=true\" width=\"600\">\n",
        "\n",
        "Inspecting the `str` verifies that we have eliminated the extra level of abstraction."
      ],
      "metadata": {
        "id": "W65AZgIcJoyJ"
      }
    },
    {
      "cell_type": "markdown",
      "source": [
        "### Comparing `replicate_chr` to `replicate` for simple outcomes\n",
        "\n",
        "<img src=\"https://github.com/yardsale8/probability_simulations_in_R/blob/main/img/1_3_simple_outcomes_comparison.png?raw=true\" width=\"600\">\n",
        "\n",
        "In summary, when generating simple outcomes--i.e. a single outcome per trial--use a typed version of replicate like `replicate_chr` instead of `replicate`.  This is because\n",
        "\n",
        "* `replicate_chr` returns a chr column of individual string.\n",
        "* `replicate` returns a list column of singletons, where the lists are an unnecessary extra container."
      ],
      "metadata": {
        "id": "tKUKj8VOKCXW"
      }
    },
    {
      "cell_type": "markdown",
      "source": [
        "### <font color='red'> Exercise 1.3.1 - Simple Dice Rolls</font>\n",
        "\n",
        "Set up an experiment that involves rolling a fair 6-sided die once.  Be sure to\n",
        "1. Make the outcome column have the integer type, and\n",
        "2. Use `str` to verify the structure."
      ],
      "metadata": {
        "id": "_W3tPaGeM6lW"
      }
    },
    {
      "cell_type": "code",
      "source": [
        "# Your code here"
      ],
      "metadata": {
        "id": "fWZahImAN5z5"
      },
      "execution_count": null,
      "outputs": []
    },
    {
      "cell_type": "markdown",
      "source": [
        "## Accessing levels of abstraction with `mutate` and `map`\n",
        "\n",
        "In previous notebooks, we performed simulations that resulted table such that\n",
        "1. There was row per simulated trial, and\n",
        "2. The outcomes of each trial were stored in a list column.\n",
        "\n",
        "In this notebook, we will explore techniques for turning a list outcome column into a random variable, that is a number."
      ],
      "metadata": {
        "id": "zOch5HYjqyD8"
      }
    },
    {
      "cell_type": "markdown",
      "source": [
        "### Using `mutate` and `map` on simple outcome columns\n",
        "\n",
        "<img src=\"https://github.com/yardsale8/probability_simulations_in_R/blob/main/img/1_3_mutate_map_and_levels_scalar_column.png?raw=true\" width=\"600\">\n",
        "\n",
        "When working with simple outcomes, we can\n",
        "\n",
        "* Use `mutate` with a vectorized functions to processes the whole column.<br>\n",
        "  - Examples: `ifelse`, `mean`, `sd`, etc.<br>\n",
        "* Use `mutate` + `map` to apply scalar functions to the individual elements.<br>\n",
        "  - Example: `paste0`, functions with complicated conditional logic"
      ],
      "metadata": {
        "id": "UTd73POBK-NM"
      }
    },
    {
      "cell_type": "markdown",
      "source": [
        "### Example 1 - `ifelse` is a vectorized function\n",
        "\n",
        "**Task.** Suppose that we consider a head a success and wish to recode the heads and tails as 1 and 0, repectively."
      ],
      "metadata": {
        "id": "Oyu9-5leMDTN"
      }
    },
    {
      "cell_type": "code",
      "source": [
        "coin <- c('H', 'T')\n",
        "(trials <- replicate_chr(10, sample(coin, 1, replace = TRUE)))\n"
      ],
      "metadata": {
        "colab": {
          "base_uri": "https://localhost:8080/",
          "height": 400
        },
        "id": "IwSgRMVAMMkb",
        "outputId": "5e6edc71-d660-4137-adc2-432d945724c1"
      },
      "execution_count": null,
      "outputs": [
        {
          "output_type": "display_data",
          "data": {
            "text/html": [
              "<table class=\"dataframe\">\n",
              "<caption>A tibble: 10 × 2</caption>\n",
              "<thead>\n",
              "\t<tr><th scope=col>.trial</th><th scope=col>.outcome</th></tr>\n",
              "\t<tr><th scope=col>&lt;dbl&gt;</th><th scope=col>&lt;chr&gt;</th></tr>\n",
              "</thead>\n",
              "<tbody>\n",
              "\t<tr><td> 1</td><td>H</td></tr>\n",
              "\t<tr><td> 2</td><td>H</td></tr>\n",
              "\t<tr><td> 3</td><td>H</td></tr>\n",
              "\t<tr><td> 4</td><td>T</td></tr>\n",
              "\t<tr><td> 5</td><td>T</td></tr>\n",
              "\t<tr><td> 6</td><td>H</td></tr>\n",
              "\t<tr><td> 7</td><td>H</td></tr>\n",
              "\t<tr><td> 8</td><td>T</td></tr>\n",
              "\t<tr><td> 9</td><td>T</td></tr>\n",
              "\t<tr><td>10</td><td>H</td></tr>\n",
              "</tbody>\n",
              "</table>\n"
            ],
            "text/markdown": "\nA tibble: 10 × 2\n\n| .trial &lt;dbl&gt; | .outcome &lt;chr&gt; |\n|---|---|\n|  1 | H |\n|  2 | H |\n|  3 | H |\n|  4 | T |\n|  5 | T |\n|  6 | H |\n|  7 | H |\n|  8 | T |\n|  9 | T |\n| 10 | H |\n\n",
            "text/latex": "A tibble: 10 × 2\n\\begin{tabular}{ll}\n .trial & .outcome\\\\\n <dbl> & <chr>\\\\\n\\hline\n\t  1 & H\\\\\n\t  2 & H\\\\\n\t  3 & H\\\\\n\t  4 & T\\\\\n\t  5 & T\\\\\n\t  6 & H\\\\\n\t  7 & H\\\\\n\t  8 & T\\\\\n\t  9 & T\\\\\n\t 10 & H\\\\\n\\end{tabular}\n",
            "text/plain": [
              "   .trial .outcome\n",
              "1   1     H       \n",
              "2   2     H       \n",
              "3   3     H       \n",
              "4   4     T       \n",
              "5   5     T       \n",
              "6   6     H       \n",
              "7   7     H       \n",
              "8   8     T       \n",
              "9   9     T       \n",
              "10 10     H       "
            ]
          },
          "metadata": {}
        }
      ]
    },
    {
      "cell_type": "markdown",
      "source": [
        "We can verify that `ifelse` is a vectorized functions by applying it to the whole `.outcome` column."
      ],
      "metadata": {
        "id": "7nG_DDvjMwt_"
      }
    },
    {
      "cell_type": "code",
      "source": [
        "ifelse(trials$.outcome == 'H', 1, 0)"
      ],
      "metadata": {
        "colab": {
          "base_uri": "https://localhost:8080/",
          "height": 32
        },
        "id": "IrwLNDkXMn7x",
        "outputId": "b2b44044-477f-483e-de24-3e2523da3de4"
      },
      "execution_count": null,
      "outputs": [
        {
          "output_type": "display_data",
          "data": {
            "text/html": [
              "<style>\n",
              ".list-inline {list-style: none; margin:0; padding: 0}\n",
              ".list-inline>li {display: inline-block}\n",
              ".list-inline>li:not(:last-child)::after {content: \"\\00b7\"; padding: 0 .5ex}\n",
              "</style>\n",
              "<ol class=list-inline><li>1</li><li>1</li><li>1</li><li>0</li><li>0</li><li>1</li><li>1</li><li>0</li><li>0</li><li>1</li></ol>\n"
            ],
            "text/markdown": "1. 1\n2. 1\n3. 1\n4. 0\n5. 0\n6. 1\n7. 1\n8. 0\n9. 0\n10. 1\n\n\n",
            "text/latex": "\\begin{enumerate*}\n\\item 1\n\\item 1\n\\item 1\n\\item 0\n\\item 0\n\\item 1\n\\item 1\n\\item 0\n\\item 0\n\\item 1\n\\end{enumerate*}\n",
            "text/plain": [
              " [1] 1 1 1 0 0 1 1 0 0 1"
            ]
          },
          "metadata": {}
        }
      ]
    },
    {
      "cell_type": "markdown",
      "source": [
        "Consequently, we can use `mutate` to apply this vectorized function to the whole column."
      ],
      "metadata": {
        "id": "AMJob-WkM57U"
      }
    },
    {
      "cell_type": "code",
      "source": [
        "(trials\n",
        " %>% mutate(X = ifelse(.outcome == 'H', 1, 0)))"
      ],
      "metadata": {
        "colab": {
          "base_uri": "https://localhost:8080/",
          "height": 400
        },
        "id": "AQEU5r_XMTj8",
        "outputId": "97b1d780-6d56-485b-ee37-114985d08f18"
      },
      "execution_count": null,
      "outputs": [
        {
          "output_type": "display_data",
          "data": {
            "text/html": [
              "<table class=\"dataframe\">\n",
              "<caption>A tibble: 10 × 3</caption>\n",
              "<thead>\n",
              "\t<tr><th scope=col>.trial</th><th scope=col>.outcome</th><th scope=col>X</th></tr>\n",
              "\t<tr><th scope=col>&lt;dbl&gt;</th><th scope=col>&lt;chr&gt;</th><th scope=col>&lt;dbl&gt;</th></tr>\n",
              "</thead>\n",
              "<tbody>\n",
              "\t<tr><td> 1</td><td>H</td><td>1</td></tr>\n",
              "\t<tr><td> 2</td><td>H</td><td>1</td></tr>\n",
              "\t<tr><td> 3</td><td>H</td><td>1</td></tr>\n",
              "\t<tr><td> 4</td><td>T</td><td>0</td></tr>\n",
              "\t<tr><td> 5</td><td>T</td><td>0</td></tr>\n",
              "\t<tr><td> 6</td><td>H</td><td>1</td></tr>\n",
              "\t<tr><td> 7</td><td>H</td><td>1</td></tr>\n",
              "\t<tr><td> 8</td><td>T</td><td>0</td></tr>\n",
              "\t<tr><td> 9</td><td>T</td><td>0</td></tr>\n",
              "\t<tr><td>10</td><td>H</td><td>1</td></tr>\n",
              "</tbody>\n",
              "</table>\n"
            ],
            "text/markdown": "\nA tibble: 10 × 3\n\n| .trial &lt;dbl&gt; | .outcome &lt;chr&gt; | X &lt;dbl&gt; |\n|---|---|---|\n|  1 | H | 1 |\n|  2 | H | 1 |\n|  3 | H | 1 |\n|  4 | T | 0 |\n|  5 | T | 0 |\n|  6 | H | 1 |\n|  7 | H | 1 |\n|  8 | T | 0 |\n|  9 | T | 0 |\n| 10 | H | 1 |\n\n",
            "text/latex": "A tibble: 10 × 3\n\\begin{tabular}{lll}\n .trial & .outcome & X\\\\\n <dbl> & <chr> & <dbl>\\\\\n\\hline\n\t  1 & H & 1\\\\\n\t  2 & H & 1\\\\\n\t  3 & H & 1\\\\\n\t  4 & T & 0\\\\\n\t  5 & T & 0\\\\\n\t  6 & H & 1\\\\\n\t  7 & H & 1\\\\\n\t  8 & T & 0\\\\\n\t  9 & T & 0\\\\\n\t 10 & H & 1\\\\\n\\end{tabular}\n",
            "text/plain": [
              "   .trial .outcome X\n",
              "1   1     H        1\n",
              "2   2     H        1\n",
              "3   3     H        1\n",
              "4   4     T        0\n",
              "5   5     T        0\n",
              "6   6     H        1\n",
              "7   7     H        1\n",
              "8   8     T        0\n",
              "9   9     T        0\n",
              "10 10     H        1"
            ]
          },
          "metadata": {}
        }
      ]
    },
    {
      "cell_type": "markdown",
      "source": [
        "### Example 2 - Boolean logic is vectorized\n",
        "\n",
        "**Same Task.** Suppose that we consider a head a success and wish to recode the heads and tails as 1 and 0, repectively.\n",
        "\n",
        "An alterative to the last approach is to convert the heads and tails to Boolean values.  It turns out the Boolean operators--as well as arithmetic operators--are vectorized in R.\n"
      ],
      "metadata": {
        "id": "g5i--7W7NPMe"
      }
    },
    {
      "cell_type": "code",
      "source": [
        "trials$.outcome == 'H'"
      ],
      "metadata": {
        "colab": {
          "base_uri": "https://localhost:8080/",
          "height": 32
        },
        "id": "jcjkVOMzNqlm",
        "outputId": "7b93b05d-23de-4bd0-e4b3-a3f4272d368b"
      },
      "execution_count": null,
      "outputs": [
        {
          "output_type": "display_data",
          "data": {
            "text/html": [
              "<style>\n",
              ".list-inline {list-style: none; margin:0; padding: 0}\n",
              ".list-inline>li {display: inline-block}\n",
              ".list-inline>li:not(:last-child)::after {content: \"\\00b7\"; padding: 0 .5ex}\n",
              "</style>\n",
              "<ol class=list-inline><li>TRUE</li><li>TRUE</li><li>TRUE</li><li>FALSE</li><li>FALSE</li><li>TRUE</li><li>TRUE</li><li>FALSE</li><li>FALSE</li><li>TRUE</li></ol>\n"
            ],
            "text/markdown": "1. TRUE\n2. TRUE\n3. TRUE\n4. FALSE\n5. FALSE\n6. TRUE\n7. TRUE\n8. FALSE\n9. FALSE\n10. TRUE\n\n\n",
            "text/latex": "\\begin{enumerate*}\n\\item TRUE\n\\item TRUE\n\\item TRUE\n\\item FALSE\n\\item FALSE\n\\item TRUE\n\\item TRUE\n\\item FALSE\n\\item FALSE\n\\item TRUE\n\\end{enumerate*}\n",
            "text/plain": [
              " [1]  TRUE  TRUE  TRUE FALSE FALSE  TRUE  TRUE FALSE FALSE  TRUE"
            ]
          },
          "metadata": {}
        }
      ]
    },
    {
      "cell_type": "code",
      "source": [
        "(trials\n",
        " %>% mutate(X = .outcome == 'H'))"
      ],
      "metadata": {
        "colab": {
          "base_uri": "https://localhost:8080/",
          "height": 400
        },
        "id": "eROgGzwSNydV",
        "outputId": "f499163c-fc40-4e5e-d710-f7164734f934"
      },
      "execution_count": null,
      "outputs": [
        {
          "output_type": "display_data",
          "data": {
            "text/html": [
              "<table class=\"dataframe\">\n",
              "<caption>A tibble: 10 × 3</caption>\n",
              "<thead>\n",
              "\t<tr><th scope=col>.trial</th><th scope=col>.outcome</th><th scope=col>X</th></tr>\n",
              "\t<tr><th scope=col>&lt;dbl&gt;</th><th scope=col>&lt;chr&gt;</th><th scope=col>&lt;lgl&gt;</th></tr>\n",
              "</thead>\n",
              "<tbody>\n",
              "\t<tr><td> 1</td><td>H</td><td> TRUE</td></tr>\n",
              "\t<tr><td> 2</td><td>H</td><td> TRUE</td></tr>\n",
              "\t<tr><td> 3</td><td>H</td><td> TRUE</td></tr>\n",
              "\t<tr><td> 4</td><td>T</td><td>FALSE</td></tr>\n",
              "\t<tr><td> 5</td><td>T</td><td>FALSE</td></tr>\n",
              "\t<tr><td> 6</td><td>H</td><td> TRUE</td></tr>\n",
              "\t<tr><td> 7</td><td>H</td><td> TRUE</td></tr>\n",
              "\t<tr><td> 8</td><td>T</td><td>FALSE</td></tr>\n",
              "\t<tr><td> 9</td><td>T</td><td>FALSE</td></tr>\n",
              "\t<tr><td>10</td><td>H</td><td> TRUE</td></tr>\n",
              "</tbody>\n",
              "</table>\n"
            ],
            "text/markdown": "\nA tibble: 10 × 3\n\n| .trial &lt;dbl&gt; | .outcome &lt;chr&gt; | X &lt;lgl&gt; |\n|---|---|---|\n|  1 | H |  TRUE |\n|  2 | H |  TRUE |\n|  3 | H |  TRUE |\n|  4 | T | FALSE |\n|  5 | T | FALSE |\n|  6 | H |  TRUE |\n|  7 | H |  TRUE |\n|  8 | T | FALSE |\n|  9 | T | FALSE |\n| 10 | H |  TRUE |\n\n",
            "text/latex": "A tibble: 10 × 3\n\\begin{tabular}{lll}\n .trial & .outcome & X\\\\\n <dbl> & <chr> & <lgl>\\\\\n\\hline\n\t  1 & H &  TRUE\\\\\n\t  2 & H &  TRUE\\\\\n\t  3 & H &  TRUE\\\\\n\t  4 & T & FALSE\\\\\n\t  5 & T & FALSE\\\\\n\t  6 & H &  TRUE\\\\\n\t  7 & H &  TRUE\\\\\n\t  8 & T & FALSE\\\\\n\t  9 & T & FALSE\\\\\n\t 10 & H &  TRUE\\\\\n\\end{tabular}\n",
            "text/plain": [
              "   .trial .outcome X    \n",
              "1   1     H         TRUE\n",
              "2   2     H         TRUE\n",
              "3   3     H         TRUE\n",
              "4   4     T        FALSE\n",
              "5   5     T        FALSE\n",
              "6   6     H         TRUE\n",
              "7   7     H         TRUE\n",
              "8   8     T        FALSE\n",
              "9   9     T        FALSE\n",
              "10 10     H         TRUE"
            ]
          },
          "metadata": {}
        }
      ]
    },
    {
      "cell_type": "markdown",
      "source": [
        "### Example 3 - Packaging the strings in a list\n",
        "\n",
        "**Contrived Task.** Convert each string into a list containing the string, the coded 1/0, and the Boolean.\n",
        "\n",
        "**Notes.**\n",
        "\n",
        "1. We can't use `mutate` alone, as we need to apply the `list` function element by element.\n",
        "2. Because the three components have different types (chr, int, lgl), we can't store the output in a vector, which have a fixed type in R, and must use a list instead.\n",
        "3. I will use a named list to provide context"
      ],
      "metadata": {
        "id": "pag54cdSOYbC"
      }
    },
    {
      "cell_type": "code",
      "source": [
        "# Helper function for creating a single list\n",
        "list.output <- \\(x) list(str = x, int = ifelse(x == 'H', 1, 0), bool = x == 'H')\n",
        "list.output('H')"
      ],
      "metadata": {
        "colab": {
          "base_uri": "https://localhost:8080/",
          "height": 143
        },
        "id": "6idTkyncPgWm",
        "outputId": "3a081863-217e-458a-9c3d-86e44bc694a0"
      },
      "execution_count": null,
      "outputs": [
        {
          "output_type": "display_data",
          "data": {
            "text/html": [
              "<dl>\n",
              "\t<dt>$str</dt>\n",
              "\t\t<dd>'H'</dd>\n",
              "\t<dt>$int</dt>\n",
              "\t\t<dd>1</dd>\n",
              "\t<dt>$bool</dt>\n",
              "\t\t<dd>TRUE</dd>\n",
              "</dl>\n"
            ],
            "text/markdown": "$str\n:   'H'\n$int\n:   1\n$bool\n:   TRUE\n\n\n",
            "text/latex": "\\begin{description}\n\\item[\\$str] 'H'\n\\item[\\$int] 1\n\\item[\\$bool] TRUE\n\\end{description}\n",
            "text/plain": [
              "$str\n",
              "[1] \"H\"\n",
              "\n",
              "$int\n",
              "[1] 1\n",
              "\n",
              "$bool\n",
              "[1] TRUE\n"
            ]
          },
          "metadata": {}
        }
      ]
    },
    {
      "cell_type": "code",
      "source": [
        "(trials\n",
        " %>% mutate(X = map(.outcome, list.output))\n",
        " )"
      ],
      "metadata": {
        "colab": {
          "base_uri": "https://localhost:8080/",
          "height": 400
        },
        "id": "R3cVsAtZOll3",
        "outputId": "7a1a68df-7081-4d4c-ba86-757ebfd73fe8"
      },
      "execution_count": null,
      "outputs": [
        {
          "output_type": "display_data",
          "data": {
            "text/html": [
              "<table class=\"dataframe\">\n",
              "<caption>A tibble: 10 × 3</caption>\n",
              "<thead>\n",
              "\t<tr><th scope=col>.trial</th><th scope=col>.outcome</th><th scope=col>X</th></tr>\n",
              "\t<tr><th scope=col>&lt;dbl&gt;</th><th scope=col>&lt;chr&gt;</th><th scope=col>&lt;list&gt;</th></tr>\n",
              "</thead>\n",
              "<tbody>\n",
              "\t<tr><td> 1</td><td>H</td><td>H   , 1   , TRUE</td></tr>\n",
              "\t<tr><td> 2</td><td>H</td><td>H   , 1   , TRUE</td></tr>\n",
              "\t<tr><td> 3</td><td>H</td><td>H   , 1   , TRUE</td></tr>\n",
              "\t<tr><td> 4</td><td>T</td><td>T    , 0    , FALSE</td></tr>\n",
              "\t<tr><td> 5</td><td>T</td><td>T    , 0    , FALSE</td></tr>\n",
              "\t<tr><td> 6</td><td>H</td><td>H   , 1   , TRUE</td></tr>\n",
              "\t<tr><td> 7</td><td>H</td><td>H   , 1   , TRUE</td></tr>\n",
              "\t<tr><td> 8</td><td>T</td><td>T    , 0    , FALSE</td></tr>\n",
              "\t<tr><td> 9</td><td>T</td><td>T    , 0    , FALSE</td></tr>\n",
              "\t<tr><td>10</td><td>H</td><td>H   , 1   , TRUE</td></tr>\n",
              "</tbody>\n",
              "</table>\n"
            ],
            "text/markdown": "\nA tibble: 10 × 3\n\n| .trial &lt;dbl&gt; | .outcome &lt;chr&gt; | X &lt;list&gt; |\n|---|---|---|\n|  1 | H | H   , 1   , TRUE |\n|  2 | H | H   , 1   , TRUE |\n|  3 | H | H   , 1   , TRUE |\n|  4 | T | T    , 0    , FALSE |\n|  5 | T | T    , 0    , FALSE |\n|  6 | H | H   , 1   , TRUE |\n|  7 | H | H   , 1   , TRUE |\n|  8 | T | T    , 0    , FALSE |\n|  9 | T | T    , 0    , FALSE |\n| 10 | H | H   , 1   , TRUE |\n\n",
            "text/latex": "A tibble: 10 × 3\n\\begin{tabular}{lll}\n .trial & .outcome & X\\\\\n <dbl> & <chr> & <list>\\\\\n\\hline\n\t  1 & H & H   , 1   , TRUE\\\\\n\t  2 & H & H   , 1   , TRUE\\\\\n\t  3 & H & H   , 1   , TRUE\\\\\n\t  4 & T & T    , 0    , FALSE\\\\\n\t  5 & T & T    , 0    , FALSE\\\\\n\t  6 & H & H   , 1   , TRUE\\\\\n\t  7 & H & H   , 1   , TRUE\\\\\n\t  8 & T & T    , 0    , FALSE\\\\\n\t  9 & T & T    , 0    , FALSE\\\\\n\t 10 & H & H   , 1   , TRUE\\\\\n\\end{tabular}\n",
            "text/plain": [
              "   .trial .outcome X                  \n",
              "1   1     H        H   , 1   , TRUE   \n",
              "2   2     H        H   , 1   , TRUE   \n",
              "3   3     H        H   , 1   , TRUE   \n",
              "4   4     T        T    , 0    , FALSE\n",
              "5   5     T        T    , 0    , FALSE\n",
              "6   6     H        H   , 1   , TRUE   \n",
              "7   7     H        H   , 1   , TRUE   \n",
              "8   8     T        T    , 0    , FALSE\n",
              "9   9     T        T    , 0    , FALSE\n",
              "10 10     H        H   , 1   , TRUE   "
            ]
          },
          "metadata": {}
        }
      ]
    },
    {
      "cell_type": "markdown",
      "source": [
        "### <font color='red'> Exercise 1.3.2 - Explore the levels of abstraction for the last example</font>\n",
        "\n",
        "Add a `walk(str)` to the last bit of code, then describe the levels of abstraction."
      ],
      "metadata": {
        "id": "2KKKIzBXRHPw"
      }
    },
    {
      "cell_type": "code",
      "source": [
        "# Your code here"
      ],
      "metadata": {
        "id": "LZxsfUcnRWJy"
      },
      "execution_count": null,
      "outputs": []
    },
    {
      "cell_type": "markdown",
      "source": [
        "<font color=\"orange\">\n",
        "Your description here\n",
        "</font>"
      ],
      "metadata": {
        "id": "svmbWNf0RYIt"
      }
    },
    {
      "cell_type": "markdown",
      "source": [
        "### <font color='red'> Exercise 1.3.2 - Transforming Simple Dice Rolls</font>\n",
        "\n",
        "Suppose that we are rolling a single fair 6-sided die and consider any roll of 4 or more a success.\n",
        "\n",
        "Set up an experiment that involves rolling a fair 6-sided die once, then\n",
        "1. Use `mutate` and `ifelse` to recode the values into 1 for success and 0 for failure.\n",
        "2. Use `mutate` and Boolean arithmetic to recode the values into `TRUE` for success and `FALSE` for failure.\n",
        "2. Use `mutate` + `map` to store the values, coded integers, and Boolean values in a list."
      ],
      "metadata": {
        "id": "DcASc2oVOMOH"
      }
    },
    {
      "cell_type": "code",
      "source": [
        "# Your code here"
      ],
      "metadata": {
        "id": "Zs-GVumvSkRa"
      },
      "execution_count": null,
      "outputs": []
    }
  ]
}