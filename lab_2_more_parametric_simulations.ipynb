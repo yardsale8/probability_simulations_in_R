{
  "nbformat": 4,
  "nbformat_minor": 0,
  "metadata": {
    "colab": {
      "provenance": [],
      "authorship_tag": "ABX9TyMLOZ06/qNJpUOvoSANTqsv",
      "include_colab_link": true
    },
    "kernelspec": {
      "name": "ir",
      "display_name": "R"
    },
    "language_info": {
      "name": "R"
    }
  },
  "cells": [
    {
      "cell_type": "markdown",
      "metadata": {
        "id": "view-in-github",
        "colab_type": "text"
      },
      "source": [
        "<a href=\"https://colab.research.google.com/github/yardsale8/probability_simulations_in_R/blob/main/lab_2_more_parametric_simulations.ipynb\" target=\"_parent\"><img src=\"https://colab.research.google.com/assets/colab-badge.svg\" alt=\"Open In Colab\"/></a>"
      ]
    },
    {
      "cell_type": "code",
      "execution_count": null,
      "metadata": {
        "id": "3xr4I_paW9Ug"
      },
      "outputs": [],
      "source": [
        "library(tidyverse)\n",
        "library(devtools)\n",
        "install_github('yardsale8/purrrfect', force = TRUE)\n",
        "library(purrrfect)"
      ]
    },
    {
      "cell_type": "markdown",
      "source": [
        "# Lab 2 - More Parametric Simulations\n",
        "\n",
        "In this lab, we will\n",
        "\n",
        "1. Verify some of our previous results, while also\n",
        "2. Practice plotting the estimated distributions over a parameter space."
      ],
      "metadata": {
        "id": "nfd12uowXP-y"
      }
    },
    {
      "cell_type": "markdown",
      "source": [
        "#### Problem 1 - The hypergeomtric distribution and urn problems\n",
        "\n",
        "First, let's verify that the hypergeometric distribution's relationship to an urn problem.\n",
        "\n",
        "**Problem.** Suppose that we have an urn with 5 blue and 7 white chips.  We sample $n=4$ chips without replacement.  If $X$ represents the number of blue chips in the sample, then $X\\sim hyper$ with $N=12$, $r=5$, and $n=4$."
      ],
      "metadata": {
        "id": "uIY1Xch8Z_0v"
      }
    },
    {
      "cell_type": "markdown",
      "source": [
        "#### Part 1 - Set up the simulation\n",
        "\n",
        "1. Use `sample_unit` to sample without replacement from an appropriate urn, then\n",
        "2. Count the number of successes in each outcome."
      ],
      "metadata": {
        "id": "bWO1J-BlaxwV"
      }
    },
    {
      "cell_type": "code",
      "source": [
        "# Your code here"
      ],
      "metadata": {
        "id": "e7y_C-gQaxQm"
      },
      "execution_count": 2,
      "outputs": []
    },
    {
      "cell_type": "markdown",
      "source": [
        "#### Part 2 - Estimate and verify the distributional parameters\n",
        "\n",
        "Estimate the mean, variance and standard deviation of the distrbution of $X$ and compare to the theoretical results."
      ],
      "metadata": {
        "id": "ejRYQauNbCpr"
      }
    },
    {
      "cell_type": "code",
      "source": [
        "# Your code here"
      ],
      "metadata": {
        "id": "AK-_Z0i6bB8q"
      },
      "execution_count": 3,
      "outputs": []
    },
    {
      "cell_type": "markdown",
      "source": [
        "#### Part 3 - Plot the estimated distribution\n",
        "\n",
        "Plot the estimated distribution to verify that the distributins have the correct shape."
      ],
      "metadata": {
        "id": "vjvZChqdbWX3"
      }
    },
    {
      "cell_type": "code",
      "source": [
        "# Your code here"
      ],
      "metadata": {
        "id": "Xsor21AZbVmN"
      },
      "execution_count": null,
      "outputs": []
    },
    {
      "cell_type": "markdown",
      "source": [
        "#### Problem 2 - The negative binomial distribution and waiting time problems\n",
        "\n",
        "Suppose that we have a Bernoulli process with a fixed success rate of $0 < p < 1$ and we count the number of failures before the $k$th success.  If $Y$ represent the number of failures until the $k$th success, then $Y\\sim nbinom(k, p)$.\n",
        "\n",
        "#### Part 1 - Set up the simulation\n",
        "\n",
        "1. Set up a parameter space that contains a grid of $n$ and $p$ values,\n",
        "2. Add trials\n",
        "3. Create a list column of vectors of the form `c(p, 1-p)` where `p` is the corresponding $p$ value.\n",
        "4. Use the correct form of map with `sample_unit` to generate waiting time trials,\n",
        "5. Compute the number of failures for each outcome."
      ],
      "metadata": {
        "id": "C8AaI0idXi04"
      }
    },
    {
      "cell_type": "code",
      "source": [
        "# Your code here"
      ],
      "metadata": {
        "id": "WRfXz0JtXiLv"
      },
      "execution_count": null,
      "outputs": []
    },
    {
      "cell_type": "markdown",
      "source": [
        "#### Part 2 - Estimate and verify the distributional parameters\n",
        "\n",
        "For each combination of parameters, estimate the mean, variance, and standard deviation.  Compute the theoretical values and compare."
      ],
      "metadata": {
        "id": "elo7WDJaZVSM"
      }
    },
    {
      "cell_type": "code",
      "source": [
        "# Your code here"
      ],
      "metadata": {
        "id": "mEKpijvWZonV"
      },
      "execution_count": null,
      "outputs": []
    },
    {
      "cell_type": "markdown",
      "source": [
        "#### Part 3 - Plot the estimated distribution\n",
        "\n",
        "Plot each of the estimated distributions discussed in notebook 2.6 to verify that the distributions have the correct shape."
      ],
      "metadata": {
        "id": "bpONCC2-ZqjZ"
      }
    },
    {
      "cell_type": "code",
      "source": [
        "# Your code here"
      ],
      "metadata": {
        "id": "urLkdoeJZ4_9"
      },
      "execution_count": 1,
      "outputs": []
    }
  ]
}