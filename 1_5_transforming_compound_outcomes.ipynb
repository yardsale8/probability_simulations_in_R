{
  "nbformat": 4,
  "nbformat_minor": 0,
  "metadata": {
    "colab": {
      "provenance": [],
      "authorship_tag": "ABX9TyNcvGrNUvZu4oY9LrJhsx/G",
      "include_colab_link": true
    },
    "kernelspec": {
      "name": "ir",
      "display_name": "R"
    },
    "language_info": {
      "name": "R"
    }
  },
  "cells": [
    {
      "cell_type": "markdown",
      "metadata": {
        "id": "view-in-github",
        "colab_type": "text"
      },
      "source": [
        "<a href=\"https://colab.research.google.com/github/yardsale8/probability_simulations_in_R/blob/main/1_5_transforming_compound_outcomes.ipynb\" target=\"_parent\"><img src=\"https://colab.research.google.com/assets/colab-badge.svg\" alt=\"Open In Colab\"/></a>"
      ]
    },
    {
      "cell_type": "code",
      "execution_count": null,
      "metadata": {
        "colab": {
          "base_uri": "https://localhost:8080/"
        },
        "id": "uVA0zS42qk3P",
        "outputId": "ac76c238-ec05-474b-a42f-793bf2d8d005"
      },
      "outputs": [
        {
          "output_type": "stream",
          "name": "stderr",
          "text": [
            "Downloading GitHub repo yardsale8/purrrfect@HEAD\n",
            "\n"
          ]
        },
        {
          "output_type": "stream",
          "name": "stdout",
          "text": [
            "\n",
            "\u001b[36m──\u001b[39m \u001b[36mR CMD build\u001b[39m \u001b[36m─────────────────────────────────────────────────────────────────\u001b[39m\n",
            "* checking for file ‘/tmp/Rtmpzv1zRw/remotes19d158f463e/yardsale8-purrrfect-d91fae7/DESCRIPTION’ ... OK\n",
            "* preparing ‘purrrfect’:\n",
            "* checking DESCRIPTION meta-information ... OK\n",
            "* checking for LF line-endings in source and make files and shell scripts\n",
            "* checking for empty or unneeded directories\n",
            "* building ‘purrrfect_1.0.1.tar.gz’\n",
            "\n"
          ]
        },
        {
          "output_type": "stream",
          "name": "stderr",
          "text": [
            "Installing package into ‘/usr/local/lib/R/site-library’\n",
            "(as ‘lib’ is unspecified)\n",
            "\n"
          ]
        }
      ],
      "source": [
        "library(dplyr)\n",
        "library(tidyr)\n",
        "library(purrr)\n",
        "library(devtools)\n",
        "install_github('yardsale8/purrrfect', force = TRUE)\n",
        "library(purrrfect)"
      ]
    },
    {
      "cell_type": "markdown",
      "source": [
        "## Review -  Levels of Abstraction of a list column\n",
        "\n",
        "<img src=\"https://github.com/yardsale8/probability_simulations_in_R/blob/main/img/1_3_levels_of_abstraction.png?raw=true\" width=\"600\"/>\n",
        "\n",
        "A list column is an example of a nested data stucture, that is a data structure that contains another data structure.  In the case shown above, we have\n",
        "1. A dataframe containing\n",
        "2. A list `.outcome` column containing\n",
        "3. Integer vectors containing\n",
        "4. Raw integers.\n",
        "\n",
        "Each of these represents a level of abstraction."
      ],
      "metadata": {
        "id": "gi1xxE1cr5xC"
      }
    },
    {
      "cell_type": "markdown",
      "source": [
        "### Review -  the `str` output for a list column\n",
        "\n",
        "<img src=\"https://github.com/yardsale8/probability_simulations_in_R/blob/main/img/1_3_str_shows_levels.png?raw=true\" width=\"600\">"
      ],
      "metadata": {
        "id": "AxfzB8kcxPi_"
      }
    },
    {
      "cell_type": "markdown",
      "source": [
        "## Three Types of Problems\n",
        "\n",
        "Many probability problems can be classified as one of the following\n",
        "1. Questions about a <font color=\"orange\">**summary statistic**</font> like the sum, mean, or max,\n",
        "2. Questions about a <font color=\"orange\">**count of successes**</font> like counting the number of heads, or\n",
        "3. Questions about the <font color=\"orange\">**order/sequence**</font> of events.\n",
        "\n",
        "We will illustrate methods for solving each type by either reshaping the outcomes or using `mutate` and `map`, but before we start you should practice classifying problems as one of there three types."
      ],
      "metadata": {
        "id": "CNvtOF0uL0rw"
      }
    },
    {
      "cell_type": "markdown",
      "source": [
        "### <font color=\"red\"> Exercise 1.5.1 - Classifying problems</font>\n",
        "\n",
        "You roll a regular six-sided die twice and record the pair of outcomes.  For each of the following questions, classify the problem as related to either (A) a summary statistic, (B) counting successes, or (C) the sequence of events.\n",
        "* Event A that at least one of the rolls is 5.\n",
        "* Event B that the maximum of the values rolled is 3.\n",
        "* Event C that the first roll is larger than the\n"
      ],
      "metadata": {
        "id": "MgbYiLxPMvqq"
      }
    },
    {
      "cell_type": "markdown",
      "source": [
        "<font color=\"orange\">\n",
        "Your classifications here\n",
        "</font>"
      ],
      "metadata": {
        "id": "pUZPw-YXNFqE"
      }
    },
    {
      "cell_type": "markdown",
      "source": [
        "## Solutions Based on Reshaping Outcomes\n",
        "\n",
        "First, we illustrate solving these problems by reshaping the outcomes, that is\n",
        "* *splitting* the outcomes across many simple columns, or\n",
        "* *stacking* the outcomes in separate rows.\n",
        "\n",
        "### Solving each problem type via reshaping\n",
        "\n",
        "Here's is a sketch of how to solve each problem type via reshaping.\n",
        "* **Summary statistic.** Stack $\\longrightarrow$ group & summarize.\n",
        "2. **Count of successes.** Stack $\\longrightarrow$ recode as 1 or 0 $\\longrightarrow$  group & summarize(sum).\n",
        "3. **Order/sequence.** Split $\\longrightarrow$ mutate.\n",
        "\n",
        "Let's illustrate by solving three problems about rolling a die, one of each type."
      ],
      "metadata": {
        "id": "k4JyM_JeNSL_"
      }
    },
    {
      "cell_type": "markdown",
      "source": [
        "### Example - Rolling a fair 20-sided die.\n",
        "\n",
        "Suppose that we want are rolling a 20 sided die twice and want to know the probability that\n",
        "1. the average is larger than 12 (summary statistic),\n",
        "2. at least one roll larger than 15 (counting successes), and\n",
        "3. the two rolls are the same (order).\n",
        "\n",
        "Below, we will solve each questions by reshaping the outcomes."
      ],
      "metadata": {
        "id": "QPDH4zXwPD27"
      }
    },
    {
      "cell_type": "markdown",
      "source": [
        "#### Problem 1 - The probability that the average is larger than 12 (summary statistic)\n",
        "\n",
        "**Strategy:** Stack $\\longrightarrow$ group & summarize.\n",
        "\n",
        "Uncomment each line, rerun the code, and inspect."
      ],
      "metadata": {
        "id": "t0AAkxLAPwxH"
      }
    },
    {
      "cell_type": "code",
      "source": [
        "N <- 10\n",
        "( replicate(N, sample(1:20, 2, replace=TRUE), .reshape = 'stack') # Stack\n",
        "  # %>% group_by(.trial) %>% summarise(avg = mean(.outcome)) # Group and summarized\n",
        "  # %>% mutate(mean.greater.12 = avg > 12) # Boolean event column\n",
        "  # %>% estimate_all_prob # Increase N, uncomment, and estimate\n",
        ")"
      ],
      "metadata": {
        "colab": {
          "base_uri": "https://localhost:8080/",
          "height": 704
        },
        "id": "0Td4-zkSPwN8",
        "outputId": "a55140b8-61bc-4e58-d0e9-dd907d432d96"
      },
      "execution_count": null,
      "outputs": [
        {
          "output_type": "display_data",
          "data": {
            "text/html": [
              "<table class=\"dataframe\">\n",
              "<caption>A tibble: 20 × 3</caption>\n",
              "<thead>\n",
              "\t<tr><th scope=col>.trial</th><th scope=col>.replication</th><th scope=col>.outcome</th></tr>\n",
              "\t<tr><th scope=col>&lt;dbl&gt;</th><th scope=col>&lt;int&gt;</th><th scope=col>&lt;int&gt;</th></tr>\n",
              "</thead>\n",
              "<tbody>\n",
              "\t<tr><td> 1</td><td>1</td><td> 1</td></tr>\n",
              "\t<tr><td> 1</td><td>2</td><td>17</td></tr>\n",
              "\t<tr><td> 2</td><td>1</td><td>20</td></tr>\n",
              "\t<tr><td> 2</td><td>2</td><td> 5</td></tr>\n",
              "\t<tr><td> 3</td><td>1</td><td>17</td></tr>\n",
              "\t<tr><td> 3</td><td>2</td><td> 8</td></tr>\n",
              "\t<tr><td> 4</td><td>1</td><td>20</td></tr>\n",
              "\t<tr><td> 4</td><td>2</td><td> 4</td></tr>\n",
              "\t<tr><td> 5</td><td>1</td><td>11</td></tr>\n",
              "\t<tr><td> 5</td><td>2</td><td> 2</td></tr>\n",
              "\t<tr><td> 6</td><td>1</td><td>20</td></tr>\n",
              "\t<tr><td> 6</td><td>2</td><td>13</td></tr>\n",
              "\t<tr><td> 7</td><td>1</td><td> 5</td></tr>\n",
              "\t<tr><td> 7</td><td>2</td><td> 2</td></tr>\n",
              "\t<tr><td> 8</td><td>1</td><td>13</td></tr>\n",
              "\t<tr><td> 8</td><td>2</td><td>19</td></tr>\n",
              "\t<tr><td> 9</td><td>1</td><td>13</td></tr>\n",
              "\t<tr><td> 9</td><td>2</td><td> 4</td></tr>\n",
              "\t<tr><td>10</td><td>1</td><td> 3</td></tr>\n",
              "\t<tr><td>10</td><td>2</td><td> 3</td></tr>\n",
              "</tbody>\n",
              "</table>\n"
            ],
            "text/markdown": "\nA tibble: 20 × 3\n\n| .trial &lt;dbl&gt; | .replication &lt;int&gt; | .outcome &lt;int&gt; |\n|---|---|---|\n|  1 | 1 |  1 |\n|  1 | 2 | 17 |\n|  2 | 1 | 20 |\n|  2 | 2 |  5 |\n|  3 | 1 | 17 |\n|  3 | 2 |  8 |\n|  4 | 1 | 20 |\n|  4 | 2 |  4 |\n|  5 | 1 | 11 |\n|  5 | 2 |  2 |\n|  6 | 1 | 20 |\n|  6 | 2 | 13 |\n|  7 | 1 |  5 |\n|  7 | 2 |  2 |\n|  8 | 1 | 13 |\n|  8 | 2 | 19 |\n|  9 | 1 | 13 |\n|  9 | 2 |  4 |\n| 10 | 1 |  3 |\n| 10 | 2 |  3 |\n\n",
            "text/latex": "A tibble: 20 × 3\n\\begin{tabular}{lll}\n .trial & .replication & .outcome\\\\\n <dbl> & <int> & <int>\\\\\n\\hline\n\t  1 & 1 &  1\\\\\n\t  1 & 2 & 17\\\\\n\t  2 & 1 & 20\\\\\n\t  2 & 2 &  5\\\\\n\t  3 & 1 & 17\\\\\n\t  3 & 2 &  8\\\\\n\t  4 & 1 & 20\\\\\n\t  4 & 2 &  4\\\\\n\t  5 & 1 & 11\\\\\n\t  5 & 2 &  2\\\\\n\t  6 & 1 & 20\\\\\n\t  6 & 2 & 13\\\\\n\t  7 & 1 &  5\\\\\n\t  7 & 2 &  2\\\\\n\t  8 & 1 & 13\\\\\n\t  8 & 2 & 19\\\\\n\t  9 & 1 & 13\\\\\n\t  9 & 2 &  4\\\\\n\t 10 & 1 &  3\\\\\n\t 10 & 2 &  3\\\\\n\\end{tabular}\n",
            "text/plain": [
              "   .trial .replication .outcome\n",
              "1   1     1             1      \n",
              "2   1     2            17      \n",
              "3   2     1            20      \n",
              "4   2     2             5      \n",
              "5   3     1            17      \n",
              "6   3     2             8      \n",
              "7   4     1            20      \n",
              "8   4     2             4      \n",
              "9   5     1            11      \n",
              "10  5     2             2      \n",
              "11  6     1            20      \n",
              "12  6     2            13      \n",
              "13  7     1             5      \n",
              "14  7     2             2      \n",
              "15  8     1            13      \n",
              "16  8     2            19      \n",
              "17  9     1            13      \n",
              "18  9     2             4      \n",
              "19 10     1             3      \n",
              "20 10     2             3      "
            ]
          },
          "metadata": {}
        }
      ]
    },
    {
      "cell_type": "markdown",
      "source": [
        "#### Problem 2 - The probability that at least one roll is greater than 15 (counting successes)\n",
        "\n",
        "**Strategy.** Stack $\\longrightarrow$ recode as 1 or 0 $\\longrightarrow$  group & summarize(sum).\n",
        "\n",
        "Uncomment each line, rerun the code, and inspect."
      ],
      "metadata": {
        "id": "zqCwLf52RnBT"
      }
    },
    {
      "cell_type": "code",
      "source": [
        "N <- 10\n",
        "( replicate(N, sample(1:20, 2, replace=TRUE), .reshape = 'stack') # Stack\n",
        "  %>% mutate(is.success = ifelse(.outcome >= 15, 1, 0)) # Recode successes\n",
        "  # %>% group_by(.trial) %>% summarise(num.successes = sum(is.success)) # Group and summarized\n",
        "  # %>% mutate(at.least.one.greater.15 = num.successes >= 1) # Boolean event column\n",
        "  # %>% estimate_all_prob # Increase N, uncomment, and estimate\n",
        ")\n"
      ],
      "metadata": {
        "colab": {
          "base_uri": "https://localhost:8080/",
          "height": 704
        },
        "id": "wiCMUYcHRppp",
        "outputId": "fa08436b-0754-4048-974d-3541811e5a2f"
      },
      "execution_count": null,
      "outputs": [
        {
          "output_type": "display_data",
          "data": {
            "text/html": [
              "<table class=\"dataframe\">\n",
              "<caption>A tibble: 20 × 4</caption>\n",
              "<thead>\n",
              "\t<tr><th scope=col>.trial</th><th scope=col>.replication</th><th scope=col>.outcome</th><th scope=col>is.success</th></tr>\n",
              "\t<tr><th scope=col>&lt;dbl&gt;</th><th scope=col>&lt;int&gt;</th><th scope=col>&lt;int&gt;</th><th scope=col>&lt;dbl&gt;</th></tr>\n",
              "</thead>\n",
              "<tbody>\n",
              "\t<tr><td> 1</td><td>1</td><td> 9</td><td>0</td></tr>\n",
              "\t<tr><td> 1</td><td>2</td><td>10</td><td>0</td></tr>\n",
              "\t<tr><td> 2</td><td>1</td><td>16</td><td>1</td></tr>\n",
              "\t<tr><td> 2</td><td>2</td><td>13</td><td>0</td></tr>\n",
              "\t<tr><td> 3</td><td>1</td><td> 1</td><td>0</td></tr>\n",
              "\t<tr><td> 3</td><td>2</td><td>20</td><td>1</td></tr>\n",
              "\t<tr><td> 4</td><td>1</td><td>17</td><td>1</td></tr>\n",
              "\t<tr><td> 4</td><td>2</td><td>12</td><td>0</td></tr>\n",
              "\t<tr><td> 5</td><td>1</td><td>16</td><td>1</td></tr>\n",
              "\t<tr><td> 5</td><td>2</td><td>18</td><td>1</td></tr>\n",
              "\t<tr><td> 6</td><td>1</td><td>20</td><td>1</td></tr>\n",
              "\t<tr><td> 6</td><td>2</td><td>20</td><td>1</td></tr>\n",
              "\t<tr><td> 7</td><td>1</td><td> 3</td><td>0</td></tr>\n",
              "\t<tr><td> 7</td><td>2</td><td> 2</td><td>0</td></tr>\n",
              "\t<tr><td> 8</td><td>1</td><td>19</td><td>1</td></tr>\n",
              "\t<tr><td> 8</td><td>2</td><td> 1</td><td>0</td></tr>\n",
              "\t<tr><td> 9</td><td>1</td><td> 8</td><td>0</td></tr>\n",
              "\t<tr><td> 9</td><td>2</td><td>20</td><td>1</td></tr>\n",
              "\t<tr><td>10</td><td>1</td><td> 5</td><td>0</td></tr>\n",
              "\t<tr><td>10</td><td>2</td><td> 2</td><td>0</td></tr>\n",
              "</tbody>\n",
              "</table>\n"
            ],
            "text/markdown": "\nA tibble: 20 × 4\n\n| .trial &lt;dbl&gt; | .replication &lt;int&gt; | .outcome &lt;int&gt; | is.success &lt;dbl&gt; |\n|---|---|---|---|\n|  1 | 1 |  9 | 0 |\n|  1 | 2 | 10 | 0 |\n|  2 | 1 | 16 | 1 |\n|  2 | 2 | 13 | 0 |\n|  3 | 1 |  1 | 0 |\n|  3 | 2 | 20 | 1 |\n|  4 | 1 | 17 | 1 |\n|  4 | 2 | 12 | 0 |\n|  5 | 1 | 16 | 1 |\n|  5 | 2 | 18 | 1 |\n|  6 | 1 | 20 | 1 |\n|  6 | 2 | 20 | 1 |\n|  7 | 1 |  3 | 0 |\n|  7 | 2 |  2 | 0 |\n|  8 | 1 | 19 | 1 |\n|  8 | 2 |  1 | 0 |\n|  9 | 1 |  8 | 0 |\n|  9 | 2 | 20 | 1 |\n| 10 | 1 |  5 | 0 |\n| 10 | 2 |  2 | 0 |\n\n",
            "text/latex": "A tibble: 20 × 4\n\\begin{tabular}{llll}\n .trial & .replication & .outcome & is.success\\\\\n <dbl> & <int> & <int> & <dbl>\\\\\n\\hline\n\t  1 & 1 &  9 & 0\\\\\n\t  1 & 2 & 10 & 0\\\\\n\t  2 & 1 & 16 & 1\\\\\n\t  2 & 2 & 13 & 0\\\\\n\t  3 & 1 &  1 & 0\\\\\n\t  3 & 2 & 20 & 1\\\\\n\t  4 & 1 & 17 & 1\\\\\n\t  4 & 2 & 12 & 0\\\\\n\t  5 & 1 & 16 & 1\\\\\n\t  5 & 2 & 18 & 1\\\\\n\t  6 & 1 & 20 & 1\\\\\n\t  6 & 2 & 20 & 1\\\\\n\t  7 & 1 &  3 & 0\\\\\n\t  7 & 2 &  2 & 0\\\\\n\t  8 & 1 & 19 & 1\\\\\n\t  8 & 2 &  1 & 0\\\\\n\t  9 & 1 &  8 & 0\\\\\n\t  9 & 2 & 20 & 1\\\\\n\t 10 & 1 &  5 & 0\\\\\n\t 10 & 2 &  2 & 0\\\\\n\\end{tabular}\n",
            "text/plain": [
              "   .trial .replication .outcome is.success\n",
              "1   1     1             9       0         \n",
              "2   1     2            10       0         \n",
              "3   2     1            16       1         \n",
              "4   2     2            13       0         \n",
              "5   3     1             1       0         \n",
              "6   3     2            20       1         \n",
              "7   4     1            17       1         \n",
              "8   4     2            12       0         \n",
              "9   5     1            16       1         \n",
              "10  5     2            18       1         \n",
              "11  6     1            20       1         \n",
              "12  6     2            20       1         \n",
              "13  7     1             3       0         \n",
              "14  7     2             2       0         \n",
              "15  8     1            19       1         \n",
              "16  8     2             1       0         \n",
              "17  9     1             8       0         \n",
              "18  9     2            20       1         \n",
              "19 10     1             5       0         \n",
              "20 10     2             2       0         "
            ]
          },
          "metadata": {}
        }
      ]
    },
    {
      "cell_type": "markdown",
      "source": [
        "#### Problem 3 - The probability that the two rolls are the same (order/sequence)\n",
        "\n",
        "**Strategy.** Split $\\longrightarrow$ mutate.\n",
        "\n",
        "Uncomment is line, rerun, and inspect the results."
      ],
      "metadata": {
        "id": "cPM8AUoPSzQY"
      }
    },
    {
      "cell_type": "code",
      "source": [
        "N <- 10\n",
        "( replicate(N, sample(1:20, 2, replace=TRUE), .reshape = 'split') # Split\n",
        "  %>% mutate(rolls.equal = .outcome.1 == .outcome.2) # Mutate\n",
        "  # %>% estimate_all_prob # Increase N, uncomment, and estimate\n",
        ")"
      ],
      "metadata": {
        "colab": {
          "base_uri": "https://localhost:8080/",
          "height": 400
        },
        "id": "T_RizJmITD7d",
        "outputId": "1f8f4831-8b58-4a85-dc4c-cc99ef813607"
      },
      "execution_count": null,
      "outputs": [
        {
          "output_type": "display_data",
          "data": {
            "text/html": [
              "<table class=\"dataframe\">\n",
              "<caption>A tibble: 10 × 4</caption>\n",
              "<thead>\n",
              "\t<tr><th scope=col>.trial</th><th scope=col>.outcome.1</th><th scope=col>.outcome.2</th><th scope=col>rolls.equal</th></tr>\n",
              "\t<tr><th scope=col>&lt;dbl&gt;</th><th scope=col>&lt;int&gt;</th><th scope=col>&lt;int&gt;</th><th scope=col>&lt;lgl&gt;</th></tr>\n",
              "</thead>\n",
              "<tbody>\n",
              "\t<tr><td> 1</td><td>16</td><td> 9</td><td>FALSE</td></tr>\n",
              "\t<tr><td> 2</td><td> 2</td><td>12</td><td>FALSE</td></tr>\n",
              "\t<tr><td> 3</td><td>19</td><td>11</td><td>FALSE</td></tr>\n",
              "\t<tr><td> 4</td><td> 7</td><td> 4</td><td>FALSE</td></tr>\n",
              "\t<tr><td> 5</td><td>10</td><td>15</td><td>FALSE</td></tr>\n",
              "\t<tr><td> 6</td><td> 6</td><td>20</td><td>FALSE</td></tr>\n",
              "\t<tr><td> 7</td><td>12</td><td> 8</td><td>FALSE</td></tr>\n",
              "\t<tr><td> 8</td><td>18</td><td>10</td><td>FALSE</td></tr>\n",
              "\t<tr><td> 9</td><td> 1</td><td>17</td><td>FALSE</td></tr>\n",
              "\t<tr><td>10</td><td>16</td><td> 9</td><td>FALSE</td></tr>\n",
              "</tbody>\n",
              "</table>\n"
            ],
            "text/markdown": "\nA tibble: 10 × 4\n\n| .trial &lt;dbl&gt; | .outcome.1 &lt;int&gt; | .outcome.2 &lt;int&gt; | rolls.equal &lt;lgl&gt; |\n|---|---|---|---|\n|  1 | 16 |  9 | FALSE |\n|  2 |  2 | 12 | FALSE |\n|  3 | 19 | 11 | FALSE |\n|  4 |  7 |  4 | FALSE |\n|  5 | 10 | 15 | FALSE |\n|  6 |  6 | 20 | FALSE |\n|  7 | 12 |  8 | FALSE |\n|  8 | 18 | 10 | FALSE |\n|  9 |  1 | 17 | FALSE |\n| 10 | 16 |  9 | FALSE |\n\n",
            "text/latex": "A tibble: 10 × 4\n\\begin{tabular}{llll}\n .trial & .outcome.1 & .outcome.2 & rolls.equal\\\\\n <dbl> & <int> & <int> & <lgl>\\\\\n\\hline\n\t  1 & 16 &  9 & FALSE\\\\\n\t  2 &  2 & 12 & FALSE\\\\\n\t  3 & 19 & 11 & FALSE\\\\\n\t  4 &  7 &  4 & FALSE\\\\\n\t  5 & 10 & 15 & FALSE\\\\\n\t  6 &  6 & 20 & FALSE\\\\\n\t  7 & 12 &  8 & FALSE\\\\\n\t  8 & 18 & 10 & FALSE\\\\\n\t  9 &  1 & 17 & FALSE\\\\\n\t 10 & 16 &  9 & FALSE\\\\\n\\end{tabular}\n",
            "text/plain": [
              "   .trial .outcome.1 .outcome.2 rolls.equal\n",
              "1   1     16          9         FALSE      \n",
              "2   2      2         12         FALSE      \n",
              "3   3     19         11         FALSE      \n",
              "4   4      7          4         FALSE      \n",
              "5   5     10         15         FALSE      \n",
              "6   6      6         20         FALSE      \n",
              "7   7     12          8         FALSE      \n",
              "8   8     18         10         FALSE      \n",
              "9   9      1         17         FALSE      \n",
              "10 10     16          9         FALSE      "
            ]
          },
          "metadata": {}
        }
      ]
    },
    {
      "cell_type": "markdown",
      "source": [
        "### Problem types and random variables\n",
        "\n",
        "Recall that a random variable is a function that codes the outcomes, denoted as $\\omega$, as a number, e.g., denoted as $X(\\omega)$.  Each of the previous techniques can be thought of as computing one or more random variables."
      ],
      "metadata": {
        "id": "UyOGoubpT6GH"
      }
    },
    {
      "cell_type": "markdown",
      "source": [
        "#### Problem 1 - $X$ is the summary statistic"
      ],
      "metadata": {
        "id": "pOOEZZAFUts-"
      }
    },
    {
      "cell_type": "code",
      "source": [
        "N <- 10\n",
        "( replicate(N, sample(1:20, 2, replace=TRUE), .reshape = 'stack') # Stack\n",
        "  %>% group_by(.trial) %>% summarise(avg = mean(.outcome)) # Group and summarized\n",
        ")"
      ],
      "metadata": {
        "colab": {
          "base_uri": "https://localhost:8080/",
          "height": 400
        },
        "id": "LiuTCvIlVEEl",
        "outputId": "53899841-0637-4a91-dae8-8dca03f438c1"
      },
      "execution_count": null,
      "outputs": [
        {
          "output_type": "display_data",
          "data": {
            "text/html": [
              "<table class=\"dataframe\">\n",
              "<caption>A tibble: 10 × 2</caption>\n",
              "<thead>\n",
              "\t<tr><th scope=col>.trial</th><th scope=col>avg</th></tr>\n",
              "\t<tr><th scope=col>&lt;dbl&gt;</th><th scope=col>&lt;dbl&gt;</th></tr>\n",
              "</thead>\n",
              "<tbody>\n",
              "\t<tr><td> 1</td><td> 7.0</td></tr>\n",
              "\t<tr><td> 2</td><td> 4.0</td></tr>\n",
              "\t<tr><td> 3</td><td>18.5</td></tr>\n",
              "\t<tr><td> 4</td><td>16.0</td></tr>\n",
              "\t<tr><td> 5</td><td>10.5</td></tr>\n",
              "\t<tr><td> 6</td><td> 6.5</td></tr>\n",
              "\t<tr><td> 7</td><td> 7.5</td></tr>\n",
              "\t<tr><td> 8</td><td>16.0</td></tr>\n",
              "\t<tr><td> 9</td><td>10.5</td></tr>\n",
              "\t<tr><td>10</td><td>17.0</td></tr>\n",
              "</tbody>\n",
              "</table>\n"
            ],
            "text/markdown": "\nA tibble: 10 × 2\n\n| .trial &lt;dbl&gt; | avg &lt;dbl&gt; |\n|---|---|\n|  1 |  7.0 |\n|  2 |  4.0 |\n|  3 | 18.5 |\n|  4 | 16.0 |\n|  5 | 10.5 |\n|  6 |  6.5 |\n|  7 |  7.5 |\n|  8 | 16.0 |\n|  9 | 10.5 |\n| 10 | 17.0 |\n\n",
            "text/latex": "A tibble: 10 × 2\n\\begin{tabular}{ll}\n .trial & avg\\\\\n <dbl> & <dbl>\\\\\n\\hline\n\t  1 &  7.0\\\\\n\t  2 &  4.0\\\\\n\t  3 & 18.5\\\\\n\t  4 & 16.0\\\\\n\t  5 & 10.5\\\\\n\t  6 &  6.5\\\\\n\t  7 &  7.5\\\\\n\t  8 & 16.0\\\\\n\t  9 & 10.5\\\\\n\t 10 & 17.0\\\\\n\\end{tabular}\n",
            "text/plain": [
              "   .trial avg \n",
              "1   1      7.0\n",
              "2   2      4.0\n",
              "3   3     18.5\n",
              "4   4     16.0\n",
              "5   5     10.5\n",
              "6   6      6.5\n",
              "7   7      7.5\n",
              "8   8     16.0\n",
              "9   9     10.5\n",
              "10 10     17.0"
            ]
          },
          "metadata": {}
        }
      ]
    },
    {
      "cell_type": "markdown",
      "source": [
        "##### Problem 2 - $X$ is the number of successes"
      ],
      "metadata": {
        "id": "vpPnDLnYU8Ef"
      }
    },
    {
      "cell_type": "code",
      "source": [
        "N <- 10\n",
        "( replicate(N, sample(1:20, 2, replace=TRUE), .reshape = 'stack') # Stack\n",
        "  %>% mutate(is.success = ifelse(.outcome >= 15, 1, 0)) # Recode successes\n",
        "  %>% group_by(.trial) %>% summarise(num.successes = sum(is.success)) # Group and summarized\n",
        ")\n"
      ],
      "metadata": {
        "colab": {
          "base_uri": "https://localhost:8080/",
          "height": 400
        },
        "id": "OY8AIdxdUueq",
        "outputId": "734f291a-d821-4235-bb2b-72aea5056137"
      },
      "execution_count": null,
      "outputs": [
        {
          "output_type": "display_data",
          "data": {
            "text/html": [
              "<table class=\"dataframe\">\n",
              "<caption>A tibble: 10 × 2</caption>\n",
              "<thead>\n",
              "\t<tr><th scope=col>.trial</th><th scope=col>num.successes</th></tr>\n",
              "\t<tr><th scope=col>&lt;dbl&gt;</th><th scope=col>&lt;dbl&gt;</th></tr>\n",
              "</thead>\n",
              "<tbody>\n",
              "\t<tr><td> 1</td><td>1</td></tr>\n",
              "\t<tr><td> 2</td><td>1</td></tr>\n",
              "\t<tr><td> 3</td><td>2</td></tr>\n",
              "\t<tr><td> 4</td><td>0</td></tr>\n",
              "\t<tr><td> 5</td><td>1</td></tr>\n",
              "\t<tr><td> 6</td><td>1</td></tr>\n",
              "\t<tr><td> 7</td><td>1</td></tr>\n",
              "\t<tr><td> 8</td><td>0</td></tr>\n",
              "\t<tr><td> 9</td><td>0</td></tr>\n",
              "\t<tr><td>10</td><td>1</td></tr>\n",
              "</tbody>\n",
              "</table>\n"
            ],
            "text/markdown": "\nA tibble: 10 × 2\n\n| .trial &lt;dbl&gt; | num.successes &lt;dbl&gt; |\n|---|---|\n|  1 | 1 |\n|  2 | 1 |\n|  3 | 2 |\n|  4 | 0 |\n|  5 | 1 |\n|  6 | 1 |\n|  7 | 1 |\n|  8 | 0 |\n|  9 | 0 |\n| 10 | 1 |\n\n",
            "text/latex": "A tibble: 10 × 2\n\\begin{tabular}{ll}\n .trial & num.successes\\\\\n <dbl> & <dbl>\\\\\n\\hline\n\t  1 & 1\\\\\n\t  2 & 1\\\\\n\t  3 & 2\\\\\n\t  4 & 0\\\\\n\t  5 & 1\\\\\n\t  6 & 1\\\\\n\t  7 & 1\\\\\n\t  8 & 0\\\\\n\t  9 & 0\\\\\n\t 10 & 1\\\\\n\\end{tabular}\n",
            "text/plain": [
              "   .trial num.successes\n",
              "1   1     1            \n",
              "2   2     1            \n",
              "3   3     2            \n",
              "4   4     0            \n",
              "5   5     1            \n",
              "6   6     1            \n",
              "7   7     1            \n",
              "8   8     0            \n",
              "9   9     0            \n",
              "10 10     1            "
            ]
          },
          "metadata": {}
        }
      ]
    },
    {
      "cell_type": "markdown",
      "source": [
        "#### Problem 3 - $X_1$ and $X_2$ are the first and second rolls."
      ],
      "metadata": {
        "id": "xYWOVz8sVLiQ"
      }
    },
    {
      "cell_type": "code",
      "source": [
        "N <- 10\n",
        "( replicate(N, sample(1:20, 2, replace=TRUE), .reshape = 'split') # Split\n",
        ")\n"
      ],
      "metadata": {
        "colab": {
          "base_uri": "https://localhost:8080/",
          "height": 400
        },
        "id": "iWj4eGE5VJ5G",
        "outputId": "ea3ecacc-af72-4a50-e1df-0e70e1dd778b"
      },
      "execution_count": null,
      "outputs": [
        {
          "output_type": "display_data",
          "data": {
            "text/html": [
              "<table class=\"dataframe\">\n",
              "<caption>A tibble: 10 × 3</caption>\n",
              "<thead>\n",
              "\t<tr><th scope=col>.trial</th><th scope=col>.outcome.1</th><th scope=col>.outcome.2</th></tr>\n",
              "\t<tr><th scope=col>&lt;dbl&gt;</th><th scope=col>&lt;int&gt;</th><th scope=col>&lt;int&gt;</th></tr>\n",
              "</thead>\n",
              "<tbody>\n",
              "\t<tr><td> 1</td><td>18</td><td> 9</td></tr>\n",
              "\t<tr><td> 2</td><td>12</td><td> 8</td></tr>\n",
              "\t<tr><td> 3</td><td> 3</td><td> 7</td></tr>\n",
              "\t<tr><td> 4</td><td> 4</td><td> 9</td></tr>\n",
              "\t<tr><td> 5</td><td>11</td><td>13</td></tr>\n",
              "\t<tr><td> 6</td><td>13</td><td>14</td></tr>\n",
              "\t<tr><td> 7</td><td>16</td><td> 6</td></tr>\n",
              "\t<tr><td> 8</td><td> 4</td><td> 5</td></tr>\n",
              "\t<tr><td> 9</td><td>14</td><td> 7</td></tr>\n",
              "\t<tr><td>10</td><td> 9</td><td> 8</td></tr>\n",
              "</tbody>\n",
              "</table>\n"
            ],
            "text/markdown": "\nA tibble: 10 × 3\n\n| .trial &lt;dbl&gt; | .outcome.1 &lt;int&gt; | .outcome.2 &lt;int&gt; |\n|---|---|---|\n|  1 | 18 |  9 |\n|  2 | 12 |  8 |\n|  3 |  3 |  7 |\n|  4 |  4 |  9 |\n|  5 | 11 | 13 |\n|  6 | 13 | 14 |\n|  7 | 16 |  6 |\n|  8 |  4 |  5 |\n|  9 | 14 |  7 |\n| 10 |  9 |  8 |\n\n",
            "text/latex": "A tibble: 10 × 3\n\\begin{tabular}{lll}\n .trial & .outcome.1 & .outcome.2\\\\\n <dbl> & <int> & <int>\\\\\n\\hline\n\t  1 & 18 &  9\\\\\n\t  2 & 12 &  8\\\\\n\t  3 &  3 &  7\\\\\n\t  4 &  4 &  9\\\\\n\t  5 & 11 & 13\\\\\n\t  6 & 13 & 14\\\\\n\t  7 & 16 &  6\\\\\n\t  8 &  4 &  5\\\\\n\t  9 & 14 &  7\\\\\n\t 10 &  9 &  8\\\\\n\\end{tabular}\n",
            "text/plain": [
              "   .trial .outcome.1 .outcome.2\n",
              "1   1     18          9        \n",
              "2   2     12          8        \n",
              "3   3      3          7        \n",
              "4   4      4          9        \n",
              "5   5     11         13        \n",
              "6   6     13         14        \n",
              "7   7     16          6        \n",
              "8   8      4          5        \n",
              "9   9     14          7        \n",
              "10 10      9          8        "
            ]
          },
          "metadata": {}
        }
      ]
    },
    {
      "cell_type": "markdown",
      "source": [
        "### <font color=\"red\"> Exercise 1.5.2 - Reshaping outcomes</font>\n",
        "\n",
        "You roll a regular six-sided die twice and record the pair of outcomes.  For each of the following questions, classify the problem as related to either (A) a summary statistic, (B) counting successes, or (C) the sequence of events.\n",
        "* Event A that at least one of the rolls is 5.\n",
        "* Event B that the maximum of the values rolled is 3.\n",
        "* Event C that the first flip is larger than the second.\n",
        "\n",
        "**Tasks.**\n",
        "\n",
        "1. Estimate the probability of each event by reshaping the outcomes, then\n",
        "2. Define the random variables used in each solution."
      ],
      "metadata": {
        "id": "d19aTVHZThjz"
      }
    },
    {
      "cell_type": "code",
      "source": [
        "# Your code here."
      ],
      "metadata": {
        "id": "7wLoK6qaTtx9"
      },
      "execution_count": null,
      "outputs": []
    },
    {
      "cell_type": "markdown",
      "source": [
        "<font color=\"orange\">\n",
        "Identify the random variables here.\n",
        "</font>"
      ],
      "metadata": {
        "id": "ACp_rpvfaP48"
      }
    },
    {
      "cell_type": "markdown",
      "source": [
        "## Using `mutate` + `map` on Compound Simulations\n",
        "\n",
        "The other approach to solving the three type of problems involves using `mutate` and `map` to work directly with the outcomes in the list column.\n",
        "\n"
      ],
      "metadata": {
        "id": "xk6vuCc8N-Q7"
      }
    },
    {
      "cell_type": "markdown",
      "source": [
        "### Piercing levels of abstraction with `mutate` and `map`\n",
        "<img src=\"https://github.com/yardsale8/probability_simulations_in_R/blob/main/img/1_3_mutate_map_and_levels.png?raw=true\" width=\"600\">\n",
        "\n",
        "The functions `mutate` and `map` provide the tools needed to reach into a table and transform data at various levels.\n",
        "- `mutate(col1 = v(col1))` will apply the vectorized functions `v` to the whole `col1`\n",
        "- `mutate(col1 = map(col1, v)` will apply the vectorized functions `v` to each element of`col1`\n",
        "- `mutate(col1 = map(col1, \\(x) map(x, f))` will apply the functions `f` to each element of each of the lists in `col1`\n"
      ],
      "metadata": {
        "id": "cSb7b7Q8xt1T"
      }
    },
    {
      "cell_type": "markdown",
      "source": [
        "### A `mutate` + `map` strategy for each problem type.\n",
        "\n",
        "Here's is a sketch of how to solve each problem type using `mutate` + `map`\n",
        "1. **Summary statistic.** Map the summary statistic onto the list column of outcomes.\n",
        "2. **Count of successes.** Use `map` to recode as 1 or 0 $\\longrightarrow$ map `sum` onto recoded values.\n",
        "3. **Order/sequence.** Use `map` to extract important information.\n",
        "\n",
        "Let's illustrate by returning to the three problems about rolling a die, one of each type.\n",
        "\n"
      ],
      "metadata": {
        "id": "oGo8rMB6WNb-"
      }
    },
    {
      "cell_type": "markdown",
      "source": [
        "### Example - Rolling a fair 20-sided die.\n",
        "\n",
        "Recall that we want are rolling a 20 sided die twice and want to know the probability that\n",
        "1. the average is larger than 12 (summary statistic),\n",
        "2. at least one roll larger than 15 (counting successes), and\n",
        "3. the two rolls are the same (order).\n",
        "\n",
        "Below, we will solve each questions by reshaping the outcomes."
      ],
      "metadata": {
        "id": "wk4q0ChvXp3i"
      }
    },
    {
      "cell_type": "markdown",
      "source": [
        "#### Problem 1 - Map the average onto outcomes"
      ],
      "metadata": {
        "id": "h18g9r8MX1fR"
      }
    },
    {
      "cell_type": "code",
      "source": [
        "N <- 10\n",
        "(replicate(N, sample(1:20, 2, replace=TRUE))\n",
        "%>% mutate(avg = map_dbl(.outcome, mean))\n",
        "%>% mutate(avg.larger.12 = avg > 12)\n",
        "# %>% estimate_all_prob\n",
        ")"
      ],
      "metadata": {
        "colab": {
          "base_uri": "https://localhost:8080/",
          "height": 400
        },
        "id": "kggcmjmiX208",
        "outputId": "50c1fe15-b855-47e1-8197-ec557e5bf011"
      },
      "execution_count": null,
      "outputs": [
        {
          "output_type": "display_data",
          "data": {
            "text/html": [
              "<table class=\"dataframe\">\n",
              "<caption>A tibble: 10 × 4</caption>\n",
              "<thead>\n",
              "\t<tr><th scope=col>.trial</th><th scope=col>.outcome</th><th scope=col>avg</th><th scope=col>avg.larger.12</th></tr>\n",
              "\t<tr><th scope=col>&lt;dbl&gt;</th><th scope=col>&lt;list&gt;</th><th scope=col>&lt;dbl&gt;</th><th scope=col>&lt;lgl&gt;</th></tr>\n",
              "</thead>\n",
              "<tbody>\n",
              "\t<tr><td> 1</td><td>20, 16</td><td>18.0</td><td> TRUE</td></tr>\n",
              "\t<tr><td> 2</td><td>1, 7</td><td> 4.0</td><td>FALSE</td></tr>\n",
              "\t<tr><td> 3</td><td>20, 3</td><td>11.5</td><td>FALSE</td></tr>\n",
              "\t<tr><td> 4</td><td>18, 4</td><td>11.0</td><td>FALSE</td></tr>\n",
              "\t<tr><td> 5</td><td>7, 17</td><td>12.0</td><td>FALSE</td></tr>\n",
              "\t<tr><td> 6</td><td>17, 12</td><td>14.5</td><td> TRUE</td></tr>\n",
              "\t<tr><td> 7</td><td>16, 4</td><td>10.0</td><td>FALSE</td></tr>\n",
              "\t<tr><td> 8</td><td>19, 3</td><td>11.0</td><td>FALSE</td></tr>\n",
              "\t<tr><td> 9</td><td>3, 13</td><td> 8.0</td><td>FALSE</td></tr>\n",
              "\t<tr><td>10</td><td>20, 10</td><td>15.0</td><td> TRUE</td></tr>\n",
              "</tbody>\n",
              "</table>\n"
            ],
            "text/markdown": "\nA tibble: 10 × 4\n\n| .trial &lt;dbl&gt; | .outcome &lt;list&gt; | avg &lt;dbl&gt; | avg.larger.12 &lt;lgl&gt; |\n|---|---|---|---|\n|  1 | 20, 16 | 18.0 |  TRUE |\n|  2 | 1, 7 |  4.0 | FALSE |\n|  3 | 20, 3 | 11.5 | FALSE |\n|  4 | 18, 4 | 11.0 | FALSE |\n|  5 | 7, 17 | 12.0 | FALSE |\n|  6 | 17, 12 | 14.5 |  TRUE |\n|  7 | 16, 4 | 10.0 | FALSE |\n|  8 | 19, 3 | 11.0 | FALSE |\n|  9 | 3, 13 |  8.0 | FALSE |\n| 10 | 20, 10 | 15.0 |  TRUE |\n\n",
            "text/latex": "A tibble: 10 × 4\n\\begin{tabular}{llll}\n .trial & .outcome & avg & avg.larger.12\\\\\n <dbl> & <list> & <dbl> & <lgl>\\\\\n\\hline\n\t  1 & 20, 16 & 18.0 &  TRUE\\\\\n\t  2 & 1, 7 &  4.0 & FALSE\\\\\n\t  3 & 20, 3 & 11.5 & FALSE\\\\\n\t  4 & 18, 4 & 11.0 & FALSE\\\\\n\t  5 & 7, 17 & 12.0 & FALSE\\\\\n\t  6 & 17, 12 & 14.5 &  TRUE\\\\\n\t  7 & 16, 4 & 10.0 & FALSE\\\\\n\t  8 & 19, 3 & 11.0 & FALSE\\\\\n\t  9 & 3, 13 &  8.0 & FALSE\\\\\n\t 10 & 20, 10 & 15.0 &  TRUE\\\\\n\\end{tabular}\n",
            "text/plain": [
              "   .trial .outcome avg  avg.larger.12\n",
              "1   1     20, 16   18.0  TRUE        \n",
              "2   2     1, 7      4.0 FALSE        \n",
              "3   3     20, 3    11.5 FALSE        \n",
              "4   4     18, 4    11.0 FALSE        \n",
              "5   5     7, 17    12.0 FALSE        \n",
              "6   6     17, 12   14.5  TRUE        \n",
              "7   7     16, 4    10.0 FALSE        \n",
              "8   8     19, 3    11.0 FALSE        \n",
              "9   9     3, 13     8.0 FALSE        \n",
              "10 10     20, 10   15.0  TRUE        "
            ]
          },
          "metadata": {}
        }
      ]
    },
    {
      "cell_type": "markdown",
      "source": [
        "#### Problem 2 - Recode then sum"
      ],
      "metadata": {
        "id": "XTtqYvpzYiTa"
      }
    },
    {
      "cell_type": "code",
      "source": [
        "N <- 10\n",
        "(replicate(N, sample(1:20, 2, replace=TRUE))\n",
        "%>% mutate(is.success = map(.outcome, \\(x) ifelse(x >= 15, 1, 0))) # Recode\n",
        "%>% mutate(num.successes = map_int(is.success, sum))\n",
        "%>% mutate(at.least.one.15 = num.successes >= 1)\n",
        "# %>% estimate_all_prob\n",
        ")"
      ],
      "metadata": {
        "colab": {
          "base_uri": "https://localhost:8080/",
          "height": 400
        },
        "id": "m5JCwmZfYlyh",
        "outputId": "734ca294-6bb0-4456-d9e3-29c7160843a0"
      },
      "execution_count": null,
      "outputs": [
        {
          "output_type": "display_data",
          "data": {
            "text/html": [
              "<table class=\"dataframe\">\n",
              "<caption>A tibble: 10 × 5</caption>\n",
              "<thead>\n",
              "\t<tr><th scope=col>.trial</th><th scope=col>.outcome</th><th scope=col>is.success</th><th scope=col>num.successes</th><th scope=col>at.least.one.15</th></tr>\n",
              "\t<tr><th scope=col>&lt;dbl&gt;</th><th scope=col>&lt;list&gt;</th><th scope=col>&lt;list&gt;</th><th scope=col>&lt;int&gt;</th><th scope=col>&lt;lgl&gt;</th></tr>\n",
              "</thead>\n",
              "<tbody>\n",
              "\t<tr><td> 1</td><td>3, 8</td><td>0, 0</td><td>0</td><td>FALSE</td></tr>\n",
              "\t<tr><td> 2</td><td>11, 10</td><td>0, 0</td><td>0</td><td>FALSE</td></tr>\n",
              "\t<tr><td> 3</td><td>20, 7</td><td>1, 0</td><td>1</td><td> TRUE</td></tr>\n",
              "\t<tr><td> 4</td><td>4, 11</td><td>0, 0</td><td>0</td><td>FALSE</td></tr>\n",
              "\t<tr><td> 5</td><td>6, 10</td><td>0, 0</td><td>0</td><td>FALSE</td></tr>\n",
              "\t<tr><td> 6</td><td>13, 5</td><td>0, 0</td><td>0</td><td>FALSE</td></tr>\n",
              "\t<tr><td> 7</td><td>5, 6</td><td>0, 0</td><td>0</td><td>FALSE</td></tr>\n",
              "\t<tr><td> 8</td><td>20, 1</td><td>1, 0</td><td>1</td><td> TRUE</td></tr>\n",
              "\t<tr><td> 9</td><td>9, 20</td><td>0, 1</td><td>1</td><td> TRUE</td></tr>\n",
              "\t<tr><td>10</td><td>9, 15</td><td>0, 1</td><td>1</td><td> TRUE</td></tr>\n",
              "</tbody>\n",
              "</table>\n"
            ],
            "text/markdown": "\nA tibble: 10 × 5\n\n| .trial &lt;dbl&gt; | .outcome &lt;list&gt; | is.success &lt;list&gt; | num.successes &lt;int&gt; | at.least.one.15 &lt;lgl&gt; |\n|---|---|---|---|---|\n|  1 | 3, 8 | 0, 0 | 0 | FALSE |\n|  2 | 11, 10 | 0, 0 | 0 | FALSE |\n|  3 | 20, 7 | 1, 0 | 1 |  TRUE |\n|  4 | 4, 11 | 0, 0 | 0 | FALSE |\n|  5 | 6, 10 | 0, 0 | 0 | FALSE |\n|  6 | 13, 5 | 0, 0 | 0 | FALSE |\n|  7 | 5, 6 | 0, 0 | 0 | FALSE |\n|  8 | 20, 1 | 1, 0 | 1 |  TRUE |\n|  9 | 9, 20 | 0, 1 | 1 |  TRUE |\n| 10 | 9, 15 | 0, 1 | 1 |  TRUE |\n\n",
            "text/latex": "A tibble: 10 × 5\n\\begin{tabular}{lllll}\n .trial & .outcome & is.success & num.successes & at.least.one.15\\\\\n <dbl> & <list> & <list> & <int> & <lgl>\\\\\n\\hline\n\t  1 & 3, 8 & 0, 0 & 0 & FALSE\\\\\n\t  2 & 11, 10 & 0, 0 & 0 & FALSE\\\\\n\t  3 & 20, 7 & 1, 0 & 1 &  TRUE\\\\\n\t  4 & 4, 11 & 0, 0 & 0 & FALSE\\\\\n\t  5 & 6, 10 & 0, 0 & 0 & FALSE\\\\\n\t  6 & 13, 5 & 0, 0 & 0 & FALSE\\\\\n\t  7 & 5, 6 & 0, 0 & 0 & FALSE\\\\\n\t  8 & 20, 1 & 1, 0 & 1 &  TRUE\\\\\n\t  9 & 9, 20 & 0, 1 & 1 &  TRUE\\\\\n\t 10 & 9, 15 & 0, 1 & 1 &  TRUE\\\\\n\\end{tabular}\n",
            "text/plain": [
              "   .trial .outcome is.success num.successes at.least.one.15\n",
              "1   1     3, 8     0, 0       0             FALSE          \n",
              "2   2     11, 10   0, 0       0             FALSE          \n",
              "3   3     20, 7    1, 0       1              TRUE          \n",
              "4   4     4, 11    0, 0       0             FALSE          \n",
              "5   5     6, 10    0, 0       0             FALSE          \n",
              "6   6     13, 5    0, 0       0             FALSE          \n",
              "7   7     5, 6     0, 0       0             FALSE          \n",
              "8   8     20, 1    1, 0       1              TRUE          \n",
              "9   9     9, 20    0, 1       1              TRUE          \n",
              "10 10     9, 15    0, 1       1              TRUE          "
            ]
          },
          "metadata": {}
        }
      ]
    },
    {
      "cell_type": "markdown",
      "source": [
        "### Review - Accessing vector and list entries.\n",
        "\n",
        "Before we solve the third problem, which involved the order/sequence/position of the outcomes, we need to review methods of accessing elements of vectors and lists.\n"
      ],
      "metadata": {
        "id": "-vDmXCUIjBR0"
      }
    },
    {
      "cell_type": "code",
      "source": [
        "(v <- 1:6)"
      ],
      "metadata": {
        "id": "9eR2ZiAkkhBo",
        "outputId": "54389aa0-a994-48d5-cc58-adb70716feef",
        "colab": {
          "base_uri": "https://localhost:8080/",
          "height": 32
        }
      },
      "execution_count": null,
      "outputs": [
        {
          "output_type": "display_data",
          "data": {
            "text/html": [
              "<style>\n",
              ".list-inline {list-style: none; margin:0; padding: 0}\n",
              ".list-inline>li {display: inline-block}\n",
              ".list-inline>li:not(:last-child)::after {content: \"\\00b7\"; padding: 0 .5ex}\n",
              "</style>\n",
              "<ol class=list-inline><li>1</li><li>2</li><li>3</li><li>4</li><li>5</li><li>6</li></ol>\n"
            ],
            "text/markdown": "1. 1\n2. 2\n3. 3\n4. 4\n5. 5\n6. 6\n\n\n",
            "text/latex": "\\begin{enumerate*}\n\\item 1\n\\item 2\n\\item 3\n\\item 4\n\\item 5\n\\item 6\n\\end{enumerate*}\n",
            "text/plain": [
              "[1] 1 2 3 4 5 6"
            ]
          },
          "metadata": {}
        }
      ]
    },
    {
      "cell_type": "code",
      "source": [
        "(l <- list(a = 1, b = 2))"
      ],
      "metadata": {
        "id": "_Su9ZkZWkkMu",
        "outputId": "88150add-7a9a-4112-932b-759f854390ab",
        "colab": {
          "base_uri": "https://localhost:8080/",
          "height": 110
        }
      },
      "execution_count": null,
      "outputs": [
        {
          "output_type": "display_data",
          "data": {
            "text/html": [
              "<dl>\n",
              "\t<dt>$a</dt>\n",
              "\t\t<dd>1</dd>\n",
              "\t<dt>$b</dt>\n",
              "\t\t<dd>2</dd>\n",
              "</dl>\n"
            ],
            "text/markdown": "$a\n:   1\n$b\n:   2\n\n\n",
            "text/latex": "\\begin{description}\n\\item[\\$a] 1\n\\item[\\$b] 2\n\\end{description}\n",
            "text/plain": [
              "$a\n",
              "[1] 1\n",
              "\n",
              "$b\n",
              "[1] 2\n"
            ]
          },
          "metadata": {}
        }
      ]
    },
    {
      "cell_type": "markdown",
      "source": [
        "#### Accessing a vector element by position using `v[k]`"
      ],
      "metadata": {
        "id": "euyN-0ZwkNBG"
      }
    },
    {
      "cell_type": "code",
      "source": [
        "v[2]"
      ],
      "metadata": {
        "id": "P7qS0yFEjdm1",
        "outputId": "04e8c8bd-8466-4103-c92f-ba7a9abb8c73",
        "colab": {
          "base_uri": "https://localhost:8080/",
          "height": 32
        }
      },
      "execution_count": null,
      "outputs": [
        {
          "output_type": "display_data",
          "data": {
            "text/html": [
              "2"
            ],
            "text/markdown": "2",
            "text/latex": "2",
            "text/plain": [
              "[1] 2"
            ]
          },
          "metadata": {}
        }
      ]
    },
    {
      "cell_type": "markdown",
      "source": [
        "#### Accessing a list element by position using `l[k]`"
      ],
      "metadata": {
        "id": "PfW5MnB5kD1t"
      }
    },
    {
      "cell_type": "code",
      "source": [
        "l[1]"
      ],
      "metadata": {
        "id": "vA3SS5BCjtnw",
        "outputId": "684efa81-daf9-4f82-9a56-75e32b5313f5",
        "colab": {
          "base_uri": "https://localhost:8080/",
          "height": 32
        }
      },
      "execution_count": null,
      "outputs": [
        {
          "output_type": "display_data",
          "data": {
            "text/html": [
              "<strong>$a</strong> = 1"
            ],
            "text/markdown": "**$a** = 1",
            "text/latex": "\\textbf{\\$a} = 1",
            "text/plain": [
              "$a\n",
              "[1] 1\n"
            ]
          },
          "metadata": {}
        }
      ]
    },
    {
      "cell_type": "markdown",
      "source": [
        "#### Accessing a list element by name using `l[[name]]`"
      ],
      "metadata": {
        "id": "mHeNw-HnkTWn"
      }
    },
    {
      "cell_type": "code",
      "source": [
        "l[['a']]"
      ],
      "metadata": {
        "id": "8kvcAqpoj1Ip",
        "outputId": "f74680f7-7b32-4721-9984-e4f5f2415921",
        "colab": {
          "base_uri": "https://localhost:8080/",
          "height": 32
        }
      },
      "execution_count": null,
      "outputs": [
        {
          "output_type": "display_data",
          "data": {
            "text/html": [
              "1"
            ],
            "text/markdown": "1",
            "text/latex": "1",
            "text/plain": [
              "[1] 1"
            ]
          },
          "metadata": {}
        }
      ]
    },
    {
      "cell_type": "markdown",
      "source": [
        "#### Problem 3 - `mutate` + `map` while accessing relevant parts.\n",
        "\n",
        "\n",
        "**Strategy.** Use `mutate` + `map` to extract important information by position, as shown above\n",
        "\n"
      ],
      "metadata": {
        "id": "GM_XmGLTk9IS"
      }
    },
    {
      "cell_type": "code",
      "source": [
        "N <- 10\n",
        "(replicate(N, sample(1:20, 2, replace=TRUE))\n",
        "%>% mutate(is.equal = map_lgl(.outcome, \\(v) v[1] == v[2])) # Extract position ==> get Boolean\n",
        "# %>% estimate_all_prob\n",
        ")"
      ],
      "metadata": {
        "id": "G6VhKV5sjzHP",
        "outputId": "e05cdf4d-e1e4-435c-ba85-657e2df55a6c",
        "colab": {
          "base_uri": "https://localhost:8080/",
          "height": 400
        }
      },
      "execution_count": null,
      "outputs": [
        {
          "output_type": "display_data",
          "data": {
            "text/html": [
              "<table class=\"dataframe\">\n",
              "<caption>A tibble: 10 × 3</caption>\n",
              "<thead>\n",
              "\t<tr><th scope=col>.trial</th><th scope=col>.outcome</th><th scope=col>is.equal</th></tr>\n",
              "\t<tr><th scope=col>&lt;dbl&gt;</th><th scope=col>&lt;list&gt;</th><th scope=col>&lt;lgl&gt;</th></tr>\n",
              "</thead>\n",
              "<tbody>\n",
              "\t<tr><td> 1</td><td>2, 11</td><td>FALSE</td></tr>\n",
              "\t<tr><td> 2</td><td>16, 16</td><td> TRUE</td></tr>\n",
              "\t<tr><td> 3</td><td>16, 17</td><td>FALSE</td></tr>\n",
              "\t<tr><td> 4</td><td>3, 2</td><td>FALSE</td></tr>\n",
              "\t<tr><td> 5</td><td>3, 16</td><td>FALSE</td></tr>\n",
              "\t<tr><td> 6</td><td>16, 13</td><td>FALSE</td></tr>\n",
              "\t<tr><td> 7</td><td>1, 16</td><td>FALSE</td></tr>\n",
              "\t<tr><td> 8</td><td>8, 7</td><td>FALSE</td></tr>\n",
              "\t<tr><td> 9</td><td>6, 15</td><td>FALSE</td></tr>\n",
              "\t<tr><td>10</td><td>5, 3</td><td>FALSE</td></tr>\n",
              "</tbody>\n",
              "</table>\n"
            ],
            "text/markdown": "\nA tibble: 10 × 3\n\n| .trial &lt;dbl&gt; | .outcome &lt;list&gt; | is.equal &lt;lgl&gt; |\n|---|---|---|\n|  1 | 2, 11 | FALSE |\n|  2 | 16, 16 |  TRUE |\n|  3 | 16, 17 | FALSE |\n|  4 | 3, 2 | FALSE |\n|  5 | 3, 16 | FALSE |\n|  6 | 16, 13 | FALSE |\n|  7 | 1, 16 | FALSE |\n|  8 | 8, 7 | FALSE |\n|  9 | 6, 15 | FALSE |\n| 10 | 5, 3 | FALSE |\n\n",
            "text/latex": "A tibble: 10 × 3\n\\begin{tabular}{lll}\n .trial & .outcome & is.equal\\\\\n <dbl> & <list> & <lgl>\\\\\n\\hline\n\t  1 & 2, 11 & FALSE\\\\\n\t  2 & 16, 16 &  TRUE\\\\\n\t  3 & 16, 17 & FALSE\\\\\n\t  4 & 3, 2 & FALSE\\\\\n\t  5 & 3, 16 & FALSE\\\\\n\t  6 & 16, 13 & FALSE\\\\\n\t  7 & 1, 16 & FALSE\\\\\n\t  8 & 8, 7 & FALSE\\\\\n\t  9 & 6, 15 & FALSE\\\\\n\t 10 & 5, 3 & FALSE\\\\\n\\end{tabular}\n",
            "text/plain": [
              "   .trial .outcome is.equal\n",
              "1   1     2, 11    FALSE   \n",
              "2   2     16, 16    TRUE   \n",
              "3   3     16, 17   FALSE   \n",
              "4   4     3, 2     FALSE   \n",
              "5   5     3, 16    FALSE   \n",
              "6   6     16, 13   FALSE   \n",
              "7   7     1, 16    FALSE   \n",
              "8   8     8, 7     FALSE   \n",
              "9   9     6, 15    FALSE   \n",
              "10 10     5, 3     FALSE   "
            ]
          },
          "metadata": {}
        }
      ]
    },
    {
      "cell_type": "markdown",
      "source": [
        "### <font color=\"red\"> Exercise 1.5.3 - `mutate` + `map`</font>\n",
        "\n",
        "You roll a regular six-sided die twice and record the pair of outcomes.  For each of the following questions, classify the problem as related to either (A) a summary statistic, (B) counting successes, or (C) the sequence of events.\n",
        "* Event A that at least one of the rolls is 5.\n",
        "* Event B that the maximum of the values rolled is 3.\n",
        "* Event C that the first roll is larger than the second.\n",
        "\n",
        "**Task.** Estimate the probability of each event using `mutate` + `map` the outcomes."
      ],
      "metadata": {
        "id": "pUlqZp13ZvN2"
      }
    },
    {
      "cell_type": "code",
      "source": [
        "# Your code here"
      ],
      "metadata": {
        "id": "Ot5Et0JyZnMl"
      },
      "execution_count": null,
      "outputs": []
    }
  ]
}