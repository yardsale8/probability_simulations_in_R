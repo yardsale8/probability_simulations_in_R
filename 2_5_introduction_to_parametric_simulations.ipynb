{
  "nbformat": 4,
  "nbformat_minor": 0,
  "metadata": {
    "colab": {
      "provenance": [],
      "authorship_tag": "ABX9TyOQIMlEr+Lx7rxKUgBgyt80",
      "include_colab_link": true
    },
    "kernelspec": {
      "name": "ir",
      "display_name": "R"
    },
    "language_info": {
      "name": "R"
    }
  },
  "cells": [
    {
      "cell_type": "markdown",
      "metadata": {
        "id": "view-in-github",
        "colab_type": "text"
      },
      "source": [
        "<a href=\"https://colab.research.google.com/github/yardsale8/probability_simulations_in_R/blob/main/2_5_introduction_to_parametric_simulations.ipynb\" target=\"_parent\"><img src=\"https://colab.research.google.com/assets/colab-badge.svg\" alt=\"Open In Colab\"/></a>"
      ]
    },
    {
      "cell_type": "code",
      "execution_count": 2,
      "metadata": {
        "colab": {
          "base_uri": "https://localhost:8080/"
        },
        "id": "IpARyWPSi3ft",
        "outputId": "d79a33f1-1ee0-4acf-bb43-a1471679b9a6"
      },
      "outputs": [
        {
          "output_type": "stream",
          "name": "stderr",
          "text": [
            "Downloading GitHub repo yardsale8/purrrfect@HEAD\n",
            "\n"
          ]
        },
        {
          "output_type": "stream",
          "name": "stdout",
          "text": [
            "\n",
            "\u001b[36m──\u001b[39m \u001b[36mR CMD build\u001b[39m \u001b[36m─────────────────────────────────────────────────────────────────\u001b[39m\n",
            "* checking for file ‘/tmp/Rtmp6Z1o0I/remotesf428847001/yardsale8-purrrfect-d91fae7/DESCRIPTION’ ... OK\n",
            "* preparing ‘purrrfect’:\n",
            "* checking DESCRIPTION meta-information ... OK\n",
            "* checking for LF line-endings in source and make files and shell scripts\n",
            "* checking for empty or unneeded directories\n",
            "* building ‘purrrfect_1.0.1.tar.gz’\n",
            "\n"
          ]
        },
        {
          "output_type": "stream",
          "name": "stderr",
          "text": [
            "Installing package into ‘/usr/local/lib/R/site-library’\n",
            "(as ‘lib’ is unspecified)\n",
            "\n"
          ]
        }
      ],
      "source": [
        "library(tidyverse)\n",
        "library(devtools)\n",
        "install_github('yardsale8/purrrfect', force = TRUE)\n",
        "library(purrrfect)"
      ]
    },
    {
      "cell_type": "markdown",
      "source": [
        "# Introduction to Parametric Simulations\n",
        "\n",
        "This chapter we have been studying various discrete parametric distributions.  Sometimes we wish to explore the properties of such a distribution over a set of parameters, and in this case, we can use the `tidyverse` and `purrr` toolset to capture the results.\n",
        "\n",
        "## Outline\n",
        "\n",
        "1. Setting up the parameter space using `tribble`.\n",
        "2. Unnesting the parameters and adding trials.\n",
        "3. Mapping over the parameters using `pmap`\n",
        "4. Composing operations to save memory on large simulations.\n",
        "5. Parametric sampling."
      ],
      "metadata": {
        "id": "bERp6iQHjQhK"
      }
    },
    {
      "cell_type": "markdown",
      "source": [
        "## First Motivating Problem - One Variable Parameter\n",
        "\n",
        "<font color=\"aqua\">**Our Task.**.   </font> Suppose we wish to explore the effects of the sample size on the mean and variance of a binomial random variable when $p=0.5$.  \n",
        "\n",
        "<font color=\"aqua\">**The Problem.** </font> Our current approach would require a separate simulation/pipe for each sample size.\n",
        "\n",
        "<font color=\"aqua\">**The Solution.**</font> Store the sample sizes in our experimental notebook and use them as mapping inputs."
      ],
      "metadata": {
        "id": "2b8691h5kWnF"
      }
    },
    {
      "cell_type": "markdown",
      "source": [
        "### Three Approachs\n",
        "\n",
        "1. Stack the trials into a long table, transform, and then group and aggregate. <font size=\"1\">(optional, covered at the end of the notebook)</font>.\n",
        "2. Store the trials in a list column, then `map` transformations/aggregations.\n",
        "3. Compose all actions from **2.** into a single `map`"
      ],
      "metadata": {
        "id": "j78v_XCDdOCA"
      }
    },
    {
      "cell_type": "markdown",
      "source": [
        "## Performing a Parametric Simulation using a List Column\n",
        "\n",
        "In this variation of the simulation, we will\n",
        "1. Store all the trials for each parameter (or combination of parameters) in a single row.\n",
        "2. Use `map` or `pmap` to process those trials."
      ],
      "metadata": {
        "id": "cSmsQGJU2gzg"
      }
    },
    {
      "cell_type": "markdown",
      "source": [
        "### Defining the parameter space using a `tribble`\n",
        "\n",
        "1. Define all the names on the first row preceeded by `~`\n",
        "2. Define the respective collections on the second row, respectively."
      ],
      "metadata": {
        "id": "LcZiv_6-JZYa"
      }
    },
    {
      "cell_type": "code",
      "source": [
        "parameters <- tribble(~n,\n",
        "                      c(5,10,15))\n",
        "parameters"
      ],
      "metadata": {
        "colab": {
          "base_uri": "https://localhost:8080/",
          "height": 145
        },
        "id": "1zl2zbcUJdyJ",
        "outputId": "1b337dc9-ecfd-4f35-eef8-80773721e53a"
      },
      "execution_count": 5,
      "outputs": [
        {
          "output_type": "display_data",
          "data": {
            "text/html": [
              "<table class=\"dataframe\">\n",
              "<caption>A tibble: 1 × 1</caption>\n",
              "<thead>\n",
              "\t<tr><th scope=col>n</th></tr>\n",
              "\t<tr><th scope=col>&lt;list&gt;</th></tr>\n",
              "</thead>\n",
              "<tbody>\n",
              "\t<tr><td>5, 10, 15</td></tr>\n",
              "</tbody>\n",
              "</table>\n"
            ],
            "text/markdown": "\nA tibble: 1 × 1\n\n| n &lt;list&gt; |\n|---|\n| 5, 10, 15 |\n\n",
            "text/latex": "A tibble: 1 × 1\n\\begin{tabular}{l}\n n\\\\\n <list>\\\\\n\\hline\n\t 5, 10, 15\\\\\n\\end{tabular}\n",
            "text/plain": [
              "  n        \n",
              "1 5, 10, 15"
            ]
          },
          "metadata": {}
        }
      ]
    },
    {
      "cell_type": "markdown",
      "source": [
        "### The \"shape\" of a parametric simulation using a list column.\n",
        "\n",
        "1. Set up the parameter space using a `tribble`.\n",
        "2. Unnest the parameter(s) of interest.\n",
        "3. Use `map` or `pmap` to generate a list column of trials.\n",
        "4. Use `map` or `pmap` to transform/summarize.\n",
        "5. Drop the outcome column."
      ],
      "metadata": {
        "id": "Rfm2oGDueBMC"
      }
    },
    {
      "cell_type": "code",
      "source": [
        "# Unnested parameters\n",
        "num.trials <- 10\n",
        "p <- 0.5\n",
        "(parameters\n",
        " %>% unnest_longer(n)\n",
        " )"
      ],
      "metadata": {
        "colab": {
          "base_uri": "https://localhost:8080/",
          "height": 207
        },
        "id": "PggSN76_enXC",
        "outputId": "588267af-08a3-40be-e797-b0939e3907f9"
      },
      "execution_count": 6,
      "outputs": [
        {
          "output_type": "display_data",
          "data": {
            "text/html": [
              "<table class=\"dataframe\">\n",
              "<caption>A tibble: 3 × 1</caption>\n",
              "<thead>\n",
              "\t<tr><th scope=col>n</th></tr>\n",
              "\t<tr><th scope=col>&lt;dbl&gt;</th></tr>\n",
              "</thead>\n",
              "<tbody>\n",
              "\t<tr><td> 5</td></tr>\n",
              "\t<tr><td>10</td></tr>\n",
              "\t<tr><td>15</td></tr>\n",
              "</tbody>\n",
              "</table>\n"
            ],
            "text/markdown": "\nA tibble: 3 × 1\n\n| n &lt;dbl&gt; |\n|---|\n|  5 |\n| 10 |\n| 15 |\n\n",
            "text/latex": "A tibble: 3 × 1\n\\begin{tabular}{l}\n n\\\\\n <dbl>\\\\\n\\hline\n\t  5\\\\\n\t 10\\\\\n\t 15\\\\\n\\end{tabular}\n",
            "text/plain": [
              "  n \n",
              "1  5\n",
              "2 10\n",
              "3 15"
            ]
          },
          "metadata": {}
        }
      ]
    },
    {
      "cell_type": "code",
      "source": [
        "# Use map to generate trials\n",
        "p <- 0.5\n",
        "num.trials <- 10\n",
        "(parameters\n",
        " %>% unnest_longer(n)\n",
        " %>% mutate(.outcome = map(n, \\(n) rbinom(num.trials, n, 0.5)),\n",
        "           )\n",
        " )"
      ],
      "metadata": {
        "colab": {
          "base_uri": "https://localhost:8080/",
          "height": 190
        },
        "id": "Ip6IeJT_o__h",
        "outputId": "66555b2a-4f77-43c4-b8f0-563f5ed954dc"
      },
      "execution_count": 7,
      "outputs": [
        {
          "output_type": "display_data",
          "data": {
            "text/html": [
              "<table class=\"dataframe\">\n",
              "<caption>A tibble: 3 × 2</caption>\n",
              "<thead>\n",
              "\t<tr><th scope=col>n</th><th scope=col>.outcome</th></tr>\n",
              "\t<tr><th scope=col>&lt;dbl&gt;</th><th scope=col>&lt;list&gt;</th></tr>\n",
              "</thead>\n",
              "<tbody>\n",
              "\t<tr><td> 5</td><td>4, 3, 5, 2, 3, 3, 3, 3, 2, 5</td></tr>\n",
              "\t<tr><td>10</td><td>8, 8, 5, 5, 7, 5, 6, 5, 7, 3</td></tr>\n",
              "\t<tr><td>15</td><td>7, 8, 6, 4, 5, 3, 6, 8, 7, 4</td></tr>\n",
              "</tbody>\n",
              "</table>\n"
            ],
            "text/markdown": "\nA tibble: 3 × 2\n\n| n &lt;dbl&gt; | .outcome &lt;list&gt; |\n|---|---|\n|  5 | 4, 3, 5, 2, 3, 3, 3, 3, 2, 5 |\n| 10 | 8, 8, 5, 5, 7, 5, 6, 5, 7, 3 |\n| 15 | 7, 8, 6, 4, 5, 3, 6, 8, 7, 4 |\n\n",
            "text/latex": "A tibble: 3 × 2\n\\begin{tabular}{ll}\n n & .outcome\\\\\n <dbl> & <list>\\\\\n\\hline\n\t  5 & 4, 3, 5, 2, 3, 3, 3, 3, 2, 5\\\\\n\t 10 & 8, 8, 5, 5, 7, 5, 6, 5, 7, 3\\\\\n\t 15 & 7, 8, 6, 4, 5, 3, 6, 8, 7, 4\\\\\n\\end{tabular}\n",
            "text/plain": [
              "  n  .outcome                    \n",
              "1  5 4, 3, 5, 2, 3, 3, 3, 3, 2, 5\n",
              "2 10 8, 8, 5, 5, 7, 5, 6, 5, 7, 3\n",
              "3 15 7, 8, 6, 4, 5, 3, 6, 8, 7, 4"
            ]
          },
          "metadata": {}
        }
      ]
    },
    {
      "cell_type": "code",
      "source": [
        "# Transform/summarize\n",
        "p <- 0.5\n",
        "num.trials <- 10\n",
        "(parameters\n",
        " %>% unnest_longer(n)\n",
        " %>% mutate(.outcome = map(n, \\(n) rbinom(num.trials, n, 0.5)),\n",
        "            approx.mu = map_dbl(.outcome, mean),\n",
        "            exact.mu = n*p\n",
        "           )\n",
        " )"
      ],
      "metadata": {
        "colab": {
          "base_uri": "https://localhost:8080/",
          "height": 190
        },
        "id": "2X2WuhGaX8d7",
        "outputId": "314e6400-5f68-4927-abfc-c11bf4af937c"
      },
      "execution_count": 8,
      "outputs": [
        {
          "output_type": "display_data",
          "data": {
            "text/html": [
              "<table class=\"dataframe\">\n",
              "<caption>A tibble: 3 × 4</caption>\n",
              "<thead>\n",
              "\t<tr><th scope=col>n</th><th scope=col>.outcome</th><th scope=col>approx.mu</th><th scope=col>exact.mu</th></tr>\n",
              "\t<tr><th scope=col>&lt;dbl&gt;</th><th scope=col>&lt;list&gt;</th><th scope=col>&lt;dbl&gt;</th><th scope=col>&lt;dbl&gt;</th></tr>\n",
              "</thead>\n",
              "<tbody>\n",
              "\t<tr><td> 5</td><td>1, 3, 4, 2, 4, 1, 2, 4, 2, 3</td><td>2.6</td><td>2.5</td></tr>\n",
              "\t<tr><td>10</td><td>4, 5, 6, 9, 7, 4, 7, 6, 7, 3</td><td>5.8</td><td>5.0</td></tr>\n",
              "\t<tr><td>15</td><td>6, 8, 8, 5, 7, 5, 5, 6, 6, 7</td><td>6.3</td><td>7.5</td></tr>\n",
              "</tbody>\n",
              "</table>\n"
            ],
            "text/markdown": "\nA tibble: 3 × 4\n\n| n &lt;dbl&gt; | .outcome &lt;list&gt; | approx.mu &lt;dbl&gt; | exact.mu &lt;dbl&gt; |\n|---|---|---|---|\n|  5 | 1, 3, 4, 2, 4, 1, 2, 4, 2, 3 | 2.6 | 2.5 |\n| 10 | 4, 5, 6, 9, 7, 4, 7, 6, 7, 3 | 5.8 | 5.0 |\n| 15 | 6, 8, 8, 5, 7, 5, 5, 6, 6, 7 | 6.3 | 7.5 |\n\n",
            "text/latex": "A tibble: 3 × 4\n\\begin{tabular}{llll}\n n & .outcome & approx.mu & exact.mu\\\\\n <dbl> & <list> & <dbl> & <dbl>\\\\\n\\hline\n\t  5 & 1, 3, 4, 2, 4, 1, 2, 4, 2, 3 & 2.6 & 2.5\\\\\n\t 10 & 4, 5, 6, 9, 7, 4, 7, 6, 7, 3 & 5.8 & 5.0\\\\\n\t 15 & 6, 8, 8, 5, 7, 5, 5, 6, 6, 7 & 6.3 & 7.5\\\\\n\\end{tabular}\n",
            "text/plain": [
              "  n  .outcome                     approx.mu exact.mu\n",
              "1  5 1, 3, 4, 2, 4, 1, 2, 4, 2, 3 2.6       2.5     \n",
              "2 10 4, 5, 6, 9, 7, 4, 7, 6, 7, 3 5.8       5.0     \n",
              "3 15 6, 8, 8, 5, 7, 5, 5, 6, 6, 7 6.3       7.5     "
            ]
          },
          "metadata": {}
        }
      ]
    },
    {
      "cell_type": "code",
      "source": [
        "# Drop outcomes\n",
        "p <- 0.5\n",
        "num.trials <- 10\n",
        "(parameters\n",
        " %>% unnest_longer(n)\n",
        " %>% mutate(.outcome = map(n, \\(n) rbinom(num.trials, n, 0.5)),\n",
        "            approx.mu = map_dbl(.outcome, mean),\n",
        "            exact.mu = n*p\n",
        "           )\n",
        " %>% select(-.outcome)\n",
        " )"
      ],
      "metadata": {
        "colab": {
          "base_uri": "https://localhost:8080/",
          "height": 190
        },
        "id": "eK5mSqPFe63G",
        "outputId": "77192126-40ed-4a69-bfc2-469f78acc6f0"
      },
      "execution_count": 9,
      "outputs": [
        {
          "output_type": "display_data",
          "data": {
            "text/html": [
              "<table class=\"dataframe\">\n",
              "<caption>A tibble: 3 × 3</caption>\n",
              "<thead>\n",
              "\t<tr><th scope=col>n</th><th scope=col>approx.mu</th><th scope=col>exact.mu</th></tr>\n",
              "\t<tr><th scope=col>&lt;dbl&gt;</th><th scope=col>&lt;dbl&gt;</th><th scope=col>&lt;dbl&gt;</th></tr>\n",
              "</thead>\n",
              "<tbody>\n",
              "\t<tr><td> 5</td><td>2.2</td><td>2.5</td></tr>\n",
              "\t<tr><td>10</td><td>4.8</td><td>5.0</td></tr>\n",
              "\t<tr><td>15</td><td>7.8</td><td>7.5</td></tr>\n",
              "</tbody>\n",
              "</table>\n"
            ],
            "text/markdown": "\nA tibble: 3 × 3\n\n| n &lt;dbl&gt; | approx.mu &lt;dbl&gt; | exact.mu &lt;dbl&gt; |\n|---|---|---|\n|  5 | 2.2 | 2.5 |\n| 10 | 4.8 | 5.0 |\n| 15 | 7.8 | 7.5 |\n\n",
            "text/latex": "A tibble: 3 × 3\n\\begin{tabular}{lll}\n n & approx.mu & exact.mu\\\\\n <dbl> & <dbl> & <dbl>\\\\\n\\hline\n\t  5 & 2.2 & 2.5\\\\\n\t 10 & 4.8 & 5.0\\\\\n\t 15 & 7.8 & 7.5\\\\\n\\end{tabular}\n",
            "text/plain": [
              "  n  approx.mu exact.mu\n",
              "1  5 2.2       2.5     \n",
              "2 10 4.8       5.0     \n",
              "3 15 7.8       7.5     "
            ]
          },
          "metadata": {}
        }
      ]
    },
    {
      "cell_type": "code",
      "source": [
        "# Good estimate by bumping the num.trials\n",
        "p <- 0.5\n",
        "num.trials <- 100000\n",
        "(parameters\n",
        " %>% unnest_longer(n)\n",
        " %>% mutate(.outcome = map(n, \\(n) rbinom(num.trials, n, 0.5)),\n",
        "            approx.mu = map_dbl(.outcome, mean),\n",
        "            exact.mu = n*p\n",
        "           )\n",
        " %>% select(-.outcome)\n",
        " )"
      ],
      "metadata": {
        "colab": {
          "base_uri": "https://localhost:8080/",
          "height": 190
        },
        "id": "L4pfXFp83AXA",
        "outputId": "4a7034e0-ff52-4380-d610-176ae371fcbf"
      },
      "execution_count": 10,
      "outputs": [
        {
          "output_type": "display_data",
          "data": {
            "text/html": [
              "<table class=\"dataframe\">\n",
              "<caption>A tibble: 3 × 3</caption>\n",
              "<thead>\n",
              "\t<tr><th scope=col>n</th><th scope=col>approx.mu</th><th scope=col>exact.mu</th></tr>\n",
              "\t<tr><th scope=col>&lt;dbl&gt;</th><th scope=col>&lt;dbl&gt;</th><th scope=col>&lt;dbl&gt;</th></tr>\n",
              "</thead>\n",
              "<tbody>\n",
              "\t<tr><td> 5</td><td>2.49823</td><td>2.5</td></tr>\n",
              "\t<tr><td>10</td><td>4.99673</td><td>5.0</td></tr>\n",
              "\t<tr><td>15</td><td>7.50208</td><td>7.5</td></tr>\n",
              "</tbody>\n",
              "</table>\n"
            ],
            "text/markdown": "\nA tibble: 3 × 3\n\n| n &lt;dbl&gt; | approx.mu &lt;dbl&gt; | exact.mu &lt;dbl&gt; |\n|---|---|---|\n|  5 | 2.49823 | 2.5 |\n| 10 | 4.99673 | 5.0 |\n| 15 | 7.50208 | 7.5 |\n\n",
            "text/latex": "A tibble: 3 × 3\n\\begin{tabular}{lll}\n n & approx.mu & exact.mu\\\\\n <dbl> & <dbl> & <dbl>\\\\\n\\hline\n\t  5 & 2.49823 & 2.5\\\\\n\t 10 & 4.99673 & 5.0\\\\\n\t 15 & 7.50208 & 7.5\\\\\n\\end{tabular}\n",
            "text/plain": [
              "  n  approx.mu exact.mu\n",
              "1  5 2.49823   2.5     \n",
              "2 10 4.99673   5.0     \n",
              "3 15 7.50208   7.5     "
            ]
          },
          "metadata": {}
        }
      ]
    },
    {
      "cell_type": "markdown",
      "source": [
        "### The Advantage to using a list column of outcomes\n",
        "\n",
        "The advantage of storing the trials in a list column is\n",
        "1. All the information is self-contained and apparent, and\n",
        "2. Makes it easier to verify your code and debug."
      ],
      "metadata": {
        "id": "7l369rPIzyEg"
      }
    },
    {
      "cell_type": "code",
      "source": [
        "# Transform/summarize\n",
        "p <- 0.5\n",
        "num.trials <- 10\n",
        "(parameters\n",
        " %>% unnest_longer(n)\n",
        " %>% mutate(.outcome = map(n, \\(n) rbinom(num.trials, n, 0.5)), # Easy to\n",
        "            approx.mu = map_dbl(.outcome, mean),                # verify\n",
        "            exact.mu = n*p                                      # correctness\n",
        "           )\n",
        " )"
      ],
      "metadata": {
        "colab": {
          "base_uri": "https://localhost:8080/",
          "height": 190
        },
        "id": "vMmwFq8XKI_6",
        "outputId": "d1781913-79ca-4387-9b96-b2749ed2ba03"
      },
      "execution_count": 11,
      "outputs": [
        {
          "output_type": "display_data",
          "data": {
            "text/html": [
              "<table class=\"dataframe\">\n",
              "<caption>A tibble: 3 × 4</caption>\n",
              "<thead>\n",
              "\t<tr><th scope=col>n</th><th scope=col>.outcome</th><th scope=col>approx.mu</th><th scope=col>exact.mu</th></tr>\n",
              "\t<tr><th scope=col>&lt;dbl&gt;</th><th scope=col>&lt;list&gt;</th><th scope=col>&lt;dbl&gt;</th><th scope=col>&lt;dbl&gt;</th></tr>\n",
              "</thead>\n",
              "<tbody>\n",
              "\t<tr><td> 5</td><td>4, 4, 2, 2, 5, 3, 3, 3, 3, 1</td><td>3.0</td><td>2.5</td></tr>\n",
              "\t<tr><td>10</td><td>3, 5, 3, 6, 4, 9, 5, 6, 3, 7</td><td>5.1</td><td>5.0</td></tr>\n",
              "\t<tr><td>15</td><td>7, 9, 9, 10, 9, 8, 10, 8, 5, 9</td><td>8.4</td><td>7.5</td></tr>\n",
              "</tbody>\n",
              "</table>\n"
            ],
            "text/markdown": "\nA tibble: 3 × 4\n\n| n &lt;dbl&gt; | .outcome &lt;list&gt; | approx.mu &lt;dbl&gt; | exact.mu &lt;dbl&gt; |\n|---|---|---|---|\n|  5 | 4, 4, 2, 2, 5, 3, 3, 3, 3, 1 | 3.0 | 2.5 |\n| 10 | 3, 5, 3, 6, 4, 9, 5, 6, 3, 7 | 5.1 | 5.0 |\n| 15 | 7, 9, 9, 10, 9, 8, 10, 8, 5, 9 | 8.4 | 7.5 |\n\n",
            "text/latex": "A tibble: 3 × 4\n\\begin{tabular}{llll}\n n & .outcome & approx.mu & exact.mu\\\\\n <dbl> & <list> & <dbl> & <dbl>\\\\\n\\hline\n\t  5 & 4, 4, 2, 2, 5, 3, 3, 3, 3, 1 & 3.0 & 2.5\\\\\n\t 10 & 3, 5, 3, 6, 4, 9, 5, 6, 3, 7 & 5.1 & 5.0\\\\\n\t 15 & 7, 9, 9, 10, 9, 8, 10, 8, 5, 9 & 8.4 & 7.5\\\\\n\\end{tabular}\n",
            "text/plain": [
              "  n  .outcome                       approx.mu exact.mu\n",
              "1  5 4, 4, 2, 2, 5, 3, 3, 3, 3, 1   3.0       2.5     \n",
              "2 10 3, 5, 3, 6, 4, 9, 5, 6, 3, 7   5.1       5.0     \n",
              "3 15 7, 9, 9, 10, 9, 8, 10, 8, 5, 9 8.4       7.5     "
            ]
          },
          "metadata": {}
        }
      ]
    },
    {
      "cell_type": "markdown",
      "source": [
        "### Two Problems with using a list column of outcomes\n",
        "\n",
        "Two problems with storing outcomes in a list column are\n",
        "\n",
        "#### 1. Displaying more than a few trials is a mess"
      ],
      "metadata": {
        "id": "pdhY8L_LfDDF"
      }
    },
    {
      "cell_type": "code",
      "source": [
        "# Slightly Better estimates\n",
        "num.trials <- 100\n",
        "(parameters\n",
        " %>% unnest_longer(n)\n",
        " %>% mutate(.outcome = map(n, \\(n) rbinom(num.trials, n, 0.5)),\n",
        "            approx.mu = map_dbl(.outcome, mean),\n",
        "            exact.mu = n*p\n",
        "           )\n",
        " )"
      ],
      "metadata": {
        "id": "1eH3GQ8To0CO",
        "colab": {
          "base_uri": "https://localhost:8080/",
          "height": 207
        },
        "outputId": "b6cfeee9-505f-404e-8fc4-ff9f7d79a1e4"
      },
      "execution_count": null,
      "outputs": [
        {
          "output_type": "display_data",
          "data": {
            "text/html": [
              "<table class=\"dataframe\">\n",
              "<caption>A tibble: 3 × 4</caption>\n",
              "<thead>\n",
              "\t<tr><th scope=col>n</th><th scope=col>.outcome</th><th scope=col>approx.mu</th><th scope=col>exact.mu</th></tr>\n",
              "\t<tr><th scope=col>&lt;dbl&gt;</th><th scope=col>&lt;list&gt;</th><th scope=col>&lt;dbl&gt;</th><th scope=col>&lt;dbl&gt;</th></tr>\n",
              "</thead>\n",
              "<tbody>\n",
              "\t<tr><td> 5</td><td>2, 3, 3, 1, 5, 2, 4, 3, 2, 4, 2, 3, 3, 3, 3, 3, 4, 4, 4, 2, 3, 2, 3, 0, 1, 4, 3, 1, 2, 4, 4, 3, 2, 4, 1, 0, 3, 3, 2, 1, 3, 1, 2, 3, 4, 2, 2, 3, 4, 1, 3, 2, 3, 2, 3, 3, 1, 2, 2, 2, 2, 1, 2, 3, 4, 4, 3, 3, 1, 2, 4, 4, 0, 1, 3, 2, 4, 5, 3, 2, 1, 2, 3, 3, 1, 4, 2, 2, 2, 2, 3, 3, 0, 0, 1, 4, 2, 4, 2, 2</td><td>2.50</td><td>2.5</td></tr>\n",
              "\t<tr><td>10</td><td>6, 4, 5, 5, 4, 8, 6, 5, 6, 4, 5, 5, 3, 8, 6, 6, 4, 7, 4, 6, 7, 6, 4, 7, 4, 4, 6, 7, 3, 4, 5, 7, 4, 2, 3, 4, 6, 5, 5, 6, 7, 3, 4, 5, 4, 6, 6, 6, 6, 4, 4, 4, 8, 6, 7, 7, 5, 9, 6, 4, 7, 7, 3, 3, 5, 4, 3, 4, 7, 6, 3, 5, 3, 5, 4, 8, 5, 6, 5, 4, 3, 6, 4, 6, 2, 6, 3, 8, 4, 4, 6, 3, 3, 6, 6, 6, 6, 5, 5, 4</td><td>5.10</td><td>5.0</td></tr>\n",
              "\t<tr><td>15</td><td>8, 6, 6, 10, 6, 8, 7, 8, 8, 8, 9, 10, 8, 8, 6, 9, 7, 5, 8, 8, 5, 7, 7, 10, 9, 7, 6, 10, 7, 7, 6, 12, 7, 9, 6, 4, 4, 7, 4, 4, 6, 8, 4, 7, 6, 3, 6, 8, 8, 8, 5, 9, 10, 9, 8, 7, 9, 6, 9, 9, 7, 5, 5, 6, 6, 4, 4, 9, 8, 6, 6, 8, 7, 4, 6, 8, 7, 9, 6, 8, 5, 9, 6, 5, 8, 7, 7, 4, 4, 7, 7, 6, 8, 10, 3, 8, 6, 7, 6, 8</td><td>6.96</td><td>7.5</td></tr>\n",
              "</tbody>\n",
              "</table>\n"
            ],
            "text/markdown": "\nA tibble: 3 × 4\n\n| n &lt;dbl&gt; | .outcome &lt;list&gt; | approx.mu &lt;dbl&gt; | exact.mu &lt;dbl&gt; |\n|---|---|---|---|\n|  5 | 2, 3, 3, 1, 5, 2, 4, 3, 2, 4, 2, 3, 3, 3, 3, 3, 4, 4, 4, 2, 3, 2, 3, 0, 1, 4, 3, 1, 2, 4, 4, 3, 2, 4, 1, 0, 3, 3, 2, 1, 3, 1, 2, 3, 4, 2, 2, 3, 4, 1, 3, 2, 3, 2, 3, 3, 1, 2, 2, 2, 2, 1, 2, 3, 4, 4, 3, 3, 1, 2, 4, 4, 0, 1, 3, 2, 4, 5, 3, 2, 1, 2, 3, 3, 1, 4, 2, 2, 2, 2, 3, 3, 0, 0, 1, 4, 2, 4, 2, 2 | 2.50 | 2.5 |\n| 10 | 6, 4, 5, 5, 4, 8, 6, 5, 6, 4, 5, 5, 3, 8, 6, 6, 4, 7, 4, 6, 7, 6, 4, 7, 4, 4, 6, 7, 3, 4, 5, 7, 4, 2, 3, 4, 6, 5, 5, 6, 7, 3, 4, 5, 4, 6, 6, 6, 6, 4, 4, 4, 8, 6, 7, 7, 5, 9, 6, 4, 7, 7, 3, 3, 5, 4, 3, 4, 7, 6, 3, 5, 3, 5, 4, 8, 5, 6, 5, 4, 3, 6, 4, 6, 2, 6, 3, 8, 4, 4, 6, 3, 3, 6, 6, 6, 6, 5, 5, 4 | 5.10 | 5.0 |\n| 15 | 8, 6, 6, 10, 6, 8, 7, 8, 8, 8, 9, 10, 8, 8, 6, 9, 7, 5, 8, 8, 5, 7, 7, 10, 9, 7, 6, 10, 7, 7, 6, 12, 7, 9, 6, 4, 4, 7, 4, 4, 6, 8, 4, 7, 6, 3, 6, 8, 8, 8, 5, 9, 10, 9, 8, 7, 9, 6, 9, 9, 7, 5, 5, 6, 6, 4, 4, 9, 8, 6, 6, 8, 7, 4, 6, 8, 7, 9, 6, 8, 5, 9, 6, 5, 8, 7, 7, 4, 4, 7, 7, 6, 8, 10, 3, 8, 6, 7, 6, 8 | 6.96 | 7.5 |\n\n",
            "text/latex": "A tibble: 3 × 4\n\\begin{tabular}{llll}\n n & .outcome & approx.mu & exact.mu\\\\\n <dbl> & <list> & <dbl> & <dbl>\\\\\n\\hline\n\t  5 & 2, 3, 3, 1, 5, 2, 4, 3, 2, 4, 2, 3, 3, 3, 3, 3, 4, 4, 4, 2, 3, 2, 3, 0, 1, 4, 3, 1, 2, 4, 4, 3, 2, 4, 1, 0, 3, 3, 2, 1, 3, 1, 2, 3, 4, 2, 2, 3, 4, 1, 3, 2, 3, 2, 3, 3, 1, 2, 2, 2, 2, 1, 2, 3, 4, 4, 3, 3, 1, 2, 4, 4, 0, 1, 3, 2, 4, 5, 3, 2, 1, 2, 3, 3, 1, 4, 2, 2, 2, 2, 3, 3, 0, 0, 1, 4, 2, 4, 2, 2 & 2.50 & 2.5\\\\\n\t 10 & 6, 4, 5, 5, 4, 8, 6, 5, 6, 4, 5, 5, 3, 8, 6, 6, 4, 7, 4, 6, 7, 6, 4, 7, 4, 4, 6, 7, 3, 4, 5, 7, 4, 2, 3, 4, 6, 5, 5, 6, 7, 3, 4, 5, 4, 6, 6, 6, 6, 4, 4, 4, 8, 6, 7, 7, 5, 9, 6, 4, 7, 7, 3, 3, 5, 4, 3, 4, 7, 6, 3, 5, 3, 5, 4, 8, 5, 6, 5, 4, 3, 6, 4, 6, 2, 6, 3, 8, 4, 4, 6, 3, 3, 6, 6, 6, 6, 5, 5, 4 & 5.10 & 5.0\\\\\n\t 15 & 8, 6, 6, 10, 6, 8, 7, 8, 8, 8, 9, 10, 8, 8, 6, 9, 7, 5, 8, 8, 5, 7, 7, 10, 9, 7, 6, 10, 7, 7, 6, 12, 7, 9, 6, 4, 4, 7, 4, 4, 6, 8, 4, 7, 6, 3, 6, 8, 8, 8, 5, 9, 10, 9, 8, 7, 9, 6, 9, 9, 7, 5, 5, 6, 6, 4, 4, 9, 8, 6, 6, 8, 7, 4, 6, 8, 7, 9, 6, 8, 5, 9, 6, 5, 8, 7, 7, 4, 4, 7, 7, 6, 8, 10, 3, 8, 6, 7, 6, 8 & 6.96 & 7.5\\\\\n\\end{tabular}\n",
            "text/plain": [
              "  n \n",
              "1  5\n",
              "2 10\n",
              "3 15\n",
              "  .outcome                                                                                                                                                                                                                                                                                                         \n",
              "1 2, 3, 3, 1, 5, 2, 4, 3, 2, 4, 2, 3, 3, 3, 3, 3, 4, 4, 4, 2, 3, 2, 3, 0, 1, 4, 3, 1, 2, 4, 4, 3, 2, 4, 1, 0, 3, 3, 2, 1, 3, 1, 2, 3, 4, 2, 2, 3, 4, 1, 3, 2, 3, 2, 3, 3, 1, 2, 2, 2, 2, 1, 2, 3, 4, 4, 3, 3, 1, 2, 4, 4, 0, 1, 3, 2, 4, 5, 3, 2, 1, 2, 3, 3, 1, 4, 2, 2, 2, 2, 3, 3, 0, 0, 1, 4, 2, 4, 2, 2       \n",
              "2 6, 4, 5, 5, 4, 8, 6, 5, 6, 4, 5, 5, 3, 8, 6, 6, 4, 7, 4, 6, 7, 6, 4, 7, 4, 4, 6, 7, 3, 4, 5, 7, 4, 2, 3, 4, 6, 5, 5, 6, 7, 3, 4, 5, 4, 6, 6, 6, 6, 4, 4, 4, 8, 6, 7, 7, 5, 9, 6, 4, 7, 7, 3, 3, 5, 4, 3, 4, 7, 6, 3, 5, 3, 5, 4, 8, 5, 6, 5, 4, 3, 6, 4, 6, 2, 6, 3, 8, 4, 4, 6, 3, 3, 6, 6, 6, 6, 5, 5, 4       \n",
              "3 8, 6, 6, 10, 6, 8, 7, 8, 8, 8, 9, 10, 8, 8, 6, 9, 7, 5, 8, 8, 5, 7, 7, 10, 9, 7, 6, 10, 7, 7, 6, 12, 7, 9, 6, 4, 4, 7, 4, 4, 6, 8, 4, 7, 6, 3, 6, 8, 8, 8, 5, 9, 10, 9, 8, 7, 9, 6, 9, 9, 7, 5, 5, 6, 6, 4, 4, 9, 8, 6, 6, 8, 7, 4, 6, 8, 7, 9, 6, 8, 5, 9, 6, 5, 8, 7, 7, 4, 4, 7, 7, 6, 8, 10, 3, 8, 6, 7, 6, 8\n",
              "  approx.mu exact.mu\n",
              "1 2.50      2.5     \n",
              "2 5.10      5.0     \n",
              "3 6.96      7.5     "
            ]
          },
          "metadata": {}
        }
      ]
    },
    {
      "cell_type": "markdown",
      "source": [
        "#### 2. We are storing a *lot* of data during most intermediate steps."
      ],
      "metadata": {
        "id": "qaojFMGCfahw"
      }
    },
    {
      "cell_type": "code",
      "source": [
        "# Drop outcomes\n",
        "num.trials <- 100000\n",
        "(parameters\n",
        " %>% unnest_longer(n)\n",
        " %>% mutate(.outcome = map(n, \\(n) rbinom(num.trials, n, 0.5)), # <== Lots of data/memory used\n",
        "            approx.mu = map_dbl(.outcome, mean),\n",
        "            exact.mu = n*p\n",
        "           )\n",
        " %>% select(-.outcome)\n",
        " )"
      ],
      "metadata": {
        "colab": {
          "base_uri": "https://localhost:8080/",
          "height": 190
        },
        "id": "xqF_BxSGfib-",
        "outputId": "c89b094a-3a50-419b-ea48-ea7e0267954a"
      },
      "execution_count": null,
      "outputs": [
        {
          "output_type": "display_data",
          "data": {
            "text/html": [
              "<table class=\"dataframe\">\n",
              "<caption>A tibble: 3 × 3</caption>\n",
              "<thead>\n",
              "\t<tr><th scope=col>n</th><th scope=col>approx.mu</th><th scope=col>exact.mu</th></tr>\n",
              "\t<tr><th scope=col>&lt;dbl&gt;</th><th scope=col>&lt;dbl&gt;</th><th scope=col>&lt;dbl&gt;</th></tr>\n",
              "</thead>\n",
              "<tbody>\n",
              "\t<tr><td> 5</td><td>2.49685</td><td>2.5</td></tr>\n",
              "\t<tr><td>10</td><td>5.00720</td><td>5.0</td></tr>\n",
              "\t<tr><td>15</td><td>7.49682</td><td>7.5</td></tr>\n",
              "</tbody>\n",
              "</table>\n"
            ],
            "text/markdown": "\nA tibble: 3 × 3\n\n| n &lt;dbl&gt; | approx.mu &lt;dbl&gt; | exact.mu &lt;dbl&gt; |\n|---|---|---|\n|  5 | 2.49685 | 2.5 |\n| 10 | 5.00720 | 5.0 |\n| 15 | 7.49682 | 7.5 |\n\n",
            "text/latex": "A tibble: 3 × 3\n\\begin{tabular}{lll}\n n & approx.mu & exact.mu\\\\\n <dbl> & <dbl> & <dbl>\\\\\n\\hline\n\t  5 & 2.49685 & 2.5\\\\\n\t 10 & 5.00720 & 5.0\\\\\n\t 15 & 7.49682 & 7.5\\\\\n\\end{tabular}\n",
            "text/plain": [
              "  n  approx.mu exact.mu\n",
              "1  5 2.49685   2.5     \n",
              "2 10 5.00720   5.0     \n",
              "3 15 7.49682   7.5     "
            ]
          },
          "metadata": {}
        }
      ]
    },
    {
      "cell_type": "markdown",
      "source": [
        "### The Solution\n",
        "\n",
        "The solution is to\n",
        "\n",
        "1. Prototype the code using a separate list column of outcomes, then\n",
        "2. Compose the steps into a single function"
      ],
      "metadata": {
        "id": "PPp2luczfwFs"
      }
    },
    {
      "cell_type": "markdown",
      "source": [
        "## The \"shape\" of a composed parametric simulation\n",
        "\n",
        "1. Set up the parameter space using a `tribble`.\n",
        "2. Unnest the parameter(s) of interest.\n",
        "3. Use one `map` or `pmap` to perform the entire process, usually by piping each intermediate result into the next function."
      ],
      "metadata": {
        "id": "8xITik_m1KY_"
      }
    },
    {
      "cell_type": "code",
      "source": [
        "# First prototype WITH the outcome column\n",
        "p <- 0.5\n",
        "num.trials <- 10\n",
        "(parameters\n",
        " %>% unnest_longer(n)\n",
        " %>% mutate(.outcome = map(n, \\(n) rbinom(num.trials, n, 0.5)), # Easy to\n",
        "            approx.mu = map_dbl(.outcome, mean),                # verify\n",
        "            exact.mu = n*p                                      # correctness\n",
        "           )\n",
        " )"
      ],
      "metadata": {
        "colab": {
          "base_uri": "https://localhost:8080/",
          "height": 190
        },
        "id": "yC7TOR5yKeWH",
        "outputId": "eb711d39-cf98-47cf-f8ba-a1e622cd4bb1"
      },
      "execution_count": 12,
      "outputs": [
        {
          "output_type": "display_data",
          "data": {
            "text/html": [
              "<table class=\"dataframe\">\n",
              "<caption>A tibble: 3 × 4</caption>\n",
              "<thead>\n",
              "\t<tr><th scope=col>n</th><th scope=col>.outcome</th><th scope=col>approx.mu</th><th scope=col>exact.mu</th></tr>\n",
              "\t<tr><th scope=col>&lt;dbl&gt;</th><th scope=col>&lt;list&gt;</th><th scope=col>&lt;dbl&gt;</th><th scope=col>&lt;dbl&gt;</th></tr>\n",
              "</thead>\n",
              "<tbody>\n",
              "\t<tr><td> 5</td><td>4, 3, 3, 3, 2, 1, 2, 2, 2, 0</td><td>2.2</td><td>2.5</td></tr>\n",
              "\t<tr><td>10</td><td>8, 8, 5, 4, 5, 3, 5, 4, 5, 7</td><td>5.4</td><td>5.0</td></tr>\n",
              "\t<tr><td>15</td><td>8, 8, 10, 10, 7, 7, 8, 5, 11, 9</td><td>8.3</td><td>7.5</td></tr>\n",
              "</tbody>\n",
              "</table>\n"
            ],
            "text/markdown": "\nA tibble: 3 × 4\n\n| n &lt;dbl&gt; | .outcome &lt;list&gt; | approx.mu &lt;dbl&gt; | exact.mu &lt;dbl&gt; |\n|---|---|---|---|\n|  5 | 4, 3, 3, 3, 2, 1, 2, 2, 2, 0 | 2.2 | 2.5 |\n| 10 | 8, 8, 5, 4, 5, 3, 5, 4, 5, 7 | 5.4 | 5.0 |\n| 15 | 8, 8, 10, 10, 7, 7, 8, 5, 11, 9 | 8.3 | 7.5 |\n\n",
            "text/latex": "A tibble: 3 × 4\n\\begin{tabular}{llll}\n n & .outcome & approx.mu & exact.mu\\\\\n <dbl> & <list> & <dbl> & <dbl>\\\\\n\\hline\n\t  5 & 4, 3, 3, 3, 2, 1, 2, 2, 2, 0 & 2.2 & 2.5\\\\\n\t 10 & 8, 8, 5, 4, 5, 3, 5, 4, 5, 7 & 5.4 & 5.0\\\\\n\t 15 & 8, 8, 10, 10, 7, 7, 8, 5, 11, 9 & 8.3 & 7.5\\\\\n\\end{tabular}\n",
            "text/plain": [
              "  n  .outcome                        approx.mu exact.mu\n",
              "1  5 4, 3, 3, 3, 2, 1, 2, 2, 2, 0    2.2       2.5     \n",
              "2 10 8, 8, 5, 4, 5, 3, 5, 4, 5, 7    5.4       5.0     \n",
              "3 15 8, 8, 10, 10, 7, 7, 8, 5, 11, 9 8.3       7.5     "
            ]
          },
          "metadata": {}
        }
      ]
    },
    {
      "cell_type": "code",
      "source": [
        "# Second ... Compose!\n",
        "num.trials <- 100\n",
        "(parameters\n",
        " %>% unnest_longer(n)\n",
        " %>% mutate(approx.mu = map_dbl(n, \\(n) (rbinom(num.trials, n, 0.5)\n",
        "                                        %>% mean)),\n",
        "            exact.mu = n*p\n",
        "           )\n",
        ")"
      ],
      "metadata": {
        "colab": {
          "base_uri": "https://localhost:8080/",
          "height": 190
        },
        "id": "qheMv78q9Qmc",
        "outputId": "6f642423-995e-41dd-da75-0d2df51aa680"
      },
      "execution_count": 13,
      "outputs": [
        {
          "output_type": "display_data",
          "data": {
            "text/html": [
              "<table class=\"dataframe\">\n",
              "<caption>A tibble: 3 × 3</caption>\n",
              "<thead>\n",
              "\t<tr><th scope=col>n</th><th scope=col>approx.mu</th><th scope=col>exact.mu</th></tr>\n",
              "\t<tr><th scope=col>&lt;dbl&gt;</th><th scope=col>&lt;dbl&gt;</th><th scope=col>&lt;dbl&gt;</th></tr>\n",
              "</thead>\n",
              "<tbody>\n",
              "\t<tr><td> 5</td><td>2.41</td><td>2.5</td></tr>\n",
              "\t<tr><td>10</td><td>5.06</td><td>5.0</td></tr>\n",
              "\t<tr><td>15</td><td>7.46</td><td>7.5</td></tr>\n",
              "</tbody>\n",
              "</table>\n"
            ],
            "text/markdown": "\nA tibble: 3 × 3\n\n| n &lt;dbl&gt; | approx.mu &lt;dbl&gt; | exact.mu &lt;dbl&gt; |\n|---|---|---|\n|  5 | 2.41 | 2.5 |\n| 10 | 5.06 | 5.0 |\n| 15 | 7.46 | 7.5 |\n\n",
            "text/latex": "A tibble: 3 × 3\n\\begin{tabular}{lll}\n n & approx.mu & exact.mu\\\\\n <dbl> & <dbl> & <dbl>\\\\\n\\hline\n\t  5 & 2.41 & 2.5\\\\\n\t 10 & 5.06 & 5.0\\\\\n\t 15 & 7.46 & 7.5\\\\\n\\end{tabular}\n",
            "text/plain": [
              "  n  approx.mu exact.mu\n",
              "1  5 2.41      2.5     \n",
              "2 10 5.06      5.0     \n",
              "3 15 7.46      7.5     "
            ]
          },
          "metadata": {}
        }
      ]
    },
    {
      "cell_type": "markdown",
      "source": [
        "### When can you compose?\n",
        "\n",
        "When each step is saved, then immediately used on the next step."
      ],
      "metadata": {
        "id": "LE_CRi0u0Oqk"
      }
    },
    {
      "cell_type": "markdown",
      "source": [
        "#### Tracking the data\n",
        "\n",
        "Here the raw trials are saved as `.outcome`, which is then used as input on the next mutate."
      ],
      "metadata": {
        "id": "kqqlhKR9wEZC"
      }
    },
    {
      "cell_type": "code",
      "source": [
        "num.trials <- 10\n",
        "(parameters\n",
        " %>% unnest_longer(n) # ────────┐\n",
        " %>% mutate(.outcome = map(n, \\(n) rbinom(num.trials, n, 0.5)),\n",
        "            # │  └─────────────────────┘\n",
        "            # └────────────────────┐\n",
        "            approx.mu = map_dbl(.outcome, mean),\n",
        "            #   │                  └──────┘ │\n",
        "            #   └───────────────────────────┘\n",
        "            exact.mu = n*p\n",
        "           )\n",
        " %>% select(-.outcome)\n",
        " )"
      ],
      "metadata": {
        "id": "cmlHoKpKwCwr"
      },
      "execution_count": null,
      "outputs": []
    },
    {
      "cell_type": "markdown",
      "source": [
        "#### Tracking the data\n",
        "\n",
        "Instead of saving the intermediate result (i.e., the raw output) we can simply pipe it into the next action."
      ],
      "metadata": {
        "id": "iAdqkzSgyVl0"
      }
    },
    {
      "cell_type": "code",
      "source": [
        "# Compose!\n",
        "num.trials <- 100\n",
        "(parameters\n",
        " %>% unnest_longer(n) # ─────────────┐\n",
        " %>% mutate(approx.mu = map_dbl(n, \\(n) (rbinom(num.trials, n, 0.5)\n",
        "          #   │                              │\n",
        "                                        %>% mean)),\n",
        "          #   └──────────────────────────────┘\n",
        "            exact.mu = n*p\n",
        "           )\n",
        "))"
      ],
      "metadata": {
        "id": "bTl3-uzF9vpc"
      },
      "execution_count": null,
      "outputs": []
    },
    {
      "cell_type": "markdown",
      "source": [
        "### <font color=\"red\"> Exercise 2.5.1 </font>\n",
        "\n",
        "Suppose that we want to compare the cut off for the top 5% of a binomial data with $n = 100$ and $p\\in\\{0.25, 0.5, 0.75\\}\n",
        "\n",
        "**Tasks.**\n",
        "1. Prototype the process by storing the raw outcomes in a list column, then processing with additional `map`s,\n",
        "2. Verify the correctness of your code, and\n",
        "2. Compose all the intermediate steps to eliminate the need to store the raw outcomes."
      ],
      "metadata": {
        "id": "t1oDP7Cp3pQP"
      }
    },
    {
      "cell_type": "code",
      "source": [
        "# Your code here."
      ],
      "metadata": {
        "id": "mhvK2pjV4Xv1"
      },
      "execution_count": null,
      "outputs": []
    },
    {
      "cell_type": "markdown",
      "source": [
        "## Parametric Simulations with more than one parameter\n",
        "\n",
        "A similar process can be used to simulate a scenario where two or more parameters vary across the experiment.  Depending on the scenario, we will\n",
        "1. **Two parameters.** Use either `map2` or `pmap` to generate the raw outcomes.\n",
        "2. **Three+ parameters.** Use `pmap` to generate the raw outcomes."
      ],
      "metadata": {
        "id": "C8n3DxWs4buy"
      }
    },
    {
      "cell_type": "markdown",
      "source": [
        "### Example 2 - Investigate the mean part 2\n",
        "\n",
        "Now suppose we want to investigate the mean of the binomial distribution for all combinations of $n\\in\\{5,10,15\\}$ and $p\\in\\{0.25, 0.5, 0.74\\}$.  "
      ],
      "metadata": {
        "id": "vj0l0oZE5EZ1"
      }
    },
    {
      "cell_type": "markdown",
      "source": [
        "#### Step 1.  Define the parameter space"
      ],
      "metadata": {
        "id": "E3Nvf1D8LWxA"
      }
    },
    {
      "cell_type": "code",
      "source": [
        "# Define the parameter space\n",
        "two.parameters <-\n",
        "  tribble(~n,         ~p,\n",
        "          c(5,10,15), c(0.25, 0.5, 0.75))\n",
        "two.parameters"
      ],
      "metadata": {
        "colab": {
          "base_uri": "https://localhost:8080/",
          "height": 128
        },
        "id": "EstQSykN5dSg",
        "outputId": "e2f27c64-30c2-446b-9b52-894c8a937de9"
      },
      "execution_count": 14,
      "outputs": [
        {
          "output_type": "display_data",
          "data": {
            "text/html": [
              "<table class=\"dataframe\">\n",
              "<caption>A tibble: 1 × 2</caption>\n",
              "<thead>\n",
              "\t<tr><th scope=col>n</th><th scope=col>p</th></tr>\n",
              "\t<tr><th scope=col>&lt;list&gt;</th><th scope=col>&lt;list&gt;</th></tr>\n",
              "</thead>\n",
              "<tbody>\n",
              "\t<tr><td>5, 10, 15</td><td>0.25, 0.50, 0.75</td></tr>\n",
              "</tbody>\n",
              "</table>\n"
            ],
            "text/markdown": "\nA tibble: 1 × 2\n\n| n &lt;list&gt; | p &lt;list&gt; |\n|---|---|\n| 5, 10, 15 | 0.25, 0.50, 0.75 |\n\n",
            "text/latex": "A tibble: 1 × 2\n\\begin{tabular}{ll}\n n & p\\\\\n <list> & <list>\\\\\n\\hline\n\t 5, 10, 15 & 0.25, 0.50, 0.75\\\\\n\\end{tabular}\n",
            "text/plain": [
              "  n         p               \n",
              "1 5, 10, 15 0.25, 0.50, 0.75"
            ]
          },
          "metadata": {}
        }
      ]
    },
    {
      "cell_type": "markdown",
      "source": [
        "#### Step 2. Unnest both parameters"
      ],
      "metadata": {
        "id": "ETvIwxSYLaw4"
      }
    },
    {
      "cell_type": "code",
      "source": [
        "# Unnest both parameters\n",
        "(two.parameters\n",
        " %>% unnest_longer(n)\n",
        " %>% unnest_longer(p)\n",
        " )"
      ],
      "metadata": {
        "colab": {
          "base_uri": "https://localhost:8080/",
          "height": 376
        },
        "id": "sxWACNtD4bdS",
        "outputId": "3b00641d-7aa3-4c5e-c255-986e6978750b"
      },
      "execution_count": 15,
      "outputs": [
        {
          "output_type": "display_data",
          "data": {
            "text/html": [
              "<table class=\"dataframe\">\n",
              "<caption>A tibble: 9 × 2</caption>\n",
              "<thead>\n",
              "\t<tr><th scope=col>n</th><th scope=col>p</th></tr>\n",
              "\t<tr><th scope=col>&lt;dbl&gt;</th><th scope=col>&lt;dbl&gt;</th></tr>\n",
              "</thead>\n",
              "<tbody>\n",
              "\t<tr><td> 5</td><td>0.25</td></tr>\n",
              "\t<tr><td> 5</td><td>0.50</td></tr>\n",
              "\t<tr><td> 5</td><td>0.75</td></tr>\n",
              "\t<tr><td>10</td><td>0.25</td></tr>\n",
              "\t<tr><td>10</td><td>0.50</td></tr>\n",
              "\t<tr><td>10</td><td>0.75</td></tr>\n",
              "\t<tr><td>15</td><td>0.25</td></tr>\n",
              "\t<tr><td>15</td><td>0.50</td></tr>\n",
              "\t<tr><td>15</td><td>0.75</td></tr>\n",
              "</tbody>\n",
              "</table>\n"
            ],
            "text/markdown": "\nA tibble: 9 × 2\n\n| n &lt;dbl&gt; | p &lt;dbl&gt; |\n|---|---|\n|  5 | 0.25 |\n|  5 | 0.50 |\n|  5 | 0.75 |\n| 10 | 0.25 |\n| 10 | 0.50 |\n| 10 | 0.75 |\n| 15 | 0.25 |\n| 15 | 0.50 |\n| 15 | 0.75 |\n\n",
            "text/latex": "A tibble: 9 × 2\n\\begin{tabular}{ll}\n n & p\\\\\n <dbl> & <dbl>\\\\\n\\hline\n\t  5 & 0.25\\\\\n\t  5 & 0.50\\\\\n\t  5 & 0.75\\\\\n\t 10 & 0.25\\\\\n\t 10 & 0.50\\\\\n\t 10 & 0.75\\\\\n\t 15 & 0.25\\\\\n\t 15 & 0.50\\\\\n\t 15 & 0.75\\\\\n\\end{tabular}\n",
            "text/plain": [
              "  n  p   \n",
              "1  5 0.25\n",
              "2  5 0.50\n",
              "3  5 0.75\n",
              "4 10 0.25\n",
              "5 10 0.50\n",
              "6 10 0.75\n",
              "7 15 0.25\n",
              "8 15 0.50\n",
              "9 15 0.75"
            ]
          },
          "metadata": {}
        }
      ]
    },
    {
      "cell_type": "markdown",
      "source": [
        "#### Step 3.  Generate outcomes with `map2`"
      ],
      "metadata": {
        "id": "c5slUEwQLe1W"
      }
    },
    {
      "cell_type": "code",
      "source": [
        "# Version 1 - Use map2 to generate the data\n",
        "num.trials <- 10\n",
        "(two.parameters\n",
        " %>% unnest_longer(n)\n",
        " %>% unnest_longer(p)\n",
        " %>% mutate(.outcome = map2(n, p, \\(n, p) rbinom(num.trials, n, p)))\n",
        " )"
      ],
      "metadata": {
        "colab": {
          "base_uri": "https://localhost:8080/",
          "height": 376
        },
        "id": "LkwJMv_66CHs",
        "outputId": "8c5b4099-747d-453b-f2b3-6bace4cff16b"
      },
      "execution_count": null,
      "outputs": [
        {
          "output_type": "display_data",
          "data": {
            "text/html": [
              "<table class=\"dataframe\">\n",
              "<caption>A tibble: 9 × 3</caption>\n",
              "<thead>\n",
              "\t<tr><th scope=col>n</th><th scope=col>p</th><th scope=col>.outcome</th></tr>\n",
              "\t<tr><th scope=col>&lt;dbl&gt;</th><th scope=col>&lt;dbl&gt;</th><th scope=col>&lt;list&gt;</th></tr>\n",
              "</thead>\n",
              "<tbody>\n",
              "\t<tr><td> 5</td><td>0.25</td><td>2, 0, 1, 1, 0, 1, 2, 1, 1, 0</td></tr>\n",
              "\t<tr><td> 5</td><td>0.50</td><td>2, 4, 3, 4, 2, 3, 3, 1, 4, 2</td></tr>\n",
              "\t<tr><td> 5</td><td>0.75</td><td>4, 4, 3, 3, 3, 3, 3, 5, 4, 4</td></tr>\n",
              "\t<tr><td>10</td><td>0.25</td><td>1, 1, 4, 3, 3, 4, 2, 3, 3, 4</td></tr>\n",
              "\t<tr><td>10</td><td>0.50</td><td>5, 6, 6, 4, 4, 7, 4, 5, 5, 7</td></tr>\n",
              "\t<tr><td>10</td><td>0.75</td><td>7, 8, 8, 6, 8, 9, 8, 8, 5, 8</td></tr>\n",
              "\t<tr><td>15</td><td>0.25</td><td>3, 4, 5, 2, 4, 7, 5, 4, 6, 2</td></tr>\n",
              "\t<tr><td>15</td><td>0.50</td><td>8, 10, 9, 9, 10, 10, 7, 7, 8, 4</td></tr>\n",
              "\t<tr><td>15</td><td>0.75</td><td>13, 10, 10, 11, 13, 10, 10, 9, 11, 11</td></tr>\n",
              "</tbody>\n",
              "</table>\n"
            ],
            "text/markdown": "\nA tibble: 9 × 3\n\n| n &lt;dbl&gt; | p &lt;dbl&gt; | .outcome &lt;list&gt; |\n|---|---|---|\n|  5 | 0.25 | 2, 0, 1, 1, 0, 1, 2, 1, 1, 0 |\n|  5 | 0.50 | 2, 4, 3, 4, 2, 3, 3, 1, 4, 2 |\n|  5 | 0.75 | 4, 4, 3, 3, 3, 3, 3, 5, 4, 4 |\n| 10 | 0.25 | 1, 1, 4, 3, 3, 4, 2, 3, 3, 4 |\n| 10 | 0.50 | 5, 6, 6, 4, 4, 7, 4, 5, 5, 7 |\n| 10 | 0.75 | 7, 8, 8, 6, 8, 9, 8, 8, 5, 8 |\n| 15 | 0.25 | 3, 4, 5, 2, 4, 7, 5, 4, 6, 2 |\n| 15 | 0.50 | 8, 10, 9, 9, 10, 10, 7, 7, 8, 4 |\n| 15 | 0.75 | 13, 10, 10, 11, 13, 10, 10, 9, 11, 11 |\n\n",
            "text/latex": "A tibble: 9 × 3\n\\begin{tabular}{lll}\n n & p & .outcome\\\\\n <dbl> & <dbl> & <list>\\\\\n\\hline\n\t  5 & 0.25 & 2, 0, 1, 1, 0, 1, 2, 1, 1, 0\\\\\n\t  5 & 0.50 & 2, 4, 3, 4, 2, 3, 3, 1, 4, 2\\\\\n\t  5 & 0.75 & 4, 4, 3, 3, 3, 3, 3, 5, 4, 4\\\\\n\t 10 & 0.25 & 1, 1, 4, 3, 3, 4, 2, 3, 3, 4\\\\\n\t 10 & 0.50 & 5, 6, 6, 4, 4, 7, 4, 5, 5, 7\\\\\n\t 10 & 0.75 & 7, 8, 8, 6, 8, 9, 8, 8, 5, 8\\\\\n\t 15 & 0.25 & 3, 4, 5, 2, 4, 7, 5, 4, 6, 2\\\\\n\t 15 & 0.50 & 8, 10, 9, 9, 10, 10, 7, 7, 8, 4\\\\\n\t 15 & 0.75 & 13, 10, 10, 11, 13, 10, 10, 9, 11, 11\\\\\n\\end{tabular}\n",
            "text/plain": [
              "  n  p    .outcome                             \n",
              "1  5 0.25 2, 0, 1, 1, 0, 1, 2, 1, 1, 0         \n",
              "2  5 0.50 2, 4, 3, 4, 2, 3, 3, 1, 4, 2         \n",
              "3  5 0.75 4, 4, 3, 3, 3, 3, 3, 5, 4, 4         \n",
              "4 10 0.25 1, 1, 4, 3, 3, 4, 2, 3, 3, 4         \n",
              "5 10 0.50 5, 6, 6, 4, 4, 7, 4, 5, 5, 7         \n",
              "6 10 0.75 7, 8, 8, 6, 8, 9, 8, 8, 5, 8         \n",
              "7 15 0.25 3, 4, 5, 2, 4, 7, 5, 4, 6, 2         \n",
              "8 15 0.50 8, 10, 9, 9, 10, 10, 7, 7, 8, 4      \n",
              "9 15 0.75 13, 10, 10, 11, 13, 10, 10, 9, 11, 11"
            ]
          },
          "metadata": {}
        }
      ]
    },
    {
      "cell_type": "markdown",
      "source": [
        "#### Step 3. Generate outcomes with `pmap`."
      ],
      "metadata": {
        "id": "j5WpMAu0LoSv"
      }
    },
    {
      "cell_type": "code",
      "source": [
        "# Version 2 - Use pmap to generate the data\n",
        "num.trials <- 10\n",
        "(two.parameters\n",
        " %>% unnest_longer(n)\n",
        " %>% unnest_longer(p)\n",
        " %>% mutate(.outcome = pmap(list(size = n, prob = p), rbinom, n = num.trials))\n",
        " )"
      ],
      "metadata": {
        "colab": {
          "base_uri": "https://localhost:8080/",
          "height": 376
        },
        "id": "ifLSSqw36maQ",
        "outputId": "ae8e2e6b-f2c8-4b4d-8e21-4b22a16575a1"
      },
      "execution_count": 16,
      "outputs": [
        {
          "output_type": "display_data",
          "data": {
            "text/html": [
              "<table class=\"dataframe\">\n",
              "<caption>A tibble: 9 × 3</caption>\n",
              "<thead>\n",
              "\t<tr><th scope=col>n</th><th scope=col>p</th><th scope=col>.outcome</th></tr>\n",
              "\t<tr><th scope=col>&lt;dbl&gt;</th><th scope=col>&lt;dbl&gt;</th><th scope=col>&lt;list&gt;</th></tr>\n",
              "</thead>\n",
              "<tbody>\n",
              "\t<tr><td> 5</td><td>0.25</td><td>1, 1, 0, 0, 1, 3, 1, 1, 1, 1</td></tr>\n",
              "\t<tr><td> 5</td><td>0.50</td><td>2, 3, 4, 4, 5, 2, 2, 2, 3, 2</td></tr>\n",
              "\t<tr><td> 5</td><td>0.75</td><td>4, 2, 4, 3, 2, 4, 3, 3, 3, 4</td></tr>\n",
              "\t<tr><td>10</td><td>0.25</td><td>3, 2, 2, 6, 1, 5, 1, 3, 1, 3</td></tr>\n",
              "\t<tr><td>10</td><td>0.50</td><td>7, 5, 7, 8, 3, 2, 2, 3, 5, 5</td></tr>\n",
              "\t<tr><td>10</td><td>0.75</td><td>6, 5, 7, 8, 10, 6, 8, 9, 8, 4</td></tr>\n",
              "\t<tr><td>15</td><td>0.25</td><td>2, 3, 2, 4, 4, 6, 3, 6, 5, 3</td></tr>\n",
              "\t<tr><td>15</td><td>0.50</td><td>9, 6, 3, 5, 7, 6, 9, 4, 9, 10</td></tr>\n",
              "\t<tr><td>15</td><td>0.75</td><td>14, 10, 13, 11, 7, 12, 11, 13, 14, 12</td></tr>\n",
              "</tbody>\n",
              "</table>\n"
            ],
            "text/markdown": "\nA tibble: 9 × 3\n\n| n &lt;dbl&gt; | p &lt;dbl&gt; | .outcome &lt;list&gt; |\n|---|---|---|\n|  5 | 0.25 | 1, 1, 0, 0, 1, 3, 1, 1, 1, 1 |\n|  5 | 0.50 | 2, 3, 4, 4, 5, 2, 2, 2, 3, 2 |\n|  5 | 0.75 | 4, 2, 4, 3, 2, 4, 3, 3, 3, 4 |\n| 10 | 0.25 | 3, 2, 2, 6, 1, 5, 1, 3, 1, 3 |\n| 10 | 0.50 | 7, 5, 7, 8, 3, 2, 2, 3, 5, 5 |\n| 10 | 0.75 | 6, 5, 7, 8, 10, 6, 8, 9, 8, 4 |\n| 15 | 0.25 | 2, 3, 2, 4, 4, 6, 3, 6, 5, 3 |\n| 15 | 0.50 | 9, 6, 3, 5, 7, 6, 9, 4, 9, 10 |\n| 15 | 0.75 | 14, 10, 13, 11, 7, 12, 11, 13, 14, 12 |\n\n",
            "text/latex": "A tibble: 9 × 3\n\\begin{tabular}{lll}\n n & p & .outcome\\\\\n <dbl> & <dbl> & <list>\\\\\n\\hline\n\t  5 & 0.25 & 1, 1, 0, 0, 1, 3, 1, 1, 1, 1\\\\\n\t  5 & 0.50 & 2, 3, 4, 4, 5, 2, 2, 2, 3, 2\\\\\n\t  5 & 0.75 & 4, 2, 4, 3, 2, 4, 3, 3, 3, 4\\\\\n\t 10 & 0.25 & 3, 2, 2, 6, 1, 5, 1, 3, 1, 3\\\\\n\t 10 & 0.50 & 7, 5, 7, 8, 3, 2, 2, 3, 5, 5\\\\\n\t 10 & 0.75 & 6, 5, 7, 8, 10, 6, 8, 9, 8, 4\\\\\n\t 15 & 0.25 & 2, 3, 2, 4, 4, 6, 3, 6, 5, 3\\\\\n\t 15 & 0.50 & 9, 6, 3, 5, 7, 6, 9, 4, 9, 10\\\\\n\t 15 & 0.75 & 14, 10, 13, 11, 7, 12, 11, 13, 14, 12\\\\\n\\end{tabular}\n",
            "text/plain": [
              "  n  p    .outcome                             \n",
              "1  5 0.25 1, 1, 0, 0, 1, 3, 1, 1, 1, 1         \n",
              "2  5 0.50 2, 3, 4, 4, 5, 2, 2, 2, 3, 2         \n",
              "3  5 0.75 4, 2, 4, 3, 2, 4, 3, 3, 3, 4         \n",
              "4 10 0.25 3, 2, 2, 6, 1, 5, 1, 3, 1, 3         \n",
              "5 10 0.50 7, 5, 7, 8, 3, 2, 2, 3, 5, 5         \n",
              "6 10 0.75 6, 5, 7, 8, 10, 6, 8, 9, 8, 4        \n",
              "7 15 0.25 2, 3, 2, 4, 4, 6, 3, 6, 5, 3         \n",
              "8 15 0.50 9, 6, 3, 5, 7, 6, 9, 4, 9, 10        \n",
              "9 15 0.75 14, 10, 13, 11, 7, 12, 11, 13, 14, 12"
            ]
          },
          "metadata": {}
        }
      ]
    },
    {
      "cell_type": "markdown",
      "source": [
        "#### Step 4. Process and summarize."
      ],
      "metadata": {
        "id": "WY1s-7TMPjcN"
      }
    },
    {
      "cell_type": "code",
      "source": [
        "um.trials <- 10\n",
        "(two.parameters\n",
        " %>% unnest_longer(n)\n",
        " %>% unnest_longer(p)\n",
        " %>% mutate(.outcome = map2(n, p, \\(n, p) rbinom(num.trials, n, p)))\n",
        " %>% mutate(approx.mu = map_dbl(.outcome, mean),\n",
        "            exact.mu = n*p)\n",
        " )"
      ],
      "metadata": {
        "colab": {
          "base_uri": "https://localhost:8080/",
          "height": 376
        },
        "id": "qDaYIB44PodQ",
        "outputId": "7eb013f9-26f9-467c-8736-1101884d08cc"
      },
      "execution_count": 17,
      "outputs": [
        {
          "output_type": "display_data",
          "data": {
            "text/html": [
              "<table class=\"dataframe\">\n",
              "<caption>A tibble: 9 × 5</caption>\n",
              "<thead>\n",
              "\t<tr><th scope=col>n</th><th scope=col>p</th><th scope=col>.outcome</th><th scope=col>approx.mu</th><th scope=col>exact.mu</th></tr>\n",
              "\t<tr><th scope=col>&lt;dbl&gt;</th><th scope=col>&lt;dbl&gt;</th><th scope=col>&lt;list&gt;</th><th scope=col>&lt;dbl&gt;</th><th scope=col>&lt;dbl&gt;</th></tr>\n",
              "</thead>\n",
              "<tbody>\n",
              "\t<tr><td> 5</td><td>0.25</td><td>1, 2, 1, 1, 0, 3, 4, 1, 1, 2</td><td> 1.6</td><td> 1.25</td></tr>\n",
              "\t<tr><td> 5</td><td>0.50</td><td>3, 1, 3, 3, 2, 3, 1, 3, 4, 5</td><td> 2.8</td><td> 2.50</td></tr>\n",
              "\t<tr><td> 5</td><td>0.75</td><td>5, 3, 4, 4, 4, 5, 5, 4, 3, 4</td><td> 4.1</td><td> 3.75</td></tr>\n",
              "\t<tr><td>10</td><td>0.25</td><td>3, 2, 2, 3, 5, 4, 2, 0, 4, 3</td><td> 2.8</td><td> 2.50</td></tr>\n",
              "\t<tr><td>10</td><td>0.50</td><td>4, 8, 5, 4, 6, 3, 7, 6, 3, 3</td><td> 4.9</td><td> 5.00</td></tr>\n",
              "\t<tr><td>10</td><td>0.75</td><td>9, 9, 8, 8, 5, 7, 10, 9, 7, 7</td><td> 7.9</td><td> 7.50</td></tr>\n",
              "\t<tr><td>15</td><td>0.25</td><td>1, 4, 6, 6, 2, 4, 0, 2, 5, 6</td><td> 3.6</td><td> 3.75</td></tr>\n",
              "\t<tr><td>15</td><td>0.50</td><td>7, 7, 12, 9, 4, 9, 9, 7, 6, 7</td><td> 7.7</td><td> 7.50</td></tr>\n",
              "\t<tr><td>15</td><td>0.75</td><td>10, 9, 12, 14, 10, 12, 10, 8, 11, 11</td><td>10.7</td><td>11.25</td></tr>\n",
              "</tbody>\n",
              "</table>\n"
            ],
            "text/markdown": "\nA tibble: 9 × 5\n\n| n &lt;dbl&gt; | p &lt;dbl&gt; | .outcome &lt;list&gt; | approx.mu &lt;dbl&gt; | exact.mu &lt;dbl&gt; |\n|---|---|---|---|---|\n|  5 | 0.25 | 1, 2, 1, 1, 0, 3, 4, 1, 1, 2 |  1.6 |  1.25 |\n|  5 | 0.50 | 3, 1, 3, 3, 2, 3, 1, 3, 4, 5 |  2.8 |  2.50 |\n|  5 | 0.75 | 5, 3, 4, 4, 4, 5, 5, 4, 3, 4 |  4.1 |  3.75 |\n| 10 | 0.25 | 3, 2, 2, 3, 5, 4, 2, 0, 4, 3 |  2.8 |  2.50 |\n| 10 | 0.50 | 4, 8, 5, 4, 6, 3, 7, 6, 3, 3 |  4.9 |  5.00 |\n| 10 | 0.75 | 9, 9, 8, 8, 5, 7, 10, 9, 7, 7 |  7.9 |  7.50 |\n| 15 | 0.25 | 1, 4, 6, 6, 2, 4, 0, 2, 5, 6 |  3.6 |  3.75 |\n| 15 | 0.50 | 7, 7, 12, 9, 4, 9, 9, 7, 6, 7 |  7.7 |  7.50 |\n| 15 | 0.75 | 10, 9, 12, 14, 10, 12, 10, 8, 11, 11 | 10.7 | 11.25 |\n\n",
            "text/latex": "A tibble: 9 × 5\n\\begin{tabular}{lllll}\n n & p & .outcome & approx.mu & exact.mu\\\\\n <dbl> & <dbl> & <list> & <dbl> & <dbl>\\\\\n\\hline\n\t  5 & 0.25 & 1, 2, 1, 1, 0, 3, 4, 1, 1, 2 &  1.6 &  1.25\\\\\n\t  5 & 0.50 & 3, 1, 3, 3, 2, 3, 1, 3, 4, 5 &  2.8 &  2.50\\\\\n\t  5 & 0.75 & 5, 3, 4, 4, 4, 5, 5, 4, 3, 4 &  4.1 &  3.75\\\\\n\t 10 & 0.25 & 3, 2, 2, 3, 5, 4, 2, 0, 4, 3 &  2.8 &  2.50\\\\\n\t 10 & 0.50 & 4, 8, 5, 4, 6, 3, 7, 6, 3, 3 &  4.9 &  5.00\\\\\n\t 10 & 0.75 & 9, 9, 8, 8, 5, 7, 10, 9, 7, 7 &  7.9 &  7.50\\\\\n\t 15 & 0.25 & 1, 4, 6, 6, 2, 4, 0, 2, 5, 6 &  3.6 &  3.75\\\\\n\t 15 & 0.50 & 7, 7, 12, 9, 4, 9, 9, 7, 6, 7 &  7.7 &  7.50\\\\\n\t 15 & 0.75 & 10, 9, 12, 14, 10, 12, 10, 8, 11, 11 & 10.7 & 11.25\\\\\n\\end{tabular}\n",
            "text/plain": [
              "  n  p    .outcome                             approx.mu exact.mu\n",
              "1  5 0.25 1, 2, 1, 1, 0, 3, 4, 1, 1, 2          1.6       1.25   \n",
              "2  5 0.50 3, 1, 3, 3, 2, 3, 1, 3, 4, 5          2.8       2.50   \n",
              "3  5 0.75 5, 3, 4, 4, 4, 5, 5, 4, 3, 4          4.1       3.75   \n",
              "4 10 0.25 3, 2, 2, 3, 5, 4, 2, 0, 4, 3          2.8       2.50   \n",
              "5 10 0.50 4, 8, 5, 4, 6, 3, 7, 6, 3, 3          4.9       5.00   \n",
              "6 10 0.75 9, 9, 8, 8, 5, 7, 10, 9, 7, 7         7.9       7.50   \n",
              "7 15 0.25 1, 4, 6, 6, 2, 4, 0, 2, 5, 6          3.6       3.75   \n",
              "8 15 0.50 7, 7, 12, 9, 4, 9, 9, 7, 6, 7         7.7       7.50   \n",
              "9 15 0.75 10, 9, 12, 14, 10, 12, 10, 8, 11, 11 10.7      11.25   "
            ]
          },
          "metadata": {}
        }
      ]
    },
    {
      "cell_type": "markdown",
      "source": [
        "#### Step 5. Drop outcomes and bump the number of trials."
      ],
      "metadata": {
        "id": "GGgBlmuCP2gz"
      }
    },
    {
      "cell_type": "code",
      "source": [
        "num.trials <- 100000\n",
        "(two.parameters\n",
        " %>% unnest_longer(n)\n",
        " %>% unnest_longer(p)\n",
        " %>% mutate(.outcome = map2(n, p, \\(n, p) rbinom(num.trials, n, p)))\n",
        " %>% mutate(approx.mu = map_dbl(.outcome, mean),\n",
        "            exact.mu = n*p)\n",
        " %>% select(-.outcome)\n",
        " )"
      ],
      "metadata": {
        "colab": {
          "base_uri": "https://localhost:8080/",
          "height": 376
        },
        "id": "TSQniLmVP1SV",
        "outputId": "e89be34e-8a4d-4093-c141-3b599169038c"
      },
      "execution_count": 18,
      "outputs": [
        {
          "output_type": "display_data",
          "data": {
            "text/html": [
              "<table class=\"dataframe\">\n",
              "<caption>A tibble: 9 × 4</caption>\n",
              "<thead>\n",
              "\t<tr><th scope=col>n</th><th scope=col>p</th><th scope=col>approx.mu</th><th scope=col>exact.mu</th></tr>\n",
              "\t<tr><th scope=col>&lt;dbl&gt;</th><th scope=col>&lt;dbl&gt;</th><th scope=col>&lt;dbl&gt;</th><th scope=col>&lt;dbl&gt;</th></tr>\n",
              "</thead>\n",
              "<tbody>\n",
              "\t<tr><td> 5</td><td>0.25</td><td> 1.24692</td><td> 1.25</td></tr>\n",
              "\t<tr><td> 5</td><td>0.50</td><td> 2.50127</td><td> 2.50</td></tr>\n",
              "\t<tr><td> 5</td><td>0.75</td><td> 3.74703</td><td> 3.75</td></tr>\n",
              "\t<tr><td>10</td><td>0.25</td><td> 2.50215</td><td> 2.50</td></tr>\n",
              "\t<tr><td>10</td><td>0.50</td><td> 5.00122</td><td> 5.00</td></tr>\n",
              "\t<tr><td>10</td><td>0.75</td><td> 7.50624</td><td> 7.50</td></tr>\n",
              "\t<tr><td>15</td><td>0.25</td><td> 3.74455</td><td> 3.75</td></tr>\n",
              "\t<tr><td>15</td><td>0.50</td><td> 7.49902</td><td> 7.50</td></tr>\n",
              "\t<tr><td>15</td><td>0.75</td><td>11.25149</td><td>11.25</td></tr>\n",
              "</tbody>\n",
              "</table>\n"
            ],
            "text/markdown": "\nA tibble: 9 × 4\n\n| n &lt;dbl&gt; | p &lt;dbl&gt; | approx.mu &lt;dbl&gt; | exact.mu &lt;dbl&gt; |\n|---|---|---|---|\n|  5 | 0.25 |  1.24692 |  1.25 |\n|  5 | 0.50 |  2.50127 |  2.50 |\n|  5 | 0.75 |  3.74703 |  3.75 |\n| 10 | 0.25 |  2.50215 |  2.50 |\n| 10 | 0.50 |  5.00122 |  5.00 |\n| 10 | 0.75 |  7.50624 |  7.50 |\n| 15 | 0.25 |  3.74455 |  3.75 |\n| 15 | 0.50 |  7.49902 |  7.50 |\n| 15 | 0.75 | 11.25149 | 11.25 |\n\n",
            "text/latex": "A tibble: 9 × 4\n\\begin{tabular}{llll}\n n & p & approx.mu & exact.mu\\\\\n <dbl> & <dbl> & <dbl> & <dbl>\\\\\n\\hline\n\t  5 & 0.25 &  1.24692 &  1.25\\\\\n\t  5 & 0.50 &  2.50127 &  2.50\\\\\n\t  5 & 0.75 &  3.74703 &  3.75\\\\\n\t 10 & 0.25 &  2.50215 &  2.50\\\\\n\t 10 & 0.50 &  5.00122 &  5.00\\\\\n\t 10 & 0.75 &  7.50624 &  7.50\\\\\n\t 15 & 0.25 &  3.74455 &  3.75\\\\\n\t 15 & 0.50 &  7.49902 &  7.50\\\\\n\t 15 & 0.75 & 11.25149 & 11.25\\\\\n\\end{tabular}\n",
            "text/plain": [
              "  n  p    approx.mu exact.mu\n",
              "1  5 0.25  1.24692   1.25   \n",
              "2  5 0.50  2.50127   2.50   \n",
              "3  5 0.75  3.74703   3.75   \n",
              "4 10 0.25  2.50215   2.50   \n",
              "5 10 0.50  5.00122   5.00   \n",
              "6 10 0.75  7.50624   7.50   \n",
              "7 15 0.25  3.74455   3.75   \n",
              "8 15 0.50  7.49902   7.50   \n",
              "9 15 0.75 11.25149  11.25   "
            ]
          },
          "metadata": {}
        }
      ]
    },
    {
      "cell_type": "markdown",
      "source": [
        "Step 5. Compose into one map."
      ],
      "metadata": {
        "id": "J1FFFwgsQHre"
      }
    },
    {
      "cell_type": "code",
      "source": [
        "num.trials <- 100000\n",
        "(two.parameters\n",
        " %>% unnest_longer(n)\n",
        " %>% unnest_longer(p)\n",
        "#  %>% mutate(.outcome = map2(n, p, \\(n, p) rbinom(num.trials, n, p))\n",
        "#  %>% mutate(approx.mu = map_dbl(.outcome, mean),\n",
        "            # exact.mu = n*p)\n",
        " %>% mutate(approx.mu = (map2(n, p, \\(n, p) rbinom(num.trials, n, p))\n",
        "                        %>% map_dbl(mean)),\n",
        "            exact.mu = n*p)\n",
        "#  %>% select(-.outcome)\n",
        " )"
      ],
      "metadata": {
        "colab": {
          "base_uri": "https://localhost:8080/",
          "height": 376
        },
        "id": "Z7gExv1VQP35",
        "outputId": "23de8aa7-4fbc-468d-a8fb-7e63ca36a481"
      },
      "execution_count": 19,
      "outputs": [
        {
          "output_type": "display_data",
          "data": {
            "text/html": [
              "<table class=\"dataframe\">\n",
              "<caption>A tibble: 9 × 4</caption>\n",
              "<thead>\n",
              "\t<tr><th scope=col>n</th><th scope=col>p</th><th scope=col>approx.mu</th><th scope=col>exact.mu</th></tr>\n",
              "\t<tr><th scope=col>&lt;dbl&gt;</th><th scope=col>&lt;dbl&gt;</th><th scope=col>&lt;dbl&gt;</th><th scope=col>&lt;dbl&gt;</th></tr>\n",
              "</thead>\n",
              "<tbody>\n",
              "\t<tr><td> 5</td><td>0.25</td><td> 1.25433</td><td> 1.25</td></tr>\n",
              "\t<tr><td> 5</td><td>0.50</td><td> 2.50147</td><td> 2.50</td></tr>\n",
              "\t<tr><td> 5</td><td>0.75</td><td> 3.74747</td><td> 3.75</td></tr>\n",
              "\t<tr><td>10</td><td>0.25</td><td> 2.49352</td><td> 2.50</td></tr>\n",
              "\t<tr><td>10</td><td>0.50</td><td> 5.00414</td><td> 5.00</td></tr>\n",
              "\t<tr><td>10</td><td>0.75</td><td> 7.50390</td><td> 7.50</td></tr>\n",
              "\t<tr><td>15</td><td>0.25</td><td> 3.74011</td><td> 3.75</td></tr>\n",
              "\t<tr><td>15</td><td>0.50</td><td> 7.50689</td><td> 7.50</td></tr>\n",
              "\t<tr><td>15</td><td>0.75</td><td>11.24131</td><td>11.25</td></tr>\n",
              "</tbody>\n",
              "</table>\n"
            ],
            "text/markdown": "\nA tibble: 9 × 4\n\n| n &lt;dbl&gt; | p &lt;dbl&gt; | approx.mu &lt;dbl&gt; | exact.mu &lt;dbl&gt; |\n|---|---|---|---|\n|  5 | 0.25 |  1.25433 |  1.25 |\n|  5 | 0.50 |  2.50147 |  2.50 |\n|  5 | 0.75 |  3.74747 |  3.75 |\n| 10 | 0.25 |  2.49352 |  2.50 |\n| 10 | 0.50 |  5.00414 |  5.00 |\n| 10 | 0.75 |  7.50390 |  7.50 |\n| 15 | 0.25 |  3.74011 |  3.75 |\n| 15 | 0.50 |  7.50689 |  7.50 |\n| 15 | 0.75 | 11.24131 | 11.25 |\n\n",
            "text/latex": "A tibble: 9 × 4\n\\begin{tabular}{llll}\n n & p & approx.mu & exact.mu\\\\\n <dbl> & <dbl> & <dbl> & <dbl>\\\\\n\\hline\n\t  5 & 0.25 &  1.25433 &  1.25\\\\\n\t  5 & 0.50 &  2.50147 &  2.50\\\\\n\t  5 & 0.75 &  3.74747 &  3.75\\\\\n\t 10 & 0.25 &  2.49352 &  2.50\\\\\n\t 10 & 0.50 &  5.00414 &  5.00\\\\\n\t 10 & 0.75 &  7.50390 &  7.50\\\\\n\t 15 & 0.25 &  3.74011 &  3.75\\\\\n\t 15 & 0.50 &  7.50689 &  7.50\\\\\n\t 15 & 0.75 & 11.24131 & 11.25\\\\\n\\end{tabular}\n",
            "text/plain": [
              "  n  p    approx.mu exact.mu\n",
              "1  5 0.25  1.25433   1.25   \n",
              "2  5 0.50  2.50147   2.50   \n",
              "3  5 0.75  3.74747   3.75   \n",
              "4 10 0.25  2.49352   2.50   \n",
              "5 10 0.50  5.00414   5.00   \n",
              "6 10 0.75  7.50390   7.50   \n",
              "7 15 0.25  3.74011   3.75   \n",
              "8 15 0.50  7.50689   7.50   \n",
              "9 15 0.75 11.24131  11.25   "
            ]
          },
          "metadata": {}
        }
      ]
    },
    {
      "cell_type": "markdown",
      "source": [
        "### <font color=\"red\"> Exercise 2.5.2 </font>\n",
        "\n",
        "Suppose that we want to compare the cut off for the top 5% of a binomial data with $n\\in c\\{25, 50, 100\\}$ and $p\\in\\{0.25, 0.5, 0.75\\}$\n",
        "\n",
        "**Tasks.**\n",
        "1. Prototype the process by storing the raw outcomes in a list column, then processing with additional `pmap`/`map2`s,\n",
        "2. Verify the correctness of your code, and\n",
        "2. Compose all the intermediate steps to eliminate the need to store the raw outcomes."
      ],
      "metadata": {
        "id": "KAz-gYreoEHD"
      }
    },
    {
      "cell_type": "code",
      "source": [
        "# Your code here"
      ],
      "metadata": {
        "id": "GSVGCCTqoU4e"
      },
      "execution_count": null,
      "outputs": []
    },
    {
      "cell_type": "markdown",
      "source": [
        "## (Optional) Stacked Parametric Simulations\n",
        "\n",
        "The other option, not covered above, is to stack the outcomes in a simple, atomic column.  The advantage to this approach is simplier mutates (rarely need to map), but at the cost of spreading the related trials across multiple rows--requiring an extra grouped aggregation at the end."
      ],
      "metadata": {
        "id": "rqckuk0X10p7"
      }
    },
    {
      "cell_type": "markdown",
      "source": [
        "### The \"shape\" of a stacked parametric simulation.\n",
        "\n",
        "1. Set up the parameter space using a `tribble`.\n",
        "2. Unnest the parameter(s) of interest.\n",
        "3. Add trials to convert the parameter space into an experimental notebook.\n",
        "4. Use `map` or `pmap` to generate outcomes using the parameter column(s) as input.\n",
        "5. Proceed as usual (estimate probabilities, expected values, etc.)."
      ],
      "metadata": {
        "id": "uLrC6YJ5lMlt"
      }
    },
    {
      "cell_type": "markdown",
      "source": [
        "### Setting up the parameter space\n",
        "\n",
        "The `tribble` functions can create the nested parameter space, with\n",
        "\n",
        "1. The names of the column, starting with `~`, on the first line, and\n",
        "2. Vectors or lists of parameters on the second line.\n",
        "\n",
        "Note that you need to line up the names and parameter vectors, respectively (first with first, second with second, etc.). The output is a `tibble` with one row, containing a list column for each parameter.\n",
        "\n"
      ],
      "metadata": {
        "id": "fOULm5F9mlt7"
      }
    },
    {
      "cell_type": "code",
      "source": [
        "parameters <- tribble(~n,\n",
        "                      seq(5,15,5))\n",
        "parameters"
      ],
      "metadata": {
        "colab": {
          "base_uri": "https://localhost:8080/",
          "height": 182
        },
        "id": "d5N-sbHTlKcO",
        "outputId": "e4e596d2-6daa-486d-a352-a5d16b5d625c"
      },
      "execution_count": null,
      "outputs": [
        {
          "output_type": "display_data",
          "data": {
            "text/html": [
              "<table class=\"dataframe\">\n",
              "<caption>A tibble: 1 × 1</caption>\n",
              "<thead>\n",
              "\t<tr><th scope=col>n</th></tr>\n",
              "\t<tr><th scope=col>&lt;list&gt;</th></tr>\n",
              "</thead>\n",
              "<tbody>\n",
              "\t<tr><td>5, 10, 15</td></tr>\n",
              "</tbody>\n",
              "</table>\n"
            ],
            "text/markdown": "\nA tibble: 1 × 1\n\n| n &lt;list&gt; |\n|---|\n| 5, 10, 15 |\n\n",
            "text/latex": "A tibble: 1 × 1\n\\begin{tabular}{l}\n n\\\\\n <list>\\\\\n\\hline\n\t 5, 10, 15\\\\\n\\end{tabular}\n",
            "text/plain": [
              "  n        \n",
              "1 5, 10, 15"
            ]
          },
          "metadata": {}
        }
      ]
    },
    {
      "cell_type": "markdown",
      "source": [
        "### Unnesting the parameters.\n",
        "\n",
        "Next, we need to spread the parameters over multiple rows, with one parameter per row.  This is accomplished using `unnest_longer`"
      ],
      "metadata": {
        "id": "nGhsNzTjnkJO"
      }
    },
    {
      "cell_type": "code",
      "source": [
        "(parameters\n",
        " %>% unnest_longer(n)\n",
        " )"
      ],
      "metadata": {
        "colab": {
          "base_uri": "https://localhost:8080/",
          "height": 227
        },
        "id": "ZLhCKZati-PS",
        "outputId": "9f829575-b522-4bcd-9a70-4256d4f34852"
      },
      "execution_count": null,
      "outputs": [
        {
          "output_type": "display_data",
          "data": {
            "text/html": [
              "<table class=\"dataframe\">\n",
              "<caption>A tibble: 3 × 1</caption>\n",
              "<thead>\n",
              "\t<tr><th scope=col>n</th></tr>\n",
              "\t<tr><th scope=col>&lt;dbl&gt;</th></tr>\n",
              "</thead>\n",
              "<tbody>\n",
              "\t<tr><td> 5</td></tr>\n",
              "\t<tr><td>10</td></tr>\n",
              "\t<tr><td>15</td></tr>\n",
              "</tbody>\n",
              "</table>\n"
            ],
            "text/markdown": "\nA tibble: 3 × 1\n\n| n &lt;dbl&gt; |\n|---|\n|  5 |\n| 10 |\n| 15 |\n\n",
            "text/latex": "A tibble: 3 × 1\n\\begin{tabular}{l}\n n\\\\\n <dbl>\\\\\n\\hline\n\t  5\\\\\n\t 10\\\\\n\t 15\\\\\n\\end{tabular}\n",
            "text/plain": [
              "  n \n",
              "1  5\n",
              "2 10\n",
              "3 15"
            ]
          },
          "metadata": {}
        }
      ]
    },
    {
      "cell_type": "markdown",
      "source": [
        "### Adding trials\n",
        "\n",
        "Next, we need to replicate each parameter over a number of trials, which is accomplished using `add_trials`"
      ],
      "metadata": {
        "id": "ORuZ2SOLn3UN"
      }
    },
    {
      "cell_type": "code",
      "source": [
        "num.trials <- 5\n",
        "(parameters\n",
        " %>% unnest_longer(n)\n",
        " %>% add_trials(num.trials)\n",
        " )"
      ],
      "metadata": {
        "colab": {
          "base_uri": "https://localhost:8080/",
          "height": 582
        },
        "id": "O19N9DCboI2W",
        "outputId": "39f0c773-fa71-4dda-89eb-377e86997374"
      },
      "execution_count": null,
      "outputs": [
        {
          "output_type": "display_data",
          "data": {
            "text/html": [
              "<table class=\"dataframe\">\n",
              "<caption>A tibble: 15 × 2</caption>\n",
              "<thead>\n",
              "\t<tr><th scope=col>n</th><th scope=col>.trial</th></tr>\n",
              "\t<tr><th scope=col>&lt;dbl&gt;</th><th scope=col>&lt;dbl&gt;</th></tr>\n",
              "</thead>\n",
              "<tbody>\n",
              "\t<tr><td> 5</td><td>1</td></tr>\n",
              "\t<tr><td> 5</td><td>2</td></tr>\n",
              "\t<tr><td> 5</td><td>3</td></tr>\n",
              "\t<tr><td> 5</td><td>4</td></tr>\n",
              "\t<tr><td> 5</td><td>5</td></tr>\n",
              "\t<tr><td>10</td><td>1</td></tr>\n",
              "\t<tr><td>10</td><td>2</td></tr>\n",
              "\t<tr><td>10</td><td>3</td></tr>\n",
              "\t<tr><td>10</td><td>4</td></tr>\n",
              "\t<tr><td>10</td><td>5</td></tr>\n",
              "\t<tr><td>15</td><td>1</td></tr>\n",
              "\t<tr><td>15</td><td>2</td></tr>\n",
              "\t<tr><td>15</td><td>3</td></tr>\n",
              "\t<tr><td>15</td><td>4</td></tr>\n",
              "\t<tr><td>15</td><td>5</td></tr>\n",
              "</tbody>\n",
              "</table>\n"
            ],
            "text/markdown": "\nA tibble: 15 × 2\n\n| n &lt;dbl&gt; | .trial &lt;dbl&gt; |\n|---|---|\n|  5 | 1 |\n|  5 | 2 |\n|  5 | 3 |\n|  5 | 4 |\n|  5 | 5 |\n| 10 | 1 |\n| 10 | 2 |\n| 10 | 3 |\n| 10 | 4 |\n| 10 | 5 |\n| 15 | 1 |\n| 15 | 2 |\n| 15 | 3 |\n| 15 | 4 |\n| 15 | 5 |\n\n",
            "text/latex": "A tibble: 15 × 2\n\\begin{tabular}{ll}\n n & .trial\\\\\n <dbl> & <dbl>\\\\\n\\hline\n\t  5 & 1\\\\\n\t  5 & 2\\\\\n\t  5 & 3\\\\\n\t  5 & 4\\\\\n\t  5 & 5\\\\\n\t 10 & 1\\\\\n\t 10 & 2\\\\\n\t 10 & 3\\\\\n\t 10 & 4\\\\\n\t 10 & 5\\\\\n\t 15 & 1\\\\\n\t 15 & 2\\\\\n\t 15 & 3\\\\\n\t 15 & 4\\\\\n\t 15 & 5\\\\\n\\end{tabular}\n",
            "text/plain": [
              "   n  .trial\n",
              "1   5 1     \n",
              "2   5 2     \n",
              "3   5 3     \n",
              "4   5 4     \n",
              "5   5 5     \n",
              "6  10 1     \n",
              "7  10 2     \n",
              "8  10 3     \n",
              "9  10 4     \n",
              "10 10 5     \n",
              "11 15 1     \n",
              "12 15 2     \n",
              "13 15 3     \n",
              "14 15 4     \n",
              "15 15 5     "
            ]
          },
          "metadata": {}
        }
      ]
    },
    {
      "cell_type": "markdown",
      "source": [
        "#### Generating outcomes with `map`\n",
        "\n",
        "To use map, we need to\n",
        "\n",
        "1. Map onto the parameter column, and\n",
        "2. Write a function that takes this parameter as input.\n",
        "\n",
        "As alway, select the version of `map` that results in an atomic column type.  In this case, we will use `map_int`, as `rbinom` generates intergers."
      ],
      "metadata": {
        "id": "o3Tu7_GJo0jq"
      }
    },
    {
      "cell_type": "code",
      "source": [
        "num.trials <- 5\n",
        "p <- 0.5\n",
        "(parameters\n",
        " %>% unnest_longer(n)\n",
        " %>% add_trials(num.trials)\n",
        " %>% mutate(num.successes = map_int(n, \\(n) rbinom(1, n, p)))\n",
        " )"
      ],
      "metadata": {
        "colab": {
          "base_uri": "https://localhost:8080/",
          "height": 582
        },
        "id": "3eH-SH0u7Juv",
        "outputId": "6290ced4-57d5-41b8-80dd-efba09931cce"
      },
      "execution_count": null,
      "outputs": [
        {
          "output_type": "display_data",
          "data": {
            "text/html": [
              "<table class=\"dataframe\">\n",
              "<caption>A tibble: 15 × 3</caption>\n",
              "<thead>\n",
              "\t<tr><th scope=col>n</th><th scope=col>.trial</th><th scope=col>num.successes</th></tr>\n",
              "\t<tr><th scope=col>&lt;dbl&gt;</th><th scope=col>&lt;dbl&gt;</th><th scope=col>&lt;int&gt;</th></tr>\n",
              "</thead>\n",
              "<tbody>\n",
              "\t<tr><td> 5</td><td>1</td><td> 3</td></tr>\n",
              "\t<tr><td> 5</td><td>2</td><td> 3</td></tr>\n",
              "\t<tr><td> 5</td><td>3</td><td> 3</td></tr>\n",
              "\t<tr><td> 5</td><td>4</td><td> 4</td></tr>\n",
              "\t<tr><td> 5</td><td>5</td><td> 3</td></tr>\n",
              "\t<tr><td>10</td><td>1</td><td> 7</td></tr>\n",
              "\t<tr><td>10</td><td>2</td><td> 6</td></tr>\n",
              "\t<tr><td>10</td><td>3</td><td> 6</td></tr>\n",
              "\t<tr><td>10</td><td>4</td><td> 5</td></tr>\n",
              "\t<tr><td>10</td><td>5</td><td> 2</td></tr>\n",
              "\t<tr><td>15</td><td>1</td><td>11</td></tr>\n",
              "\t<tr><td>15</td><td>2</td><td> 4</td></tr>\n",
              "\t<tr><td>15</td><td>3</td><td> 9</td></tr>\n",
              "\t<tr><td>15</td><td>4</td><td> 9</td></tr>\n",
              "\t<tr><td>15</td><td>5</td><td> 6</td></tr>\n",
              "</tbody>\n",
              "</table>\n"
            ],
            "text/markdown": "\nA tibble: 15 × 3\n\n| n &lt;dbl&gt; | .trial &lt;dbl&gt; | num.successes &lt;int&gt; |\n|---|---|---|\n|  5 | 1 |  3 |\n|  5 | 2 |  3 |\n|  5 | 3 |  3 |\n|  5 | 4 |  4 |\n|  5 | 5 |  3 |\n| 10 | 1 |  7 |\n| 10 | 2 |  6 |\n| 10 | 3 |  6 |\n| 10 | 4 |  5 |\n| 10 | 5 |  2 |\n| 15 | 1 | 11 |\n| 15 | 2 |  4 |\n| 15 | 3 |  9 |\n| 15 | 4 |  9 |\n| 15 | 5 |  6 |\n\n",
            "text/latex": "A tibble: 15 × 3\n\\begin{tabular}{lll}\n n & .trial & num.successes\\\\\n <dbl> & <dbl> & <int>\\\\\n\\hline\n\t  5 & 1 &  3\\\\\n\t  5 & 2 &  3\\\\\n\t  5 & 3 &  3\\\\\n\t  5 & 4 &  4\\\\\n\t  5 & 5 &  3\\\\\n\t 10 & 1 &  7\\\\\n\t 10 & 2 &  6\\\\\n\t 10 & 3 &  6\\\\\n\t 10 & 4 &  5\\\\\n\t 10 & 5 &  2\\\\\n\t 15 & 1 & 11\\\\\n\t 15 & 2 &  4\\\\\n\t 15 & 3 &  9\\\\\n\t 15 & 4 &  9\\\\\n\t 15 & 5 &  6\\\\\n\\end{tabular}\n",
            "text/plain": [
              "   n  .trial num.successes\n",
              "1   5 1       3           \n",
              "2   5 2       3           \n",
              "3   5 3       3           \n",
              "4   5 4       4           \n",
              "5   5 5       3           \n",
              "6  10 1       7           \n",
              "7  10 2       6           \n",
              "8  10 3       6           \n",
              "9  10 4       5           \n",
              "10 10 5       2           \n",
              "11 15 1      11           \n",
              "12 15 2       4           \n",
              "13 15 3       9           \n",
              "14 15 4       9           \n",
              "15 15 5       6           "
            ]
          },
          "metadata": {}
        }
      ]
    },
    {
      "cell_type": "markdown",
      "source": [
        "### Continue as usual\n",
        "\n",
        "Finally, we can complete the task, which involves grouping and aggregating to get estimates of the long-run mean for each sample size."
      ],
      "metadata": {
        "id": "OD1_tP2e6YOs"
      }
    },
    {
      "cell_type": "code",
      "source": [
        "# Test on small number of trials\n",
        "num.trials <- 5\n",
        "p <- 0.5\n",
        "(parameters\n",
        " %>% unnest_longer(n)\n",
        " %>% add_trials(num.trials)\n",
        " %>% mutate(num.successes = map_int(n, \\(n) rbinom(1, n, p)))\n",
        " %>% group_by(n)\n",
        " %>% summarise(approx.mu = mean(num.successes))\n",
        " %>% mutate(exact.mu = n*p)\n",
        " )"
      ],
      "metadata": {
        "colab": {
          "base_uri": "https://localhost:8080/",
          "height": 210
        },
        "id": "J-EZrLYH6sxI",
        "outputId": "1c73e414-f406-4d66-b7d1-adfe442dc2a1"
      },
      "execution_count": null,
      "outputs": [
        {
          "output_type": "display_data",
          "data": {
            "text/html": [
              "<table class=\"dataframe\">\n",
              "<caption>A tibble: 3 × 3</caption>\n",
              "<thead>\n",
              "\t<tr><th scope=col>n</th><th scope=col>approx.mu</th><th scope=col>exact.mu</th></tr>\n",
              "\t<tr><th scope=col>&lt;dbl&gt;</th><th scope=col>&lt;dbl&gt;</th><th scope=col>&lt;dbl&gt;</th></tr>\n",
              "</thead>\n",
              "<tbody>\n",
              "\t<tr><td> 5</td><td>3.0</td><td>2.5</td></tr>\n",
              "\t<tr><td>10</td><td>5.0</td><td>5.0</td></tr>\n",
              "\t<tr><td>15</td><td>9.6</td><td>7.5</td></tr>\n",
              "</tbody>\n",
              "</table>\n"
            ],
            "text/markdown": "\nA tibble: 3 × 3\n\n| n &lt;dbl&gt; | approx.mu &lt;dbl&gt; | exact.mu &lt;dbl&gt; |\n|---|---|---|\n|  5 | 3.0 | 2.5 |\n| 10 | 5.0 | 5.0 |\n| 15 | 9.6 | 7.5 |\n\n",
            "text/latex": "A tibble: 3 × 3\n\\begin{tabular}{lll}\n n & approx.mu & exact.mu\\\\\n <dbl> & <dbl> & <dbl>\\\\\n\\hline\n\t  5 & 3.0 & 2.5\\\\\n\t 10 & 5.0 & 5.0\\\\\n\t 15 & 9.6 & 7.5\\\\\n\\end{tabular}\n",
            "text/plain": [
              "  n  approx.mu exact.mu\n",
              "1  5 3.0       2.5     \n",
              "2 10 5.0       5.0     \n",
              "3 15 9.6       7.5     "
            ]
          },
          "metadata": {}
        }
      ]
    },
    {
      "cell_type": "code",
      "source": [
        "# Better estimate by bumping the number of trials\n",
        "num.trials <- 10000\n",
        "p <- 0.5\n",
        "(parameters\n",
        " %>% unnest_longer(n)\n",
        " %>% add_trials(num.trials)\n",
        " %>% mutate(num.successes = map_int(n, \\(n) rbinom(1, n, p)))\n",
        " %>% group_by(n)\n",
        " %>% summarise(approx.mu = mean(num.successes))\n",
        " %>% mutate(exact.mu = n*p)\n",
        " )"
      ],
      "metadata": {
        "colab": {
          "base_uri": "https://localhost:8080/",
          "height": 210
        },
        "id": "rNT1lyl373Un",
        "outputId": "90f74fd4-8ab1-4058-e7bc-1d38e832db7e"
      },
      "execution_count": null,
      "outputs": [
        {
          "output_type": "display_data",
          "data": {
            "text/html": [
              "<table class=\"dataframe\">\n",
              "<caption>A tibble: 3 × 3</caption>\n",
              "<thead>\n",
              "\t<tr><th scope=col>n</th><th scope=col>approx.mu</th><th scope=col>exact.mu</th></tr>\n",
              "\t<tr><th scope=col>&lt;dbl&gt;</th><th scope=col>&lt;dbl&gt;</th><th scope=col>&lt;dbl&gt;</th></tr>\n",
              "</thead>\n",
              "<tbody>\n",
              "\t<tr><td> 5</td><td>2.5037</td><td>2.5</td></tr>\n",
              "\t<tr><td>10</td><td>4.9891</td><td>5.0</td></tr>\n",
              "\t<tr><td>15</td><td>7.5205</td><td>7.5</td></tr>\n",
              "</tbody>\n",
              "</table>\n"
            ],
            "text/markdown": "\nA tibble: 3 × 3\n\n| n &lt;dbl&gt; | approx.mu &lt;dbl&gt; | exact.mu &lt;dbl&gt; |\n|---|---|---|\n|  5 | 2.5037 | 2.5 |\n| 10 | 4.9891 | 5.0 |\n| 15 | 7.5205 | 7.5 |\n\n",
            "text/latex": "A tibble: 3 × 3\n\\begin{tabular}{lll}\n n & approx.mu & exact.mu\\\\\n <dbl> & <dbl> & <dbl>\\\\\n\\hline\n\t  5 & 2.5037 & 2.5\\\\\n\t 10 & 4.9891 & 5.0\\\\\n\t 15 & 7.5205 & 7.5\\\\\n\\end{tabular}\n",
            "text/plain": [
              "  n  approx.mu exact.mu\n",
              "1  5 2.5037    2.5     \n",
              "2 10 4.9891    5.0     \n",
              "3 15 7.5205    7.5     "
            ]
          },
          "metadata": {}
        }
      ]
    },
    {
      "cell_type": "code",
      "source": [],
      "metadata": {
        "id": "EUNulxFX1cr7"
      },
      "execution_count": null,
      "outputs": []
    }
  ]
}