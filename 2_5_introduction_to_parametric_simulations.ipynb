{
  "nbformat": 4,
  "nbformat_minor": 0,
  "metadata": {
    "colab": {
      "provenance": [],
      "authorship_tag": "ABX9TyOXa9xPztrd3Y1ygyoVb0ag",
      "include_colab_link": true
    },
    "kernelspec": {
      "name": "ir",
      "display_name": "R"
    },
    "language_info": {
      "name": "R"
    }
  },
  "cells": [
    {
      "cell_type": "markdown",
      "metadata": {
        "id": "view-in-github",
        "colab_type": "text"
      },
      "source": [
        "<a href=\"https://colab.research.google.com/github/yardsale8/probability_simulations_in_R/blob/main/2_5_introduction_to_parametric_simulations.ipynb\" target=\"_parent\"><img src=\"https://colab.research.google.com/assets/colab-badge.svg\" alt=\"Open In Colab\"/></a>"
      ]
    },
    {
      "cell_type": "code",
      "execution_count": null,
      "metadata": {
        "id": "IpARyWPSi3ft"
      },
      "outputs": [],
      "source": [
        "library(tidyverse)\n",
        "library(devtools)\n",
        "install_github('yardsale8/purrrfect', force = TRUE)\n",
        "library(purrrfect)"
      ]
    },
    {
      "cell_type": "markdown",
      "source": [
        "# Introduction to Parametric Simulations\n",
        "\n",
        "This chapter we have been studying various discrete parametric distributions.  Sometimes we wish to explore the properties of such a distribution over a set of parameters, and in this case, we can use the `tidyverse` and `purrr` toolset to capture the results.\n",
        "\n",
        "## Outline\n",
        "\n",
        "1. Setting up the parameter space using `tribble`.\n",
        "2. Unnesting the parameters and adding trials.\n",
        "3. Mapping over the parameters using `pmap`\n",
        "4. Composing operations to save memory on large simulations.\n",
        "5. Parametric sampling."
      ],
      "metadata": {
        "id": "bERp6iQHjQhK"
      }
    },
    {
      "cell_type": "markdown",
      "source": [
        "## First Motivating Problem - One Variable Parameter\n",
        "\n",
        "<font color=\"aqua\">**Our Task.**.   </font> Suppose we wish to explore the effects of the sample size on the mean and variance of a binomial random variable when $p=0.5$.  \n",
        "\n",
        "<font color=\"aqua\">**The Problem.** </font> Our current approach would require a separate simulation/pipe for each sample size.\n",
        "\n",
        "<font color=\"aqua\">**The Solution.**</font> Store the sample sizes in our experimental notebook and use them as mapping inputs."
      ],
      "metadata": {
        "id": "2b8691h5kWnF"
      }
    },
    {
      "cell_type": "markdown",
      "source": [
        "### Three Approachs\n",
        "\n",
        "1. Stack the trials into a long table, transform, and then group and aggregate. <font size=\"1\">(optional, covered at the end of the notebook)</font>.\n",
        "2. Store the trials in a list column, then `map` transformations/aggregations.\n",
        "3. Compose all actions from **2.** into a single `map`"
      ],
      "metadata": {
        "id": "j78v_XCDdOCA"
      }
    },
    {
      "cell_type": "markdown",
      "source": [
        "## Performing a Parametric Simulation using a List Column\n",
        "\n",
        "In this variation of the simulation, we will\n",
        "1. Store all the trials for each parameter (or combination of parameters) in a single row.\n",
        "2. Use `map` or `pmap` to process those trials."
      ],
      "metadata": {
        "id": "cSmsQGJU2gzg"
      }
    },
    {
      "cell_type": "markdown",
      "source": [
        "### Defining the parameter space using a `parameters`\n",
        "\n",
        "1. Define all the names on the first row preceeded by `~`\n",
        "2. Define the respective collections on the second row, respectively."
      ],
      "metadata": {
        "id": "LcZiv_6-JZYa"
      }
    },
    {
      "cell_type": "code",
      "source": [
        "parameters(~n,\n",
        "         c(5,10,15))"
      ],
      "metadata": {
        "colab": {
          "base_uri": "https://localhost:8080/",
          "height": 204
        },
        "id": "1zl2zbcUJdyJ",
        "outputId": "7122896e-3bdb-4e3c-a6f5-ab9539f97284"
      },
      "execution_count": 2,
      "outputs": [
        {
          "output_type": "display_data",
          "data": {
            "text/html": [
              "<table class=\"dataframe\">\n",
              "<caption>A tibble: 3 × 1</caption>\n",
              "<thead>\n",
              "\t<tr><th scope=col>n</th></tr>\n",
              "\t<tr><th scope=col>&lt;dbl&gt;</th></tr>\n",
              "</thead>\n",
              "<tbody>\n",
              "\t<tr><td> 5</td></tr>\n",
              "\t<tr><td>10</td></tr>\n",
              "\t<tr><td>15</td></tr>\n",
              "</tbody>\n",
              "</table>\n"
            ],
            "text/markdown": "\nA tibble: 3 × 1\n\n| n &lt;dbl&gt; |\n|---|\n|  5 |\n| 10 |\n| 15 |\n\n",
            "text/latex": "A tibble: 3 × 1\n\\begin{tabular}{l}\n n\\\\\n <dbl>\\\\\n\\hline\n\t  5\\\\\n\t 10\\\\\n\t 15\\\\\n\\end{tabular}\n",
            "text/plain": [
              "  n \n",
              "1  5\n",
              "2 10\n",
              "3 15"
            ]
          },
          "metadata": {}
        }
      ]
    },
    {
      "cell_type": "markdown",
      "source": [
        "### The \"shape\" of a parametric simulation using a list column.\n",
        "\n",
        "1. Set up the parameter space using a `parameters`.\n",
        "2. Use `map` or `pmap` to generate a list column of trials.\n",
        "3. Use `map` or `pmap` to transform/summarize.\n",
        "4. Drop the outcome column."
      ],
      "metadata": {
        "id": "Rfm2oGDueBMC"
      }
    },
    {
      "cell_type": "code",
      "source": [
        "# Set up parameter space\n",
        "(parameters(~n,\n",
        "          c(5,10,15))\n",
        " )"
      ],
      "metadata": {
        "colab": {
          "base_uri": "https://localhost:8080/",
          "height": 204
        },
        "id": "PggSN76_enXC",
        "outputId": "9d643863-bfad-4091-c540-fafef4b5c4aa"
      },
      "execution_count": 3,
      "outputs": [
        {
          "output_type": "display_data",
          "data": {
            "text/html": [
              "<table class=\"dataframe\">\n",
              "<caption>A tibble: 3 × 1</caption>\n",
              "<thead>\n",
              "\t<tr><th scope=col>n</th></tr>\n",
              "\t<tr><th scope=col>&lt;dbl&gt;</th></tr>\n",
              "</thead>\n",
              "<tbody>\n",
              "\t<tr><td> 5</td></tr>\n",
              "\t<tr><td>10</td></tr>\n",
              "\t<tr><td>15</td></tr>\n",
              "</tbody>\n",
              "</table>\n"
            ],
            "text/markdown": "\nA tibble: 3 × 1\n\n| n &lt;dbl&gt; |\n|---|\n|  5 |\n| 10 |\n| 15 |\n\n",
            "text/latex": "A tibble: 3 × 1\n\\begin{tabular}{l}\n n\\\\\n <dbl>\\\\\n\\hline\n\t  5\\\\\n\t 10\\\\\n\t 15\\\\\n\\end{tabular}\n",
            "text/plain": [
              "  n \n",
              "1  5\n",
              "2 10\n",
              "3 15"
            ]
          },
          "metadata": {}
        }
      ]
    },
    {
      "cell_type": "code",
      "source": [
        "# Use map to generate trials\n",
        "p <- 0.5\n",
        "num.trials <- 10\n",
        "(parameters(~n,\n",
        "         c(5,10,15))\n",
        " %>% mutate(.outcome = map(n, \\(n) rbinom(num.trials, n, p)),\n",
        "           )\n",
        " )"
      ],
      "metadata": {
        "colab": {
          "base_uri": "https://localhost:8080/",
          "height": 187
        },
        "id": "Ip6IeJT_o__h",
        "outputId": "8424b38c-7721-4512-b9ec-2bb80da81ee5"
      },
      "execution_count": 4,
      "outputs": [
        {
          "output_type": "display_data",
          "data": {
            "text/html": [
              "<table class=\"dataframe\">\n",
              "<caption>A tibble: 3 × 2</caption>\n",
              "<thead>\n",
              "\t<tr><th scope=col>n</th><th scope=col>.outcome</th></tr>\n",
              "\t<tr><th scope=col>&lt;dbl&gt;</th><th scope=col>&lt;list&gt;</th></tr>\n",
              "</thead>\n",
              "<tbody>\n",
              "\t<tr><td> 5</td><td>5, 2, 1, 4, 2, 2, 3, 2, 3, 3</td></tr>\n",
              "\t<tr><td>10</td><td>4, 6, 3, 6, 8, 4, 4, 4, 7, 5</td></tr>\n",
              "\t<tr><td>15</td><td>7, 7, 8, 7, 5, 7, 9, 10, 9, 8</td></tr>\n",
              "</tbody>\n",
              "</table>\n"
            ],
            "text/markdown": "\nA tibble: 3 × 2\n\n| n &lt;dbl&gt; | .outcome &lt;list&gt; |\n|---|---|\n|  5 | 5, 2, 1, 4, 2, 2, 3, 2, 3, 3 |\n| 10 | 4, 6, 3, 6, 8, 4, 4, 4, 7, 5 |\n| 15 | 7, 7, 8, 7, 5, 7, 9, 10, 9, 8 |\n\n",
            "text/latex": "A tibble: 3 × 2\n\\begin{tabular}{ll}\n n & .outcome\\\\\n <dbl> & <list>\\\\\n\\hline\n\t  5 & 5, 2, 1, 4, 2, 2, 3, 2, 3, 3\\\\\n\t 10 & 4, 6, 3, 6, 8, 4, 4, 4, 7, 5\\\\\n\t 15 & 7, 7, 8, 7, 5, 7, 9, 10, 9, 8\\\\\n\\end{tabular}\n",
            "text/plain": [
              "  n  .outcome                     \n",
              "1  5 5, 2, 1, 4, 2, 2, 3, 2, 3, 3 \n",
              "2 10 4, 6, 3, 6, 8, 4, 4, 4, 7, 5 \n",
              "3 15 7, 7, 8, 7, 5, 7, 9, 10, 9, 8"
            ]
          },
          "metadata": {}
        }
      ]
    },
    {
      "cell_type": "code",
      "source": [
        "# Transform/summarize\n",
        "p <- 0.5\n",
        "num.trials <- 10\n",
        "(parameters(~n,\n",
        "         c(5,10,15))\n",
        " %>% mutate(.outcome = map(n, \\(n) rbinom(num.trials, n, p)),\n",
        "            approx.mu = map_dbl(.outcome, mean),\n",
        "            exact.mu = n*p\n",
        "           )\n",
        " )"
      ],
      "metadata": {
        "colab": {
          "base_uri": "https://localhost:8080/",
          "height": 187
        },
        "id": "2X2WuhGaX8d7",
        "outputId": "1b1cfe74-122d-45f4-fad3-c3a282b4f3dc"
      },
      "execution_count": 5,
      "outputs": [
        {
          "output_type": "display_data",
          "data": {
            "text/html": [
              "<table class=\"dataframe\">\n",
              "<caption>A tibble: 3 × 4</caption>\n",
              "<thead>\n",
              "\t<tr><th scope=col>n</th><th scope=col>.outcome</th><th scope=col>approx.mu</th><th scope=col>exact.mu</th></tr>\n",
              "\t<tr><th scope=col>&lt;dbl&gt;</th><th scope=col>&lt;list&gt;</th><th scope=col>&lt;dbl&gt;</th><th scope=col>&lt;dbl&gt;</th></tr>\n",
              "</thead>\n",
              "<tbody>\n",
              "\t<tr><td> 5</td><td>3, 3, 2, 3, 3, 4, 2, 3, 3, 2</td><td>2.8</td><td>2.5</td></tr>\n",
              "\t<tr><td>10</td><td>4, 4, 5, 9, 8, 7, 4, 6, 6, 6</td><td>5.9</td><td>5.0</td></tr>\n",
              "\t<tr><td>15</td><td>9, 9, 6, 9, 12, 7, 10, 11, 6, 5</td><td>8.4</td><td>7.5</td></tr>\n",
              "</tbody>\n",
              "</table>\n"
            ],
            "text/markdown": "\nA tibble: 3 × 4\n\n| n &lt;dbl&gt; | .outcome &lt;list&gt; | approx.mu &lt;dbl&gt; | exact.mu &lt;dbl&gt; |\n|---|---|---|---|\n|  5 | 3, 3, 2, 3, 3, 4, 2, 3, 3, 2 | 2.8 | 2.5 |\n| 10 | 4, 4, 5, 9, 8, 7, 4, 6, 6, 6 | 5.9 | 5.0 |\n| 15 | 9, 9, 6, 9, 12, 7, 10, 11, 6, 5 | 8.4 | 7.5 |\n\n",
            "text/latex": "A tibble: 3 × 4\n\\begin{tabular}{llll}\n n & .outcome & approx.mu & exact.mu\\\\\n <dbl> & <list> & <dbl> & <dbl>\\\\\n\\hline\n\t  5 & 3, 3, 2, 3, 3, 4, 2, 3, 3, 2 & 2.8 & 2.5\\\\\n\t 10 & 4, 4, 5, 9, 8, 7, 4, 6, 6, 6 & 5.9 & 5.0\\\\\n\t 15 & 9, 9, 6, 9, 12, 7, 10, 11, 6, 5 & 8.4 & 7.5\\\\\n\\end{tabular}\n",
            "text/plain": [
              "  n  .outcome                        approx.mu exact.mu\n",
              "1  5 3, 3, 2, 3, 3, 4, 2, 3, 3, 2    2.8       2.5     \n",
              "2 10 4, 4, 5, 9, 8, 7, 4, 6, 6, 6    5.9       5.0     \n",
              "3 15 9, 9, 6, 9, 12, 7, 10, 11, 6, 5 8.4       7.5     "
            ]
          },
          "metadata": {}
        }
      ]
    },
    {
      "cell_type": "code",
      "source": [
        "# Drop outcomes\n",
        "p <- 0.5\n",
        "num.trials <- 10\n",
        "(parameters(~n,\n",
        "            c(5,10,15))\n",
        " %>% mutate(.outcome = map(n, \\(n) rbinom(num.trials, n, 0.5)),\n",
        "            approx.mu = map_dbl(.outcome, mean),\n",
        "            exact.mu = n*p\n",
        "           )\n",
        " %>% select(-.outcome)\n",
        " )"
      ],
      "metadata": {
        "colab": {
          "base_uri": "https://localhost:8080/",
          "height": 187
        },
        "id": "eK5mSqPFe63G",
        "outputId": "fb1ac5cb-2df6-48af-ef07-0d0951f85ae6"
      },
      "execution_count": 6,
      "outputs": [
        {
          "output_type": "display_data",
          "data": {
            "text/html": [
              "<table class=\"dataframe\">\n",
              "<caption>A tibble: 3 × 3</caption>\n",
              "<thead>\n",
              "\t<tr><th scope=col>n</th><th scope=col>approx.mu</th><th scope=col>exact.mu</th></tr>\n",
              "\t<tr><th scope=col>&lt;dbl&gt;</th><th scope=col>&lt;dbl&gt;</th><th scope=col>&lt;dbl&gt;</th></tr>\n",
              "</thead>\n",
              "<tbody>\n",
              "\t<tr><td> 5</td><td>2.2</td><td>2.5</td></tr>\n",
              "\t<tr><td>10</td><td>5.3</td><td>5.0</td></tr>\n",
              "\t<tr><td>15</td><td>7.0</td><td>7.5</td></tr>\n",
              "</tbody>\n",
              "</table>\n"
            ],
            "text/markdown": "\nA tibble: 3 × 3\n\n| n &lt;dbl&gt; | approx.mu &lt;dbl&gt; | exact.mu &lt;dbl&gt; |\n|---|---|---|\n|  5 | 2.2 | 2.5 |\n| 10 | 5.3 | 5.0 |\n| 15 | 7.0 | 7.5 |\n\n",
            "text/latex": "A tibble: 3 × 3\n\\begin{tabular}{lll}\n n & approx.mu & exact.mu\\\\\n <dbl> & <dbl> & <dbl>\\\\\n\\hline\n\t  5 & 2.2 & 2.5\\\\\n\t 10 & 5.3 & 5.0\\\\\n\t 15 & 7.0 & 7.5\\\\\n\\end{tabular}\n",
            "text/plain": [
              "  n  approx.mu exact.mu\n",
              "1  5 2.2       2.5     \n",
              "2 10 5.3       5.0     \n",
              "3 15 7.0       7.5     "
            ]
          },
          "metadata": {}
        }
      ]
    },
    {
      "cell_type": "code",
      "source": [
        "# Good estimate by bumping the num.trials\n",
        "p <- 0.5\n",
        "num.trials <- 100000\n",
        "(parameters(~n,\n",
        "          c(5,10,15))\n",
        " %>% mutate(.outcome = map(n, \\(n) rbinom(num.trials, n, 0.5)),\n",
        "            approx.mu = map_dbl(.outcome, mean),\n",
        "            exact.mu = n*p\n",
        "           )\n",
        " %>% select(-.outcome)\n",
        " )"
      ],
      "metadata": {
        "colab": {
          "base_uri": "https://localhost:8080/",
          "height": 187
        },
        "id": "L4pfXFp83AXA",
        "outputId": "7d4df7ce-3bd7-4698-c038-f2f8af2f48c8"
      },
      "execution_count": 7,
      "outputs": [
        {
          "output_type": "display_data",
          "data": {
            "text/html": [
              "<table class=\"dataframe\">\n",
              "<caption>A tibble: 3 × 3</caption>\n",
              "<thead>\n",
              "\t<tr><th scope=col>n</th><th scope=col>approx.mu</th><th scope=col>exact.mu</th></tr>\n",
              "\t<tr><th scope=col>&lt;dbl&gt;</th><th scope=col>&lt;dbl&gt;</th><th scope=col>&lt;dbl&gt;</th></tr>\n",
              "</thead>\n",
              "<tbody>\n",
              "\t<tr><td> 5</td><td>2.50118</td><td>2.5</td></tr>\n",
              "\t<tr><td>10</td><td>4.99632</td><td>5.0</td></tr>\n",
              "\t<tr><td>15</td><td>7.50122</td><td>7.5</td></tr>\n",
              "</tbody>\n",
              "</table>\n"
            ],
            "text/markdown": "\nA tibble: 3 × 3\n\n| n &lt;dbl&gt; | approx.mu &lt;dbl&gt; | exact.mu &lt;dbl&gt; |\n|---|---|---|\n|  5 | 2.50118 | 2.5 |\n| 10 | 4.99632 | 5.0 |\n| 15 | 7.50122 | 7.5 |\n\n",
            "text/latex": "A tibble: 3 × 3\n\\begin{tabular}{lll}\n n & approx.mu & exact.mu\\\\\n <dbl> & <dbl> & <dbl>\\\\\n\\hline\n\t  5 & 2.50118 & 2.5\\\\\n\t 10 & 4.99632 & 5.0\\\\\n\t 15 & 7.50122 & 7.5\\\\\n\\end{tabular}\n",
            "text/plain": [
              "  n  approx.mu exact.mu\n",
              "1  5 2.50118   2.5     \n",
              "2 10 4.99632   5.0     \n",
              "3 15 7.50122   7.5     "
            ]
          },
          "metadata": {}
        }
      ]
    },
    {
      "cell_type": "markdown",
      "source": [
        "### The Advantage to using a list column of outcomes\n",
        "\n",
        "The advantage of storing the trials in a list column is\n",
        "1. All the information is self-contained and apparent, and\n",
        "2. Makes it easier to verify your code and debug."
      ],
      "metadata": {
        "id": "7l369rPIzyEg"
      }
    },
    {
      "cell_type": "code",
      "source": [
        "# Transform/summarize\n",
        "p <- 0.5\n",
        "num.trials <- 10\n",
        "(parameters(~n,\n",
        "            c(5,10,15))\n",
        " %>% mutate(.outcome = map(n, \\(n) rbinom(num.trials, n, 0.5)), # Easy to\n",
        "            approx.mu = map_dbl(.outcome, mean),                # verify\n",
        "            exact.mu = n*p                                      # correctness\n",
        "           )\n",
        " )"
      ],
      "metadata": {
        "colab": {
          "base_uri": "https://localhost:8080/",
          "height": 187
        },
        "id": "vMmwFq8XKI_6",
        "outputId": "b9eb9a2e-f7c7-4fe0-952b-d0b33b702481"
      },
      "execution_count": 8,
      "outputs": [
        {
          "output_type": "display_data",
          "data": {
            "text/html": [
              "<table class=\"dataframe\">\n",
              "<caption>A tibble: 3 × 4</caption>\n",
              "<thead>\n",
              "\t<tr><th scope=col>n</th><th scope=col>.outcome</th><th scope=col>approx.mu</th><th scope=col>exact.mu</th></tr>\n",
              "\t<tr><th scope=col>&lt;dbl&gt;</th><th scope=col>&lt;list&gt;</th><th scope=col>&lt;dbl&gt;</th><th scope=col>&lt;dbl&gt;</th></tr>\n",
              "</thead>\n",
              "<tbody>\n",
              "\t<tr><td> 5</td><td>1, 3, 4, 3, 2, 3, 4, 1, 3, 3</td><td>2.7</td><td>2.5</td></tr>\n",
              "\t<tr><td>10</td><td>5, 5, 5, 6, 6, 8, 4, 5, 3, 7</td><td>5.4</td><td>5.0</td></tr>\n",
              "\t<tr><td>15</td><td>7, 5, 7, 5, 5, 7, 10, 8, 7, 10</td><td>7.1</td><td>7.5</td></tr>\n",
              "</tbody>\n",
              "</table>\n"
            ],
            "text/markdown": "\nA tibble: 3 × 4\n\n| n &lt;dbl&gt; | .outcome &lt;list&gt; | approx.mu &lt;dbl&gt; | exact.mu &lt;dbl&gt; |\n|---|---|---|---|\n|  5 | 1, 3, 4, 3, 2, 3, 4, 1, 3, 3 | 2.7 | 2.5 |\n| 10 | 5, 5, 5, 6, 6, 8, 4, 5, 3, 7 | 5.4 | 5.0 |\n| 15 | 7, 5, 7, 5, 5, 7, 10, 8, 7, 10 | 7.1 | 7.5 |\n\n",
            "text/latex": "A tibble: 3 × 4\n\\begin{tabular}{llll}\n n & .outcome & approx.mu & exact.mu\\\\\n <dbl> & <list> & <dbl> & <dbl>\\\\\n\\hline\n\t  5 & 1, 3, 4, 3, 2, 3, 4, 1, 3, 3 & 2.7 & 2.5\\\\\n\t 10 & 5, 5, 5, 6, 6, 8, 4, 5, 3, 7 & 5.4 & 5.0\\\\\n\t 15 & 7, 5, 7, 5, 5, 7, 10, 8, 7, 10 & 7.1 & 7.5\\\\\n\\end{tabular}\n",
            "text/plain": [
              "  n  .outcome                       approx.mu exact.mu\n",
              "1  5 1, 3, 4, 3, 2, 3, 4, 1, 3, 3   2.7       2.5     \n",
              "2 10 5, 5, 5, 6, 6, 8, 4, 5, 3, 7   5.4       5.0     \n",
              "3 15 7, 5, 7, 5, 5, 7, 10, 8, 7, 10 7.1       7.5     "
            ]
          },
          "metadata": {}
        }
      ]
    },
    {
      "cell_type": "markdown",
      "source": [
        "### Two Problems with using a list column of outcomes\n",
        "\n",
        "Two problems with storing outcomes in a list column are\n",
        "\n",
        "#### 1. Displaying more than a few trials is a mess"
      ],
      "metadata": {
        "id": "pdhY8L_LfDDF"
      }
    },
    {
      "cell_type": "code",
      "source": [
        "# Slightly Better estimates\n",
        "num.trials <- 100\n",
        "(parameters(~n,\n",
        "            c(5,10,15))\n",
        " %>% mutate(.outcome = map(n, \\(n) rbinom(num.trials, n, 0.5)), # Yuck! So long!\n",
        "            approx.mu = map_dbl(.outcome, mean),\n",
        "            exact.mu = n*p\n",
        "           )\n",
        " )"
      ],
      "metadata": {
        "id": "1eH3GQ8To0CO",
        "colab": {
          "base_uri": "https://localhost:8080/",
          "height": 237
        },
        "outputId": "90d1817d-06c0-4a18-f259-474eb776155c"
      },
      "execution_count": 9,
      "outputs": [
        {
          "output_type": "display_data",
          "data": {
            "text/html": [
              "<table class=\"dataframe\">\n",
              "<caption>A tibble: 3 × 4</caption>\n",
              "<thead>\n",
              "\t<tr><th scope=col>n</th><th scope=col>.outcome</th><th scope=col>approx.mu</th><th scope=col>exact.mu</th></tr>\n",
              "\t<tr><th scope=col>&lt;dbl&gt;</th><th scope=col>&lt;list&gt;</th><th scope=col>&lt;dbl&gt;</th><th scope=col>&lt;dbl&gt;</th></tr>\n",
              "</thead>\n",
              "<tbody>\n",
              "\t<tr><td> 5</td><td>1, 1, 3, 3, 1, 4, 3, 4, 3, 1, 1, 3, 4, 4, 3, 3, 3, 2, 2, 3, 2, 2, 4, 5, 2, 2, 4, 3, 3, 3, 3, 3, 3, 4, 2, 3, 1, 3, 2, 3, 4, 3, 2, 2, 3, 4, 1, 4, 0, 3, 3, 4, 2, 2, 2, 4, 2, 3, 4, 2, 4, 3, 5, 1, 3, 2, 1, 2, 0, 1, 2, 2, 1, 4, 1, 4, 2, 4, 3, 1, 3, 0, 3, 4, 5, 0, 2, 4, 2, 1, 2, 3, 2, 4, 4, 3, 0, 2, 3, 2</td><td>2.58</td><td>2.5</td></tr>\n",
              "\t<tr><td>10</td><td>3, 6, 4, 6, 5, 7, 6, 5, 3, 6, 5, 6, 6, 6, 5, 6, 3, 2, 3, 4, 5, 8, 4, 4, 8, 6, 8, 5, 5, 6, 8, 5, 5, 6, 4, 3, 4, 2, 4, 4, 5, 7, 3, 6, 6, 9, 4, 5, 6, 5, 5, 4, 8, 4, 4, 3, 5, 8, 3, 5, 6, 7, 8, 6, 7, 6, 5, 5, 5, 4, 4, 8, 6, 4, 8, 5, 5, 6, 4, 3, 6, 4, 4, 5, 6, 3, 4, 4, 4, 6, 6, 4, 6, 5, 2, 6, 4, 5, 3, 2</td><td>5.07</td><td>5.0</td></tr>\n",
              "\t<tr><td>15</td><td>9, 8, 5, 7, 9, 12, 5, 7, 6, 5, 7, 9, 5, 7, 9, 8, 6, 4, 7, 11, 9, 5, 6, 9, 12, 6, 9, 9, 8, 10, 5, 8, 6, 11, 9, 10, 7, 8, 5, 12, 7, 6, 7, 7, 12, 10, 5, 6, 10, 8, 8, 7, 11, 7, 5, 7, 9, 9, 8, 5, 9, 8, 8, 9, 4, 9, 8, 8, 7, 6, 7, 7, 10, 6, 9, 5, 5, 8, 9, 9, 7, 6, 5, 6, 6, 8, 9, 8, 9, 7, 8, 10, 9, 6, 6, 4, 9, 7, 6, 8</td><td>7.59</td><td>7.5</td></tr>\n",
              "</tbody>\n",
              "</table>\n"
            ],
            "text/markdown": "\nA tibble: 3 × 4\n\n| n &lt;dbl&gt; | .outcome &lt;list&gt; | approx.mu &lt;dbl&gt; | exact.mu &lt;dbl&gt; |\n|---|---|---|---|\n|  5 | 1, 1, 3, 3, 1, 4, 3, 4, 3, 1, 1, 3, 4, 4, 3, 3, 3, 2, 2, 3, 2, 2, 4, 5, 2, 2, 4, 3, 3, 3, 3, 3, 3, 4, 2, 3, 1, 3, 2, 3, 4, 3, 2, 2, 3, 4, 1, 4, 0, 3, 3, 4, 2, 2, 2, 4, 2, 3, 4, 2, 4, 3, 5, 1, 3, 2, 1, 2, 0, 1, 2, 2, 1, 4, 1, 4, 2, 4, 3, 1, 3, 0, 3, 4, 5, 0, 2, 4, 2, 1, 2, 3, 2, 4, 4, 3, 0, 2, 3, 2 | 2.58 | 2.5 |\n| 10 | 3, 6, 4, 6, 5, 7, 6, 5, 3, 6, 5, 6, 6, 6, 5, 6, 3, 2, 3, 4, 5, 8, 4, 4, 8, 6, 8, 5, 5, 6, 8, 5, 5, 6, 4, 3, 4, 2, 4, 4, 5, 7, 3, 6, 6, 9, 4, 5, 6, 5, 5, 4, 8, 4, 4, 3, 5, 8, 3, 5, 6, 7, 8, 6, 7, 6, 5, 5, 5, 4, 4, 8, 6, 4, 8, 5, 5, 6, 4, 3, 6, 4, 4, 5, 6, 3, 4, 4, 4, 6, 6, 4, 6, 5, 2, 6, 4, 5, 3, 2 | 5.07 | 5.0 |\n| 15 | 9, 8, 5, 7, 9, 12, 5, 7, 6, 5, 7, 9, 5, 7, 9, 8, 6, 4, 7, 11, 9, 5, 6, 9, 12, 6, 9, 9, 8, 10, 5, 8, 6, 11, 9, 10, 7, 8, 5, 12, 7, 6, 7, 7, 12, 10, 5, 6, 10, 8, 8, 7, 11, 7, 5, 7, 9, 9, 8, 5, 9, 8, 8, 9, 4, 9, 8, 8, 7, 6, 7, 7, 10, 6, 9, 5, 5, 8, 9, 9, 7, 6, 5, 6, 6, 8, 9, 8, 9, 7, 8, 10, 9, 6, 6, 4, 9, 7, 6, 8 | 7.59 | 7.5 |\n\n",
            "text/latex": "A tibble: 3 × 4\n\\begin{tabular}{llll}\n n & .outcome & approx.mu & exact.mu\\\\\n <dbl> & <list> & <dbl> & <dbl>\\\\\n\\hline\n\t  5 & 1, 1, 3, 3, 1, 4, 3, 4, 3, 1, 1, 3, 4, 4, 3, 3, 3, 2, 2, 3, 2, 2, 4, 5, 2, 2, 4, 3, 3, 3, 3, 3, 3, 4, 2, 3, 1, 3, 2, 3, 4, 3, 2, 2, 3, 4, 1, 4, 0, 3, 3, 4, 2, 2, 2, 4, 2, 3, 4, 2, 4, 3, 5, 1, 3, 2, 1, 2, 0, 1, 2, 2, 1, 4, 1, 4, 2, 4, 3, 1, 3, 0, 3, 4, 5, 0, 2, 4, 2, 1, 2, 3, 2, 4, 4, 3, 0, 2, 3, 2 & 2.58 & 2.5\\\\\n\t 10 & 3, 6, 4, 6, 5, 7, 6, 5, 3, 6, 5, 6, 6, 6, 5, 6, 3, 2, 3, 4, 5, 8, 4, 4, 8, 6, 8, 5, 5, 6, 8, 5, 5, 6, 4, 3, 4, 2, 4, 4, 5, 7, 3, 6, 6, 9, 4, 5, 6, 5, 5, 4, 8, 4, 4, 3, 5, 8, 3, 5, 6, 7, 8, 6, 7, 6, 5, 5, 5, 4, 4, 8, 6, 4, 8, 5, 5, 6, 4, 3, 6, 4, 4, 5, 6, 3, 4, 4, 4, 6, 6, 4, 6, 5, 2, 6, 4, 5, 3, 2 & 5.07 & 5.0\\\\\n\t 15 & 9, 8, 5, 7, 9, 12, 5, 7, 6, 5, 7, 9, 5, 7, 9, 8, 6, 4, 7, 11, 9, 5, 6, 9, 12, 6, 9, 9, 8, 10, 5, 8, 6, 11, 9, 10, 7, 8, 5, 12, 7, 6, 7, 7, 12, 10, 5, 6, 10, 8, 8, 7, 11, 7, 5, 7, 9, 9, 8, 5, 9, 8, 8, 9, 4, 9, 8, 8, 7, 6, 7, 7, 10, 6, 9, 5, 5, 8, 9, 9, 7, 6, 5, 6, 6, 8, 9, 8, 9, 7, 8, 10, 9, 6, 6, 4, 9, 7, 6, 8 & 7.59 & 7.5\\\\\n\\end{tabular}\n",
            "text/plain": [
              "  n \n",
              "1  5\n",
              "2 10\n",
              "3 15\n",
              "  .outcome                                                                                                                                                                                                                                                                                                               \n",
              "1 1, 1, 3, 3, 1, 4, 3, 4, 3, 1, 1, 3, 4, 4, 3, 3, 3, 2, 2, 3, 2, 2, 4, 5, 2, 2, 4, 3, 3, 3, 3, 3, 3, 4, 2, 3, 1, 3, 2, 3, 4, 3, 2, 2, 3, 4, 1, 4, 0, 3, 3, 4, 2, 2, 2, 4, 2, 3, 4, 2, 4, 3, 5, 1, 3, 2, 1, 2, 0, 1, 2, 2, 1, 4, 1, 4, 2, 4, 3, 1, 3, 0, 3, 4, 5, 0, 2, 4, 2, 1, 2, 3, 2, 4, 4, 3, 0, 2, 3, 2             \n",
              "2 3, 6, 4, 6, 5, 7, 6, 5, 3, 6, 5, 6, 6, 6, 5, 6, 3, 2, 3, 4, 5, 8, 4, 4, 8, 6, 8, 5, 5, 6, 8, 5, 5, 6, 4, 3, 4, 2, 4, 4, 5, 7, 3, 6, 6, 9, 4, 5, 6, 5, 5, 4, 8, 4, 4, 3, 5, 8, 3, 5, 6, 7, 8, 6, 7, 6, 5, 5, 5, 4, 4, 8, 6, 4, 8, 5, 5, 6, 4, 3, 6, 4, 4, 5, 6, 3, 4, 4, 4, 6, 6, 4, 6, 5, 2, 6, 4, 5, 3, 2             \n",
              "3 9, 8, 5, 7, 9, 12, 5, 7, 6, 5, 7, 9, 5, 7, 9, 8, 6, 4, 7, 11, 9, 5, 6, 9, 12, 6, 9, 9, 8, 10, 5, 8, 6, 11, 9, 10, 7, 8, 5, 12, 7, 6, 7, 7, 12, 10, 5, 6, 10, 8, 8, 7, 11, 7, 5, 7, 9, 9, 8, 5, 9, 8, 8, 9, 4, 9, 8, 8, 7, 6, 7, 7, 10, 6, 9, 5, 5, 8, 9, 9, 7, 6, 5, 6, 6, 8, 9, 8, 9, 7, 8, 10, 9, 6, 6, 4, 9, 7, 6, 8\n",
              "  approx.mu exact.mu\n",
              "1 2.58      2.5     \n",
              "2 5.07      5.0     \n",
              "3 7.59      7.5     "
            ]
          },
          "metadata": {}
        }
      ]
    },
    {
      "cell_type": "markdown",
      "source": [
        "#### 2. We are storing a *lot* of data during most intermediate steps."
      ],
      "metadata": {
        "id": "qaojFMGCfahw"
      }
    },
    {
      "cell_type": "code",
      "source": [
        "# Drop outcomes\n",
        "num.trials <- 100000 # Start adding zeros and see what happens\n",
        "(parameters(~n,\n",
        "            c(5,10,15))\n",
        " %>% mutate(.outcome = map(n, \\(n) rbinom(num.trials, n, 0.5)), # <== Lots of data/memory used\n",
        "            approx.mu = map_dbl(.outcome, mean),\n",
        "            exact.mu = n*p\n",
        "           )\n",
        " %>% select(-.outcome)\n",
        " )"
      ],
      "metadata": {
        "colab": {
          "base_uri": "https://localhost:8080/",
          "height": 187
        },
        "id": "xqF_BxSGfib-",
        "outputId": "68894936-e390-4bd6-b868-f66a5b96ad41"
      },
      "execution_count": 10,
      "outputs": [
        {
          "output_type": "display_data",
          "data": {
            "text/html": [
              "<table class=\"dataframe\">\n",
              "<caption>A tibble: 3 × 3</caption>\n",
              "<thead>\n",
              "\t<tr><th scope=col>n</th><th scope=col>approx.mu</th><th scope=col>exact.mu</th></tr>\n",
              "\t<tr><th scope=col>&lt;dbl&gt;</th><th scope=col>&lt;dbl&gt;</th><th scope=col>&lt;dbl&gt;</th></tr>\n",
              "</thead>\n",
              "<tbody>\n",
              "\t<tr><td> 5</td><td>2.50171</td><td>2.5</td></tr>\n",
              "\t<tr><td>10</td><td>5.00667</td><td>5.0</td></tr>\n",
              "\t<tr><td>15</td><td>7.50231</td><td>7.5</td></tr>\n",
              "</tbody>\n",
              "</table>\n"
            ],
            "text/markdown": "\nA tibble: 3 × 3\n\n| n &lt;dbl&gt; | approx.mu &lt;dbl&gt; | exact.mu &lt;dbl&gt; |\n|---|---|---|\n|  5 | 2.50171 | 2.5 |\n| 10 | 5.00667 | 5.0 |\n| 15 | 7.50231 | 7.5 |\n\n",
            "text/latex": "A tibble: 3 × 3\n\\begin{tabular}{lll}\n n & approx.mu & exact.mu\\\\\n <dbl> & <dbl> & <dbl>\\\\\n\\hline\n\t  5 & 2.50171 & 2.5\\\\\n\t 10 & 5.00667 & 5.0\\\\\n\t 15 & 7.50231 & 7.5\\\\\n\\end{tabular}\n",
            "text/plain": [
              "  n  approx.mu exact.mu\n",
              "1  5 2.50171   2.5     \n",
              "2 10 5.00667   5.0     \n",
              "3 15 7.50231   7.5     "
            ]
          },
          "metadata": {}
        }
      ]
    },
    {
      "cell_type": "markdown",
      "source": [
        "### The Solution\n",
        "\n",
        "The solution is to\n",
        "\n",
        "1. Prototype the code using a separate list column of outcomes,\n",
        "2. Verify the correctness of your code, then\n",
        "2. Compose the steps into a single function"
      ],
      "metadata": {
        "id": "PPp2luczfwFs"
      }
    },
    {
      "cell_type": "markdown",
      "source": [
        "## The \"shape\" of a composed parametric simulation\n",
        "\n",
        "1. Set up the parameter space using a `parameters`.\n",
        "2. Use one `map` or `pmap` to perform the entire process, usually by piping each intermediate result into the next function."
      ],
      "metadata": {
        "id": "8xITik_m1KY_"
      }
    },
    {
      "cell_type": "code",
      "source": [
        "# First prototype WITH the outcome column\n",
        "p <- 0.5\n",
        "num.trials <- 10\n",
        "(parameters(~n,\n",
        "            c(5,10,15))\n",
        " %>% mutate(.outcome = map(n, \\(n) rbinom(num.trials, n, 0.5)), # Easy to\n",
        "            approx.mu = map_dbl(.outcome, mean),                # verify\n",
        "            exact.mu = n*p                                      # correctness\n",
        "           )\n",
        " )"
      ],
      "metadata": {
        "colab": {
          "base_uri": "https://localhost:8080/",
          "height": 187
        },
        "id": "yC7TOR5yKeWH",
        "outputId": "cdc19677-50e7-4687-c617-4143247770e6"
      },
      "execution_count": 11,
      "outputs": [
        {
          "output_type": "display_data",
          "data": {
            "text/html": [
              "<table class=\"dataframe\">\n",
              "<caption>A tibble: 3 × 4</caption>\n",
              "<thead>\n",
              "\t<tr><th scope=col>n</th><th scope=col>.outcome</th><th scope=col>approx.mu</th><th scope=col>exact.mu</th></tr>\n",
              "\t<tr><th scope=col>&lt;dbl&gt;</th><th scope=col>&lt;list&gt;</th><th scope=col>&lt;dbl&gt;</th><th scope=col>&lt;dbl&gt;</th></tr>\n",
              "</thead>\n",
              "<tbody>\n",
              "\t<tr><td> 5</td><td>4, 3, 2, 3, 3, 2, 1, 2, 3, 3</td><td>2.6</td><td>2.5</td></tr>\n",
              "\t<tr><td>10</td><td>5, 8, 9, 2, 6, 5, 6, 7, 8, 5</td><td>6.1</td><td>5.0</td></tr>\n",
              "\t<tr><td>15</td><td>7, 11, 8, 8, 7, 5, 9, 12, 7, 9</td><td>8.3</td><td>7.5</td></tr>\n",
              "</tbody>\n",
              "</table>\n"
            ],
            "text/markdown": "\nA tibble: 3 × 4\n\n| n &lt;dbl&gt; | .outcome &lt;list&gt; | approx.mu &lt;dbl&gt; | exact.mu &lt;dbl&gt; |\n|---|---|---|---|\n|  5 | 4, 3, 2, 3, 3, 2, 1, 2, 3, 3 | 2.6 | 2.5 |\n| 10 | 5, 8, 9, 2, 6, 5, 6, 7, 8, 5 | 6.1 | 5.0 |\n| 15 | 7, 11, 8, 8, 7, 5, 9, 12, 7, 9 | 8.3 | 7.5 |\n\n",
            "text/latex": "A tibble: 3 × 4\n\\begin{tabular}{llll}\n n & .outcome & approx.mu & exact.mu\\\\\n <dbl> & <list> & <dbl> & <dbl>\\\\\n\\hline\n\t  5 & 4, 3, 2, 3, 3, 2, 1, 2, 3, 3 & 2.6 & 2.5\\\\\n\t 10 & 5, 8, 9, 2, 6, 5, 6, 7, 8, 5 & 6.1 & 5.0\\\\\n\t 15 & 7, 11, 8, 8, 7, 5, 9, 12, 7, 9 & 8.3 & 7.5\\\\\n\\end{tabular}\n",
            "text/plain": [
              "  n  .outcome                       approx.mu exact.mu\n",
              "1  5 4, 3, 2, 3, 3, 2, 1, 2, 3, 3   2.6       2.5     \n",
              "2 10 5, 8, 9, 2, 6, 5, 6, 7, 8, 5   6.1       5.0     \n",
              "3 15 7, 11, 8, 8, 7, 5, 9, 12, 7, 9 8.3       7.5     "
            ]
          },
          "metadata": {}
        }
      ]
    },
    {
      "cell_type": "code",
      "source": [
        "# Second ... Compose!\n",
        "num.trials <- 100\n",
        "(parameters(~n,\n",
        "            c(5,10,15))\n",
        " %>% mutate(approx.mu = map_dbl(n, \\(n) (rbinom(num.trials, n, 0.5)\n",
        "                                        %>% mean)),\n",
        "            exact.mu = n*p\n",
        "           )\n",
        ")"
      ],
      "metadata": {
        "colab": {
          "base_uri": "https://localhost:8080/",
          "height": 187
        },
        "id": "qheMv78q9Qmc",
        "outputId": "86009c28-361e-42b9-e050-a60405c4b461"
      },
      "execution_count": 12,
      "outputs": [
        {
          "output_type": "display_data",
          "data": {
            "text/html": [
              "<table class=\"dataframe\">\n",
              "<caption>A tibble: 3 × 3</caption>\n",
              "<thead>\n",
              "\t<tr><th scope=col>n</th><th scope=col>approx.mu</th><th scope=col>exact.mu</th></tr>\n",
              "\t<tr><th scope=col>&lt;dbl&gt;</th><th scope=col>&lt;dbl&gt;</th><th scope=col>&lt;dbl&gt;</th></tr>\n",
              "</thead>\n",
              "<tbody>\n",
              "\t<tr><td> 5</td><td>2.55</td><td>2.5</td></tr>\n",
              "\t<tr><td>10</td><td>5.35</td><td>5.0</td></tr>\n",
              "\t<tr><td>15</td><td>7.35</td><td>7.5</td></tr>\n",
              "</tbody>\n",
              "</table>\n"
            ],
            "text/markdown": "\nA tibble: 3 × 3\n\n| n &lt;dbl&gt; | approx.mu &lt;dbl&gt; | exact.mu &lt;dbl&gt; |\n|---|---|---|\n|  5 | 2.55 | 2.5 |\n| 10 | 5.35 | 5.0 |\n| 15 | 7.35 | 7.5 |\n\n",
            "text/latex": "A tibble: 3 × 3\n\\begin{tabular}{lll}\n n & approx.mu & exact.mu\\\\\n <dbl> & <dbl> & <dbl>\\\\\n\\hline\n\t  5 & 2.55 & 2.5\\\\\n\t 10 & 5.35 & 5.0\\\\\n\t 15 & 7.35 & 7.5\\\\\n\\end{tabular}\n",
            "text/plain": [
              "  n  approx.mu exact.mu\n",
              "1  5 2.55      2.5     \n",
              "2 10 5.35      5.0     \n",
              "3 15 7.35      7.5     "
            ]
          },
          "metadata": {}
        }
      ]
    },
    {
      "cell_type": "markdown",
      "source": [
        "### When can you compose?\n",
        "\n",
        "When each step is saved, then immediately used on the next step."
      ],
      "metadata": {
        "id": "LE_CRi0u0Oqk"
      }
    },
    {
      "cell_type": "markdown",
      "source": [
        "#### Tracking the data\n",
        "\n",
        "Here the raw trials are saved as `.outcome`, which is then used as input on the next mutate."
      ],
      "metadata": {
        "id": "kqqlhKR9wEZC"
      }
    },
    {
      "cell_type": "code",
      "source": [
        "num.trials <- 10\n",
        "(parameters(~n,\n",
        "            c(5,10,15))# ───────┐\n",
        " %>% mutate(.outcome = map(n, \\(n) rbinom(num.trials, n, 0.5)),\n",
        "            # │  └─────────────────────┘\n",
        "            # └────────────────────┐\n",
        "            approx.mu = map_dbl(.outcome, mean),\n",
        "            #   │                  └──────┘ │\n",
        "            #   └───────────────────────────┘\n",
        "            exact.mu = n*p\n",
        "           )\n",
        " %>% select(-.outcome)\n",
        " )"
      ],
      "metadata": {
        "id": "cmlHoKpKwCwr",
        "colab": {
          "base_uri": "https://localhost:8080/",
          "height": 187
        },
        "outputId": "de26dc69-4634-4cca-9e5e-e2baa3865110"
      },
      "execution_count": 13,
      "outputs": [
        {
          "output_type": "display_data",
          "data": {
            "text/html": [
              "<table class=\"dataframe\">\n",
              "<caption>A tibble: 3 × 3</caption>\n",
              "<thead>\n",
              "\t<tr><th scope=col>n</th><th scope=col>approx.mu</th><th scope=col>exact.mu</th></tr>\n",
              "\t<tr><th scope=col>&lt;dbl&gt;</th><th scope=col>&lt;dbl&gt;</th><th scope=col>&lt;dbl&gt;</th></tr>\n",
              "</thead>\n",
              "<tbody>\n",
              "\t<tr><td> 5</td><td>2.6</td><td>2.5</td></tr>\n",
              "\t<tr><td>10</td><td>4.1</td><td>5.0</td></tr>\n",
              "\t<tr><td>15</td><td>7.0</td><td>7.5</td></tr>\n",
              "</tbody>\n",
              "</table>\n"
            ],
            "text/markdown": "\nA tibble: 3 × 3\n\n| n &lt;dbl&gt; | approx.mu &lt;dbl&gt; | exact.mu &lt;dbl&gt; |\n|---|---|---|\n|  5 | 2.6 | 2.5 |\n| 10 | 4.1 | 5.0 |\n| 15 | 7.0 | 7.5 |\n\n",
            "text/latex": "A tibble: 3 × 3\n\\begin{tabular}{lll}\n n & approx.mu & exact.mu\\\\\n <dbl> & <dbl> & <dbl>\\\\\n\\hline\n\t  5 & 2.6 & 2.5\\\\\n\t 10 & 4.1 & 5.0\\\\\n\t 15 & 7.0 & 7.5\\\\\n\\end{tabular}\n",
            "text/plain": [
              "  n  approx.mu exact.mu\n",
              "1  5 2.6       2.5     \n",
              "2 10 4.1       5.0     \n",
              "3 15 7.0       7.5     "
            ]
          },
          "metadata": {}
        }
      ]
    },
    {
      "cell_type": "markdown",
      "source": [
        "#### Tracking the data\n",
        "\n",
        "Instead of saving the intermediate result (i.e., the raw output) we can simply pipe it into the next action."
      ],
      "metadata": {
        "id": "iAdqkzSgyVl0"
      }
    },
    {
      "cell_type": "code",
      "source": [
        "# Compose!\n",
        "num.trials <- 100\n",
        "(parameters(~n,\n",
        "            c(5,10,15))# ────────────┐\n",
        " %>% mutate(approx.mu = map_dbl(n, \\(n) (rbinom(num.trials, n, 0.5)\n",
        "          #   │                              │\n",
        "                                        %>% mean)),\n",
        "          #   └──────────────────────────────┘\n",
        "            exact.mu = n*p)\n",
        "           )\n"
      ],
      "metadata": {
        "id": "bTl3-uzF9vpc",
        "colab": {
          "base_uri": "https://localhost:8080/",
          "height": 187
        },
        "outputId": "76acaf9b-05d5-4a8e-b2d1-914dd3202b4b"
      },
      "execution_count": 14,
      "outputs": [
        {
          "output_type": "display_data",
          "data": {
            "text/html": [
              "<table class=\"dataframe\">\n",
              "<caption>A tibble: 3 × 3</caption>\n",
              "<thead>\n",
              "\t<tr><th scope=col>n</th><th scope=col>approx.mu</th><th scope=col>exact.mu</th></tr>\n",
              "\t<tr><th scope=col>&lt;dbl&gt;</th><th scope=col>&lt;dbl&gt;</th><th scope=col>&lt;dbl&gt;</th></tr>\n",
              "</thead>\n",
              "<tbody>\n",
              "\t<tr><td> 5</td><td>2.40</td><td>2.5</td></tr>\n",
              "\t<tr><td>10</td><td>4.96</td><td>5.0</td></tr>\n",
              "\t<tr><td>15</td><td>7.79</td><td>7.5</td></tr>\n",
              "</tbody>\n",
              "</table>\n"
            ],
            "text/markdown": "\nA tibble: 3 × 3\n\n| n &lt;dbl&gt; | approx.mu &lt;dbl&gt; | exact.mu &lt;dbl&gt; |\n|---|---|---|\n|  5 | 2.40 | 2.5 |\n| 10 | 4.96 | 5.0 |\n| 15 | 7.79 | 7.5 |\n\n",
            "text/latex": "A tibble: 3 × 3\n\\begin{tabular}{lll}\n n & approx.mu & exact.mu\\\\\n <dbl> & <dbl> & <dbl>\\\\\n\\hline\n\t  5 & 2.40 & 2.5\\\\\n\t 10 & 4.96 & 5.0\\\\\n\t 15 & 7.79 & 7.5\\\\\n\\end{tabular}\n",
            "text/plain": [
              "  n  approx.mu exact.mu\n",
              "1  5 2.40      2.5     \n",
              "2 10 4.96      5.0     \n",
              "3 15 7.79      7.5     "
            ]
          },
          "metadata": {}
        }
      ]
    },
    {
      "cell_type": "markdown",
      "source": [
        "### <font color=\"red\"> Exercise 2.5.1 </font>\n",
        "\n",
        "Suppose that we want to compare the cut off for the top 5% of a binomial data with $n = 100$ and $p\\in\\{0.25, 0.5, 0.75\\}\n",
        "\n",
        "**Tasks.**\n",
        "1. Prototype the process by storing the raw outcomes in a list column, then processing with additional `map`s,\n",
        "2. Verify the correctness of your code, and\n",
        "2. Compose all the intermediate steps to eliminate the need to store the raw outcomes."
      ],
      "metadata": {
        "id": "t1oDP7Cp3pQP"
      }
    },
    {
      "cell_type": "code",
      "source": [
        "# Your code here."
      ],
      "metadata": {
        "id": "mhvK2pjV4Xv1"
      },
      "execution_count": null,
      "outputs": []
    },
    {
      "cell_type": "markdown",
      "source": [
        "## Parametric Simulations with more than one parameter\n",
        "\n",
        "A similar process can be used to simulate a scenario where two or more parameters vary across the experiment.  Depending on the scenario, we will\n",
        "1. **Two parameters.** Use either `map2` or `pmap` to generate the raw outcomes.\n",
        "2. **Three+ parameters.** Use `pmap` to generate the raw outcomes."
      ],
      "metadata": {
        "id": "C8n3DxWs4buy"
      }
    },
    {
      "cell_type": "markdown",
      "source": [
        "### Example 2 - Investigate the mean part 2\n",
        "\n",
        "Now suppose we want to investigate the mean of the binomial distribution for all combinations of $n\\in\\{5,10,15\\}$ and $p\\in\\{0.25, 0.5, 0.74\\}$.  "
      ],
      "metadata": {
        "id": "vj0l0oZE5EZ1"
      }
    },
    {
      "cell_type": "markdown",
      "source": [
        "#### Step 1.  Define the parameter space"
      ],
      "metadata": {
        "id": "E3Nvf1D8LWxA"
      }
    },
    {
      "cell_type": "code",
      "source": [
        "# Define the parameter space\n",
        "parameters(~n,         ~p,\n",
        "           c(5,10,15), c(0.25, 0.5, 0.75))"
      ],
      "metadata": {
        "colab": {
          "base_uri": "https://localhost:8080/",
          "height": 371
        },
        "id": "EstQSykN5dSg",
        "outputId": "ba960525-029e-4559-eff1-dc22810d4fb4"
      },
      "execution_count": 15,
      "outputs": [
        {
          "output_type": "display_data",
          "data": {
            "text/html": [
              "<table class=\"dataframe\">\n",
              "<caption>A tibble: 9 × 2</caption>\n",
              "<thead>\n",
              "\t<tr><th scope=col>n</th><th scope=col>p</th></tr>\n",
              "\t<tr><th scope=col>&lt;dbl&gt;</th><th scope=col>&lt;dbl&gt;</th></tr>\n",
              "</thead>\n",
              "<tbody>\n",
              "\t<tr><td> 5</td><td>0.25</td></tr>\n",
              "\t<tr><td> 5</td><td>0.50</td></tr>\n",
              "\t<tr><td> 5</td><td>0.75</td></tr>\n",
              "\t<tr><td>10</td><td>0.25</td></tr>\n",
              "\t<tr><td>10</td><td>0.50</td></tr>\n",
              "\t<tr><td>10</td><td>0.75</td></tr>\n",
              "\t<tr><td>15</td><td>0.25</td></tr>\n",
              "\t<tr><td>15</td><td>0.50</td></tr>\n",
              "\t<tr><td>15</td><td>0.75</td></tr>\n",
              "</tbody>\n",
              "</table>\n"
            ],
            "text/markdown": "\nA tibble: 9 × 2\n\n| n &lt;dbl&gt; | p &lt;dbl&gt; |\n|---|---|\n|  5 | 0.25 |\n|  5 | 0.50 |\n|  5 | 0.75 |\n| 10 | 0.25 |\n| 10 | 0.50 |\n| 10 | 0.75 |\n| 15 | 0.25 |\n| 15 | 0.50 |\n| 15 | 0.75 |\n\n",
            "text/latex": "A tibble: 9 × 2\n\\begin{tabular}{ll}\n n & p\\\\\n <dbl> & <dbl>\\\\\n\\hline\n\t  5 & 0.25\\\\\n\t  5 & 0.50\\\\\n\t  5 & 0.75\\\\\n\t 10 & 0.25\\\\\n\t 10 & 0.50\\\\\n\t 10 & 0.75\\\\\n\t 15 & 0.25\\\\\n\t 15 & 0.50\\\\\n\t 15 & 0.75\\\\\n\\end{tabular}\n",
            "text/plain": [
              "  n  p   \n",
              "1  5 0.25\n",
              "2  5 0.50\n",
              "3  5 0.75\n",
              "4 10 0.25\n",
              "5 10 0.50\n",
              "6 10 0.75\n",
              "7 15 0.25\n",
              "8 15 0.50\n",
              "9 15 0.75"
            ]
          },
          "metadata": {}
        }
      ]
    },
    {
      "cell_type": "markdown",
      "source": [
        "#### Step 2.  Generate outcomes with `map2`"
      ],
      "metadata": {
        "id": "c5slUEwQLe1W"
      }
    },
    {
      "cell_type": "code",
      "source": [
        "# Version 1 - Use map2 to generate the data\n",
        "num.trials <- 10\n",
        "(parameters(~n,         ~p,\n",
        "            c(5,10,15), c(0.25, 0.5, 0.75))\n",
        " %>% mutate(.outcome = map2(n, p, \\(n, p) rbinom(num.trials, n, p)))\n",
        " )"
      ],
      "metadata": {
        "colab": {
          "base_uri": "https://localhost:8080/",
          "height": 371
        },
        "id": "LkwJMv_66CHs",
        "outputId": "057cb3e8-2966-4a4f-e349-34abc93e11b2"
      },
      "execution_count": 16,
      "outputs": [
        {
          "output_type": "display_data",
          "data": {
            "text/html": [
              "<table class=\"dataframe\">\n",
              "<caption>A tibble: 9 × 3</caption>\n",
              "<thead>\n",
              "\t<tr><th scope=col>n</th><th scope=col>p</th><th scope=col>.outcome</th></tr>\n",
              "\t<tr><th scope=col>&lt;dbl&gt;</th><th scope=col>&lt;dbl&gt;</th><th scope=col>&lt;list&gt;</th></tr>\n",
              "</thead>\n",
              "<tbody>\n",
              "\t<tr><td> 5</td><td>0.25</td><td>2, 2, 0, 2, 0, 2, 3, 0, 0, 1</td></tr>\n",
              "\t<tr><td> 5</td><td>0.50</td><td>2, 2, 1, 2, 0, 1, 3, 5, 3, 1</td></tr>\n",
              "\t<tr><td> 5</td><td>0.75</td><td>4, 3, 5, 4, 4, 4, 3, 5, 3, 3</td></tr>\n",
              "\t<tr><td>10</td><td>0.25</td><td>1, 3, 2, 2, 3, 2, 2, 2, 2, 1</td></tr>\n",
              "\t<tr><td>10</td><td>0.50</td><td>6, 7, 8, 8, 1, 6, 2, 4, 7, 6</td></tr>\n",
              "\t<tr><td>10</td><td>0.75</td><td>7, 4, 6, 9, 7, 10, 8, 8, 6, 9</td></tr>\n",
              "\t<tr><td>15</td><td>0.25</td><td>5, 5, 2, 4, 6, 3, 6, 6, 2, 4</td></tr>\n",
              "\t<tr><td>15</td><td>0.50</td><td>6, 8, 7, 5, 6, 5, 7, 9, 7, 11</td></tr>\n",
              "\t<tr><td>15</td><td>0.75</td><td>10, 13, 8, 7, 14, 13, 12, 13, 10, 13</td></tr>\n",
              "</tbody>\n",
              "</table>\n"
            ],
            "text/markdown": "\nA tibble: 9 × 3\n\n| n &lt;dbl&gt; | p &lt;dbl&gt; | .outcome &lt;list&gt; |\n|---|---|---|\n|  5 | 0.25 | 2, 2, 0, 2, 0, 2, 3, 0, 0, 1 |\n|  5 | 0.50 | 2, 2, 1, 2, 0, 1, 3, 5, 3, 1 |\n|  5 | 0.75 | 4, 3, 5, 4, 4, 4, 3, 5, 3, 3 |\n| 10 | 0.25 | 1, 3, 2, 2, 3, 2, 2, 2, 2, 1 |\n| 10 | 0.50 | 6, 7, 8, 8, 1, 6, 2, 4, 7, 6 |\n| 10 | 0.75 | 7, 4, 6, 9, 7, 10, 8, 8, 6, 9 |\n| 15 | 0.25 | 5, 5, 2, 4, 6, 3, 6, 6, 2, 4 |\n| 15 | 0.50 | 6, 8, 7, 5, 6, 5, 7, 9, 7, 11 |\n| 15 | 0.75 | 10, 13, 8, 7, 14, 13, 12, 13, 10, 13 |\n\n",
            "text/latex": "A tibble: 9 × 3\n\\begin{tabular}{lll}\n n & p & .outcome\\\\\n <dbl> & <dbl> & <list>\\\\\n\\hline\n\t  5 & 0.25 & 2, 2, 0, 2, 0, 2, 3, 0, 0, 1\\\\\n\t  5 & 0.50 & 2, 2, 1, 2, 0, 1, 3, 5, 3, 1\\\\\n\t  5 & 0.75 & 4, 3, 5, 4, 4, 4, 3, 5, 3, 3\\\\\n\t 10 & 0.25 & 1, 3, 2, 2, 3, 2, 2, 2, 2, 1\\\\\n\t 10 & 0.50 & 6, 7, 8, 8, 1, 6, 2, 4, 7, 6\\\\\n\t 10 & 0.75 & 7, 4, 6, 9, 7, 10, 8, 8, 6, 9\\\\\n\t 15 & 0.25 & 5, 5, 2, 4, 6, 3, 6, 6, 2, 4\\\\\n\t 15 & 0.50 & 6, 8, 7, 5, 6, 5, 7, 9, 7, 11\\\\\n\t 15 & 0.75 & 10, 13, 8, 7, 14, 13, 12, 13, 10, 13\\\\\n\\end{tabular}\n",
            "text/plain": [
              "  n  p    .outcome                            \n",
              "1  5 0.25 2, 2, 0, 2, 0, 2, 3, 0, 0, 1        \n",
              "2  5 0.50 2, 2, 1, 2, 0, 1, 3, 5, 3, 1        \n",
              "3  5 0.75 4, 3, 5, 4, 4, 4, 3, 5, 3, 3        \n",
              "4 10 0.25 1, 3, 2, 2, 3, 2, 2, 2, 2, 1        \n",
              "5 10 0.50 6, 7, 8, 8, 1, 6, 2, 4, 7, 6        \n",
              "6 10 0.75 7, 4, 6, 9, 7, 10, 8, 8, 6, 9       \n",
              "7 15 0.25 5, 5, 2, 4, 6, 3, 6, 6, 2, 4        \n",
              "8 15 0.50 6, 8, 7, 5, 6, 5, 7, 9, 7, 11       \n",
              "9 15 0.75 10, 13, 8, 7, 14, 13, 12, 13, 10, 13"
            ]
          },
          "metadata": {}
        }
      ]
    },
    {
      "cell_type": "markdown",
      "source": [
        "#### Step 2. Generate outcomes with `pmap`."
      ],
      "metadata": {
        "id": "j5WpMAu0LoSv"
      }
    },
    {
      "cell_type": "code",
      "source": [
        "# Version 2 - Use pmap to generate the data\n",
        "num.trials <- 10\n",
        "(parameters(~n,         ~p,\n",
        "            c(5,10,15), c(0.25, 0.5, 0.75))\n",
        " %>% mutate(.outcome = pmap(list(size = n, prob = p), rbinom, n = num.trials))\n",
        " )"
      ],
      "metadata": {
        "colab": {
          "base_uri": "https://localhost:8080/",
          "height": 371
        },
        "id": "ifLSSqw36maQ",
        "outputId": "4ea40e1d-7530-4162-ab27-ced5ce350316"
      },
      "execution_count": 17,
      "outputs": [
        {
          "output_type": "display_data",
          "data": {
            "text/html": [
              "<table class=\"dataframe\">\n",
              "<caption>A tibble: 9 × 3</caption>\n",
              "<thead>\n",
              "\t<tr><th scope=col>n</th><th scope=col>p</th><th scope=col>.outcome</th></tr>\n",
              "\t<tr><th scope=col>&lt;dbl&gt;</th><th scope=col>&lt;dbl&gt;</th><th scope=col>&lt;list&gt;</th></tr>\n",
              "</thead>\n",
              "<tbody>\n",
              "\t<tr><td> 5</td><td>0.25</td><td>0, 1, 1, 1, 0, 1, 0, 2, 3, 0</td></tr>\n",
              "\t<tr><td> 5</td><td>0.50</td><td>4, 3, 0, 2, 2, 4, 1, 3, 2, 4</td></tr>\n",
              "\t<tr><td> 5</td><td>0.75</td><td>4, 2, 4, 4, 5, 5, 3, 5, 3, 2</td></tr>\n",
              "\t<tr><td>10</td><td>0.25</td><td>2, 3, 1, 2, 2, 2, 1, 4, 2, 5</td></tr>\n",
              "\t<tr><td>10</td><td>0.50</td><td>7, 5, 5, 6, 3, 5, 6, 7, 4, 7</td></tr>\n",
              "\t<tr><td>10</td><td>0.75</td><td>9, 6, 8, 9, 7, 9, 6, 8, 7, 7</td></tr>\n",
              "\t<tr><td>15</td><td>0.25</td><td>5, 6, 6, 5, 6, 5, 8, 7, 4, 4</td></tr>\n",
              "\t<tr><td>15</td><td>0.50</td><td>9, 10, 10, 6, 10, 6, 9, 11, 7, 6</td></tr>\n",
              "\t<tr><td>15</td><td>0.75</td><td>10, 13, 14, 10, 11, 10, 11, 15, 12, 10</td></tr>\n",
              "</tbody>\n",
              "</table>\n"
            ],
            "text/markdown": "\nA tibble: 9 × 3\n\n| n &lt;dbl&gt; | p &lt;dbl&gt; | .outcome &lt;list&gt; |\n|---|---|---|\n|  5 | 0.25 | 0, 1, 1, 1, 0, 1, 0, 2, 3, 0 |\n|  5 | 0.50 | 4, 3, 0, 2, 2, 4, 1, 3, 2, 4 |\n|  5 | 0.75 | 4, 2, 4, 4, 5, 5, 3, 5, 3, 2 |\n| 10 | 0.25 | 2, 3, 1, 2, 2, 2, 1, 4, 2, 5 |\n| 10 | 0.50 | 7, 5, 5, 6, 3, 5, 6, 7, 4, 7 |\n| 10 | 0.75 | 9, 6, 8, 9, 7, 9, 6, 8, 7, 7 |\n| 15 | 0.25 | 5, 6, 6, 5, 6, 5, 8, 7, 4, 4 |\n| 15 | 0.50 | 9, 10, 10, 6, 10, 6, 9, 11, 7, 6 |\n| 15 | 0.75 | 10, 13, 14, 10, 11, 10, 11, 15, 12, 10 |\n\n",
            "text/latex": "A tibble: 9 × 3\n\\begin{tabular}{lll}\n n & p & .outcome\\\\\n <dbl> & <dbl> & <list>\\\\\n\\hline\n\t  5 & 0.25 & 0, 1, 1, 1, 0, 1, 0, 2, 3, 0\\\\\n\t  5 & 0.50 & 4, 3, 0, 2, 2, 4, 1, 3, 2, 4\\\\\n\t  5 & 0.75 & 4, 2, 4, 4, 5, 5, 3, 5, 3, 2\\\\\n\t 10 & 0.25 & 2, 3, 1, 2, 2, 2, 1, 4, 2, 5\\\\\n\t 10 & 0.50 & 7, 5, 5, 6, 3, 5, 6, 7, 4, 7\\\\\n\t 10 & 0.75 & 9, 6, 8, 9, 7, 9, 6, 8, 7, 7\\\\\n\t 15 & 0.25 & 5, 6, 6, 5, 6, 5, 8, 7, 4, 4\\\\\n\t 15 & 0.50 & 9, 10, 10, 6, 10, 6, 9, 11, 7, 6\\\\\n\t 15 & 0.75 & 10, 13, 14, 10, 11, 10, 11, 15, 12, 10\\\\\n\\end{tabular}\n",
            "text/plain": [
              "  n  p    .outcome                              \n",
              "1  5 0.25 0, 1, 1, 1, 0, 1, 0, 2, 3, 0          \n",
              "2  5 0.50 4, 3, 0, 2, 2, 4, 1, 3, 2, 4          \n",
              "3  5 0.75 4, 2, 4, 4, 5, 5, 3, 5, 3, 2          \n",
              "4 10 0.25 2, 3, 1, 2, 2, 2, 1, 4, 2, 5          \n",
              "5 10 0.50 7, 5, 5, 6, 3, 5, 6, 7, 4, 7          \n",
              "6 10 0.75 9, 6, 8, 9, 7, 9, 6, 8, 7, 7          \n",
              "7 15 0.25 5, 6, 6, 5, 6, 5, 8, 7, 4, 4          \n",
              "8 15 0.50 9, 10, 10, 6, 10, 6, 9, 11, 7, 6      \n",
              "9 15 0.75 10, 13, 14, 10, 11, 10, 11, 15, 12, 10"
            ]
          },
          "metadata": {}
        }
      ]
    },
    {
      "cell_type": "markdown",
      "source": [
        "#### Step 3. Process and summarize."
      ],
      "metadata": {
        "id": "WY1s-7TMPjcN"
      }
    },
    {
      "cell_type": "code",
      "source": [
        "num.trials <- 10\n",
        "(parameters(~n,         ~p,\n",
        "            c(5,10,15), c(0.25, 0.5, 0.75))\n",
        " %>% mutate(.outcome = map2(n, p, \\(n, p) rbinom(num.trials, n, p)))\n",
        " %>% mutate(approx.mu = map_dbl(.outcome, mean),\n",
        "            exact.mu = n*p)\n",
        " )"
      ],
      "metadata": {
        "colab": {
          "base_uri": "https://localhost:8080/",
          "height": 371
        },
        "id": "qDaYIB44PodQ",
        "outputId": "9cc7cf77-c8e4-47c4-9012-e7b5493111a2"
      },
      "execution_count": 19,
      "outputs": [
        {
          "output_type": "display_data",
          "data": {
            "text/html": [
              "<table class=\"dataframe\">\n",
              "<caption>A tibble: 9 × 5</caption>\n",
              "<thead>\n",
              "\t<tr><th scope=col>n</th><th scope=col>p</th><th scope=col>.outcome</th><th scope=col>approx.mu</th><th scope=col>exact.mu</th></tr>\n",
              "\t<tr><th scope=col>&lt;dbl&gt;</th><th scope=col>&lt;dbl&gt;</th><th scope=col>&lt;list&gt;</th><th scope=col>&lt;dbl&gt;</th><th scope=col>&lt;dbl&gt;</th></tr>\n",
              "</thead>\n",
              "<tbody>\n",
              "\t<tr><td> 5</td><td>0.25</td><td>1, 1, 1, 0, 1, 1, 2, 1, 0, 0</td><td> 0.8</td><td> 1.25</td></tr>\n",
              "\t<tr><td> 5</td><td>0.50</td><td>3, 3, 2, 4, 5, 3, 2, 4, 2, 1</td><td> 2.9</td><td> 2.50</td></tr>\n",
              "\t<tr><td> 5</td><td>0.75</td><td>1, 4, 3, 4, 3, 4, 4, 4, 5, 5</td><td> 3.7</td><td> 3.75</td></tr>\n",
              "\t<tr><td>10</td><td>0.25</td><td>0, 2, 2, 2, 3, 2, 2, 0, 3, 1</td><td> 1.7</td><td> 2.50</td></tr>\n",
              "\t<tr><td>10</td><td>0.50</td><td>6, 6, 3, 5, 4, 3, 6, 1, 4, 7</td><td> 4.5</td><td> 5.00</td></tr>\n",
              "\t<tr><td>10</td><td>0.75</td><td>7, 9, 8, 8, 8, 9, 9, 6, 8, 6</td><td> 7.8</td><td> 7.50</td></tr>\n",
              "\t<tr><td>15</td><td>0.25</td><td>4, 2, 2, 1, 5, 6, 5, 4, 3, 9</td><td> 4.1</td><td> 3.75</td></tr>\n",
              "\t<tr><td>15</td><td>0.50</td><td>8, 9, 6, 7, 10, 8, 6, 9, 4, 8</td><td> 7.5</td><td> 7.50</td></tr>\n",
              "\t<tr><td>15</td><td>0.75</td><td>13, 11, 9, 11, 4, 8, 13, 12, 12, 10</td><td>10.3</td><td>11.25</td></tr>\n",
              "</tbody>\n",
              "</table>\n"
            ],
            "text/markdown": "\nA tibble: 9 × 5\n\n| n &lt;dbl&gt; | p &lt;dbl&gt; | .outcome &lt;list&gt; | approx.mu &lt;dbl&gt; | exact.mu &lt;dbl&gt; |\n|---|---|---|---|---|\n|  5 | 0.25 | 1, 1, 1, 0, 1, 1, 2, 1, 0, 0 |  0.8 |  1.25 |\n|  5 | 0.50 | 3, 3, 2, 4, 5, 3, 2, 4, 2, 1 |  2.9 |  2.50 |\n|  5 | 0.75 | 1, 4, 3, 4, 3, 4, 4, 4, 5, 5 |  3.7 |  3.75 |\n| 10 | 0.25 | 0, 2, 2, 2, 3, 2, 2, 0, 3, 1 |  1.7 |  2.50 |\n| 10 | 0.50 | 6, 6, 3, 5, 4, 3, 6, 1, 4, 7 |  4.5 |  5.00 |\n| 10 | 0.75 | 7, 9, 8, 8, 8, 9, 9, 6, 8, 6 |  7.8 |  7.50 |\n| 15 | 0.25 | 4, 2, 2, 1, 5, 6, 5, 4, 3, 9 |  4.1 |  3.75 |\n| 15 | 0.50 | 8, 9, 6, 7, 10, 8, 6, 9, 4, 8 |  7.5 |  7.50 |\n| 15 | 0.75 | 13, 11, 9, 11, 4, 8, 13, 12, 12, 10 | 10.3 | 11.25 |\n\n",
            "text/latex": "A tibble: 9 × 5\n\\begin{tabular}{lllll}\n n & p & .outcome & approx.mu & exact.mu\\\\\n <dbl> & <dbl> & <list> & <dbl> & <dbl>\\\\\n\\hline\n\t  5 & 0.25 & 1, 1, 1, 0, 1, 1, 2, 1, 0, 0 &  0.8 &  1.25\\\\\n\t  5 & 0.50 & 3, 3, 2, 4, 5, 3, 2, 4, 2, 1 &  2.9 &  2.50\\\\\n\t  5 & 0.75 & 1, 4, 3, 4, 3, 4, 4, 4, 5, 5 &  3.7 &  3.75\\\\\n\t 10 & 0.25 & 0, 2, 2, 2, 3, 2, 2, 0, 3, 1 &  1.7 &  2.50\\\\\n\t 10 & 0.50 & 6, 6, 3, 5, 4, 3, 6, 1, 4, 7 &  4.5 &  5.00\\\\\n\t 10 & 0.75 & 7, 9, 8, 8, 8, 9, 9, 6, 8, 6 &  7.8 &  7.50\\\\\n\t 15 & 0.25 & 4, 2, 2, 1, 5, 6, 5, 4, 3, 9 &  4.1 &  3.75\\\\\n\t 15 & 0.50 & 8, 9, 6, 7, 10, 8, 6, 9, 4, 8 &  7.5 &  7.50\\\\\n\t 15 & 0.75 & 13, 11, 9, 11, 4, 8, 13, 12, 12, 10 & 10.3 & 11.25\\\\\n\\end{tabular}\n",
            "text/plain": [
              "  n  p    .outcome                            approx.mu exact.mu\n",
              "1  5 0.25 1, 1, 1, 0, 1, 1, 2, 1, 0, 0         0.8       1.25   \n",
              "2  5 0.50 3, 3, 2, 4, 5, 3, 2, 4, 2, 1         2.9       2.50   \n",
              "3  5 0.75 1, 4, 3, 4, 3, 4, 4, 4, 5, 5         3.7       3.75   \n",
              "4 10 0.25 0, 2, 2, 2, 3, 2, 2, 0, 3, 1         1.7       2.50   \n",
              "5 10 0.50 6, 6, 3, 5, 4, 3, 6, 1, 4, 7         4.5       5.00   \n",
              "6 10 0.75 7, 9, 8, 8, 8, 9, 9, 6, 8, 6         7.8       7.50   \n",
              "7 15 0.25 4, 2, 2, 1, 5, 6, 5, 4, 3, 9         4.1       3.75   \n",
              "8 15 0.50 8, 9, 6, 7, 10, 8, 6, 9, 4, 8        7.5       7.50   \n",
              "9 15 0.75 13, 11, 9, 11, 4, 8, 13, 12, 12, 10 10.3      11.25   "
            ]
          },
          "metadata": {}
        }
      ]
    },
    {
      "cell_type": "markdown",
      "source": [
        "#### Step 5. Drop outcomes and bump the number of trials."
      ],
      "metadata": {
        "id": "GGgBlmuCP2gz"
      }
    },
    {
      "cell_type": "code",
      "source": [
        "num.trials <- 100000\n",
        "(parameters(~n,         ~p,\n",
        "            c(5,10,15), c(0.25, 0.5, 0.75))\n",
        " %>% mutate(.outcome = map2(n, p, \\(n, p) rbinom(num.trials, n, p)))\n",
        " %>% mutate(approx.mu = map_dbl(.outcome, mean),\n",
        "            exact.mu = n*p)\n",
        " %>% select(-.outcome)\n",
        " )"
      ],
      "metadata": {
        "colab": {
          "base_uri": "https://localhost:8080/",
          "height": 371
        },
        "id": "TSQniLmVP1SV",
        "outputId": "0a4249a4-6636-4a68-e251-b88125b075ae"
      },
      "execution_count": 20,
      "outputs": [
        {
          "output_type": "display_data",
          "data": {
            "text/html": [
              "<table class=\"dataframe\">\n",
              "<caption>A tibble: 9 × 4</caption>\n",
              "<thead>\n",
              "\t<tr><th scope=col>n</th><th scope=col>p</th><th scope=col>approx.mu</th><th scope=col>exact.mu</th></tr>\n",
              "\t<tr><th scope=col>&lt;dbl&gt;</th><th scope=col>&lt;dbl&gt;</th><th scope=col>&lt;dbl&gt;</th><th scope=col>&lt;dbl&gt;</th></tr>\n",
              "</thead>\n",
              "<tbody>\n",
              "\t<tr><td> 5</td><td>0.25</td><td> 1.24513</td><td> 1.25</td></tr>\n",
              "\t<tr><td> 5</td><td>0.50</td><td> 2.49446</td><td> 2.50</td></tr>\n",
              "\t<tr><td> 5</td><td>0.75</td><td> 3.75138</td><td> 3.75</td></tr>\n",
              "\t<tr><td>10</td><td>0.25</td><td> 2.50023</td><td> 2.50</td></tr>\n",
              "\t<tr><td>10</td><td>0.50</td><td> 5.00259</td><td> 5.00</td></tr>\n",
              "\t<tr><td>10</td><td>0.75</td><td> 7.51119</td><td> 7.50</td></tr>\n",
              "\t<tr><td>15</td><td>0.25</td><td> 3.75758</td><td> 3.75</td></tr>\n",
              "\t<tr><td>15</td><td>0.50</td><td> 7.50161</td><td> 7.50</td></tr>\n",
              "\t<tr><td>15</td><td>0.75</td><td>11.24818</td><td>11.25</td></tr>\n",
              "</tbody>\n",
              "</table>\n"
            ],
            "text/markdown": "\nA tibble: 9 × 4\n\n| n &lt;dbl&gt; | p &lt;dbl&gt; | approx.mu &lt;dbl&gt; | exact.mu &lt;dbl&gt; |\n|---|---|---|---|\n|  5 | 0.25 |  1.24513 |  1.25 |\n|  5 | 0.50 |  2.49446 |  2.50 |\n|  5 | 0.75 |  3.75138 |  3.75 |\n| 10 | 0.25 |  2.50023 |  2.50 |\n| 10 | 0.50 |  5.00259 |  5.00 |\n| 10 | 0.75 |  7.51119 |  7.50 |\n| 15 | 0.25 |  3.75758 |  3.75 |\n| 15 | 0.50 |  7.50161 |  7.50 |\n| 15 | 0.75 | 11.24818 | 11.25 |\n\n",
            "text/latex": "A tibble: 9 × 4\n\\begin{tabular}{llll}\n n & p & approx.mu & exact.mu\\\\\n <dbl> & <dbl> & <dbl> & <dbl>\\\\\n\\hline\n\t  5 & 0.25 &  1.24513 &  1.25\\\\\n\t  5 & 0.50 &  2.49446 &  2.50\\\\\n\t  5 & 0.75 &  3.75138 &  3.75\\\\\n\t 10 & 0.25 &  2.50023 &  2.50\\\\\n\t 10 & 0.50 &  5.00259 &  5.00\\\\\n\t 10 & 0.75 &  7.51119 &  7.50\\\\\n\t 15 & 0.25 &  3.75758 &  3.75\\\\\n\t 15 & 0.50 &  7.50161 &  7.50\\\\\n\t 15 & 0.75 & 11.24818 & 11.25\\\\\n\\end{tabular}\n",
            "text/plain": [
              "  n  p    approx.mu exact.mu\n",
              "1  5 0.25  1.24513   1.25   \n",
              "2  5 0.50  2.49446   2.50   \n",
              "3  5 0.75  3.75138   3.75   \n",
              "4 10 0.25  2.50023   2.50   \n",
              "5 10 0.50  5.00259   5.00   \n",
              "6 10 0.75  7.51119   7.50   \n",
              "7 15 0.25  3.75758   3.75   \n",
              "8 15 0.50  7.50161   7.50   \n",
              "9 15 0.75 11.24818  11.25   "
            ]
          },
          "metadata": {}
        }
      ]
    },
    {
      "cell_type": "markdown",
      "source": [
        "Step 5. Compose into one map."
      ],
      "metadata": {
        "id": "J1FFFwgsQHre"
      }
    },
    {
      "cell_type": "code",
      "source": [
        "num.trials <- 100000\n",
        "(parameters(~n,         ~p,\n",
        "            c(5,10,15), c(0.25, 0.5, 0.75))\n",
        "#  %>% mutate(.outcome = map2(n, p, \\(n, p) rbinom(num.trials, n, p))\n",
        "#  %>% mutate(approx.mu = map_dbl(.outcome, mean),\n",
        "            # exact.mu = n*p)\n",
        " %>% mutate(approx.mu = map2(n, p, \\(n, p) rbinom(num.trials, n, p) %>% mean),\n",
        "            exact.mu = n*p)\n",
        "#  %>% select(-.outcome)\n",
        " )"
      ],
      "metadata": {
        "colab": {
          "base_uri": "https://localhost:8080/",
          "height": 371
        },
        "id": "Z7gExv1VQP35",
        "outputId": "3682a9bc-cde7-4b7f-db15-c1df55058eaa"
      },
      "execution_count": 2,
      "outputs": [
        {
          "output_type": "display_data",
          "data": {
            "text/html": [
              "<table class=\"dataframe\">\n",
              "<caption>A tibble: 9 × 4</caption>\n",
              "<thead>\n",
              "\t<tr><th scope=col>n</th><th scope=col>p</th><th scope=col>approx.mu</th><th scope=col>exact.mu</th></tr>\n",
              "\t<tr><th scope=col>&lt;dbl&gt;</th><th scope=col>&lt;dbl&gt;</th><th scope=col>&lt;list&gt;</th><th scope=col>&lt;dbl&gt;</th></tr>\n",
              "</thead>\n",
              "<tbody>\n",
              "\t<tr><td> 5</td><td>0.25</td><td>1.24595</td><td> 1.25</td></tr>\n",
              "\t<tr><td> 5</td><td>0.50</td><td>2.50038</td><td> 2.50</td></tr>\n",
              "\t<tr><td> 5</td><td>0.75</td><td>3.74845</td><td> 3.75</td></tr>\n",
              "\t<tr><td>10</td><td>0.25</td><td>2.49804</td><td> 2.50</td></tr>\n",
              "\t<tr><td>10</td><td>0.50</td><td>4.99166</td><td> 5.00</td></tr>\n",
              "\t<tr><td>10</td><td>0.75</td><td>7.50035</td><td> 7.50</td></tr>\n",
              "\t<tr><td>15</td><td>0.25</td><td>3.74859</td><td> 3.75</td></tr>\n",
              "\t<tr><td>15</td><td>0.50</td><td>7.50473</td><td> 7.50</td></tr>\n",
              "\t<tr><td>15</td><td>0.75</td><td>11.25413</td><td>11.25</td></tr>\n",
              "</tbody>\n",
              "</table>\n"
            ],
            "text/markdown": "\nA tibble: 9 × 4\n\n| n &lt;dbl&gt; | p &lt;dbl&gt; | approx.mu &lt;list&gt; | exact.mu &lt;dbl&gt; |\n|---|---|---|---|\n|  5 | 0.25 | 1.24595 |  1.25 |\n|  5 | 0.50 | 2.50038 |  2.50 |\n|  5 | 0.75 | 3.74845 |  3.75 |\n| 10 | 0.25 | 2.49804 |  2.50 |\n| 10 | 0.50 | 4.99166 |  5.00 |\n| 10 | 0.75 | 7.50035 |  7.50 |\n| 15 | 0.25 | 3.74859 |  3.75 |\n| 15 | 0.50 | 7.50473 |  7.50 |\n| 15 | 0.75 | 11.25413 | 11.25 |\n\n",
            "text/latex": "A tibble: 9 × 4\n\\begin{tabular}{llll}\n n & p & approx.mu & exact.mu\\\\\n <dbl> & <dbl> & <list> & <dbl>\\\\\n\\hline\n\t  5 & 0.25 & 1.24595 &  1.25\\\\\n\t  5 & 0.50 & 2.50038 &  2.50\\\\\n\t  5 & 0.75 & 3.74845 &  3.75\\\\\n\t 10 & 0.25 & 2.49804 &  2.50\\\\\n\t 10 & 0.50 & 4.99166 &  5.00\\\\\n\t 10 & 0.75 & 7.50035 &  7.50\\\\\n\t 15 & 0.25 & 3.74859 &  3.75\\\\\n\t 15 & 0.50 & 7.50473 &  7.50\\\\\n\t 15 & 0.75 & 11.25413 & 11.25\\\\\n\\end{tabular}\n",
            "text/plain": [
              "  n  p    approx.mu exact.mu\n",
              "1  5 0.25 1.24595    1.25   \n",
              "2  5 0.50 2.50038    2.50   \n",
              "3  5 0.75 3.74845    3.75   \n",
              "4 10 0.25 2.49804    2.50   \n",
              "5 10 0.50 4.99166    5.00   \n",
              "6 10 0.75 7.50035    7.50   \n",
              "7 15 0.25 3.74859    3.75   \n",
              "8 15 0.50 7.50473    7.50   \n",
              "9 15 0.75 11.25413  11.25   "
            ]
          },
          "metadata": {}
        }
      ]
    },
    {
      "cell_type": "markdown",
      "source": [
        "### <font color=\"red\"> Exercise 2.5.2 </font>\n",
        "\n",
        "Suppose that we want to compare the cut off for the top 5% of a binomial data with $n\\in c\\{25, 50, 100\\}$ and $p\\in\\{0.25, 0.5, 0.75\\}$\n",
        "\n",
        "**Tasks.**\n",
        "1. Prototype the process by storing the raw outcomes in a list column, then processing with additional `pmap`/`map2`s,\n",
        "2. Verify the correctness of your code, and\n",
        "2. Compose all the intermediate steps to eliminate the need to store the raw outcomes."
      ],
      "metadata": {
        "id": "KAz-gYreoEHD"
      }
    },
    {
      "cell_type": "code",
      "source": [
        "# Your code here"
      ],
      "metadata": {
        "id": "GSVGCCTqoU4e"
      },
      "execution_count": null,
      "outputs": []
    }
  ]
}