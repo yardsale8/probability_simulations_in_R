{
  "nbformat": 4,
  "nbformat_minor": 0,
  "metadata": {
    "colab": {
      "provenance": [],
      "authorship_tag": "ABX9TyOXa9xPztrd3Y1ygyoVb0ag",
      "include_colab_link": true
    },
    "kernelspec": {
      "name": "ir",
      "display_name": "R"
    },
    "language_info": {
      "name": "R"
    }
  },
  "cells": [
    {
      "cell_type": "markdown",
      "metadata": {
        "id": "view-in-github",
        "colab_type": "text"
      },
      "source": [
        "<a href=\"https://colab.research.google.com/github/yardsale8/probability_simulations_in_R/blob/main/2_5_introduction_to_parametric_simulations.ipynb\" target=\"_parent\"><img src=\"https://colab.research.google.com/assets/colab-badge.svg\" alt=\"Open In Colab\"/></a>"
      ]
    },
    {
      "cell_type": "code",
      "execution_count": null,
      "metadata": {
        "id": "IpARyWPSi3ft"
      },
      "outputs": [],
      "source": [
        "library(tidyverse)\n",
        "library(devtools)\n",
        "install_github('yardsale8/purrrfect', force = TRUE)\n",
        "library(purrrfect)"
      ]
    },
    {
      "cell_type": "markdown",
      "source": [
        "# Introduction to Parametric Simulations\n",
        "\n",
        "This chapter we have been studying various discrete parametric distributions.  Sometimes we wish to explore the properties of such a distribution over a set of parameters, and in this case, we can use the `tidyverse` and `purrr` toolset to capture the results.\n",
        "\n",
        "## Outline\n",
        "\n",
        "1. Setting up the parameter space using `tribble`.\n",
        "2. Unnesting the parameters and adding trials.\n",
        "3. Mapping over the parameters using `pmap`\n",
        "4. Composing operations to save memory on large simulations.\n",
        "5. Parametric sampling."
      ],
      "metadata": {
        "id": "bERp6iQHjQhK"
      }
    },
    {
      "cell_type": "markdown",
      "source": [
        "## First Motivating Problem - One Variable Parameter\n",
        "\n",
        "<font color=\"aqua\">**Our Task.**.   </font> Suppose we wish to explore the effects of the sample size on the mean and variance of a binomial random variable when $p=0.5$.  \n",
        "\n",
        "<font color=\"aqua\">**The Problem.** </font> Our current approach would require a separate simulation/pipe for each sample size.\n",
        "\n",
        "<font color=\"aqua\">**The Solution.**</font> Store the sample sizes in our experimental notebook and use them as mapping inputs."
      ],
      "metadata": {
        "id": "2b8691h5kWnF"
      }
    },
    {
      "cell_type": "markdown",
      "source": [
        "### Three Approachs\n",
        "\n",
        "1. Stack the trials into a long table, transform, and then group and aggregate. <font size=\"1\">(optional, covered at the end of the notebook)</font>.\n",
        "2. Store the trials in a list column, then `map` transformations/aggregations.\n",
        "3. Compose all actions from **2.** into a single `map`"
      ],
      "metadata": {
        "id": "j78v_XCDdOCA"
      }
    },
    {
      "cell_type": "markdown",
      "source": [
        "## Performing a Parametric Simulation using a List Column\n",
        "\n",
        "In this variation of the simulation, we will\n",
        "1. Store all the trials for each parameter (or combination of parameters) in a single row.\n",
        "2. Use `map` or `pmap` to process those trials."
      ],
      "metadata": {
        "id": "cSmsQGJU2gzg"
      }
    },
    {
      "cell_type": "markdown",
      "source": [
        "### Defining the parameter space using a `parameters`\n",
        "\n",
        "1. Define all the names on the first row preceeded by `~`\n",
        "2. Define the respective collections on the second row, respectively."
      ],
      "metadata": {
        "id": "LcZiv_6-JZYa"
      }
    },
    {
      "cell_type": "code",
      "source": [
        "parameters(~n,\n",
        "         c(5,10,15))"
      ],
      "metadata": {
        "colab": {
          "base_uri": "https://localhost:8080/",
          "height": 224
        },
        "id": "1zl2zbcUJdyJ",
        "outputId": "49ec1cf5-7844-4745-e367-d5377dcb550a"
      },
      "execution_count": 2,
      "outputs": [
        {
          "output_type": "display_data",
          "data": {
            "text/html": [
              "<table class=\"dataframe\">\n",
              "<caption>A tibble: 3 × 1</caption>\n",
              "<thead>\n",
              "\t<tr><th scope=col>n</th></tr>\n",
              "\t<tr><th scope=col>&lt;dbl&gt;</th></tr>\n",
              "</thead>\n",
              "<tbody>\n",
              "\t<tr><td> 5</td></tr>\n",
              "\t<tr><td>10</td></tr>\n",
              "\t<tr><td>15</td></tr>\n",
              "</tbody>\n",
              "</table>\n"
            ],
            "text/markdown": "\nA tibble: 3 × 1\n\n| n &lt;dbl&gt; |\n|---|\n|  5 |\n| 10 |\n| 15 |\n\n",
            "text/latex": "A tibble: 3 × 1\n\\begin{tabular}{l}\n n\\\\\n <dbl>\\\\\n\\hline\n\t  5\\\\\n\t 10\\\\\n\t 15\\\\\n\\end{tabular}\n",
            "text/plain": [
              "  n \n",
              "1  5\n",
              "2 10\n",
              "3 15"
            ]
          },
          "metadata": {}
        }
      ]
    },
    {
      "cell_type": "markdown",
      "source": [
        "### The \"shape\" of a parametric simulation using a list column.\n",
        "\n",
        "1. Set up the parameter space using a `parameters`.\n",
        "2. Use `map` or `pmap` to generate a list column of trials.\n",
        "3. Use `map` or `pmap` to transform/summarize.\n",
        "4. Drop the outcome column."
      ],
      "metadata": {
        "id": "Rfm2oGDueBMC"
      }
    },
    {
      "cell_type": "code",
      "source": [
        "# Set up parameter space\n",
        "(parameters(~n,\n",
        "          c(5,10,15))\n",
        " )"
      ],
      "metadata": {
        "colab": {
          "base_uri": "https://localhost:8080/",
          "height": 224
        },
        "id": "PggSN76_enXC",
        "outputId": "2f4e45ab-6a71-46d4-c2fc-25276eeccf41"
      },
      "execution_count": 3,
      "outputs": [
        {
          "output_type": "display_data",
          "data": {
            "text/html": [
              "<table class=\"dataframe\">\n",
              "<caption>A tibble: 3 × 1</caption>\n",
              "<thead>\n",
              "\t<tr><th scope=col>n</th></tr>\n",
              "\t<tr><th scope=col>&lt;dbl&gt;</th></tr>\n",
              "</thead>\n",
              "<tbody>\n",
              "\t<tr><td> 5</td></tr>\n",
              "\t<tr><td>10</td></tr>\n",
              "\t<tr><td>15</td></tr>\n",
              "</tbody>\n",
              "</table>\n"
            ],
            "text/markdown": "\nA tibble: 3 × 1\n\n| n &lt;dbl&gt; |\n|---|\n|  5 |\n| 10 |\n| 15 |\n\n",
            "text/latex": "A tibble: 3 × 1\n\\begin{tabular}{l}\n n\\\\\n <dbl>\\\\\n\\hline\n\t  5\\\\\n\t 10\\\\\n\t 15\\\\\n\\end{tabular}\n",
            "text/plain": [
              "  n \n",
              "1  5\n",
              "2 10\n",
              "3 15"
            ]
          },
          "metadata": {}
        }
      ]
    },
    {
      "cell_type": "code",
      "source": [
        "# Use map to generate trials\n",
        "p <- 0.5\n",
        "num.trials <- 10\n",
        "(parameters(~n,\n",
        "         c(5,10,15))\n",
        " %>% mutate(.outcome = map(n, \\(n) rbinom(num.trials, n, p)),\n",
        "           )\n",
        " )"
      ],
      "metadata": {
        "colab": {
          "base_uri": "https://localhost:8080/",
          "height": 207
        },
        "id": "Ip6IeJT_o__h",
        "outputId": "068cccf8-c5ba-4e83-d492-b6f158620cb9"
      },
      "execution_count": 4,
      "outputs": [
        {
          "output_type": "display_data",
          "data": {
            "text/html": [
              "<table class=\"dataframe\">\n",
              "<caption>A tibble: 3 × 2</caption>\n",
              "<thead>\n",
              "\t<tr><th scope=col>n</th><th scope=col>.outcome</th></tr>\n",
              "\t<tr><th scope=col>&lt;dbl&gt;</th><th scope=col>&lt;list&gt;</th></tr>\n",
              "</thead>\n",
              "<tbody>\n",
              "\t<tr><td> 5</td><td>3, 2, 1, 2, 4, 3, 2, 3, 3, 3</td></tr>\n",
              "\t<tr><td>10</td><td>5, 5, 6, 5, 6, 5, 5, 5, 2, 6</td></tr>\n",
              "\t<tr><td>15</td><td>7, 8, 8, 10, 7, 8, 9, 7, 10, 8</td></tr>\n",
              "</tbody>\n",
              "</table>\n"
            ],
            "text/markdown": "\nA tibble: 3 × 2\n\n| n &lt;dbl&gt; | .outcome &lt;list&gt; |\n|---|---|\n|  5 | 3, 2, 1, 2, 4, 3, 2, 3, 3, 3 |\n| 10 | 5, 5, 6, 5, 6, 5, 5, 5, 2, 6 |\n| 15 | 7, 8, 8, 10, 7, 8, 9, 7, 10, 8 |\n\n",
            "text/latex": "A tibble: 3 × 2\n\\begin{tabular}{ll}\n n & .outcome\\\\\n <dbl> & <list>\\\\\n\\hline\n\t  5 & 3, 2, 1, 2, 4, 3, 2, 3, 3, 3\\\\\n\t 10 & 5, 5, 6, 5, 6, 5, 5, 5, 2, 6\\\\\n\t 15 & 7, 8, 8, 10, 7, 8, 9, 7, 10, 8\\\\\n\\end{tabular}\n",
            "text/plain": [
              "  n  .outcome                      \n",
              "1  5 3, 2, 1, 2, 4, 3, 2, 3, 3, 3  \n",
              "2 10 5, 5, 6, 5, 6, 5, 5, 5, 2, 6  \n",
              "3 15 7, 8, 8, 10, 7, 8, 9, 7, 10, 8"
            ]
          },
          "metadata": {}
        }
      ]
    },
    {
      "cell_type": "code",
      "source": [
        "# Transform/summarize\n",
        "p <- 0.5\n",
        "num.trials <- 10\n",
        "(parameters(~n,\n",
        "         c(5,10,15))\n",
        " %>% mutate(.outcome = map(n, \\(n) rbinom(num.trials, n, p)),\n",
        "            approx.mu = map_dbl(.outcome, mean),\n",
        "            exact.mu = n*p\n",
        "           )\n",
        " )"
      ],
      "metadata": {
        "colab": {
          "base_uri": "https://localhost:8080/",
          "height": 207
        },
        "id": "2X2WuhGaX8d7",
        "outputId": "0f7f9fae-f54f-42b6-cea4-c2d069588008"
      },
      "execution_count": 5,
      "outputs": [
        {
          "output_type": "display_data",
          "data": {
            "text/html": [
              "<table class=\"dataframe\">\n",
              "<caption>A tibble: 3 × 4</caption>\n",
              "<thead>\n",
              "\t<tr><th scope=col>n</th><th scope=col>.outcome</th><th scope=col>approx.mu</th><th scope=col>exact.mu</th></tr>\n",
              "\t<tr><th scope=col>&lt;dbl&gt;</th><th scope=col>&lt;list&gt;</th><th scope=col>&lt;dbl&gt;</th><th scope=col>&lt;dbl&gt;</th></tr>\n",
              "</thead>\n",
              "<tbody>\n",
              "\t<tr><td> 5</td><td>2, 3, 4, 3, 1, 3, 1, 0, 2, 2</td><td>2.1</td><td>2.5</td></tr>\n",
              "\t<tr><td>10</td><td>3, 4, 8, 5, 7, 7, 4, 5, 3, 5</td><td>5.1</td><td>5.0</td></tr>\n",
              "\t<tr><td>15</td><td>9, 6, 6, 9, 9, 6, 7, 9, 12, 6</td><td>7.9</td><td>7.5</td></tr>\n",
              "</tbody>\n",
              "</table>\n"
            ],
            "text/markdown": "\nA tibble: 3 × 4\n\n| n &lt;dbl&gt; | .outcome &lt;list&gt; | approx.mu &lt;dbl&gt; | exact.mu &lt;dbl&gt; |\n|---|---|---|---|\n|  5 | 2, 3, 4, 3, 1, 3, 1, 0, 2, 2 | 2.1 | 2.5 |\n| 10 | 3, 4, 8, 5, 7, 7, 4, 5, 3, 5 | 5.1 | 5.0 |\n| 15 | 9, 6, 6, 9, 9, 6, 7, 9, 12, 6 | 7.9 | 7.5 |\n\n",
            "text/latex": "A tibble: 3 × 4\n\\begin{tabular}{llll}\n n & .outcome & approx.mu & exact.mu\\\\\n <dbl> & <list> & <dbl> & <dbl>\\\\\n\\hline\n\t  5 & 2, 3, 4, 3, 1, 3, 1, 0, 2, 2 & 2.1 & 2.5\\\\\n\t 10 & 3, 4, 8, 5, 7, 7, 4, 5, 3, 5 & 5.1 & 5.0\\\\\n\t 15 & 9, 6, 6, 9, 9, 6, 7, 9, 12, 6 & 7.9 & 7.5\\\\\n\\end{tabular}\n",
            "text/plain": [
              "  n  .outcome                      approx.mu exact.mu\n",
              "1  5 2, 3, 4, 3, 1, 3, 1, 0, 2, 2  2.1       2.5     \n",
              "2 10 3, 4, 8, 5, 7, 7, 4, 5, 3, 5  5.1       5.0     \n",
              "3 15 9, 6, 6, 9, 9, 6, 7, 9, 12, 6 7.9       7.5     "
            ]
          },
          "metadata": {}
        }
      ]
    },
    {
      "cell_type": "code",
      "source": [
        "# Drop outcomes\n",
        "p <- 0.5\n",
        "num.trials <- 10\n",
        "(parameters(~n,\n",
        "            c(5,10,15))\n",
        " %>% mutate(.outcome = map(n, \\(n) rbinom(num.trials, n, 0.5)),\n",
        "            approx.mu = map_dbl(.outcome, mean),\n",
        "            exact.mu = n*p\n",
        "           )\n",
        " %>% select(-.outcome)\n",
        " )"
      ],
      "metadata": {
        "colab": {
          "base_uri": "https://localhost:8080/",
          "height": 207
        },
        "id": "eK5mSqPFe63G",
        "outputId": "e836abde-3263-4e14-dde6-dfa7d8a8729e"
      },
      "execution_count": 6,
      "outputs": [
        {
          "output_type": "display_data",
          "data": {
            "text/html": [
              "<table class=\"dataframe\">\n",
              "<caption>A tibble: 3 × 3</caption>\n",
              "<thead>\n",
              "\t<tr><th scope=col>n</th><th scope=col>approx.mu</th><th scope=col>exact.mu</th></tr>\n",
              "\t<tr><th scope=col>&lt;dbl&gt;</th><th scope=col>&lt;dbl&gt;</th><th scope=col>&lt;dbl&gt;</th></tr>\n",
              "</thead>\n",
              "<tbody>\n",
              "\t<tr><td> 5</td><td>2.7</td><td>2.5</td></tr>\n",
              "\t<tr><td>10</td><td>4.9</td><td>5.0</td></tr>\n",
              "\t<tr><td>15</td><td>8.1</td><td>7.5</td></tr>\n",
              "</tbody>\n",
              "</table>\n"
            ],
            "text/markdown": "\nA tibble: 3 × 3\n\n| n &lt;dbl&gt; | approx.mu &lt;dbl&gt; | exact.mu &lt;dbl&gt; |\n|---|---|---|\n|  5 | 2.7 | 2.5 |\n| 10 | 4.9 | 5.0 |\n| 15 | 8.1 | 7.5 |\n\n",
            "text/latex": "A tibble: 3 × 3\n\\begin{tabular}{lll}\n n & approx.mu & exact.mu\\\\\n <dbl> & <dbl> & <dbl>\\\\\n\\hline\n\t  5 & 2.7 & 2.5\\\\\n\t 10 & 4.9 & 5.0\\\\\n\t 15 & 8.1 & 7.5\\\\\n\\end{tabular}\n",
            "text/plain": [
              "  n  approx.mu exact.mu\n",
              "1  5 2.7       2.5     \n",
              "2 10 4.9       5.0     \n",
              "3 15 8.1       7.5     "
            ]
          },
          "metadata": {}
        }
      ]
    },
    {
      "cell_type": "code",
      "source": [
        "# Good estimate by bumping the num.trials\n",
        "p <- 0.5\n",
        "num.trials <- 100000\n",
        "(parameters(~n,\n",
        "          c(5,10,15))\n",
        " %>% mutate(.outcome = map(n, \\(n) rbinom(num.trials, n, 0.5)),\n",
        "            approx.mu = map_dbl(.outcome, mean),\n",
        "            exact.mu = n*p\n",
        "           )\n",
        " %>% select(-.outcome)\n",
        " )"
      ],
      "metadata": {
        "colab": {
          "base_uri": "https://localhost:8080/",
          "height": 207
        },
        "id": "L4pfXFp83AXA",
        "outputId": "29fa4cb2-6ac6-40e5-e38b-777cff7b692e"
      },
      "execution_count": 7,
      "outputs": [
        {
          "output_type": "display_data",
          "data": {
            "text/html": [
              "<table class=\"dataframe\">\n",
              "<caption>A tibble: 3 × 3</caption>\n",
              "<thead>\n",
              "\t<tr><th scope=col>n</th><th scope=col>approx.mu</th><th scope=col>exact.mu</th></tr>\n",
              "\t<tr><th scope=col>&lt;dbl&gt;</th><th scope=col>&lt;dbl&gt;</th><th scope=col>&lt;dbl&gt;</th></tr>\n",
              "</thead>\n",
              "<tbody>\n",
              "\t<tr><td> 5</td><td>2.49454</td><td>2.5</td></tr>\n",
              "\t<tr><td>10</td><td>4.99903</td><td>5.0</td></tr>\n",
              "\t<tr><td>15</td><td>7.51302</td><td>7.5</td></tr>\n",
              "</tbody>\n",
              "</table>\n"
            ],
            "text/markdown": "\nA tibble: 3 × 3\n\n| n &lt;dbl&gt; | approx.mu &lt;dbl&gt; | exact.mu &lt;dbl&gt; |\n|---|---|---|\n|  5 | 2.49454 | 2.5 |\n| 10 | 4.99903 | 5.0 |\n| 15 | 7.51302 | 7.5 |\n\n",
            "text/latex": "A tibble: 3 × 3\n\\begin{tabular}{lll}\n n & approx.mu & exact.mu\\\\\n <dbl> & <dbl> & <dbl>\\\\\n\\hline\n\t  5 & 2.49454 & 2.5\\\\\n\t 10 & 4.99903 & 5.0\\\\\n\t 15 & 7.51302 & 7.5\\\\\n\\end{tabular}\n",
            "text/plain": [
              "  n  approx.mu exact.mu\n",
              "1  5 2.49454   2.5     \n",
              "2 10 4.99903   5.0     \n",
              "3 15 7.51302   7.5     "
            ]
          },
          "metadata": {}
        }
      ]
    },
    {
      "cell_type": "markdown",
      "source": [
        "### The Advantage to using a list column of outcomes\n",
        "\n",
        "The advantage of storing the trials in a list column is\n",
        "1. All the information is self-contained and apparent, and\n",
        "2. Makes it easier to verify your code and debug."
      ],
      "metadata": {
        "id": "7l369rPIzyEg"
      }
    },
    {
      "cell_type": "code",
      "source": [
        "# Transform/summarize\n",
        "p <- 0.5\n",
        "num.trials <- 10\n",
        "(parameters(~n,\n",
        "            c(5,10,15))\n",
        " %>% mutate(.outcome = map(n, \\(n) rbinom(num.trials, n, 0.5)), # Easy to\n",
        "            approx.mu = map_dbl(.outcome, mean),                # verify\n",
        "            exact.mu = n*p                                      # correctness\n",
        "           )\n",
        " )"
      ],
      "metadata": {
        "colab": {
          "base_uri": "https://localhost:8080/",
          "height": 207
        },
        "id": "vMmwFq8XKI_6",
        "outputId": "1b3b31b4-8c54-4568-ec6c-81a2e68d88ee"
      },
      "execution_count": 8,
      "outputs": [
        {
          "output_type": "display_data",
          "data": {
            "text/html": [
              "<table class=\"dataframe\">\n",
              "<caption>A tibble: 3 × 4</caption>\n",
              "<thead>\n",
              "\t<tr><th scope=col>n</th><th scope=col>.outcome</th><th scope=col>approx.mu</th><th scope=col>exact.mu</th></tr>\n",
              "\t<tr><th scope=col>&lt;dbl&gt;</th><th scope=col>&lt;list&gt;</th><th scope=col>&lt;dbl&gt;</th><th scope=col>&lt;dbl&gt;</th></tr>\n",
              "</thead>\n",
              "<tbody>\n",
              "\t<tr><td> 5</td><td>3, 0, 4, 3, 3, 3, 1, 3, 5, 2</td><td>2.7</td><td>2.5</td></tr>\n",
              "\t<tr><td>10</td><td>4, 5, 3, 5, 3, 3, 6, 6, 4, 5</td><td>4.4</td><td>5.0</td></tr>\n",
              "\t<tr><td>15</td><td>7, 4, 8, 3, 6, 9, 7, 8, 7, 9</td><td>6.8</td><td>7.5</td></tr>\n",
              "</tbody>\n",
              "</table>\n"
            ],
            "text/markdown": "\nA tibble: 3 × 4\n\n| n &lt;dbl&gt; | .outcome &lt;list&gt; | approx.mu &lt;dbl&gt; | exact.mu &lt;dbl&gt; |\n|---|---|---|---|\n|  5 | 3, 0, 4, 3, 3, 3, 1, 3, 5, 2 | 2.7 | 2.5 |\n| 10 | 4, 5, 3, 5, 3, 3, 6, 6, 4, 5 | 4.4 | 5.0 |\n| 15 | 7, 4, 8, 3, 6, 9, 7, 8, 7, 9 | 6.8 | 7.5 |\n\n",
            "text/latex": "A tibble: 3 × 4\n\\begin{tabular}{llll}\n n & .outcome & approx.mu & exact.mu\\\\\n <dbl> & <list> & <dbl> & <dbl>\\\\\n\\hline\n\t  5 & 3, 0, 4, 3, 3, 3, 1, 3, 5, 2 & 2.7 & 2.5\\\\\n\t 10 & 4, 5, 3, 5, 3, 3, 6, 6, 4, 5 & 4.4 & 5.0\\\\\n\t 15 & 7, 4, 8, 3, 6, 9, 7, 8, 7, 9 & 6.8 & 7.5\\\\\n\\end{tabular}\n",
            "text/plain": [
              "  n  .outcome                     approx.mu exact.mu\n",
              "1  5 3, 0, 4, 3, 3, 3, 1, 3, 5, 2 2.7       2.5     \n",
              "2 10 4, 5, 3, 5, 3, 3, 6, 6, 4, 5 4.4       5.0     \n",
              "3 15 7, 4, 8, 3, 6, 9, 7, 8, 7, 9 6.8       7.5     "
            ]
          },
          "metadata": {}
        }
      ]
    },
    {
      "cell_type": "markdown",
      "source": [
        "### Two Problems with using a list column of outcomes\n",
        "\n",
        "Two problems with storing outcomes in a list column are\n",
        "\n",
        "#### 1. Displaying more than a few trials is a mess"
      ],
      "metadata": {
        "id": "pdhY8L_LfDDF"
      }
    },
    {
      "cell_type": "code",
      "source": [
        "# Slightly Better estimates\n",
        "num.trials <- 100\n",
        "(parameters(~n,\n",
        "            c(5,10,15))\n",
        " %>% mutate(.outcome = map(n, \\(n) rbinom(num.trials, n, 0.5)), # Yuck! So long!\n",
        "            approx.mu = map_dbl(.outcome, mean),\n",
        "            exact.mu = n*p\n",
        "           )\n",
        " )"
      ],
      "metadata": {
        "id": "1eH3GQ8To0CO",
        "colab": {
          "base_uri": "https://localhost:8080/",
          "height": 257
        },
        "outputId": "8a548248-a359-4bf3-8f55-251b7e482058"
      },
      "execution_count": 9,
      "outputs": [
        {
          "output_type": "display_data",
          "data": {
            "text/html": [
              "<table class=\"dataframe\">\n",
              "<caption>A tibble: 3 × 4</caption>\n",
              "<thead>\n",
              "\t<tr><th scope=col>n</th><th scope=col>.outcome</th><th scope=col>approx.mu</th><th scope=col>exact.mu</th></tr>\n",
              "\t<tr><th scope=col>&lt;dbl&gt;</th><th scope=col>&lt;list&gt;</th><th scope=col>&lt;dbl&gt;</th><th scope=col>&lt;dbl&gt;</th></tr>\n",
              "</thead>\n",
              "<tbody>\n",
              "\t<tr><td> 5</td><td>3, 3, 5, 3, 2, 3, 0, 2, 0, 4, 2, 1, 2, 4, 4, 3, 3, 3, 1, 3, 4, 2, 4, 3, 1, 2, 2, 3, 1, 3, 1, 1, 2, 2, 3, 2, 2, 2, 2, 2, 2, 3, 2, 2, 3, 1, 3, 3, 1, 4, 3, 3, 3, 1, 3, 5, 4, 2, 1, 2, 2, 2, 5, 5, 3, 5, 0, 3, 1, 3, 2, 3, 2, 0, 3, 4, 1, 3, 2, 4, 2, 3, 4, 3, 2, 1, 2, 4, 4, 0, 3, 3, 3, 2, 1, 3, 3, 1, 1, 3</td><td>2.47</td><td>2.5</td></tr>\n",
              "\t<tr><td>10</td><td>5, 5, 6, 4, 5, 7, 7, 5, 5, 5, 5, 7, 5, 5, 1, 4, 7, 2, 6, 3, 5, 5, 4, 7, 5, 4, 1, 4, 3, 4, 4, 5, 5, 4, 5, 4, 5, 3, 6, 4, 1, 4, 7, 3, 5, 4, 4, 4, 5, 4, 5, 6, 5, 5, 4, 5, 4, 5, 4, 5, 6, 5, 3, 6, 8, 2, 8, 6, 6, 5, 8, 6, 3, 5, 5, 5, 7, 7, 5, 5, 4, 6, 4, 7, 5, 7, 5, 5, 3, 5, 4, 6, 4, 9, 4, 4, 6, 0, 6, 5</td><td>4.85</td><td>5.0</td></tr>\n",
              "\t<tr><td>15</td><td>5, 7, 7, 9, 9, 11, 6, 8, 9, 9, 7, 8, 7, 6, 8, 6, 5, 8, 11, 8, 7, 8, 6, 6, 5, 6, 6, 13, 7, 4, 7, 7, 6, 11, 10, 6, 6, 7, 10, 10, 9, 8, 8, 4, 8, 6, 7, 7, 8, 7, 5, 7, 6, 9, 9, 8, 9, 9, 4, 7, 5, 10, 7, 9, 5, 8, 8, 8, 5, 6, 10, 3, 9, 10, 9, 9, 6, 11, 7, 8, 7, 8, 8, 6, 5, 10, 11, 8, 6, 5, 5, 3, 5, 6, 11, 9, 8, 5, 11, 9</td><td>7.46</td><td>7.5</td></tr>\n",
              "</tbody>\n",
              "</table>\n"
            ],
            "text/markdown": "\nA tibble: 3 × 4\n\n| n &lt;dbl&gt; | .outcome &lt;list&gt; | approx.mu &lt;dbl&gt; | exact.mu &lt;dbl&gt; |\n|---|---|---|---|\n|  5 | 3, 3, 5, 3, 2, 3, 0, 2, 0, 4, 2, 1, 2, 4, 4, 3, 3, 3, 1, 3, 4, 2, 4, 3, 1, 2, 2, 3, 1, 3, 1, 1, 2, 2, 3, 2, 2, 2, 2, 2, 2, 3, 2, 2, 3, 1, 3, 3, 1, 4, 3, 3, 3, 1, 3, 5, 4, 2, 1, 2, 2, 2, 5, 5, 3, 5, 0, 3, 1, 3, 2, 3, 2, 0, 3, 4, 1, 3, 2, 4, 2, 3, 4, 3, 2, 1, 2, 4, 4, 0, 3, 3, 3, 2, 1, 3, 3, 1, 1, 3 | 2.47 | 2.5 |\n| 10 | 5, 5, 6, 4, 5, 7, 7, 5, 5, 5, 5, 7, 5, 5, 1, 4, 7, 2, 6, 3, 5, 5, 4, 7, 5, 4, 1, 4, 3, 4, 4, 5, 5, 4, 5, 4, 5, 3, 6, 4, 1, 4, 7, 3, 5, 4, 4, 4, 5, 4, 5, 6, 5, 5, 4, 5, 4, 5, 4, 5, 6, 5, 3, 6, 8, 2, 8, 6, 6, 5, 8, 6, 3, 5, 5, 5, 7, 7, 5, 5, 4, 6, 4, 7, 5, 7, 5, 5, 3, 5, 4, 6, 4, 9, 4, 4, 6, 0, 6, 5 | 4.85 | 5.0 |\n| 15 | 5, 7, 7, 9, 9, 11, 6, 8, 9, 9, 7, 8, 7, 6, 8, 6, 5, 8, 11, 8, 7, 8, 6, 6, 5, 6, 6, 13, 7, 4, 7, 7, 6, 11, 10, 6, 6, 7, 10, 10, 9, 8, 8, 4, 8, 6, 7, 7, 8, 7, 5, 7, 6, 9, 9, 8, 9, 9, 4, 7, 5, 10, 7, 9, 5, 8, 8, 8, 5, 6, 10, 3, 9, 10, 9, 9, 6, 11, 7, 8, 7, 8, 8, 6, 5, 10, 11, 8, 6, 5, 5, 3, 5, 6, 11, 9, 8, 5, 11, 9 | 7.46 | 7.5 |\n\n",
            "text/latex": "A tibble: 3 × 4\n\\begin{tabular}{llll}\n n & .outcome & approx.mu & exact.mu\\\\\n <dbl> & <list> & <dbl> & <dbl>\\\\\n\\hline\n\t  5 & 3, 3, 5, 3, 2, 3, 0, 2, 0, 4, 2, 1, 2, 4, 4, 3, 3, 3, 1, 3, 4, 2, 4, 3, 1, 2, 2, 3, 1, 3, 1, 1, 2, 2, 3, 2, 2, 2, 2, 2, 2, 3, 2, 2, 3, 1, 3, 3, 1, 4, 3, 3, 3, 1, 3, 5, 4, 2, 1, 2, 2, 2, 5, 5, 3, 5, 0, 3, 1, 3, 2, 3, 2, 0, 3, 4, 1, 3, 2, 4, 2, 3, 4, 3, 2, 1, 2, 4, 4, 0, 3, 3, 3, 2, 1, 3, 3, 1, 1, 3 & 2.47 & 2.5\\\\\n\t 10 & 5, 5, 6, 4, 5, 7, 7, 5, 5, 5, 5, 7, 5, 5, 1, 4, 7, 2, 6, 3, 5, 5, 4, 7, 5, 4, 1, 4, 3, 4, 4, 5, 5, 4, 5, 4, 5, 3, 6, 4, 1, 4, 7, 3, 5, 4, 4, 4, 5, 4, 5, 6, 5, 5, 4, 5, 4, 5, 4, 5, 6, 5, 3, 6, 8, 2, 8, 6, 6, 5, 8, 6, 3, 5, 5, 5, 7, 7, 5, 5, 4, 6, 4, 7, 5, 7, 5, 5, 3, 5, 4, 6, 4, 9, 4, 4, 6, 0, 6, 5 & 4.85 & 5.0\\\\\n\t 15 & 5, 7, 7, 9, 9, 11, 6, 8, 9, 9, 7, 8, 7, 6, 8, 6, 5, 8, 11, 8, 7, 8, 6, 6, 5, 6, 6, 13, 7, 4, 7, 7, 6, 11, 10, 6, 6, 7, 10, 10, 9, 8, 8, 4, 8, 6, 7, 7, 8, 7, 5, 7, 6, 9, 9, 8, 9, 9, 4, 7, 5, 10, 7, 9, 5, 8, 8, 8, 5, 6, 10, 3, 9, 10, 9, 9, 6, 11, 7, 8, 7, 8, 8, 6, 5, 10, 11, 8, 6, 5, 5, 3, 5, 6, 11, 9, 8, 5, 11, 9 & 7.46 & 7.5\\\\\n\\end{tabular}\n",
            "text/plain": [
              "  n \n",
              "1  5\n",
              "2 10\n",
              "3 15\n",
              "  .outcome                                                                                                                                                                                                                                                                                                                 \n",
              "1 3, 3, 5, 3, 2, 3, 0, 2, 0, 4, 2, 1, 2, 4, 4, 3, 3, 3, 1, 3, 4, 2, 4, 3, 1, 2, 2, 3, 1, 3, 1, 1, 2, 2, 3, 2, 2, 2, 2, 2, 2, 3, 2, 2, 3, 1, 3, 3, 1, 4, 3, 3, 3, 1, 3, 5, 4, 2, 1, 2, 2, 2, 5, 5, 3, 5, 0, 3, 1, 3, 2, 3, 2, 0, 3, 4, 1, 3, 2, 4, 2, 3, 4, 3, 2, 1, 2, 4, 4, 0, 3, 3, 3, 2, 1, 3, 3, 1, 1, 3               \n",
              "2 5, 5, 6, 4, 5, 7, 7, 5, 5, 5, 5, 7, 5, 5, 1, 4, 7, 2, 6, 3, 5, 5, 4, 7, 5, 4, 1, 4, 3, 4, 4, 5, 5, 4, 5, 4, 5, 3, 6, 4, 1, 4, 7, 3, 5, 4, 4, 4, 5, 4, 5, 6, 5, 5, 4, 5, 4, 5, 4, 5, 6, 5, 3, 6, 8, 2, 8, 6, 6, 5, 8, 6, 3, 5, 5, 5, 7, 7, 5, 5, 4, 6, 4, 7, 5, 7, 5, 5, 3, 5, 4, 6, 4, 9, 4, 4, 6, 0, 6, 5               \n",
              "3 5, 7, 7, 9, 9, 11, 6, 8, 9, 9, 7, 8, 7, 6, 8, 6, 5, 8, 11, 8, 7, 8, 6, 6, 5, 6, 6, 13, 7, 4, 7, 7, 6, 11, 10, 6, 6, 7, 10, 10, 9, 8, 8, 4, 8, 6, 7, 7, 8, 7, 5, 7, 6, 9, 9, 8, 9, 9, 4, 7, 5, 10, 7, 9, 5, 8, 8, 8, 5, 6, 10, 3, 9, 10, 9, 9, 6, 11, 7, 8, 7, 8, 8, 6, 5, 10, 11, 8, 6, 5, 5, 3, 5, 6, 11, 9, 8, 5, 11, 9\n",
              "  approx.mu exact.mu\n",
              "1 2.47      2.5     \n",
              "2 4.85      5.0     \n",
              "3 7.46      7.5     "
            ]
          },
          "metadata": {}
        }
      ]
    },
    {
      "cell_type": "markdown",
      "source": [
        "#### 2. We are storing a *lot* of data during most intermediate steps."
      ],
      "metadata": {
        "id": "qaojFMGCfahw"
      }
    },
    {
      "cell_type": "code",
      "source": [
        "# Drop outcomes\n",
        "num.trials <- 100000 # Start adding zeros and see what happens\n",
        "(parameters(~n,\n",
        "            c(5,10,15))\n",
        " %>% mutate(.outcome = map(n, \\(n) rbinom(num.trials, n, 0.5)), # <== Lots of data/memory used\n",
        "            approx.mu = map_dbl(.outcome, mean),\n",
        "            exact.mu = n*p\n",
        "           )\n",
        " %>% select(-.outcome)\n",
        " )"
      ],
      "metadata": {
        "colab": {
          "base_uri": "https://localhost:8080/",
          "height": 207
        },
        "id": "xqF_BxSGfib-",
        "outputId": "7215aaf4-c5c3-4afa-9c7b-572de04c989d"
      },
      "execution_count": 10,
      "outputs": [
        {
          "output_type": "display_data",
          "data": {
            "text/html": [
              "<table class=\"dataframe\">\n",
              "<caption>A tibble: 3 × 3</caption>\n",
              "<thead>\n",
              "\t<tr><th scope=col>n</th><th scope=col>approx.mu</th><th scope=col>exact.mu</th></tr>\n",
              "\t<tr><th scope=col>&lt;dbl&gt;</th><th scope=col>&lt;dbl&gt;</th><th scope=col>&lt;dbl&gt;</th></tr>\n",
              "</thead>\n",
              "<tbody>\n",
              "\t<tr><td> 5</td><td>2.50094</td><td>2.5</td></tr>\n",
              "\t<tr><td>10</td><td>5.00655</td><td>5.0</td></tr>\n",
              "\t<tr><td>15</td><td>7.50234</td><td>7.5</td></tr>\n",
              "</tbody>\n",
              "</table>\n"
            ],
            "text/markdown": "\nA tibble: 3 × 3\n\n| n &lt;dbl&gt; | approx.mu &lt;dbl&gt; | exact.mu &lt;dbl&gt; |\n|---|---|---|\n|  5 | 2.50094 | 2.5 |\n| 10 | 5.00655 | 5.0 |\n| 15 | 7.50234 | 7.5 |\n\n",
            "text/latex": "A tibble: 3 × 3\n\\begin{tabular}{lll}\n n & approx.mu & exact.mu\\\\\n <dbl> & <dbl> & <dbl>\\\\\n\\hline\n\t  5 & 2.50094 & 2.5\\\\\n\t 10 & 5.00655 & 5.0\\\\\n\t 15 & 7.50234 & 7.5\\\\\n\\end{tabular}\n",
            "text/plain": [
              "  n  approx.mu exact.mu\n",
              "1  5 2.50094   2.5     \n",
              "2 10 5.00655   5.0     \n",
              "3 15 7.50234   7.5     "
            ]
          },
          "metadata": {}
        }
      ]
    },
    {
      "cell_type": "markdown",
      "source": [
        "### The Solution\n",
        "\n",
        "The solution is to\n",
        "\n",
        "1. Prototype the code using a separate list column of outcomes,\n",
        "2. Verify the correctness of your code, then\n",
        "2. Compose the steps into a single function"
      ],
      "metadata": {
        "id": "PPp2luczfwFs"
      }
    },
    {
      "cell_type": "markdown",
      "source": [
        "## The \"shape\" of a composed parametric simulation\n",
        "\n",
        "1. Set up the parameter space using a `parameters`.\n",
        "2. Use one `map` or `pmap` to perform the entire process, usually by piping each intermediate result into the next function."
      ],
      "metadata": {
        "id": "8xITik_m1KY_"
      }
    },
    {
      "cell_type": "code",
      "source": [
        "# First prototype WITH the outcome column\n",
        "p <- 0.5\n",
        "num.trials <- 10\n",
        "(parameters(~n,\n",
        "            c(5,10,15))\n",
        " %>% mutate(.outcome = map(n, \\(n) rbinom(num.trials, n, 0.5)), # Easy to\n",
        "            approx.mu = map_dbl(.outcome, mean),                # verify\n",
        "            exact.mu = n*p                                      # correctness\n",
        "           )\n",
        " )"
      ],
      "metadata": {
        "colab": {
          "base_uri": "https://localhost:8080/",
          "height": 207
        },
        "id": "yC7TOR5yKeWH",
        "outputId": "c1207a31-db6a-4294-8bad-50bc5aa8782c"
      },
      "execution_count": 11,
      "outputs": [
        {
          "output_type": "display_data",
          "data": {
            "text/html": [
              "<table class=\"dataframe\">\n",
              "<caption>A tibble: 3 × 4</caption>\n",
              "<thead>\n",
              "\t<tr><th scope=col>n</th><th scope=col>.outcome</th><th scope=col>approx.mu</th><th scope=col>exact.mu</th></tr>\n",
              "\t<tr><th scope=col>&lt;dbl&gt;</th><th scope=col>&lt;list&gt;</th><th scope=col>&lt;dbl&gt;</th><th scope=col>&lt;dbl&gt;</th></tr>\n",
              "</thead>\n",
              "<tbody>\n",
              "\t<tr><td> 5</td><td>1, 2, 3, 4, 2, 3, 5, 3, 4, 2</td><td>2.9</td><td>2.5</td></tr>\n",
              "\t<tr><td>10</td><td>7, 2, 6, 6, 5, 8, 4, 4, 6, 6</td><td>5.4</td><td>5.0</td></tr>\n",
              "\t<tr><td>15</td><td>7, 6, 8, 5, 8, 10, 7, 4, 4, 8</td><td>6.7</td><td>7.5</td></tr>\n",
              "</tbody>\n",
              "</table>\n"
            ],
            "text/markdown": "\nA tibble: 3 × 4\n\n| n &lt;dbl&gt; | .outcome &lt;list&gt; | approx.mu &lt;dbl&gt; | exact.mu &lt;dbl&gt; |\n|---|---|---|---|\n|  5 | 1, 2, 3, 4, 2, 3, 5, 3, 4, 2 | 2.9 | 2.5 |\n| 10 | 7, 2, 6, 6, 5, 8, 4, 4, 6, 6 | 5.4 | 5.0 |\n| 15 | 7, 6, 8, 5, 8, 10, 7, 4, 4, 8 | 6.7 | 7.5 |\n\n",
            "text/latex": "A tibble: 3 × 4\n\\begin{tabular}{llll}\n n & .outcome & approx.mu & exact.mu\\\\\n <dbl> & <list> & <dbl> & <dbl>\\\\\n\\hline\n\t  5 & 1, 2, 3, 4, 2, 3, 5, 3, 4, 2 & 2.9 & 2.5\\\\\n\t 10 & 7, 2, 6, 6, 5, 8, 4, 4, 6, 6 & 5.4 & 5.0\\\\\n\t 15 & 7, 6, 8, 5, 8, 10, 7, 4, 4, 8 & 6.7 & 7.5\\\\\n\\end{tabular}\n",
            "text/plain": [
              "  n  .outcome                      approx.mu exact.mu\n",
              "1  5 1, 2, 3, 4, 2, 3, 5, 3, 4, 2  2.9       2.5     \n",
              "2 10 7, 2, 6, 6, 5, 8, 4, 4, 6, 6  5.4       5.0     \n",
              "3 15 7, 6, 8, 5, 8, 10, 7, 4, 4, 8 6.7       7.5     "
            ]
          },
          "metadata": {}
        }
      ]
    },
    {
      "cell_type": "code",
      "source": [
        "# Second ... Compose!\n",
        "num.trials <- 100\n",
        "(parameters(~n,\n",
        "            c(5,10,15))\n",
        " %>% mutate(approx.mu = map_dbl(n, \\(n) (rbinom(num.trials, n, 0.5)\n",
        "                                        %>% mean)),\n",
        "            exact.mu = n*p\n",
        "           )\n",
        ")"
      ],
      "metadata": {
        "colab": {
          "base_uri": "https://localhost:8080/",
          "height": 207
        },
        "id": "qheMv78q9Qmc",
        "outputId": "daa2dd20-3bf4-485c-a7a3-dfdf0a31c037"
      },
      "execution_count": 12,
      "outputs": [
        {
          "output_type": "display_data",
          "data": {
            "text/html": [
              "<table class=\"dataframe\">\n",
              "<caption>A tibble: 3 × 3</caption>\n",
              "<thead>\n",
              "\t<tr><th scope=col>n</th><th scope=col>approx.mu</th><th scope=col>exact.mu</th></tr>\n",
              "\t<tr><th scope=col>&lt;dbl&gt;</th><th scope=col>&lt;dbl&gt;</th><th scope=col>&lt;dbl&gt;</th></tr>\n",
              "</thead>\n",
              "<tbody>\n",
              "\t<tr><td> 5</td><td>2.25</td><td>2.5</td></tr>\n",
              "\t<tr><td>10</td><td>5.32</td><td>5.0</td></tr>\n",
              "\t<tr><td>15</td><td>7.53</td><td>7.5</td></tr>\n",
              "</tbody>\n",
              "</table>\n"
            ],
            "text/markdown": "\nA tibble: 3 × 3\n\n| n &lt;dbl&gt; | approx.mu &lt;dbl&gt; | exact.mu &lt;dbl&gt; |\n|---|---|---|\n|  5 | 2.25 | 2.5 |\n| 10 | 5.32 | 5.0 |\n| 15 | 7.53 | 7.5 |\n\n",
            "text/latex": "A tibble: 3 × 3\n\\begin{tabular}{lll}\n n & approx.mu & exact.mu\\\\\n <dbl> & <dbl> & <dbl>\\\\\n\\hline\n\t  5 & 2.25 & 2.5\\\\\n\t 10 & 5.32 & 5.0\\\\\n\t 15 & 7.53 & 7.5\\\\\n\\end{tabular}\n",
            "text/plain": [
              "  n  approx.mu exact.mu\n",
              "1  5 2.25      2.5     \n",
              "2 10 5.32      5.0     \n",
              "3 15 7.53      7.5     "
            ]
          },
          "metadata": {}
        }
      ]
    },
    {
      "cell_type": "markdown",
      "source": [
        "### When can you compose?\n",
        "\n",
        "When each step is saved, then immediately used on the next step."
      ],
      "metadata": {
        "id": "LE_CRi0u0Oqk"
      }
    },
    {
      "cell_type": "markdown",
      "source": [
        "#### Tracking the data\n",
        "\n",
        "Here the raw trials are saved as `.outcome`, which is then used as input on the next mutate."
      ],
      "metadata": {
        "id": "kqqlhKR9wEZC"
      }
    },
    {
      "cell_type": "code",
      "source": [
        "num.trials <- 10\n",
        "(parameters(~n,\n",
        "            c(5,10,15))# ───────┐\n",
        " %>% mutate(.outcome = map(n, \\(n) rbinom(num.trials, n, 0.5)),\n",
        "            # │  └─────────────────────┘\n",
        "            # └────────────────────┐\n",
        "            approx.mu = map_dbl(.outcome, mean),\n",
        "            #   │                  └──────┘ │\n",
        "            #   └───────────────────────────┘\n",
        "            exact.mu = n*p\n",
        "           )\n",
        " %>% select(-.outcome)\n",
        " )"
      ],
      "metadata": {
        "id": "cmlHoKpKwCwr",
        "colab": {
          "base_uri": "https://localhost:8080/",
          "height": 207
        },
        "outputId": "7b02fa0c-e789-47e0-b38e-4311ef5fc7a3"
      },
      "execution_count": 13,
      "outputs": [
        {
          "output_type": "display_data",
          "data": {
            "text/html": [
              "<table class=\"dataframe\">\n",
              "<caption>A tibble: 3 × 3</caption>\n",
              "<thead>\n",
              "\t<tr><th scope=col>n</th><th scope=col>approx.mu</th><th scope=col>exact.mu</th></tr>\n",
              "\t<tr><th scope=col>&lt;dbl&gt;</th><th scope=col>&lt;dbl&gt;</th><th scope=col>&lt;dbl&gt;</th></tr>\n",
              "</thead>\n",
              "<tbody>\n",
              "\t<tr><td> 5</td><td>2.7</td><td>2.5</td></tr>\n",
              "\t<tr><td>10</td><td>3.7</td><td>5.0</td></tr>\n",
              "\t<tr><td>15</td><td>7.0</td><td>7.5</td></tr>\n",
              "</tbody>\n",
              "</table>\n"
            ],
            "text/markdown": "\nA tibble: 3 × 3\n\n| n &lt;dbl&gt; | approx.mu &lt;dbl&gt; | exact.mu &lt;dbl&gt; |\n|---|---|---|\n|  5 | 2.7 | 2.5 |\n| 10 | 3.7 | 5.0 |\n| 15 | 7.0 | 7.5 |\n\n",
            "text/latex": "A tibble: 3 × 3\n\\begin{tabular}{lll}\n n & approx.mu & exact.mu\\\\\n <dbl> & <dbl> & <dbl>\\\\\n\\hline\n\t  5 & 2.7 & 2.5\\\\\n\t 10 & 3.7 & 5.0\\\\\n\t 15 & 7.0 & 7.5\\\\\n\\end{tabular}\n",
            "text/plain": [
              "  n  approx.mu exact.mu\n",
              "1  5 2.7       2.5     \n",
              "2 10 3.7       5.0     \n",
              "3 15 7.0       7.5     "
            ]
          },
          "metadata": {}
        }
      ]
    },
    {
      "cell_type": "markdown",
      "source": [
        "#### Tracking the data\n",
        "\n",
        "Instead of saving the intermediate result (i.e., the raw output) we can simply pipe it into the next action."
      ],
      "metadata": {
        "id": "iAdqkzSgyVl0"
      }
    },
    {
      "cell_type": "code",
      "source": [
        "# Compose!\n",
        "num.trials <- 100\n",
        "(parameters(~n,\n",
        "            c(5,10,15))# ────────────┐\n",
        " %>% mutate(approx.mu = map_dbl(n, \\(n) (rbinom(num.trials, n, 0.5)\n",
        "          #   │                              │\n",
        "                                        %>% mean)),\n",
        "          #   └──────────────────────────────┘\n",
        "            exact.mu = n*p)\n",
        "           )\n"
      ],
      "metadata": {
        "id": "bTl3-uzF9vpc",
        "colab": {
          "base_uri": "https://localhost:8080/",
          "height": 207
        },
        "outputId": "0797dce6-07b6-4001-9651-493b98b4b855"
      },
      "execution_count": 14,
      "outputs": [
        {
          "output_type": "display_data",
          "data": {
            "text/html": [
              "<table class=\"dataframe\">\n",
              "<caption>A tibble: 3 × 3</caption>\n",
              "<thead>\n",
              "\t<tr><th scope=col>n</th><th scope=col>approx.mu</th><th scope=col>exact.mu</th></tr>\n",
              "\t<tr><th scope=col>&lt;dbl&gt;</th><th scope=col>&lt;dbl&gt;</th><th scope=col>&lt;dbl&gt;</th></tr>\n",
              "</thead>\n",
              "<tbody>\n",
              "\t<tr><td> 5</td><td>2.63</td><td>2.5</td></tr>\n",
              "\t<tr><td>10</td><td>4.89</td><td>5.0</td></tr>\n",
              "\t<tr><td>15</td><td>7.63</td><td>7.5</td></tr>\n",
              "</tbody>\n",
              "</table>\n"
            ],
            "text/markdown": "\nA tibble: 3 × 3\n\n| n &lt;dbl&gt; | approx.mu &lt;dbl&gt; | exact.mu &lt;dbl&gt; |\n|---|---|---|\n|  5 | 2.63 | 2.5 |\n| 10 | 4.89 | 5.0 |\n| 15 | 7.63 | 7.5 |\n\n",
            "text/latex": "A tibble: 3 × 3\n\\begin{tabular}{lll}\n n & approx.mu & exact.mu\\\\\n <dbl> & <dbl> & <dbl>\\\\\n\\hline\n\t  5 & 2.63 & 2.5\\\\\n\t 10 & 4.89 & 5.0\\\\\n\t 15 & 7.63 & 7.5\\\\\n\\end{tabular}\n",
            "text/plain": [
              "  n  approx.mu exact.mu\n",
              "1  5 2.63      2.5     \n",
              "2 10 4.89      5.0     \n",
              "3 15 7.63      7.5     "
            ]
          },
          "metadata": {}
        }
      ]
    },
    {
      "cell_type": "markdown",
      "source": [
        "### <font color=\"red\"> Exercise 2.5.1 </font>\n",
        "\n",
        "Suppose that we want to compare the cut off for the top 5% of a binomial data with $n = 100$ and $p\\in\\{0.25, 0.5, 0.75\\}\n",
        "\n",
        "**Tasks.**\n",
        "1. Prototype the process by storing the raw outcomes in a list column, then processing with additional `map`s,\n",
        "2. Verify the correctness of your code, and\n",
        "2. Compose all the intermediate steps to eliminate the need to store the raw outcomes."
      ],
      "metadata": {
        "id": "t1oDP7Cp3pQP"
      }
    },
    {
      "cell_type": "code",
      "source": [
        "# Your code here."
      ],
      "metadata": {
        "id": "mhvK2pjV4Xv1"
      },
      "execution_count": null,
      "outputs": []
    },
    {
      "cell_type": "markdown",
      "source": [
        "## Parametric Simulations with more than one parameter\n",
        "\n",
        "A similar process can be used to simulate a scenario where two or more parameters vary across the experiment.  Depending on the scenario, we will\n",
        "1. **Two parameters.** Use either `map2` or `pmap` to generate the raw outcomes.\n",
        "2. **Three+ parameters.** Use `pmap` to generate the raw outcomes."
      ],
      "metadata": {
        "id": "C8n3DxWs4buy"
      }
    },
    {
      "cell_type": "markdown",
      "source": [
        "### Example 2 - Investigate the mean part 2\n",
        "\n",
        "Now suppose we want to investigate the mean of the binomial distribution for all combinations of $n\\in\\{5,10,15\\}$ and $p\\in\\{0.25, 0.5, 0.74\\}$.  "
      ],
      "metadata": {
        "id": "vj0l0oZE5EZ1"
      }
    },
    {
      "cell_type": "markdown",
      "source": [
        "#### Step 1.  Define the parameter space"
      ],
      "metadata": {
        "id": "E3Nvf1D8LWxA"
      }
    },
    {
      "cell_type": "code",
      "source": [
        "# Define the parameter space\n",
        "parameters(~n,         ~p,\n",
        "           c(5,10,15), c(0.25, 0.5, 0.75))"
      ],
      "metadata": {
        "colab": {
          "base_uri": "https://localhost:8080/",
          "height": 391
        },
        "id": "EstQSykN5dSg",
        "outputId": "b0959e6a-5c81-4a4c-e885-550369bd7f4f"
      },
      "execution_count": 15,
      "outputs": [
        {
          "output_type": "display_data",
          "data": {
            "text/html": [
              "<table class=\"dataframe\">\n",
              "<caption>A tibble: 9 × 2</caption>\n",
              "<thead>\n",
              "\t<tr><th scope=col>n</th><th scope=col>p</th></tr>\n",
              "\t<tr><th scope=col>&lt;dbl&gt;</th><th scope=col>&lt;dbl&gt;</th></tr>\n",
              "</thead>\n",
              "<tbody>\n",
              "\t<tr><td> 5</td><td>0.25</td></tr>\n",
              "\t<tr><td> 5</td><td>0.50</td></tr>\n",
              "\t<tr><td> 5</td><td>0.75</td></tr>\n",
              "\t<tr><td>10</td><td>0.25</td></tr>\n",
              "\t<tr><td>10</td><td>0.50</td></tr>\n",
              "\t<tr><td>10</td><td>0.75</td></tr>\n",
              "\t<tr><td>15</td><td>0.25</td></tr>\n",
              "\t<tr><td>15</td><td>0.50</td></tr>\n",
              "\t<tr><td>15</td><td>0.75</td></tr>\n",
              "</tbody>\n",
              "</table>\n"
            ],
            "text/markdown": "\nA tibble: 9 × 2\n\n| n &lt;dbl&gt; | p &lt;dbl&gt; |\n|---|---|\n|  5 | 0.25 |\n|  5 | 0.50 |\n|  5 | 0.75 |\n| 10 | 0.25 |\n| 10 | 0.50 |\n| 10 | 0.75 |\n| 15 | 0.25 |\n| 15 | 0.50 |\n| 15 | 0.75 |\n\n",
            "text/latex": "A tibble: 9 × 2\n\\begin{tabular}{ll}\n n & p\\\\\n <dbl> & <dbl>\\\\\n\\hline\n\t  5 & 0.25\\\\\n\t  5 & 0.50\\\\\n\t  5 & 0.75\\\\\n\t 10 & 0.25\\\\\n\t 10 & 0.50\\\\\n\t 10 & 0.75\\\\\n\t 15 & 0.25\\\\\n\t 15 & 0.50\\\\\n\t 15 & 0.75\\\\\n\\end{tabular}\n",
            "text/plain": [
              "  n  p   \n",
              "1  5 0.25\n",
              "2  5 0.50\n",
              "3  5 0.75\n",
              "4 10 0.25\n",
              "5 10 0.50\n",
              "6 10 0.75\n",
              "7 15 0.25\n",
              "8 15 0.50\n",
              "9 15 0.75"
            ]
          },
          "metadata": {}
        }
      ]
    },
    {
      "cell_type": "markdown",
      "source": [
        "#### Step 2.  Generate outcomes with `map2`"
      ],
      "metadata": {
        "id": "c5slUEwQLe1W"
      }
    },
    {
      "cell_type": "code",
      "source": [
        "# Version 1 - Use map2 to generate the data\n",
        "num.trials <- 10\n",
        "(parameters(~n,         ~p,\n",
        "            c(5,10,15), c(0.25, 0.5, 0.75))\n",
        " %>% mutate(.outcome = map2(n, p, \\(n, p) rbinom(num.trials, n, p)))\n",
        " )"
      ],
      "metadata": {
        "colab": {
          "base_uri": "https://localhost:8080/",
          "height": 391
        },
        "id": "LkwJMv_66CHs",
        "outputId": "91bae95b-a158-4d58-f7fd-1a19fa29b108"
      },
      "execution_count": 16,
      "outputs": [
        {
          "output_type": "display_data",
          "data": {
            "text/html": [
              "<table class=\"dataframe\">\n",
              "<caption>A tibble: 9 × 3</caption>\n",
              "<thead>\n",
              "\t<tr><th scope=col>n</th><th scope=col>p</th><th scope=col>.outcome</th></tr>\n",
              "\t<tr><th scope=col>&lt;dbl&gt;</th><th scope=col>&lt;dbl&gt;</th><th scope=col>&lt;list&gt;</th></tr>\n",
              "</thead>\n",
              "<tbody>\n",
              "\t<tr><td> 5</td><td>0.25</td><td>1, 1, 0, 1, 0, 0, 2, 0, 1, 0</td></tr>\n",
              "\t<tr><td> 5</td><td>0.50</td><td>3, 2, 2, 0, 2, 2, 1, 4, 3, 2</td></tr>\n",
              "\t<tr><td> 5</td><td>0.75</td><td>4, 3, 4, 3, 4, 4, 3, 5, 5, 5</td></tr>\n",
              "\t<tr><td>10</td><td>0.25</td><td>5, 2, 1, 2, 2, 1, 3, 3, 5, 1</td></tr>\n",
              "\t<tr><td>10</td><td>0.50</td><td>2, 7, 2, 5, 4, 6, 8, 5, 3, 6</td></tr>\n",
              "\t<tr><td>10</td><td>0.75</td><td>8, 9, 9, 7, 9, 6, 8, 7, 4, 7</td></tr>\n",
              "\t<tr><td>15</td><td>0.25</td><td>3, 3, 2, 4, 2, 3, 4, 4, 4, 9</td></tr>\n",
              "\t<tr><td>15</td><td>0.50</td><td>9, 9, 9, 9, 3, 4, 7, 9, 9, 9</td></tr>\n",
              "\t<tr><td>15</td><td>0.75</td><td>9, 11, 11, 13, 10, 13, 10, 9, 11, 11</td></tr>\n",
              "</tbody>\n",
              "</table>\n"
            ],
            "text/markdown": "\nA tibble: 9 × 3\n\n| n &lt;dbl&gt; | p &lt;dbl&gt; | .outcome &lt;list&gt; |\n|---|---|---|\n|  5 | 0.25 | 1, 1, 0, 1, 0, 0, 2, 0, 1, 0 |\n|  5 | 0.50 | 3, 2, 2, 0, 2, 2, 1, 4, 3, 2 |\n|  5 | 0.75 | 4, 3, 4, 3, 4, 4, 3, 5, 5, 5 |\n| 10 | 0.25 | 5, 2, 1, 2, 2, 1, 3, 3, 5, 1 |\n| 10 | 0.50 | 2, 7, 2, 5, 4, 6, 8, 5, 3, 6 |\n| 10 | 0.75 | 8, 9, 9, 7, 9, 6, 8, 7, 4, 7 |\n| 15 | 0.25 | 3, 3, 2, 4, 2, 3, 4, 4, 4, 9 |\n| 15 | 0.50 | 9, 9, 9, 9, 3, 4, 7, 9, 9, 9 |\n| 15 | 0.75 | 9, 11, 11, 13, 10, 13, 10, 9, 11, 11 |\n\n",
            "text/latex": "A tibble: 9 × 3\n\\begin{tabular}{lll}\n n & p & .outcome\\\\\n <dbl> & <dbl> & <list>\\\\\n\\hline\n\t  5 & 0.25 & 1, 1, 0, 1, 0, 0, 2, 0, 1, 0\\\\\n\t  5 & 0.50 & 3, 2, 2, 0, 2, 2, 1, 4, 3, 2\\\\\n\t  5 & 0.75 & 4, 3, 4, 3, 4, 4, 3, 5, 5, 5\\\\\n\t 10 & 0.25 & 5, 2, 1, 2, 2, 1, 3, 3, 5, 1\\\\\n\t 10 & 0.50 & 2, 7, 2, 5, 4, 6, 8, 5, 3, 6\\\\\n\t 10 & 0.75 & 8, 9, 9, 7, 9, 6, 8, 7, 4, 7\\\\\n\t 15 & 0.25 & 3, 3, 2, 4, 2, 3, 4, 4, 4, 9\\\\\n\t 15 & 0.50 & 9, 9, 9, 9, 3, 4, 7, 9, 9, 9\\\\\n\t 15 & 0.75 & 9, 11, 11, 13, 10, 13, 10, 9, 11, 11\\\\\n\\end{tabular}\n",
            "text/plain": [
              "  n  p    .outcome                            \n",
              "1  5 0.25 1, 1, 0, 1, 0, 0, 2, 0, 1, 0        \n",
              "2  5 0.50 3, 2, 2, 0, 2, 2, 1, 4, 3, 2        \n",
              "3  5 0.75 4, 3, 4, 3, 4, 4, 3, 5, 5, 5        \n",
              "4 10 0.25 5, 2, 1, 2, 2, 1, 3, 3, 5, 1        \n",
              "5 10 0.50 2, 7, 2, 5, 4, 6, 8, 5, 3, 6        \n",
              "6 10 0.75 8, 9, 9, 7, 9, 6, 8, 7, 4, 7        \n",
              "7 15 0.25 3, 3, 2, 4, 2, 3, 4, 4, 4, 9        \n",
              "8 15 0.50 9, 9, 9, 9, 3, 4, 7, 9, 9, 9        \n",
              "9 15 0.75 9, 11, 11, 13, 10, 13, 10, 9, 11, 11"
            ]
          },
          "metadata": {}
        }
      ]
    },
    {
      "cell_type": "markdown",
      "source": [
        "#### Step 2. Generate outcomes with `pmap`."
      ],
      "metadata": {
        "id": "j5WpMAu0LoSv"
      }
    },
    {
      "cell_type": "code",
      "source": [
        "# Version 2 - Use pmap to generate the data\n",
        "num.trials <- 10\n",
        "(parameters(~n,         ~p,\n",
        "            c(5,10,15), c(0.25, 0.5, 0.75))\n",
        " %>% mutate(.outcome = pmap(list(size = n, prob = p), rbinom, n = num.trials))\n",
        " )"
      ],
      "metadata": {
        "colab": {
          "base_uri": "https://localhost:8080/",
          "height": 391
        },
        "id": "ifLSSqw36maQ",
        "outputId": "4a9323db-e4d6-4b45-f644-d1c9b1b7078e"
      },
      "execution_count": 17,
      "outputs": [
        {
          "output_type": "display_data",
          "data": {
            "text/html": [
              "<table class=\"dataframe\">\n",
              "<caption>A tibble: 9 × 3</caption>\n",
              "<thead>\n",
              "\t<tr><th scope=col>n</th><th scope=col>p</th><th scope=col>.outcome</th></tr>\n",
              "\t<tr><th scope=col>&lt;dbl&gt;</th><th scope=col>&lt;dbl&gt;</th><th scope=col>&lt;list&gt;</th></tr>\n",
              "</thead>\n",
              "<tbody>\n",
              "\t<tr><td> 5</td><td>0.25</td><td>2, 3, 1, 2, 1, 2, 3, 1, 1, 2</td></tr>\n",
              "\t<tr><td> 5</td><td>0.50</td><td>1, 2, 5, 3, 3, 2, 1, 2, 2, 5</td></tr>\n",
              "\t<tr><td> 5</td><td>0.75</td><td>3, 4, 5, 4, 3, 4, 3, 4, 4, 4</td></tr>\n",
              "\t<tr><td>10</td><td>0.25</td><td>2, 2, 3, 3, 1, 3, 5, 2, 4, 3</td></tr>\n",
              "\t<tr><td>10</td><td>0.50</td><td>5, 7, 5, 4, 4, 4, 3, 6, 4, 4</td></tr>\n",
              "\t<tr><td>10</td><td>0.75</td><td>7, 6, 10, 9, 9, 8, 8, 9, 10, 7</td></tr>\n",
              "\t<tr><td>15</td><td>0.25</td><td>4, 4, 4, 7, 3, 3, 8, 2, 6, 3</td></tr>\n",
              "\t<tr><td>15</td><td>0.50</td><td>12, 9, 5, 7, 7, 7, 10, 7, 5, 5</td></tr>\n",
              "\t<tr><td>15</td><td>0.75</td><td>12, 10, 10, 9, 13, 12, 11, 10, 11, 7</td></tr>\n",
              "</tbody>\n",
              "</table>\n"
            ],
            "text/markdown": "\nA tibble: 9 × 3\n\n| n &lt;dbl&gt; | p &lt;dbl&gt; | .outcome &lt;list&gt; |\n|---|---|---|\n|  5 | 0.25 | 2, 3, 1, 2, 1, 2, 3, 1, 1, 2 |\n|  5 | 0.50 | 1, 2, 5, 3, 3, 2, 1, 2, 2, 5 |\n|  5 | 0.75 | 3, 4, 5, 4, 3, 4, 3, 4, 4, 4 |\n| 10 | 0.25 | 2, 2, 3, 3, 1, 3, 5, 2, 4, 3 |\n| 10 | 0.50 | 5, 7, 5, 4, 4, 4, 3, 6, 4, 4 |\n| 10 | 0.75 | 7, 6, 10, 9, 9, 8, 8, 9, 10, 7 |\n| 15 | 0.25 | 4, 4, 4, 7, 3, 3, 8, 2, 6, 3 |\n| 15 | 0.50 | 12, 9, 5, 7, 7, 7, 10, 7, 5, 5 |\n| 15 | 0.75 | 12, 10, 10, 9, 13, 12, 11, 10, 11, 7 |\n\n",
            "text/latex": "A tibble: 9 × 3\n\\begin{tabular}{lll}\n n & p & .outcome\\\\\n <dbl> & <dbl> & <list>\\\\\n\\hline\n\t  5 & 0.25 & 2, 3, 1, 2, 1, 2, 3, 1, 1, 2\\\\\n\t  5 & 0.50 & 1, 2, 5, 3, 3, 2, 1, 2, 2, 5\\\\\n\t  5 & 0.75 & 3, 4, 5, 4, 3, 4, 3, 4, 4, 4\\\\\n\t 10 & 0.25 & 2, 2, 3, 3, 1, 3, 5, 2, 4, 3\\\\\n\t 10 & 0.50 & 5, 7, 5, 4, 4, 4, 3, 6, 4, 4\\\\\n\t 10 & 0.75 & 7, 6, 10, 9, 9, 8, 8, 9, 10, 7\\\\\n\t 15 & 0.25 & 4, 4, 4, 7, 3, 3, 8, 2, 6, 3\\\\\n\t 15 & 0.50 & 12, 9, 5, 7, 7, 7, 10, 7, 5, 5\\\\\n\t 15 & 0.75 & 12, 10, 10, 9, 13, 12, 11, 10, 11, 7\\\\\n\\end{tabular}\n",
            "text/plain": [
              "  n  p    .outcome                            \n",
              "1  5 0.25 2, 3, 1, 2, 1, 2, 3, 1, 1, 2        \n",
              "2  5 0.50 1, 2, 5, 3, 3, 2, 1, 2, 2, 5        \n",
              "3  5 0.75 3, 4, 5, 4, 3, 4, 3, 4, 4, 4        \n",
              "4 10 0.25 2, 2, 3, 3, 1, 3, 5, 2, 4, 3        \n",
              "5 10 0.50 5, 7, 5, 4, 4, 4, 3, 6, 4, 4        \n",
              "6 10 0.75 7, 6, 10, 9, 9, 8, 8, 9, 10, 7      \n",
              "7 15 0.25 4, 4, 4, 7, 3, 3, 8, 2, 6, 3        \n",
              "8 15 0.50 12, 9, 5, 7, 7, 7, 10, 7, 5, 5      \n",
              "9 15 0.75 12, 10, 10, 9, 13, 12, 11, 10, 11, 7"
            ]
          },
          "metadata": {}
        }
      ]
    },
    {
      "cell_type": "markdown",
      "source": [
        "#### Step 3. Process and summarize."
      ],
      "metadata": {
        "id": "WY1s-7TMPjcN"
      }
    },
    {
      "cell_type": "code",
      "source": [
        "num.trials <- 10\n",
        "(parameters(~n,         ~p,\n",
        "            c(5,10,15), c(0.25, 0.5, 0.75))\n",
        " %>% mutate(.outcome = map2(n, p, \\(n, p) rbinom(num.trials, n, p)))\n",
        " %>% mutate(approx.mu = map_dbl(.outcome, mean),\n",
        "            exact.mu = n*p)\n",
        " )"
      ],
      "metadata": {
        "colab": {
          "base_uri": "https://localhost:8080/",
          "height": 391
        },
        "id": "qDaYIB44PodQ",
        "outputId": "765f08cb-b82f-4ec4-92fa-d792cdd588a4"
      },
      "execution_count": 18,
      "outputs": [
        {
          "output_type": "display_data",
          "data": {
            "text/html": [
              "<table class=\"dataframe\">\n",
              "<caption>A tibble: 9 × 5</caption>\n",
              "<thead>\n",
              "\t<tr><th scope=col>n</th><th scope=col>p</th><th scope=col>.outcome</th><th scope=col>approx.mu</th><th scope=col>exact.mu</th></tr>\n",
              "\t<tr><th scope=col>&lt;dbl&gt;</th><th scope=col>&lt;dbl&gt;</th><th scope=col>&lt;list&gt;</th><th scope=col>&lt;dbl&gt;</th><th scope=col>&lt;dbl&gt;</th></tr>\n",
              "</thead>\n",
              "<tbody>\n",
              "\t<tr><td> 5</td><td>0.25</td><td>0, 1, 1, 0, 1, 0, 1, 2, 1, 3</td><td> 1.0</td><td> 1.25</td></tr>\n",
              "\t<tr><td> 5</td><td>0.50</td><td>3, 0, 1, 2, 2, 4, 1, 0, 4, 2</td><td> 1.9</td><td> 2.50</td></tr>\n",
              "\t<tr><td> 5</td><td>0.75</td><td>4, 4, 4, 5, 3, 5, 4, 4, 3, 3</td><td> 3.9</td><td> 3.75</td></tr>\n",
              "\t<tr><td>10</td><td>0.25</td><td>3, 3, 2, 2, 0, 0, 2, 5, 2, 2</td><td> 2.1</td><td> 2.50</td></tr>\n",
              "\t<tr><td>10</td><td>0.50</td><td>2, 5, 4, 4, 4, 4, 7, 4, 4, 5</td><td> 4.3</td><td> 5.00</td></tr>\n",
              "\t<tr><td>10</td><td>0.75</td><td>6, 9, 8, 7, 9, 9, 6, 6, 7, 5</td><td> 7.2</td><td> 7.50</td></tr>\n",
              "\t<tr><td>15</td><td>0.25</td><td>5, 6, 3, 4, 3, 1, 3, 5, 4, 3</td><td> 3.7</td><td> 3.75</td></tr>\n",
              "\t<tr><td>15</td><td>0.50</td><td>6, 12, 7, 10, 7, 6, 7, 9, 8, 7</td><td> 7.9</td><td> 7.50</td></tr>\n",
              "\t<tr><td>15</td><td>0.75</td><td>10, 12, 9, 12, 10, 9, 15, 14, 11, 10</td><td>11.2</td><td>11.25</td></tr>\n",
              "</tbody>\n",
              "</table>\n"
            ],
            "text/markdown": "\nA tibble: 9 × 5\n\n| n &lt;dbl&gt; | p &lt;dbl&gt; | .outcome &lt;list&gt; | approx.mu &lt;dbl&gt; | exact.mu &lt;dbl&gt; |\n|---|---|---|---|---|\n|  5 | 0.25 | 0, 1, 1, 0, 1, 0, 1, 2, 1, 3 |  1.0 |  1.25 |\n|  5 | 0.50 | 3, 0, 1, 2, 2, 4, 1, 0, 4, 2 |  1.9 |  2.50 |\n|  5 | 0.75 | 4, 4, 4, 5, 3, 5, 4, 4, 3, 3 |  3.9 |  3.75 |\n| 10 | 0.25 | 3, 3, 2, 2, 0, 0, 2, 5, 2, 2 |  2.1 |  2.50 |\n| 10 | 0.50 | 2, 5, 4, 4, 4, 4, 7, 4, 4, 5 |  4.3 |  5.00 |\n| 10 | 0.75 | 6, 9, 8, 7, 9, 9, 6, 6, 7, 5 |  7.2 |  7.50 |\n| 15 | 0.25 | 5, 6, 3, 4, 3, 1, 3, 5, 4, 3 |  3.7 |  3.75 |\n| 15 | 0.50 | 6, 12, 7, 10, 7, 6, 7, 9, 8, 7 |  7.9 |  7.50 |\n| 15 | 0.75 | 10, 12, 9, 12, 10, 9, 15, 14, 11, 10 | 11.2 | 11.25 |\n\n",
            "text/latex": "A tibble: 9 × 5\n\\begin{tabular}{lllll}\n n & p & .outcome & approx.mu & exact.mu\\\\\n <dbl> & <dbl> & <list> & <dbl> & <dbl>\\\\\n\\hline\n\t  5 & 0.25 & 0, 1, 1, 0, 1, 0, 1, 2, 1, 3 &  1.0 &  1.25\\\\\n\t  5 & 0.50 & 3, 0, 1, 2, 2, 4, 1, 0, 4, 2 &  1.9 &  2.50\\\\\n\t  5 & 0.75 & 4, 4, 4, 5, 3, 5, 4, 4, 3, 3 &  3.9 &  3.75\\\\\n\t 10 & 0.25 & 3, 3, 2, 2, 0, 0, 2, 5, 2, 2 &  2.1 &  2.50\\\\\n\t 10 & 0.50 & 2, 5, 4, 4, 4, 4, 7, 4, 4, 5 &  4.3 &  5.00\\\\\n\t 10 & 0.75 & 6, 9, 8, 7, 9, 9, 6, 6, 7, 5 &  7.2 &  7.50\\\\\n\t 15 & 0.25 & 5, 6, 3, 4, 3, 1, 3, 5, 4, 3 &  3.7 &  3.75\\\\\n\t 15 & 0.50 & 6, 12, 7, 10, 7, 6, 7, 9, 8, 7 &  7.9 &  7.50\\\\\n\t 15 & 0.75 & 10, 12, 9, 12, 10, 9, 15, 14, 11, 10 & 11.2 & 11.25\\\\\n\\end{tabular}\n",
            "text/plain": [
              "  n  p    .outcome                             approx.mu exact.mu\n",
              "1  5 0.25 0, 1, 1, 0, 1, 0, 1, 2, 1, 3          1.0       1.25   \n",
              "2  5 0.50 3, 0, 1, 2, 2, 4, 1, 0, 4, 2          1.9       2.50   \n",
              "3  5 0.75 4, 4, 4, 5, 3, 5, 4, 4, 3, 3          3.9       3.75   \n",
              "4 10 0.25 3, 3, 2, 2, 0, 0, 2, 5, 2, 2          2.1       2.50   \n",
              "5 10 0.50 2, 5, 4, 4, 4, 4, 7, 4, 4, 5          4.3       5.00   \n",
              "6 10 0.75 6, 9, 8, 7, 9, 9, 6, 6, 7, 5          7.2       7.50   \n",
              "7 15 0.25 5, 6, 3, 4, 3, 1, 3, 5, 4, 3          3.7       3.75   \n",
              "8 15 0.50 6, 12, 7, 10, 7, 6, 7, 9, 8, 7        7.9       7.50   \n",
              "9 15 0.75 10, 12, 9, 12, 10, 9, 15, 14, 11, 10 11.2      11.25   "
            ]
          },
          "metadata": {}
        }
      ]
    },
    {
      "cell_type": "markdown",
      "source": [
        "#### Step 5. Drop outcomes and bump the number of trials."
      ],
      "metadata": {
        "id": "GGgBlmuCP2gz"
      }
    },
    {
      "cell_type": "code",
      "source": [
        "num.trials <- 100000\n",
        "(parameters(~n,         ~p,\n",
        "            c(5,10,15), c(0.25, 0.5, 0.75))\n",
        " %>% mutate(.outcome = map2(n, p, \\(n, p) rbinom(num.trials, n, p)))\n",
        " %>% mutate(approx.mu = map_dbl(.outcome, mean),\n",
        "            exact.mu = n*p)\n",
        " %>% select(-.outcome)\n",
        " )"
      ],
      "metadata": {
        "colab": {
          "base_uri": "https://localhost:8080/",
          "height": 391
        },
        "id": "TSQniLmVP1SV",
        "outputId": "57024fb1-36b4-4fcf-9fe3-ee5f7594fba5"
      },
      "execution_count": 19,
      "outputs": [
        {
          "output_type": "display_data",
          "data": {
            "text/html": [
              "<table class=\"dataframe\">\n",
              "<caption>A tibble: 9 × 4</caption>\n",
              "<thead>\n",
              "\t<tr><th scope=col>n</th><th scope=col>p</th><th scope=col>approx.mu</th><th scope=col>exact.mu</th></tr>\n",
              "\t<tr><th scope=col>&lt;dbl&gt;</th><th scope=col>&lt;dbl&gt;</th><th scope=col>&lt;dbl&gt;</th><th scope=col>&lt;dbl&gt;</th></tr>\n",
              "</thead>\n",
              "<tbody>\n",
              "\t<tr><td> 5</td><td>0.25</td><td> 1.25207</td><td> 1.25</td></tr>\n",
              "\t<tr><td> 5</td><td>0.50</td><td> 2.50540</td><td> 2.50</td></tr>\n",
              "\t<tr><td> 5</td><td>0.75</td><td> 3.75656</td><td> 3.75</td></tr>\n",
              "\t<tr><td>10</td><td>0.25</td><td> 2.49736</td><td> 2.50</td></tr>\n",
              "\t<tr><td>10</td><td>0.50</td><td> 4.99906</td><td> 5.00</td></tr>\n",
              "\t<tr><td>10</td><td>0.75</td><td> 7.49287</td><td> 7.50</td></tr>\n",
              "\t<tr><td>15</td><td>0.25</td><td> 3.75132</td><td> 3.75</td></tr>\n",
              "\t<tr><td>15</td><td>0.50</td><td> 7.50058</td><td> 7.50</td></tr>\n",
              "\t<tr><td>15</td><td>0.75</td><td>11.25092</td><td>11.25</td></tr>\n",
              "</tbody>\n",
              "</table>\n"
            ],
            "text/markdown": "\nA tibble: 9 × 4\n\n| n &lt;dbl&gt; | p &lt;dbl&gt; | approx.mu &lt;dbl&gt; | exact.mu &lt;dbl&gt; |\n|---|---|---|---|\n|  5 | 0.25 |  1.25207 |  1.25 |\n|  5 | 0.50 |  2.50540 |  2.50 |\n|  5 | 0.75 |  3.75656 |  3.75 |\n| 10 | 0.25 |  2.49736 |  2.50 |\n| 10 | 0.50 |  4.99906 |  5.00 |\n| 10 | 0.75 |  7.49287 |  7.50 |\n| 15 | 0.25 |  3.75132 |  3.75 |\n| 15 | 0.50 |  7.50058 |  7.50 |\n| 15 | 0.75 | 11.25092 | 11.25 |\n\n",
            "text/latex": "A tibble: 9 × 4\n\\begin{tabular}{llll}\n n & p & approx.mu & exact.mu\\\\\n <dbl> & <dbl> & <dbl> & <dbl>\\\\\n\\hline\n\t  5 & 0.25 &  1.25207 &  1.25\\\\\n\t  5 & 0.50 &  2.50540 &  2.50\\\\\n\t  5 & 0.75 &  3.75656 &  3.75\\\\\n\t 10 & 0.25 &  2.49736 &  2.50\\\\\n\t 10 & 0.50 &  4.99906 &  5.00\\\\\n\t 10 & 0.75 &  7.49287 &  7.50\\\\\n\t 15 & 0.25 &  3.75132 &  3.75\\\\\n\t 15 & 0.50 &  7.50058 &  7.50\\\\\n\t 15 & 0.75 & 11.25092 & 11.25\\\\\n\\end{tabular}\n",
            "text/plain": [
              "  n  p    approx.mu exact.mu\n",
              "1  5 0.25  1.25207   1.25   \n",
              "2  5 0.50  2.50540   2.50   \n",
              "3  5 0.75  3.75656   3.75   \n",
              "4 10 0.25  2.49736   2.50   \n",
              "5 10 0.50  4.99906   5.00   \n",
              "6 10 0.75  7.49287   7.50   \n",
              "7 15 0.25  3.75132   3.75   \n",
              "8 15 0.50  7.50058   7.50   \n",
              "9 15 0.75 11.25092  11.25   "
            ]
          },
          "metadata": {}
        }
      ]
    },
    {
      "cell_type": "markdown",
      "source": [
        "Step 5. Compose into one map."
      ],
      "metadata": {
        "id": "J1FFFwgsQHre"
      }
    },
    {
      "cell_type": "code",
      "source": [
        "num.trials <- 100000\n",
        "(parameters(~n,         ~p,\n",
        "            c(5,10,15), c(0.25, 0.5, 0.75))\n",
        "#  %>% mutate(.outcome = map2(n, p, \\(n, p) rbinom(num.trials, n, p))\n",
        "#  %>% mutate(approx.mu = map_dbl(.outcome, mean),\n",
        "            # exact.mu = n*p)\n",
        " %>% mutate(approx.mu = map2(n, p, \\(n, p) rbinom(num.trials, n, p) %>% mean),\n",
        "            exact.mu = n*p)\n",
        "#  %>% select(-.outcome)\n",
        " )"
      ],
      "metadata": {
        "colab": {
          "base_uri": "https://localhost:8080/",
          "height": 391
        },
        "id": "Z7gExv1VQP35",
        "outputId": "4e77192c-01d1-48a7-f24f-f2642594f21f"
      },
      "execution_count": 20,
      "outputs": [
        {
          "output_type": "display_data",
          "data": {
            "text/html": [
              "<table class=\"dataframe\">\n",
              "<caption>A tibble: 9 × 4</caption>\n",
              "<thead>\n",
              "\t<tr><th scope=col>n</th><th scope=col>p</th><th scope=col>approx.mu</th><th scope=col>exact.mu</th></tr>\n",
              "\t<tr><th scope=col>&lt;dbl&gt;</th><th scope=col>&lt;dbl&gt;</th><th scope=col>&lt;list&gt;</th><th scope=col>&lt;dbl&gt;</th></tr>\n",
              "</thead>\n",
              "<tbody>\n",
              "\t<tr><td> 5</td><td>0.25</td><td>1.2478</td><td> 1.25</td></tr>\n",
              "\t<tr><td> 5</td><td>0.50</td><td>2.49818</td><td> 2.50</td></tr>\n",
              "\t<tr><td> 5</td><td>0.75</td><td>3.74908</td><td> 3.75</td></tr>\n",
              "\t<tr><td>10</td><td>0.25</td><td>2.50165</td><td> 2.50</td></tr>\n",
              "\t<tr><td>10</td><td>0.50</td><td>4.99959</td><td> 5.00</td></tr>\n",
              "\t<tr><td>10</td><td>0.75</td><td>7.49168</td><td> 7.50</td></tr>\n",
              "\t<tr><td>15</td><td>0.25</td><td>3.75373</td><td> 3.75</td></tr>\n",
              "\t<tr><td>15</td><td>0.50</td><td>7.49284</td><td> 7.50</td></tr>\n",
              "\t<tr><td>15</td><td>0.75</td><td>11.24194</td><td>11.25</td></tr>\n",
              "</tbody>\n",
              "</table>\n"
            ],
            "text/markdown": "\nA tibble: 9 × 4\n\n| n &lt;dbl&gt; | p &lt;dbl&gt; | approx.mu &lt;list&gt; | exact.mu &lt;dbl&gt; |\n|---|---|---|---|\n|  5 | 0.25 | 1.2478 |  1.25 |\n|  5 | 0.50 | 2.49818 |  2.50 |\n|  5 | 0.75 | 3.74908 |  3.75 |\n| 10 | 0.25 | 2.50165 |  2.50 |\n| 10 | 0.50 | 4.99959 |  5.00 |\n| 10 | 0.75 | 7.49168 |  7.50 |\n| 15 | 0.25 | 3.75373 |  3.75 |\n| 15 | 0.50 | 7.49284 |  7.50 |\n| 15 | 0.75 | 11.24194 | 11.25 |\n\n",
            "text/latex": "A tibble: 9 × 4\n\\begin{tabular}{llll}\n n & p & approx.mu & exact.mu\\\\\n <dbl> & <dbl> & <list> & <dbl>\\\\\n\\hline\n\t  5 & 0.25 & 1.2478 &  1.25\\\\\n\t  5 & 0.50 & 2.49818 &  2.50\\\\\n\t  5 & 0.75 & 3.74908 &  3.75\\\\\n\t 10 & 0.25 & 2.50165 &  2.50\\\\\n\t 10 & 0.50 & 4.99959 &  5.00\\\\\n\t 10 & 0.75 & 7.49168 &  7.50\\\\\n\t 15 & 0.25 & 3.75373 &  3.75\\\\\n\t 15 & 0.50 & 7.49284 &  7.50\\\\\n\t 15 & 0.75 & 11.24194 & 11.25\\\\\n\\end{tabular}\n",
            "text/plain": [
              "  n  p    approx.mu exact.mu\n",
              "1  5 0.25 1.2478     1.25   \n",
              "2  5 0.50 2.49818    2.50   \n",
              "3  5 0.75 3.74908    3.75   \n",
              "4 10 0.25 2.50165    2.50   \n",
              "5 10 0.50 4.99959    5.00   \n",
              "6 10 0.75 7.49168    7.50   \n",
              "7 15 0.25 3.75373    3.75   \n",
              "8 15 0.50 7.49284    7.50   \n",
              "9 15 0.75 11.24194  11.25   "
            ]
          },
          "metadata": {}
        }
      ]
    },
    {
      "cell_type": "markdown",
      "source": [
        "### <font color=\"red\"> Exercise 2.5.2 </font>\n",
        "\n",
        "Suppose that we want to compare the cut off for the top 5% of a binomial data with $n\\in c\\{25, 50, 100\\}$ and $p\\in\\{0.25, 0.5, 0.75\\}$\n",
        "\n",
        "**Tasks.**\n",
        "1. Prototype the process by storing the raw outcomes in a list column, then processing with additional `pmap`/`map2`s,\n",
        "2. Verify the correctness of your code, and\n",
        "2. Compose all the intermediate steps to eliminate the need to store the raw outcomes."
      ],
      "metadata": {
        "id": "KAz-gYreoEHD"
      }
    },
    {
      "cell_type": "code",
      "source": [
        "# Your code here"
      ],
      "metadata": {
        "id": "GSVGCCTqoU4e"
      },
      "execution_count": null,
      "outputs": []
    }
  ]
}