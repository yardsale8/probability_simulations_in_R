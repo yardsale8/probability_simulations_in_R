{
 "cells": [
  {
   "cell_type": "markdown",
   "metadata": {
    "colab_type": "text",
    "id": "view-in-github"
   },
   "source": [
    "<a href=\"https://colab.research.google.com/github/yardsale8/probability_simulations_in_R/blob/main/2_1_simulating_the_binomial_distribution.ipynb\" target=\"_parent\"><img src=\"https://colab.research.google.com/assets/colab-badge.svg\" alt=\"Open In Colab\"/></a>"
   ]
  },
  {
   "cell_type": "code",
   "execution_count": null,
   "metadata": {
    "id": "iRu0cs3yqK8Y"
   },
   "outputs": [],
   "source": [
    "library(dplyr)\n",
    "library(tidyr)\n",
    "library(purrr)\n",
    "library(devtools)\n",
    "install_github('yardsale8/purrrfect', force = TRUE)\n",
    "library(purrrfect)"
   ]
  },
  {
   "cell_type": "markdown",
   "metadata": {
    "id": "h3G2-mjtmcG-"
   },
   "source": [
    "# Simulating the Hypergeometric Distribution\n",
    "\n",
    "In this notebook, we will explore another distribution related to counting success. The hypergeometric distribution is the similar as the binomial distribution, except we are **sampling without replacement** from a finite population.\n",
    "\n",
    "1. Simulating the raw outcomes using `sample` and converting to the number of success, as well as\n",
    "2. Simulating the number of successes directly using `rhyper`.\n",
    "\n",
    "Finally, we will illustrate how to use simulations to estimate various quantities of interest."
   ]
  },
  {
   "cell_type": "markdown",
   "metadata": {
    "id": "YEX80xOym42U"
   },
   "source": [
    "### Review - Urn Problem\n",
    "\n",
    "The classic analogy of interest is drawing chips from an urn, such that\n",
    "\n",
    "1. The chips consist of two colors (denoted success and failure),\n",
    "2. A fixed number of chips are drawn, and\n",
    "3. Chips are drawn without replacement."
   ]
  },
  {
   "cell_type": "markdown",
   "metadata": {
    "id": "uALpyFI_nVOr"
   },
   "source": [
    "### The hypergeomtric distribution\n",
    "\n",
    "Suppose that we draw $n$ chips from a population contains $r$ total successes.  If $X$ is the number of successes in the $n$ draws, then $X$ will have a hypergeomtric distribution.  <font color=\"red\"> NEED LINK</font>"
   ]
  },
  {
   "cell_type": "markdown",
   "metadata": {
    "id": "MNVkUvCXn5qR"
   },
   "source": [
    "## Strategies for simulating the hypergeometric distribution\n",
    "\n",
    "1. Simulate the urn by using `sample` with `replace=FALSE`, then transform into the number of success using either reshaping or `mutate` + `map`.\n",
    "2. Simulate the number of successes directly using `rhyper`."
   ]
  },
  {
   "cell_type": "markdown",
   "metadata": {
    "id": "8FctsvUzodWG"
   },
   "source": [
    "### Example - Drawing chips from an urn\n",
    "\n",
    "Suppose that we are drawing $n = 5$ chips from an urn with $r=15$ of the $N = 25$ being colored blue, and recording the number of blue chips.  We can simulating the raw outcomes for this scenario by\n",
    "\n",
    "1. Creating a vector of strings to model the urn, and\n",
    "2. Using `sample` with `replace=FALSE` to draw chips."
   ]
  },
  {
   "cell_type": "code",
   "execution_count": null,
   "metadata": {},
   "outputs": [],
   "source": [
    "N <- 25\n",
    "r <- 15\n",
    "n <- 5\n",
    "urn <- c(rep('B', r), \n",
    "         rep('W', N - r))\n",
    "replicate(10, sample(urn, n, replace = FALSE))"
   ]
  },
  {
   "cell_type": "markdown",
   "metadata": {
    "id": "8FctsvUzodWG"
   },
   "source": [
    "### Review - Converting raw outcomes to the number of successes\n",
    "\n",
    "We will illustrate this process in three ways to convert the raw outcomes to the number of successes.\n",
    "\n",
    "1. Reshaping to compute number of successes,\n",
    "2. Using `mutate` + `map` to compute number of successes, or\n",
    "3. Using either `mutate` + `num_successes_int` or `col_num_successes`"
   ]
  },
  {
   "cell_type": "markdown",
   "metadata": {
    "id": "m1We1-nNp40g"
   },
   "source": [
    "#### Approach 1 - Simulate individual shots, reshape, and compute successes.\n",
    "\n",
    "Comment out lines to explore the output in each step."
   ]
  },
  {
   "cell_type": "code",
   "execution_count": 4,
   "metadata": {
    "colab": {
     "base_uri": "https://localhost:8080/",
     "height": 435
    },
    "id": "8-MWzoX1mbQc",
    "outputId": "a62f6add-5dba-450f-fa34-46af0982f354"
   },
   "outputs": [
    {
     "data": {
      "text/html": [
       "<table class=\"dataframe\">\n",
       "<caption>A tibble: 10 × 2</caption>\n",
       "<thead>\n",
       "\t<tr><th scope=col>.trial</th><th scope=col>num.successes</th></tr>\n",
       "\t<tr><th scope=col>&lt;dbl&gt;</th><th scope=col>&lt;dbl&gt;</th></tr>\n",
       "</thead>\n",
       "<tbody>\n",
       "\t<tr><td> 1</td><td> 8</td></tr>\n",
       "\t<tr><td> 2</td><td> 6</td></tr>\n",
       "\t<tr><td> 3</td><td> 6</td></tr>\n",
       "\t<tr><td> 4</td><td> 4</td></tr>\n",
       "\t<tr><td> 5</td><td> 6</td></tr>\n",
       "\t<tr><td> 6</td><td> 9</td></tr>\n",
       "\t<tr><td> 7</td><td> 8</td></tr>\n",
       "\t<tr><td> 8</td><td> 7</td></tr>\n",
       "\t<tr><td> 9</td><td>10</td></tr>\n",
       "\t<tr><td>10</td><td> 7</td></tr>\n",
       "</tbody>\n",
       "</table>\n"
      ],
      "text/latex": [
       "A tibble: 10 × 2\n",
       "\\begin{tabular}{ll}\n",
       " .trial & num.successes\\\\\n",
       " <dbl> & <dbl>\\\\\n",
       "\\hline\n",
       "\t  1 &  8\\\\\n",
       "\t  2 &  6\\\\\n",
       "\t  3 &  6\\\\\n",
       "\t  4 &  4\\\\\n",
       "\t  5 &  6\\\\\n",
       "\t  6 &  9\\\\\n",
       "\t  7 &  8\\\\\n",
       "\t  8 &  7\\\\\n",
       "\t  9 & 10\\\\\n",
       "\t 10 &  7\\\\\n",
       "\\end{tabular}\n"
      ],
      "text/markdown": [
       "\n",
       "A tibble: 10 × 2\n",
       "\n",
       "| .trial &lt;dbl&gt; | num.successes &lt;dbl&gt; |\n",
       "|---|---|\n",
       "|  1 |  8 |\n",
       "|  2 |  6 |\n",
       "|  3 |  6 |\n",
       "|  4 |  4 |\n",
       "|  5 |  6 |\n",
       "|  6 |  9 |\n",
       "|  7 |  8 |\n",
       "|  8 |  7 |\n",
       "|  9 | 10 |\n",
       "| 10 |  7 |\n",
       "\n"
      ],
      "text/plain": [
       "   .trial num.successes\n",
       "1   1      8           \n",
       "2   2      6           \n",
       "3   3      6           \n",
       "4   4      4           \n",
       "5   5      6           \n",
       "6   6      9           \n",
       "7   7      8           \n",
       "8   8      7           \n",
       "9   9     10           \n",
       "10 10      7           "
      ]
     },
     "metadata": {},
     "output_type": "display_data"
    }
   ],
   "source": [
    "N <- 25\n",
    "r <- 15\n",
    "n <- 5\n",
    "urn <- c(rep('B', r), \n",
    "         rep('W', N - r))\n",
    "num.trials <- 10\n",
    "(replicate(num.trials, sample(urn, n, replace = FALSE))\n",
    " %>% mutate(is.success = ifelse(.outcome == 'B', 1, 0))\n",
    " %>% group_by(.trial) %>% summarise(num.successes = sum(is.success))\n",
    " )"
   ]
  },
  {
   "cell_type": "markdown",
   "metadata": {
    "id": "Hash1kXErgbz"
   },
   "source": [
    "#### Approach 2 - Simulate individual shots, recode outcomes, and compute successes using `mutate` and `map`\n",
    "\n",
    "Comment out lines to explore the output in each step."
   ]
  },
  {
   "cell_type": "code",
   "execution_count": 5,
   "metadata": {
    "colab": {
     "base_uri": "https://localhost:8080/",
     "height": 435
    },
    "id": "p3oKX5a1rG7A",
    "outputId": "0d3097cc-b611-4879-9d19-b2004667f1ca"
   },
   "outputs": [
    {
     "data": {
      "text/html": [
       "<table class=\"dataframe\">\n",
       "<caption>A tibble: 10 × 4</caption>\n",
       "<thead>\n",
       "\t<tr><th scope=col>.trial</th><th scope=col>.outcome</th><th scope=col>is.success</th><th scope=col>num.successes</th></tr>\n",
       "\t<tr><th scope=col>&lt;dbl&gt;</th><th scope=col>&lt;list&gt;</th><th scope=col>&lt;list&gt;</th><th scope=col>&lt;int&gt;</th></tr>\n",
       "</thead>\n",
       "<tbody>\n",
       "\t<tr><td> 1</td><td>✓, ✓, ✓, ✓, 𐄂, ✓, ✓, ✓, ✓, ✓</td><td>1, 1, 1, 1, 0, 1, 1, 1, 1, 1</td><td>9</td></tr>\n",
       "\t<tr><td> 2</td><td>✓, ✓, ✓, 𐄂, ✓, ✓, ✓, ✓, ✓, 𐄂</td><td>1, 1, 1, 0, 1, 1, 1, 1, 1, 0</td><td>8</td></tr>\n",
       "\t<tr><td> 3</td><td>✓, 𐄂, 𐄂, ✓, ✓, ✓, ✓, ✓, ✓, 𐄂</td><td>1, 0, 0, 1, 1, 1, 1, 1, 1, 0</td><td>7</td></tr>\n",
       "\t<tr><td> 4</td><td>𐄂, ✓, 𐄂, 𐄂, ✓, ✓, 𐄂, ✓, ✓, ✓</td><td>0, 1, 0, 0, 1, 1, 0, 1, 1, 1</td><td>6</td></tr>\n",
       "\t<tr><td> 5</td><td>✓, 𐄂, ✓, ✓, 𐄂, 𐄂, ✓, ✓, ✓, ✓</td><td>1, 0, 1, 1, 0, 0, 1, 1, 1, 1</td><td>7</td></tr>\n",
       "\t<tr><td> 6</td><td>𐄂, ✓, 𐄂, ✓, ✓, ✓, ✓, 𐄂, ✓, ✓</td><td>0, 1, 0, 1, 1, 1, 1, 0, 1, 1</td><td>7</td></tr>\n",
       "\t<tr><td> 7</td><td>✓, ✓, ✓, ✓, ✓, 𐄂, ✓, ✓, ✓, ✓</td><td>1, 1, 1, 1, 1, 0, 1, 1, 1, 1</td><td>9</td></tr>\n",
       "\t<tr><td> 8</td><td>✓, 𐄂, ✓, ✓, ✓, ✓, ✓, 𐄂, 𐄂, ✓</td><td>1, 0, 1, 1, 1, 1, 1, 0, 0, 1</td><td>7</td></tr>\n",
       "\t<tr><td> 9</td><td>✓, ✓, 𐄂, ✓, ✓, ✓, ✓, 𐄂, ✓, ✓</td><td>1, 1, 0, 1, 1, 1, 1, 0, 1, 1</td><td>8</td></tr>\n",
       "\t<tr><td>10</td><td>✓, 𐄂, 𐄂, ✓, 𐄂, 𐄂, ✓, ✓, ✓, ✓</td><td>1, 0, 0, 1, 0, 0, 1, 1, 1, 1</td><td>6</td></tr>\n",
       "</tbody>\n",
       "</table>\n"
      ],
      "text/latex": [
       "A tibble: 10 × 4\n",
       "\\begin{tabular}{llll}\n",
       " .trial & .outcome & is.success & num.successes\\\\\n",
       " <dbl> & <list> & <list> & <int>\\\\\n",
       "\\hline\n",
       "\t  1 & ✓, ✓, ✓, ✓, 𐄂, ✓, ✓, ✓, ✓, ✓ & 1, 1, 1, 1, 0, 1, 1, 1, 1, 1 & 9\\\\\n",
       "\t  2 & ✓, ✓, ✓, 𐄂, ✓, ✓, ✓, ✓, ✓, 𐄂 & 1, 1, 1, 0, 1, 1, 1, 1, 1, 0 & 8\\\\\n",
       "\t  3 & ✓, 𐄂, 𐄂, ✓, ✓, ✓, ✓, ✓, ✓, 𐄂 & 1, 0, 0, 1, 1, 1, 1, 1, 1, 0 & 7\\\\\n",
       "\t  4 & 𐄂, ✓, 𐄂, 𐄂, ✓, ✓, 𐄂, ✓, ✓, ✓ & 0, 1, 0, 0, 1, 1, 0, 1, 1, 1 & 6\\\\\n",
       "\t  5 & ✓, 𐄂, ✓, ✓, 𐄂, 𐄂, ✓, ✓, ✓, ✓ & 1, 0, 1, 1, 0, 0, 1, 1, 1, 1 & 7\\\\\n",
       "\t  6 & 𐄂, ✓, 𐄂, ✓, ✓, ✓, ✓, 𐄂, ✓, ✓ & 0, 1, 0, 1, 1, 1, 1, 0, 1, 1 & 7\\\\\n",
       "\t  7 & ✓, ✓, ✓, ✓, ✓, 𐄂, ✓, ✓, ✓, ✓ & 1, 1, 1, 1, 1, 0, 1, 1, 1, 1 & 9\\\\\n",
       "\t  8 & ✓, 𐄂, ✓, ✓, ✓, ✓, ✓, 𐄂, 𐄂, ✓ & 1, 0, 1, 1, 1, 1, 1, 0, 0, 1 & 7\\\\\n",
       "\t  9 & ✓, ✓, 𐄂, ✓, ✓, ✓, ✓, 𐄂, ✓, ✓ & 1, 1, 0, 1, 1, 1, 1, 0, 1, 1 & 8\\\\\n",
       "\t 10 & ✓, 𐄂, 𐄂, ✓, 𐄂, 𐄂, ✓, ✓, ✓, ✓ & 1, 0, 0, 1, 0, 0, 1, 1, 1, 1 & 6\\\\\n",
       "\\end{tabular}\n"
      ],
      "text/markdown": [
       "\n",
       "A tibble: 10 × 4\n",
       "\n",
       "| .trial &lt;dbl&gt; | .outcome &lt;list&gt; | is.success &lt;list&gt; | num.successes &lt;int&gt; |\n",
       "|---|---|---|---|\n",
       "|  1 | ✓, ✓, ✓, ✓, 𐄂, ✓, ✓, ✓, ✓, ✓ | 1, 1, 1, 1, 0, 1, 1, 1, 1, 1 | 9 |\n",
       "|  2 | ✓, ✓, ✓, 𐄂, ✓, ✓, ✓, ✓, ✓, 𐄂 | 1, 1, 1, 0, 1, 1, 1, 1, 1, 0 | 8 |\n",
       "|  3 | ✓, 𐄂, 𐄂, ✓, ✓, ✓, ✓, ✓, ✓, 𐄂 | 1, 0, 0, 1, 1, 1, 1, 1, 1, 0 | 7 |\n",
       "|  4 | 𐄂, ✓, 𐄂, 𐄂, ✓, ✓, 𐄂, ✓, ✓, ✓ | 0, 1, 0, 0, 1, 1, 0, 1, 1, 1 | 6 |\n",
       "|  5 | ✓, 𐄂, ✓, ✓, 𐄂, 𐄂, ✓, ✓, ✓, ✓ | 1, 0, 1, 1, 0, 0, 1, 1, 1, 1 | 7 |\n",
       "|  6 | 𐄂, ✓, 𐄂, ✓, ✓, ✓, ✓, 𐄂, ✓, ✓ | 0, 1, 0, 1, 1, 1, 1, 0, 1, 1 | 7 |\n",
       "|  7 | ✓, ✓, ✓, ✓, ✓, 𐄂, ✓, ✓, ✓, ✓ | 1, 1, 1, 1, 1, 0, 1, 1, 1, 1 | 9 |\n",
       "|  8 | ✓, 𐄂, ✓, ✓, ✓, ✓, ✓, 𐄂, 𐄂, ✓ | 1, 0, 1, 1, 1, 1, 1, 0, 0, 1 | 7 |\n",
       "|  9 | ✓, ✓, 𐄂, ✓, ✓, ✓, ✓, 𐄂, ✓, ✓ | 1, 1, 0, 1, 1, 1, 1, 0, 1, 1 | 8 |\n",
       "| 10 | ✓, 𐄂, 𐄂, ✓, 𐄂, 𐄂, ✓, ✓, ✓, ✓ | 1, 0, 0, 1, 0, 0, 1, 1, 1, 1 | 6 |\n",
       "\n"
      ],
      "text/plain": [
       "   .trial .outcome                     is.success                  \n",
       "1   1     ✓, ✓, ✓, ✓, 𐄂, ✓, ✓, ✓, ✓, ✓ 1, 1, 1, 1, 0, 1, 1, 1, 1, 1\n",
       "2   2     ✓, ✓, ✓, 𐄂, ✓, ✓, ✓, ✓, ✓, 𐄂 1, 1, 1, 0, 1, 1, 1, 1, 1, 0\n",
       "3   3     ✓, 𐄂, 𐄂, ✓, ✓, ✓, ✓, ✓, ✓, 𐄂 1, 0, 0, 1, 1, 1, 1, 1, 1, 0\n",
       "4   4     𐄂, ✓, 𐄂, 𐄂, ✓, ✓, 𐄂, ✓, ✓, ✓ 0, 1, 0, 0, 1, 1, 0, 1, 1, 1\n",
       "5   5     ✓, 𐄂, ✓, ✓, 𐄂, 𐄂, ✓, ✓, ✓, ✓ 1, 0, 1, 1, 0, 0, 1, 1, 1, 1\n",
       "6   6     𐄂, ✓, 𐄂, ✓, ✓, ✓, ✓, 𐄂, ✓, ✓ 0, 1, 0, 1, 1, 1, 1, 0, 1, 1\n",
       "7   7     ✓, ✓, ✓, ✓, ✓, 𐄂, ✓, ✓, ✓, ✓ 1, 1, 1, 1, 1, 0, 1, 1, 1, 1\n",
       "8   8     ✓, 𐄂, ✓, ✓, ✓, ✓, ✓, 𐄂, 𐄂, ✓ 1, 0, 1, 1, 1, 1, 1, 0, 0, 1\n",
       "9   9     ✓, ✓, 𐄂, ✓, ✓, ✓, ✓, 𐄂, ✓, ✓ 1, 1, 0, 1, 1, 1, 1, 0, 1, 1\n",
       "10 10     ✓, 𐄂, 𐄂, ✓, 𐄂, 𐄂, ✓, ✓, ✓, ✓ 1, 0, 0, 1, 0, 0, 1, 1, 1, 1\n",
       "   num.successes\n",
       "1  9            \n",
       "2  8            \n",
       "3  7            \n",
       "4  6            \n",
       "5  7            \n",
       "6  7            \n",
       "7  9            \n",
       "8  7            \n",
       "9  8            \n",
       "10 6            "
      ]
     },
     "metadata": {},
     "output_type": "display_data"
    }
   ],
   "source": [
    "N <- 10\n",
    "(replicate(N, sample(shot, 10, replace = TRUE, prob = shot.probs))\n",
    "N <- 25\n",
    "r <- 15\n",
    "n <- 5\n",
    "urn <- c(rep('B', r), \n",
    "         rep('W', N - r))\n",
    "num.trials <- 10\n",
    "(replicate(num.trials, sample(urn, n, replace = FALSE))\n",
    " %>% mutate(is.success = map(.outcome, \\(x) ifelse(x == '✓', 1, 0)))\n",
    " %>% mutate(num.successes = map_int(is.success, sum))\n",
    " )"
   ]
  },
  {
   "cell_type": "markdown",
   "metadata": {},
   "source": [
    "#### Approach 3 - Using the number of successes helper functions"
   ]
  },
  {
   "cell_type": "code",
   "execution_count": null,
   "metadata": {},
   "outputs": [],
   "source": [
    "N <- 25\n",
    "r <- 15\n",
    "n <- 5\n",
    "urn <- c(rep('B', r), \n",
    "         rep('W', N - r))\n",
    "num.trials <- 10\n",
    "(replicate(num.trials, sample(urn, n, replace = FALSE))\n",
    "#   %>% mutate(.successes = num_successes_int(.outcome, 'B'))\n",
    "  %>% col_num_successess(.outcome, 'B')\n",
    ")"
   ]
  },
  {
   "cell_type": "markdown",
   "metadata": {
    "id": "OsqQABvEsQvA"
   },
   "source": [
    "### Simulate the number of successes directly using `rhyper`\n",
    "\n",
    "Alternative, we can use the `rhyper` base `R` functions to generate the number of successes directly.  Note that the signature of `rhyper` is `rhyper(nn, m, n, k)` (use help!).  Here will use `nn = 1` to mean one experiment per row, with an urn with `m` and `n` blue chips when drawing a sample of `k` chips.  \n",
    "\n",
    "**Note.** The parameters used by `rhyper` are none standard, so be prepared to make generous use of `?`/`help`."
   ]
  },
  {
   "cell_type": "code",
   "execution_count": null,
   "metadata": {},
   "outputs": [],
   "source": [
    "?rhyper"
   ]
  },
  {
   "cell_type": "code",
   "execution_count": 6,
   "metadata": {
    "colab": {
     "base_uri": "https://localhost:8080/",
     "height": 435
    },
    "id": "9t1BloQFsLLt",
    "outputId": "b97958c3-5c24-4e6c-c5fa-b97ae3bad2f2"
   },
   "outputs": [
    {
     "data": {
      "text/html": [
       "<table class=\"dataframe\">\n",
       "<caption>A tibble: 10 × 2</caption>\n",
       "<thead>\n",
       "\t<tr><th scope=col>.trial</th><th scope=col>.outcome</th></tr>\n",
       "\t<tr><th scope=col>&lt;dbl&gt;</th><th scope=col>&lt;int&gt;</th></tr>\n",
       "</thead>\n",
       "<tbody>\n",
       "\t<tr><td> 1</td><td>9</td></tr>\n",
       "\t<tr><td> 2</td><td>5</td></tr>\n",
       "\t<tr><td> 3</td><td>7</td></tr>\n",
       "\t<tr><td> 4</td><td>7</td></tr>\n",
       "\t<tr><td> 5</td><td>7</td></tr>\n",
       "\t<tr><td> 6</td><td>9</td></tr>\n",
       "\t<tr><td> 7</td><td>5</td></tr>\n",
       "\t<tr><td> 8</td><td>9</td></tr>\n",
       "\t<tr><td> 9</td><td>8</td></tr>\n",
       "\t<tr><td>10</td><td>7</td></tr>\n",
       "</tbody>\n",
       "</table>\n"
      ],
      "text/latex": [
       "A tibble: 10 × 2\n",
       "\\begin{tabular}{ll}\n",
       " .trial & .outcome\\\\\n",
       " <dbl> & <int>\\\\\n",
       "\\hline\n",
       "\t  1 & 9\\\\\n",
       "\t  2 & 5\\\\\n",
       "\t  3 & 7\\\\\n",
       "\t  4 & 7\\\\\n",
       "\t  5 & 7\\\\\n",
       "\t  6 & 9\\\\\n",
       "\t  7 & 5\\\\\n",
       "\t  8 & 9\\\\\n",
       "\t  9 & 8\\\\\n",
       "\t 10 & 7\\\\\n",
       "\\end{tabular}\n"
      ],
      "text/markdown": [
       "\n",
       "A tibble: 10 × 2\n",
       "\n",
       "| .trial &lt;dbl&gt; | .outcome &lt;int&gt; |\n",
       "|---|---|\n",
       "|  1 | 9 |\n",
       "|  2 | 5 |\n",
       "|  3 | 7 |\n",
       "|  4 | 7 |\n",
       "|  5 | 7 |\n",
       "|  6 | 9 |\n",
       "|  7 | 5 |\n",
       "|  8 | 9 |\n",
       "|  9 | 8 |\n",
       "| 10 | 7 |\n",
       "\n"
      ],
      "text/plain": [
       "   .trial .outcome\n",
       "1   1     9       \n",
       "2   2     5       \n",
       "3   3     7       \n",
       "4   4     7       \n",
       "5   5     7       \n",
       "6   6     9       \n",
       "7   7     5       \n",
       "8   8     9       \n",
       "9   9     8       \n",
       "10 10     7       "
      ]
     },
     "metadata": {},
     "output_type": "display_data"
    }
   ],
   "source": [
    "N <- 25\n",
    "r <- 15\n",
    "n <- 5\n",
    "num.trials <- 10\n",
    "(replicate_int(num.trials, rhyper(1, r, N - r, n))\n",
    ")"
   ]
  },
  {
   "cell_type": "markdown",
   "metadata": {
    "id": "r4SCNPB_pC0i"
   },
   "source": [
    "## Four Types of Simulation Tasks\n",
    "\n",
    "When performing a simulation, we will generally be trying to\n",
    "\n",
    "1. Estimate the probability of an event,\n",
    "2. Estimate the cut off for some region of the distribution (i.e., inverse probability),\n",
    "3. Estimate all the values for the probability mass function, or\n",
    "4. Estimating various types of expectation (mean, variance, SD, function of $X$)\n",
    "\n",
    "These strategies are demonstrated below, but are covered in more detail in the binomial notebook."
   ]
  },
  {
   "cell_type": "markdown",
   "metadata": {
    "id": "W6p04uHhhPmv"
   },
   "source": [
    "#### Estimating Probabilities\n",
    "\n",
    "**Example Question.** What the the probability that  3 or more of the 5 chips will be blue."
   ]
  },
  {
   "cell_type": "code",
   "execution_count": 10,
   "metadata": {
    "colab": {
     "base_uri": "https://localhost:8080/",
     "height": 151
    },
    "id": "e14pVYg9j2H7",
    "outputId": "bb395e30-9d00-4609-8bc8-c48c2230a150"
   },
   "outputs": [
    {
     "data": {
      "text/html": [
       "<table class=\"dataframe\">\n",
       "<caption>A tibble: 1 × 2</caption>\n",
       "<thead>\n",
       "\t<tr><th scope=col>nine.or.more</th><th scope=col>exact.prob</th></tr>\n",
       "\t<tr><th scope=col>&lt;dbl&gt;</th><th scope=col>&lt;dbl&gt;</th></tr>\n",
       "</thead>\n",
       "<tbody>\n",
       "\t<tr><td>0.213</td><td>0.2119067</td></tr>\n",
       "</tbody>\n",
       "</table>\n"
      ],
      "text/latex": [
       "A tibble: 1 × 2\n",
       "\\begin{tabular}{ll}\n",
       " nine.or.more & exact.prob\\\\\n",
       " <dbl> & <dbl>\\\\\n",
       "\\hline\n",
       "\t 0.213 & 0.2119067\\\\\n",
       "\\end{tabular}\n"
      ],
      "text/markdown": [
       "\n",
       "A tibble: 1 × 2\n",
       "\n",
       "| nine.or.more &lt;dbl&gt; | exact.prob &lt;dbl&gt; |\n",
       "|---|---|\n",
       "| 0.213 | 0.2119067 |\n",
       "\n"
      ],
      "text/plain": [
       "  nine.or.more exact.prob\n",
       "1 0.213        0.2119067 "
      ]
     },
     "metadata": {},
     "output_type": "display_data"
    }
   ],
   "source": [
    "N <- 25\n",
    "r <- 15\n",
    "n <- 5\n",
    "num.trials <- 100000\n",
    "(replicate_int(num.trials, rhyper(1, r, N - r, n))\n",
    " %>% mutate(three.or.more = .outcome >= 3)\n",
    " %>% estimate_all_prob\n",
    " %>% mutate(exact.prob = sum(dhyper(9:10, r, N - r, n)))\n",
    ")\n"
   ]
  },
  {
   "cell_type": "markdown",
   "metadata": {
    "id": "iKnUqUHdHNtv"
   },
   "source": [
    "#### Estimating the Distribution"
   ]
  },
  {
   "cell_type": "code",
   "execution_count": 8,
   "metadata": {
    "colab": {
     "base_uri": "https://localhost:8080/",
     "height": 151
    },
    "id": "-7stN3FwHirU",
    "outputId": "a870595d-7692-40f7-9d74-91409b02a8ec"
   },
   "outputs": [
    {
     "data": {
      "text/html": [
       "<table class=\"dataframe\">\n",
       "<caption>A tibble: 1 × 10</caption>\n",
       "<thead>\n",
       "\t<tr><th scope=col>X = 1</th><th scope=col>X = 10</th><th scope=col>X = 2</th><th scope=col>X = 3</th><th scope=col>X = 4</th><th scope=col>X = 5</th><th scope=col>X = 6</th><th scope=col>X = 7</th><th scope=col>X = 8</th><th scope=col>X = 9</th></tr>\n",
       "\t<tr><th scope=col>&lt;dbl&gt;</th><th scope=col>&lt;dbl&gt;</th><th scope=col>&lt;dbl&gt;</th><th scope=col>&lt;dbl&gt;</th><th scope=col>&lt;dbl&gt;</th><th scope=col>&lt;dbl&gt;</th><th scope=col>&lt;dbl&gt;</th><th scope=col>&lt;dbl&gt;</th><th scope=col>&lt;dbl&gt;</th><th scope=col>&lt;dbl&gt;</th></tr>\n",
       "</thead>\n",
       "<tbody>\n",
       "\t<tr><td>5e-05</td><td>0.04728</td><td>0.00064</td><td>0.00415</td><td>0.02146</td><td>0.0719</td><td>0.16241</td><td>0.25834</td><td>0.26629</td><td>0.16748</td></tr>\n",
       "</tbody>\n",
       "</table>\n"
      ],
      "text/latex": [
       "A tibble: 1 × 10\n",
       "\\begin{tabular}{llllllllll}\n",
       " X = 1 & X = 10 & X = 2 & X = 3 & X = 4 & X = 5 & X = 6 & X = 7 & X = 8 & X = 9\\\\\n",
       " <dbl> & <dbl> & <dbl> & <dbl> & <dbl> & <dbl> & <dbl> & <dbl> & <dbl> & <dbl>\\\\\n",
       "\\hline\n",
       "\t 5e-05 & 0.04728 & 0.00064 & 0.00415 & 0.02146 & 0.0719 & 0.16241 & 0.25834 & 0.26629 & 0.16748\\\\\n",
       "\\end{tabular}\n"
      ],
      "text/markdown": [
       "\n",
       "A tibble: 1 × 10\n",
       "\n",
       "| X = 1 &lt;dbl&gt; | X = 10 &lt;dbl&gt; | X = 2 &lt;dbl&gt; | X = 3 &lt;dbl&gt; | X = 4 &lt;dbl&gt; | X = 5 &lt;dbl&gt; | X = 6 &lt;dbl&gt; | X = 7 &lt;dbl&gt; | X = 8 &lt;dbl&gt; | X = 9 &lt;dbl&gt; |\n",
       "|---|---|---|---|---|---|---|---|---|---|\n",
       "| 5e-05 | 0.04728 | 0.00064 | 0.00415 | 0.02146 | 0.0719 | 0.16241 | 0.25834 | 0.26629 | 0.16748 |\n",
       "\n"
      ],
      "text/plain": [
       "  X = 1 X = 10  X = 2   X = 3   X = 4   X = 5  X = 6   X = 7   X = 8   X = 9  \n",
       "1 5e-05 0.04728 0.00064 0.00415 0.02146 0.0719 0.16241 0.25834 0.26629 0.16748"
      ]
     },
     "metadata": {},
     "output_type": "display_data"
    }
   ],
   "source": [
    "N <- 25\n",
    "r <- 15\n",
    "n <- 5\n",
    "num.trials <- 100000\n",
    "(replicate_int(num.trials, rhyper(1, r, N - r, n))\n",
    " %>% tabulate(.outcome)\n",
    ")"
   ]
  },
  {
   "cell_type": "markdown",
   "metadata": {
    "id": "qnimWdrcw-HY"
   },
   "source": [
    "#### Estimating the cut off for the left tail of the distribution.\n",
    "\n",
    "**Example Lower-Tail Task.** Find the cut off for the smallest 5% of number of blue chips."
   ]
  },
  {
   "cell_type": "code",
   "execution_count": 5,
   "metadata": {
    "colab": {
     "base_uri": "https://localhost:8080/",
     "height": 151
    },
    "id": "PfQQUihfxWy5",
    "outputId": "b566aa8e-beec-41fd-a3c1-daba7f421d1c"
   },
   "outputs": [
    {
     "data": {
      "text/html": [
       "<table class=\"dataframe\">\n",
       "<caption>A tibble: 1 × 1</caption>\n",
       "<thead>\n",
       "\t<tr><th scope=col>x.lower.5.percent</th></tr>\n",
       "\t<tr><th scope=col>&lt;dbl&gt;</th></tr>\n",
       "</thead>\n",
       "<tbody>\n",
       "\t<tr><td>5</td></tr>\n",
       "</tbody>\n",
       "</table>\n"
      ],
      "text/latex": [
       "A tibble: 1 × 1\n",
       "\\begin{tabular}{l}\n",
       " x.lower.5.percent\\\\\n",
       " <dbl>\\\\\n",
       "\\hline\n",
       "\t 5\\\\\n",
       "\\end{tabular}\n"
      ],
      "text/markdown": [
       "\n",
       "A tibble: 1 × 1\n",
       "\n",
       "| x.lower.5.percent &lt;dbl&gt; |\n",
       "|---|\n",
       "| 5 |\n",
       "\n"
      ],
      "text/plain": [
       "  x.lower.5.percent\n",
       "1 5                "
      ]
     },
     "metadata": {},
     "output_type": "display_data"
    }
   ],
   "source": [
    "N <- 25\n",
    "r <- 15\n",
    "n <- 5\n",
    "left.tail.percent <- 0.05\n",
    "num.trials <- 100000\n",
    "(replicate_int(num.trials, rhyper(1, r, N - r, n))\n",
    " %>% summarise(x.lower.5.percent = quantile(.outcome, left.tail.percent))\n",
    ")"
   ]
  },
  {
   "cell_type": "markdown",
   "metadata": {
    "id": "WVEb3-q7Nxq2"
   },
   "source": [
    "#### Example Upper-Tail Task - Find the cut off for the largest 10% of number of blue chips"
   ]
  },
  {
   "cell_type": "code",
   "execution_count": 7,
   "metadata": {
    "colab": {
     "base_uri": "https://localhost:8080/",
     "height": 151
    },
    "id": "sBwZ-hiIN4vm",
    "outputId": "6e95d0f3-0562-4563-d51d-9b8d089f4cab"
   },
   "outputs": [
    {
     "data": {
      "text/html": [
       "<table class=\"dataframe\">\n",
       "<caption>A tibble: 1 × 1</caption>\n",
       "<thead>\n",
       "\t<tr><th scope=col>x.lower.5.percent</th></tr>\n",
       "\t<tr><th scope=col>&lt;dbl&gt;</th></tr>\n",
       "</thead>\n",
       "<tbody>\n",
       "\t<tr><td>10</td></tr>\n",
       "</tbody>\n",
       "</table>\n"
      ],
      "text/latex": [
       "A tibble: 1 × 1\n",
       "\\begin{tabular}{l}\n",
       " x.lower.5.percent\\\\\n",
       " <dbl>\\\\\n",
       "\\hline\n",
       "\t 10\\\\\n",
       "\\end{tabular}\n"
      ],
      "text/markdown": [
       "\n",
       "A tibble: 1 × 1\n",
       "\n",
       "| x.lower.5.percent &lt;dbl&gt; |\n",
       "|---|\n",
       "| 10 |\n",
       "\n"
      ],
      "text/plain": [
       "  x.lower.5.percent\n",
       "1 10               "
      ]
     },
     "metadata": {},
     "output_type": "display_data"
    }
   ],
   "source": [
    "N <- 25\n",
    "r <- 15\n",
    "n <- 5\n",
    "left.tail.percent <- 1 - 0.10\n",
    "num.trials <- 100000\n",
    "(replicate_int(num.trials, rhyper(1, r, N - r, n))\n",
    " %>% summarise(x.upper.10.percent = quantile(.outcome, left.tail.percent) + 1)\n",
    ")"
   ]
  },
  {
   "cell_type": "markdown",
   "metadata": {
    "id": "OuNvrVWaD88x"
   },
   "source": [
    "####  Estimating the mean, variance, and standard deviation number of blue chips and compare to theoretical values"
   ]
  },
  {
   "cell_type": "code",
   "execution_count": null,
   "metadata": {
    "colab": {
     "base_uri": "https://localhost:8080/",
     "height": 125
    },
    "id": "zfJ8B5dLEouy",
    "outputId": "87612604-d241-4966-f8b2-e135701ab042"
   },
   "outputs": [
    {
     "data": {
      "text/html": [
       "<table class=\"dataframe\">\n",
       "<caption>A tibble: 1 × 6</caption>\n",
       "<thead>\n",
       "\t<tr><th scope=col>approx.mu</th><th scope=col>actual.mu</th><th scope=col>approx.var</th><th scope=col>actual.var</th><th scope=col>approx.sd</th><th scope=col>actual.sd</th></tr>\n",
       "\t<tr><th scope=col>&lt;dbl&gt;</th><th scope=col>&lt;dbl&gt;</th><th scope=col>&lt;dbl&gt;</th><th scope=col>&lt;dbl&gt;</th><th scope=col>&lt;dbl&gt;</th><th scope=col>&lt;dbl&gt;</th></tr>\n",
       "</thead>\n",
       "<tbody>\n",
       "\t<tr><td>7.35553</td><td>7.35</td><td>1.946488</td><td>1.94775</td><td>1.395166</td><td>1.395618</td></tr>\n",
       "</tbody>\n",
       "</table>\n"
      ],
      "text/latex": [
       "A tibble: 1 × 6\n",
       "\\begin{tabular}{llllll}\n",
       " approx.mu & actual.mu & approx.var & actual.var & approx.sd & actual.sd\\\\\n",
       " <dbl> & <dbl> & <dbl> & <dbl> & <dbl> & <dbl>\\\\\n",
       "\\hline\n",
       "\t 7.35553 & 7.35 & 1.946488 & 1.94775 & 1.395166 & 1.395618\\\\\n",
       "\\end{tabular}\n"
      ],
      "text/markdown": [
       "\n",
       "A tibble: 1 × 6\n",
       "\n",
       "| approx.mu &lt;dbl&gt; | actual.mu &lt;dbl&gt; | approx.var &lt;dbl&gt; | actual.var &lt;dbl&gt; | approx.sd &lt;dbl&gt; | actual.sd &lt;dbl&gt; |\n",
       "|---|---|---|---|---|---|\n",
       "| 7.35553 | 7.35 | 1.946488 | 1.94775 | 1.395166 | 1.395618 |\n",
       "\n"
      ],
      "text/plain": [
       "  approx.mu actual.mu approx.var actual.var approx.sd actual.sd\n",
       "1 7.35553   7.35      1.946488   1.94775    1.395166  1.395618 "
      ]
     },
     "metadata": {},
     "output_type": "display_data"
    }
   ],
   "source": [
    "N <- 25\n",
    "r <- 15\n",
    "n <- 5\n",
    "p <- r/N\n",
    "finite.correct <- (N - n)/(N - 1)\n",
    "num.trials <- 10000\n",
    "(replicate_int(num.trials, rhyper(1, r, N - r, n))\n",
    "  %>% summarise(approx.mu = mean(.outcome),\n",
    "                approx.var = var(.outcome),\n",
    "                approx.sd = sd(.outcome))\n",
    "  %>% mutate(actual.mu = n*p,\n",
    "             actual.var = n*p*(1-p)*finite.correct,\n",
    "             actual.sd = sqrt(actual.var))\n",
    "  %>% relocate(actual.mu, .after = approx.mu)\n",
    "  %>% relocate(actual.var, .after = approx.var)\n",
    "  %>% relocate(actual.sd, .after = approx.sd)\n",
    ")\n",
    "\n"
   ]
  },
  {
   "attachments": {},
   "cell_type": "markdown",
   "metadata": {
    "id": "rgY5HU3jkbHe"
   },
   "source": [
    "### <font color=\"red\"> Exercise 2.3.1 - Hypergeometric problems </font>\n",
    "\n",
    "In a small pond, there are 50 fish, 10 of which have been tagged.  A fisherman’s catch consists of seven fish, selected at random and without replacement.  Let $X$ represent the number of the seven fish that are tagged.\n",
    "\n",
    "**Tasks.**\n",
    "1. Explain why we should use the hypergeometric distribution here.\n",
    "2. Estimate $P(X≥2)$ two ways: by generating raw outcomes and using `rhyper`.\n",
    "3. Find the cut-off for the largest 25% of the distribution.\n",
    "4. Use  `tabulate` to estimate the PMF of $X$."
   ]
  },
  {
   "cell_type": "code",
   "execution_count": null,
   "metadata": {
    "id": "PJkwDLDD_naB"
   },
   "outputs": [],
   "source": [
    "# Your code there"
   ]
  },
  {
   "attachments": {},
   "cell_type": "markdown",
   "metadata": {
    "id": "rgY5HU3jkbHe"
   },
   "source": [
    "### <font color=\"red\"> Exercise 2.3.2 - Estimating the population size </font>\n",
    "\n",
    "Using the same set up as the last problem (50 fish; 10 of which have been tagged; catch consists of seven fish) and again let $X$ represent the number of the seven fish that are tagged.  Imagine the the fisherman doesn't know the total number of fish in the pond, but *does* know that there are 10 tagged fish.  She will using the following formula to estimate $\\hat{N} \\approx r/\\hat{p}$ the total number of fish in the lake, where $\\hat{p}$ is the sample proportion of tagged fish.\n",
    "\n",
    "**Tasks.**\n",
    "1. Note that the proportion of tagged fish in the pond is given by $p=\\frac{r}{N}$ Use this fact to explain why the estimation formula makes sense.\n",
    "2. Set up a simulation to estimate the PMF of $\\hat{N}$.\n",
    "3. Esimate the mean, variance, and SD of $\\hat{N}$.\n",
    "4. An estimate is said to be **unbiased** if the expected value of the estimate is the same as the actual population value.  Is this estimator unbiased?  Explain."
   ]
  },
  {
   "cell_type": "code",
   "execution_count": null,
   "metadata": {
    "id": "PJkwDLDD_naB"
   },
   "outputs": [],
   "source": [
    "# Your code there"
   ]
  }
 ],
 "metadata": {
  "colab": {
   "authorship_tag": "ABX9TyMMSjKrkOQvIimF9X4ci2ql",
   "include_colab_link": true,
   "provenance": []
  },
  "kernelspec": {
   "display_name": "R",
   "language": "R",
   "name": "ir"
  },
  "language_info": {
   "codemirror_mode": "r",
   "file_extension": ".r",
   "mimetype": "text/x-r-source",
   "name": "R",
   "pygments_lexer": "r",
   "version": "4.2.3"
  },
  "varInspector": {
   "cols": {
    "lenName": 16,
    "lenType": 16,
    "lenVar": 40
   },
   "kernels_config": {
    "python": {
     "delete_cmd_postfix": "",
     "delete_cmd_prefix": "del ",
     "library": "var_list.py",
     "varRefreshCmd": "print(var_dic_list())"
    },
    "r": {
     "delete_cmd_postfix": ") ",
     "delete_cmd_prefix": "rm(",
     "library": "var_list.r",
     "varRefreshCmd": "cat(var_dic_list()) "
    }
   },
   "types_to_exclude": [
    "module",
    "function",
    "builtin_function_or_method",
    "instance",
    "_Feature"
   ],
   "window_display": false
  }
 },
 "nbformat": 4,
 "nbformat_minor": 1
}
