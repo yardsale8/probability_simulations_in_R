{
  "cells": [
    {
      "cell_type": "markdown",
      "metadata": {
        "id": "view-in-github",
        "colab_type": "text"
      },
      "source": [
        "<a href=\"https://colab.research.google.com/github/yardsale8/probability_simulations_in_R/blob/main/2_3_simulating_the_hypergeometric_distribution.ipynb\" target=\"_parent\"><img src=\"https://colab.research.google.com/assets/colab-badge.svg\" alt=\"Open In Colab\"/></a>"
      ]
    },
    {
      "cell_type": "code",
      "execution_count": null,
      "metadata": {
        "id": "iRu0cs3yqK8Y"
      },
      "outputs": [],
      "source": [
        "library(dplyr)\n",
        "library(tidyr)\n",
        "library(purrr)\n",
        "library(devtools)\n",
        "install_github('yardsale8/purrrfect', force = TRUE)\n",
        "library(purrrfect)"
      ]
    },
    {
      "cell_type": "markdown",
      "metadata": {
        "id": "h3G2-mjtmcG-"
      },
      "source": [
        "# Simulating the Hypergeometric Distribution\n",
        "\n",
        "In this notebook, we will explore another distribution related to counting success. The hypergeometric distribution is the similar as the binomial distribution, except we are **sampling without replacement** from a finite population.\n",
        "\n",
        "1. Simulating the raw outcomes using `sample` and converting to the number of success, as well as\n",
        "2. Simulating the number of successes directly using `rhyper`.\n",
        "\n",
        "Finally, we will illustrate how to use simulations to estimate various quantities of interest."
      ]
    },
    {
      "cell_type": "markdown",
      "metadata": {
        "id": "YEX80xOym42U"
      },
      "source": [
        "### Review - Urn Problem\n",
        "\n",
        "The classic analogy of interest is drawing chips from an urn, such that\n",
        "\n",
        "1. The chips consist of two colors (denoted success and failure),\n",
        "2. A fixed number of chips are drawn, and\n",
        "3. Chips are drawn without replacement."
      ]
    },
    {
      "cell_type": "markdown",
      "metadata": {
        "id": "uALpyFI_nVOr"
      },
      "source": [
        "### The hypergeomtric distribution\n",
        "\n",
        "Suppose that we draw $n$ chips from a population contains $r$ total successes.  If $X$ is the number of successes in the $n$ draws, then $X$ will have a hypergeomtric distribution.  <font color=\"red\"> NEED LINK</font>"
      ]
    },
    {
      "cell_type": "markdown",
      "metadata": {
        "id": "MNVkUvCXn5qR"
      },
      "source": [
        "## Strategies for simulating the hypergeometric distribution\n",
        "\n",
        "1. Simulate the urn by using `sample` with `replace=FALSE`, then transform into the number of success using either reshaping or `mutate` + `map`.\n",
        "2. Simulate the number of successes directly using `rhyper`."
      ]
    },
    {
      "cell_type": "markdown",
      "metadata": {
        "id": "8FctsvUzodWG"
      },
      "source": [
        "### Example - Drawing chips from an urn\n",
        "\n",
        "Suppose that we are drawing $n = 5$ chips from an urn with $r=15$ of the $N = 25$ being colored blue, and recording the number of blue chips.  We can simulating the raw outcomes for this scenario by\n",
        "\n",
        "1. Creating a vector of strings to model the urn, and\n",
        "2. Using `sample` with `replace=FALSE` to draw chips."
      ]
    },
    {
      "cell_type": "code",
      "execution_count": 3,
      "metadata": {
        "id": "co0K4wsfbr27",
        "outputId": "2f670306-9c25-4da7-d827-0be4218519d5",
        "colab": {
          "base_uri": "https://localhost:8080/",
          "height": 407
        }
      },
      "outputs": [
        {
          "output_type": "display_data",
          "data": {
            "text/html": [
              "<table class=\"dataframe\">\n",
              "<caption>A tibble: 10 × 2</caption>\n",
              "<thead>\n",
              "\t<tr><th scope=col>.trial</th><th scope=col>.outcome</th></tr>\n",
              "\t<tr><th scope=col>&lt;dbl&gt;</th><th scope=col>&lt;list&gt;</th></tr>\n",
              "</thead>\n",
              "<tbody>\n",
              "\t<tr><td> 1</td><td>W, W, B, B, W</td></tr>\n",
              "\t<tr><td> 2</td><td>B, W, B, W, B</td></tr>\n",
              "\t<tr><td> 3</td><td>W, B, W, W, B</td></tr>\n",
              "\t<tr><td> 4</td><td>B, B, B, B, W</td></tr>\n",
              "\t<tr><td> 5</td><td>B, W, B, B, W</td></tr>\n",
              "\t<tr><td> 6</td><td>B, B, W, B, W</td></tr>\n",
              "\t<tr><td> 7</td><td>B, W, B, W, B</td></tr>\n",
              "\t<tr><td> 8</td><td>B, W, B, B, B</td></tr>\n",
              "\t<tr><td> 9</td><td>B, W, B, B, B</td></tr>\n",
              "\t<tr><td>10</td><td>B, B, W, B, B</td></tr>\n",
              "</tbody>\n",
              "</table>\n"
            ],
            "text/markdown": "\nA tibble: 10 × 2\n\n| .trial &lt;dbl&gt; | .outcome &lt;list&gt; |\n|---|---|\n|  1 | W, W, B, B, W |\n|  2 | B, W, B, W, B |\n|  3 | W, B, W, W, B |\n|  4 | B, B, B, B, W |\n|  5 | B, W, B, B, W |\n|  6 | B, B, W, B, W |\n|  7 | B, W, B, W, B |\n|  8 | B, W, B, B, B |\n|  9 | B, W, B, B, B |\n| 10 | B, B, W, B, B |\n\n",
            "text/latex": "A tibble: 10 × 2\n\\begin{tabular}{ll}\n .trial & .outcome\\\\\n <dbl> & <list>\\\\\n\\hline\n\t  1 & W, W, B, B, W\\\\\n\t  2 & B, W, B, W, B\\\\\n\t  3 & W, B, W, W, B\\\\\n\t  4 & B, B, B, B, W\\\\\n\t  5 & B, W, B, B, W\\\\\n\t  6 & B, B, W, B, W\\\\\n\t  7 & B, W, B, W, B\\\\\n\t  8 & B, W, B, B, B\\\\\n\t  9 & B, W, B, B, B\\\\\n\t 10 & B, B, W, B, B\\\\\n\\end{tabular}\n",
            "text/plain": [
              "   .trial .outcome     \n",
              "1   1     W, W, B, B, W\n",
              "2   2     B, W, B, W, B\n",
              "3   3     W, B, W, W, B\n",
              "4   4     B, B, B, B, W\n",
              "5   5     B, W, B, B, W\n",
              "6   6     B, B, W, B, W\n",
              "7   7     B, W, B, W, B\n",
              "8   8     B, W, B, B, B\n",
              "9   9     B, W, B, B, B\n",
              "10 10     B, B, W, B, B"
            ]
          },
          "metadata": {}
        }
      ],
      "source": [
        "N <- 25\n",
        "r <- 15\n",
        "n <- 5\n",
        "urn <- c(rep('B', r),\n",
        "         rep('W', N - r))\n",
        "replicate(10, sample(urn, n, replace = FALSE))"
      ]
    },
    {
      "cell_type": "markdown",
      "metadata": {
        "id": "t1f8ch1Wbr28"
      },
      "source": [
        "### Review - Converting raw outcomes to the number of successes\n",
        "\n",
        "We will illustrate this process in three ways to convert the raw outcomes to the number of successes.\n",
        "\n",
        "1. Reshaping to compute number of successes,\n",
        "2. Using `mutate` + `map` to compute number of successes, or\n",
        "3. Using either `mutate` + `num_successes_int` or `col_num_successes`"
      ]
    },
    {
      "cell_type": "markdown",
      "metadata": {
        "id": "m1We1-nNp40g"
      },
      "source": [
        "#### Approach 1 - Simulate individual shots, reshape, and compute successes.\n",
        "\n",
        "Comment out lines to explore the output in each step."
      ]
    },
    {
      "cell_type": "code",
      "execution_count": 6,
      "metadata": {
        "colab": {
          "base_uri": "https://localhost:8080/",
          "height": 407
        },
        "id": "8-MWzoX1mbQc",
        "outputId": "beb9fa49-811a-4d44-ff48-65b0770ee632"
      },
      "outputs": [
        {
          "output_type": "display_data",
          "data": {
            "text/html": [
              "<table class=\"dataframe\">\n",
              "<caption>A tibble: 10 × 2</caption>\n",
              "<thead>\n",
              "\t<tr><th scope=col>.trial</th><th scope=col>num.successes</th></tr>\n",
              "\t<tr><th scope=col>&lt;dbl&gt;</th><th scope=col>&lt;dbl&gt;</th></tr>\n",
              "</thead>\n",
              "<tbody>\n",
              "\t<tr><td> 1</td><td>3</td></tr>\n",
              "\t<tr><td> 2</td><td>4</td></tr>\n",
              "\t<tr><td> 3</td><td>4</td></tr>\n",
              "\t<tr><td> 4</td><td>4</td></tr>\n",
              "\t<tr><td> 5</td><td>3</td></tr>\n",
              "\t<tr><td> 6</td><td>2</td></tr>\n",
              "\t<tr><td> 7</td><td>2</td></tr>\n",
              "\t<tr><td> 8</td><td>4</td></tr>\n",
              "\t<tr><td> 9</td><td>3</td></tr>\n",
              "\t<tr><td>10</td><td>3</td></tr>\n",
              "</tbody>\n",
              "</table>\n"
            ],
            "text/markdown": "\nA tibble: 10 × 2\n\n| .trial &lt;dbl&gt; | num.successes &lt;dbl&gt; |\n|---|---|\n|  1 | 3 |\n|  2 | 4 |\n|  3 | 4 |\n|  4 | 4 |\n|  5 | 3 |\n|  6 | 2 |\n|  7 | 2 |\n|  8 | 4 |\n|  9 | 3 |\n| 10 | 3 |\n\n",
            "text/latex": "A tibble: 10 × 2\n\\begin{tabular}{ll}\n .trial & num.successes\\\\\n <dbl> & <dbl>\\\\\n\\hline\n\t  1 & 3\\\\\n\t  2 & 4\\\\\n\t  3 & 4\\\\\n\t  4 & 4\\\\\n\t  5 & 3\\\\\n\t  6 & 2\\\\\n\t  7 & 2\\\\\n\t  8 & 4\\\\\n\t  9 & 3\\\\\n\t 10 & 3\\\\\n\\end{tabular}\n",
            "text/plain": [
              "   .trial num.successes\n",
              "1   1     3            \n",
              "2   2     4            \n",
              "3   3     4            \n",
              "4   4     4            \n",
              "5   5     3            \n",
              "6   6     2            \n",
              "7   7     2            \n",
              "8   8     4            \n",
              "9   9     3            \n",
              "10 10     3            "
            ]
          },
          "metadata": {}
        }
      ],
      "source": [
        "N <- 25\n",
        "r <- 15\n",
        "n <- 5\n",
        "urn <- c(rep('B', r),\n",
        "         rep('W', N - r))\n",
        "num.trials <- 10\n",
        "(replicate(num.trials, sample(urn, n, replace = FALSE), .reshape = 'stack')\n",
        " %>% mutate(is.success = ifelse(.outcome == 'B', 1, 0))\n",
        " %>% group_by(.trial) %>% summarise(num.successes = sum(is.success))\n",
        " )"
      ]
    },
    {
      "cell_type": "markdown",
      "metadata": {
        "id": "Hash1kXErgbz"
      },
      "source": [
        "#### Approach 2 - Simulate individual shots, recode outcomes, and compute successes using `mutate` and `map`\n",
        "\n",
        "Comment out lines to explore the output in each step."
      ]
    },
    {
      "cell_type": "code",
      "execution_count": 5,
      "metadata": {
        "colab": {
          "base_uri": "https://localhost:8080/",
          "height": 407
        },
        "id": "p3oKX5a1rG7A",
        "outputId": "64c676aa-8291-466b-b793-1ab92cc7b2c3"
      },
      "outputs": [
        {
          "output_type": "display_data",
          "data": {
            "text/html": [
              "<table class=\"dataframe\">\n",
              "<caption>A tibble: 10 × 4</caption>\n",
              "<thead>\n",
              "\t<tr><th scope=col>.trial</th><th scope=col>.outcome</th><th scope=col>is.success</th><th scope=col>num.successes</th></tr>\n",
              "\t<tr><th scope=col>&lt;dbl&gt;</th><th scope=col>&lt;list&gt;</th><th scope=col>&lt;list&gt;</th><th scope=col>&lt;int&gt;</th></tr>\n",
              "</thead>\n",
              "<tbody>\n",
              "\t<tr><td> 1</td><td>B, W, B, B, B</td><td>1, 0, 1, 1, 1</td><td>4</td></tr>\n",
              "\t<tr><td> 2</td><td>B, W, B, B, W</td><td>1, 0, 1, 1, 0</td><td>3</td></tr>\n",
              "\t<tr><td> 3</td><td>B, B, W, B, W</td><td>1, 1, 0, 1, 0</td><td>3</td></tr>\n",
              "\t<tr><td> 4</td><td>W, W, B, B, W</td><td>0, 0, 1, 1, 0</td><td>2</td></tr>\n",
              "\t<tr><td> 5</td><td>W, B, W, B, B</td><td>0, 1, 0, 1, 1</td><td>3</td></tr>\n",
              "\t<tr><td> 6</td><td>B, B, B, W, B</td><td>1, 1, 1, 0, 1</td><td>4</td></tr>\n",
              "\t<tr><td> 7</td><td>W, W, B, B, B</td><td>0, 0, 1, 1, 1</td><td>3</td></tr>\n",
              "\t<tr><td> 8</td><td>W, B, B, B, B</td><td>0, 1, 1, 1, 1</td><td>4</td></tr>\n",
              "\t<tr><td> 9</td><td>B, B, W, W, W</td><td>1, 1, 0, 0, 0</td><td>2</td></tr>\n",
              "\t<tr><td>10</td><td>W, W, B, B, W</td><td>0, 0, 1, 1, 0</td><td>2</td></tr>\n",
              "</tbody>\n",
              "</table>\n"
            ],
            "text/markdown": "\nA tibble: 10 × 4\n\n| .trial &lt;dbl&gt; | .outcome &lt;list&gt; | is.success &lt;list&gt; | num.successes &lt;int&gt; |\n|---|---|---|---|\n|  1 | B, W, B, B, B | 1, 0, 1, 1, 1 | 4 |\n|  2 | B, W, B, B, W | 1, 0, 1, 1, 0 | 3 |\n|  3 | B, B, W, B, W | 1, 1, 0, 1, 0 | 3 |\n|  4 | W, W, B, B, W | 0, 0, 1, 1, 0 | 2 |\n|  5 | W, B, W, B, B | 0, 1, 0, 1, 1 | 3 |\n|  6 | B, B, B, W, B | 1, 1, 1, 0, 1 | 4 |\n|  7 | W, W, B, B, B | 0, 0, 1, 1, 1 | 3 |\n|  8 | W, B, B, B, B | 0, 1, 1, 1, 1 | 4 |\n|  9 | B, B, W, W, W | 1, 1, 0, 0, 0 | 2 |\n| 10 | W, W, B, B, W | 0, 0, 1, 1, 0 | 2 |\n\n",
            "text/latex": "A tibble: 10 × 4\n\\begin{tabular}{llll}\n .trial & .outcome & is.success & num.successes\\\\\n <dbl> & <list> & <list> & <int>\\\\\n\\hline\n\t  1 & B, W, B, B, B & 1, 0, 1, 1, 1 & 4\\\\\n\t  2 & B, W, B, B, W & 1, 0, 1, 1, 0 & 3\\\\\n\t  3 & B, B, W, B, W & 1, 1, 0, 1, 0 & 3\\\\\n\t  4 & W, W, B, B, W & 0, 0, 1, 1, 0 & 2\\\\\n\t  5 & W, B, W, B, B & 0, 1, 0, 1, 1 & 3\\\\\n\t  6 & B, B, B, W, B & 1, 1, 1, 0, 1 & 4\\\\\n\t  7 & W, W, B, B, B & 0, 0, 1, 1, 1 & 3\\\\\n\t  8 & W, B, B, B, B & 0, 1, 1, 1, 1 & 4\\\\\n\t  9 & B, B, W, W, W & 1, 1, 0, 0, 0 & 2\\\\\n\t 10 & W, W, B, B, W & 0, 0, 1, 1, 0 & 2\\\\\n\\end{tabular}\n",
            "text/plain": [
              "   .trial .outcome      is.success    num.successes\n",
              "1   1     B, W, B, B, B 1, 0, 1, 1, 1 4            \n",
              "2   2     B, W, B, B, W 1, 0, 1, 1, 0 3            \n",
              "3   3     B, B, W, B, W 1, 1, 0, 1, 0 3            \n",
              "4   4     W, W, B, B, W 0, 0, 1, 1, 0 2            \n",
              "5   5     W, B, W, B, B 0, 1, 0, 1, 1 3            \n",
              "6   6     B, B, B, W, B 1, 1, 1, 0, 1 4            \n",
              "7   7     W, W, B, B, B 0, 0, 1, 1, 1 3            \n",
              "8   8     W, B, B, B, B 0, 1, 1, 1, 1 4            \n",
              "9   9     B, B, W, W, W 1, 1, 0, 0, 0 2            \n",
              "10 10     W, W, B, B, W 0, 0, 1, 1, 0 2            "
            ]
          },
          "metadata": {}
        }
      ],
      "source": [
        "N <- 25\n",
        "r <- 15\n",
        "n <- 5\n",
        "urn <- c(rep('B', r),\n",
        "         rep('W', N - r))\n",
        "num.trials <- 10\n",
        "(replicate(num.trials, sample(urn, n, replace = FALSE))\n",
        " %>% mutate(is.success = map(.outcome, \\(x) ifelse(x == 'B', 1, 0)))\n",
        " %>% mutate(num.successes = map_int(is.success, sum))\n",
        " )"
      ]
    },
    {
      "cell_type": "markdown",
      "metadata": {
        "id": "RHnySCx5br2-"
      },
      "source": [
        "#### Approach 3 - Using the number of successes helper functions"
      ]
    },
    {
      "cell_type": "code",
      "execution_count": 8,
      "metadata": {
        "id": "4q7jPlfvbr2-",
        "outputId": "741c5740-cb5d-4212-948f-56f9d6fb9d02",
        "colab": {
          "base_uri": "https://localhost:8080/",
          "height": 407
        }
      },
      "outputs": [
        {
          "output_type": "display_data",
          "data": {
            "text/html": [
              "<table class=\"dataframe\">\n",
              "<caption>A tibble: 10 × 3</caption>\n",
              "<thead>\n",
              "\t<tr><th scope=col>.trial</th><th scope=col>.outcome</th><th scope=col>.successes</th></tr>\n",
              "\t<tr><th scope=col>&lt;dbl&gt;</th><th scope=col>&lt;list&gt;</th><th scope=col>&lt;int&gt;</th></tr>\n",
              "</thead>\n",
              "<tbody>\n",
              "\t<tr><td> 1</td><td>W, B, B, W, B</td><td>3</td></tr>\n",
              "\t<tr><td> 2</td><td>W, B, B, B, B</td><td>4</td></tr>\n",
              "\t<tr><td> 3</td><td>W, B, W, W, W</td><td>1</td></tr>\n",
              "\t<tr><td> 4</td><td>B, W, B, B, B</td><td>4</td></tr>\n",
              "\t<tr><td> 5</td><td>B, W, B, W, B</td><td>3</td></tr>\n",
              "\t<tr><td> 6</td><td>B, B, W, B, W</td><td>3</td></tr>\n",
              "\t<tr><td> 7</td><td>B, W, B, B, W</td><td>3</td></tr>\n",
              "\t<tr><td> 8</td><td>W, B, B, B, B</td><td>4</td></tr>\n",
              "\t<tr><td> 9</td><td>B, W, B, B, W</td><td>3</td></tr>\n",
              "\t<tr><td>10</td><td>W, W, B, W, B</td><td>2</td></tr>\n",
              "</tbody>\n",
              "</table>\n"
            ],
            "text/markdown": "\nA tibble: 10 × 3\n\n| .trial &lt;dbl&gt; | .outcome &lt;list&gt; | .successes &lt;int&gt; |\n|---|---|---|\n|  1 | W, B, B, W, B | 3 |\n|  2 | W, B, B, B, B | 4 |\n|  3 | W, B, W, W, W | 1 |\n|  4 | B, W, B, B, B | 4 |\n|  5 | B, W, B, W, B | 3 |\n|  6 | B, B, W, B, W | 3 |\n|  7 | B, W, B, B, W | 3 |\n|  8 | W, B, B, B, B | 4 |\n|  9 | B, W, B, B, W | 3 |\n| 10 | W, W, B, W, B | 2 |\n\n",
            "text/latex": "A tibble: 10 × 3\n\\begin{tabular}{lll}\n .trial & .outcome & .successes\\\\\n <dbl> & <list> & <int>\\\\\n\\hline\n\t  1 & W, B, B, W, B & 3\\\\\n\t  2 & W, B, B, B, B & 4\\\\\n\t  3 & W, B, W, W, W & 1\\\\\n\t  4 & B, W, B, B, B & 4\\\\\n\t  5 & B, W, B, W, B & 3\\\\\n\t  6 & B, B, W, B, W & 3\\\\\n\t  7 & B, W, B, B, W & 3\\\\\n\t  8 & W, B, B, B, B & 4\\\\\n\t  9 & B, W, B, B, W & 3\\\\\n\t 10 & W, W, B, W, B & 2\\\\\n\\end{tabular}\n",
            "text/plain": [
              "   .trial .outcome      .successes\n",
              "1   1     W, B, B, W, B 3         \n",
              "2   2     W, B, B, B, B 4         \n",
              "3   3     W, B, W, W, W 1         \n",
              "4   4     B, W, B, B, B 4         \n",
              "5   5     B, W, B, W, B 3         \n",
              "6   6     B, B, W, B, W 3         \n",
              "7   7     B, W, B, B, W 3         \n",
              "8   8     W, B, B, B, B 4         \n",
              "9   9     B, W, B, B, W 3         \n",
              "10 10     W, W, B, W, B 2         "
            ]
          },
          "metadata": {}
        }
      ],
      "source": [
        "N <- 25\n",
        "r <- 15\n",
        "n <- 5\n",
        "urn <- c(rep('B', r),\n",
        "         rep('W', N - r))\n",
        "num.trials <- 10\n",
        "(replicate(num.trials, sample(urn, n, replace = FALSE))\n",
        "#   %>% mutate(.successes = num_successes_int(.outcome, 'B'))\n",
        "  %>% col_num_successes(.outcome, 'B')\n",
        ")"
      ]
    },
    {
      "cell_type": "markdown",
      "metadata": {
        "id": "OsqQABvEsQvA"
      },
      "source": [
        "### Simulate the number of successes directly using `rhyper`\n",
        "\n",
        "Alternative, we can use the `rhyper` base `R` functions to generate the number of successes directly.  Note that the signature of `rhyper` is `rhyper(nn, m, n, k)` (use help!).  Here will use `nn = 1` to mean one experiment per row, with an urn with `m` and `n` blue chips when drawing a sample of `k` chips.  \n",
        "\n",
        "**Note.** The parameters used by `rhyper` are none standard, so be prepared to make generous use of `?`/`help`."
      ]
    },
    {
      "cell_type": "code",
      "execution_count": null,
      "metadata": {
        "id": "7BVxfK6vbr2_"
      },
      "outputs": [],
      "source": [
        "?rhyper"
      ]
    },
    {
      "cell_type": "code",
      "execution_count": 9,
      "metadata": {
        "colab": {
          "base_uri": "https://localhost:8080/",
          "height": 407
        },
        "id": "9t1BloQFsLLt",
        "outputId": "9ec047ad-1538-44f9-d07c-bd577d668167"
      },
      "outputs": [
        {
          "output_type": "display_data",
          "data": {
            "text/html": [
              "<table class=\"dataframe\">\n",
              "<caption>A tibble: 10 × 2</caption>\n",
              "<thead>\n",
              "\t<tr><th scope=col>.trial</th><th scope=col>.outcome</th></tr>\n",
              "\t<tr><th scope=col>&lt;dbl&gt;</th><th scope=col>&lt;int&gt;</th></tr>\n",
              "</thead>\n",
              "<tbody>\n",
              "\t<tr><td> 1</td><td>2</td></tr>\n",
              "\t<tr><td> 2</td><td>4</td></tr>\n",
              "\t<tr><td> 3</td><td>2</td></tr>\n",
              "\t<tr><td> 4</td><td>5</td></tr>\n",
              "\t<tr><td> 5</td><td>2</td></tr>\n",
              "\t<tr><td> 6</td><td>1</td></tr>\n",
              "\t<tr><td> 7</td><td>3</td></tr>\n",
              "\t<tr><td> 8</td><td>4</td></tr>\n",
              "\t<tr><td> 9</td><td>3</td></tr>\n",
              "\t<tr><td>10</td><td>5</td></tr>\n",
              "</tbody>\n",
              "</table>\n"
            ],
            "text/markdown": "\nA tibble: 10 × 2\n\n| .trial &lt;dbl&gt; | .outcome &lt;int&gt; |\n|---|---|\n|  1 | 2 |\n|  2 | 4 |\n|  3 | 2 |\n|  4 | 5 |\n|  5 | 2 |\n|  6 | 1 |\n|  7 | 3 |\n|  8 | 4 |\n|  9 | 3 |\n| 10 | 5 |\n\n",
            "text/latex": "A tibble: 10 × 2\n\\begin{tabular}{ll}\n .trial & .outcome\\\\\n <dbl> & <int>\\\\\n\\hline\n\t  1 & 2\\\\\n\t  2 & 4\\\\\n\t  3 & 2\\\\\n\t  4 & 5\\\\\n\t  5 & 2\\\\\n\t  6 & 1\\\\\n\t  7 & 3\\\\\n\t  8 & 4\\\\\n\t  9 & 3\\\\\n\t 10 & 5\\\\\n\\end{tabular}\n",
            "text/plain": [
              "   .trial .outcome\n",
              "1   1     2       \n",
              "2   2     4       \n",
              "3   3     2       \n",
              "4   4     5       \n",
              "5   5     2       \n",
              "6   6     1       \n",
              "7   7     3       \n",
              "8   8     4       \n",
              "9   9     3       \n",
              "10 10     5       "
            ]
          },
          "metadata": {}
        }
      ],
      "source": [
        "N <- 25\n",
        "r <- 15\n",
        "n <- 5\n",
        "num.trials <- 10\n",
        "(replicate_int(num.trials, rhyper(1, r, N - r, n))\n",
        ")"
      ]
    },
    {
      "cell_type": "markdown",
      "metadata": {
        "id": "r4SCNPB_pC0i"
      },
      "source": [
        "## Four Types of Simulation Tasks\n",
        "\n",
        "When performing a simulation, we will generally be trying to\n",
        "\n",
        "1. Estimate the probability of an event,\n",
        "2. Estimate the cut off for some region of the distribution (i.e., inverse probability),\n",
        "3. Estimate all the values for the probability mass function, or\n",
        "4. Estimating various types of expectation (mean, variance, SD, function of $X$)\n",
        "\n",
        "These strategies are demonstrated below, but are covered in more detail in the binomial notebook."
      ]
    },
    {
      "cell_type": "markdown",
      "metadata": {
        "id": "W6p04uHhhPmv"
      },
      "source": [
        "#### Estimating Probabilities\n",
        "\n",
        "**Example Question.** What the the probability that  3 or more of the 5 chips will be blue."
      ]
    },
    {
      "cell_type": "code",
      "execution_count": 11,
      "metadata": {
        "colab": {
          "base_uri": "https://localhost:8080/",
          "height": 128
        },
        "id": "e14pVYg9j2H7",
        "outputId": "5ff99117-f75c-48aa-d79e-82ced9e70a36"
      },
      "outputs": [
        {
          "output_type": "display_data",
          "data": {
            "text/html": [
              "<table class=\"dataframe\">\n",
              "<caption>A tibble: 1 × 2</caption>\n",
              "<thead>\n",
              "\t<tr><th scope=col>three.or.more</th><th scope=col>exact.prob</th></tr>\n",
              "\t<tr><th scope=col>&lt;dbl&gt;</th><th scope=col>&lt;dbl&gt;</th></tr>\n",
              "</thead>\n",
              "<tbody>\n",
              "\t<tr><td>0.69765</td><td>0.6988142</td></tr>\n",
              "</tbody>\n",
              "</table>\n"
            ],
            "text/markdown": "\nA tibble: 1 × 2\n\n| three.or.more &lt;dbl&gt; | exact.prob &lt;dbl&gt; |\n|---|---|\n| 0.69765 | 0.6988142 |\n\n",
            "text/latex": "A tibble: 1 × 2\n\\begin{tabular}{ll}\n three.or.more & exact.prob\\\\\n <dbl> & <dbl>\\\\\n\\hline\n\t 0.69765 & 0.6988142\\\\\n\\end{tabular}\n",
            "text/plain": [
              "  three.or.more exact.prob\n",
              "1 0.69765       0.6988142 "
            ]
          },
          "metadata": {}
        }
      ],
      "source": [
        "N <- 25\n",
        "r <- 15\n",
        "n <- 5\n",
        "num.trials <- 100000\n",
        "(replicate_int(num.trials, rhyper(1, r, N - r, n))\n",
        " %>% mutate(three.or.more = .outcome >= 3)\n",
        " %>% estimate_all_prob\n",
        " %>% mutate(exact.prob = sum(dhyper(3:5, r, N - r, n)))\n",
        ")\n"
      ]
    },
    {
      "cell_type": "markdown",
      "metadata": {
        "id": "iKnUqUHdHNtv"
      },
      "source": [
        "#### Estimating the Distribution"
      ]
    },
    {
      "cell_type": "code",
      "execution_count": 12,
      "metadata": {
        "colab": {
          "base_uri": "https://localhost:8080/",
          "height": 128
        },
        "id": "-7stN3FwHirU",
        "outputId": "442e29ac-53e0-493d-aa7c-27e85473d6f1"
      },
      "outputs": [
        {
          "output_type": "display_data",
          "data": {
            "text/html": [
              "<table class=\"dataframe\">\n",
              "<caption>A tibble: 1 × 6</caption>\n",
              "<thead>\n",
              "\t<tr><th scope=col>X = 0</th><th scope=col>X = 1</th><th scope=col>X = 2</th><th scope=col>X = 3</th><th scope=col>X = 4</th><th scope=col>X = 5</th></tr>\n",
              "\t<tr><th scope=col>&lt;dbl&gt;</th><th scope=col>&lt;dbl&gt;</th><th scope=col>&lt;dbl&gt;</th><th scope=col>&lt;dbl&gt;</th><th scope=col>&lt;dbl&gt;</th><th scope=col>&lt;dbl&gt;</th></tr>\n",
              "</thead>\n",
              "<tbody>\n",
              "\t<tr><td>0.00451</td><td>0.05968</td><td>0.23669</td><td>0.38508</td><td>0.2574</td><td>0.05664</td></tr>\n",
              "</tbody>\n",
              "</table>\n"
            ],
            "text/markdown": "\nA tibble: 1 × 6\n\n| X = 0 &lt;dbl&gt; | X = 1 &lt;dbl&gt; | X = 2 &lt;dbl&gt; | X = 3 &lt;dbl&gt; | X = 4 &lt;dbl&gt; | X = 5 &lt;dbl&gt; |\n|---|---|---|---|---|---|\n| 0.00451 | 0.05968 | 0.23669 | 0.38508 | 0.2574 | 0.05664 |\n\n",
            "text/latex": "A tibble: 1 × 6\n\\begin{tabular}{llllll}\n X = 0 & X = 1 & X = 2 & X = 3 & X = 4 & X = 5\\\\\n <dbl> & <dbl> & <dbl> & <dbl> & <dbl> & <dbl>\\\\\n\\hline\n\t 0.00451 & 0.05968 & 0.23669 & 0.38508 & 0.2574 & 0.05664\\\\\n\\end{tabular}\n",
            "text/plain": [
              "  X = 0   X = 1   X = 2   X = 3   X = 4  X = 5  \n",
              "1 0.00451 0.05968 0.23669 0.38508 0.2574 0.05664"
            ]
          },
          "metadata": {}
        }
      ],
      "source": [
        "N <- 25\n",
        "r <- 15\n",
        "n <- 5\n",
        "num.trials <- 100000\n",
        "(replicate_int(num.trials, rhyper(1, r, N - r, n))\n",
        " %>% tabulate(.outcome)\n",
        ")"
      ]
    },
    {
      "cell_type": "markdown",
      "metadata": {
        "id": "qnimWdrcw-HY"
      },
      "source": [
        "#### Estimating the cut off for the left tail of the distribution.\n",
        "\n",
        "**Example Lower-Tail Task.** Find the cut off for the smallest 5% of number of blue chips."
      ]
    },
    {
      "cell_type": "code",
      "execution_count": 13,
      "metadata": {
        "colab": {
          "base_uri": "https://localhost:8080/",
          "height": 128
        },
        "id": "PfQQUihfxWy5",
        "outputId": "97371865-1a25-4f09-eb17-36a929d79a2c"
      },
      "outputs": [
        {
          "output_type": "display_data",
          "data": {
            "text/html": [
              "<table class=\"dataframe\">\n",
              "<caption>A tibble: 1 × 1</caption>\n",
              "<thead>\n",
              "\t<tr><th scope=col>x.lower.5.percent</th></tr>\n",
              "\t<tr><th scope=col>&lt;dbl&gt;</th></tr>\n",
              "</thead>\n",
              "<tbody>\n",
              "\t<tr><td>1</td></tr>\n",
              "</tbody>\n",
              "</table>\n"
            ],
            "text/markdown": "\nA tibble: 1 × 1\n\n| x.lower.5.percent &lt;dbl&gt; |\n|---|\n| 1 |\n\n",
            "text/latex": "A tibble: 1 × 1\n\\begin{tabular}{l}\n x.lower.5.percent\\\\\n <dbl>\\\\\n\\hline\n\t 1\\\\\n\\end{tabular}\n",
            "text/plain": [
              "  x.lower.5.percent\n",
              "1 1                "
            ]
          },
          "metadata": {}
        }
      ],
      "source": [
        "N <- 25\n",
        "r <- 15\n",
        "n <- 5\n",
        "left.tail.percent <- 0.05\n",
        "num.trials <- 100000\n",
        "(replicate_int(num.trials, rhyper(1, r, N - r, n))\n",
        " %>% summarise(x.lower.5.percent = quantile(.outcome, left.tail.percent))\n",
        ")"
      ]
    },
    {
      "cell_type": "markdown",
      "metadata": {
        "id": "WVEb3-q7Nxq2"
      },
      "source": [
        "#### Example Upper-Tail Task - Find the cut off for the largest 10% of number of blue chips"
      ]
    },
    {
      "cell_type": "code",
      "execution_count": 14,
      "metadata": {
        "colab": {
          "base_uri": "https://localhost:8080/",
          "height": 128
        },
        "id": "sBwZ-hiIN4vm",
        "outputId": "dab8222e-5ecd-4654-93a1-690285f2bff9"
      },
      "outputs": [
        {
          "output_type": "display_data",
          "data": {
            "text/html": [
              "<table class=\"dataframe\">\n",
              "<caption>A tibble: 1 × 1</caption>\n",
              "<thead>\n",
              "\t<tr><th scope=col>x.upper.10.percent</th></tr>\n",
              "\t<tr><th scope=col>&lt;dbl&gt;</th></tr>\n",
              "</thead>\n",
              "<tbody>\n",
              "\t<tr><td>5</td></tr>\n",
              "</tbody>\n",
              "</table>\n"
            ],
            "text/markdown": "\nA tibble: 1 × 1\n\n| x.upper.10.percent &lt;dbl&gt; |\n|---|\n| 5 |\n\n",
            "text/latex": "A tibble: 1 × 1\n\\begin{tabular}{l}\n x.upper.10.percent\\\\\n <dbl>\\\\\n\\hline\n\t 5\\\\\n\\end{tabular}\n",
            "text/plain": [
              "  x.upper.10.percent\n",
              "1 5                 "
            ]
          },
          "metadata": {}
        }
      ],
      "source": [
        "N <- 25\n",
        "r <- 15\n",
        "n <- 5\n",
        "left.tail.percent <- 1 - 0.10\n",
        "num.trials <- 100000\n",
        "(replicate_int(num.trials, rhyper(1, r, N - r, n))\n",
        " %>% summarise(x.upper.10.percent = quantile(.outcome, left.tail.percent) + 1)\n",
        ")"
      ]
    },
    {
      "cell_type": "markdown",
      "metadata": {
        "id": "OuNvrVWaD88x"
      },
      "source": [
        "####  Estimating the mean, variance, and standard deviation number of blue chips and compare to theoretical values"
      ]
    },
    {
      "cell_type": "code",
      "execution_count": 15,
      "metadata": {
        "colab": {
          "base_uri": "https://localhost:8080/",
          "height": 128
        },
        "id": "zfJ8B5dLEouy",
        "outputId": "edc553fa-d771-4379-feab-3ea7b8ba8c37"
      },
      "outputs": [
        {
          "output_type": "display_data",
          "data": {
            "text/html": [
              "<table class=\"dataframe\">\n",
              "<caption>A tibble: 1 × 6</caption>\n",
              "<thead>\n",
              "\t<tr><th scope=col>approx.mu</th><th scope=col>actual.mu</th><th scope=col>approx.var</th><th scope=col>actual.var</th><th scope=col>approx.sd</th><th scope=col>actual.sd</th></tr>\n",
              "\t<tr><th scope=col>&lt;dbl&gt;</th><th scope=col>&lt;dbl&gt;</th><th scope=col>&lt;dbl&gt;</th><th scope=col>&lt;dbl&gt;</th><th scope=col>&lt;dbl&gt;</th><th scope=col>&lt;dbl&gt;</th></tr>\n",
              "</thead>\n",
              "<tbody>\n",
              "\t<tr><td>2.9889</td><td>3</td><td>0.991876</td><td>1</td><td>0.9959297</td><td>1</td></tr>\n",
              "</tbody>\n",
              "</table>\n"
            ],
            "text/markdown": "\nA tibble: 1 × 6\n\n| approx.mu &lt;dbl&gt; | actual.mu &lt;dbl&gt; | approx.var &lt;dbl&gt; | actual.var &lt;dbl&gt; | approx.sd &lt;dbl&gt; | actual.sd &lt;dbl&gt; |\n|---|---|---|---|---|---|\n| 2.9889 | 3 | 0.991876 | 1 | 0.9959297 | 1 |\n\n",
            "text/latex": "A tibble: 1 × 6\n\\begin{tabular}{llllll}\n approx.mu & actual.mu & approx.var & actual.var & approx.sd & actual.sd\\\\\n <dbl> & <dbl> & <dbl> & <dbl> & <dbl> & <dbl>\\\\\n\\hline\n\t 2.9889 & 3 & 0.991876 & 1 & 0.9959297 & 1\\\\\n\\end{tabular}\n",
            "text/plain": [
              "  approx.mu actual.mu approx.var actual.var approx.sd actual.sd\n",
              "1 2.9889    3         0.991876   1          0.9959297 1        "
            ]
          },
          "metadata": {}
        }
      ],
      "source": [
        "N <- 25\n",
        "r <- 15\n",
        "n <- 5\n",
        "p <- r/N\n",
        "finite.correct <- (N - n)/(N - 1)\n",
        "num.trials <- 10000\n",
        "(replicate_int(num.trials, rhyper(1, r, N - r, n))\n",
        "  %>% summarise(approx.mu = mean(.outcome),\n",
        "                approx.var = var(.outcome),\n",
        "                approx.sd = sd(.outcome))\n",
        "  %>% mutate(actual.mu = n*p,\n",
        "             actual.var = n*p*(1-p)*finite.correct,\n",
        "             actual.sd = sqrt(actual.var))\n",
        "  %>% relocate(actual.mu, .after = approx.mu)\n",
        "  %>% relocate(actual.var, .after = approx.var)\n",
        "  %>% relocate(actual.sd, .after = approx.sd)\n",
        ")\n",
        "\n"
      ]
    },
    {
      "cell_type": "markdown",
      "metadata": {
        "id": "rgY5HU3jkbHe"
      },
      "source": [
        "### <font color=\"red\"> Exercise 2.3.1 - Hypergeometric problems </font>\n",
        "\n",
        "In a small pond, there are 50 fish, 10 of which have been tagged.  A fisherman’s catch consists of seven fish, selected at random and without replacement.  Let $X$ represent the number of the seven fish that are tagged.\n",
        "\n",
        "**Tasks.**\n",
        "1. Explain why we should use the hypergeometric distribution here.\n",
        "2. Estimate $P(X≥2)$ two ways: by generating raw outcomes and using `rhyper`.\n",
        "3. Find the cut-off for the largest 25% of the distribution.\n",
        "4. Use  `tabulate` to estimate the PMF of $X$."
      ]
    },
    {
      "cell_type": "code",
      "execution_count": null,
      "metadata": {
        "id": "PJkwDLDD_naB"
      },
      "outputs": [],
      "source": [
        "# Your code there"
      ]
    },
    {
      "cell_type": "markdown",
      "metadata": {
        "id": "v_lZqV6bbr3C"
      },
      "source": [
        "### <font color=\"red\"> Exercise 2.3.2 - Estimating the population size </font>\n",
        "\n",
        "Using the same set up as the last problem (50 fish; 10 of which have been tagged; catch consists of seven fish) and again let $X$ represent the number of the seven fish that are tagged.  Imagine the the fisherman doesn't know the total number of fish in the pond, but *does* know that there are 10 tagged fish.  She will using the following formula to estimate $\\hat{N} \\approx r/\\hat{p}$ the total number of fish in the lake, where $\\hat{p}$ is the sample proportion of tagged fish.\n",
        "\n",
        "**Tasks.**\n",
        "1. Note that the proportion of tagged fish in the pond is given by $p=\\frac{r}{N}$ Use this fact to explain why the estimation formula makes sense.\n",
        "2. Set up a simulation to estimate the PMF of $\\hat{N}$.\n",
        "3. Esimate the mean, variance, and SD of $\\hat{N}$.\n",
        "4. An estimate is said to be **unbiased** if the expected value of the estimate is the same as the actual population value.  Is this estimator unbiased?  Explain."
      ]
    },
    {
      "cell_type": "code",
      "execution_count": null,
      "metadata": {
        "id": "s_dOuZPzbr3C"
      },
      "outputs": [],
      "source": [
        "# Your code there"
      ]
    }
  ],
  "metadata": {
    "colab": {
      "provenance": [],
      "include_colab_link": true
    },
    "kernelspec": {
      "display_name": "R",
      "language": "R",
      "name": "ir"
    },
    "language_info": {
      "codemirror_mode": "r",
      "file_extension": ".r",
      "mimetype": "text/x-r-source",
      "name": "R",
      "pygments_lexer": "r",
      "version": "4.2.3"
    },
    "varInspector": {
      "cols": {
        "lenName": 16,
        "lenType": 16,
        "lenVar": 40
      },
      "kernels_config": {
        "python": {
          "delete_cmd_postfix": "",
          "delete_cmd_prefix": "del ",
          "library": "var_list.py",
          "varRefreshCmd": "print(var_dic_list())"
        },
        "r": {
          "delete_cmd_postfix": ") ",
          "delete_cmd_prefix": "rm(",
          "library": "var_list.r",
          "varRefreshCmd": "cat(var_dic_list()) "
        }
      },
      "types_to_exclude": [
        "module",
        "function",
        "builtin_function_or_method",
        "instance",
        "_Feature"
      ],
      "window_display": false
    }
  },
  "nbformat": 4,
  "nbformat_minor": 0
}